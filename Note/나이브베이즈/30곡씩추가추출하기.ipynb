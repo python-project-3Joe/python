{
 "cells": [
  {
   "cell_type": "code",
   "execution_count": 1,
   "metadata": {},
   "outputs": [],
   "source": [
    "import pandas as pd\n",
    "import numpy as np\n",
    "import random"
   ]
  },
  {
   "cell_type": "code",
   "execution_count": 39,
   "metadata": {},
   "outputs": [
    {
     "data": {
      "text/plain": [
       "1940"
      ]
     },
     "execution_count": 39,
     "metadata": {},
     "output_type": "execute_result"
    }
   ],
   "source": [
    "Bayes_ballad2000 = pd.read_csv(\"../../Data/Bayes_ballad2000.csv\")\n",
    "len(Bayes_ballad2000)"
   ]
  },
  {
   "cell_type": "markdown",
   "metadata": {},
   "source": [
    "### 감정별로 분류하기\n",
    "---"
   ]
  },
  {
   "cell_type": "code",
   "execution_count": 40,
   "metadata": {},
   "outputs": [],
   "source": [
    "# 감정별로 분류하기\n",
    "Bayes_ballad2000.sort_values('감정', inplace=True)"
   ]
  },
  {
   "cell_type": "code",
   "execution_count": 44,
   "metadata": {},
   "outputs": [
    {
     "data": {
      "text/plain": [
       "1390    happy\n",
       "500     happy\n",
       "182     happy\n",
       "1674    happy\n",
       "1373    happy\n",
       "        ...  \n",
       "454       sad\n",
       "1210      sad\n",
       "453       sad\n",
       "1196      sad\n",
       "0         sad\n",
       "Name: 감정, Length: 1940, dtype: object"
      ]
     },
     "execution_count": 44,
     "metadata": {},
     "output_type": "execute_result"
    }
   ],
   "source": [
    "Bayes_ballad2000['감정']"
   ]
  },
  {
   "cell_type": "code",
   "execution_count": 45,
   "metadata": {},
   "outputs": [],
   "source": [
    "happy = Bayes_ballad2000['감정'] == 'happy'\n",
    "regret = Bayes_ballad2000['감정'] == 'regret'\n",
    "sad = Bayes_ballad2000['감정'] == 'sad'\n",
    "indifference = Bayes_ballad2000['감정'] == 'indifference'"
   ]
  },
  {
   "cell_type": "code",
   "execution_count": 58,
   "metadata": {},
   "outputs": [],
   "source": [
    "# 감정 = 'happy'(기쁨)\n",
    "Bayes_ballad2000_happy = Bayes_ballad2000[happy]\n",
    "# 감정 = 'regret'(후회)\n",
    "Bayes_ballad2000_regret = Bayes_ballad2000[regret]\n",
    "# 감정 = 'sad'(슬픔)\n",
    "Bayes_ballad2000_sad = Bayes_ballad2000[sad]\n",
    "# 감정 = 'indifference'(무관심)\n",
    "Bayes_ballad2000_indifference = Bayes_ballad2000[indifference]"
   ]
  },
  {
   "cell_type": "code",
   "execution_count": 59,
   "metadata": {},
   "outputs": [
    {
     "data": {
      "text/html": [
       "<div>\n",
       "<style scoped>\n",
       "    .dataframe tbody tr th:only-of-type {\n",
       "        vertical-align: middle;\n",
       "    }\n",
       "\n",
       "    .dataframe tbody tr th {\n",
       "        vertical-align: top;\n",
       "    }\n",
       "\n",
       "    .dataframe thead th {\n",
       "        text-align: right;\n",
       "    }\n",
       "</style>\n",
       "<table border=\"1\" class=\"dataframe\">\n",
       "  <thead>\n",
       "    <tr style=\"text-align: right;\">\n",
       "      <th></th>\n",
       "      <th>가수명</th>\n",
       "      <th>노래제목</th>\n",
       "      <th>발매일</th>\n",
       "      <th>가사</th>\n",
       "      <th>좋아요수</th>\n",
       "      <th>순위</th>\n",
       "      <th>감정</th>\n",
       "    </tr>\n",
       "  </thead>\n",
       "  <tbody>\n",
       "    <tr>\n",
       "      <th>1390</th>\n",
       "      <td>양파</td>\n",
       "      <td>애송이의 사랑</td>\n",
       "      <td>1997-11-01</td>\n",
       "      <td>잠 못 이룬 새벽 난 꿈을 꾸고 있어 흐느낀 만큼 지친 눈으로 바라본 우리의 사랑은...</td>\n",
       "      <td>15206</td>\n",
       "      <td>1441</td>\n",
       "      <td>happy</td>\n",
       "    </tr>\n",
       "    <tr>\n",
       "      <th>500</th>\n",
       "      <td>소유 (SOYOU)</td>\n",
       "      <td>I Miss You</td>\n",
       "      <td>2016-12-31</td>\n",
       "      <td>바라보면 자꾸 눈물이 나는 건왠지 몰라도돌고 돌아 내게 오고 있었나요피해지지 않는 ...</td>\n",
       "      <td>120384</td>\n",
       "      <td>535</td>\n",
       "      <td>happy</td>\n",
       "    </tr>\n",
       "    <tr>\n",
       "      <th>182</th>\n",
       "      <td>태연 (TAEYEON)</td>\n",
       "      <td>Fine</td>\n",
       "      <td>2017-02-28</td>\n",
       "      <td>찢어진 종잇조각에 담아낸 나의 진심에 선명해져 somethin' bout you Y...</td>\n",
       "      <td>189703</td>\n",
       "      <td>205</td>\n",
       "      <td>happy</td>\n",
       "    </tr>\n",
       "    <tr>\n",
       "      <th>1674</th>\n",
       "      <td>진</td>\n",
       "      <td>Yours</td>\n",
       "      <td>2021-11-07</td>\n",
       "      <td>깊어진 하루 길어진 내 그림자 저 멀리 해는 저물고 있어 짙어 가는 어둠 속에서 헤...</td>\n",
       "      <td>46415</td>\n",
       "      <td>1731</td>\n",
       "      <td>happy</td>\n",
       "    </tr>\n",
       "    <tr>\n",
       "      <th>1373</th>\n",
       "      <td>Red Velvet (레드벨벳)</td>\n",
       "      <td>In My Dreams</td>\n",
       "      <td>2022-03-21</td>\n",
       "      <td>In my dreams you love me back 꼭 춤추듯이 둘만의 공중을 돌...</td>\n",
       "      <td>16259</td>\n",
       "      <td>1424</td>\n",
       "      <td>happy</td>\n",
       "    </tr>\n",
       "    <tr>\n",
       "      <th>...</th>\n",
       "      <td>...</td>\n",
       "      <td>...</td>\n",
       "      <td>...</td>\n",
       "      <td>...</td>\n",
       "      <td>...</td>\n",
       "      <td>...</td>\n",
       "      <td>...</td>\n",
       "    </tr>\n",
       "    <tr>\n",
       "      <th>1764</th>\n",
       "      <td>포맨 (4MEN)</td>\n",
       "      <td>U</td>\n",
       "      <td>2010-08-26</td>\n",
       "      <td>시간이 멈춘 것 같아 내 두 볼을 꼬집어 심장이 멈춘 것 같아 내 입술을 깨물고 사...</td>\n",
       "      <td>17884</td>\n",
       "      <td>1821</td>\n",
       "      <td>happy</td>\n",
       "    </tr>\n",
       "    <tr>\n",
       "      <th>1237</th>\n",
       "      <td>유승우</td>\n",
       "      <td>예뻐서 (Feat. 루이 Of 긱스) (You're beautiful)</td>\n",
       "      <td>2015-07-29</td>\n",
       "      <td>예뻐서 그 얼굴이 너무 예뻐서 준비해놨던 얘기들 또 못했어 니가 웃을 땐 온 세상이...</td>\n",
       "      <td>54870</td>\n",
       "      <td>1287</td>\n",
       "      <td>happy</td>\n",
       "    </tr>\n",
       "    <tr>\n",
       "      <th>93</th>\n",
       "      <td>카더가든</td>\n",
       "      <td>나무</td>\n",
       "      <td>2019-04-16</td>\n",
       "      <td>인사 하네요 근심없게 나 아름다운 방식으로 무딘 목소리와 어설픈 자국들 날 화려하게...</td>\n",
       "      <td>81662</td>\n",
       "      <td>111</td>\n",
       "      <td>happy</td>\n",
       "    </tr>\n",
       "    <tr>\n",
       "      <th>760</th>\n",
       "      <td>장나라</td>\n",
       "      <td>Sweet Dream</td>\n",
       "      <td>2002-10-02</td>\n",
       "      <td>It's gonna be another day with a sunshine 햇살은 ...</td>\n",
       "      <td>30045</td>\n",
       "      <td>803</td>\n",
       "      <td>happy</td>\n",
       "    </tr>\n",
       "    <tr>\n",
       "      <th>122</th>\n",
       "      <td>케이윌</td>\n",
       "      <td>내 생에 아름다운</td>\n",
       "      <td>2018-10-23</td>\n",
       "      <td>Don't walk away I'm falling down Don't walk aw...</td>\n",
       "      <td>165453</td>\n",
       "      <td>142</td>\n",
       "      <td>happy</td>\n",
       "    </tr>\n",
       "  </tbody>\n",
       "</table>\n",
       "<p>219 rows × 7 columns</p>\n",
       "</div>"
      ],
      "text/plain": [
       "                    가수명                                     노래제목         발매일  \\\n",
       "1390                 양파                                  애송이의 사랑  1997-11-01   \n",
       "500          소유 (SOYOU)                               I Miss You  2016-12-31   \n",
       "182        태연 (TAEYEON)                                     Fine  2017-02-28   \n",
       "1674                  진                                    Yours  2021-11-07   \n",
       "1373  Red Velvet (레드벨벳)                             In My Dreams  2022-03-21   \n",
       "...                 ...                                      ...         ...   \n",
       "1764          포맨 (4MEN)                                        U  2010-08-26   \n",
       "1237                유승우  예뻐서 (Feat. 루이 Of 긱스) (You're beautiful)  2015-07-29   \n",
       "93                 카더가든                                       나무  2019-04-16   \n",
       "760                 장나라                              Sweet Dream  2002-10-02   \n",
       "122                 케이윌                                내 생에 아름다운  2018-10-23   \n",
       "\n",
       "                                                     가사    좋아요수    순위     감정  \n",
       "1390  잠 못 이룬 새벽 난 꿈을 꾸고 있어 흐느낀 만큼 지친 눈으로 바라본 우리의 사랑은...   15206  1441  happy  \n",
       "500   바라보면 자꾸 눈물이 나는 건왠지 몰라도돌고 돌아 내게 오고 있었나요피해지지 않는 ...  120384   535  happy  \n",
       "182   찢어진 종잇조각에 담아낸 나의 진심에 선명해져 somethin' bout you Y...  189703   205  happy  \n",
       "1674  깊어진 하루 길어진 내 그림자 저 멀리 해는 저물고 있어 짙어 가는 어둠 속에서 헤...   46415  1731  happy  \n",
       "1373  In my dreams you love me back 꼭 춤추듯이 둘만의 공중을 돌...   16259  1424  happy  \n",
       "...                                                 ...     ...   ...    ...  \n",
       "1764  시간이 멈춘 것 같아 내 두 볼을 꼬집어 심장이 멈춘 것 같아 내 입술을 깨물고 사...   17884  1821  happy  \n",
       "1237  예뻐서 그 얼굴이 너무 예뻐서 준비해놨던 얘기들 또 못했어 니가 웃을 땐 온 세상이...   54870  1287  happy  \n",
       "93    인사 하네요 근심없게 나 아름다운 방식으로 무딘 목소리와 어설픈 자국들 날 화려하게...   81662   111  happy  \n",
       "760   It's gonna be another day with a sunshine 햇살은 ...   30045   803  happy  \n",
       "122   Don't walk away I'm falling down Don't walk aw...  165453   142  happy  \n",
       "\n",
       "[219 rows x 7 columns]"
      ]
     },
     "execution_count": 59,
     "metadata": {},
     "output_type": "execute_result"
    }
   ],
   "source": [
    "Bayes_ballad2000_happy"
   ]
  },
  {
   "cell_type": "markdown",
   "metadata": {},
   "source": [
    "---\n",
    "### 기쁨 30곡 추출하기"
   ]
  },
  {
   "cell_type": "code",
   "execution_count": 65,
   "metadata": {},
   "outputs": [
    {
     "data": {
      "text/plain": [
       "49"
      ]
     },
     "execution_count": 65,
     "metadata": {},
     "output_type": "execute_result"
    }
   ],
   "source": [
    "# 기쁨\n",
    "len(Bayes_ballad2000_happy)\n"
   ]
  },
  {
   "cell_type": "code",
   "execution_count": 63,
   "metadata": {},
   "outputs": [
    {
     "data": {
      "text/plain": [
       "30"
      ]
     },
     "execution_count": 63,
     "metadata": {},
     "output_type": "execute_result"
    }
   ],
   "source": [
    "ran = range(0,219)\n",
    "happy30 = sorted(random.sample(ran, 30))\n",
    "len(happy30)"
   ]
  },
  {
   "cell_type": "code",
   "execution_count": 79,
   "metadata": {},
   "outputs": [
    {
     "name": "stdout",
     "output_type": "stream",
     "text": [
      "<class 'pandas.core.frame.DataFrame'>\n",
      "RangeIndex: 30 entries, 0 to 29\n",
      "Data columns (total 7 columns):\n",
      " #   Column  Non-Null Count  Dtype \n",
      "---  ------  --------------  ----- \n",
      " 0   가수명     30 non-null     object\n",
      " 1   노래제목    30 non-null     object\n",
      " 2   발매일     30 non-null     object\n",
      " 3   가사      30 non-null     object\n",
      " 4   좋아요수    30 non-null     object\n",
      " 5   순위      30 non-null     int64 \n",
      " 6   감정      30 non-null     object\n",
      "dtypes: int64(1), object(6)\n",
      "memory usage: 1.8+ KB\n"
     ]
    }
   ],
   "source": [
    "ballad2000_happy30 = Bayes_ballad2000_happy.iloc[happy30, :]\n",
    "ballad2000_happy30 = ballad2000_happy30.reset_index(drop=True)\n",
    "ballad2000_happy30.info()"
   ]
  },
  {
   "cell_type": "markdown",
   "metadata": {},
   "source": [
    "---\n",
    "### 후회 30곡 추출하기"
   ]
  },
  {
   "cell_type": "code",
   "execution_count": 66,
   "metadata": {},
   "outputs": [
    {
     "data": {
      "text/plain": [
       "737"
      ]
     },
     "execution_count": 66,
     "metadata": {},
     "output_type": "execute_result"
    }
   ],
   "source": [
    "len(Bayes_ballad2000_regret)"
   ]
  },
  {
   "cell_type": "code",
   "execution_count": 67,
   "metadata": {},
   "outputs": [
    {
     "data": {
      "text/plain": [
       "30"
      ]
     },
     "execution_count": 67,
     "metadata": {},
     "output_type": "execute_result"
    }
   ],
   "source": [
    "ran = range(0,737)\n",
    "regret30 = sorted(random.sample(ran, 30))\n",
    "len(regret30)"
   ]
  },
  {
   "cell_type": "code",
   "execution_count": 78,
   "metadata": {},
   "outputs": [
    {
     "name": "stdout",
     "output_type": "stream",
     "text": [
      "<class 'pandas.core.frame.DataFrame'>\n",
      "Int64Index: 30 entries, 1157 to 630\n",
      "Data columns (total 7 columns):\n",
      " #   Column  Non-Null Count  Dtype \n",
      "---  ------  --------------  ----- \n",
      " 0   가수명     30 non-null     object\n",
      " 1   노래제목    30 non-null     object\n",
      " 2   발매일     30 non-null     object\n",
      " 3   가사      30 non-null     object\n",
      " 4   좋아요수    30 non-null     object\n",
      " 5   순위      30 non-null     int64 \n",
      " 6   감정      30 non-null     object\n",
      "dtypes: int64(1), object(6)\n",
      "memory usage: 1.9+ KB\n"
     ]
    }
   ],
   "source": [
    "ballad2000_regret30 = Bayes_ballad2000_regret.iloc[regret30, :]\n",
    "Bayes_ballad2000_regret = Bayes_ballad2000_regret.reset_index(drop=True)\n",
    "ballad2000_regret30.info()"
   ]
  },
  {
   "cell_type": "markdown",
   "metadata": {},
   "source": [
    "---\n",
    "### 슬픔 30곡 추출하기"
   ]
  },
  {
   "cell_type": "code",
   "execution_count": 69,
   "metadata": {},
   "outputs": [
    {
     "data": {
      "text/plain": [
       "935"
      ]
     },
     "execution_count": 69,
     "metadata": {},
     "output_type": "execute_result"
    }
   ],
   "source": [
    "len(Bayes_ballad2000_sad)"
   ]
  },
  {
   "cell_type": "code",
   "execution_count": 71,
   "metadata": {},
   "outputs": [
    {
     "data": {
      "text/plain": [
       "30"
      ]
     },
     "execution_count": 71,
     "metadata": {},
     "output_type": "execute_result"
    }
   ],
   "source": [
    "ran = range(0,935)\n",
    "sad30 = sorted(random.sample(ran, 30))\n",
    "len(sad30)"
   ]
  },
  {
   "cell_type": "code",
   "execution_count": 76,
   "metadata": {},
   "outputs": [
    {
     "name": "stdout",
     "output_type": "stream",
     "text": [
      "<class 'pandas.core.frame.DataFrame'>\n",
      "RangeIndex: 30 entries, 0 to 29\n",
      "Data columns (total 7 columns):\n",
      " #   Column  Non-Null Count  Dtype \n",
      "---  ------  --------------  ----- \n",
      " 0   가수명     30 non-null     object\n",
      " 1   노래제목    30 non-null     object\n",
      " 2   발매일     30 non-null     object\n",
      " 3   가사      30 non-null     object\n",
      " 4   좋아요수    30 non-null     object\n",
      " 5   순위      30 non-null     int64 \n",
      " 6   감정      30 non-null     object\n",
      "dtypes: int64(1), object(6)\n",
      "memory usage: 1.8+ KB\n"
     ]
    }
   ],
   "source": [
    "ballad2000_sad30 = Bayes_ballad2000_sad.iloc[sad30, :]\n",
    "ballad2000_sad30 = ballad2000_sad30.reset_index(drop=True)\n",
    "ballad2000_sad30.info()"
   ]
  },
  {
   "cell_type": "markdown",
   "metadata": {},
   "source": [
    "---\n",
    "### 무관심 30곡 추출하기"
   ]
  },
  {
   "cell_type": "code",
   "execution_count": 70,
   "metadata": {},
   "outputs": [
    {
     "data": {
      "text/plain": [
       "49"
      ]
     },
     "execution_count": 70,
     "metadata": {},
     "output_type": "execute_result"
    }
   ],
   "source": [
    "len(Bayes_ballad2000_indifference)"
   ]
  },
  {
   "cell_type": "code",
   "execution_count": 72,
   "metadata": {},
   "outputs": [
    {
     "data": {
      "text/plain": [
       "30"
      ]
     },
     "execution_count": 72,
     "metadata": {},
     "output_type": "execute_result"
    }
   ],
   "source": [
    "ran = range(0,49)\n",
    "indifference30 = sorted(random.sample(ran, 30))\n",
    "len(indifference30)"
   ]
  },
  {
   "cell_type": "code",
   "execution_count": 74,
   "metadata": {},
   "outputs": [
    {
     "name": "stdout",
     "output_type": "stream",
     "text": [
      "<class 'pandas.core.frame.DataFrame'>\n",
      "Int64Index: 30 entries, 1269 to 65\n",
      "Data columns (total 7 columns):\n",
      " #   Column  Non-Null Count  Dtype \n",
      "---  ------  --------------  ----- \n",
      " 0   가수명     30 non-null     object\n",
      " 1   노래제목    30 non-null     object\n",
      " 2   발매일     30 non-null     object\n",
      " 3   가사      30 non-null     object\n",
      " 4   좋아요수    30 non-null     object\n",
      " 5   순위      30 non-null     int64 \n",
      " 6   감정      30 non-null     object\n",
      "dtypes: int64(1), object(6)\n",
      "memory usage: 1.9+ KB\n"
     ]
    }
   ],
   "source": [
    "ballad2000_indifference30 = Bayes_ballad2000_indifference.iloc[indifference30, :]\n",
    "ballad2000_indifference30 = ballad2000_indifference30.reset_index(drop=True)\n",
    "ballad2000_indifference30.info()"
   ]
  },
  {
   "cell_type": "markdown",
   "metadata": {},
   "source": [
    "---\n",
    "### 200곡으로 합쳐서 csv 파일로 만들기"
   ]
  },
  {
   "cell_type": "code",
   "execution_count": 118,
   "metadata": {},
   "outputs": [
    {
     "data": {
      "text/plain": [
       "80"
      ]
     },
     "execution_count": 118,
     "metadata": {},
     "output_type": "execute_result"
    }
   ],
   "source": [
    "train_data80 = pd.read_csv(\"../../Data/train_data.csv\")\n",
    "len(train_data80)"
   ]
  },
  {
   "cell_type": "code",
   "execution_count": 119,
   "metadata": {},
   "outputs": [
    {
     "data": {
      "text/html": [
       "<div>\n",
       "<style scoped>\n",
       "    .dataframe tbody tr th:only-of-type {\n",
       "        vertical-align: middle;\n",
       "    }\n",
       "\n",
       "    .dataframe tbody tr th {\n",
       "        vertical-align: top;\n",
       "    }\n",
       "\n",
       "    .dataframe thead th {\n",
       "        text-align: right;\n",
       "    }\n",
       "</style>\n",
       "<table border=\"1\" class=\"dataframe\">\n",
       "  <thead>\n",
       "    <tr style=\"text-align: right;\">\n",
       "      <th></th>\n",
       "      <th>가수명</th>\n",
       "      <th>노래제목</th>\n",
       "      <th>발매일</th>\n",
       "      <th>가사</th>\n",
       "      <th>좋아요수</th>\n",
       "      <th>감정</th>\n",
       "    </tr>\n",
       "  </thead>\n",
       "  <tbody>\n",
       "    <tr>\n",
       "      <th>0</th>\n",
       "      <td>양다일</td>\n",
       "      <td>Darling</td>\n",
       "      <td>2020-11-23</td>\n",
       "      <td>Oh darling 처음 널 만나면 수줍은 대화들로 사랑에 빠질 거야 My darl...</td>\n",
       "      <td>10907</td>\n",
       "      <td>happy</td>\n",
       "    </tr>\n",
       "    <tr>\n",
       "      <th>1</th>\n",
       "      <td>장범준</td>\n",
       "      <td>잠이 오질 않네요</td>\n",
       "      <td>2020-10-24</td>\n",
       "      <td>당신은 날 설레게 만들어 조용한 내 마음 자꾸만 춤추게 해 얼마나 얼마나 날 떨리게...</td>\n",
       "      <td>159018</td>\n",
       "      <td>happy</td>\n",
       "    </tr>\n",
       "    <tr>\n",
       "      <th>2</th>\n",
       "      <td>백아연</td>\n",
       "      <td>어디라도</td>\n",
       "      <td>2020-11-18</td>\n",
       "      <td>우연의 다른 이름은 운명이란 걸 배웠죠 우리 사랑의 끝이 없는 걸 이제서야 알았죠 ...</td>\n",
       "      <td>1622</td>\n",
       "      <td>happy</td>\n",
       "    </tr>\n",
       "    <tr>\n",
       "      <th>3</th>\n",
       "      <td>김제훈</td>\n",
       "      <td>Love Again</td>\n",
       "      <td>2017-02-06</td>\n",
       "      <td>언제부터였을까 따뜻한 휴식을 찾고 있을 때 찾고 있을 때 그때부터였을까 맘이 포근해...</td>\n",
       "      <td>980</td>\n",
       "      <td>happy</td>\n",
       "    </tr>\n",
       "    <tr>\n",
       "      <th>4</th>\n",
       "      <td>김제훈</td>\n",
       "      <td>잠잠</td>\n",
       "      <td>2020-03-17</td>\n",
       "      <td>오랜만에 거길 가봤어 아무도 없는 둘만이 알던 곳 함께 걷던 거리에 서서 아무 말도...</td>\n",
       "      <td>548</td>\n",
       "      <td>happy</td>\n",
       "    </tr>\n",
       "    <tr>\n",
       "      <th>...</th>\n",
       "      <td>...</td>\n",
       "      <td>...</td>\n",
       "      <td>...</td>\n",
       "      <td>...</td>\n",
       "      <td>...</td>\n",
       "      <td>...</td>\n",
       "    </tr>\n",
       "    <tr>\n",
       "      <th>75</th>\n",
       "      <td>#안녕</td>\n",
       "      <td>너의 번호를 누르고 (Prod. 영화처럼)</td>\n",
       "      <td>2019-11-30</td>\n",
       "      <td>우연히 너를 만나서 너의 옆자리에 앉아 그렇게 우린 친해졌어 짧은 시간에 그렇게 가...</td>\n",
       "      <td>109930</td>\n",
       "      <td>indifference</td>\n",
       "    </tr>\n",
       "    <tr>\n",
       "      <th>76</th>\n",
       "      <td>부활</td>\n",
       "      <td>Never Ending Story</td>\n",
       "      <td>2002-09-01</td>\n",
       "      <td>손 닿을 수 없는 저기 어딘가 오늘도 난 숨쉬고 있지만 너와 머물던 작은 의자 위에...</td>\n",
       "      <td>70543</td>\n",
       "      <td>indifference</td>\n",
       "    </tr>\n",
       "    <tr>\n",
       "      <th>77</th>\n",
       "      <td>Chocolat.D (쇼콜라디)</td>\n",
       "      <td>그날에 우리</td>\n",
       "      <td>2016-02-05</td>\n",
       "      <td>그날에 우리 예감했었지 끊어질 것 같은 우리의 사랑 차마 말하지 못했지 마지막 그 ...</td>\n",
       "      <td>61</td>\n",
       "      <td>indifference</td>\n",
       "    </tr>\n",
       "    <tr>\n",
       "      <th>78</th>\n",
       "      <td>정승수</td>\n",
       "      <td>되돌릴 수 없는 이별을 해</td>\n",
       "      <td>2021-01-10</td>\n",
       "      <td>혼자 집에 걸어가는 길이 어색해 우리 예전처럼 함께 걷던 그 날이 무색해질 만큼 변...</td>\n",
       "      <td>878</td>\n",
       "      <td>indifference</td>\n",
       "    </tr>\n",
       "    <tr>\n",
       "      <th>79</th>\n",
       "      <td>펀치 (Punch)</td>\n",
       "      <td>헤어지는 중</td>\n",
       "      <td>2018-09-12</td>\n",
       "      <td>나를 사랑하나요 같은 곳을 보나요 이미 알고 있어요 아닌 걸 알죠 배우지 않았어도 ...</td>\n",
       "      <td>125919</td>\n",
       "      <td>indifference</td>\n",
       "    </tr>\n",
       "  </tbody>\n",
       "</table>\n",
       "<p>80 rows × 6 columns</p>\n",
       "</div>"
      ],
      "text/plain": [
       "                  가수명                     노래제목         발매일  \\\n",
       "0                 양다일                  Darling  2020-11-23   \n",
       "1                 장범준                잠이 오질 않네요  2020-10-24   \n",
       "2                 백아연                     어디라도  2020-11-18   \n",
       "3                 김제훈               Love Again  2017-02-06   \n",
       "4                 김제훈                       잠잠  2020-03-17   \n",
       "..                ...                      ...         ...   \n",
       "75                #안녕  너의 번호를 누르고 (Prod. 영화처럼)  2019-11-30   \n",
       "76                 부활       Never Ending Story  2002-09-01   \n",
       "77  Chocolat.D (쇼콜라디)                   그날에 우리  2016-02-05   \n",
       "78                정승수           되돌릴 수 없는 이별을 해  2021-01-10   \n",
       "79         펀치 (Punch)                   헤어지는 중  2018-09-12   \n",
       "\n",
       "                                                   가사    좋아요수            감정  \n",
       "0   Oh darling 처음 널 만나면 수줍은 대화들로 사랑에 빠질 거야 My darl...   10907         happy  \n",
       "1   당신은 날 설레게 만들어 조용한 내 마음 자꾸만 춤추게 해 얼마나 얼마나 날 떨리게...  159018         happy  \n",
       "2   우연의 다른 이름은 운명이란 걸 배웠죠 우리 사랑의 끝이 없는 걸 이제서야 알았죠 ...    1622         happy  \n",
       "3   언제부터였을까 따뜻한 휴식을 찾고 있을 때 찾고 있을 때 그때부터였을까 맘이 포근해...     980         happy  \n",
       "4   오랜만에 거길 가봤어 아무도 없는 둘만이 알던 곳 함께 걷던 거리에 서서 아무 말도...     548         happy  \n",
       "..                                                ...     ...           ...  \n",
       "75  우연히 너를 만나서 너의 옆자리에 앉아 그렇게 우린 친해졌어 짧은 시간에 그렇게 가...  109930  indifference  \n",
       "76  손 닿을 수 없는 저기 어딘가 오늘도 난 숨쉬고 있지만 너와 머물던 작은 의자 위에...   70543  indifference  \n",
       "77  그날에 우리 예감했었지 끊어질 것 같은 우리의 사랑 차마 말하지 못했지 마지막 그 ...      61  indifference  \n",
       "78  혼자 집에 걸어가는 길이 어색해 우리 예전처럼 함께 걷던 그 날이 무색해질 만큼 변...     878  indifference  \n",
       "79  나를 사랑하나요 같은 곳을 보나요 이미 알고 있어요 아닌 걸 알죠 배우지 않았어도 ...  125919  indifference  \n",
       "\n",
       "[80 rows x 6 columns]"
      ]
     },
     "execution_count": 119,
     "metadata": {},
     "output_type": "execute_result"
    }
   ],
   "source": [
    "train_data80"
   ]
  },
  {
   "cell_type": "code",
   "execution_count": 120,
   "metadata": {},
   "outputs": [],
   "source": [
    "train_data200 = pd.concat([train_data80, ballad2000_indifference30, ballad2000_sad30, ballad2000_regret30, ballad2000_happy30], ignore_index=True)"
   ]
  },
  {
   "cell_type": "code",
   "execution_count": 121,
   "metadata": {},
   "outputs": [
    {
     "data": {
      "text/html": [
       "<div>\n",
       "<style scoped>\n",
       "    .dataframe tbody tr th:only-of-type {\n",
       "        vertical-align: middle;\n",
       "    }\n",
       "\n",
       "    .dataframe tbody tr th {\n",
       "        vertical-align: top;\n",
       "    }\n",
       "\n",
       "    .dataframe thead th {\n",
       "        text-align: right;\n",
       "    }\n",
       "</style>\n",
       "<table border=\"1\" class=\"dataframe\">\n",
       "  <thead>\n",
       "    <tr style=\"text-align: right;\">\n",
       "      <th></th>\n",
       "      <th>가수명</th>\n",
       "      <th>노래제목</th>\n",
       "      <th>발매일</th>\n",
       "      <th>가사</th>\n",
       "      <th>좋아요수</th>\n",
       "      <th>감정</th>\n",
       "      <th>순위</th>\n",
       "    </tr>\n",
       "  </thead>\n",
       "  <tbody>\n",
       "    <tr>\n",
       "      <th>0</th>\n",
       "      <td>양다일</td>\n",
       "      <td>Darling</td>\n",
       "      <td>2020-11-23</td>\n",
       "      <td>Oh darling 처음 널 만나면 수줍은 대화들로 사랑에 빠질 거야 My darl...</td>\n",
       "      <td>10907</td>\n",
       "      <td>happy</td>\n",
       "      <td>NaN</td>\n",
       "    </tr>\n",
       "    <tr>\n",
       "      <th>1</th>\n",
       "      <td>장범준</td>\n",
       "      <td>잠이 오질 않네요</td>\n",
       "      <td>2020-10-24</td>\n",
       "      <td>당신은 날 설레게 만들어 조용한 내 마음 자꾸만 춤추게 해 얼마나 얼마나 날 떨리게...</td>\n",
       "      <td>159018</td>\n",
       "      <td>happy</td>\n",
       "      <td>NaN</td>\n",
       "    </tr>\n",
       "    <tr>\n",
       "      <th>2</th>\n",
       "      <td>백아연</td>\n",
       "      <td>어디라도</td>\n",
       "      <td>2020-11-18</td>\n",
       "      <td>우연의 다른 이름은 운명이란 걸 배웠죠 우리 사랑의 끝이 없는 걸 이제서야 알았죠 ...</td>\n",
       "      <td>1622</td>\n",
       "      <td>happy</td>\n",
       "      <td>NaN</td>\n",
       "    </tr>\n",
       "    <tr>\n",
       "      <th>3</th>\n",
       "      <td>김제훈</td>\n",
       "      <td>Love Again</td>\n",
       "      <td>2017-02-06</td>\n",
       "      <td>언제부터였을까 따뜻한 휴식을 찾고 있을 때 찾고 있을 때 그때부터였을까 맘이 포근해...</td>\n",
       "      <td>980</td>\n",
       "      <td>happy</td>\n",
       "      <td>NaN</td>\n",
       "    </tr>\n",
       "    <tr>\n",
       "      <th>4</th>\n",
       "      <td>김제훈</td>\n",
       "      <td>잠잠</td>\n",
       "      <td>2020-03-17</td>\n",
       "      <td>오랜만에 거길 가봤어 아무도 없는 둘만이 알던 곳 함께 걷던 거리에 서서 아무 말도...</td>\n",
       "      <td>548</td>\n",
       "      <td>happy</td>\n",
       "      <td>NaN</td>\n",
       "    </tr>\n",
       "    <tr>\n",
       "      <th>...</th>\n",
       "      <td>...</td>\n",
       "      <td>...</td>\n",
       "      <td>...</td>\n",
       "      <td>...</td>\n",
       "      <td>...</td>\n",
       "      <td>...</td>\n",
       "      <td>...</td>\n",
       "    </tr>\n",
       "    <tr>\n",
       "      <th>195</th>\n",
       "      <td>WSG워너비 조별경연 (대청봉)</td>\n",
       "      <td>YOU AND I</td>\n",
       "      <td>2022-05-14</td>\n",
       "      <td>OhohOh OhohOh OhohOh Yeah You 내가 쓰러질 때 절대 흔들림 ...</td>\n",
       "      <td>11926</td>\n",
       "      <td>happy</td>\n",
       "      <td>60.0</td>\n",
       "    </tr>\n",
       "    <tr>\n",
       "      <th>196</th>\n",
       "      <td>백예린 (Yerin Baek)</td>\n",
       "      <td>November song</td>\n",
       "      <td>2016-12-07</td>\n",
       "      <td>I take picture of you especially best of you D...</td>\n",
       "      <td>40460</td>\n",
       "      <td>happy</td>\n",
       "      <td>1949.0</td>\n",
       "    </tr>\n",
       "    <tr>\n",
       "      <th>197</th>\n",
       "      <td>조장혁</td>\n",
       "      <td>Love Is Over</td>\n",
       "      <td>2008-12-09</td>\n",
       "      <td>Love is over 내가 곁에 없더라도 울지말고 전처럼 웃으면서 지네요 Love...</td>\n",
       "      <td>16411</td>\n",
       "      <td>happy</td>\n",
       "      <td>1868.0</td>\n",
       "    </tr>\n",
       "    <tr>\n",
       "      <th>198</th>\n",
       "      <td>서인국</td>\n",
       "      <td>All For You</td>\n",
       "      <td>2012-08-28</td>\n",
       "      <td>all for you  벌써 며칠째 전화도 없는 너 얼마 후면 나의 생일이란 걸 아...</td>\n",
       "      <td>186343</td>\n",
       "      <td>happy</td>\n",
       "      <td>137.0</td>\n",
       "    </tr>\n",
       "    <tr>\n",
       "      <th>199</th>\n",
       "      <td>백예린 (Yerin Baek)</td>\n",
       "      <td>아주 오래된 기억</td>\n",
       "      <td>2017-04-15</td>\n",
       "      <td>오늘 있지 나는 너에게 문득 느껴져 아주 두려웠던 순간 그게 어떤 마음인지 그리움 ...</td>\n",
       "      <td>37692</td>\n",
       "      <td>happy</td>\n",
       "      <td>1832.0</td>\n",
       "    </tr>\n",
       "  </tbody>\n",
       "</table>\n",
       "<p>200 rows × 7 columns</p>\n",
       "</div>"
      ],
      "text/plain": [
       "                   가수명           노래제목         발매일  \\\n",
       "0                  양다일        Darling  2020-11-23   \n",
       "1                  장범준      잠이 오질 않네요  2020-10-24   \n",
       "2                  백아연           어디라도  2020-11-18   \n",
       "3                  김제훈     Love Again  2017-02-06   \n",
       "4                  김제훈             잠잠  2020-03-17   \n",
       "..                 ...            ...         ...   \n",
       "195  WSG워너비 조별경연 (대청봉)      YOU AND I  2022-05-14   \n",
       "196   백예린 (Yerin Baek)  November song  2016-12-07   \n",
       "197                조장혁   Love Is Over  2008-12-09   \n",
       "198                서인국    All For You  2012-08-28   \n",
       "199   백예린 (Yerin Baek)      아주 오래된 기억  2017-04-15   \n",
       "\n",
       "                                                    가사    좋아요수     감정      순위  \n",
       "0    Oh darling 처음 널 만나면 수줍은 대화들로 사랑에 빠질 거야 My darl...   10907  happy     NaN  \n",
       "1    당신은 날 설레게 만들어 조용한 내 마음 자꾸만 춤추게 해 얼마나 얼마나 날 떨리게...  159018  happy     NaN  \n",
       "2    우연의 다른 이름은 운명이란 걸 배웠죠 우리 사랑의 끝이 없는 걸 이제서야 알았죠 ...    1622  happy     NaN  \n",
       "3    언제부터였을까 따뜻한 휴식을 찾고 있을 때 찾고 있을 때 그때부터였을까 맘이 포근해...     980  happy     NaN  \n",
       "4    오랜만에 거길 가봤어 아무도 없는 둘만이 알던 곳 함께 걷던 거리에 서서 아무 말도...     548  happy     NaN  \n",
       "..                                                 ...     ...    ...     ...  \n",
       "195  OhohOh OhohOh OhohOh Yeah You 내가 쓰러질 때 절대 흔들림 ...   11926  happy    60.0  \n",
       "196  I take picture of you especially best of you D...   40460  happy  1949.0  \n",
       "197  Love is over 내가 곁에 없더라도 울지말고 전처럼 웃으면서 지네요 Love...   16411  happy  1868.0  \n",
       "198  all for you  벌써 며칠째 전화도 없는 너 얼마 후면 나의 생일이란 걸 아...  186343  happy   137.0  \n",
       "199  오늘 있지 나는 너에게 문득 느껴져 아주 두려웠던 순간 그게 어떤 마음인지 그리움 ...   37692  happy  1832.0  \n",
       "\n",
       "[200 rows x 7 columns]"
      ]
     },
     "execution_count": 121,
     "metadata": {},
     "output_type": "execute_result"
    }
   ],
   "source": [
    "train_data200"
   ]
  },
  {
   "cell_type": "code",
   "execution_count": 122,
   "metadata": {},
   "outputs": [],
   "source": [
    "# 감정으로 정렬시키기\n",
    "train_data200.sort_values(['감정'], inplace=True)"
   ]
  },
  {
   "cell_type": "code",
   "execution_count": 123,
   "metadata": {},
   "outputs": [
    {
     "data": {
      "text/html": [
       "<div>\n",
       "<style scoped>\n",
       "    .dataframe tbody tr th:only-of-type {\n",
       "        vertical-align: middle;\n",
       "    }\n",
       "\n",
       "    .dataframe tbody tr th {\n",
       "        vertical-align: top;\n",
       "    }\n",
       "\n",
       "    .dataframe thead th {\n",
       "        text-align: right;\n",
       "    }\n",
       "</style>\n",
       "<table border=\"1\" class=\"dataframe\">\n",
       "  <thead>\n",
       "    <tr style=\"text-align: right;\">\n",
       "      <th></th>\n",
       "      <th>가수명</th>\n",
       "      <th>노래제목</th>\n",
       "      <th>발매일</th>\n",
       "      <th>가사</th>\n",
       "      <th>좋아요수</th>\n",
       "      <th>감정</th>\n",
       "      <th>순위</th>\n",
       "    </tr>\n",
       "  </thead>\n",
       "  <tbody>\n",
       "    <tr>\n",
       "      <th>0</th>\n",
       "      <td>양다일</td>\n",
       "      <td>Darling</td>\n",
       "      <td>2020-11-23</td>\n",
       "      <td>Oh darling 처음 널 만나면 수줍은 대화들로 사랑에 빠질 거야 My darl...</td>\n",
       "      <td>10907</td>\n",
       "      <td>happy</td>\n",
       "      <td>NaN</td>\n",
       "    </tr>\n",
       "    <tr>\n",
       "      <th>1</th>\n",
       "      <td>f(x)</td>\n",
       "      <td>Goodbye Summer (f(Amber+Luna+Krystal) (Feat. D...</td>\n",
       "      <td>2013-07-29</td>\n",
       "      <td>기억해 복도에서 떠들다 같이  혼나던 우리 둘 벌서면서도 왜 그리도 즐거웠는지  알...</td>\n",
       "      <td>118135</td>\n",
       "      <td>happy</td>\n",
       "      <td>544.0</td>\n",
       "    </tr>\n",
       "    <tr>\n",
       "      <th>2</th>\n",
       "      <td>진영 (GOT7)</td>\n",
       "      <td>달이 될게</td>\n",
       "      <td>2022-06-24</td>\n",
       "      <td>그댄 어젯밤도 선잠에 들었나요 그대 가는 길의 그 끝에 서있나요 두 눈을 감고서 내...</td>\n",
       "      <td>5752</td>\n",
       "      <td>happy</td>\n",
       "      <td>235.0</td>\n",
       "    </tr>\n",
       "    <tr>\n",
       "      <th>3</th>\n",
       "      <td>파란</td>\n",
       "      <td>첫사랑</td>\n",
       "      <td>2005-09-06</td>\n",
       "      <td>&lt;p &lt;br=\"\" believe=\"\" hello=\"\" i=\"\" you-=\"\"&gt;Hel...</td>\n",
       "      <td>15729</td>\n",
       "      <td>happy</td>\n",
       "      <td>1253.0</td>\n",
       "    </tr>\n",
       "    <tr>\n",
       "      <th>4</th>\n",
       "      <td>서현진</td>\n",
       "      <td>사랑이 뭔데</td>\n",
       "      <td>2016-05-17</td>\n",
       "      <td>나른한 햇살이 찾아들면 멍하니 창밖을 바라만보다가지난 생각속에 잠겨 떠올리던 너어디...</td>\n",
       "      <td>63265</td>\n",
       "      <td>happy</td>\n",
       "      <td>957.0</td>\n",
       "    </tr>\n",
       "    <tr>\n",
       "      <th>...</th>\n",
       "      <td>...</td>\n",
       "      <td>...</td>\n",
       "      <td>...</td>\n",
       "      <td>...</td>\n",
       "      <td>...</td>\n",
       "      <td>...</td>\n",
       "      <td>...</td>\n",
       "    </tr>\n",
       "    <tr>\n",
       "      <th>195</th>\n",
       "      <td>정창룡</td>\n",
       "      <td>익숙함에 속아 소중함을 몰랐다 (Feat. 이지용)</td>\n",
       "      <td>2020-06-30</td>\n",
       "      <td>있을 때 잘해 네가 내게 가끔 했던 말 그땐 그냥 웃으면서 넘겼던 그 말 시간이 흘...</td>\n",
       "      <td>9112</td>\n",
       "      <td>sad</td>\n",
       "      <td>1004.0</td>\n",
       "    </tr>\n",
       "    <tr>\n",
       "      <th>196</th>\n",
       "      <td>이예준</td>\n",
       "      <td>미친 소리</td>\n",
       "      <td>2020-01-12</td>\n",
       "      <td>잘 지내 보여 너는 아무 일 없는 듯 참 분주해 보여 딱히 신경 쓸 것도 걱정해 줄...</td>\n",
       "      <td>66760</td>\n",
       "      <td>sad</td>\n",
       "      <td>210.0</td>\n",
       "    </tr>\n",
       "    <tr>\n",
       "      <th>197</th>\n",
       "      <td>하은 (포맨)</td>\n",
       "      <td>혼코노 (Honkono)</td>\n",
       "      <td>2019-10-17</td>\n",
       "      <td>이 동전 하나로 뭘 할 수 있을까 고민 고민하다가 나 혼자 이곳에 왔어 익숙한 번호...</td>\n",
       "      <td>15245</td>\n",
       "      <td>sad</td>\n",
       "      <td>1896.0</td>\n",
       "    </tr>\n",
       "    <tr>\n",
       "      <th>198</th>\n",
       "      <td>더 리슨 (솔지, 김나영, 케이시(Kassy), 승희(오마이걸), HYNN(박혜원))</td>\n",
       "      <td>느린 이별</td>\n",
       "      <td>2021-10-18</td>\n",
       "      <td>행복했던 나의 추억이 아직 내게 가지 말라고 한참 동안 서서 기다리네요 다시 되돌리...</td>\n",
       "      <td>6958</td>\n",
       "      <td>sad</td>\n",
       "      <td>1244.0</td>\n",
       "    </tr>\n",
       "    <tr>\n",
       "      <th>199</th>\n",
       "      <td>멜로망스</td>\n",
       "      <td>우리의 이야기</td>\n",
       "      <td>2021-10-15</td>\n",
       "      <td>홀로 집에 돌아오던 나날들은 지친 맘을 안아주는 날이 됐고 외로움 가득 차 있던 텅...</td>\n",
       "      <td>18952</td>\n",
       "      <td>sad</td>\n",
       "      <td>360.0</td>\n",
       "    </tr>\n",
       "  </tbody>\n",
       "</table>\n",
       "<p>200 rows × 7 columns</p>\n",
       "</div>"
      ],
      "text/plain": [
       "                                                 가수명  \\\n",
       "0                                                양다일   \n",
       "1                                               f(x)   \n",
       "2                                          진영 (GOT7)   \n",
       "3                                                 파란   \n",
       "4                                                서현진   \n",
       "..                                               ...   \n",
       "195                                              정창룡   \n",
       "196                                              이예준   \n",
       "197                                          하은 (포맨)   \n",
       "198  더 리슨 (솔지, 김나영, 케이시(Kassy), 승희(오마이걸), HYNN(박혜원))   \n",
       "199                                             멜로망스   \n",
       "\n",
       "                                                  노래제목         발매일  \\\n",
       "0                                              Darling  2020-11-23   \n",
       "1    Goodbye Summer (f(Amber+Luna+Krystal) (Feat. D...  2013-07-29   \n",
       "2                                                달이 될게  2022-06-24   \n",
       "3                                                  첫사랑  2005-09-06   \n",
       "4                                               사랑이 뭔데  2016-05-17   \n",
       "..                                                 ...         ...   \n",
       "195                       익숙함에 속아 소중함을 몰랐다 (Feat. 이지용)  2020-06-30   \n",
       "196                                              미친 소리  2020-01-12   \n",
       "197                                      혼코노 (Honkono)  2019-10-17   \n",
       "198                                              느린 이별  2021-10-18   \n",
       "199                                            우리의 이야기  2021-10-15   \n",
       "\n",
       "                                                    가사    좋아요수     감정      순위  \n",
       "0    Oh darling 처음 널 만나면 수줍은 대화들로 사랑에 빠질 거야 My darl...   10907  happy     NaN  \n",
       "1    기억해 복도에서 떠들다 같이  혼나던 우리 둘 벌서면서도 왜 그리도 즐거웠는지  알...  118135  happy   544.0  \n",
       "2    그댄 어젯밤도 선잠에 들었나요 그대 가는 길의 그 끝에 서있나요 두 눈을 감고서 내...    5752  happy   235.0  \n",
       "3    <p <br=\"\" believe=\"\" hello=\"\" i=\"\" you-=\"\">Hel...   15729  happy  1253.0  \n",
       "4    나른한 햇살이 찾아들면 멍하니 창밖을 바라만보다가지난 생각속에 잠겨 떠올리던 너어디...   63265  happy   957.0  \n",
       "..                                                 ...     ...    ...     ...  \n",
       "195  있을 때 잘해 네가 내게 가끔 했던 말 그땐 그냥 웃으면서 넘겼던 그 말 시간이 흘...    9112    sad  1004.0  \n",
       "196  잘 지내 보여 너는 아무 일 없는 듯 참 분주해 보여 딱히 신경 쓸 것도 걱정해 줄...   66760    sad   210.0  \n",
       "197  이 동전 하나로 뭘 할 수 있을까 고민 고민하다가 나 혼자 이곳에 왔어 익숙한 번호...   15245    sad  1896.0  \n",
       "198  행복했던 나의 추억이 아직 내게 가지 말라고 한참 동안 서서 기다리네요 다시 되돌리...    6958    sad  1244.0  \n",
       "199  홀로 집에 돌아오던 나날들은 지친 맘을 안아주는 날이 됐고 외로움 가득 차 있던 텅...   18952    sad   360.0  \n",
       "\n",
       "[200 rows x 7 columns]"
      ]
     },
     "execution_count": 123,
     "metadata": {},
     "output_type": "execute_result"
    }
   ],
   "source": [
    "# 인덱스 정렬시키기\n",
    "train_data200 = train_data200.reset_index(drop=True)\n",
    "train_data200"
   ]
  },
  {
   "cell_type": "code",
   "execution_count": 124,
   "metadata": {},
   "outputs": [
    {
     "data": {
      "text/html": [
       "<div>\n",
       "<style scoped>\n",
       "    .dataframe tbody tr th:only-of-type {\n",
       "        vertical-align: middle;\n",
       "    }\n",
       "\n",
       "    .dataframe tbody tr th {\n",
       "        vertical-align: top;\n",
       "    }\n",
       "\n",
       "    .dataframe thead th {\n",
       "        text-align: right;\n",
       "    }\n",
       "</style>\n",
       "<table border=\"1\" class=\"dataframe\">\n",
       "  <thead>\n",
       "    <tr style=\"text-align: right;\">\n",
       "      <th></th>\n",
       "      <th>가수명</th>\n",
       "      <th>노래제목</th>\n",
       "      <th>발매일</th>\n",
       "      <th>가사</th>\n",
       "      <th>좋아요수</th>\n",
       "      <th>감정</th>\n",
       "    </tr>\n",
       "  </thead>\n",
       "  <tbody>\n",
       "    <tr>\n",
       "      <th>0</th>\n",
       "      <td>양다일</td>\n",
       "      <td>Darling</td>\n",
       "      <td>2020-11-23</td>\n",
       "      <td>Oh darling 처음 널 만나면 수줍은 대화들로 사랑에 빠질 거야 My darl...</td>\n",
       "      <td>10907</td>\n",
       "      <td>happy</td>\n",
       "    </tr>\n",
       "    <tr>\n",
       "      <th>1</th>\n",
       "      <td>f(x)</td>\n",
       "      <td>Goodbye Summer (f(Amber+Luna+Krystal) (Feat. D...</td>\n",
       "      <td>2013-07-29</td>\n",
       "      <td>기억해 복도에서 떠들다 같이  혼나던 우리 둘 벌서면서도 왜 그리도 즐거웠는지  알...</td>\n",
       "      <td>118135</td>\n",
       "      <td>happy</td>\n",
       "    </tr>\n",
       "    <tr>\n",
       "      <th>2</th>\n",
       "      <td>진영 (GOT7)</td>\n",
       "      <td>달이 될게</td>\n",
       "      <td>2022-06-24</td>\n",
       "      <td>그댄 어젯밤도 선잠에 들었나요 그대 가는 길의 그 끝에 서있나요 두 눈을 감고서 내...</td>\n",
       "      <td>5752</td>\n",
       "      <td>happy</td>\n",
       "    </tr>\n",
       "    <tr>\n",
       "      <th>3</th>\n",
       "      <td>파란</td>\n",
       "      <td>첫사랑</td>\n",
       "      <td>2005-09-06</td>\n",
       "      <td>&lt;p &lt;br=\"\" believe=\"\" hello=\"\" i=\"\" you-=\"\"&gt;Hel...</td>\n",
       "      <td>15729</td>\n",
       "      <td>happy</td>\n",
       "    </tr>\n",
       "    <tr>\n",
       "      <th>4</th>\n",
       "      <td>서현진</td>\n",
       "      <td>사랑이 뭔데</td>\n",
       "      <td>2016-05-17</td>\n",
       "      <td>나른한 햇살이 찾아들면 멍하니 창밖을 바라만보다가지난 생각속에 잠겨 떠올리던 너어디...</td>\n",
       "      <td>63265</td>\n",
       "      <td>happy</td>\n",
       "    </tr>\n",
       "    <tr>\n",
       "      <th>...</th>\n",
       "      <td>...</td>\n",
       "      <td>...</td>\n",
       "      <td>...</td>\n",
       "      <td>...</td>\n",
       "      <td>...</td>\n",
       "      <td>...</td>\n",
       "    </tr>\n",
       "    <tr>\n",
       "      <th>195</th>\n",
       "      <td>정창룡</td>\n",
       "      <td>익숙함에 속아 소중함을 몰랐다 (Feat. 이지용)</td>\n",
       "      <td>2020-06-30</td>\n",
       "      <td>있을 때 잘해 네가 내게 가끔 했던 말 그땐 그냥 웃으면서 넘겼던 그 말 시간이 흘...</td>\n",
       "      <td>9112</td>\n",
       "      <td>sad</td>\n",
       "    </tr>\n",
       "    <tr>\n",
       "      <th>196</th>\n",
       "      <td>이예준</td>\n",
       "      <td>미친 소리</td>\n",
       "      <td>2020-01-12</td>\n",
       "      <td>잘 지내 보여 너는 아무 일 없는 듯 참 분주해 보여 딱히 신경 쓸 것도 걱정해 줄...</td>\n",
       "      <td>66760</td>\n",
       "      <td>sad</td>\n",
       "    </tr>\n",
       "    <tr>\n",
       "      <th>197</th>\n",
       "      <td>하은 (포맨)</td>\n",
       "      <td>혼코노 (Honkono)</td>\n",
       "      <td>2019-10-17</td>\n",
       "      <td>이 동전 하나로 뭘 할 수 있을까 고민 고민하다가 나 혼자 이곳에 왔어 익숙한 번호...</td>\n",
       "      <td>15245</td>\n",
       "      <td>sad</td>\n",
       "    </tr>\n",
       "    <tr>\n",
       "      <th>198</th>\n",
       "      <td>더 리슨 (솔지, 김나영, 케이시(Kassy), 승희(오마이걸), HYNN(박혜원))</td>\n",
       "      <td>느린 이별</td>\n",
       "      <td>2021-10-18</td>\n",
       "      <td>행복했던 나의 추억이 아직 내게 가지 말라고 한참 동안 서서 기다리네요 다시 되돌리...</td>\n",
       "      <td>6958</td>\n",
       "      <td>sad</td>\n",
       "    </tr>\n",
       "    <tr>\n",
       "      <th>199</th>\n",
       "      <td>멜로망스</td>\n",
       "      <td>우리의 이야기</td>\n",
       "      <td>2021-10-15</td>\n",
       "      <td>홀로 집에 돌아오던 나날들은 지친 맘을 안아주는 날이 됐고 외로움 가득 차 있던 텅...</td>\n",
       "      <td>18952</td>\n",
       "      <td>sad</td>\n",
       "    </tr>\n",
       "  </tbody>\n",
       "</table>\n",
       "<p>200 rows × 6 columns</p>\n",
       "</div>"
      ],
      "text/plain": [
       "                                                 가수명  \\\n",
       "0                                                양다일   \n",
       "1                                               f(x)   \n",
       "2                                          진영 (GOT7)   \n",
       "3                                                 파란   \n",
       "4                                                서현진   \n",
       "..                                               ...   \n",
       "195                                              정창룡   \n",
       "196                                              이예준   \n",
       "197                                          하은 (포맨)   \n",
       "198  더 리슨 (솔지, 김나영, 케이시(Kassy), 승희(오마이걸), HYNN(박혜원))   \n",
       "199                                             멜로망스   \n",
       "\n",
       "                                                  노래제목         발매일  \\\n",
       "0                                              Darling  2020-11-23   \n",
       "1    Goodbye Summer (f(Amber+Luna+Krystal) (Feat. D...  2013-07-29   \n",
       "2                                                달이 될게  2022-06-24   \n",
       "3                                                  첫사랑  2005-09-06   \n",
       "4                                               사랑이 뭔데  2016-05-17   \n",
       "..                                                 ...         ...   \n",
       "195                       익숙함에 속아 소중함을 몰랐다 (Feat. 이지용)  2020-06-30   \n",
       "196                                              미친 소리  2020-01-12   \n",
       "197                                      혼코노 (Honkono)  2019-10-17   \n",
       "198                                              느린 이별  2021-10-18   \n",
       "199                                            우리의 이야기  2021-10-15   \n",
       "\n",
       "                                                    가사    좋아요수     감정  \n",
       "0    Oh darling 처음 널 만나면 수줍은 대화들로 사랑에 빠질 거야 My darl...   10907  happy  \n",
       "1    기억해 복도에서 떠들다 같이  혼나던 우리 둘 벌서면서도 왜 그리도 즐거웠는지  알...  118135  happy  \n",
       "2    그댄 어젯밤도 선잠에 들었나요 그대 가는 길의 그 끝에 서있나요 두 눈을 감고서 내...    5752  happy  \n",
       "3    <p <br=\"\" believe=\"\" hello=\"\" i=\"\" you-=\"\">Hel...   15729  happy  \n",
       "4    나른한 햇살이 찾아들면 멍하니 창밖을 바라만보다가지난 생각속에 잠겨 떠올리던 너어디...   63265  happy  \n",
       "..                                                 ...     ...    ...  \n",
       "195  있을 때 잘해 네가 내게 가끔 했던 말 그땐 그냥 웃으면서 넘겼던 그 말 시간이 흘...    9112    sad  \n",
       "196  잘 지내 보여 너는 아무 일 없는 듯 참 분주해 보여 딱히 신경 쓸 것도 걱정해 줄...   66760    sad  \n",
       "197  이 동전 하나로 뭘 할 수 있을까 고민 고민하다가 나 혼자 이곳에 왔어 익숙한 번호...   15245    sad  \n",
       "198  행복했던 나의 추억이 아직 내게 가지 말라고 한참 동안 서서 기다리네요 다시 되돌리...    6958    sad  \n",
       "199  홀로 집에 돌아오던 나날들은 지친 맘을 안아주는 날이 됐고 외로움 가득 차 있던 텅...   18952    sad  \n",
       "\n",
       "[200 rows x 6 columns]"
      ]
     },
     "execution_count": 124,
     "metadata": {},
     "output_type": "execute_result"
    }
   ],
   "source": [
    "# 순위 컬럼 Drop하기\n",
    "train_data200.drop(\"순위\", axis='columns', inplace=True)\n",
    "train_data200"
   ]
  },
  {
   "cell_type": "code",
   "execution_count": 125,
   "metadata": {},
   "outputs": [
    {
     "name": "stdout",
     "output_type": "stream",
     "text": [
      "<class 'pandas.core.frame.DataFrame'>\n",
      "RangeIndex: 200 entries, 0 to 199\n",
      "Data columns (total 6 columns):\n",
      " #   Column  Non-Null Count  Dtype \n",
      "---  ------  --------------  ----- \n",
      " 0   가수명     200 non-null    object\n",
      " 1   노래제목    200 non-null    object\n",
      " 2   발매일     200 non-null    object\n",
      " 3   가사      200 non-null    object\n",
      " 4   좋아요수    200 non-null    object\n",
      " 5   감정      200 non-null    object\n",
      "dtypes: object(6)\n",
      "memory usage: 9.5+ KB\n"
     ]
    }
   ],
   "source": []
  },
  {
   "cell_type": "code",
   "execution_count": 115,
   "metadata": {},
   "outputs": [
    {
     "data": {
      "text/plain": [
       "'<p <br=\"\" believe=\"\" hello=\"\" i=\"\" you-=\"\">Hello I believe you 사랑하고 싶어질 때 어때요 그대여 이제는 될까요 </p><p <br=\"\" believe=\"\" hello=\"\" i=\"\" you-=\"\">두 눈엔 오직 그대 하나만 보입니다 이 세상 그대와 단 둘이 우리만 Be forever with you </p><p <br=\"\" believe=\"\" hello=\"\" i=\"\" you-=\"\">너의 달콤한 목소리가 내 이름을 부를때 너의 촉촉한 눈빛들이 내 얼굴을 스칠때 사랑한다는 얘기를 너의 귓가에 속삭여 tonight 너의 가슴에 나를 안겨줘 </p><p <br=\"\" believe=\"\" hello=\"\" i=\"\" you-=\"\">어때요 그대 나는 준비가 다 됐어요 영원히 그대만 사랑합니다 Say that I Love you 워- </p><p <br=\"\" believe=\"\" hello=\"\" i=\"\" you-=\"\">나의 떨리는 목소리가 너의 이름 부를때 (부를때-) 나의 촉촉한 눈빛들이 너의 얼굴 스칠때 사랑한다는 얘기를 나의 귓가에 속삭여 tonight 뛰는 가슴에 너를 안겨줘 \\xa0 너와 나 둘이서 (둘이서) 둘이지만 하나로 (하나로) 영원히 이렇게 사랑하고 싶어 아- </p><p <br=\"\" believe=\"\" hello=\"\" i=\"\" you-=\"\">너의 달콤한 목소리가 내 이름을 부를 때 (너의 목소리 so sweet) 너의 촉촉한 눈빛들이 내 얼굴을 스칠 때 (너의 촉촉한 눈 빛 속에 나-) </p><p <br=\"\" believe=\"\" hello=\"\" i=\"\" you-=\"\">사랑한다는 얘기를(사랑해) 너의 귓가에 속삭여 tonight 너의 가슴에 나를 안겨줘(사랑해) </p><p <br=\"\" believe=\"\" hello=\"\" i=\"\" you-=\"\">나의 떨리는 목소리가(너만을) 너의 이름 부를때(예-) 나의 촉촉한 눈빛들이 너의 얼굴 스칠때 사랑한다는 얘기를 나의 귓가에 속삭여 tonight \\xa0 뛰는 가슴에 너를 안겨줘 우리 영원히 사랑을 해요 - </p><p <=\"\" body=\"\" p=\"\"></p>'"
      ]
     },
     "execution_count": 115,
     "metadata": {},
     "output_type": "execute_result"
    }
   ],
   "source": [
    "train_data200.iloc[3]['가사']"
   ]
  },
  {
   "cell_type": "code",
   "execution_count": 126,
   "metadata": {},
   "outputs": [
    {
     "name": "stdout",
     "output_type": "stream",
     "text": [
      "<class 'pandas.core.frame.DataFrame'>\n",
      "Int64Index: 1940 entries, 1390 to 0\n",
      "Data columns (total 7 columns):\n",
      " #   Column  Non-Null Count  Dtype \n",
      "---  ------  --------------  ----- \n",
      " 0   가수명     1940 non-null   object\n",
      " 1   노래제목    1940 non-null   object\n",
      " 2   발매일     1940 non-null   object\n",
      " 3   가사      1940 non-null   object\n",
      " 4   좋아요수    1940 non-null   object\n",
      " 5   순위      1940 non-null   int64 \n",
      " 6   감정      1940 non-null   object\n",
      "dtypes: int64(1), object(6)\n",
      "memory usage: 185.8+ KB\n"
     ]
    }
   ],
   "source": [
    "Bayes_ballad2000.info()"
   ]
  },
  {
   "cell_type": "code",
   "execution_count": 127,
   "metadata": {},
   "outputs": [],
   "source": [
    "Bayes_ballad2000['발매일'] = pd.to_datetime(Bayes_ballad2000['발매일'])"
   ]
  },
  {
   "cell_type": "code",
   "execution_count": 128,
   "metadata": {},
   "outputs": [
    {
     "name": "stdout",
     "output_type": "stream",
     "text": [
      "<class 'pandas.core.frame.DataFrame'>\n",
      "Int64Index: 1940 entries, 1390 to 0\n",
      "Data columns (total 7 columns):\n",
      " #   Column  Non-Null Count  Dtype         \n",
      "---  ------  --------------  -----         \n",
      " 0   가수명     1940 non-null   object        \n",
      " 1   노래제목    1940 non-null   object        \n",
      " 2   발매일     1940 non-null   datetime64[ns]\n",
      " 3   가사      1940 non-null   object        \n",
      " 4   좋아요수    1940 non-null   object        \n",
      " 5   순위      1940 non-null   int64         \n",
      " 6   감정      1940 non-null   object        \n",
      "dtypes: datetime64[ns](1), int64(1), object(5)\n",
      "memory usage: 185.8+ KB\n"
     ]
    }
   ],
   "source": [
    "Bayes_ballad2000.info()"
   ]
  },
  {
   "cell_type": "code",
   "execution_count": null,
   "metadata": {},
   "outputs": [],
   "source": [
    "1000\t박화요비\t당신과의 키스를 세어보아요\t2004-07-08\t<p <br=\"\" 마루=\"\" 어지러워진=\"\" 위에=\"\">어지러워진 마루 위에 웅크린...\t18908\t1043\thappy\n",
    "1159\t견우 (Kyunwoo)\t내 눈물이 하는 말\t2005-08-23\t<p <br=\"\" 나빠서=\"\" 내=\"\" 너=\"\" 너밖에=\"\" 머리는=\"\" 모르고=\"...\t13649\t1206\tsad\n",
    "1204\t파란\t첫사랑\t2005-09-06\t<p <br=\"\" believe=\"\" hello=\"\" i=\"\" you-=\"\">Hel...\t15729\t1253\thappy\n"
   ]
  },
  {
   "cell_type": "markdown",
   "metadata": {},
   "source": [
    "어지러워진 마루 위에 웅크린 채로 내 몸을 감싸고 지킬 수 없는 약속들만이 하루 하루를 채우고있어요 이별이 올 줄 알았다면 좀 더 그대의 가슴 깊이 안길텐데 missing you 당신과의 키스를 세어보아 하나 하나 그대를 가만히 떠올려 누구보다 그대의 곁에 있기를 without you but you are mine 머리를 묶고 화장을 해도 어제의 나는 찾을 수 없어요 그대가 떠난 텅빈 외로움 무엇을 해야 달랠수 있나 너무나 사랑 했었어요 그것만큼은 변치않는 진실일뿐 missing you 당신과의 키스를 찾을거예요 이렇게 또 가까이 다가와 있는데 처음부터 만나지 말아야 했나요 shaining takes when you are mine 당신과의 키스를 잊을거예요 미워할수 있다면 지울수 있다면 오늘밤은 조용히 잠들고싶어 i'm alone and you are mine Do The Nights And Days Cure My Feel Of Pain Please Somebody Say All Of My Heart Is Almost Cryin' In Your Eyes, In Your Sight Was It Certainly My Place Tell Me Please The Reason Of Your Love For Me Can I Cry Now  당신과의 키스를 세어보아요 하나하나 그대를 가만히 떠올려 누구보다 그대의 곁에 있기를 without you but you are mine"
   ]
  },
  {
   "cell_type": "markdown",
   "metadata": {},
   "source": [
    "내 머리는 나빠서 너밖에 모르고 세상 사람 모두 다 너로 보이고 내 가슴은 좁아서 너 밖엔 못 살고 귀에 닿는 목소린 다 넌줄 아는데 그립다고 힘들다고 사랑한다고 매일 밤 내 안에 터질 듯 슬픈 그 말은 나를 헤매이게 해 이렇게 너만 원하게 해 너를 사랑한단 말 숨쉴때마다 늘었어 오늘도 그 만큼 버리고 또 버려도 내가 하지 못한 말 가슴에 너무 많아서 내 숨이 멈출까봐 눈물이 나를 대신해서 흘러 내 걸음은 느려서 널 찾지 못하고 네가 떠난 그 자리만 돌고 도는데 그립다고 힘들다고 사랑한다고 매일 밤 내 안에 터질 듯 슬픈 그 말은 나를 헤매이게 해 이렇게 너만 원하게 해 너를 사랑한단 말 숨쉴때마다 늘었어 오늘도 그 만큼 버리고 또 버려도 내가 하지 못한말 가슴에 너무 많아서 내 숨이 멈출까봐 눈물이 나를 대신해서 흘러 간절한 내 맘을 넌 듣지못하고 내가 아닌 누구를 사랑하고 있을까 너를 사랑한단 말 숨쉴때마다 깊어져 온몸에 물들어 너를 안고사는 나 너만 사랑했다고 죽어도 못 잊겠다고 오늘도 내 눈물이 못 다한 말을 대신해서 흘러"
   ]
  },
  {
   "cell_type": "markdown",
   "metadata": {},
   "source": [
    "Hello I believe you 사랑하고 싶어질 때 어때요 그대여 이제는 될까요 두 눈엔 오직 그대 하나만 보입니다 이 세상 그대와 단 둘이 우리만 Be forever with you 너의 달콤한 목소리가 내 이름을 부를때 너의 촉촉한 눈빛들이 내 얼굴을 스칠때 사랑한다는 얘기를 너의 귓가에 속삭여 tonight 너의 가슴에 나를 안겨줘 어때요 그대 나는 준비가 다 됐어요 영원히 그대만 사랑합니다 Say that I Love you 워- 나의 떨리는 목소리가 너의 이름 부를때 (부를때-) 나의 촉촉한 눈빛들이 너의 얼굴 스칠때 사랑한다는 얘기를 나의 귓가에 속삭여 tonight 뛰는 가슴에 너를 안겨줘 너와 나 둘이서 (둘이서) 둘이지만 하나로 (하나로) 영원히 이렇게 사랑하고 싶어 아- 너의 달콤한 목소리가 내 이름을 부를 때 (너의 목소리 so sweet) 너의 촉촉한 눈빛들이 내 얼굴을 스칠 때 (너의 촉촉한 눈 빛 속에 나-) 사랑한다는 얘기를(사랑해) 너의 귓가에 속삭여 tonight 너의 가슴에 나를 안겨줘(사랑해) 나의 떨리는 목소리가(너만을) 너의 이름 부를때(예-) 나의 촉촉한 눈빛들이 너의 얼굴 스칠때 사랑한다는 얘기를 나의 귓가에 속삭여 tonight 뛰는 가슴에 너를 안겨줘 우리 영원히 사랑을 해요"
   ]
  },
  {
   "cell_type": "code",
   "execution_count": 156,
   "metadata": {},
   "outputs": [
    {
     "ename": "SyntaxError",
     "evalue": "invalid syntax (1804984444.py, line 1)",
     "output_type": "error",
     "traceback": [
      "\u001b[0;36m  File \u001b[0;32m\"/var/folders/51/xmc_l6t13wv1nc5z6qmyg58r0000gn/T/ipykernel_1990/1804984444.py\"\u001b[0;36m, line \u001b[0;32m1\u001b[0m\n\u001b[0;31m    Bayes_ballad2000.iloc[1000]['가사'] = '어지러워진 마루 위에 웅크린 채로 내 몸을 감싸고 지킬 수 없는 약속들만이 하루 하루를 채우고있어요 이별이 올 줄 알았다면 좀 더 그대의 가슴 깊이 안길텐데 missing you 당신과의 키스를 세어보아 하나 하나 그대를 가만히 떠올려 누구보다 그대의 곁에 있기를 without you but you are mine 머리를 묶고 화장을 해도 어제의 나는 찾을 수 없어요 그대가 떠난 텅빈 외로움 무엇을 해야 달랠수 있나 너무나 사랑 했었어요 그것만큼은 변치않는 진실일뿐 missing you 당신과의 키스를 찾을거예요 이렇게 또 가까이 다가와 있는데 처음부터 만나지 말아야 했나요 shaining takes when you are mine 당신과의 키스를 잊을거예요 미워할수 있다면 지울수 있다면 오늘밤은 조용히 잠들고싶어 i'm alone and you are mine Do The Nights And Days Cure My Feel Of Pain Please Somebody Say All Of My Heart Is Almost Cryin' In Your Eyes, In Your Sight Was It Certainly My Place Tell Me Please The Reason Of Your Love For Me Can I Cry Now  당신과의 키스를 세어보아요 하나하나 그대를 가만히 떠올려 누구보다 그대의 곁에 있기를 without you but you are mine'\u001b[0m\n\u001b[0m                                                                                                                                                                                                                                                                                                                                                                                                                                                                ^\u001b[0m\n\u001b[0;31mSyntaxError\u001b[0m\u001b[0;31m:\u001b[0m invalid syntax\n"
     ]
    }
   ],
   "source": [
    "Bayes_ballad2000.iloc[1000]['가사'] = '어지러워진 마루 위에 웅크린 채로 내 몸을 감싸고 지킬 수 없는 약속들만이 하루 하루를 채우고있어요 이별이 올 줄 알았다면 좀 더 그대의 가슴 깊이 안길텐데 missing you 당신과의 키스를 세어보아 하나 하나 그대를 가만히 떠올려 누구보다 그대의 곁에 있기를 without you but you are mine 머리를 묶고 화장을 해도 어제의 나는 찾을 수 없어요 그대가 떠난 텅빈 외로움 무엇을 해야 달랠수 있나 너무나 사랑 했었어요 그것만큼은 변치않는 진실일뿐 missing you 당신과의 키스를 찾을거예요 이렇게 또 가까이 다가와 있는데 처음부터 만나지 말아야 했나요 shaining takes when you are mine 당신과의 키스를 잊을거예요 미워할수 있다면 지울수 있다면 오늘밤은 조용히 잠들고싶어 i'm alone and you are mine Do The Nights And Days Cure My Feel Of Pain Please Somebody Say All Of My Heart Is Almost Cryin' In Your Eyes, In Your Sight Was It Certainly My Place Tell Me Please The Reason Of Your Love For Me Can I Cry Now  당신과의 키스를 세어보아요 하나하나 그대를 가만히 떠올려 누구보다 그대의 곁에 있기를 without you but you are mine'\n",
    "Bayes_ballad2000.iloc[1159]['가사'] = '내 머리는 나빠서 너밖에 모르고 세상 사람 모두 다 너로 보이고 내 가슴은 좁아서 너 밖엔 못 살고 귀에 닿는 목소린 다 넌줄 아는데 그립다고 힘들다고 사랑한다고 매일 밤 내 안에 터질 듯 슬픈 그 말은 나를 헤매이게 해 이렇게 너만 원하게 해 너를 사랑한단 말 숨쉴때마다 늘었어 오늘도 그 만큼 버리고 또 버려도 내가 하지 못한 말 가슴에 너무 많아서 내 숨이 멈출까봐 눈물이 나를 대신해서 흘러 내 걸음은 느려서 널 찾지 못하고 네가 떠난 그 자리만 돌고 도는데 그립다고 힘들다고 사랑한다고 매일 밤 내 안에 터질 듯 슬픈 그 말은 나를 헤매이게 해 이렇게 너만 원하게 해 너를 사랑한단 말 숨쉴때마다 늘었어 오늘도 그 만큼 버리고 또 버려도 내가 하지 못한말 가슴에 너무 많아서 내 숨이 멈출까봐 눈물이 나를 대신해서 흘러 간절한 내 맘을 넌 듣지못하고 내가 아닌 누구를 사랑하고 있을까 너를 사랑한단 말 숨쉴때마다 깊어져 온몸에 물들어 너를 안고사는 나 너만 사랑했다고 죽어도 못 잊겠다고 오늘도 내 눈물이 못 다한 말을 대신해서 흘러'\n",
    "Bayes_ballad2000.iloc[1204]['가사'] = 'Hello I believe you 사랑하고 싶어질 때 어때요 그대여 이제는 될까요 두 눈엔 오직 그대 하나만 보입니다 이 세상 그대와 단 둘이 우리만 Be forever with you 너의 달콤한 목소리가 내 이름을 부를때 너의 촉촉한 눈빛들이 내 얼굴을 스칠때 사랑한다는 얘기를 너의 귓가에 속삭여 tonight 너의 가슴에 나를 안겨줘 어때요 그대 나는 준비가 다 됐어요 영원히 그대만 사랑합니다 Say that I Love you 워- 나의 떨리는 목소리가 너의 이름 부를때 (부를때-) 나의 촉촉한 눈빛들이 너의 얼굴 스칠때 사랑한다는 얘기를 나의 귓가에 속삭여 tonight 뛰는 가슴에 너를 안겨줘 너와 나 둘이서 (둘이서) 둘이지만 하나로 (하나로) 영원히 이렇게 사랑하고 싶어 아- 너의 달콤한 목소리가 내 이름을 부를 때 (너의 목소리 so sweet) 너의 촉촉한 눈빛들이 내 얼굴을 스칠 때 (너의 촉촉한 눈 빛 속에 나-) 사랑한다는 얘기를(사랑해) 너의 귓가에 속삭여 tonight 너의 가슴에 나를 안겨줘(사랑해) 나의 떨리는 목소리가(너만을) 너의 이름 부를때(예-) 나의 촉촉한 눈빛들이 너의 얼굴 스칠때 사랑한다는 얘기를 나의 귓가에 속삭여 tonight 뛰는 가슴에 너를 안겨줘 우리 영원히 사랑을 해요'"
   ]
  },
  {
   "cell_type": "code",
   "execution_count": 197,
   "metadata": {},
   "outputs": [
    {
     "name": "stdout",
     "output_type": "stream",
     "text": [
      "네가 떠난 뒤에 닫았던 내방 창을 오늘 열었지 어질러진 슬픔 치워 내 보내 려 두 눈 가득 베는 여름 빛 무작정 나는 차를 몰아 바람속에 섞인 너의 향길 지워 떠나가 어디든 지도엔 없는 길을 따라 흙바람 불어 두 눈을 가려도 yeah 차 바퀸 계속 덜컹거리고 난 그때마다 흔들리게 돼 다시 땀은 비오듯 추억되어 흐르지 Oh 땅끝 마을 찾아가는거야 이 긴 해가 지치도록 그곳에서 시작하는거야 날 위해 너 없는 삶도 아름답다는걸 Oh 난 별것 아닌 이별 너무 오래 슬퍼했었다고 나 처음으로 돌아가 나를 사랑할거야 하늘빛 차양 걸린 집 보이면 꿈 같은 추억에 또 앉게 되면 창가엔 강바람이 잔뜩 쌓여 추억의 강바람만 가득한데 새빨간 거짓말처럼 사라진 널 믿지 못해 너 떠나 살 수 없는 나였기에 새빨간 저 노을 빛처럼 눈은 매일 붉어졌었지 끝난 추억에 나를 가둬야 했어 Oh 세상 끝에 서면 노래할래 다시 시 작할거라고 해를 밀어 올린 바다 깊이 널 묻고 이젠 나 혼자로도 삶은 아름답지 oh 나 콧노래가 나 와 처음으로 다시 오는 길엔 해 길은 여름 노을만 붉게 피어 오를뿐 땅끝 마을 찾아가는거야 이 긴 해가 지치도록 처음부터 시작하는거야 날 위해 너 없는 삶도 아름답다는 걸 Oh 난 별것아닌 이별 너무 오래 슬퍼했었다고 나 처음으로 돌아가 나를 사랑할거야 내 모든 것 다 잊고 나를 사랑할거야 \n"
     ]
    }
   ],
   "source": [
    "print(Bayes_ballad2000.iloc[440]['가사'])"
   ]
  },
  {
   "cell_type": "code",
   "execution_count": 162,
   "metadata": {},
   "outputs": [
    {
     "name": "stdout",
     "output_type": "stream",
     "text": [
      "<class 'pandas.core.frame.DataFrame'>\n",
      "Int64Index: 1940 entries, 1390 to 0\n",
      "Data columns (total 7 columns):\n",
      " #   Column  Non-Null Count  Dtype         \n",
      "---  ------  --------------  -----         \n",
      " 0   가수명     1940 non-null   object        \n",
      " 1   노래제목    1940 non-null   object        \n",
      " 2   발매일     1940 non-null   datetime64[ns]\n",
      " 3   가사      1940 non-null   object        \n",
      " 4   좋아요수    1940 non-null   object        \n",
      " 5   순위      1940 non-null   int64         \n",
      " 6   감정      1940 non-null   object        \n",
      "dtypes: datetime64[ns](1), int64(1), object(5)\n",
      "memory usage: 185.8+ KB\n"
     ]
    }
   ],
   "source": [
    "Bayes_ballad2000.info()"
   ]
  },
  {
   "cell_type": "code",
   "execution_count": null,
   "metadata": {},
   "outputs": [],
   "source": [
    "    1440 780 1600"
   ]
  }
 ],
 "metadata": {
  "kernelspec": {
   "display_name": "Python 3.9.7 ('base')",
   "language": "python",
   "name": "python3"
  },
  "language_info": {
   "codemirror_mode": {
    "name": "ipython",
    "version": 3
   },
   "file_extension": ".py",
   "mimetype": "text/x-python",
   "name": "python",
   "nbconvert_exporter": "python",
   "pygments_lexer": "ipython3",
   "version": "3.9.7"
  },
  "orig_nbformat": 4,
  "vscode": {
   "interpreter": {
    "hash": "c34e8390e776d2ee205b71ed5a6130fee3cef8da5e87e926ce18e14f4a070d72"
   }
  }
 },
 "nbformat": 4,
 "nbformat_minor": 2
}
