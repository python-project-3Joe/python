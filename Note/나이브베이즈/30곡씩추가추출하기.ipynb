{
 "cells": [
  {
   "cell_type": "code",
   "execution_count": 198,
   "metadata": {},
   "outputs": [],
   "source": [
    "import pandas as pd\n",
    "import numpy as np\n",
    "import random"
   ]
  },
  {
   "cell_type": "code",
   "execution_count": 199,
   "metadata": {},
   "outputs": [
    {
     "data": {
      "text/plain": [
       "1913"
      ]
     },
     "execution_count": 199,
     "metadata": {},
     "output_type": "execute_result"
    }
   ],
   "source": [
    "Bayes_ballad2000 = pd.read_csv(\"../../Data/Bayes_ballad2000.csv\")\n",
    "len(Bayes_ballad2000)"
   ]
  },
  {
   "cell_type": "markdown",
   "metadata": {},
   "source": [
    "### 감정별로 분류하기\n",
    "---"
   ]
  },
  {
   "cell_type": "code",
   "execution_count": 220,
   "metadata": {},
   "outputs": [
    {
     "data": {
      "text/plain": [
       "sad             1457\n",
       "happy            251\n",
       "regret           123\n",
       "indifference      82\n",
       "Name: 감정, dtype: int64"
      ]
     },
     "execution_count": 220,
     "metadata": {},
     "output_type": "execute_result"
    }
   ],
   "source": [
    "Bayes_ballad2000['감정'].value_counts()"
   ]
  },
  {
   "cell_type": "code",
   "execution_count": 203,
   "metadata": {},
   "outputs": [],
   "source": [
    "# 감정별로 분류하기\n",
    "Bayes_ballad2000.sort_values('감정', inplace=True)"
   ]
  },
  {
   "cell_type": "code",
   "execution_count": 204,
   "metadata": {},
   "outputs": [
    {
     "data": {
      "text/plain": [
       "1099    happy\n",
       "801     happy\n",
       "68      happy\n",
       "1595    happy\n",
       "452     happy\n",
       "        ...  \n",
       "1519      sad\n",
       "1520      sad\n",
       "1521      sad\n",
       "1524      sad\n",
       "1912      sad\n",
       "Name: 감정, Length: 1913, dtype: object"
      ]
     },
     "execution_count": 204,
     "metadata": {},
     "output_type": "execute_result"
    }
   ],
   "source": [
    "Bayes_ballad2000['감정']"
   ]
  },
  {
   "cell_type": "code",
   "execution_count": 205,
   "metadata": {},
   "outputs": [],
   "source": [
    "happy = Bayes_ballad2000['감정'] == 'happy'\n",
    "regret = Bayes_ballad2000['감정'] == 'regret'\n",
    "sad = Bayes_ballad2000['감정'] == 'sad'\n",
    "indifference = Bayes_ballad2000['감정'] == 'indifference'"
   ]
  },
  {
   "cell_type": "code",
   "execution_count": 206,
   "metadata": {},
   "outputs": [],
   "source": [
    "# 감정 = 'happy'(기쁨)\n",
    "Bayes_ballad2000_happy = Bayes_ballad2000[happy]\n",
    "# 감정 = 'regret'(후회)\n",
    "Bayes_ballad2000_regret = Bayes_ballad2000[regret]\n",
    "# 감정 = 'sad'(슬픔)\n",
    "Bayes_ballad2000_sad = Bayes_ballad2000[sad]\n",
    "# 감정 = 'indifference'(무관심)\n",
    "Bayes_ballad2000_indifference = Bayes_ballad2000[indifference]"
   ]
  },
  {
   "cell_type": "code",
   "execution_count": 207,
   "metadata": {},
   "outputs": [
    {
     "data": {
      "text/html": [
       "<div>\n",
       "<style scoped>\n",
       "    .dataframe tbody tr th:only-of-type {\n",
       "        vertical-align: middle;\n",
       "    }\n",
       "\n",
       "    .dataframe tbody tr th {\n",
       "        vertical-align: top;\n",
       "    }\n",
       "\n",
       "    .dataframe thead th {\n",
       "        text-align: right;\n",
       "    }\n",
       "</style>\n",
       "<table border=\"1\" class=\"dataframe\">\n",
       "  <thead>\n",
       "    <tr style=\"text-align: right;\">\n",
       "      <th></th>\n",
       "      <th>가수명</th>\n",
       "      <th>노래제목</th>\n",
       "      <th>발매일</th>\n",
       "      <th>가사</th>\n",
       "      <th>좋아요수</th>\n",
       "      <th>앨범사진</th>\n",
       "      <th>songId</th>\n",
       "      <th>순위</th>\n",
       "      <th>감정</th>\n",
       "    </tr>\n",
       "  </thead>\n",
       "  <tbody>\n",
       "    <tr>\n",
       "      <th>1099</th>\n",
       "      <td>양요섭</td>\n",
       "      <td>카페인 (Feat. 용준형 Of BEAST)</td>\n",
       "      <td>2012-11-26</td>\n",
       "      <td>늦었네 자야 되는데 머릿속에 양은 벌써 다 셌어 어떻게든 잠들어 보려 했던 샤워도 ...</td>\n",
       "      <td>95013</td>\n",
       "      <td>https://cdnimg.melon.co.kr/cm/album/images/021...</td>\n",
       "      <td>3971021</td>\n",
       "      <td>1170</td>\n",
       "      <td>happy</td>\n",
       "    </tr>\n",
       "    <tr>\n",
       "      <th>801</th>\n",
       "      <td>WOODZ (조승연)</td>\n",
       "      <td>About You</td>\n",
       "      <td>2022-06-10</td>\n",
       "      <td>내게만 보여주는 그 미소가 좋아 사소한 모습까지 설레이는 걸 수줍게 떨리는 목소리...</td>\n",
       "      <td>5210</td>\n",
       "      <td>https://cdnimg.melon.co.kr/cm2/album/images/10...</td>\n",
       "      <td>35274163</td>\n",
       "      <td>849</td>\n",
       "      <td>happy</td>\n",
       "    </tr>\n",
       "    <tr>\n",
       "      <th>68</th>\n",
       "      <td>V</td>\n",
       "      <td>Christmas Tree</td>\n",
       "      <td>2021-12-24</td>\n",
       "      <td>In this moment I see you It always comes arou...</td>\n",
       "      <td>96592</td>\n",
       "      <td>https://cdnimg.melon.co.kr/cm2/album/images/10...</td>\n",
       "      <td>34461065</td>\n",
       "      <td>82</td>\n",
       "      <td>happy</td>\n",
       "    </tr>\n",
       "    <tr>\n",
       "      <th>1595</th>\n",
       "      <td>토이</td>\n",
       "      <td>U &amp; I (With Crush &amp; 빈지노)</td>\n",
       "      <td>2014-11-18</td>\n",
       "      <td>you know 너 땜에 자꾸 난 전화길 못 놔 니가 올린 음식 사진도 네 친구들 ...</td>\n",
       "      <td>66585</td>\n",
       "      <td>https://cdnimg.melon.co.kr/cm/album/images/022...</td>\n",
       "      <td>5465067</td>\n",
       "      <td>1677</td>\n",
       "      <td>happy</td>\n",
       "    </tr>\n",
       "    <tr>\n",
       "      <th>452</th>\n",
       "      <td>NCT DREAM</td>\n",
       "      <td>Sorry, Heart</td>\n",
       "      <td>2022-05-30</td>\n",
       "      <td>왜 이리도 쉽게 토라지는지 내 맘이 작아서 너무 한심하지? Don’t go 좀 심...</td>\n",
       "      <td>32341</td>\n",
       "      <td>https://cdnimg.melon.co.kr/cm2/album/images/10...</td>\n",
       "      <td>35225993</td>\n",
       "      <td>484</td>\n",
       "      <td>happy</td>\n",
       "    </tr>\n",
       "    <tr>\n",
       "      <th>...</th>\n",
       "      <td>...</td>\n",
       "      <td>...</td>\n",
       "      <td>...</td>\n",
       "      <td>...</td>\n",
       "      <td>...</td>\n",
       "      <td>...</td>\n",
       "      <td>...</td>\n",
       "      <td>...</td>\n",
       "      <td>...</td>\n",
       "    </tr>\n",
       "    <tr>\n",
       "      <th>1711</th>\n",
       "      <td>펀치 (Punch)</td>\n",
       "      <td>널 사랑할게</td>\n",
       "      <td>2018-08-15</td>\n",
       "      <td>네 앞에 있어 줄 오직 한사람 그게 바로 나였음 해 수많은 사람 중 너를 만난 이런...</td>\n",
       "      <td>14110</td>\n",
       "      <td>https://cdnimg.melon.co.kr/cm/album/images/101...</td>\n",
       "      <td>31247953</td>\n",
       "      <td>1797</td>\n",
       "      <td>happy</td>\n",
       "    </tr>\n",
       "    <tr>\n",
       "      <th>1213</th>\n",
       "      <td>서기</td>\n",
       "      <td>낮잠</td>\n",
       "      <td>2022-07-28</td>\n",
       "      <td>아무도 모르게 햇살에 기대어 잠이 들었네 나조차 모르게 점점 멍해지는 표정 낮안개 ...</td>\n",
       "      <td>664</td>\n",
       "      <td>https://cdnimg.melon.co.kr/cm2/album/images/11...</td>\n",
       "      <td>35473211</td>\n",
       "      <td>1288</td>\n",
       "      <td>happy</td>\n",
       "    </tr>\n",
       "    <tr>\n",
       "      <th>1212</th>\n",
       "      <td>015B</td>\n",
       "      <td>잠시 길을 잃다 (Feat. 신보경)</td>\n",
       "      <td>2006-08-30</td>\n",
       "      <td>잠시 길을 잃었어 어디로 가야 하는지 정말 알 수가 없어 난 늘 너란 길만 걸었으니...</td>\n",
       "      <td>31731</td>\n",
       "      <td>https://cdnimg.melon.co.kr/cm/album/images/003...</td>\n",
       "      <td>1373302</td>\n",
       "      <td>1287</td>\n",
       "      <td>happy</td>\n",
       "    </tr>\n",
       "    <tr>\n",
       "      <th>301</th>\n",
       "      <td>백현 (BAEKHYUN)</td>\n",
       "      <td>너를 사랑하고 있어</td>\n",
       "      <td>2020-01-07</td>\n",
       "      <td>어떤 말로 표현해야 이 감정을 알까 어떻게 널 바라봐야 나의 마음을 알까 너와 같...</td>\n",
       "      <td>162982</td>\n",
       "      <td>https://cdnimg.melon.co.kr/cm2/album/images/10...</td>\n",
       "      <td>32298623</td>\n",
       "      <td>326</td>\n",
       "      <td>happy</td>\n",
       "    </tr>\n",
       "    <tr>\n",
       "      <th>1652</th>\n",
       "      <td>XIA (준수)</td>\n",
       "      <td>How Can I Love You</td>\n",
       "      <td>2016-04-14</td>\n",
       "      <td>How can I love you 그대는 아나요 내게 말해줄 수 있나요 내 맘이 그...</td>\n",
       "      <td>76846</td>\n",
       "      <td>https://cdnimg.melon.co.kr/cm/album/images/026...</td>\n",
       "      <td>8141498</td>\n",
       "      <td>1738</td>\n",
       "      <td>happy</td>\n",
       "    </tr>\n",
       "  </tbody>\n",
       "</table>\n",
       "<p>251 rows × 9 columns</p>\n",
       "</div>"
      ],
      "text/plain": [
       "                가수명                      노래제목         발매일  \\\n",
       "1099            양요섭  카페인 (Feat. 용준형 Of BEAST)  2012-11-26   \n",
       "801     WOODZ (조승연)                 About You  2022-06-10   \n",
       "68                V            Christmas Tree  2021-12-24   \n",
       "1595             토이  U & I (With Crush & 빈지노)  2014-11-18   \n",
       "452       NCT DREAM              Sorry, Heart  2022-05-30   \n",
       "...             ...                       ...         ...   \n",
       "1711     펀치 (Punch)                    널 사랑할게  2018-08-15   \n",
       "1213             서기                        낮잠  2022-07-28   \n",
       "1212           015B      잠시 길을 잃다 (Feat. 신보경)  2006-08-30   \n",
       "301   백현 (BAEKHYUN)                너를 사랑하고 있어  2020-01-07   \n",
       "1652       XIA (준수)        How Can I Love You  2016-04-14   \n",
       "\n",
       "                                                     가사    좋아요수  \\\n",
       "1099  늦었네 자야 되는데 머릿속에 양은 벌써 다 셌어 어떻게든 잠들어 보려 했던 샤워도 ...   95013   \n",
       "801    내게만 보여주는 그 미소가 좋아 사소한 모습까지 설레이는 걸 수줍게 떨리는 목소리...    5210   \n",
       "68     In this moment I see you It always comes arou...   96592   \n",
       "1595  you know 너 땜에 자꾸 난 전화길 못 놔 니가 올린 음식 사진도 네 친구들 ...   66585   \n",
       "452    왜 이리도 쉽게 토라지는지 내 맘이 작아서 너무 한심하지? Don’t go 좀 심...   32341   \n",
       "...                                                 ...     ...   \n",
       "1711  네 앞에 있어 줄 오직 한사람 그게 바로 나였음 해 수많은 사람 중 너를 만난 이런...   14110   \n",
       "1213  아무도 모르게 햇살에 기대어 잠이 들었네 나조차 모르게 점점 멍해지는 표정 낮안개 ...     664   \n",
       "1212  잠시 길을 잃었어 어디로 가야 하는지 정말 알 수가 없어 난 늘 너란 길만 걸었으니...   31731   \n",
       "301    어떤 말로 표현해야 이 감정을 알까 어떻게 널 바라봐야 나의 마음을 알까 너와 같...  162982   \n",
       "1652  How can I love you 그대는 아나요 내게 말해줄 수 있나요 내 맘이 그...   76846   \n",
       "\n",
       "                                                   앨범사진    songId    순위     감정  \n",
       "1099  https://cdnimg.melon.co.kr/cm/album/images/021...   3971021  1170  happy  \n",
       "801   https://cdnimg.melon.co.kr/cm2/album/images/10...  35274163   849  happy  \n",
       "68    https://cdnimg.melon.co.kr/cm2/album/images/10...  34461065    82  happy  \n",
       "1595  https://cdnimg.melon.co.kr/cm/album/images/022...   5465067  1677  happy  \n",
       "452   https://cdnimg.melon.co.kr/cm2/album/images/10...  35225993   484  happy  \n",
       "...                                                 ...       ...   ...    ...  \n",
       "1711  https://cdnimg.melon.co.kr/cm/album/images/101...  31247953  1797  happy  \n",
       "1213  https://cdnimg.melon.co.kr/cm2/album/images/11...  35473211  1288  happy  \n",
       "1212  https://cdnimg.melon.co.kr/cm/album/images/003...   1373302  1287  happy  \n",
       "301   https://cdnimg.melon.co.kr/cm2/album/images/10...  32298623   326  happy  \n",
       "1652  https://cdnimg.melon.co.kr/cm/album/images/026...   8141498  1738  happy  \n",
       "\n",
       "[251 rows x 9 columns]"
      ]
     },
     "execution_count": 207,
     "metadata": {},
     "output_type": "execute_result"
    }
   ],
   "source": [
    "Bayes_ballad2000_happy"
   ]
  },
  {
   "cell_type": "markdown",
   "metadata": {},
   "source": [
    "---\n",
    "### 기쁨 30곡 추출하기"
   ]
  },
  {
   "cell_type": "code",
   "execution_count": 208,
   "metadata": {},
   "outputs": [
    {
     "data": {
      "text/plain": [
       "251"
      ]
     },
     "execution_count": 208,
     "metadata": {},
     "output_type": "execute_result"
    }
   ],
   "source": [
    "# 기쁨\n",
    "len(Bayes_ballad2000_happy)\n"
   ]
  },
  {
   "cell_type": "code",
   "execution_count": 209,
   "metadata": {},
   "outputs": [
    {
     "data": {
      "text/plain": [
       "30"
      ]
     },
     "execution_count": 209,
     "metadata": {},
     "output_type": "execute_result"
    }
   ],
   "source": [
    "ran = range(0,251)\n",
    "happy30 = sorted(random.sample(ran, 30))\n",
    "len(happy30)"
   ]
  },
  {
   "cell_type": "code",
   "execution_count": 210,
   "metadata": {},
   "outputs": [
    {
     "name": "stdout",
     "output_type": "stream",
     "text": [
      "<class 'pandas.core.frame.DataFrame'>\n",
      "RangeIndex: 30 entries, 0 to 29\n",
      "Data columns (total 9 columns):\n",
      " #   Column  Non-Null Count  Dtype \n",
      "---  ------  --------------  ----- \n",
      " 0   가수명     30 non-null     object\n",
      " 1   노래제목    30 non-null     object\n",
      " 2   발매일     30 non-null     object\n",
      " 3   가사      30 non-null     object\n",
      " 4   좋아요수    30 non-null     object\n",
      " 5   앨범사진    30 non-null     object\n",
      " 6   songId  30 non-null     int64 \n",
      " 7   순위      30 non-null     int64 \n",
      " 8   감정      30 non-null     object\n",
      "dtypes: int64(2), object(7)\n",
      "memory usage: 2.2+ KB\n"
     ]
    }
   ],
   "source": [
    "ballad2000_happy30 = Bayes_ballad2000_happy.iloc[happy30, :]\n",
    "ballad2000_happy30 = ballad2000_happy30.reset_index(drop=True)\n",
    "ballad2000_happy30.info()"
   ]
  },
  {
   "cell_type": "code",
   "execution_count": 243,
   "metadata": {},
   "outputs": [],
   "source": [
    "# 필요한 컬럼만 때어서 30곡 변수 저장\n",
    "ballad2000_happy30 = ballad2000_happy30[['가수명','노래제목','발매일','가사','좋아요수','감정']]"
   ]
  },
  {
   "cell_type": "markdown",
   "metadata": {},
   "source": [
    "---\n",
    "### 후회 30곡 추출하기"
   ]
  },
  {
   "cell_type": "code",
   "execution_count": 211,
   "metadata": {},
   "outputs": [
    {
     "data": {
      "text/plain": [
       "123"
      ]
     },
     "execution_count": 211,
     "metadata": {},
     "output_type": "execute_result"
    }
   ],
   "source": [
    "len(Bayes_ballad2000_regret)"
   ]
  },
  {
   "cell_type": "code",
   "execution_count": 212,
   "metadata": {},
   "outputs": [
    {
     "data": {
      "text/plain": [
       "30"
      ]
     },
     "execution_count": 212,
     "metadata": {},
     "output_type": "execute_result"
    }
   ],
   "source": [
    "ran = range(0,123)\n",
    "regret30 = sorted(random.sample(ran, 30))\n",
    "len(regret30)"
   ]
  },
  {
   "cell_type": "code",
   "execution_count": 213,
   "metadata": {},
   "outputs": [
    {
     "name": "stdout",
     "output_type": "stream",
     "text": [
      "<class 'pandas.core.frame.DataFrame'>\n",
      "Int64Index: 30 entries, 194 to 3\n",
      "Data columns (total 9 columns):\n",
      " #   Column  Non-Null Count  Dtype \n",
      "---  ------  --------------  ----- \n",
      " 0   가수명     30 non-null     object\n",
      " 1   노래제목    30 non-null     object\n",
      " 2   발매일     30 non-null     object\n",
      " 3   가사      30 non-null     object\n",
      " 4   좋아요수    30 non-null     object\n",
      " 5   앨범사진    30 non-null     object\n",
      " 6   songId  30 non-null     int64 \n",
      " 7   순위      30 non-null     int64 \n",
      " 8   감정      30 non-null     object\n",
      "dtypes: int64(2), object(7)\n",
      "memory usage: 2.3+ KB\n"
     ]
    }
   ],
   "source": [
    "ballad2000_regret30 = Bayes_ballad2000_regret.iloc[regret30, :]\n",
    "Bayes_ballad2000_regret = Bayes_ballad2000_regret.reset_index(drop=True)\n",
    "ballad2000_regret30.info()"
   ]
  },
  {
   "cell_type": "code",
   "execution_count": 242,
   "metadata": {},
   "outputs": [],
   "source": [
    "# 필요한 컬럼만 때어서 30곡 변수 저장\n",
    "ballad2000_regret30 = ballad2000_regret30[['가수명','노래제목','발매일','가사','좋아요수','감정']]"
   ]
  },
  {
   "cell_type": "markdown",
   "metadata": {},
   "source": [
    "---\n",
    "### 슬픔 30곡 추출하기"
   ]
  },
  {
   "cell_type": "code",
   "execution_count": 214,
   "metadata": {},
   "outputs": [
    {
     "data": {
      "text/plain": [
       "1457"
      ]
     },
     "execution_count": 214,
     "metadata": {},
     "output_type": "execute_result"
    }
   ],
   "source": [
    "len(Bayes_ballad2000_sad)"
   ]
  },
  {
   "cell_type": "code",
   "execution_count": 215,
   "metadata": {},
   "outputs": [
    {
     "data": {
      "text/plain": [
       "30"
      ]
     },
     "execution_count": 215,
     "metadata": {},
     "output_type": "execute_result"
    }
   ],
   "source": [
    "ran = range(0,1457)\n",
    "sad30 = sorted(random.sample(ran, 30))\n",
    "len(sad30)"
   ]
  },
  {
   "cell_type": "code",
   "execution_count": 216,
   "metadata": {},
   "outputs": [
    {
     "name": "stdout",
     "output_type": "stream",
     "text": [
      "<class 'pandas.core.frame.DataFrame'>\n",
      "RangeIndex: 30 entries, 0 to 29\n",
      "Data columns (total 9 columns):\n",
      " #   Column  Non-Null Count  Dtype \n",
      "---  ------  --------------  ----- \n",
      " 0   가수명     30 non-null     object\n",
      " 1   노래제목    30 non-null     object\n",
      " 2   발매일     30 non-null     object\n",
      " 3   가사      30 non-null     object\n",
      " 4   좋아요수    30 non-null     object\n",
      " 5   앨범사진    30 non-null     object\n",
      " 6   songId  30 non-null     int64 \n",
      " 7   순위      30 non-null     int64 \n",
      " 8   감정      30 non-null     object\n",
      "dtypes: int64(2), object(7)\n",
      "memory usage: 2.2+ KB\n"
     ]
    }
   ],
   "source": [
    "ballad2000_sad30 = Bayes_ballad2000_sad.iloc[sad30, :]\n",
    "ballad2000_sad30 = ballad2000_sad30.reset_index(drop=True)\n",
    "ballad2000_sad30.info()"
   ]
  },
  {
   "cell_type": "code",
   "execution_count": 241,
   "metadata": {},
   "outputs": [],
   "source": [
    "# 필요한 컬럼만 때어서 30곡 변수 저장\n",
    "ballad2000_sad30 = ballad2000_sad30[['가수명','노래제목','발매일','가사','좋아요수','감정']]"
   ]
  },
  {
   "cell_type": "markdown",
   "metadata": {},
   "source": [
    "---\n",
    "### 무관심 30곡 추출하기"
   ]
  },
  {
   "cell_type": "code",
   "execution_count": 217,
   "metadata": {},
   "outputs": [
    {
     "data": {
      "text/plain": [
       "82"
      ]
     },
     "execution_count": 217,
     "metadata": {},
     "output_type": "execute_result"
    }
   ],
   "source": [
    "len(Bayes_ballad2000_indifference)"
   ]
  },
  {
   "cell_type": "code",
   "execution_count": 218,
   "metadata": {},
   "outputs": [
    {
     "data": {
      "text/plain": [
       "30"
      ]
     },
     "execution_count": 218,
     "metadata": {},
     "output_type": "execute_result"
    }
   ],
   "source": [
    "ran = range(0,82)\n",
    "indifference30 = sorted(random.sample(ran, 30))\n",
    "len(indifference30)"
   ]
  },
  {
   "cell_type": "code",
   "execution_count": 219,
   "metadata": {},
   "outputs": [
    {
     "name": "stdout",
     "output_type": "stream",
     "text": [
      "<class 'pandas.core.frame.DataFrame'>\n",
      "RangeIndex: 30 entries, 0 to 29\n",
      "Data columns (total 9 columns):\n",
      " #   Column  Non-Null Count  Dtype \n",
      "---  ------  --------------  ----- \n",
      " 0   가수명     30 non-null     object\n",
      " 1   노래제목    30 non-null     object\n",
      " 2   발매일     30 non-null     object\n",
      " 3   가사      30 non-null     object\n",
      " 4   좋아요수    30 non-null     object\n",
      " 5   앨범사진    30 non-null     object\n",
      " 6   songId  30 non-null     int64 \n",
      " 7   순위      30 non-null     int64 \n",
      " 8   감정      30 non-null     object\n",
      "dtypes: int64(2), object(7)\n",
      "memory usage: 2.2+ KB\n"
     ]
    }
   ],
   "source": [
    "ballad2000_indifference30 = Bayes_ballad2000_indifference.iloc[indifference30, :]\n",
    "ballad2000_indifference30 = ballad2000_indifference30.reset_index(drop=True)\n",
    "ballad2000_indifference30.info()"
   ]
  },
  {
   "cell_type": "code",
   "execution_count": 240,
   "metadata": {},
   "outputs": [],
   "source": [
    "# 필요한 컬럼만 때어서 30곡 변수 저장\n",
    "ballad2000_indifference30 = ballad2000_indifference30[['가수명','노래제목','발매일','가사','좋아요수','감정']]"
   ]
  },
  {
   "cell_type": "markdown",
   "metadata": {},
   "source": [
    "---\n",
    "### 200곡으로 합쳐서 csv 파일로 만들기"
   ]
  },
  {
   "cell_type": "code",
   "execution_count": 244,
   "metadata": {},
   "outputs": [
    {
     "data": {
      "text/plain": [
       "80"
      ]
     },
     "execution_count": 244,
     "metadata": {},
     "output_type": "execute_result"
    }
   ],
   "source": [
    "train_data80 = pd.read_csv(\"../../Data/train_data.csv\")\n",
    "len(train_data80)"
   ]
  },
  {
   "cell_type": "code",
   "execution_count": 245,
   "metadata": {},
   "outputs": [
    {
     "data": {
      "text/html": [
       "<div>\n",
       "<style scoped>\n",
       "    .dataframe tbody tr th:only-of-type {\n",
       "        vertical-align: middle;\n",
       "    }\n",
       "\n",
       "    .dataframe tbody tr th {\n",
       "        vertical-align: top;\n",
       "    }\n",
       "\n",
       "    .dataframe thead th {\n",
       "        text-align: right;\n",
       "    }\n",
       "</style>\n",
       "<table border=\"1\" class=\"dataframe\">\n",
       "  <thead>\n",
       "    <tr style=\"text-align: right;\">\n",
       "      <th></th>\n",
       "      <th>Unnamed: 0</th>\n",
       "      <th>가수명</th>\n",
       "      <th>노래제목</th>\n",
       "      <th>발매일</th>\n",
       "      <th>가사</th>\n",
       "      <th>좋아요수</th>\n",
       "      <th>감정</th>\n",
       "    </tr>\n",
       "  </thead>\n",
       "  <tbody>\n",
       "    <tr>\n",
       "      <th>0</th>\n",
       "      <td>0</td>\n",
       "      <td>양다일</td>\n",
       "      <td>Darling</td>\n",
       "      <td>2020-11-23</td>\n",
       "      <td>Oh darling 처음 널 만나면 수줍은 대화들로 사랑에 빠질 거야 My darl...</td>\n",
       "      <td>10907</td>\n",
       "      <td>happy</td>\n",
       "    </tr>\n",
       "    <tr>\n",
       "      <th>1</th>\n",
       "      <td>1</td>\n",
       "      <td>장범준</td>\n",
       "      <td>잠이 오질 않네요</td>\n",
       "      <td>2020-10-24</td>\n",
       "      <td>당신은 날 설레게 만들어 조용한 내 마음 자꾸만 춤추게 해 얼마나 얼마나 날 떨리게...</td>\n",
       "      <td>159018</td>\n",
       "      <td>happy</td>\n",
       "    </tr>\n",
       "    <tr>\n",
       "      <th>2</th>\n",
       "      <td>2</td>\n",
       "      <td>백아연</td>\n",
       "      <td>어디라도</td>\n",
       "      <td>2020-11-18</td>\n",
       "      <td>우연의 다른 이름은 운명이란 걸 배웠죠 우리 사랑의 끝이 없는 걸 이제서야 알았죠 ...</td>\n",
       "      <td>1622</td>\n",
       "      <td>happy</td>\n",
       "    </tr>\n",
       "    <tr>\n",
       "      <th>3</th>\n",
       "      <td>3</td>\n",
       "      <td>김제훈</td>\n",
       "      <td>Love Again</td>\n",
       "      <td>2017-02-06</td>\n",
       "      <td>언제부터였을까 따뜻한 휴식을 찾고 있을 때 찾고 있을 때 그때부터였을까 맘이 포근해...</td>\n",
       "      <td>980</td>\n",
       "      <td>happy</td>\n",
       "    </tr>\n",
       "    <tr>\n",
       "      <th>4</th>\n",
       "      <td>4</td>\n",
       "      <td>김제훈</td>\n",
       "      <td>잠잠</td>\n",
       "      <td>2020-03-17</td>\n",
       "      <td>오랜만에 거길 가봤어 아무도 없는 둘만이 알던 곳 함께 걷던 거리에 서서 아무 말도...</td>\n",
       "      <td>548</td>\n",
       "      <td>happy</td>\n",
       "    </tr>\n",
       "    <tr>\n",
       "      <th>...</th>\n",
       "      <td>...</td>\n",
       "      <td>...</td>\n",
       "      <td>...</td>\n",
       "      <td>...</td>\n",
       "      <td>...</td>\n",
       "      <td>...</td>\n",
       "      <td>...</td>\n",
       "    </tr>\n",
       "    <tr>\n",
       "      <th>75</th>\n",
       "      <td>75</td>\n",
       "      <td>#안녕</td>\n",
       "      <td>너의 번호를 누르고 (Prod. 영화처럼)</td>\n",
       "      <td>2019-11-30</td>\n",
       "      <td>우연히 너를 만나서 너의 옆자리에 앉아 그렇게 우린 친해졌어 짧은 시간에 그렇게 가...</td>\n",
       "      <td>109930</td>\n",
       "      <td>indifference</td>\n",
       "    </tr>\n",
       "    <tr>\n",
       "      <th>76</th>\n",
       "      <td>76</td>\n",
       "      <td>부활</td>\n",
       "      <td>Never Ending Story</td>\n",
       "      <td>2002-09-01</td>\n",
       "      <td>손 닿을 수 없는 저기 어딘가 오늘도 난 숨쉬고 있지만 너와 머물던 작은 의자 위에...</td>\n",
       "      <td>70543</td>\n",
       "      <td>indifference</td>\n",
       "    </tr>\n",
       "    <tr>\n",
       "      <th>77</th>\n",
       "      <td>77</td>\n",
       "      <td>Chocolat.D (쇼콜라디)</td>\n",
       "      <td>그날에 우리</td>\n",
       "      <td>2016-02-05</td>\n",
       "      <td>그날에 우리 예감했었지 끊어질 것 같은 우리의 사랑 차마 말하지 못했지 마지막 그 ...</td>\n",
       "      <td>61</td>\n",
       "      <td>indifference</td>\n",
       "    </tr>\n",
       "    <tr>\n",
       "      <th>78</th>\n",
       "      <td>78</td>\n",
       "      <td>정승수</td>\n",
       "      <td>되돌릴 수 없는 이별을 해</td>\n",
       "      <td>2021-01-10</td>\n",
       "      <td>혼자 집에 걸어가는 길이 어색해 우리 예전처럼 함께 걷던 그 날이 무색해질 만큼 변...</td>\n",
       "      <td>878</td>\n",
       "      <td>indifference</td>\n",
       "    </tr>\n",
       "    <tr>\n",
       "      <th>79</th>\n",
       "      <td>79</td>\n",
       "      <td>펀치 (Punch)</td>\n",
       "      <td>헤어지는 중</td>\n",
       "      <td>2018-09-12</td>\n",
       "      <td>나를 사랑하나요 같은 곳을 보나요 이미 알고 있어요 아닌 걸 알죠 배우지 않았어도 ...</td>\n",
       "      <td>125919</td>\n",
       "      <td>indifference</td>\n",
       "    </tr>\n",
       "  </tbody>\n",
       "</table>\n",
       "<p>80 rows × 7 columns</p>\n",
       "</div>"
      ],
      "text/plain": [
       "    Unnamed: 0                가수명                     노래제목         발매일  \\\n",
       "0            0                양다일                  Darling  2020-11-23   \n",
       "1            1                장범준                잠이 오질 않네요  2020-10-24   \n",
       "2            2                백아연                     어디라도  2020-11-18   \n",
       "3            3                김제훈               Love Again  2017-02-06   \n",
       "4            4                김제훈                       잠잠  2020-03-17   \n",
       "..         ...                ...                      ...         ...   \n",
       "75          75                #안녕  너의 번호를 누르고 (Prod. 영화처럼)  2019-11-30   \n",
       "76          76                 부활       Never Ending Story  2002-09-01   \n",
       "77          77  Chocolat.D (쇼콜라디)                   그날에 우리  2016-02-05   \n",
       "78          78                정승수           되돌릴 수 없는 이별을 해  2021-01-10   \n",
       "79          79         펀치 (Punch)                   헤어지는 중  2018-09-12   \n",
       "\n",
       "                                                   가사    좋아요수            감정  \n",
       "0   Oh darling 처음 널 만나면 수줍은 대화들로 사랑에 빠질 거야 My darl...   10907         happy  \n",
       "1   당신은 날 설레게 만들어 조용한 내 마음 자꾸만 춤추게 해 얼마나 얼마나 날 떨리게...  159018         happy  \n",
       "2   우연의 다른 이름은 운명이란 걸 배웠죠 우리 사랑의 끝이 없는 걸 이제서야 알았죠 ...    1622         happy  \n",
       "3   언제부터였을까 따뜻한 휴식을 찾고 있을 때 찾고 있을 때 그때부터였을까 맘이 포근해...     980         happy  \n",
       "4   오랜만에 거길 가봤어 아무도 없는 둘만이 알던 곳 함께 걷던 거리에 서서 아무 말도...     548         happy  \n",
       "..                                                ...     ...           ...  \n",
       "75  우연히 너를 만나서 너의 옆자리에 앉아 그렇게 우린 친해졌어 짧은 시간에 그렇게 가...  109930  indifference  \n",
       "76  손 닿을 수 없는 저기 어딘가 오늘도 난 숨쉬고 있지만 너와 머물던 작은 의자 위에...   70543  indifference  \n",
       "77  그날에 우리 예감했었지 끊어질 것 같은 우리의 사랑 차마 말하지 못했지 마지막 그 ...      61  indifference  \n",
       "78  혼자 집에 걸어가는 길이 어색해 우리 예전처럼 함께 걷던 그 날이 무색해질 만큼 변...     878  indifference  \n",
       "79  나를 사랑하나요 같은 곳을 보나요 이미 알고 있어요 아닌 걸 알죠 배우지 않았어도 ...  125919  indifference  \n",
       "\n",
       "[80 rows x 7 columns]"
      ]
     },
     "execution_count": 245,
     "metadata": {},
     "output_type": "execute_result"
    }
   ],
   "source": [
    "train_data80"
   ]
  },
  {
   "cell_type": "code",
   "execution_count": 246,
   "metadata": {},
   "outputs": [],
   "source": [
    "# 필요한 컬럼만 때어서 80곡 변수 저장\n",
    "train_data80 = train_data80[['가수명','노래제목','발매일','가사','좋아요수','감정']]"
   ]
  },
  {
   "cell_type": "code",
   "execution_count": 247,
   "metadata": {},
   "outputs": [],
   "source": [
    "# 200곡으로 합치기 위해 80곡과 각 감저으이 30곡씩을 합치기\n",
    "train_data200 = pd.concat([train_data80, ballad2000_indifference30, ballad2000_sad30, ballad2000_regret30, ballad2000_happy30], ignore_index=True)"
   ]
  },
  {
   "cell_type": "code",
   "execution_count": 248,
   "metadata": {},
   "outputs": [
    {
     "data": {
      "text/html": [
       "<div>\n",
       "<style scoped>\n",
       "    .dataframe tbody tr th:only-of-type {\n",
       "        vertical-align: middle;\n",
       "    }\n",
       "\n",
       "    .dataframe tbody tr th {\n",
       "        vertical-align: top;\n",
       "    }\n",
       "\n",
       "    .dataframe thead th {\n",
       "        text-align: right;\n",
       "    }\n",
       "</style>\n",
       "<table border=\"1\" class=\"dataframe\">\n",
       "  <thead>\n",
       "    <tr style=\"text-align: right;\">\n",
       "      <th></th>\n",
       "      <th>가수명</th>\n",
       "      <th>노래제목</th>\n",
       "      <th>발매일</th>\n",
       "      <th>가사</th>\n",
       "      <th>좋아요수</th>\n",
       "      <th>감정</th>\n",
       "    </tr>\n",
       "  </thead>\n",
       "  <tbody>\n",
       "    <tr>\n",
       "      <th>0</th>\n",
       "      <td>양다일</td>\n",
       "      <td>Darling</td>\n",
       "      <td>2020-11-23</td>\n",
       "      <td>Oh darling 처음 널 만나면 수줍은 대화들로 사랑에 빠질 거야 My darl...</td>\n",
       "      <td>10907</td>\n",
       "      <td>happy</td>\n",
       "    </tr>\n",
       "    <tr>\n",
       "      <th>1</th>\n",
       "      <td>장범준</td>\n",
       "      <td>잠이 오질 않네요</td>\n",
       "      <td>2020-10-24</td>\n",
       "      <td>당신은 날 설레게 만들어 조용한 내 마음 자꾸만 춤추게 해 얼마나 얼마나 날 떨리게...</td>\n",
       "      <td>159018</td>\n",
       "      <td>happy</td>\n",
       "    </tr>\n",
       "    <tr>\n",
       "      <th>2</th>\n",
       "      <td>백아연</td>\n",
       "      <td>어디라도</td>\n",
       "      <td>2020-11-18</td>\n",
       "      <td>우연의 다른 이름은 운명이란 걸 배웠죠 우리 사랑의 끝이 없는 걸 이제서야 알았죠 ...</td>\n",
       "      <td>1622</td>\n",
       "      <td>happy</td>\n",
       "    </tr>\n",
       "    <tr>\n",
       "      <th>3</th>\n",
       "      <td>김제훈</td>\n",
       "      <td>Love Again</td>\n",
       "      <td>2017-02-06</td>\n",
       "      <td>언제부터였을까 따뜻한 휴식을 찾고 있을 때 찾고 있을 때 그때부터였을까 맘이 포근해...</td>\n",
       "      <td>980</td>\n",
       "      <td>happy</td>\n",
       "    </tr>\n",
       "    <tr>\n",
       "      <th>4</th>\n",
       "      <td>김제훈</td>\n",
       "      <td>잠잠</td>\n",
       "      <td>2020-03-17</td>\n",
       "      <td>오랜만에 거길 가봤어 아무도 없는 둘만이 알던 곳 함께 걷던 거리에 서서 아무 말도...</td>\n",
       "      <td>548</td>\n",
       "      <td>happy</td>\n",
       "    </tr>\n",
       "    <tr>\n",
       "      <th>...</th>\n",
       "      <td>...</td>\n",
       "      <td>...</td>\n",
       "      <td>...</td>\n",
       "      <td>...</td>\n",
       "      <td>...</td>\n",
       "      <td>...</td>\n",
       "    </tr>\n",
       "    <tr>\n",
       "      <th>195</th>\n",
       "      <td>샘김 (Sam Kim)</td>\n",
       "      <td>Who Are You</td>\n",
       "      <td>2016-12-25</td>\n",
       "      <td>where I am who I am 감옥 같은 이 쓸쓸함 많은 사람들이 지나갔지만...</td>\n",
       "      <td>106640</td>\n",
       "      <td>happy</td>\n",
       "    </tr>\n",
       "    <tr>\n",
       "      <th>196</th>\n",
       "      <td>NCT DREAM</td>\n",
       "      <td>너와 나 (Beautiful Time)</td>\n",
       "      <td>2018-09-03</td>\n",
       "      <td>기억나니 네가 좋아했던 그곳 재미 삼아 남긴 낙서가 아직도 변함없이 그대로네 해가 ...</td>\n",
       "      <td>53281</td>\n",
       "      <td>happy</td>\n",
       "    </tr>\n",
       "    <tr>\n",
       "      <th>197</th>\n",
       "      <td>김종국</td>\n",
       "      <td>My Love</td>\n",
       "      <td>2022-01-27</td>\n",
       "      <td>My love 그대가 날 지켜주네요 그대가 모르게 말이죠 My love 왠지 슬픈 ...</td>\n",
       "      <td>3337</td>\n",
       "      <td>happy</td>\n",
       "    </tr>\n",
       "    <tr>\n",
       "      <th>198</th>\n",
       "      <td>미도와 파라솔</td>\n",
       "      <td>벌써 일년 (Drama Ver.)</td>\n",
       "      <td>2021-07-30</td>\n",
       "      <td>처음이라 그래 며칠 뒤엔 괜찮아져 그 생각만으로 벌써 일년이 너와 만든 기념일마다...</td>\n",
       "      <td>20229</td>\n",
       "      <td>happy</td>\n",
       "    </tr>\n",
       "    <tr>\n",
       "      <th>199</th>\n",
       "      <td>케이시 (Kassy)</td>\n",
       "      <td>꿈만 같은 일이야</td>\n",
       "      <td>2019-09-05</td>\n",
       "      <td>나도 모르겠어 언제부터인지 내가 널 좋아하게 된 걸까 나조차 기억이 안 나 어느새 ...</td>\n",
       "      <td>17541</td>\n",
       "      <td>happy</td>\n",
       "    </tr>\n",
       "  </tbody>\n",
       "</table>\n",
       "<p>200 rows × 6 columns</p>\n",
       "</div>"
      ],
      "text/plain": [
       "              가수명                   노래제목         발매일  \\\n",
       "0             양다일                Darling  2020-11-23   \n",
       "1             장범준              잠이 오질 않네요  2020-10-24   \n",
       "2             백아연                   어디라도  2020-11-18   \n",
       "3             김제훈             Love Again  2017-02-06   \n",
       "4             김제훈                     잠잠  2020-03-17   \n",
       "..            ...                    ...         ...   \n",
       "195  샘김 (Sam Kim)            Who Are You  2016-12-25   \n",
       "196     NCT DREAM  너와 나 (Beautiful Time)  2018-09-03   \n",
       "197           김종국                My Love  2022-01-27   \n",
       "198       미도와 파라솔     벌써 일년 (Drama Ver.)  2021-07-30   \n",
       "199   케이시 (Kassy)              꿈만 같은 일이야  2019-09-05   \n",
       "\n",
       "                                                    가사    좋아요수     감정  \n",
       "0    Oh darling 처음 널 만나면 수줍은 대화들로 사랑에 빠질 거야 My darl...   10907  happy  \n",
       "1    당신은 날 설레게 만들어 조용한 내 마음 자꾸만 춤추게 해 얼마나 얼마나 날 떨리게...  159018  happy  \n",
       "2    우연의 다른 이름은 운명이란 걸 배웠죠 우리 사랑의 끝이 없는 걸 이제서야 알았죠 ...    1622  happy  \n",
       "3    언제부터였을까 따뜻한 휴식을 찾고 있을 때 찾고 있을 때 그때부터였을까 맘이 포근해...     980  happy  \n",
       "4    오랜만에 거길 가봤어 아무도 없는 둘만이 알던 곳 함께 걷던 거리에 서서 아무 말도...     548  happy  \n",
       "..                                                 ...     ...    ...  \n",
       "195   where I am who I am 감옥 같은 이 쓸쓸함 많은 사람들이 지나갔지만...  106640  happy  \n",
       "196  기억나니 네가 좋아했던 그곳 재미 삼아 남긴 낙서가 아직도 변함없이 그대로네 해가 ...   53281  happy  \n",
       "197  My love 그대가 날 지켜주네요 그대가 모르게 말이죠 My love 왠지 슬픈 ...    3337  happy  \n",
       "198   처음이라 그래 며칠 뒤엔 괜찮아져 그 생각만으로 벌써 일년이 너와 만든 기념일마다...   20229  happy  \n",
       "199  나도 모르겠어 언제부터인지 내가 널 좋아하게 된 걸까 나조차 기억이 안 나 어느새 ...   17541  happy  \n",
       "\n",
       "[200 rows x 6 columns]"
      ]
     },
     "execution_count": 248,
     "metadata": {},
     "output_type": "execute_result"
    }
   ],
   "source": [
    "train_data200"
   ]
  },
  {
   "cell_type": "code",
   "execution_count": 249,
   "metadata": {},
   "outputs": [],
   "source": [
    "# 감정으로 정렬시키기\n",
    "train_data200.sort_values(['감정'], inplace=True)"
   ]
  },
  {
   "cell_type": "code",
   "execution_count": 254,
   "metadata": {},
   "outputs": [
    {
     "data": {
      "text/html": [
       "<div>\n",
       "<style scoped>\n",
       "    .dataframe tbody tr th:only-of-type {\n",
       "        vertical-align: middle;\n",
       "    }\n",
       "\n",
       "    .dataframe tbody tr th {\n",
       "        vertical-align: top;\n",
       "    }\n",
       "\n",
       "    .dataframe thead th {\n",
       "        text-align: right;\n",
       "    }\n",
       "</style>\n",
       "<table border=\"1\" class=\"dataframe\">\n",
       "  <thead>\n",
       "    <tr style=\"text-align: right;\">\n",
       "      <th></th>\n",
       "      <th>가수명</th>\n",
       "      <th>노래제목</th>\n",
       "      <th>발매일</th>\n",
       "      <th>가사</th>\n",
       "      <th>좋아요수</th>\n",
       "      <th>감정</th>\n",
       "    </tr>\n",
       "  </thead>\n",
       "  <tbody>\n",
       "    <tr>\n",
       "      <th>0</th>\n",
       "      <td>양다일</td>\n",
       "      <td>Darling</td>\n",
       "      <td>2020-11-23</td>\n",
       "      <td>Oh darling 처음 널 만나면 수줍은 대화들로 사랑에 빠질 거야 My darl...</td>\n",
       "      <td>10907</td>\n",
       "      <td>happy</td>\n",
       "    </tr>\n",
       "    <tr>\n",
       "      <th>1</th>\n",
       "      <td>포맨 (4MEN)</td>\n",
       "      <td>Say I Love You</td>\n",
       "      <td>2010-08-26</td>\n",
       "      <td>입을 맞춰도 불안하고 품에 안아도 초조하고 잠이 들때도 꿈처럼 사라질까 밤새 뒤척...</td>\n",
       "      <td>25945</td>\n",
       "      <td>happy</td>\n",
       "    </tr>\n",
       "    <tr>\n",
       "      <th>2</th>\n",
       "      <td>V</td>\n",
       "      <td>Sweet Night</td>\n",
       "      <td>2020-03-13</td>\n",
       "      <td>On my pillow Can’t get me tired Sharing my fra...</td>\n",
       "      <td>117676</td>\n",
       "      <td>happy</td>\n",
       "    </tr>\n",
       "    <tr>\n",
       "      <th>3</th>\n",
       "      <td>포맨 (4MEN)</td>\n",
       "      <td>너의 눈에 별이 떠 있어</td>\n",
       "      <td>2022-06-13</td>\n",
       "      <td>너의 눈에 별이 떠 있어 그 빛이 날 부르고 있어 날 봐요 그렇게 아른대게 웃으면...</td>\n",
       "      <td>2053</td>\n",
       "      <td>happy</td>\n",
       "    </tr>\n",
       "    <tr>\n",
       "      <th>4</th>\n",
       "      <td>전건호</td>\n",
       "      <td>다정히 내 이름을 부르면 (남자 Ver.)</td>\n",
       "      <td>2021-10-18</td>\n",
       "      <td>뜨거운 계절을 보내던 날 기분 좋은 바람이 두 빰을 스치는 가을 바다 한곳에 서서...</td>\n",
       "      <td>10493</td>\n",
       "      <td>happy</td>\n",
       "    </tr>\n",
       "    <tr>\n",
       "      <th>...</th>\n",
       "      <td>...</td>\n",
       "      <td>...</td>\n",
       "      <td>...</td>\n",
       "      <td>...</td>\n",
       "      <td>...</td>\n",
       "      <td>...</td>\n",
       "    </tr>\n",
       "    <tr>\n",
       "      <th>195</th>\n",
       "      <td>벤</td>\n",
       "      <td>내 목소리 들리니</td>\n",
       "      <td>2019-08-11</td>\n",
       "      <td>오랫동안 나는 울고 있어요 그대 마음이 보이지 않아서 그대 앞에 내가 여기 서있는...</td>\n",
       "      <td>71128</td>\n",
       "      <td>sad</td>\n",
       "    </tr>\n",
       "    <tr>\n",
       "      <th>196</th>\n",
       "      <td>임창정</td>\n",
       "      <td>그때 또 다시 (Again)</td>\n",
       "      <td>1997-05-16</td>\n",
       "      <td>니가 없는데도 해는 뜨고 또 지고 창 너머 세상은 하나 변한게 없어 삼켰었던 내 ...</td>\n",
       "      <td>25266</td>\n",
       "      <td>sad</td>\n",
       "    </tr>\n",
       "    <tr>\n",
       "      <th>197</th>\n",
       "      <td>노을</td>\n",
       "      <td>만약에 말야 (전우성 Solo)</td>\n",
       "      <td>2012-11-06</td>\n",
       "      <td>만약에 말야 우리 조금 어렸었다면 지금 어땠었을까 만약에 말야 우리 지금 이럴 거...</td>\n",
       "      <td>93152</td>\n",
       "      <td>sad</td>\n",
       "    </tr>\n",
       "    <tr>\n",
       "      <th>198</th>\n",
       "      <td>이구이 (IGWI)</td>\n",
       "      <td>사랑 없는 노래</td>\n",
       "      <td>2020-08-21</td>\n",
       "      <td>세상에 사랑 관련된 노래가 너무 많아 그럼 그걸 빼고 노래해 볼까 세상엔 잘 안 보...</td>\n",
       "      <td>17011</td>\n",
       "      <td>sad</td>\n",
       "    </tr>\n",
       "    <tr>\n",
       "      <th>199</th>\n",
       "      <td>허각</td>\n",
       "      <td>행복한 나를 (Feat. 존박)</td>\n",
       "      <td>2010-11-16</td>\n",
       "      <td>몇번인가 이별을 경험하고서 널 만났지 그래서 더 시작이 두려웠는지 몰라 하지만 누...</td>\n",
       "      <td>47765</td>\n",
       "      <td>sad</td>\n",
       "    </tr>\n",
       "  </tbody>\n",
       "</table>\n",
       "<p>200 rows × 6 columns</p>\n",
       "</div>"
      ],
      "text/plain": [
       "            가수명                     노래제목         발매일  \\\n",
       "0           양다일                  Darling  2020-11-23   \n",
       "1     포맨 (4MEN)           Say I Love You  2010-08-26   \n",
       "2             V              Sweet Night  2020-03-13   \n",
       "3     포맨 (4MEN)            너의 눈에 별이 떠 있어  2022-06-13   \n",
       "4           전건호  다정히 내 이름을 부르면 (남자 Ver.)  2021-10-18   \n",
       "..          ...                      ...         ...   \n",
       "195           벤                내 목소리 들리니  2019-08-11   \n",
       "196         임창정          그때 또 다시 (Again)  1997-05-16   \n",
       "197          노을        만약에 말야 (전우성 Solo)  2012-11-06   \n",
       "198  이구이 (IGWI)                 사랑 없는 노래  2020-08-21   \n",
       "199          허각        행복한 나를 (Feat. 존박)  2010-11-16   \n",
       "\n",
       "                                                    가사    좋아요수     감정  \n",
       "0    Oh darling 처음 널 만나면 수줍은 대화들로 사랑에 빠질 거야 My darl...   10907  happy  \n",
       "1     입을 맞춰도 불안하고 품에 안아도 초조하고 잠이 들때도 꿈처럼 사라질까 밤새 뒤척...   25945  happy  \n",
       "2    On my pillow Can’t get me tired Sharing my fra...  117676  happy  \n",
       "3     너의 눈에 별이 떠 있어 그 빛이 날 부르고 있어 날 봐요 그렇게 아른대게 웃으면...    2053  happy  \n",
       "4     뜨거운 계절을 보내던 날 기분 좋은 바람이 두 빰을 스치는 가을 바다 한곳에 서서...   10493  happy  \n",
       "..                                                 ...     ...    ...  \n",
       "195   오랫동안 나는 울고 있어요 그대 마음이 보이지 않아서 그대 앞에 내가 여기 서있는...   71128    sad  \n",
       "196   니가 없는데도 해는 뜨고 또 지고 창 너머 세상은 하나 변한게 없어 삼켰었던 내 ...   25266    sad  \n",
       "197   만약에 말야 우리 조금 어렸었다면 지금 어땠었을까 만약에 말야 우리 지금 이럴 거...   93152    sad  \n",
       "198  세상에 사랑 관련된 노래가 너무 많아 그럼 그걸 빼고 노래해 볼까 세상엔 잘 안 보...   17011    sad  \n",
       "199   몇번인가 이별을 경험하고서 널 만났지 그래서 더 시작이 두려웠는지 몰라 하지만 누...   47765    sad  \n",
       "\n",
       "[200 rows x 6 columns]"
      ]
     },
     "execution_count": 254,
     "metadata": {},
     "output_type": "execute_result"
    }
   ],
   "source": [
    "# 인덱스 정렬시키기\n",
    "train_ballad200 = train_data200.reset_index(drop=True)\n",
    "train_ballad200"
   ]
  },
  {
   "cell_type": "code",
   "execution_count": 257,
   "metadata": {},
   "outputs": [
    {
     "name": "stdout",
     "output_type": "stream",
     "text": [
      "<class 'pandas.core.frame.DataFrame'>\n",
      "RangeIndex: 200 entries, 0 to 199\n",
      "Data columns (total 6 columns):\n",
      " #   Column  Non-Null Count  Dtype \n",
      "---  ------  --------------  ----- \n",
      " 0   가수명     200 non-null    object\n",
      " 1   노래제목    200 non-null    object\n",
      " 2   발매일     200 non-null    object\n",
      " 3   가사      200 non-null    object\n",
      " 4   좋아요수    200 non-null    object\n",
      " 5   감정      200 non-null    object\n",
      "dtypes: object(6)\n",
      "memory usage: 9.5+ KB\n"
     ]
    }
   ],
   "source": [
    "# 200곡 정보보기\n",
    "train_ballad200.info()"
   ]
  },
  {
   "cell_type": "code",
   "execution_count": 258,
   "metadata": {},
   "outputs": [
    {
     "data": {
      "text/plain": [
       "\" 너의 눈에 별이 떠 있어 그 빛이 날 부르고 있어 날 봐요 그렇게 아른대게 웃으면 I'm into you 푸른빛이 밀려온다 꿈을 꾸듯 떨려온다 너에게로 빠져든다 너의 눈에 별이 떠 있어 그 빛 속에 내가 서 있어 소리 없이 네가 내게 떨어진다 내 가슴에 안긴다 My love My light My star 까만 밤이 눈부신 이유 모든 빛이 새로 시작된 이유 네가 내게 쏟아진다 나의 품에 번진다 My love My light My star 널 사랑해 아나요 입술에 그대 숨이 닿으면 Blow in my heart 바람빛이 불어온다 달콤함에 젖어 든다 너에게로 빠져든다 너의 눈에 별이 떠 있어 그 빛 속에 내가 서 있어 소리 없이 네가 내게 떨어진다 내 가슴에 안긴다 My love My light My star 널 사랑해 눈을 감아도 왜 눈이 부신 걸까 I'll be your night You Love me like a shining star 난 너의 품에 안기고 싶어 그 품 안에 숨 쉬고 싶어 찬란하게 네가 내게 달려온다 나를 끌어안는다 You're mine I'm yours Forever 까만 밤이 눈부신 이유 모든 빛이 새로 시작된 이유 네가 내게 쏟아진다 나의 품에 번진다 My love My light My star 널 사랑해  \""
      ]
     },
     "execution_count": 258,
     "metadata": {},
     "output_type": "execute_result"
    }
   ],
   "source": [
    "train_ballad200.iloc[3]['가사']"
   ]
  },
  {
   "cell_type": "code",
   "execution_count": 256,
   "metadata": {},
   "outputs": [],
   "source": [
    "train_ballad200.to_csv(\"../../Data/train_ballad200.csv\", index=None)"
   ]
  },
  {
   "cell_type": "code",
   "execution_count": null,
   "metadata": {},
   "outputs": [],
   "source": []
  }
 ],
 "metadata": {
  "kernelspec": {
   "display_name": "Python 3.9.7 ('base')",
   "language": "python",
   "name": "python3"
  },
  "language_info": {
   "codemirror_mode": {
    "name": "ipython",
    "version": 3
   },
   "file_extension": ".py",
   "mimetype": "text/x-python",
   "name": "python",
   "nbconvert_exporter": "python",
   "pygments_lexer": "ipython3",
   "version": "3.9.7"
  },
  "orig_nbformat": 4,
  "vscode": {
   "interpreter": {
    "hash": "c34e8390e776d2ee205b71ed5a6130fee3cef8da5e87e926ce18e14f4a070d72"
   }
  }
 },
 "nbformat": 4,
 "nbformat_minor": 2
}
