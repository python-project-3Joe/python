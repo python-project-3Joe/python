{
 "cells": [
  {
   "cell_type": "code",
   "execution_count": 1,
   "metadata": {},
   "outputs": [],
   "source": [
    "from bayes import BayesianFilter\n",
    "import pandas as pd"
   ]
  },
  {
   "cell_type": "code",
   "execution_count": 2,
   "metadata": {},
   "outputs": [],
   "source": [
    "ballad2000 = pd.read_csv(\"../../Data/Bayes_ballad2000.csv\")"
   ]
  },
  {
   "cell_type": "code",
   "execution_count": 3,
   "metadata": {},
   "outputs": [],
   "source": [
    "ballad2000 = ballad2000.sort_values('감정')"
   ]
  },
  {
   "cell_type": "code",
   "execution_count": 4,
   "metadata": {},
   "outputs": [
    {
     "data": {
      "text/html": [
       "<div>\n",
       "<style scoped>\n",
       "    .dataframe tbody tr th:only-of-type {\n",
       "        vertical-align: middle;\n",
       "    }\n",
       "\n",
       "    .dataframe tbody tr th {\n",
       "        vertical-align: top;\n",
       "    }\n",
       "\n",
       "    .dataframe thead th {\n",
       "        text-align: right;\n",
       "    }\n",
       "</style>\n",
       "<table border=\"1\" class=\"dataframe\">\n",
       "  <thead>\n",
       "    <tr style=\"text-align: right;\">\n",
       "      <th></th>\n",
       "      <th>가사</th>\n",
       "      <th>감정</th>\n",
       "    </tr>\n",
       "  </thead>\n",
       "  <tbody>\n",
       "    <tr>\n",
       "      <th>1099</th>\n",
       "      <td>늦었네 자야 되는데 머릿속에 양은 벌써 다 셌어 어떻게든 잠들어 보려 했던 샤워도 ...</td>\n",
       "      <td>happy</td>\n",
       "    </tr>\n",
       "    <tr>\n",
       "      <th>582</th>\n",
       "      <td>괜시리 웃음이나 또 생각이나 사랑이란게 비슷한걸까 낮의 해와 밤의 달도 내맘을 모...</td>\n",
       "      <td>happy</td>\n",
       "    </tr>\n",
       "    <tr>\n",
       "      <th>583</th>\n",
       "      <td>어쩌면 넌 나에게 말하지 않아도 내 맘 가득히 전하고 있나 봐 우연일까 정말 소소...</td>\n",
       "      <td>happy</td>\n",
       "    </tr>\n",
       "    <tr>\n",
       "      <th>1171</th>\n",
       "      <td>넌 몰랐겠지만 Love is Fiction  이미 모든 건 다 정해져 있는 걸 그대...</td>\n",
       "      <td>happy</td>\n",
       "    </tr>\n",
       "    <tr>\n",
       "      <th>909</th>\n",
       "      <td>나른한 햇살이 찾아들면 멍하니 창밖을 바라만보다가 지난 생각속에 잠겨 떠올리던 너...</td>\n",
       "      <td>happy</td>\n",
       "    </tr>\n",
       "    <tr>\n",
       "      <th>...</th>\n",
       "      <td>...</td>\n",
       "      <td>...</td>\n",
       "    </tr>\n",
       "    <tr>\n",
       "      <th>756</th>\n",
       "      <td>그럭저럭 잘 지내 네가 없는 게 익숙해졌어 매일 밤마다 울던 내가 괜찮은 척할 수...</td>\n",
       "      <td>sad</td>\n",
       "    </tr>\n",
       "    <tr>\n",
       "      <th>755</th>\n",
       "      <td>한사람만 사랑하게 해 주소서 흔들리지 않는 맘을 내게 주소서 흐르는 강물처럼 영원...</td>\n",
       "      <td>sad</td>\n",
       "    </tr>\n",
       "    <tr>\n",
       "      <th>754</th>\n",
       "      <td>자꾸 물어보는 너 늘 확인하고픈 너 같은 말해줘도 매일 말해줘도 왜 계속 물어 입...</td>\n",
       "      <td>sad</td>\n",
       "    </tr>\n",
       "    <tr>\n",
       "      <th>770</th>\n",
       "      <td>우리 이제 헤어지기로 해 너도 알잖아 우린 충분했다는 걸 이별이 무서워 자꾸 피해...</td>\n",
       "      <td>sad</td>\n",
       "    </tr>\n",
       "    <tr>\n",
       "      <th>1912</th>\n",
       "      <td>이 동전 하나로 뭘 할 수 있을까 고민 고민하다가 나 혼자 이곳에 왔어 익숙한 번호...</td>\n",
       "      <td>sad</td>\n",
       "    </tr>\n",
       "  </tbody>\n",
       "</table>\n",
       "<p>1913 rows × 2 columns</p>\n",
       "</div>"
      ],
      "text/plain": [
       "                                                     가사     감정\n",
       "1099  늦었네 자야 되는데 머릿속에 양은 벌써 다 셌어 어떻게든 잠들어 보려 했던 샤워도 ...  happy\n",
       "582    괜시리 웃음이나 또 생각이나 사랑이란게 비슷한걸까 낮의 해와 밤의 달도 내맘을 모...  happy\n",
       "583    어쩌면 넌 나에게 말하지 않아도 내 맘 가득히 전하고 있나 봐 우연일까 정말 소소...  happy\n",
       "1171  넌 몰랐겠지만 Love is Fiction  이미 모든 건 다 정해져 있는 걸 그대...  happy\n",
       "909    나른한 햇살이 찾아들면 멍하니 창밖을 바라만보다가 지난 생각속에 잠겨 떠올리던 너...  happy\n",
       "...                                                 ...    ...\n",
       "756    그럭저럭 잘 지내 네가 없는 게 익숙해졌어 매일 밤마다 울던 내가 괜찮은 척할 수...    sad\n",
       "755    한사람만 사랑하게 해 주소서 흔들리지 않는 맘을 내게 주소서 흐르는 강물처럼 영원...    sad\n",
       "754    자꾸 물어보는 너 늘 확인하고픈 너 같은 말해줘도 매일 말해줘도 왜 계속 물어 입...    sad\n",
       "770    우리 이제 헤어지기로 해 너도 알잖아 우린 충분했다는 걸 이별이 무서워 자꾸 피해...    sad\n",
       "1912  이 동전 하나로 뭘 할 수 있을까 고민 고민하다가 나 혼자 이곳에 왔어 익숙한 번호...    sad\n",
       "\n",
       "[1913 rows x 2 columns]"
      ]
     },
     "execution_count": 4,
     "metadata": {},
     "output_type": "execute_result"
    }
   ],
   "source": [
    "ballad2000[['가사','감정']]"
   ]
  },
  {
   "cell_type": "code",
   "execution_count": 5,
   "metadata": {},
   "outputs": [
    {
     "data": {
      "text/plain": [
       "'유난히 밝은 달 거대한 원형 속에 보이네 너의 미소 샤워하고 걸쳐 두른 샤워가운 베란다로 나와 자막 없이 밤하늘 보고 번역 없는 바람 소릴 듣지 눈물이 고이네 슬퍼서 달이 너무 슬퍼서 비가 오면 좋겠어 오늘 밤엔 유난히 밝은 달 거대한 원형 속에 보이네 너의 미소 나도 살짝 웃어 보이면 저 달에 비칠까 적당히 습한 공기가 너의 손길 같아 심야 깊은 밤의 온기가 너의 말투 같아 귀 기울이면 눈물이 고이네 슬퍼서 달이 너무 슬퍼서 네가 오면 좋겠어 오늘 밤엔 유난히 밝은 달 거대한 원형 속에 보이네 너의 미소 나도 살짝 웃어 보이면 저 달에 비칠까 유난히 밝은 달 우리가 유일하게 공유하는 것 아직도 나도 살짝 웃어 보이면 샤워하고 걸쳐 두른 네 향기 난 오늘도 달에 밤 인사를 건네 음소거로 소리 없이 흐느낀 난 오늘도 달에 밤 인사를 건네 샤워하고 걸쳐 두른 네 향기 난 오늘도 달에 밤 인사를 건네 음소거로 소리 없이 흐느낀 난 오늘도 달에 밤 인사를 건네 '"
      ]
     },
     "execution_count": 5,
     "metadata": {},
     "output_type": "execute_result"
    }
   ],
   "source": [
    "ballad2000.iloc[270].가사"
   ]
  },
  {
   "cell_type": "markdown",
   "metadata": {},
   "source": [
    "---\n",
    "# 긍정"
   ]
  },
  {
   "cell_type": "code",
   "execution_count": 6,
   "metadata": {},
   "outputs": [],
   "source": [
    "기쁨 = ['끝없이 별빛이 내리던 밤 기분 좋은 바람이 두 빰을 스치고 새벽 바다 한곳을 보는 아름다운 너와 나 그림을 그려갔어',\n",
    "  '날 향해 웃어주는 입술 끝 모양과 저 달보다 사랑스러운 두 눈을 가진 네가 다정히 내 이름을 부르면 내 마음이 녹아내려',\n",
    "  '내게 보였던 그 미소 다 너무 예뻐서 더 보고 싶어서 나를 달래고 있죠',\n",
    "  '끝없이 별빛이 내리던 밤 기분 좋은 바람이 두 빰을 스치고 새벽 바다 한곳을 보는 아름다운 너와 나 그림을 그려갔어',\n",
    "  '너를 기다리다가 문득 행복한 상상이 현실이 되길 기도하니까 내 눈엔 너만 빛나고 있어',\n",
    "  '오늘 널 위해 예쁜 옷을 입고 세상 가장 예쁜 미소를 짓고서 떨리는 마음으로 네게 지금 걸어갈게',\n",
    "  '한껏 들뜬 발걸음으로 반겨줘요 따스한 그대의 품속으로 바쁘게 달려가 힘껏 안겨볼래요',\n",
    "  '날 향해 웃어주는 입술 끝 모양과 저 달보다 사랑스러운 두 눈을 가진 네가 다정히 내 이름을 부르면 내 마음이 녹아내려',\n",
    "  '모든 햇살들이 날 비추고 모든 바람들이 나와 함께 걸어 한 발짝 두 발짝 너에게 가는 길이 전부 꿈만 같은 일이야',\n",
    "  '먼 훗날 내 생애 아주 작은 소리로 귓가에 말할 거야 내 곁에 머물러줘서 마음 다해 고맙다고 어떤 말로도 표현 못 할 내 인생의 전부였다고 이 순간 너를 꼭 안고 고백할게 언제나 우리 모든 날들과 햇살 아래 우리 그림자 제일로 특별하다고 세 계절의 끝을 지나서 너의 앞에 서있는 지금 선명한 목소리로 널 사랑한다고 말할게'\n",
    "]"
   ]
  },
  {
   "cell_type": "markdown",
   "metadata": {},
   "source": [
    "---\n",
    "# 부정( 슬픔, 후회 )"
   ]
  },
  {
   "cell_type": "code",
   "execution_count": 7,
   "metadata": {},
   "outputs": [],
   "source": [
    "슬픔 = ['헤어질 때 늘 하던 짧은 인사가 오늘따라 왜 이렇게 서글픈 거니 눈물이 두 뺨 위로 흘러 내릴 때 그때서야 이별인 줄 알았어',\n",
    "        '네 자리가 너무 커서 채울 수 없어서 내 눈물만 흘러 넘쳐나 죽어도 죽어도 난 널 못잊어',\n",
    "        '그대 눈물이 시린 바람에 흐르지 못하고 여린 마음이 황량한 길 그 어디엔가 메말라 갈 때에 그대 안에 나의 마음들을 채워 주고 싶어 그대 무너지지 않게',\n",
    "        '길었던 하루 그림잔 아직도 아픔을 서성일까 말없이 기다려 보면 쓰러질 듯 내게 와 안기는데 마음에 얹힌 슬픈 기억은 쏟아낸 눈물로는 지울 수 없어',\n",
    "        '비가 내리던 어느 날 그 순간이 오면 니가 너무 보고싶어 울다 지쳐 혼자 내게 말해본다',\n",
    "        '서로가 상처만 주고 눈물만 흘리고 미움만 커지고 끝나 사랑같은 거 안 해',\n",
    "        '말도 못해 보다시피 난 잘 못 지내 너의 기억과 눈물만 삼키면 마지못해 살아',\n",
    "        '이렇게 나를 울려도 미안해 널 잊을수가 없어서 매일 숨을 쉴때마다 눈 감을때마다 니 기억과 함께 사는걸 어떡해 나 정말 너무 아픈데 너땜에 딴 사랑도 못하잖아',\n",
    "        '내가 너무 미워 미치도록 난 내가 싫어 내가 별나서 못되게 해서 그대를 놓치고야 마는 내가 미워요',\n",
    "        '아픈 이별 안고 사는 슬픈 가슴은 널 미워할 수 있겠지 외로워서 보고 싶어도 그리워서 찾고 싶어도 다시는 마주치지 말자'\n",
    "]"
   ]
  },
  {
   "cell_type": "markdown",
   "metadata": {},
   "source": [
    "---\n",
    "# 중립\n",
    "\n",
    "> 12개"
   ]
  },
  {
   "cell_type": "code",
   "execution_count": 8,
   "metadata": {},
   "outputs": [],
   "source": [
    "무덤덤 = ['비바람이 없어도 봄은 오고 여름은 가고 오 그대여 눈물이 없어도 꽃은 피고 낙엽은 지네 오 내 남은 그리움 세월에 띄우고 잠이 드네 꿈을 꾸네 잠이 드네 꿈을 꾸네',\n",
    "        '맨발로 기억을 거닐다 노란 은행나무에 숨은 나의 옛날 추억을 불러본다 맨발로 기억을 거닐다 불어오는 바람에 가슴으로 감은 눈을 꼭 안아본다',\n",
    "        '멍하니 앉아서 쉬기도 하고 가끔 길을 잃어도 서두르지 않는 법 언젠가는 나도 알게 되겠지',\n",
    "        '가벼운 발걸음 닿는 대로 끝없이 이어진 길을 천천히 걸어가네 내가 자라고 정든 이 거리를 난 가끔 그리워하겠지만 이렇게 나는 떠나네 더 넓은 세상으로',\n",
    "        '너는 조용히 내려 나의 가물은 곳에 고이고 나는 한참을 서서 가만히 머금은 채로 그대로 나의 여름 가장 푸르던 그 밤',\n",
    "        '긴 여행을 끝내리 미련 없이 아무도 내게 말해주지 않는 정말로 내가 누군지 알기 위해',\n",
    "        '고요한 바다 위로 내 노래가 떠간다 소리도 부끄러워 숨죽이고 떠간다',\n",
    "        '달빛만이 흘러 바다가 되고 지쳐 전하지 못하는 수월가 서로 가자 굽이굽이 쳐 가자',\n",
    "        '야속히 흩어질 그 순간에도 후회는 없어 발을 떼지 않을 것임',\n",
    "        '사랑이 다른 사랑으로 잊혀지네 이대로 우리는 좋아보여 후회는 없는걸 믿으며 흘러가'\n",
    "        ]"
   ]
  },
  {
   "cell_type": "code",
   "execution_count": 9,
   "metadata": {},
   "outputs": [],
   "source": [
    "dict1 = {\n",
    "    \"문장\" : 기쁨,\n",
    "    \"감정\" : ['positive']*10\n",
    "}\n",
    "dict2 = {\n",
    "    \"문장\" : 무덤덤,\n",
    "    \"감정\" : ['neutral']*10\n",
    "}\n",
    "dict3 = {\n",
    "    \"문장\" : 슬픔,\n",
    "    \"감정\" : ['negative']*10\n",
    "}"
   ]
  },
  {
   "cell_type": "code",
   "execution_count": 10,
   "metadata": {},
   "outputs": [
    {
     "data": {
      "text/html": [
       "<div>\n",
       "<style scoped>\n",
       "    .dataframe tbody tr th:only-of-type {\n",
       "        vertical-align: middle;\n",
       "    }\n",
       "\n",
       "    .dataframe tbody tr th {\n",
       "        vertical-align: top;\n",
       "    }\n",
       "\n",
       "    .dataframe thead th {\n",
       "        text-align: right;\n",
       "    }\n",
       "</style>\n",
       "<table border=\"1\" class=\"dataframe\">\n",
       "  <thead>\n",
       "    <tr style=\"text-align: right;\">\n",
       "      <th></th>\n",
       "      <th>문장</th>\n",
       "      <th>감정</th>\n",
       "    </tr>\n",
       "  </thead>\n",
       "  <tbody>\n",
       "    <tr>\n",
       "      <th>0</th>\n",
       "      <td>끝없이 별빛이 내리던 밤 기분 좋은 바람이 두 빰을 스치고 새벽 바다 한곳을 보는 ...</td>\n",
       "      <td>positive</td>\n",
       "    </tr>\n",
       "    <tr>\n",
       "      <th>1</th>\n",
       "      <td>날 향해 웃어주는 입술 끝 모양과 저 달보다 사랑스러운 두 눈을 가진 네가 다정히 ...</td>\n",
       "      <td>positive</td>\n",
       "    </tr>\n",
       "    <tr>\n",
       "      <th>2</th>\n",
       "      <td>내게 보였던 그 미소 다 너무 예뻐서 더 보고 싶어서 나를 달래고 있죠</td>\n",
       "      <td>positive</td>\n",
       "    </tr>\n",
       "    <tr>\n",
       "      <th>3</th>\n",
       "      <td>끝없이 별빛이 내리던 밤 기분 좋은 바람이 두 빰을 스치고 새벽 바다 한곳을 보는 ...</td>\n",
       "      <td>positive</td>\n",
       "    </tr>\n",
       "    <tr>\n",
       "      <th>4</th>\n",
       "      <td>너를 기다리다가 문득 행복한 상상이 현실이 되길 기도하니까 내 눈엔 너만 빛나고 있어</td>\n",
       "      <td>positive</td>\n",
       "    </tr>\n",
       "    <tr>\n",
       "      <th>5</th>\n",
       "      <td>오늘 널 위해 예쁜 옷을 입고 세상 가장 예쁜 미소를 짓고서 떨리는 마음으로 네게 ...</td>\n",
       "      <td>positive</td>\n",
       "    </tr>\n",
       "    <tr>\n",
       "      <th>6</th>\n",
       "      <td>한껏 들뜬 발걸음으로 반겨줘요 따스한 그대의 품속으로 바쁘게 달려가 힘껏 안겨볼래요</td>\n",
       "      <td>positive</td>\n",
       "    </tr>\n",
       "    <tr>\n",
       "      <th>7</th>\n",
       "      <td>날 향해 웃어주는 입술 끝 모양과 저 달보다 사랑스러운 두 눈을 가진 네가 다정히 ...</td>\n",
       "      <td>positive</td>\n",
       "    </tr>\n",
       "    <tr>\n",
       "      <th>8</th>\n",
       "      <td>모든 햇살들이 날 비추고 모든 바람들이 나와 함께 걸어 한 발짝 두 발짝 너에게 가...</td>\n",
       "      <td>positive</td>\n",
       "    </tr>\n",
       "    <tr>\n",
       "      <th>9</th>\n",
       "      <td>먼 훗날 내 생애 아주 작은 소리로 귓가에 말할 거야 내 곁에 머물러줘서 마음 다해...</td>\n",
       "      <td>positive</td>\n",
       "    </tr>\n",
       "    <tr>\n",
       "      <th>0</th>\n",
       "      <td>비바람이 없어도 봄은 오고 여름은 가고 오 그대여 눈물이 없어도 꽃은 피고 낙엽은 ...</td>\n",
       "      <td>neutral</td>\n",
       "    </tr>\n",
       "    <tr>\n",
       "      <th>1</th>\n",
       "      <td>맨발로 기억을 거닐다 노란 은행나무에 숨은 나의 옛날 추억을 불러본다 맨발로 기억을...</td>\n",
       "      <td>neutral</td>\n",
       "    </tr>\n",
       "    <tr>\n",
       "      <th>2</th>\n",
       "      <td>멍하니 앉아서 쉬기도 하고 가끔 길을 잃어도 서두르지 않는 법 언젠가는 나도 알게 되겠지</td>\n",
       "      <td>neutral</td>\n",
       "    </tr>\n",
       "    <tr>\n",
       "      <th>3</th>\n",
       "      <td>가벼운 발걸음 닿는 대로 끝없이 이어진 길을 천천히 걸어가네 내가 자라고 정든 이 ...</td>\n",
       "      <td>neutral</td>\n",
       "    </tr>\n",
       "    <tr>\n",
       "      <th>4</th>\n",
       "      <td>너는 조용히 내려 나의 가물은 곳에 고이고 나는 한참을 서서 가만히 머금은 채로 그...</td>\n",
       "      <td>neutral</td>\n",
       "    </tr>\n",
       "    <tr>\n",
       "      <th>5</th>\n",
       "      <td>긴 여행을 끝내리 미련 없이 아무도 내게 말해주지 않는 정말로 내가 누군지 알기 위해</td>\n",
       "      <td>neutral</td>\n",
       "    </tr>\n",
       "    <tr>\n",
       "      <th>6</th>\n",
       "      <td>고요한 바다 위로 내 노래가 떠간다 소리도 부끄러워 숨죽이고 떠간다</td>\n",
       "      <td>neutral</td>\n",
       "    </tr>\n",
       "    <tr>\n",
       "      <th>7</th>\n",
       "      <td>달빛만이 흘러 바다가 되고 지쳐 전하지 못하는 수월가 서로 가자 굽이굽이 쳐 가자</td>\n",
       "      <td>neutral</td>\n",
       "    </tr>\n",
       "    <tr>\n",
       "      <th>8</th>\n",
       "      <td>야속히 흩어질 그 순간에도 후회는 없어 발을 떼지 않을 것임</td>\n",
       "      <td>neutral</td>\n",
       "    </tr>\n",
       "    <tr>\n",
       "      <th>9</th>\n",
       "      <td>사랑이 다른 사랑으로 잊혀지네 이대로 우리는 좋아보여 후회는 없는걸 믿으며 흘러가</td>\n",
       "      <td>neutral</td>\n",
       "    </tr>\n",
       "    <tr>\n",
       "      <th>0</th>\n",
       "      <td>헤어질 때 늘 하던 짧은 인사가 오늘따라 왜 이렇게 서글픈 거니 눈물이 두 뺨 위로...</td>\n",
       "      <td>negative</td>\n",
       "    </tr>\n",
       "    <tr>\n",
       "      <th>1</th>\n",
       "      <td>네 자리가 너무 커서 채울 수 없어서 내 눈물만 흘러 넘쳐나 죽어도 죽어도 난 널 못잊어</td>\n",
       "      <td>negative</td>\n",
       "    </tr>\n",
       "    <tr>\n",
       "      <th>2</th>\n",
       "      <td>그대 눈물이 시린 바람에 흐르지 못하고 여린 마음이 황량한 길 그 어디엔가 메말라 ...</td>\n",
       "      <td>negative</td>\n",
       "    </tr>\n",
       "    <tr>\n",
       "      <th>3</th>\n",
       "      <td>길었던 하루 그림잔 아직도 아픔을 서성일까 말없이 기다려 보면 쓰러질 듯 내게 와 ...</td>\n",
       "      <td>negative</td>\n",
       "    </tr>\n",
       "    <tr>\n",
       "      <th>4</th>\n",
       "      <td>비가 내리던 어느 날 그 순간이 오면 니가 너무 보고싶어 울다 지쳐 혼자 내게 말해본다</td>\n",
       "      <td>negative</td>\n",
       "    </tr>\n",
       "    <tr>\n",
       "      <th>5</th>\n",
       "      <td>서로가 상처만 주고 눈물만 흘리고 미움만 커지고 끝나 사랑같은 거 안 해</td>\n",
       "      <td>negative</td>\n",
       "    </tr>\n",
       "    <tr>\n",
       "      <th>6</th>\n",
       "      <td>말도 못해 보다시피 난 잘 못 지내 너의 기억과 눈물만 삼키면 마지못해 살아</td>\n",
       "      <td>negative</td>\n",
       "    </tr>\n",
       "    <tr>\n",
       "      <th>7</th>\n",
       "      <td>이렇게 나를 울려도 미안해 널 잊을수가 없어서 매일 숨을 쉴때마다 눈 감을때마다 니...</td>\n",
       "      <td>negative</td>\n",
       "    </tr>\n",
       "    <tr>\n",
       "      <th>8</th>\n",
       "      <td>내가 너무 미워 미치도록 난 내가 싫어 내가 별나서 못되게 해서 그대를 놓치고야 마...</td>\n",
       "      <td>negative</td>\n",
       "    </tr>\n",
       "    <tr>\n",
       "      <th>9</th>\n",
       "      <td>아픈 이별 안고 사는 슬픈 가슴은 널 미워할 수 있겠지 외로워서 보고 싶어도 그리워...</td>\n",
       "      <td>negative</td>\n",
       "    </tr>\n",
       "  </tbody>\n",
       "</table>\n",
       "</div>"
      ],
      "text/plain": [
       "                                                  문장        감정\n",
       "0  끝없이 별빛이 내리던 밤 기분 좋은 바람이 두 빰을 스치고 새벽 바다 한곳을 보는 ...  positive\n",
       "1  날 향해 웃어주는 입술 끝 모양과 저 달보다 사랑스러운 두 눈을 가진 네가 다정히 ...  positive\n",
       "2            내게 보였던 그 미소 다 너무 예뻐서 더 보고 싶어서 나를 달래고 있죠  positive\n",
       "3  끝없이 별빛이 내리던 밤 기분 좋은 바람이 두 빰을 스치고 새벽 바다 한곳을 보는 ...  positive\n",
       "4    너를 기다리다가 문득 행복한 상상이 현실이 되길 기도하니까 내 눈엔 너만 빛나고 있어  positive\n",
       "5  오늘 널 위해 예쁜 옷을 입고 세상 가장 예쁜 미소를 짓고서 떨리는 마음으로 네게 ...  positive\n",
       "6     한껏 들뜬 발걸음으로 반겨줘요 따스한 그대의 품속으로 바쁘게 달려가 힘껏 안겨볼래요  positive\n",
       "7  날 향해 웃어주는 입술 끝 모양과 저 달보다 사랑스러운 두 눈을 가진 네가 다정히 ...  positive\n",
       "8  모든 햇살들이 날 비추고 모든 바람들이 나와 함께 걸어 한 발짝 두 발짝 너에게 가...  positive\n",
       "9  먼 훗날 내 생애 아주 작은 소리로 귓가에 말할 거야 내 곁에 머물러줘서 마음 다해...  positive\n",
       "0  비바람이 없어도 봄은 오고 여름은 가고 오 그대여 눈물이 없어도 꽃은 피고 낙엽은 ...   neutral\n",
       "1  맨발로 기억을 거닐다 노란 은행나무에 숨은 나의 옛날 추억을 불러본다 맨발로 기억을...   neutral\n",
       "2  멍하니 앉아서 쉬기도 하고 가끔 길을 잃어도 서두르지 않는 법 언젠가는 나도 알게 되겠지   neutral\n",
       "3  가벼운 발걸음 닿는 대로 끝없이 이어진 길을 천천히 걸어가네 내가 자라고 정든 이 ...   neutral\n",
       "4  너는 조용히 내려 나의 가물은 곳에 고이고 나는 한참을 서서 가만히 머금은 채로 그...   neutral\n",
       "5    긴 여행을 끝내리 미련 없이 아무도 내게 말해주지 않는 정말로 내가 누군지 알기 위해   neutral\n",
       "6              고요한 바다 위로 내 노래가 떠간다 소리도 부끄러워 숨죽이고 떠간다   neutral\n",
       "7      달빛만이 흘러 바다가 되고 지쳐 전하지 못하는 수월가 서로 가자 굽이굽이 쳐 가자   neutral\n",
       "8                  야속히 흩어질 그 순간에도 후회는 없어 발을 떼지 않을 것임   neutral\n",
       "9      사랑이 다른 사랑으로 잊혀지네 이대로 우리는 좋아보여 후회는 없는걸 믿으며 흘러가   neutral\n",
       "0  헤어질 때 늘 하던 짧은 인사가 오늘따라 왜 이렇게 서글픈 거니 눈물이 두 뺨 위로...  negative\n",
       "1  네 자리가 너무 커서 채울 수 없어서 내 눈물만 흘러 넘쳐나 죽어도 죽어도 난 널 못잊어  negative\n",
       "2  그대 눈물이 시린 바람에 흐르지 못하고 여린 마음이 황량한 길 그 어디엔가 메말라 ...  negative\n",
       "3  길었던 하루 그림잔 아직도 아픔을 서성일까 말없이 기다려 보면 쓰러질 듯 내게 와 ...  negative\n",
       "4   비가 내리던 어느 날 그 순간이 오면 니가 너무 보고싶어 울다 지쳐 혼자 내게 말해본다  negative\n",
       "5           서로가 상처만 주고 눈물만 흘리고 미움만 커지고 끝나 사랑같은 거 안 해  negative\n",
       "6         말도 못해 보다시피 난 잘 못 지내 너의 기억과 눈물만 삼키면 마지못해 살아  negative\n",
       "7  이렇게 나를 울려도 미안해 널 잊을수가 없어서 매일 숨을 쉴때마다 눈 감을때마다 니...  negative\n",
       "8  내가 너무 미워 미치도록 난 내가 싫어 내가 별나서 못되게 해서 그대를 놓치고야 마...  negative\n",
       "9  아픈 이별 안고 사는 슬픈 가슴은 널 미워할 수 있겠지 외로워서 보고 싶어도 그리워...  negative"
      ]
     },
     "execution_count": 10,
     "metadata": {},
     "output_type": "execute_result"
    }
   ],
   "source": [
    "기쁨_df = pd.DataFrame(dict1)\n",
    "무덤덤_df = pd.DataFrame(dict2)\n",
    "슬픔_df = pd.DataFrame(dict3)\n",
    "\n",
    "emotion_df = pd.concat([기쁨_df,무덤덤_df,슬픔_df])\n",
    "emotion_df"
   ]
  },
  {
   "cell_type": "code",
   "execution_count": 11,
   "metadata": {},
   "outputs": [],
   "source": [
    "emotion_df.to_csv(\"../../Data/Bayes_emotion_df.csv\",index=False)"
   ]
  },
  {
   "cell_type": "code",
   "execution_count": 12,
   "metadata": {},
   "outputs": [
    {
     "name": "stdout",
     "output_type": "stream",
     "text": [
      "결과 = negative\n",
      "[('positive', -140.30814152963697), ('neutral', -141.16197979803295), ('negative', -137.56728524296275)]\n"
     ]
    }
   ],
   "source": [
    "from bayes import BayesianFilter\n",
    "import pandas as pd\n",
    "\n",
    "emotion_df = pd.read_csv(\"../../Data/Bayes_emotion_df.csv\")\n",
    "\n",
    "bf = BayesianFilter()\n",
    "for i in range(len(emotion_df)):\n",
    "    bf.fit(str(emotion_df.iloc[i].문장),str(emotion_df.iloc[i].감정))\n",
    "pre, scorelist = bf.predict(\"혼자서 마시는 술에 홀로 남겨진 슬픔에 잊으려고 하면 할수록 더 그대가 보고 싶어요 이렇게 있다간 나도 모르게 소리 내서 울 것 같아서 나 일어날래요\")\n",
    "print(\"결과 =\", pre)\n",
    "print(scorelist)"
   ]
  },
  {
   "cell_type": "code",
   "execution_count": 13,
   "metadata": {},
   "outputs": [
    {
     "name": "stdout",
     "output_type": "stream",
     "text": [
      "결과 = positive\n",
      "[('positive', -64.98152491118839), ('neutral', -69.52085813091642), ('negative', -68.20206721657851)]\n"
     ]
    }
   ],
   "source": [
    "pre, scorelist = bf.predict(\"내 생애 가장 아름다운 순간은 널 만나 눈부시게 사랑했던 순간들\")\n",
    "print(\"결과 =\", pre)\n",
    "print(scorelist)"
   ]
  }
 ],
 "metadata": {
  "kernelspec": {
   "display_name": "Python 3.9.7 ('base')",
   "language": "python",
   "name": "python3"
  },
  "language_info": {
   "codemirror_mode": {
    "name": "ipython",
    "version": 3
   },
   "file_extension": ".py",
   "mimetype": "text/x-python",
   "name": "python",
   "nbconvert_exporter": "python",
   "pygments_lexer": "ipython3",
   "version": "3.9.7"
  },
  "orig_nbformat": 4,
  "vscode": {
   "interpreter": {
    "hash": "c34e8390e776d2ee205b71ed5a6130fee3cef8da5e87e926ce18e14f4a070d72"
   }
  }
 },
 "nbformat": 4,
 "nbformat_minor": 2
}
