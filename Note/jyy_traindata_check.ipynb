{
 "cells": [
  {
   "cell_type": "code",
   "execution_count": 1,
   "metadata": {},
   "outputs": [],
   "source": [
    "import pandas as pd"
   ]
  },
  {
   "cell_type": "markdown",
   "metadata": {},
   "source": [
    "---\n",
    "data 불러오기"
   ]
  },
  {
   "cell_type": "code",
   "execution_count": 2,
   "metadata": {},
   "outputs": [
    {
     "data": {
      "text/html": [
       "<div>\n",
       "<style scoped>\n",
       "    .dataframe tbody tr th:only-of-type {\n",
       "        vertical-align: middle;\n",
       "    }\n",
       "\n",
       "    .dataframe tbody tr th {\n",
       "        vertical-align: top;\n",
       "    }\n",
       "\n",
       "    .dataframe thead th {\n",
       "        text-align: right;\n",
       "    }\n",
       "</style>\n",
       "<table border=\"1\" class=\"dataframe\">\n",
       "  <thead>\n",
       "    <tr style=\"text-align: right;\">\n",
       "      <th></th>\n",
       "      <th>가수명</th>\n",
       "      <th>노래제목</th>\n",
       "      <th>발매일</th>\n",
       "      <th>가사</th>\n",
       "      <th>좋아요수</th>\n",
       "      <th>순위</th>\n",
       "    </tr>\n",
       "  </thead>\n",
       "  <tbody>\n",
       "    <tr>\n",
       "      <th>0</th>\n",
       "      <td>WSG워너비 (가야G)</td>\n",
       "      <td>그때 그 순간 그대로 (그그그)</td>\n",
       "      <td>2022-07-09</td>\n",
       "      <td>잘 지냈지? 조금은 어색해 요즘 좋아 보여 인사 나누며 사실 궁금한 게 너무 많았는...</td>\n",
       "      <td>79774</td>\n",
       "      <td>1</td>\n",
       "    </tr>\n",
       "    <tr>\n",
       "      <th>1</th>\n",
       "      <td>경서</td>\n",
       "      <td>나의 X에게</td>\n",
       "      <td>2022-04-24</td>\n",
       "      <td>우리 다시 만날래 예쁘게 빛나던 모든 추억들이 너무 그리워 너의 품에 안길래 이 밤...</td>\n",
       "      <td>101199</td>\n",
       "      <td>2</td>\n",
       "    </tr>\n",
       "    <tr>\n",
       "      <th>2</th>\n",
       "      <td>멜로망스</td>\n",
       "      <td>사랑인가 봐</td>\n",
       "      <td>2022-02-18</td>\n",
       "      <td>너와 함께 하고 싶은 일들을 상상하는 게 요즘 내 일상이 되고 너의 즐거워하는 모습...</td>\n",
       "      <td>146814</td>\n",
       "      <td>3</td>\n",
       "    </tr>\n",
       "    <tr>\n",
       "      <th>3</th>\n",
       "      <td>주호</td>\n",
       "      <td>내가 아니라도</td>\n",
       "      <td>2022-03-25</td>\n",
       "      <td>사랑이었다 별거 없던 내 하루에 빛이 돼준 단한 사람 나보다 나를 더 아껴 주던 너...</td>\n",
       "      <td>50533</td>\n",
       "      <td>4</td>\n",
       "    </tr>\n",
       "    <tr>\n",
       "      <th>4</th>\n",
       "      <td>임영웅</td>\n",
       "      <td>사랑은 늘 도망가</td>\n",
       "      <td>2021-10-11</td>\n",
       "      <td>눈물이 난다 이 길을 걸으면 그 사람 손길이 자꾸 생각이 난다 붙잡지 못하고 가슴만...</td>\n",
       "      <td>169216</td>\n",
       "      <td>5</td>\n",
       "    </tr>\n",
       "  </tbody>\n",
       "</table>\n",
       "</div>"
      ],
      "text/plain": [
       "            가수명               노래제목         발매일  \\\n",
       "0  WSG워너비 (가야G)  그때 그 순간 그대로 (그그그)  2022-07-09   \n",
       "1            경서             나의 X에게  2022-04-24   \n",
       "2          멜로망스             사랑인가 봐  2022-02-18   \n",
       "3            주호            내가 아니라도  2022-03-25   \n",
       "4           임영웅          사랑은 늘 도망가  2021-10-11   \n",
       "\n",
       "                                                  가사    좋아요수  순위  \n",
       "0  잘 지냈지? 조금은 어색해 요즘 좋아 보여 인사 나누며 사실 궁금한 게 너무 많았는...   79774   1  \n",
       "1  우리 다시 만날래 예쁘게 빛나던 모든 추억들이 너무 그리워 너의 품에 안길래 이 밤...  101199   2  \n",
       "2  너와 함께 하고 싶은 일들을 상상하는 게 요즘 내 일상이 되고 너의 즐거워하는 모습...  146814   3  \n",
       "3  사랑이었다 별거 없던 내 하루에 빛이 돼준 단한 사람 나보다 나를 더 아껴 주던 너...   50533   4  \n",
       "4  눈물이 난다 이 길을 걸으면 그 사람 손길이 자꾸 생각이 난다 붙잡지 못하고 가슴만...  169216   5  "
      ]
     },
     "execution_count": 2,
     "metadata": {},
     "output_type": "execute_result"
    }
   ],
   "source": [
    "ballad = pd.read_csv('../Data/melon.csv')\n",
    "ballad.head()"
   ]
  },
  {
   "cell_type": "code",
   "execution_count": 3,
   "metadata": {},
   "outputs": [
    {
     "data": {
      "text/html": [
       "<div>\n",
       "<style scoped>\n",
       "    .dataframe tbody tr th:only-of-type {\n",
       "        vertical-align: middle;\n",
       "    }\n",
       "\n",
       "    .dataframe tbody tr th {\n",
       "        vertical-align: top;\n",
       "    }\n",
       "\n",
       "    .dataframe thead th {\n",
       "        text-align: right;\n",
       "    }\n",
       "</style>\n",
       "<table border=\"1\" class=\"dataframe\">\n",
       "  <thead>\n",
       "    <tr style=\"text-align: right;\">\n",
       "      <th></th>\n",
       "      <th>가수명</th>\n",
       "      <th>노래제목</th>\n",
       "      <th>발매일</th>\n",
       "      <th>가사</th>\n",
       "      <th>좋아요수</th>\n",
       "    </tr>\n",
       "  </thead>\n",
       "  <tbody>\n",
       "    <tr>\n",
       "      <th>0</th>\n",
       "      <td>김제훈</td>\n",
       "      <td>좋은 꿈이었길 바래</td>\n",
       "      <td>2019-09-18</td>\n",
       "      <td>만남 이별 짧지 않았던 시간을 지나 뒤돌아보면 그래도 정말 즐거웠었지 널 미워했던 ...</td>\n",
       "      <td>793</td>\n",
       "    </tr>\n",
       "    <tr>\n",
       "      <th>1</th>\n",
       "      <td>양다일</td>\n",
       "      <td>Darling</td>\n",
       "      <td>2020-11-23</td>\n",
       "      <td>Oh darling 처음 널 만나면 수줍은 대화들로 사랑에 빠질 거야 My darl...</td>\n",
       "      <td>10907</td>\n",
       "    </tr>\n",
       "    <tr>\n",
       "      <th>2</th>\n",
       "      <td>김제훈</td>\n",
       "      <td>어때</td>\n",
       "      <td>2019-02-18</td>\n",
       "      <td>머릿속에 맴돌던 생각을 억누른 채 감정을 소비하며 누워서 잠이 들지 뻔한 일상 속에...</td>\n",
       "      <td>1130</td>\n",
       "    </tr>\n",
       "    <tr>\n",
       "      <th>3</th>\n",
       "      <td>장범준</td>\n",
       "      <td>잠이 오질 않네요</td>\n",
       "      <td>2020-10-24</td>\n",
       "      <td>당신은 날 설레게 만들어 조용한 내 마음 자꾸만 춤추게 해 얼마나 얼마나 날 떨리게...</td>\n",
       "      <td>159018</td>\n",
       "    </tr>\n",
       "    <tr>\n",
       "      <th>4</th>\n",
       "      <td>산들</td>\n",
       "      <td>취기를 빌려 (취향저격 그녀 X 산들)</td>\n",
       "      <td>2020-07-20</td>\n",
       "      <td>언제부턴가 불쑥 내 습관이 돼버린 너 혹시나 이런 맘이 어쩌면 부담일까 널 주저했어...</td>\n",
       "      <td>218069</td>\n",
       "    </tr>\n",
       "  </tbody>\n",
       "</table>\n",
       "</div>"
      ],
      "text/plain": [
       "   가수명                   노래제목         발매일  \\\n",
       "0  김제훈             좋은 꿈이었길 바래  2019-09-18   \n",
       "1  양다일                Darling  2020-11-23   \n",
       "2  김제훈                     어때  2019-02-18   \n",
       "3  장범준              잠이 오질 않네요  2020-10-24   \n",
       "4   산들  취기를 빌려 (취향저격 그녀 X 산들)  2020-07-20   \n",
       "\n",
       "                                                  가사    좋아요수  \n",
       "0  만남 이별 짧지 않았던 시간을 지나 뒤돌아보면 그래도 정말 즐거웠었지 널 미워했던 ...     793  \n",
       "1  Oh darling 처음 널 만나면 수줍은 대화들로 사랑에 빠질 거야 My darl...   10907  \n",
       "2  머릿속에 맴돌던 생각을 억누른 채 감정을 소비하며 누워서 잠이 들지 뻔한 일상 속에...    1130  \n",
       "3  당신은 날 설레게 만들어 조용한 내 마음 자꾸만 춤추게 해 얼마나 얼마나 날 떨리게...  159018  \n",
       "4  언제부턴가 불쑥 내 습관이 돼버린 너 혹시나 이런 맘이 어쩌면 부담일까 널 주저했어...  218069  "
      ]
     },
     "execution_count": 3,
     "metadata": {},
     "output_type": "execute_result"
    }
   ],
   "source": [
    "ballad_happy = pd.read_csv('../Data/ballad_happy.csv')\n",
    "ballad_happy.head()"
   ]
  },
  {
   "cell_type": "code",
   "execution_count": 4,
   "metadata": {},
   "outputs": [
    {
     "data": {
      "text/html": [
       "<div>\n",
       "<style scoped>\n",
       "    .dataframe tbody tr th:only-of-type {\n",
       "        vertical-align: middle;\n",
       "    }\n",
       "\n",
       "    .dataframe tbody tr th {\n",
       "        vertical-align: top;\n",
       "    }\n",
       "\n",
       "    .dataframe thead th {\n",
       "        text-align: right;\n",
       "    }\n",
       "</style>\n",
       "<table border=\"1\" class=\"dataframe\">\n",
       "  <thead>\n",
       "    <tr style=\"text-align: right;\">\n",
       "      <th></th>\n",
       "      <th>가수명</th>\n",
       "      <th>노래제목</th>\n",
       "      <th>발매일</th>\n",
       "      <th>가사</th>\n",
       "      <th>좋아요수</th>\n",
       "    </tr>\n",
       "  </thead>\n",
       "  <tbody>\n",
       "    <tr>\n",
       "      <th>0</th>\n",
       "      <td>이진성 (먼데이 키즈)</td>\n",
       "      <td>Letter</td>\n",
       "      <td>2009-02-12</td>\n",
       "      <td>텅 빈 방안에 앉아 너의 사진을 본다 해맑았던 미소가 날 붙잡아 발이 떨어지질 않아...</td>\n",
       "      <td>9966</td>\n",
       "    </tr>\n",
       "    <tr>\n",
       "      <th>1</th>\n",
       "      <td>김나영</td>\n",
       "      <td>너의 번호를 누르고</td>\n",
       "      <td>2022-04-12</td>\n",
       "      <td>우연히 너를 만나서 너의 옆자리에 앉아 그렇게 우린 친해졌어 짧은 시간에 그렇게 가...</td>\n",
       "      <td>17641</td>\n",
       "    </tr>\n",
       "    <tr>\n",
       "      <th>2</th>\n",
       "      <td>노형돈</td>\n",
       "      <td>생각이나</td>\n",
       "      <td>2022-06-01</td>\n",
       "      <td>하루가 지나고 일년이 지나면 다 잊은 거라 생각했어 깊이 닫힌 상처가 빨리 낫지 않...</td>\n",
       "      <td>97</td>\n",
       "    </tr>\n",
       "    <tr>\n",
       "      <th>3</th>\n",
       "      <td>경서예지</td>\n",
       "      <td>사실 나는 (Feat.전건호)</td>\n",
       "      <td>2020-04-12</td>\n",
       "      <td>그땐 우리 둘 다 철없이 어리기만 했나 봐 태어나 처음 설레는 너를 만나서 세상에 ...</td>\n",
       "      <td>94210</td>\n",
       "    </tr>\n",
       "    <tr>\n",
       "      <th>4</th>\n",
       "      <td>멜로망스</td>\n",
       "      <td>그게 더 편할 것 같아 (N번째 연애 X 멜로망스)</td>\n",
       "      <td>2021-11-26</td>\n",
       "      <td>너를 위해 해줬었던 말들은 부담을 줬고 네가 내게 해줬던 위로에 나 상처 입었죠 사...</td>\n",
       "      <td>36203</td>\n",
       "    </tr>\n",
       "  </tbody>\n",
       "</table>\n",
       "</div>"
      ],
      "text/plain": [
       "            가수명                          노래제목         발매일  \\\n",
       "0  이진성 (먼데이 키즈)                        Letter  2009-02-12   \n",
       "1           김나영                    너의 번호를 누르고  2022-04-12   \n",
       "2           노형돈                          생각이나  2022-06-01   \n",
       "3          경서예지              사실 나는 (Feat.전건호)  2020-04-12   \n",
       "4          멜로망스  그게 더 편할 것 같아 (N번째 연애 X 멜로망스)  2021-11-26   \n",
       "\n",
       "                                                  가사   좋아요수  \n",
       "0  텅 빈 방안에 앉아 너의 사진을 본다 해맑았던 미소가 날 붙잡아 발이 떨어지질 않아...   9966  \n",
       "1  우연히 너를 만나서 너의 옆자리에 앉아 그렇게 우린 친해졌어 짧은 시간에 그렇게 가...  17641  \n",
       "2  하루가 지나고 일년이 지나면 다 잊은 거라 생각했어 깊이 닫힌 상처가 빨리 낫지 않...     97  \n",
       "3  그땐 우리 둘 다 철없이 어리기만 했나 봐 태어나 처음 설레는 너를 만나서 세상에 ...  94210  \n",
       "4  너를 위해 해줬었던 말들은 부담을 줬고 네가 내게 해줬던 위로에 나 상처 입었죠 사...  36203  "
      ]
     },
     "execution_count": 4,
     "metadata": {},
     "output_type": "execute_result"
    }
   ],
   "source": [
    "ballad_anxious = pd.read_csv(\"../Data/ballad_anxious.csv\")\n",
    "ballad_anxious.head()"
   ]
  },
  {
   "cell_type": "code",
   "execution_count": 5,
   "metadata": {},
   "outputs": [
    {
     "data": {
      "text/html": [
       "<div>\n",
       "<style scoped>\n",
       "    .dataframe tbody tr th:only-of-type {\n",
       "        vertical-align: middle;\n",
       "    }\n",
       "\n",
       "    .dataframe tbody tr th {\n",
       "        vertical-align: top;\n",
       "    }\n",
       "\n",
       "    .dataframe thead th {\n",
       "        text-align: right;\n",
       "    }\n",
       "</style>\n",
       "<table border=\"1\" class=\"dataframe\">\n",
       "  <thead>\n",
       "    <tr style=\"text-align: right;\">\n",
       "      <th></th>\n",
       "      <th>가수명</th>\n",
       "      <th>노래제목</th>\n",
       "      <th>발매일</th>\n",
       "      <th>가사</th>\n",
       "      <th>좋아요수</th>\n",
       "    </tr>\n",
       "  </thead>\n",
       "  <tbody>\n",
       "    <tr>\n",
       "      <th>0</th>\n",
       "      <td>V.O.S</td>\n",
       "      <td>잘 살고 있다</td>\n",
       "      <td>2019-12-02</td>\n",
       "      <td>한잔 술에 잊자 그만나도 숨 좀 쉬자 제발마치 주문처럼매일 읊조렸던넌 모르는내 슬픈...</td>\n",
       "      <td>38511</td>\n",
       "    </tr>\n",
       "    <tr>\n",
       "      <th>1</th>\n",
       "      <td>주보라</td>\n",
       "      <td>네가 없다 (Without You)</td>\n",
       "      <td>2013-02-19</td>\n",
       "      <td>서툰 작별이었는지 아련한 슬픔 속에 눈물이멈추질 않아너무나 어렸던 걸까내 이기적임에...</td>\n",
       "      <td>2949</td>\n",
       "    </tr>\n",
       "    <tr>\n",
       "      <th>2</th>\n",
       "      <td>휘인 (Whee In)</td>\n",
       "      <td>헤어지자 (Prod. 정키)</td>\n",
       "      <td>2019-09-04</td>\n",
       "      <td>그럴 수도 있지 생각했어잊어 보려 했어지난 날의 모든 걸 노력했어다시 시작해 보려고...</td>\n",
       "      <td>115651</td>\n",
       "    </tr>\n",
       "    <tr>\n",
       "      <th>3</th>\n",
       "      <td>헤이즈 (Heize)</td>\n",
       "      <td>비가 오는 날엔 (2021)</td>\n",
       "      <td>2021-08-04</td>\n",
       "      <td>세상이 어두워지고조용히 비가 내리면여전히 그대로오늘도 어김없이 난벗어나질 못하네너의...</td>\n",
       "      <td>73204</td>\n",
       "    </tr>\n",
       "    <tr>\n",
       "      <th>4</th>\n",
       "      <td>스트레이 (The Stray)</td>\n",
       "      <td>그냥, 묻고 싶었어</td>\n",
       "      <td>2021-08-04</td>\n",
       "      <td>외로운 내 마음의 불꽃은아픔으로 가득 찬 과거를 불태워차디찬 이곳에서 벗어나게 해줄...</td>\n",
       "      <td>1759</td>\n",
       "    </tr>\n",
       "  </tbody>\n",
       "</table>\n",
       "</div>"
      ],
      "text/plain": [
       "                가수명                 노래제목         발매일  \\\n",
       "0             V.O.S              잘 살고 있다  2019-12-02   \n",
       "1               주보라  네가 없다 (Without You)  2013-02-19   \n",
       "2      휘인 (Whee In)      헤어지자 (Prod. 정키)  2019-09-04   \n",
       "3       헤이즈 (Heize)      비가 오는 날엔 (2021)  2021-08-04   \n",
       "4  스트레이 (The Stray)           그냥, 묻고 싶었어  2021-08-04   \n",
       "\n",
       "                                                  가사    좋아요수  \n",
       "0  한잔 술에 잊자 그만나도 숨 좀 쉬자 제발마치 주문처럼매일 읊조렸던넌 모르는내 슬픈...   38511  \n",
       "1  서툰 작별이었는지 아련한 슬픔 속에 눈물이멈추질 않아너무나 어렸던 걸까내 이기적임에...    2949  \n",
       "2  그럴 수도 있지 생각했어잊어 보려 했어지난 날의 모든 걸 노력했어다시 시작해 보려고...  115651  \n",
       "3  세상이 어두워지고조용히 비가 내리면여전히 그대로오늘도 어김없이 난벗어나질 못하네너의...   73204  \n",
       "4  외로운 내 마음의 불꽃은아픔으로 가득 찬 과거를 불태워차디찬 이곳에서 벗어나게 해줄...    1759  "
      ]
     },
     "execution_count": 5,
     "metadata": {},
     "output_type": "execute_result"
    }
   ],
   "source": [
    "ballad_sad = pd.read_csv('../Data/ballad_sad.csv')\n",
    "ballad_sad.head()"
   ]
  },
  {
   "cell_type": "markdown",
   "metadata": {},
   "source": [
    "---\n",
    "각각의 train data 중복확인"
   ]
  },
  {
   "cell_type": "code",
   "execution_count": 12,
   "metadata": {},
   "outputs": [
    {
     "data": {
      "text/html": [
       "<div>\n",
       "<style scoped>\n",
       "    .dataframe tbody tr th:only-of-type {\n",
       "        vertical-align: middle;\n",
       "    }\n",
       "\n",
       "    .dataframe tbody tr th {\n",
       "        vertical-align: top;\n",
       "    }\n",
       "\n",
       "    .dataframe thead th {\n",
       "        text-align: right;\n",
       "    }\n",
       "</style>\n",
       "<table border=\"1\" class=\"dataframe\">\n",
       "  <thead>\n",
       "    <tr style=\"text-align: right;\">\n",
       "      <th></th>\n",
       "      <th>가수명</th>\n",
       "      <th>노래제목</th>\n",
       "      <th>발매일</th>\n",
       "      <th>가사</th>\n",
       "      <th>좋아요수</th>\n",
       "    </tr>\n",
       "  </thead>\n",
       "  <tbody>\n",
       "    <tr>\n",
       "      <th>11</th>\n",
       "      <td>장범준</td>\n",
       "      <td>잠이 오질 않네요</td>\n",
       "      <td>2020-10-24</td>\n",
       "      <td>당신은 날 설레게 만들어조용한 내 마음 자꾸만 춤추게 해얼마나 얼마나 날 떨리게 하...</td>\n",
       "      <td>159019</td>\n",
       "    </tr>\n",
       "  </tbody>\n",
       "</table>\n",
       "</div>"
      ],
      "text/plain": [
       "    가수명       노래제목         발매일  \\\n",
       "11  장범준  잠이 오질 않네요  2020-10-24   \n",
       "\n",
       "                                                   가사    좋아요수  \n",
       "11  당신은 날 설레게 만들어조용한 내 마음 자꾸만 춤추게 해얼마나 얼마나 날 떨리게 하...  159019  "
      ]
     },
     "execution_count": 12,
     "metadata": {},
     "output_type": "execute_result"
    }
   ],
   "source": [
    "ballad_sad[ballad_sad['노래제목'].isin(ballad_happy['노래제목'])]"
   ]
  },
  {
   "cell_type": "code",
   "execution_count": 15,
   "metadata": {},
   "outputs": [
    {
     "name": "stdout",
     "output_type": "stream",
     "text": [
      "당신은 날 설레게 만들어조용한 내 마음 자꾸만 춤추게 해얼마나 얼마나 날 떨리게 하는지당신이 이 밤을 항상 잠 못 들게 해매일 같은 밤 너를 생각하면서유치한 노랠 들으며심장이 춤을 추면서오오 난 너를 기다리면서유치한 노랠 부르며심장이 춤을 추면서 워나를 떨리게 하나요그대 왜 나를 설레게 하나요 자꾸만오늘도 잠 못 이루는 이 밤아름다운 그대나를 아프게 하나요웃는 그대 왜 자꾸 설레게 하나요하염없이오늘 밤 잠이 오질 않네요보고 싶은 그대여당신이 날 힘들게 만들어갑자기 내 마음 자꾸만 멍들게 해얼마나 얼마나 잠 못 들게 하는지고요한 내 마음 항상 시끄럽게 해매일 같은 밤 너를 생각하면서유치한 노랠 들으며심장이 춤을 추면서워 난 너를 기다리면서유치한 노랠 부르며심장이 춤을 추면서 워나를 떨리게 하나요그대 왜 나를 설레게 하나요 자꾸만오늘도 잠 못 이루는 이 밤아름다운 그대나를 아프게 하나요웃는 그대 왜 자꾸 설레게 하나요하염없이오늘 밤 잠이 오질 않네요보고 싶은 그대여매일 밤 너를 생각하면서유치한 노랠 들으며심장이 춤을 추면서워오 난 너를 기다리면서유치한 노랠 부르며심장이 춤을 추면서 워나를 떨리게 하나요그대 왜 나를 설레게 하나요 자꾸만오늘도 잠 못 이루는 이 밤아름다운 그대여나를 아프게 하나요웃는 그대 왜 자꾸 설레게 하나요하염없이오늘 밤 잠이 오질 않네요보고 싶은 그대여 \n",
      "\n",
      " 한참을 아무 말도 없었다 어색한 공기만 우릴 감싸고 있다너는 고개를 돌린 채로한숨만 내쉰다내가 처음 보는 표정을하고 서있다차라리 화를 내지싫어졌다고 말을 하지마지막 순간까지좋은 사람으로 기억되고 싶었니내가 갈게애써 미안한 표정 하지마싫어진 거잖아 그래 널 떠나 줄게비겁해지는 널 보는 게 아파내가 갈게 널 보내줄게조금씩 넌 변했다매일 오던 연락 난 기다린다서운해 하는 날 보는 게 슬프다넌 여기까진가 봐 끝이었나 봐난 시작이었는데Oh 그냥 헤어지자고 내게 말을 하지마지막 순간까지좋은 사람으로 기억되고 싶었니내가 갈게애써 날 위하는 척 하지마넌 준비했잖아 그래 널 떠나줄게내가 몰랐던 널 보는 게 아파내가 갈게 널 보내줄게니가 없는 하루가사실 난 잘 그려지질 않아그렇게 말했었잖아내가 너의 행복이랬잖아나 없인 살 수 없을 거라고말했었잖아내가 갈게애써 미안한 표정 하지마싫어진 거잖아 이제 널 떠나줄게비겁해지는 널 보는 게 아파내가 갈게 널 보내줄게 \n",
      "\n",
      " 우리 이제 헤어지기로해 너도 알잖아 우린 충분했다는걸이별이 무서워 자꾸 피해보지만 이젠 정말 끝인걸우리 사랑이 우리 추억이 이젠 끝나가지만 함께한 기억은 내가 다 가져갈게끝이란걸 알지만 끝이라고 안할게 내눈에 비친 네 모습이 날 나쁘게 만들어나 이제 너와 서툰이별을 하려해 많이 아프겠지만 이제 정말 헤어지려해 가끔 혼자 견디기 힘들어 나도 몰래 널 부르게되면 그냥 지나쳐줘 서툰이별이라서 그래혹시 그때의 서로를 조금더 이해했더라면 우린 조금은 달라졌을까이제와서 이러는 내가 너무 이기적인가봐 내눈에 비친 네 모습이 날 나쁘게 만들어나 이제 너와 서툰이별을 하려해 많이 아프겠지만 이제 정말 헤어지려해 가끔 혼자 견디기 힘들어 나도 몰래 널 부르게되면 그냥 지나쳐줘 서툰이별이라서 그래우리의 최선은 여기까지인거같아 수고많았어 이젠 널 보낼게 같은 추억속에 우리를 이젠 보내줘야해 애써 그냥 웃으며 아무렇지 않게 널 보낼게우리 이제 정말 이별을 하려해 많이 아프겠지만 많이 힘들겠지만 혹시 우리가 다시 만나게 되는 날이 다가오면 그땐 꼭 안아줘 많이 보고싶었다고 말해줘 \n",
      "\n",
      " 자꾸만 연락을 피하고 바쁘다며 약속을 미루고점점 변해가는 네 모습 무심한 말투 조금씩 넌 반대로 가고 있어다급했던 이별의 순간들 아직도 난 거짓말 같아서아름답게 웃던 네 모습 볼 수 없다고 생각하면 미칠 듯 아픈데 자꾸만 생각이나너무나도 사랑했었고 그런 내겐 전부였는데 이젠 너와 난 반대로 살고 있나 봐 사랑해 너밖에 없단 말 그 말 너무나도 그리워서 너를 보낼 수가 없나 봐 너를저 멀리 보이는 네 모습 웃고 있는 넌 잘 지냈나 봐찾아가지 말걸 그랬어 믿고 싶었는데 영화 같은 일 내겐 없나 봐 나를 다 잊은 거니너무나도 사랑했었고 그런 내겐 전부였는데 이젠 너와 난 반대로 살고 있나 봐 사랑해 너밖에 없단 말 그 말 너무나도 그리워서 너를 보낼 수가 없나 봐 행복해 보여 나 없이도 잘 지내는데 어떻게 난 널 잊고 살 수 있을까웃으며 내 품에 안긴 너 너의 모습이 죽을 만큼 그리워서 보낼 수가 없잖아 너를 \n",
      "\n"
     ]
    }
   ],
   "source": [
    "print(ballad_sad.loc[11,'가사'],\"\\n\\n\",ballad_sad.loc[13,'가사'],\"\\n\\n\",ballad_sad.loc[21,'가사'],\"\\n\\n\",ballad_sad.loc[25,'가사'],\"\\n\",)"
   ]
  },
  {
   "cell_type": "code",
   "execution_count": 8,
   "metadata": {},
   "outputs": [
    {
     "data": {
      "text/html": [
       "<div>\n",
       "<style scoped>\n",
       "    .dataframe tbody tr th:only-of-type {\n",
       "        vertical-align: middle;\n",
       "    }\n",
       "\n",
       "    .dataframe tbody tr th {\n",
       "        vertical-align: top;\n",
       "    }\n",
       "\n",
       "    .dataframe thead th {\n",
       "        text-align: right;\n",
       "    }\n",
       "</style>\n",
       "<table border=\"1\" class=\"dataframe\">\n",
       "  <thead>\n",
       "    <tr style=\"text-align: right;\">\n",
       "      <th></th>\n",
       "      <th>가수명</th>\n",
       "      <th>노래제목</th>\n",
       "      <th>발매일</th>\n",
       "      <th>가사</th>\n",
       "      <th>좋아요수</th>\n",
       "    </tr>\n",
       "  </thead>\n",
       "  <tbody>\n",
       "    <tr>\n",
       "      <th>13</th>\n",
       "      <td>권진아</td>\n",
       "      <td>끝</td>\n",
       "      <td>2016-09-19</td>\n",
       "      <td>한참을 아무 말도 없었다 어색한 공기만 우릴 감싸고 있다너는 고개를 돌린 채로한숨만...</td>\n",
       "      <td>140297</td>\n",
       "    </tr>\n",
       "    <tr>\n",
       "      <th>21</th>\n",
       "      <td>윤토벤</td>\n",
       "      <td>서툰 이별을 하려해 (Feat.전상근)</td>\n",
       "      <td>2019-08-01</td>\n",
       "      <td>우리 이제 헤어지기로해 너도 알잖아 우린 충분했다는걸이별이 무서워 자꾸 피해보지만 ...</td>\n",
       "      <td>81227</td>\n",
       "    </tr>\n",
       "    <tr>\n",
       "      <th>25</th>\n",
       "      <td>이우</td>\n",
       "      <td>이별행동</td>\n",
       "      <td>2019-10-06</td>\n",
       "      <td>자꾸만 연락을 피하고 바쁘다며 약속을 미루고점점 변해가는 네 모습 무심한 말투 조금...</td>\n",
       "      <td>58640</td>\n",
       "    </tr>\n",
       "  </tbody>\n",
       "</table>\n",
       "</div>"
      ],
      "text/plain": [
       "    가수명                   노래제목         발매일  \\\n",
       "13  권진아                      끝  2016-09-19   \n",
       "21  윤토벤  서툰 이별을 하려해 (Feat.전상근)  2019-08-01   \n",
       "25   이우                   이별행동  2019-10-06   \n",
       "\n",
       "                                                   가사    좋아요수  \n",
       "13  한참을 아무 말도 없었다 어색한 공기만 우릴 감싸고 있다너는 고개를 돌린 채로한숨만...  140297  \n",
       "21  우리 이제 헤어지기로해 너도 알잖아 우린 충분했다는걸이별이 무서워 자꾸 피해보지만 ...   81227  \n",
       "25  자꾸만 연락을 피하고 바쁘다며 약속을 미루고점점 변해가는 네 모습 무심한 말투 조금...   58640  "
      ]
     },
     "execution_count": 8,
     "metadata": {},
     "output_type": "execute_result"
    }
   ],
   "source": [
    "ballad_sad[ballad_sad['노래제목'].isin(ballad_anxious['노래제목'])]"
   ]
  },
  {
   "cell_type": "code",
   "execution_count": null,
   "metadata": {},
   "outputs": [],
   "source": [
    "happy = ballad[ballad['노래제목'].isin(ballad_happy['노래제목'])].index\n",
    "happy"
   ]
  },
  {
   "cell_type": "code",
   "execution_count": null,
   "metadata": {},
   "outputs": [],
   "source": [
    "ballad.drop(happy, axis='index', inplace=True)"
   ]
  },
  {
   "cell_type": "code",
   "execution_count": null,
   "metadata": {},
   "outputs": [],
   "source": [
    "anxious = ballad[ballad['노래제목'].isin(ballad_anxious['노래제목'])].index\n",
    "anxious"
   ]
  },
  {
   "cell_type": "code",
   "execution_count": null,
   "metadata": {},
   "outputs": [],
   "source": [
    "ballad.drop(anxious, axis='index', inplace=True)"
   ]
  },
  {
   "cell_type": "code",
   "execution_count": null,
   "metadata": {},
   "outputs": [],
   "source": [
    "sad = ballad[ballad['노래제목'].isin(ballad_sad['노래제목'])].index\n",
    "sad"
   ]
  },
  {
   "cell_type": "code",
   "execution_count": null,
   "metadata": {},
   "outputs": [],
   "source": [
    "len(sad)"
   ]
  },
  {
   "cell_type": "code",
   "execution_count": null,
   "metadata": {},
   "outputs": [],
   "source": [
    "ballad.drop(sad, axis='index', inplace=True)"
   ]
  },
  {
   "cell_type": "code",
   "execution_count": null,
   "metadata": {},
   "outputs": [],
   "source": [
    "ballad.reset_index(drop=True, inplace=True)"
   ]
  },
  {
   "cell_type": "code",
   "execution_count": null,
   "metadata": {},
   "outputs": [],
   "source": [
    "ballad.to_csv(\"../Data/ballad_test.csv\", index=None)"
   ]
  },
  {
   "cell_type": "code",
   "execution_count": null,
   "metadata": {},
   "outputs": [],
   "source": [
    "pd.read_csv(\"../Data/ballad_test.csv\")"
   ]
  },
  {
   "cell_type": "code",
   "execution_count": null,
   "metadata": {},
   "outputs": [],
   "source": []
  }
 ],
 "metadata": {
  "kernelspec": {
   "display_name": "Python 3.7.13",
   "language": "python",
   "name": "python3"
  },
  "language_info": {
   "codemirror_mode": {
    "name": "ipython",
    "version": 3
   },
   "file_extension": ".py",
   "mimetype": "text/x-python",
   "name": "python",
   "nbconvert_exporter": "python",
   "pygments_lexer": "ipython3",
   "version": "3.7.13"
  },
  "orig_nbformat": 4,
  "vscode": {
   "interpreter": {
    "hash": "32a6e990c54b8aedea55d9f644f5b71e71549db4552cfafb8e4d9a3d07f10878"
   }
  }
 },
 "nbformat": 4,
 "nbformat_minor": 2
}
