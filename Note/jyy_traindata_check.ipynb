{
 "cells": [
  {
   "cell_type": "code",
   "execution_count": 1,
   "metadata": {},
   "outputs": [],
   "source": [
    "import pandas as pd"
   ]
  },
  {
   "cell_type": "code",
   "execution_count": 2,
   "metadata": {},
   "outputs": [
    {
     "data": {
      "text/html": [
       "<div>\n",
       "<style scoped>\n",
       "    .dataframe tbody tr th:only-of-type {\n",
       "        vertical-align: middle;\n",
       "    }\n",
       "\n",
       "    .dataframe tbody tr th {\n",
       "        vertical-align: top;\n",
       "    }\n",
       "\n",
       "    .dataframe thead th {\n",
       "        text-align: right;\n",
       "    }\n",
       "</style>\n",
       "<table border=\"1\" class=\"dataframe\">\n",
       "  <thead>\n",
       "    <tr style=\"text-align: right;\">\n",
       "      <th></th>\n",
       "      <th>가수명</th>\n",
       "      <th>노래제목</th>\n",
       "      <th>발매일</th>\n",
       "      <th>가사</th>\n",
       "      <th>좋아요수</th>\n",
       "      <th>순위</th>\n",
       "    </tr>\n",
       "  </thead>\n",
       "  <tbody>\n",
       "    <tr>\n",
       "      <th>0</th>\n",
       "      <td>WSG워너비 (가야G)</td>\n",
       "      <td>그때 그 순간 그대로 (그그그)</td>\n",
       "      <td>2022-07-09</td>\n",
       "      <td>잘 지냈지? 조금은 어색해 요즘 좋아 보여 인사 나누며 사실 궁금한 게 너무 많았는...</td>\n",
       "      <td>79774</td>\n",
       "      <td>1</td>\n",
       "    </tr>\n",
       "    <tr>\n",
       "      <th>1</th>\n",
       "      <td>경서</td>\n",
       "      <td>나의 X에게</td>\n",
       "      <td>2022-04-24</td>\n",
       "      <td>우리 다시 만날래 예쁘게 빛나던 모든 추억들이 너무 그리워 너의 품에 안길래 이 밤...</td>\n",
       "      <td>101199</td>\n",
       "      <td>2</td>\n",
       "    </tr>\n",
       "    <tr>\n",
       "      <th>2</th>\n",
       "      <td>멜로망스</td>\n",
       "      <td>사랑인가 봐</td>\n",
       "      <td>2022-02-18</td>\n",
       "      <td>너와 함께 하고 싶은 일들을 상상하는 게 요즘 내 일상이 되고 너의 즐거워하는 모습...</td>\n",
       "      <td>146814</td>\n",
       "      <td>3</td>\n",
       "    </tr>\n",
       "    <tr>\n",
       "      <th>3</th>\n",
       "      <td>주호</td>\n",
       "      <td>내가 아니라도</td>\n",
       "      <td>2022-03-25</td>\n",
       "      <td>사랑이었다 별거 없던 내 하루에 빛이 돼준 단한 사람 나보다 나를 더 아껴 주던 너...</td>\n",
       "      <td>50533</td>\n",
       "      <td>4</td>\n",
       "    </tr>\n",
       "    <tr>\n",
       "      <th>4</th>\n",
       "      <td>임영웅</td>\n",
       "      <td>사랑은 늘 도망가</td>\n",
       "      <td>2021-10-11</td>\n",
       "      <td>눈물이 난다 이 길을 걸으면 그 사람 손길이 자꾸 생각이 난다 붙잡지 못하고 가슴만...</td>\n",
       "      <td>169216</td>\n",
       "      <td>5</td>\n",
       "    </tr>\n",
       "  </tbody>\n",
       "</table>\n",
       "</div>"
      ],
      "text/plain": [
       "            가수명               노래제목         발매일  \\\n",
       "0  WSG워너비 (가야G)  그때 그 순간 그대로 (그그그)  2022-07-09   \n",
       "1            경서             나의 X에게  2022-04-24   \n",
       "2          멜로망스             사랑인가 봐  2022-02-18   \n",
       "3            주호            내가 아니라도  2022-03-25   \n",
       "4           임영웅          사랑은 늘 도망가  2021-10-11   \n",
       "\n",
       "                                                  가사    좋아요수  순위  \n",
       "0  잘 지냈지? 조금은 어색해 요즘 좋아 보여 인사 나누며 사실 궁금한 게 너무 많았는...   79774   1  \n",
       "1  우리 다시 만날래 예쁘게 빛나던 모든 추억들이 너무 그리워 너의 품에 안길래 이 밤...  101199   2  \n",
       "2  너와 함께 하고 싶은 일들을 상상하는 게 요즘 내 일상이 되고 너의 즐거워하는 모습...  146814   3  \n",
       "3  사랑이었다 별거 없던 내 하루에 빛이 돼준 단한 사람 나보다 나를 더 아껴 주던 너...   50533   4  \n",
       "4  눈물이 난다 이 길을 걸으면 그 사람 손길이 자꾸 생각이 난다 붙잡지 못하고 가슴만...  169216   5  "
      ]
     },
     "execution_count": 2,
     "metadata": {},
     "output_type": "execute_result"
    }
   ],
   "source": [
    "ballad = pd.read_csv('../Data/melon.csv')\n",
    "ballad.head()"
   ]
  },
  {
   "cell_type": "code",
   "execution_count": 3,
   "metadata": {},
   "outputs": [
    {
     "data": {
      "text/html": [
       "<div>\n",
       "<style scoped>\n",
       "    .dataframe tbody tr th:only-of-type {\n",
       "        vertical-align: middle;\n",
       "    }\n",
       "\n",
       "    .dataframe tbody tr th {\n",
       "        vertical-align: top;\n",
       "    }\n",
       "\n",
       "    .dataframe thead th {\n",
       "        text-align: right;\n",
       "    }\n",
       "</style>\n",
       "<table border=\"1\" class=\"dataframe\">\n",
       "  <thead>\n",
       "    <tr style=\"text-align: right;\">\n",
       "      <th></th>\n",
       "      <th>가수명</th>\n",
       "      <th>노래제목</th>\n",
       "      <th>발매일</th>\n",
       "      <th>가사</th>\n",
       "      <th>좋아요수</th>\n",
       "    </tr>\n",
       "  </thead>\n",
       "  <tbody>\n",
       "    <tr>\n",
       "      <th>0</th>\n",
       "      <td>김제훈</td>\n",
       "      <td>좋은 꿈이었길 바래</td>\n",
       "      <td>2019-09-18</td>\n",
       "      <td>만남 이별 짧지 않았던 시간을 지나 뒤돌아보면 그래도 정말 즐거웠었지 널 미워했던 ...</td>\n",
       "      <td>793</td>\n",
       "    </tr>\n",
       "    <tr>\n",
       "      <th>1</th>\n",
       "      <td>양다일</td>\n",
       "      <td>Darling</td>\n",
       "      <td>2020-11-23</td>\n",
       "      <td>Oh darling 처음 널 만나면 수줍은 대화들로 사랑에 빠질 거야 My darl...</td>\n",
       "      <td>10907</td>\n",
       "    </tr>\n",
       "    <tr>\n",
       "      <th>2</th>\n",
       "      <td>김제훈</td>\n",
       "      <td>어때</td>\n",
       "      <td>2019-02-18</td>\n",
       "      <td>머릿속에 맴돌던 생각을 억누른 채 감정을 소비하며 누워서 잠이 들지 뻔한 일상 속에...</td>\n",
       "      <td>1130</td>\n",
       "    </tr>\n",
       "    <tr>\n",
       "      <th>3</th>\n",
       "      <td>장범준</td>\n",
       "      <td>잠이 오질 않네요</td>\n",
       "      <td>2020-10-24</td>\n",
       "      <td>당신은 날 설레게 만들어 조용한 내 마음 자꾸만 춤추게 해 얼마나 얼마나 날 떨리게...</td>\n",
       "      <td>159018</td>\n",
       "    </tr>\n",
       "    <tr>\n",
       "      <th>4</th>\n",
       "      <td>산들</td>\n",
       "      <td>취기를 빌려 (취향저격 그녀 X 산들)</td>\n",
       "      <td>2020-07-20</td>\n",
       "      <td>언제부턴가 불쑥 내 습관이 돼버린 너 혹시나 이런 맘이 어쩌면 부담일까 널 주저했어...</td>\n",
       "      <td>218069</td>\n",
       "    </tr>\n",
       "  </tbody>\n",
       "</table>\n",
       "</div>"
      ],
      "text/plain": [
       "   가수명                   노래제목         발매일  \\\n",
       "0  김제훈             좋은 꿈이었길 바래  2019-09-18   \n",
       "1  양다일                Darling  2020-11-23   \n",
       "2  김제훈                     어때  2019-02-18   \n",
       "3  장범준              잠이 오질 않네요  2020-10-24   \n",
       "4   산들  취기를 빌려 (취향저격 그녀 X 산들)  2020-07-20   \n",
       "\n",
       "                                                  가사    좋아요수  \n",
       "0  만남 이별 짧지 않았던 시간을 지나 뒤돌아보면 그래도 정말 즐거웠었지 널 미워했던 ...     793  \n",
       "1  Oh darling 처음 널 만나면 수줍은 대화들로 사랑에 빠질 거야 My darl...   10907  \n",
       "2  머릿속에 맴돌던 생각을 억누른 채 감정을 소비하며 누워서 잠이 들지 뻔한 일상 속에...    1130  \n",
       "3  당신은 날 설레게 만들어 조용한 내 마음 자꾸만 춤추게 해 얼마나 얼마나 날 떨리게...  159018  \n",
       "4  언제부턴가 불쑥 내 습관이 돼버린 너 혹시나 이런 맘이 어쩌면 부담일까 널 주저했어...  218069  "
      ]
     },
     "execution_count": 3,
     "metadata": {},
     "output_type": "execute_result"
    }
   ],
   "source": [
    "ballad_happy = pd.read_csv('../Data/ballad_happy.csv')\n",
    "ballad_happy.head()"
   ]
  },
  {
   "cell_type": "code",
   "execution_count": 4,
   "metadata": {},
   "outputs": [
    {
     "data": {
      "text/html": [
       "<div>\n",
       "<style scoped>\n",
       "    .dataframe tbody tr th:only-of-type {\n",
       "        vertical-align: middle;\n",
       "    }\n",
       "\n",
       "    .dataframe tbody tr th {\n",
       "        vertical-align: top;\n",
       "    }\n",
       "\n",
       "    .dataframe thead th {\n",
       "        text-align: right;\n",
       "    }\n",
       "</style>\n",
       "<table border=\"1\" class=\"dataframe\">\n",
       "  <thead>\n",
       "    <tr style=\"text-align: right;\">\n",
       "      <th></th>\n",
       "      <th>가수명</th>\n",
       "      <th>노래제목</th>\n",
       "      <th>발매일</th>\n",
       "      <th>가사</th>\n",
       "      <th>좋아요수</th>\n",
       "    </tr>\n",
       "  </thead>\n",
       "  <tbody>\n",
       "    <tr>\n",
       "      <th>0</th>\n",
       "      <td>이진성 (먼데이 키즈)</td>\n",
       "      <td>Letter</td>\n",
       "      <td>2009-02-12</td>\n",
       "      <td>텅 빈 방안에 앉아 너의 사진을 본다 해맑았던 미소가 날 붙잡아 발이 떨어지질 않아...</td>\n",
       "      <td>9966</td>\n",
       "    </tr>\n",
       "    <tr>\n",
       "      <th>1</th>\n",
       "      <td>김나영</td>\n",
       "      <td>너의 번호를 누르고</td>\n",
       "      <td>2022-04-12</td>\n",
       "      <td>우연히 너를 만나서 너의 옆자리에 앉아 그렇게 우린 친해졌어 짧은 시간에 그렇게 가...</td>\n",
       "      <td>17641</td>\n",
       "    </tr>\n",
       "    <tr>\n",
       "      <th>2</th>\n",
       "      <td>노형돈</td>\n",
       "      <td>생각이나</td>\n",
       "      <td>2022-06-01</td>\n",
       "      <td>하루가 지나고 일년이 지나면 다 잊은 거라 생각했어 깊이 닫힌 상처가 빨리 낫지 않...</td>\n",
       "      <td>97</td>\n",
       "    </tr>\n",
       "    <tr>\n",
       "      <th>3</th>\n",
       "      <td>경서예지</td>\n",
       "      <td>사실 나는 (Feat.전건호)</td>\n",
       "      <td>2020-04-12</td>\n",
       "      <td>그땐 우리 둘 다 철없이 어리기만 했나 봐 태어나 처음 설레는 너를 만나서 세상에 ...</td>\n",
       "      <td>94210</td>\n",
       "    </tr>\n",
       "    <tr>\n",
       "      <th>4</th>\n",
       "      <td>멜로망스</td>\n",
       "      <td>그게 더 편할 것 같아 (N번째 연애 X 멜로망스)</td>\n",
       "      <td>2021-11-26</td>\n",
       "      <td>너를 위해 해줬었던 말들은 부담을 줬고 네가 내게 해줬던 위로에 나 상처 입었죠 사...</td>\n",
       "      <td>36203</td>\n",
       "    </tr>\n",
       "  </tbody>\n",
       "</table>\n",
       "</div>"
      ],
      "text/plain": [
       "            가수명                          노래제목         발매일  \\\n",
       "0  이진성 (먼데이 키즈)                        Letter  2009-02-12   \n",
       "1           김나영                    너의 번호를 누르고  2022-04-12   \n",
       "2           노형돈                          생각이나  2022-06-01   \n",
       "3          경서예지              사실 나는 (Feat.전건호)  2020-04-12   \n",
       "4          멜로망스  그게 더 편할 것 같아 (N번째 연애 X 멜로망스)  2021-11-26   \n",
       "\n",
       "                                                  가사   좋아요수  \n",
       "0  텅 빈 방안에 앉아 너의 사진을 본다 해맑았던 미소가 날 붙잡아 발이 떨어지질 않아...   9966  \n",
       "1  우연히 너를 만나서 너의 옆자리에 앉아 그렇게 우린 친해졌어 짧은 시간에 그렇게 가...  17641  \n",
       "2  하루가 지나고 일년이 지나면 다 잊은 거라 생각했어 깊이 닫힌 상처가 빨리 낫지 않...     97  \n",
       "3  그땐 우리 둘 다 철없이 어리기만 했나 봐 태어나 처음 설레는 너를 만나서 세상에 ...  94210  \n",
       "4  너를 위해 해줬었던 말들은 부담을 줬고 네가 내게 해줬던 위로에 나 상처 입었죠 사...  36203  "
      ]
     },
     "execution_count": 4,
     "metadata": {},
     "output_type": "execute_result"
    }
   ],
   "source": [
    "ballad_anxious = pd.read_csv(\"../Data/ballad_anxious.csv\")\n",
    "ballad_anxious.head()"
   ]
  },
  {
   "cell_type": "code",
   "execution_count": 5,
   "metadata": {},
   "outputs": [
    {
     "data": {
      "text/html": [
       "<div>\n",
       "<style scoped>\n",
       "    .dataframe tbody tr th:only-of-type {\n",
       "        vertical-align: middle;\n",
       "    }\n",
       "\n",
       "    .dataframe tbody tr th {\n",
       "        vertical-align: top;\n",
       "    }\n",
       "\n",
       "    .dataframe thead th {\n",
       "        text-align: right;\n",
       "    }\n",
       "</style>\n",
       "<table border=\"1\" class=\"dataframe\">\n",
       "  <thead>\n",
       "    <tr style=\"text-align: right;\">\n",
       "      <th></th>\n",
       "      <th>가수명</th>\n",
       "      <th>노래제목</th>\n",
       "      <th>발매일</th>\n",
       "      <th>장르</th>\n",
       "      <th>가사</th>\n",
       "      <th>좋아요수</th>\n",
       "    </tr>\n",
       "  </thead>\n",
       "  <tbody>\n",
       "    <tr>\n",
       "      <th>0</th>\n",
       "      <td>V.O.S</td>\n",
       "      <td>잘 살고 있다</td>\n",
       "      <td>2019.12.02</td>\n",
       "      <td>발라드</td>\n",
       "      <td>한잔 술에 잊자 그만나도 숨 좀 쉬자 제발마치 주문처럼매일 읊조렸던넌 모르는내 슬픈...</td>\n",
       "      <td>38,511</td>\n",
       "    </tr>\n",
       "    <tr>\n",
       "      <th>1</th>\n",
       "      <td>주보라</td>\n",
       "      <td>네가 없다 (Without You)</td>\n",
       "      <td>2013.02.19</td>\n",
       "      <td>발라드</td>\n",
       "      <td>서툰 작별이었는지 아련한 슬픔 속에 눈물이멈추질 않아너무나 어렸던 걸까내 이기적임에...</td>\n",
       "      <td>2,949</td>\n",
       "    </tr>\n",
       "    <tr>\n",
       "      <th>2</th>\n",
       "      <td>휘인 (Whee In)</td>\n",
       "      <td>헤어지자 (Prod. 정키)</td>\n",
       "      <td>2019.09.04</td>\n",
       "      <td>발라드</td>\n",
       "      <td>그럴 수도 있지 생각했어잊어 보려 했어지난 날의 모든 걸 노력했어다시 시작해 보려고...</td>\n",
       "      <td>115,651</td>\n",
       "    </tr>\n",
       "    <tr>\n",
       "      <th>3</th>\n",
       "      <td>헤이즈 (Heize)</td>\n",
       "      <td>비가 오는 날엔 (2021)</td>\n",
       "      <td>2021.08.04</td>\n",
       "      <td>발라드</td>\n",
       "      <td>세상이 어두워지고조용히 비가 내리면여전히 그대로오늘도 어김없이 난벗어나질 못하네너의...</td>\n",
       "      <td>73,204</td>\n",
       "    </tr>\n",
       "    <tr>\n",
       "      <th>4</th>\n",
       "      <td>스트레이 (The Stray)</td>\n",
       "      <td>그냥, 묻고 싶었어</td>\n",
       "      <td>2021.08.04</td>\n",
       "      <td>발라드</td>\n",
       "      <td>외로운 내 마음의 불꽃은아픔으로 가득 찬 과거를 불태워차디찬 이곳에서 벗어나게 해줄...</td>\n",
       "      <td>1,759</td>\n",
       "    </tr>\n",
       "  </tbody>\n",
       "</table>\n",
       "</div>"
      ],
      "text/plain": [
       "                가수명                 노래제목         발매일   장르  \\\n",
       "0             V.O.S              잘 살고 있다  2019.12.02  발라드   \n",
       "1               주보라  네가 없다 (Without You)  2013.02.19  발라드   \n",
       "2      휘인 (Whee In)      헤어지자 (Prod. 정키)  2019.09.04  발라드   \n",
       "3       헤이즈 (Heize)      비가 오는 날엔 (2021)  2021.08.04  발라드   \n",
       "4  스트레이 (The Stray)           그냥, 묻고 싶었어  2021.08.04  발라드   \n",
       "\n",
       "                                                  가사     좋아요수  \n",
       "0  한잔 술에 잊자 그만나도 숨 좀 쉬자 제발마치 주문처럼매일 읊조렸던넌 모르는내 슬픈...   38,511  \n",
       "1  서툰 작별이었는지 아련한 슬픔 속에 눈물이멈추질 않아너무나 어렸던 걸까내 이기적임에...    2,949  \n",
       "2  그럴 수도 있지 생각했어잊어 보려 했어지난 날의 모든 걸 노력했어다시 시작해 보려고...  115,651  \n",
       "3  세상이 어두워지고조용히 비가 내리면여전히 그대로오늘도 어김없이 난벗어나질 못하네너의...   73,204  \n",
       "4  외로운 내 마음의 불꽃은아픔으로 가득 찬 과거를 불태워차디찬 이곳에서 벗어나게 해줄...    1,759  "
      ]
     },
     "execution_count": 5,
     "metadata": {},
     "output_type": "execute_result"
    }
   ],
   "source": [
    "ballad_sad = pd.read_csv('../Data/ballad_sad.csv')\n",
    "ballad_sad.head()"
   ]
  },
  {
   "cell_type": "code",
   "execution_count": 6,
   "metadata": {},
   "outputs": [
    {
     "data": {
      "text/plain": [
       "Int64Index([  42,   80,   96,  122,  130,  367,  576,  606,  813,  899,  966,\n",
       "             974, 1025, 1705, 1749, 1925, 1959, 1993],\n",
       "           dtype='int64')"
      ]
     },
     "execution_count": 6,
     "metadata": {},
     "output_type": "execute_result"
    }
   ],
   "source": [
    "happy = ballad[ballad['노래제목'].isin(ballad_happy['노래제목'])].index\n",
    "happy"
   ]
  },
  {
   "cell_type": "code",
   "execution_count": 7,
   "metadata": {},
   "outputs": [],
   "source": [
    "ballad.drop(happy, axis='index', inplace=True)"
   ]
  },
  {
   "cell_type": "code",
   "execution_count": 8,
   "metadata": {},
   "outputs": [
    {
     "data": {
      "text/plain": [
       "Int64Index([   3,    4,   12,   30,   39,   40,   55,   58,   62,   71,   76,\n",
       "              78,   88,   94,   99,  140,  153,  208,  212,  217,  274,  285,\n",
       "             348,  380,  647,  670, 1039, 1102, 1245, 1281, 1839, 1921],\n",
       "           dtype='int64')"
      ]
     },
     "execution_count": 8,
     "metadata": {},
     "output_type": "execute_result"
    }
   ],
   "source": [
    "anxious = ballad[ballad['노래제목'].isin(ballad_anxious['노래제목'])].index\n",
    "anxious"
   ]
  },
  {
   "cell_type": "code",
   "execution_count": 9,
   "metadata": {},
   "outputs": [],
   "source": [
    "ballad.drop(anxious, axis='index', inplace=True)"
   ]
  },
  {
   "cell_type": "code",
   "execution_count": 10,
   "metadata": {},
   "outputs": [
    {
     "data": {
      "text/plain": [
       "Int64Index([  19,   53,  108,  128,  240,  259,  318,  377,  385,  431,  454,\n",
       "             458,  464,  478,  523,  525,  529,  537,  582,  585,  619,  716,\n",
       "             796,  799, 1095, 1266, 1307, 1545, 1623],\n",
       "           dtype='int64')"
      ]
     },
     "execution_count": 10,
     "metadata": {},
     "output_type": "execute_result"
    }
   ],
   "source": [
    "sad = ballad[ballad['노래제목'].isin(ballad_sad['노래제목'])].index\n",
    "sad"
   ]
  },
  {
   "cell_type": "code",
   "execution_count": 11,
   "metadata": {},
   "outputs": [
    {
     "data": {
      "text/plain": [
       "29"
      ]
     },
     "execution_count": 11,
     "metadata": {},
     "output_type": "execute_result"
    }
   ],
   "source": [
    "len(sad)"
   ]
  },
  {
   "cell_type": "code",
   "execution_count": 12,
   "metadata": {},
   "outputs": [],
   "source": [
    "ballad.drop(sad, axis='index', inplace=True)"
   ]
  },
  {
   "cell_type": "code",
   "execution_count": 14,
   "metadata": {},
   "outputs": [],
   "source": [
    "ballad.reset_index(drop=True, inplace=True)"
   ]
  },
  {
   "cell_type": "code",
   "execution_count": 17,
   "metadata": {},
   "outputs": [],
   "source": [
    "ballad.to_csv(\"../Data/ballad_test.csv\", index=None)"
   ]
  },
  {
   "cell_type": "code",
   "execution_count": 18,
   "metadata": {},
   "outputs": [
    {
     "data": {
      "text/html": [
       "<div>\n",
       "<style scoped>\n",
       "    .dataframe tbody tr th:only-of-type {\n",
       "        vertical-align: middle;\n",
       "    }\n",
       "\n",
       "    .dataframe tbody tr th {\n",
       "        vertical-align: top;\n",
       "    }\n",
       "\n",
       "    .dataframe thead th {\n",
       "        text-align: right;\n",
       "    }\n",
       "</style>\n",
       "<table border=\"1\" class=\"dataframe\">\n",
       "  <thead>\n",
       "    <tr style=\"text-align: right;\">\n",
       "      <th></th>\n",
       "      <th>가수명</th>\n",
       "      <th>노래제목</th>\n",
       "      <th>발매일</th>\n",
       "      <th>가사</th>\n",
       "      <th>좋아요수</th>\n",
       "      <th>순위</th>\n",
       "    </tr>\n",
       "  </thead>\n",
       "  <tbody>\n",
       "    <tr>\n",
       "      <th>0</th>\n",
       "      <td>WSG워너비 (가야G)</td>\n",
       "      <td>그때 그 순간 그대로 (그그그)</td>\n",
       "      <td>2022-07-09</td>\n",
       "      <td>잘 지냈지? 조금은 어색해 요즘 좋아 보여 인사 나누며 사실 궁금한 게 너무 많았는...</td>\n",
       "      <td>79774</td>\n",
       "      <td>1</td>\n",
       "    </tr>\n",
       "    <tr>\n",
       "      <th>1</th>\n",
       "      <td>경서</td>\n",
       "      <td>나의 X에게</td>\n",
       "      <td>2022-04-24</td>\n",
       "      <td>우리 다시 만날래 예쁘게 빛나던 모든 추억들이 너무 그리워 너의 품에 안길래 이 밤...</td>\n",
       "      <td>101199</td>\n",
       "      <td>2</td>\n",
       "    </tr>\n",
       "    <tr>\n",
       "      <th>2</th>\n",
       "      <td>멜로망스</td>\n",
       "      <td>사랑인가 봐</td>\n",
       "      <td>2022-02-18</td>\n",
       "      <td>너와 함께 하고 싶은 일들을 상상하는 게 요즘 내 일상이 되고 너의 즐거워하는 모습...</td>\n",
       "      <td>146814</td>\n",
       "      <td>3</td>\n",
       "    </tr>\n",
       "    <tr>\n",
       "      <th>3</th>\n",
       "      <td>김민석 (멜로망스)</td>\n",
       "      <td>취중고백</td>\n",
       "      <td>2021-12-19</td>\n",
       "      <td>뭐하고 있었니 늦었지만 잠시 나올래 너의 집 골목에 있는 놀이터에 앉아 있어 친구들...</td>\n",
       "      <td>137092</td>\n",
       "      <td>6</td>\n",
       "    </tr>\n",
       "    <tr>\n",
       "      <th>4</th>\n",
       "      <td>임영웅</td>\n",
       "      <td>우리들의 블루스</td>\n",
       "      <td>2022-05-02</td>\n",
       "      <td>잊지는 말아요 함께 했던 날들 눈물이 날 때면 그대 뒤를 돌아보면 돼요 아프지 말아...</td>\n",
       "      <td>71005</td>\n",
       "      <td>7</td>\n",
       "    </tr>\n",
       "    <tr>\n",
       "      <th>...</th>\n",
       "      <td>...</td>\n",
       "      <td>...</td>\n",
       "      <td>...</td>\n",
       "      <td>...</td>\n",
       "      <td>...</td>\n",
       "      <td>...</td>\n",
       "    </tr>\n",
       "    <tr>\n",
       "      <th>1916</th>\n",
       "      <td>멜로망스</td>\n",
       "      <td>동경</td>\n",
       "      <td>2022-06-08</td>\n",
       "      <td>우린 서로 너무도 다른 세상에 살아왔죠 한번 스쳐 지났을 뿐 그 후로 난 멀리서 이...</td>\n",
       "      <td>1218</td>\n",
       "      <td>1996</td>\n",
       "    </tr>\n",
       "    <tr>\n",
       "      <th>1917</th>\n",
       "      <td>곽진언</td>\n",
       "      <td>당신만이</td>\n",
       "      <td>2014-09-20</td>\n",
       "      <td>눈부신 햇살이 비춰주어도 제게 무슨 소용있겠어요 이토록 아름다운 당신만이 나에게 빛...</td>\n",
       "      <td>58098</td>\n",
       "      <td>1997</td>\n",
       "    </tr>\n",
       "    <tr>\n",
       "      <th>1918</th>\n",
       "      <td>허각</td>\n",
       "      <td>비가 내리기 전에</td>\n",
       "      <td>2021-06-20</td>\n",
       "      <td>찬란했었던 우리의 사랑이 언제부턴가 어둠을 데려와 자꾸 감추려고 하지 마 너의 얼굴...</td>\n",
       "      <td>6590</td>\n",
       "      <td>1998</td>\n",
       "    </tr>\n",
       "    <tr>\n",
       "      <th>1919</th>\n",
       "      <td>김은영</td>\n",
       "      <td>각자의 자리, 각자의 시간</td>\n",
       "      <td>2022-07-21</td>\n",
       "      <td>텅 빈 방안에 가만히 누워 한참을 멍하니 바라보았지 홀로 외로이 이 긴 밤에 무너져...</td>\n",
       "      <td>155</td>\n",
       "      <td>1999</td>\n",
       "    </tr>\n",
       "    <tr>\n",
       "      <th>1920</th>\n",
       "      <td>태연 (TAEYEON)</td>\n",
       "      <td>그리고 하나</td>\n",
       "      <td>2013-03-13</td>\n",
       "      <td>쉽게 상처 받고 쉽게 눈물나고 쉽게 아프던 날 기억하나요 지금도 그래요 여전히 같아...</td>\n",
       "      <td>53028</td>\n",
       "      <td>2000</td>\n",
       "    </tr>\n",
       "  </tbody>\n",
       "</table>\n",
       "<p>1921 rows × 6 columns</p>\n",
       "</div>"
      ],
      "text/plain": [
       "               가수명               노래제목         발매일  \\\n",
       "0     WSG워너비 (가야G)  그때 그 순간 그대로 (그그그)  2022-07-09   \n",
       "1               경서             나의 X에게  2022-04-24   \n",
       "2             멜로망스             사랑인가 봐  2022-02-18   \n",
       "3       김민석 (멜로망스)               취중고백  2021-12-19   \n",
       "4              임영웅           우리들의 블루스  2022-05-02   \n",
       "...            ...                ...         ...   \n",
       "1916          멜로망스                 동경  2022-06-08   \n",
       "1917           곽진언               당신만이  2014-09-20   \n",
       "1918            허각          비가 내리기 전에  2021-06-20   \n",
       "1919           김은영     각자의 자리, 각자의 시간  2022-07-21   \n",
       "1920  태연 (TAEYEON)             그리고 하나  2013-03-13   \n",
       "\n",
       "                                                     가사    좋아요수    순위  \n",
       "0     잘 지냈지? 조금은 어색해 요즘 좋아 보여 인사 나누며 사실 궁금한 게 너무 많았는...   79774     1  \n",
       "1     우리 다시 만날래 예쁘게 빛나던 모든 추억들이 너무 그리워 너의 품에 안길래 이 밤...  101199     2  \n",
       "2     너와 함께 하고 싶은 일들을 상상하는 게 요즘 내 일상이 되고 너의 즐거워하는 모습...  146814     3  \n",
       "3     뭐하고 있었니 늦었지만 잠시 나올래 너의 집 골목에 있는 놀이터에 앉아 있어 친구들...  137092     6  \n",
       "4     잊지는 말아요 함께 했던 날들 눈물이 날 때면 그대 뒤를 돌아보면 돼요 아프지 말아...   71005     7  \n",
       "...                                                 ...     ...   ...  \n",
       "1916  우린 서로 너무도 다른 세상에 살아왔죠 한번 스쳐 지났을 뿐 그 후로 난 멀리서 이...    1218  1996  \n",
       "1917  눈부신 햇살이 비춰주어도 제게 무슨 소용있겠어요 이토록 아름다운 당신만이 나에게 빛...   58098  1997  \n",
       "1918  찬란했었던 우리의 사랑이 언제부턴가 어둠을 데려와 자꾸 감추려고 하지 마 너의 얼굴...    6590  1998  \n",
       "1919  텅 빈 방안에 가만히 누워 한참을 멍하니 바라보았지 홀로 외로이 이 긴 밤에 무너져...     155  1999  \n",
       "1920  쉽게 상처 받고 쉽게 눈물나고 쉽게 아프던 날 기억하나요 지금도 그래요 여전히 같아...   53028  2000  \n",
       "\n",
       "[1921 rows x 6 columns]"
      ]
     },
     "execution_count": 18,
     "metadata": {},
     "output_type": "execute_result"
    }
   ],
   "source": [
    "pd.read_csv(\"../Data/ballad_test.csv\")"
   ]
  },
  {
   "cell_type": "code",
   "execution_count": null,
   "metadata": {},
   "outputs": [],
   "source": []
  }
 ],
 "metadata": {
  "kernelspec": {
   "display_name": "Python 3.7.13",
   "language": "python",
   "name": "python3"
  },
  "language_info": {
   "codemirror_mode": {
    "name": "ipython",
    "version": 3
   },
   "file_extension": ".py",
   "mimetype": "text/x-python",
   "name": "python",
   "nbconvert_exporter": "python",
   "pygments_lexer": "ipython3",
   "version": "3.7.13"
  },
  "orig_nbformat": 4,
  "vscode": {
   "interpreter": {
    "hash": "32a6e990c54b8aedea55d9f644f5b71e71549db4552cfafb8e4d9a3d07f10878"
   }
  }
 },
 "nbformat": 4,
 "nbformat_minor": 2
}
