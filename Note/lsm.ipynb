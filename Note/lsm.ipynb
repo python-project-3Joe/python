{
 "cells": [
  {
   "cell_type": "markdown",
   "metadata": {},
   "source": [
    "# 이승민의 멜론 크롤링\n",
    "---"
   ]
  },
  {
   "cell_type": "code",
   "execution_count": 2,
   "metadata": {},
   "outputs": [],
   "source": [
    "from selenium import webdriver\n",
    "from selenium.webdriver.chrome.service import Service\n",
    "from webdriver_manager.chrome import ChromeDriverManager\n",
    "from selenium.webdriver.common.by import By\n",
    "\n",
    "from bs4 import BeautifulSoup\n",
    "import urllib.request as request"
   ]
  },
  {
   "cell_type": "code",
   "execution_count": 158,
   "metadata": {},
   "outputs": [
    {
     "name": "stdout",
     "output_type": "stream",
     "text": [
      "\n"
     ]
    },
    {
     "name": "stderr",
     "output_type": "stream",
     "text": [
      "[WDM] - ====== WebDriver manager ======\n",
      "[WDM] - Current google-chrome version is 103.0.5060\n",
      "[WDM] - Get LATEST chromedriver version for 103.0.5060 google-chrome\n",
      "[WDM] - Driver [/Users/tj/.wdm/drivers/chromedriver/mac64/103.0.5060.134/chromedriver] found in cache\n"
     ]
    }
   ],
   "source": [
    "# https://www.melon.com/song/detail.htm?songId=35383397\n",
    "\n",
    "chrome_options = webdriver.ChromeOptions()\n",
    "driver = webdriver.Chrome(service=Service(ChromeDriverManager().install()), options=chrome_options)\n",
    "driver.get('https://www.melon.com/song/detail.htm?songId=35383397')"
   ]
  },
  {
   "cell_type": "code",
   "execution_count": 159,
   "metadata": {},
   "outputs": [],
   "source": [
    "page_source = driver.page_source\n",
    "soup = BeautifulSoup(page_source, \"html.parser\")"
   ]
  },
  {
   "cell_type": "code",
   "execution_count": 160,
   "metadata": {},
   "outputs": [
    {
     "name": "stdout",
     "output_type": "stream",
     "text": [
      "노래제목 : \n",
      "곡명\n",
      "\t\t\t\t\t\t\t\n",
      "\t\t\t\t\t\t\t\n",
      "\t\t\t\t\t\t\t\n",
      "\t\t\t\t\t\t\t\n",
      "\t\t\t\t\t\t\t그때 그 순간 그대로 (그그그)\n",
      "\t\t\t\t\t\t\n",
      "가수명 : WSG워너비 (가야G)\n",
      "발매일 : 2022.07.09\n",
      "가사 : \n",
      "\t\t\t\t\t\t\t잘 지냈지? 조금은 어색해 요즘 좋아 보여 인사 나누며사실 궁금한 게 너무 많았는데 반가움에 멍해졌죠 생각보다 오래 된 것 같은 우리 수다스럽던 그때가 생각나뭐가 그렇게도 할 말이 많아서 밤을 지새우곤 했죠 그리운 목소리 그리던 얼굴 참 많이도 기다렸어다시 만나자는 너의 한마디에 울컥 눈물이 나결국 너였단 걸 알아기다림의 끝은 기적이 되고 기적 같은 우린 운명처럼 서로를 알아보고 그렇게 눈앞에 서있죠 우리 사랑했던 우리 다시 만나 그때 그 순간 그대로사랑했고 사랑할 거니까 같이 듣던 노래 그때 그 거리를 이제 혼자 아닌 너와 둘이 걸어다시 오른쪽에 나란히 발맞춰 같은 노래를 부르죠 그리운 만남을 그리던 날들 참 많이도 기다렸어다시 너를 만나 더욱 더 소중해 같은 마음이란 걸알아 기다림의 끝은 기적이 되고 기적 같은 우린 운명처럼 서로를 알아보고 그렇게 눈앞에 서있죠우리 사랑했던 우리 다시 만나 그때 그 순간 그대로사랑했고 사랑할 거니까처음 느낌 그대로 설렘이 가득한 날고마워 다시 돌아와줘서그때 그 순간처럼 날안아줘결국 기다림의 끝은 기적이 되고 기적 같은 우린 운명처럼 서로를 알아보고 그렇게 눈앞에 서있죠 우리 사랑했던 우리 다시 만나 그때 그 순간 그대로사랑했고 사랑할 거니까\n",
      "\t\t\t\t\t\n",
      "좋아요 수 : 78,526\n"
     ]
    }
   ],
   "source": [
    "# 노래제목 가져오기\n",
    "song_name = soup.select_one(\"#downloadfrm > div > div > div.entry > div.info > div.song_name \").text\n",
    "print(\"노래제목 :\",song_name)\n",
    "# 가수명 가져오기\n",
    "artist_name = soup.select_one('#downloadfrm > div > div > div.entry > div.info > div.artist > a > span:nth-child(1) ').string\n",
    "print(\"가수명 :\",artist_name)\n",
    "# 발매일 가져오기\n",
    "date = soup.select_one('#downloadfrm > div > div > div.entry > div.meta > dl > dd:nth-child(4)').string\n",
    "print(\"발매일 :\",date)\n",
    "# 가사 가져오기\n",
    "lyric = soup.select_one('#d_video_summary').text\n",
    "print(\"가사 :\",lyric)\n",
    "# 좋아요수 가져오기\n",
    "like = soup.select_one(\"#d_like_count\").text\n",
    "print(\"좋아요 수 :\", like)"
   ]
  },
  {
   "cell_type": "code",
   "execution_count": 173,
   "metadata": {},
   "outputs": [
    {
     "data": {
      "text/plain": [
       "'잘 지냈지? 조금은 어색해 요즘 좋아 보여 인사 나누며 사실 궁금한 게 너무 많았는데 반가움에 멍해졌죠  생각보다 오래 된 것 같은 우리 수다스럽던 그때가 생각나 뭐가 그렇게도 할 말이 많아서 밤을 지새우곤 했죠  그리운 목소리 그리던 얼굴 참 많이도 기다렸어 다시 만나자는 너의 한마디에 울컥 눈물이 나 결국 너였단 걸  알아 기다림의 끝은 기적이 되고 기적 같은 우린 운명처럼  서로를 알아보고 그렇게 눈앞에 서있죠  우리 사랑했던 우리 다시 만나 그때 그 순간 그대로 사랑했고 사랑할 거니까  같이 듣던 노래 그때 그 거리를 이제 혼자 아닌 너와 둘이 걸어 다시 오른쪽에 나란히 발맞춰 같은 노래를 부르죠  그리운 만남을 그리던 날들 참 많이도 기다렸어 다시 너를 만나 더욱 더 소중해 같은 마음이란 걸 알아 기다림의 끝은 기적이 되고 기적 같은 우린 운명처럼  서로를 알아보고 그렇게 눈앞에 서있죠 우리 사랑했던 우리 다시 만나 그때 그 순간 그대로 사랑했고 사랑할 거니까 처음 느낌 그대로 설렘이 가득한 날 고마워 다시 돌아와줘서 그때 그 순간처럼 날 안아줘 결국 기다림의 끝은 기적이 되고 기적 같은 우린 운명처럼  서로를 알아보고 그렇게 눈앞에 서있죠  우리 사랑했던 우리 다시 만나 그때 그 순간 그대로 사랑했고 사랑할 거니까'"
      ]
     },
     "execution_count": 173,
     "metadata": {},
     "output_type": "execute_result"
    }
   ],
   "source": [
    "lyric1 = str(soup.select_one('#d_video_summary')).replace('<br/>',' ').replace('<div class=\"lyric\" id=\"d_video_summary\"><!-- height:auto; 로 변경시, 확장됨 -->','').replace('</div>','').replace('\\t','').replace('\\n','')\n",
    "lyric = lyric1.replace('  ', ' ')\n",
    "lyric"
   ]
  },
  {
   "cell_type": "markdown",
   "metadata": {},
   "source": []
  },
  {
   "cell_type": "code",
   "execution_count": 165,
   "metadata": {},
   "outputs": [
    {
     "data": {
      "text/plain": [
       "<div class=\"lyric\" id=\"d_video_summary\"><!-- height:auto; 로 변경시, 확장됨 -->\n",
       "\t\t\t\t\t\t\t잘 지냈지? 조금은 어색해 요즘 좋아 보여 인사 나누며<br/>사실 궁금한 게 너무 많았는데 반가움에 멍해졌죠 <br/><br/>생각보다 오래 된 것 같은 우리 수다스럽던 그때가 생각나<br/>뭐가 그렇게도 할 말이 많아서 밤을 지새우곤 했죠 <br/><br/>그리운 목소리 그리던 얼굴 참 많이도 기다렸어<br/><br/>다시 만나자는 너의 한마디에 울컥 눈물이 나<br/>결국 너였단 걸 <br/><br/>알아<br/>기다림의 끝은 기적이 되고 기적 같은 우린 운명처럼 <br/><br/>서로를 알아보고 그렇게 눈앞에 서있죠 <br/><br/>우리 사랑했던 우리 다시 만나 그때 그 순간 그대로<br/>사랑했고 사랑할 거니까 <br/><br/>같이 듣던 노래 그때 그 거리를 이제 혼자 아닌 너와 둘이 걸어<br/><br/>다시 오른쪽에 나란히 발맞춰 같은 노래를 부르죠 <br/><br/>그리운 만남을 그리던 날들 참 많이도 기다렸어<br/><br/>다시 너를 만나 더욱 더 소중해 같은 마음이란 걸<br/><br/>알아 <br/>기다림의 끝은 기적이 되고 기적 같은 우린 운명처럼 <br/><br/>서로를 알아보고 그렇게 눈앞에 서있죠<br/><br/>우리 사랑했던 우리 다시 만나 그때 그 순간 그대로<br/><br/>사랑했고 사랑할 거니까<br/><br/>처음 느낌 그대로 설렘이 가득한 날<br/><br/>고마워 다시 돌아와줘서<br/><br/>그때 그 순간처럼 날<br/><br/>안아줘<br/><br/>결국 기다림의 끝은 기적이 되고 기적 같은 우린 운명처럼 <br/><br/>서로를 알아보고 그렇게 눈앞에 서있죠 <br/><br/>우리 사랑했던 우리 다시 만나 그때 그 순간 그대로<br/><br/>사랑했고 사랑할 거니까\n",
       "\t\t\t\t\t</div>"
      ]
     },
     "execution_count": 165,
     "metadata": {},
     "output_type": "execute_result"
    }
   ],
   "source": [
    "lyric = soup.select_one('#d_video_summary')\n",
    "lyric"
   ]
  },
  {
   "cell_type": "code",
   "execution_count": 1,
   "metadata": {},
   "outputs": [],
   "source": [
    "from pandas import read_csv\n",
    "\n",
    "\n",
    "melon_top500 = read_csv(\"../Data/melon_top500.csv\")"
   ]
  },
  {
   "cell_type": "code",
   "execution_count": 2,
   "metadata": {},
   "outputs": [
    {
     "data": {
      "text/plain": [
       "<bound method NDFrame.describe of               가수명               노래제목         발매일  \\\n",
       "0    WSG워너비 (가야G)  그때 그 순간 그대로 (그그그)  2022-07-09   \n",
       "1              경서             나의 X에게  2022-04-24   \n",
       "2            멜로망스             사랑인가 봐  2022-02-18   \n",
       "3              주호            내가 아니라도  2022-03-25   \n",
       "4             임영웅          사랑은 늘 도망가  2021-10-11   \n",
       "..            ...                ...         ...   \n",
       "495           양다일             소주 한 잔  2022-03-20   \n",
       "496            씨야             사랑의 인사  2007-05-25   \n",
       "497           다비치           괜찮아 사랑이야  2014-07-30   \n",
       "498           이승철                말리꽃  2005-12-20   \n",
       "499           권진아       오늘 뭐 했는지 말해봐  2019-02-28   \n",
       "\n",
       "                                                    가사    좋아요수   순위  \n",
       "0    잘 지냈지? 조금은 어색해 요즘 좋아 보여 인사 나누며 사실 궁금한 게 너무 많았는...   79774    1  \n",
       "1    우리 다시 만날래 예쁘게 빛나던 모든 추억들이 너무 그리워 너의 품에 안길래 이 밤...  101199    2  \n",
       "2    너와 함께 하고 싶은 일들을 상상하는 게 요즘 내 일상이 되고 너의 즐거워하는 모습...  146814    3  \n",
       "3    사랑이었다 별거 없던 내 하루에 빛이 돼준 단한 사람 나보다 나를 더 아껴 주던 너...   50533    4  \n",
       "4    눈물이 난다 이 길을 걸으면 그 사람 손길이 자꾸 생각이 난다 붙잡지 못하고 가슴만...  169216    5  \n",
       "..                                                 ...     ...  ...  \n",
       "495  술이 한 잔 생각나는 밤 같이 있는 것 같아요 그 좋았던 시절들 이젠 모두 한숨만 ...    6772  496  \n",
       "496  비내리는 거릴 좋아 했었죠 우산없이 나와 함께 걸었죠 다시 내리는 비에 그대 생각나...   19335  497  \n",
       "497  내 맘이 보이니 왜 사랑인거니 다시는 하지 말자던 사랑 참 많이 바보 같지 왜 행복...   77496  498  \n",
       "498  얼마나 더 견뎌야 하는지 짙은 어둠을 헤매고 있어 내가바란 꿈이라는 것은 없는걸까 ...   57643  499  \n",
       "499  네가 없는 밤이 너 없이 혼자서 보내는 주말이 이젠 더 편해졌는데 친구를 만나고 새...   52050  500  \n",
       "\n",
       "[500 rows x 6 columns]>"
      ]
     },
     "execution_count": 2,
     "metadata": {},
     "output_type": "execute_result"
    }
   ],
   "source": [
    "melon_top500.describe"
   ]
  },
  {
   "cell_type": "code",
   "execution_count": 7,
   "metadata": {},
   "outputs": [
    {
     "data": {
      "text/plain": [
       "가수명     0\n",
       "노래제목    0\n",
       "발매일     0\n",
       "가사      0\n",
       "좋아요수    0\n",
       "순위      0\n",
       "dtype: int64"
      ]
     },
     "execution_count": 7,
     "metadata": {},
     "output_type": "execute_result"
    }
   ],
   "source": [
    "melon_top500.isnull().sum()"
   ]
  },
  {
   "cell_type": "code",
   "execution_count": 10,
   "metadata": {},
   "outputs": [
    {
     "name": "stdout",
     "output_type": "stream",
     "text": [
      "<class 'pandas.core.frame.DataFrame'>\n",
      "RangeIndex: 500 entries, 0 to 499\n",
      "Data columns (total 6 columns):\n",
      " #   Column  Non-Null Count  Dtype \n",
      "---  ------  --------------  ----- \n",
      " 0   가수명     500 non-null    object\n",
      " 1   노래제목    500 non-null    object\n",
      " 2   발매일     500 non-null    object\n",
      " 3   가사      500 non-null    object\n",
      " 4   좋아요수    500 non-null    int64 \n",
      " 5   순위      500 non-null    int64 \n",
      "dtypes: int64(2), object(4)\n",
      "memory usage: 23.6+ KB\n"
     ]
    }
   ],
   "source": [
    "melon_top500.info()"
   ]
  },
  {
   "cell_type": "code",
   "execution_count": null,
   "metadata": {},
   "outputs": [],
   "source": []
  },
  {
   "cell_type": "code",
   "execution_count": null,
   "metadata": {},
   "outputs": [],
   "source": []
  }
 ],
 "metadata": {
  "kernelspec": {
   "display_name": "Python 3.9.13 ('tensorflow')",
   "language": "python",
   "name": "python3"
  },
  "language_info": {
   "codemirror_mode": {
    "name": "ipython",
    "version": 3
   },
   "file_extension": ".py",
   "mimetype": "text/x-python",
   "name": "python",
   "nbconvert_exporter": "python",
   "pygments_lexer": "ipython3",
   "version": "3.9.13"
  },
  "orig_nbformat": 4,
  "vscode": {
   "interpreter": {
    "hash": "00c8100a7997e958d8100731b108691612e131425235a19f9419f6b3b0ff44b3"
   }
  }
 },
 "nbformat": 4,
 "nbformat_minor": 2
}
