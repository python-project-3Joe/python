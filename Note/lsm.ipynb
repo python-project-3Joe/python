{
 "cells": [
  {
   "cell_type": "markdown",
   "metadata": {},
   "source": [
    "# 이승민의 멜론 크롤링\n",
    "---"
   ]
  },
  {
   "cell_type": "code",
   "execution_count": 2,
   "metadata": {},
   "outputs": [],
   "source": [
    "from selenium import webdriver\n",
    "from selenium.webdriver.chrome.service import Service\n",
    "from webdriver_manager.chrome import ChromeDriverManager\n",
    "from selenium.webdriver.common.by import By\n",
    "\n",
    "from bs4 import BeautifulSoup\n",
    "import urllib.request as request"
   ]
  },
  {
   "cell_type": "code",
   "execution_count": 3,
   "metadata": {},
   "outputs": [
    {
     "name": "stdout",
     "output_type": "stream",
     "text": [
      "\n"
     ]
    },
    {
     "name": "stderr",
     "output_type": "stream",
     "text": [
      "[WDM] - ====== WebDriver manager ======\n",
      "[WDM] - Current google-chrome version is 103.0.5060\n",
      "[WDM] - Get LATEST chromedriver version for 103.0.5060 google-chrome\n",
      "[WDM] - Driver [/Users/tj/.wdm/drivers/chromedriver/mac64/103.0.5060.134/chromedriver] found in cache\n"
     ]
    }
   ],
   "source": [
    "# https://www.melon.com/song/detail.htm?songId=35383397\n",
    "\n",
    "chrome_options = webdriver.ChromeOptions()\n",
    "driver = webdriver.Chrome(service=Service(ChromeDriverManager().install()), options=chrome_options)\n",
    "driver.get('https://www.melon.com/song/detail.htm?songId=35383397')"
   ]
  },
  {
   "cell_type": "code",
   "execution_count": 4,
   "metadata": {},
   "outputs": [],
   "source": [
    "page_source = driver.page_source\n",
    "soup = BeautifulSoup(page_source, \"html.parser\")"
   ]
  },
  {
   "cell_type": "code",
   "execution_count": 7,
   "metadata": {},
   "outputs": [
    {
     "name": "stdout",
     "output_type": "stream",
     "text": [
      "[<div class=\"song_name\">\n",
      "<strong class=\"none\">곡명</strong>\n",
      "\t\t\t\t\t\t\t\n",
      "\t\t\t\t\t\t\t\n",
      "\t\t\t\t\t\t\t\n",
      "\t\t\t\t\t\t\t\n",
      "\t\t\t\t\t\t\t그때 그 순간 그대로 (그그그)\n",
      "\t\t\t\t\t\t</div>]\n",
      "[<span>WSG워너비 (가야G)</span>]\n",
      "[<dd>2022.07.09</dd>]\n",
      "[<div class=\"lyric\" id=\"d_video_summary\"><!-- height:auto; 로 변경시, 확장됨 -->\n",
      "\t\t\t\t\t\t\t잘 지냈지? 조금은 어색해 요즘 좋아 보여 인사 나누며<br/>사실 궁금한 게 너무 많았는데 반가움에 멍해졌죠 <br/><br/>생각보다 오래 된 것 같은 우리 수다스럽던 그때가 생각나<br/>뭐가 그렇게도 할 말이 많아서 밤을 지새우곤 했죠 <br/><br/>그리운 목소리 그리던 얼굴 참 많이도 기다렸어<br/><br/>다시 만나자는 너의 한마디에 울컥 눈물이 나<br/>결국 너였단 걸 <br/><br/>알아<br/>기다림의 끝은 기적이 되고 기적 같은 우린 운명처럼 <br/><br/>서로를 알아보고 그렇게 눈앞에 서있죠 <br/><br/>우리 사랑했던 우리 다시 만나 그때 그 순간 그대로<br/>사랑했고 사랑할 거니까 <br/><br/>같이 듣던 노래 그때 그 거리를 이제 혼자 아닌 너와 둘이 걸어<br/><br/>다시 오른쪽에 나란히 발맞춰 같은 노래를 부르죠 <br/><br/>그리운 만남을 그리던 날들 참 많이도 기다렸어<br/><br/>다시 너를 만나 더욱 더 소중해 같은 마음이란 걸<br/><br/>알아 <br/>기다림의 끝은 기적이 되고 기적 같은 우린 운명처럼 <br/><br/>서로를 알아보고 그렇게 눈앞에 서있죠<br/><br/>우리 사랑했던 우리 다시 만나 그때 그 순간 그대로<br/><br/>사랑했고 사랑할 거니까<br/><br/>처음 느낌 그대로 설렘이 가득한 날<br/><br/>고마워 다시 돌아와줘서<br/><br/>그때 그 순간처럼 날<br/><br/>안아줘<br/><br/>결국 기다림의 끝은 기적이 되고 기적 같은 우린 운명처럼 <br/><br/>서로를 알아보고 그렇게 눈앞에 서있죠 <br/><br/>우리 사랑했던 우리 다시 만나 그때 그 순간 그대로<br/><br/>사랑했고 사랑할 거니까\n",
      "\t\t\t\t\t</div>]\n",
      "[<span class=\"cnt\" id=\"d_like_count\">78,219</span>]\n"
     ]
    }
   ],
   "source": [
    "# 노래제목 가져오기\n",
    "song_name = soup.select_one(\"#downloadfrm > div > div > div.entry > div.info > div.song_name \").text\n",
    "print(\"노래제목 :\",song_name)\n",
    "# 가수명 가져오기\n",
    "artist_name = soup.select_one('#downloadfrm > div > div > div.entry > div.info > div.artist > a > span:nth-child(1) ').string\n",
    "print(\"가수명 :\",artist_name)\n",
    "# 발매일 가져오기\n",
    "date = soup.select_one('#downloadfrm > div > div > div.entry > div.meta > dl > dd:nth-child(4)').string\n",
    "print(\"발매일 :\",date)\n",
    "# 가사 가져오기\n",
    "lyric = soup.select_one('#d_video_summary').text\n",
    "print(\"가사 :\",lyric)\n",
    "# 좋아요수 가져오기\n",
    "like = soup.select_one(\"#d_like_count\").text\n",
    "print(\"좋아요 수 :\", like)"
   ]
  },
  {
   "cell_type": "code",
   "execution_count": null,
   "metadata": {},
   "outputs": [],
   "source": []
  }
 ],
 "metadata": {
  "kernelspec": {
   "display_name": "Python 3.8.9 64-bit",
   "language": "python",
   "name": "python3"
  },
  "language_info": {
   "codemirror_mode": {
    "name": "ipython",
    "version": 3
   },
   "file_extension": ".py",
   "mimetype": "text/x-python",
   "name": "python",
   "nbconvert_exporter": "python",
   "pygments_lexer": "ipython3",
   "version": "3.8.9"
  },
  "orig_nbformat": 4,
  "vscode": {
   "interpreter": {
    "hash": "31f2aee4e71d21fbe5cf8b01ff0e069b9275f58929596ceb00d14d90e3e16cd6"
   }
  }
 },
 "nbformat": 4,
 "nbformat_minor": 2
}
