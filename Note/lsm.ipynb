{
 "cells": [
  {
   "cell_type": "markdown",
   "metadata": {},
   "source": [
    "# 이승민의 멜론 크롤링\n",
    "---"
   ]
  },
  {
   "cell_type": "code",
   "execution_count": 8,
   "metadata": {},
   "outputs": [],
   "source": [
    "from selenium import webdriver\n",
    "from selenium.webdriver.chrome.service import Service\n",
    "from webdriver_manager.chrome import ChromeDriverManager\n",
    "from selenium.webdriver.common.by import By\n",
    "\n",
    "from bs4 import BeautifulSoup\n",
    "import urllib.request as request"
   ]
  },
  {
   "cell_type": "code",
   "execution_count": 36,
   "metadata": {},
   "outputs": [
    {
     "name": "stdout",
     "output_type": "stream",
     "text": [
      "\n"
     ]
    },
    {
     "name": "stderr",
     "output_type": "stream",
     "text": [
      "[WDM] - ====== WebDriver manager ======\n",
      "[WDM] - Current google-chrome version is 103.0.5060\n",
      "[WDM] - Get LATEST chromedriver version for 103.0.5060 google-chrome\n",
      "[WDM] - Driver [/Users/tj/.wdm/drivers/chromedriver/mac64/103.0.5060.134/chromedriver] found in cache\n"
     ]
    }
   ],
   "source": [
    "# https://www.melon.com/song/detail.htm?songId=35383397\n",
    "\n",
    "chrome_options = webdriver.ChromeOptions()\n",
    "driver = webdriver.Chrome(service=Service(ChromeDriverManager().install()), options=chrome_options)\n",
    "driver.get('https://www.melon.com/song/detail.htm?songId=34701996')"
   ]
  },
  {
   "cell_type": "code",
   "execution_count": 37,
   "metadata": {},
   "outputs": [],
   "source": [
    "page_source = driver.page_source\n",
    "soup = BeautifulSoup(page_source, \"html.parser\")"
   ]
  },
  {
   "cell_type": "code",
   "execution_count": 43,
   "metadata": {},
   "outputs": [
    {
     "name": "stdout",
     "output_type": "stream",
     "text": [
      "어제처럼\n"
     ]
    }
   ],
   "source": [
    "# 노래제목 가져오기\n",
    "song_name = soup.select_one(\"#downloadfrm > div > div > div.entry > div.info > div.song_name \").text\n",
    "print(song_name.strip().split('\\n\\t\\t\\t\\t\\t\\t\\t\\n\\t\\t\\t\\t\\t\\t\\t\\n\\t\\t\\t\\t\\t\\t\\t\\n\\t\\t\\t\\t\\t\\t\\t\\n\\t\\t\\t\\t\\t\\t\\t')[1])\n"
   ]
  },
  {
   "cell_type": "code",
   "execution_count": 48,
   "metadata": {},
   "outputs": [
    {
     "name": "stdout",
     "output_type": "stream",
     "text": [
      "폴킴\n"
     ]
    }
   ],
   "source": [
    "# 가수명 가져오기\n",
    "artist_name = soup.select_one('#downloadfrm > div > div > div.entry > div.info > div.artist > a > span:nth-child(1) ')\n",
    "print(artist_name.string)\n"
   ]
  },
  {
   "cell_type": "code",
   "execution_count": 45,
   "metadata": {},
   "outputs": [
    {
     "name": "stdout",
     "output_type": "stream",
     "text": [
      "2022.02.27\n"
     ]
    }
   ],
   "source": [
    "# 발매일 가져오기\n",
    "date = soup.select_one('#downloadfrm > div > div > div.entry > div.meta > dl > dd:nth-child(4)').string\n",
    "print(date)\n"
   ]
  },
  {
   "cell_type": "code",
   "execution_count": 50,
   "metadata": {},
   "outputs": [
    {
     "name": "stdout",
     "output_type": "stream",
     "text": [
      "<div class=\"lyric\" id=\"d_video_summary\"><!-- height:auto; 로 변경시, 확장됨 -->\n",
      "\t\t\t\t\t\t\tTrust the warmth inside<br/>Can you feel my love alive<br/>어제처럼<br/>오늘도 아무 일 없는 듯이<br/>그리고<br/>Please don't tell me why<br/>이렇게 돌아서지만<br/>나를 떠나가는 이유를<br/>난 묻진 않을게요<br/>내게 이런 말 하기가<br/>쉽진 않았을 거야<br/>생각해 봤어<br/>얼마나 어려웠을지<br/>다만<br/>슬픈 내 눈물에<br/>돌아설 수 없어<br/>멈출 사랑으로<br/>안을까 봐<br/>난 너무나 두려울 뿐이죠<br/>So baby<br/>Trust the warmth inside<br/>Can you feel my love alive<br/>어제처럼<br/>오늘도 아무 일 없는 듯이<br/>그리고<br/>Please don't tell me why<br/>이렇게 돌아서지만<br/>나를 떠나가는 이유를<br/>난 묻진 않을게요<br/>네겐 너무나 부족한<br/>나를 알고 있기에<br/>다짐해 왔어<br/>언젠가 이별이 오면<br/>그땐<br/>떠난 내 마음이<br/>미안하지 않게<br/>좋은 추억으로<br/>간직하게<br/>널 웃으며 보내준다고<br/>Faith is all we need<br/>It was love that set us free<br/>처음처럼<br/>이별은 아무런 얘기 없이<br/>하지만<br/>Love forever lives<br/>다시는 볼 수 없어도<br/>나의 가슴속엔 언제나<br/>그대 영원하겠죠<br/>언젠가 내 모습 또다시<br/>처음처럼 그립다면<br/>그냥 돌아오면 돼<br/>Don't you know I love you<br/>Faith is all we need<br/>It was love that set us free<br/>처음처럼<br/>이별은 아무런 얘기 없이<br/>하지만<br/>Love forever lives<br/>다시는 볼 수 없어도<br/>나의 가슴속엔 언제나<br/>그대 영원하겠죠<br/>\n",
      "</div>\n"
     ]
    }
   ],
   "source": [
    "# 가사 가져오기\n",
    "lyric = soup.select_one('#d_video_summary')\n",
    "print(lyric)\n"
   ]
  },
  {
   "cell_type": "code",
   "execution_count": 47,
   "metadata": {},
   "outputs": [
    {
     "name": "stdout",
     "output_type": "stream",
     "text": [
      "39,455\n"
     ]
    }
   ],
   "source": [
    "# 좋아요수 가져오기\n",
    "like = soup.select_one(\"#d_like_count\").text\n",
    "print(like)"
   ]
  },
  {
   "cell_type": "code",
   "execution_count": null,
   "metadata": {},
   "outputs": [],
   "source": []
  },
  {
   "cell_type": "code",
   "execution_count": null,
   "metadata": {},
   "outputs": [],
   "source": []
  },
  {
   "cell_type": "code",
   "execution_count": null,
   "metadata": {},
   "outputs": [],
   "source": []
  }
 ],
 "metadata": {
  "kernelspec": {
   "display_name": "Python 3.9.13 ('tensorflow')",
   "language": "python",
   "name": "python3"
  },
  "language_info": {
   "codemirror_mode": {
    "name": "ipython",
    "version": 3
   },
   "file_extension": ".py",
   "mimetype": "text/x-python",
   "name": "python",
   "nbconvert_exporter": "python",
   "pygments_lexer": "ipython3",
   "version": "3.9.13"
  },
  "orig_nbformat": 4,
  "vscode": {
   "interpreter": {
    "hash": "00c8100a7997e958d8100731b108691612e131425235a19f9419f6b3b0ff44b3"
   }
  }
 },
 "nbformat": 4,
 "nbformat_minor": 2
}
