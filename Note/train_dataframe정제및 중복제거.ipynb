{
 "cells": [
  {
   "cell_type": "code",
   "execution_count": 2,
   "metadata": {},
   "outputs": [],
   "source": [
    "import pandas as pd\n",
    "import numpy as np"
   ]
  },
  {
   "cell_type": "markdown",
   "metadata": {},
   "source": [
    "# 행복 train_data '감정'컬럼추가"
   ]
  },
  {
   "cell_type": "code",
   "execution_count": 4,
   "metadata": {},
   "outputs": [
    {
     "name": "stdout",
     "output_type": "stream",
     "text": [
      "<class 'pandas.core.frame.DataFrame'>\n",
      "RangeIndex: 20 entries, 0 to 19\n",
      "Data columns (total 5 columns):\n",
      " #   Column  Non-Null Count  Dtype \n",
      "---  ------  --------------  ----- \n",
      " 0   가수명     20 non-null     object\n",
      " 1   노래제목    20 non-null     object\n",
      " 2   발매일     20 non-null     object\n",
      " 3   가사      20 non-null     object\n",
      " 4   좋아요수    20 non-null     int64 \n",
      "dtypes: int64(1), object(4)\n",
      "memory usage: 928.0+ bytes\n"
     ]
    }
   ],
   "source": [
    "happy = pd.read_csv(\"../Data/ballad_happy20.csv\")\n",
    "happy.info()"
   ]
  },
  {
   "cell_type": "code",
   "execution_count": 5,
   "metadata": {},
   "outputs": [
    {
     "data": {
      "text/html": [
       "<div>\n",
       "<style scoped>\n",
       "    .dataframe tbody tr th:only-of-type {\n",
       "        vertical-align: middle;\n",
       "    }\n",
       "\n",
       "    .dataframe tbody tr th {\n",
       "        vertical-align: top;\n",
       "    }\n",
       "\n",
       "    .dataframe thead th {\n",
       "        text-align: right;\n",
       "    }\n",
       "</style>\n",
       "<table border=\"1\" class=\"dataframe\">\n",
       "  <thead>\n",
       "    <tr style=\"text-align: right;\">\n",
       "      <th></th>\n",
       "      <th>가수명</th>\n",
       "      <th>노래제목</th>\n",
       "      <th>발매일</th>\n",
       "      <th>가사</th>\n",
       "      <th>좋아요수</th>\n",
       "      <th>감정</th>\n",
       "    </tr>\n",
       "  </thead>\n",
       "  <tbody>\n",
       "    <tr>\n",
       "      <th>0</th>\n",
       "      <td>양다일</td>\n",
       "      <td>Darling</td>\n",
       "      <td>2020-11-23</td>\n",
       "      <td>Oh darling 처음 널 만나면 수줍은 대화들로 사랑에 빠질 거야 My darl...</td>\n",
       "      <td>10907</td>\n",
       "      <td>happy</td>\n",
       "    </tr>\n",
       "    <tr>\n",
       "      <th>1</th>\n",
       "      <td>장범준</td>\n",
       "      <td>잠이 오질 않네요</td>\n",
       "      <td>2020-10-24</td>\n",
       "      <td>당신은 날 설레게 만들어 조용한 내 마음 자꾸만 춤추게 해 얼마나 얼마나 날 떨리게...</td>\n",
       "      <td>159018</td>\n",
       "      <td>happy</td>\n",
       "    </tr>\n",
       "    <tr>\n",
       "      <th>2</th>\n",
       "      <td>백아연</td>\n",
       "      <td>어디라도</td>\n",
       "      <td>2020-11-18</td>\n",
       "      <td>우연의 다른 이름은 운명이란 걸 배웠죠 우리 사랑의 끝이 없는 걸 이제서야 알았죠 ...</td>\n",
       "      <td>1622</td>\n",
       "      <td>happy</td>\n",
       "    </tr>\n",
       "    <tr>\n",
       "      <th>3</th>\n",
       "      <td>김제훈</td>\n",
       "      <td>Love Again</td>\n",
       "      <td>2017-02-06</td>\n",
       "      <td>언제부터였을까 따뜻한 휴식을 찾고 있을 때 찾고 있을 때 그때부터였을까 맘이 포근해...</td>\n",
       "      <td>980</td>\n",
       "      <td>happy</td>\n",
       "    </tr>\n",
       "    <tr>\n",
       "      <th>4</th>\n",
       "      <td>김제훈</td>\n",
       "      <td>잠잠</td>\n",
       "      <td>2020-03-17</td>\n",
       "      <td>오랜만에 거길 가봤어 아무도 없는 둘만이 알던 곳 함께 걷던 거리에 서서 아무 말도...</td>\n",
       "      <td>548</td>\n",
       "      <td>happy</td>\n",
       "    </tr>\n",
       "  </tbody>\n",
       "</table>\n",
       "</div>"
      ],
      "text/plain": [
       "   가수명        노래제목         발매일  \\\n",
       "0  양다일     Darling  2020-11-23   \n",
       "1  장범준   잠이 오질 않네요  2020-10-24   \n",
       "2  백아연        어디라도  2020-11-18   \n",
       "3  김제훈  Love Again  2017-02-06   \n",
       "4  김제훈          잠잠  2020-03-17   \n",
       "\n",
       "                                                  가사    좋아요수     감정  \n",
       "0  Oh darling 처음 널 만나면 수줍은 대화들로 사랑에 빠질 거야 My darl...   10907  happy  \n",
       "1  당신은 날 설레게 만들어 조용한 내 마음 자꾸만 춤추게 해 얼마나 얼마나 날 떨리게...  159018  happy  \n",
       "2  우연의 다른 이름은 운명이란 걸 배웠죠 우리 사랑의 끝이 없는 걸 이제서야 알았죠 ...    1622  happy  \n",
       "3  언제부터였을까 따뜻한 휴식을 찾고 있을 때 찾고 있을 때 그때부터였을까 맘이 포근해...     980  happy  \n",
       "4  오랜만에 거길 가봤어 아무도 없는 둘만이 알던 곳 함께 걷던 거리에 서서 아무 말도...     548  happy  "
      ]
     },
     "execution_count": 5,
     "metadata": {},
     "output_type": "execute_result"
    }
   ],
   "source": [
    "happy['감정'] = 'happy'\n",
    "happy.head()"
   ]
  },
  {
   "cell_type": "markdown",
   "metadata": {},
   "source": [
    "# 슬픔 train_data '감정'컬럼추가"
   ]
  },
  {
   "cell_type": "code",
   "execution_count": 6,
   "metadata": {},
   "outputs": [
    {
     "name": "stdout",
     "output_type": "stream",
     "text": [
      "<class 'pandas.core.frame.DataFrame'>\n",
      "RangeIndex: 20 entries, 0 to 19\n",
      "Data columns (total 5 columns):\n",
      " #   Column  Non-Null Count  Dtype \n",
      "---  ------  --------------  ----- \n",
      " 0   가수명     20 non-null     object\n",
      " 1   노래제목    20 non-null     object\n",
      " 2   발매일     20 non-null     object\n",
      " 3   가사      20 non-null     object\n",
      " 4   좋아요수    20 non-null     int64 \n",
      "dtypes: int64(1), object(4)\n",
      "memory usage: 928.0+ bytes\n"
     ]
    }
   ],
   "source": [
    "sad = pd.read_csv(\"../Data/ballad_sad20.csv\")\n",
    "sad.info()"
   ]
  },
  {
   "cell_type": "code",
   "execution_count": 7,
   "metadata": {},
   "outputs": [
    {
     "data": {
      "text/html": [
       "<div>\n",
       "<style scoped>\n",
       "    .dataframe tbody tr th:only-of-type {\n",
       "        vertical-align: middle;\n",
       "    }\n",
       "\n",
       "    .dataframe tbody tr th {\n",
       "        vertical-align: top;\n",
       "    }\n",
       "\n",
       "    .dataframe thead th {\n",
       "        text-align: right;\n",
       "    }\n",
       "</style>\n",
       "<table border=\"1\" class=\"dataframe\">\n",
       "  <thead>\n",
       "    <tr style=\"text-align: right;\">\n",
       "      <th></th>\n",
       "      <th>가수명</th>\n",
       "      <th>노래제목</th>\n",
       "      <th>발매일</th>\n",
       "      <th>가사</th>\n",
       "      <th>좋아요수</th>\n",
       "      <th>감정</th>\n",
       "    </tr>\n",
       "  </thead>\n",
       "  <tbody>\n",
       "    <tr>\n",
       "      <th>0</th>\n",
       "      <td>정효빈</td>\n",
       "      <td>처음이라서</td>\n",
       "      <td>2019-04-16</td>\n",
       "      <td>떨어질 줄 몰랐던 너의 품도 잡은 손에 스치던 봄바람도 떨리던 입맞춤도 맞춰 걷던 ...</td>\n",
       "      <td>58777</td>\n",
       "      <td>sad</td>\n",
       "    </tr>\n",
       "    <tr>\n",
       "      <th>1</th>\n",
       "      <td>포맨 (4MEN)</td>\n",
       "      <td>눈 떠보니 이별이더라</td>\n",
       "      <td>2017-10-24</td>\n",
       "      <td>분명 나는 꿈을 꾼 거다 눈 떠보니 이별이더라 휴대폰을 확인해 봤더니 다시 봐도 이...</td>\n",
       "      <td>115695</td>\n",
       "      <td>sad</td>\n",
       "    </tr>\n",
       "    <tr>\n",
       "      <th>2</th>\n",
       "      <td>이우</td>\n",
       "      <td>내 안부</td>\n",
       "      <td>2019-07-16</td>\n",
       "      <td>내 소식 들었지 너와 헤어지고 참 많이 울고 힘들게 버티다 이해심이 많은 좋은 사람...</td>\n",
       "      <td>64527</td>\n",
       "      <td>sad</td>\n",
       "    </tr>\n",
       "    <tr>\n",
       "      <th>3</th>\n",
       "      <td>윤토벤</td>\n",
       "      <td>서툰 이별을 하려해 (Feat.전상근)</td>\n",
       "      <td>2019-08-01</td>\n",
       "      <td>우리 이제 헤어지기로해 너도 알잖아 우린 충분했다는걸 이별이 무서워 자꾸 피해보지만...</td>\n",
       "      <td>81248</td>\n",
       "      <td>sad</td>\n",
       "    </tr>\n",
       "    <tr>\n",
       "      <th>4</th>\n",
       "      <td>사이로(415)</td>\n",
       "      <td>우리 둘 사이로</td>\n",
       "      <td>2019-08-29</td>\n",
       "      <td>Forget me close your eyes Forget me close your...</td>\n",
       "      <td>5998</td>\n",
       "      <td>sad</td>\n",
       "    </tr>\n",
       "  </tbody>\n",
       "</table>\n",
       "</div>"
      ],
      "text/plain": [
       "         가수명                   노래제목         발매일  \\\n",
       "0        정효빈                  처음이라서  2019-04-16   \n",
       "1  포맨 (4MEN)            눈 떠보니 이별이더라  2017-10-24   \n",
       "2         이우                   내 안부  2019-07-16   \n",
       "3        윤토벤  서툰 이별을 하려해 (Feat.전상근)  2019-08-01   \n",
       "4   사이로(415)               우리 둘 사이로  2019-08-29   \n",
       "\n",
       "                                                  가사    좋아요수   감정  \n",
       "0  떨어질 줄 몰랐던 너의 품도 잡은 손에 스치던 봄바람도 떨리던 입맞춤도 맞춰 걷던 ...   58777  sad  \n",
       "1  분명 나는 꿈을 꾼 거다 눈 떠보니 이별이더라 휴대폰을 확인해 봤더니 다시 봐도 이...  115695  sad  \n",
       "2  내 소식 들었지 너와 헤어지고 참 많이 울고 힘들게 버티다 이해심이 많은 좋은 사람...   64527  sad  \n",
       "3  우리 이제 헤어지기로해 너도 알잖아 우린 충분했다는걸 이별이 무서워 자꾸 피해보지만...   81248  sad  \n",
       "4  Forget me close your eyes Forget me close your...    5998  sad  "
      ]
     },
     "execution_count": 7,
     "metadata": {},
     "output_type": "execute_result"
    }
   ],
   "source": [
    "sad['감정'] = 'sad'\n",
    "sad.head()"
   ]
  },
  {
   "cell_type": "markdown",
   "metadata": {},
   "source": [
    "# 무관심 train_data '감정'컬럼추가"
   ]
  },
  {
   "cell_type": "code",
   "execution_count": 32,
   "metadata": {},
   "outputs": [
    {
     "name": "stdout",
     "output_type": "stream",
     "text": [
      "<class 'pandas.core.frame.DataFrame'>\n",
      "RangeIndex: 20 entries, 0 to 19\n",
      "Data columns (total 5 columns):\n",
      " #   Column  Non-Null Count  Dtype \n",
      "---  ------  --------------  ----- \n",
      " 0   가수명     20 non-null     object\n",
      " 1   노래제목    20 non-null     object\n",
      " 2   발매일     20 non-null     object\n",
      " 3   가사      20 non-null     object\n",
      " 4   좋아요수    20 non-null     int64 \n",
      "dtypes: int64(1), object(4)\n",
      "memory usage: 928.0+ bytes\n"
     ]
    }
   ],
   "source": [
    "indif = pd.read_csv(\"../Data/ballad_indifference20.csv\")\n",
    "indif.info()"
   ]
  },
  {
   "cell_type": "code",
   "execution_count": 33,
   "metadata": {},
   "outputs": [
    {
     "data": {
      "text/html": [
       "<div>\n",
       "<style scoped>\n",
       "    .dataframe tbody tr th:only-of-type {\n",
       "        vertical-align: middle;\n",
       "    }\n",
       "\n",
       "    .dataframe tbody tr th {\n",
       "        vertical-align: top;\n",
       "    }\n",
       "\n",
       "    .dataframe thead th {\n",
       "        text-align: right;\n",
       "    }\n",
       "</style>\n",
       "<table border=\"1\" class=\"dataframe\">\n",
       "  <thead>\n",
       "    <tr style=\"text-align: right;\">\n",
       "      <th></th>\n",
       "      <th>가수명</th>\n",
       "      <th>노래제목</th>\n",
       "      <th>발매일</th>\n",
       "      <th>가사</th>\n",
       "      <th>좋아요수</th>\n",
       "      <th>감정</th>\n",
       "    </tr>\n",
       "  </thead>\n",
       "  <tbody>\n",
       "    <tr>\n",
       "      <th>0</th>\n",
       "      <td>백예린 (Yerin Baek)</td>\n",
       "      <td>그럴때마다</td>\n",
       "      <td>2021-09-10</td>\n",
       "      <td>반복된 하루 사는 일에 지칠 때면 내게 말해요 항상 그대의 지쳐있는 마음에 조그만 ...</td>\n",
       "      <td>33255</td>\n",
       "      <td>indifference</td>\n",
       "    </tr>\n",
       "    <tr>\n",
       "      <th>1</th>\n",
       "      <td>Collective Arts (콜렉티브아츠)</td>\n",
       "      <td>나의 그늘</td>\n",
       "      <td>2017-07-27</td>\n",
       "      <td>나의 그늘이 좋다고 하는 너에게 무슨 말을 해야 좋을까 이 순간에도 가난한 나의 마...</td>\n",
       "      <td>4344</td>\n",
       "      <td>indifference</td>\n",
       "    </tr>\n",
       "    <tr>\n",
       "      <th>2</th>\n",
       "      <td>Sondia</td>\n",
       "      <td>Moonlight</td>\n",
       "      <td>2019-12-31</td>\n",
       "      <td>Moonlight 나를 감싸안아 데려다줘 그럼 너의 온기를 간직하겠어 내가 어디에 ...</td>\n",
       "      <td>4461</td>\n",
       "      <td>indifference</td>\n",
       "    </tr>\n",
       "    <tr>\n",
       "      <th>3</th>\n",
       "      <td>윤현상</td>\n",
       "      <td>잊는다는 게</td>\n",
       "      <td>2015-03-13</td>\n",
       "      <td>잊는다는 게 참 그래요 사랑하다가 이별하게 되면 그때서야 못해줬던 게 생각이 나요 ...</td>\n",
       "      <td>29999</td>\n",
       "      <td>indifference</td>\n",
       "    </tr>\n",
       "    <tr>\n",
       "      <th>4</th>\n",
       "      <td>윤종신</td>\n",
       "      <td>말꼬리</td>\n",
       "      <td>2011-05-31</td>\n",
       "      <td>비는 오고 너는 가려 하고 내 마음 눅눅하게 잠기고 낡은 흑백영화 한 장면처럼 내 ...</td>\n",
       "      <td>46043</td>\n",
       "      <td>indifference</td>\n",
       "    </tr>\n",
       "  </tbody>\n",
       "</table>\n",
       "</div>"
      ],
      "text/plain": [
       "                        가수명       노래제목         발매일  \\\n",
       "0          백예린 (Yerin Baek)      그럴때마다  2021-09-10   \n",
       "1  Collective Arts (콜렉티브아츠)      나의 그늘  2017-07-27   \n",
       "2                    Sondia  Moonlight  2019-12-31   \n",
       "3                       윤현상     잊는다는 게  2015-03-13   \n",
       "4                       윤종신        말꼬리  2011-05-31   \n",
       "\n",
       "                                                  가사   좋아요수            감정  \n",
       "0  반복된 하루 사는 일에 지칠 때면 내게 말해요 항상 그대의 지쳐있는 마음에 조그만 ...  33255  indifference  \n",
       "1  나의 그늘이 좋다고 하는 너에게 무슨 말을 해야 좋을까 이 순간에도 가난한 나의 마...   4344  indifference  \n",
       "2  Moonlight 나를 감싸안아 데려다줘 그럼 너의 온기를 간직하겠어 내가 어디에 ...   4461  indifference  \n",
       "3  잊는다는 게 참 그래요 사랑하다가 이별하게 되면 그때서야 못해줬던 게 생각이 나요 ...  29999  indifference  \n",
       "4  비는 오고 너는 가려 하고 내 마음 눅눅하게 잠기고 낡은 흑백영화 한 장면처럼 내 ...  46043  indifference  "
      ]
     },
     "execution_count": 33,
     "metadata": {},
     "output_type": "execute_result"
    }
   ],
   "source": [
    "indif['감정'] = 'indifference'\n",
    "indif.head()"
   ]
  },
  {
   "cell_type": "markdown",
   "metadata": {},
   "source": [
    "# 후회 train_data '감정'컬럼추가"
   ]
  },
  {
   "cell_type": "code",
   "execution_count": 10,
   "metadata": {},
   "outputs": [
    {
     "name": "stdout",
     "output_type": "stream",
     "text": [
      "<class 'pandas.core.frame.DataFrame'>\n",
      "RangeIndex: 20 entries, 0 to 19\n",
      "Data columns (total 5 columns):\n",
      " #   Column  Non-Null Count  Dtype \n",
      "---  ------  --------------  ----- \n",
      " 0   가수명     20 non-null     object\n",
      " 1   노래제목    20 non-null     object\n",
      " 2   발매일     20 non-null     object\n",
      " 3   가사      20 non-null     object\n",
      " 4   좋아요수    20 non-null     int64 \n",
      "dtypes: int64(1), object(4)\n",
      "memory usage: 928.0+ bytes\n"
     ]
    }
   ],
   "source": [
    "reg = pd.read_csv(\"../Data/ballad_regret20.csv\")\n",
    "reg.info()"
   ]
  },
  {
   "cell_type": "code",
   "execution_count": 11,
   "metadata": {},
   "outputs": [
    {
     "data": {
      "text/html": [
       "<div>\n",
       "<style scoped>\n",
       "    .dataframe tbody tr th:only-of-type {\n",
       "        vertical-align: middle;\n",
       "    }\n",
       "\n",
       "    .dataframe tbody tr th {\n",
       "        vertical-align: top;\n",
       "    }\n",
       "\n",
       "    .dataframe thead th {\n",
       "        text-align: right;\n",
       "    }\n",
       "</style>\n",
       "<table border=\"1\" class=\"dataframe\">\n",
       "  <thead>\n",
       "    <tr style=\"text-align: right;\">\n",
       "      <th></th>\n",
       "      <th>가수명</th>\n",
       "      <th>노래제목</th>\n",
       "      <th>발매일</th>\n",
       "      <th>가사</th>\n",
       "      <th>좋아요수</th>\n",
       "      <th>감정</th>\n",
       "    </tr>\n",
       "  </thead>\n",
       "  <tbody>\n",
       "    <tr>\n",
       "      <th>0</th>\n",
       "      <td>어반자카파</td>\n",
       "      <td>아직도 나를 사랑한다면</td>\n",
       "      <td>2016-05-27</td>\n",
       "      <td>노래를 불러요 우릴 헤어지게 만든 그 노래를 이 일만 끝나면 더 잘할 수 있다고 그...</td>\n",
       "      <td>7655</td>\n",
       "      <td>regret</td>\n",
       "    </tr>\n",
       "    <tr>\n",
       "      <th>1</th>\n",
       "      <td>수지</td>\n",
       "      <td>I Love You Boy</td>\n",
       "      <td>2017-10-11</td>\n",
       "      <td>그댈 보기 위해 먼 길을 건너왔네요 힘든 길인걸 알면서도 그저 걸었죠 I fly f...</td>\n",
       "      <td>33264</td>\n",
       "      <td>regret</td>\n",
       "    </tr>\n",
       "    <tr>\n",
       "      <th>2</th>\n",
       "      <td>박새별</td>\n",
       "      <td>사랑이 우릴 다시 만나게 한다면</td>\n",
       "      <td>2013-05-28</td>\n",
       "      <td>사랑이 우릴 다시 만나게 해준다면 나 그대에게 해주고 싶은 말이 너무 많아요 그댈 ...</td>\n",
       "      <td>12564</td>\n",
       "      <td>regret</td>\n",
       "    </tr>\n",
       "    <tr>\n",
       "      <th>3</th>\n",
       "      <td>폴킴</td>\n",
       "      <td>사랑 알 수 없나봐</td>\n",
       "      <td>2018-12-16</td>\n",
       "      <td>사랑 알 수 없나 봐 어떤 마음인지 자꾸 의심하게 돼 청개구리처럼 반대로 하게 되는...</td>\n",
       "      <td>41914</td>\n",
       "      <td>regret</td>\n",
       "    </tr>\n",
       "    <tr>\n",
       "      <th>4</th>\n",
       "      <td>길구봉구</td>\n",
       "      <td>다시, 우리</td>\n",
       "      <td>2018-05-24</td>\n",
       "      <td>뚜루루 온종일 비가 내렸지 눅눅히 젖은 신발을 보다가 엉겨 붙어버린 기억의 먼지 한...</td>\n",
       "      <td>33582</td>\n",
       "      <td>regret</td>\n",
       "    </tr>\n",
       "  </tbody>\n",
       "</table>\n",
       "</div>"
      ],
      "text/plain": [
       "     가수명               노래제목         발매일  \\\n",
       "0  어반자카파       아직도 나를 사랑한다면  2016-05-27   \n",
       "1     수지     I Love You Boy  2017-10-11   \n",
       "2    박새별  사랑이 우릴 다시 만나게 한다면  2013-05-28   \n",
       "3     폴킴         사랑 알 수 없나봐  2018-12-16   \n",
       "4   길구봉구             다시, 우리  2018-05-24   \n",
       "\n",
       "                                                  가사   좋아요수      감정  \n",
       "0  노래를 불러요 우릴 헤어지게 만든 그 노래를 이 일만 끝나면 더 잘할 수 있다고 그...   7655  regret  \n",
       "1  그댈 보기 위해 먼 길을 건너왔네요 힘든 길인걸 알면서도 그저 걸었죠 I fly f...  33264  regret  \n",
       "2  사랑이 우릴 다시 만나게 해준다면 나 그대에게 해주고 싶은 말이 너무 많아요 그댈 ...  12564  regret  \n",
       "3  사랑 알 수 없나 봐 어떤 마음인지 자꾸 의심하게 돼 청개구리처럼 반대로 하게 되는...  41914  regret  \n",
       "4  뚜루루 온종일 비가 내렸지 눅눅히 젖은 신발을 보다가 엉겨 붙어버린 기억의 먼지 한...  33582  regret  "
      ]
     },
     "execution_count": 11,
     "metadata": {},
     "output_type": "execute_result"
    }
   ],
   "source": [
    "reg['감정'] = 'regret'\n",
    "reg.head()"
   ]
  },
  {
   "cell_type": "markdown",
   "metadata": {},
   "source": [
    "---\n",
    "# 감정 train_data_set 중복체크하기"
   ]
  },
  {
   "cell_type": "code",
   "execution_count": 14,
   "metadata": {},
   "outputs": [
    {
     "data": {
      "text/html": [
       "<div>\n",
       "<style scoped>\n",
       "    .dataframe tbody tr th:only-of-type {\n",
       "        vertical-align: middle;\n",
       "    }\n",
       "\n",
       "    .dataframe tbody tr th {\n",
       "        vertical-align: top;\n",
       "    }\n",
       "\n",
       "    .dataframe thead th {\n",
       "        text-align: right;\n",
       "    }\n",
       "</style>\n",
       "<table border=\"1\" class=\"dataframe\">\n",
       "  <thead>\n",
       "    <tr style=\"text-align: right;\">\n",
       "      <th></th>\n",
       "      <th>가수명</th>\n",
       "      <th>노래제목</th>\n",
       "      <th>발매일</th>\n",
       "      <th>가사</th>\n",
       "      <th>좋아요수</th>\n",
       "      <th>감정</th>\n",
       "    </tr>\n",
       "  </thead>\n",
       "  <tbody>\n",
       "  </tbody>\n",
       "</table>\n",
       "</div>"
      ],
      "text/plain": [
       "Empty DataFrame\n",
       "Columns: [가수명, 노래제목, 발매일, 가사, 좋아요수, 감정]\n",
       "Index: []"
      ]
     },
     "execution_count": 14,
     "metadata": {},
     "output_type": "execute_result"
    }
   ],
   "source": [
    "# happy, sad 중복 체크\n",
    "happy[happy['노래제목'].isin(sad['노래제목'])]"
   ]
  },
  {
   "cell_type": "code",
   "execution_count": 34,
   "metadata": {},
   "outputs": [
    {
     "data": {
      "text/html": [
       "<div>\n",
       "<style scoped>\n",
       "    .dataframe tbody tr th:only-of-type {\n",
       "        vertical-align: middle;\n",
       "    }\n",
       "\n",
       "    .dataframe tbody tr th {\n",
       "        vertical-align: top;\n",
       "    }\n",
       "\n",
       "    .dataframe thead th {\n",
       "        text-align: right;\n",
       "    }\n",
       "</style>\n",
       "<table border=\"1\" class=\"dataframe\">\n",
       "  <thead>\n",
       "    <tr style=\"text-align: right;\">\n",
       "      <th></th>\n",
       "      <th>가수명</th>\n",
       "      <th>노래제목</th>\n",
       "      <th>발매일</th>\n",
       "      <th>가사</th>\n",
       "      <th>좋아요수</th>\n",
       "      <th>감정</th>\n",
       "    </tr>\n",
       "  </thead>\n",
       "  <tbody>\n",
       "  </tbody>\n",
       "</table>\n",
       "</div>"
      ],
      "text/plain": [
       "Empty DataFrame\n",
       "Columns: [가수명, 노래제목, 발매일, 가사, 좋아요수, 감정]\n",
       "Index: []"
      ]
     },
     "execution_count": 34,
     "metadata": {},
     "output_type": "execute_result"
    }
   ],
   "source": [
    "# happy, indif 중복 체크\n",
    "happy[happy['노래제목'].isin(indif['노래제목'])]"
   ]
  },
  {
   "cell_type": "code",
   "execution_count": 16,
   "metadata": {},
   "outputs": [
    {
     "data": {
      "text/html": [
       "<div>\n",
       "<style scoped>\n",
       "    .dataframe tbody tr th:only-of-type {\n",
       "        vertical-align: middle;\n",
       "    }\n",
       "\n",
       "    .dataframe tbody tr th {\n",
       "        vertical-align: top;\n",
       "    }\n",
       "\n",
       "    .dataframe thead th {\n",
       "        text-align: right;\n",
       "    }\n",
       "</style>\n",
       "<table border=\"1\" class=\"dataframe\">\n",
       "  <thead>\n",
       "    <tr style=\"text-align: right;\">\n",
       "      <th></th>\n",
       "      <th>가수명</th>\n",
       "      <th>노래제목</th>\n",
       "      <th>발매일</th>\n",
       "      <th>가사</th>\n",
       "      <th>좋아요수</th>\n",
       "      <th>감정</th>\n",
       "    </tr>\n",
       "  </thead>\n",
       "  <tbody>\n",
       "  </tbody>\n",
       "</table>\n",
       "</div>"
      ],
      "text/plain": [
       "Empty DataFrame\n",
       "Columns: [가수명, 노래제목, 발매일, 가사, 좋아요수, 감정]\n",
       "Index: []"
      ]
     },
     "execution_count": 16,
     "metadata": {},
     "output_type": "execute_result"
    }
   ],
   "source": [
    "# happy, reg 중복 체크\n",
    "happy[happy['노래제목'].isin(reg['노래제목'])]"
   ]
  },
  {
   "cell_type": "code",
   "execution_count": 35,
   "metadata": {},
   "outputs": [
    {
     "data": {
      "text/html": [
       "<div>\n",
       "<style scoped>\n",
       "    .dataframe tbody tr th:only-of-type {\n",
       "        vertical-align: middle;\n",
       "    }\n",
       "\n",
       "    .dataframe tbody tr th {\n",
       "        vertical-align: top;\n",
       "    }\n",
       "\n",
       "    .dataframe thead th {\n",
       "        text-align: right;\n",
       "    }\n",
       "</style>\n",
       "<table border=\"1\" class=\"dataframe\">\n",
       "  <thead>\n",
       "    <tr style=\"text-align: right;\">\n",
       "      <th></th>\n",
       "      <th>가수명</th>\n",
       "      <th>노래제목</th>\n",
       "      <th>발매일</th>\n",
       "      <th>가사</th>\n",
       "      <th>좋아요수</th>\n",
       "      <th>감정</th>\n",
       "    </tr>\n",
       "  </thead>\n",
       "  <tbody>\n",
       "  </tbody>\n",
       "</table>\n",
       "</div>"
      ],
      "text/plain": [
       "Empty DataFrame\n",
       "Columns: [가수명, 노래제목, 발매일, 가사, 좋아요수, 감정]\n",
       "Index: []"
      ]
     },
     "execution_count": 35,
     "metadata": {},
     "output_type": "execute_result"
    }
   ],
   "source": [
    "# sad, indif 중복 체크\n",
    "sad[sad['노래제목'].isin(indif['노래제목'])]"
   ]
  },
  {
   "cell_type": "code",
   "execution_count": 22,
   "metadata": {},
   "outputs": [
    {
     "data": {
      "text/html": [
       "<div>\n",
       "<style scoped>\n",
       "    .dataframe tbody tr th:only-of-type {\n",
       "        vertical-align: middle;\n",
       "    }\n",
       "\n",
       "    .dataframe tbody tr th {\n",
       "        vertical-align: top;\n",
       "    }\n",
       "\n",
       "    .dataframe thead th {\n",
       "        text-align: right;\n",
       "    }\n",
       "</style>\n",
       "<table border=\"1\" class=\"dataframe\">\n",
       "  <thead>\n",
       "    <tr style=\"text-align: right;\">\n",
       "      <th></th>\n",
       "      <th>가수명</th>\n",
       "      <th>노래제목</th>\n",
       "      <th>발매일</th>\n",
       "      <th>가사</th>\n",
       "      <th>좋아요수</th>\n",
       "      <th>감정</th>\n",
       "    </tr>\n",
       "  </thead>\n",
       "  <tbody>\n",
       "  </tbody>\n",
       "</table>\n",
       "</div>"
      ],
      "text/plain": [
       "Empty DataFrame\n",
       "Columns: [가수명, 노래제목, 발매일, 가사, 좋아요수, 감정]\n",
       "Index: []"
      ]
     },
     "execution_count": 22,
     "metadata": {},
     "output_type": "execute_result"
    }
   ],
   "source": [
    "# sad, reg 중복 체크\n",
    "sad[sad['노래제목'].isin(reg['노래제목'])]"
   ]
  },
  {
   "cell_type": "code",
   "execution_count": 36,
   "metadata": {},
   "outputs": [
    {
     "data": {
      "text/html": [
       "<div>\n",
       "<style scoped>\n",
       "    .dataframe tbody tr th:only-of-type {\n",
       "        vertical-align: middle;\n",
       "    }\n",
       "\n",
       "    .dataframe tbody tr th {\n",
       "        vertical-align: top;\n",
       "    }\n",
       "\n",
       "    .dataframe thead th {\n",
       "        text-align: right;\n",
       "    }\n",
       "</style>\n",
       "<table border=\"1\" class=\"dataframe\">\n",
       "  <thead>\n",
       "    <tr style=\"text-align: right;\">\n",
       "      <th></th>\n",
       "      <th>가수명</th>\n",
       "      <th>노래제목</th>\n",
       "      <th>발매일</th>\n",
       "      <th>가사</th>\n",
       "      <th>좋아요수</th>\n",
       "      <th>감정</th>\n",
       "    </tr>\n",
       "  </thead>\n",
       "  <tbody>\n",
       "  </tbody>\n",
       "</table>\n",
       "</div>"
      ],
      "text/plain": [
       "Empty DataFrame\n",
       "Columns: [가수명, 노래제목, 발매일, 가사, 좋아요수, 감정]\n",
       "Index: []"
      ]
     },
     "execution_count": 36,
     "metadata": {},
     "output_type": "execute_result"
    }
   ],
   "source": [
    "# indif, reg 중복 체크\n",
    "indif[indif['노래제목'].isin(reg['노래제목'])]"
   ]
  },
  {
   "cell_type": "code",
   "execution_count": 37,
   "metadata": {},
   "outputs": [
    {
     "data": {
      "text/html": [
       "<div>\n",
       "<style scoped>\n",
       "    .dataframe tbody tr th:only-of-type {\n",
       "        vertical-align: middle;\n",
       "    }\n",
       "\n",
       "    .dataframe tbody tr th {\n",
       "        vertical-align: top;\n",
       "    }\n",
       "\n",
       "    .dataframe thead th {\n",
       "        text-align: right;\n",
       "    }\n",
       "</style>\n",
       "<table border=\"1\" class=\"dataframe\">\n",
       "  <thead>\n",
       "    <tr style=\"text-align: right;\">\n",
       "      <th></th>\n",
       "      <th>가수명</th>\n",
       "      <th>노래제목</th>\n",
       "      <th>발매일</th>\n",
       "      <th>가사</th>\n",
       "      <th>좋아요수</th>\n",
       "      <th>감정</th>\n",
       "    </tr>\n",
       "  </thead>\n",
       "  <tbody>\n",
       "  </tbody>\n",
       "</table>\n",
       "</div>"
      ],
      "text/plain": [
       "Empty DataFrame\n",
       "Columns: [가수명, 노래제목, 발매일, 가사, 좋아요수, 감정]\n",
       "Index: []"
      ]
     },
     "execution_count": 37,
     "metadata": {},
     "output_type": "execute_result"
    }
   ],
   "source": [
    "# reg, indif 중복 체크\n",
    "reg[reg['노래제목'].isin(indif['노래제목'])]"
   ]
  },
  {
   "cell_type": "markdown",
   "metadata": {},
   "source": [
    "---\n",
    "# train_data set 합치기"
   ]
  },
  {
   "cell_type": "code",
   "execution_count": 39,
   "metadata": {},
   "outputs": [],
   "source": [
    "train_data = pd.concat([happy,sad,reg,indif], axis=0, ignore_index=True)"
   ]
  },
  {
   "cell_type": "code",
   "execution_count": 40,
   "metadata": {},
   "outputs": [],
   "source": [
    "train_data.to_csv(\"../Data/train_data.csv\", index=None)"
   ]
  },
  {
   "cell_type": "code",
   "execution_count": null,
   "metadata": {},
   "outputs": [],
   "source": []
  },
  {
   "cell_type": "code",
   "execution_count": null,
   "metadata": {},
   "outputs": [],
   "source": []
  },
  {
   "cell_type": "code",
   "execution_count": null,
   "metadata": {},
   "outputs": [],
   "source": []
  }
 ],
 "metadata": {
  "kernelspec": {
   "display_name": "Python 3.7.13 ('python2')",
   "language": "python",
   "name": "python3"
  },
  "language_info": {
   "codemirror_mode": {
    "name": "ipython",
    "version": 3
   },
   "file_extension": ".py",
   "mimetype": "text/x-python",
   "name": "python",
   "nbconvert_exporter": "python",
   "pygments_lexer": "ipython3",
   "version": "3.7.13"
  },
  "orig_nbformat": 4,
  "vscode": {
   "interpreter": {
    "hash": "32a6e990c54b8aedea55d9f644f5b71e71549db4552cfafb8e4d9a3d07f10878"
   }
  }
 },
 "nbformat": 4,
 "nbformat_minor": 2
}
