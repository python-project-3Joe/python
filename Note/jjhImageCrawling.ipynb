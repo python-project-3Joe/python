{
 "cells": [
  {
   "cell_type": "code",
   "execution_count": 3,
   "metadata": {},
   "outputs": [],
   "source": [
    "import pandas as pd"
   ]
  },
  {
   "cell_type": "code",
   "execution_count": 2,
   "metadata": {},
   "outputs": [],
   "source": [
    "melon = pd.read_csv(\"../Data/melon_top2000.csv\")"
   ]
  },
  {
   "cell_type": "code",
   "execution_count": null,
   "metadata": {},
   "outputs": [],
   "source": [
    "melon"
   ]
  },
  {
   "cell_type": "code",
   "execution_count": 4,
   "metadata": {},
   "outputs": [
    {
     "name": "stdout",
     "output_type": "stream",
     "text": [
      "Collecting selenium\n",
      "  Downloading selenium-4.3.0-py3-none-any.whl (981 kB)\n",
      "Collecting trio-websocket~=0.9\n",
      "  Downloading trio_websocket-0.9.2-py3-none-any.whl (16 kB)\n",
      "Requirement already satisfied: urllib3[secure,socks]~=1.26 in c:\\users\\user\\anaconda3\\lib\\site-packages (from selenium) (1.26.7)\n",
      "Collecting trio~=0.17\n",
      "  Downloading trio-0.21.0-py3-none-any.whl (358 kB)\n",
      "Collecting outcome\n",
      "  Downloading outcome-1.2.0-py2.py3-none-any.whl (9.7 kB)\n",
      "Requirement already satisfied: attrs>=19.2.0 in c:\\users\\user\\anaconda3\\lib\\site-packages (from trio~=0.17->selenium) (21.2.0)\n",
      "Requirement already satisfied: sniffio in c:\\users\\user\\anaconda3\\lib\\site-packages (from trio~=0.17->selenium) (1.2.0)\n",
      "Requirement already satisfied: sortedcontainers in c:\\users\\user\\anaconda3\\lib\\site-packages (from trio~=0.17->selenium) (2.4.0)\n",
      "Requirement already satisfied: idna in c:\\users\\user\\anaconda3\\lib\\site-packages (from trio~=0.17->selenium) (3.2)\n",
      "Requirement already satisfied: cffi>=1.14 in c:\\users\\user\\anaconda3\\lib\\site-packages (from trio~=0.17->selenium) (1.14.6)\n",
      "Requirement already satisfied: async-generator>=1.9 in c:\\users\\user\\anaconda3\\lib\\site-packages (from trio~=0.17->selenium) (1.10)\n",
      "Requirement already satisfied: pycparser in c:\\users\\user\\anaconda3\\lib\\site-packages (from cffi>=1.14->trio~=0.17->selenium) (2.20)\n",
      "Collecting wsproto>=0.14\n",
      "  Downloading wsproto-1.1.0-py3-none-any.whl (24 kB)\n",
      "Requirement already satisfied: PySocks!=1.5.7,<2.0,>=1.5.6 in c:\\users\\user\\anaconda3\\lib\\site-packages (from urllib3[secure,socks]~=1.26->selenium) (1.7.1)\n",
      "Requirement already satisfied: pyOpenSSL>=0.14 in c:\\users\\user\\anaconda3\\lib\\site-packages (from urllib3[secure,socks]~=1.26->selenium) (21.0.0)\n",
      "Requirement already satisfied: cryptography>=1.3.4 in c:\\users\\user\\anaconda3\\lib\\site-packages (from urllib3[secure,socks]~=1.26->selenium) (3.4.8)\n",
      "Requirement already satisfied: certifi in c:\\users\\user\\anaconda3\\lib\\site-packages (from urllib3[secure,socks]~=1.26->selenium) (2021.10.8)\n",
      "Requirement already satisfied: six>=1.5.2 in c:\\users\\user\\anaconda3\\lib\\site-packages (from pyOpenSSL>=0.14->urllib3[secure,socks]~=1.26->selenium) (1.16.0)\n",
      "Collecting h11<1,>=0.9.0\n",
      "  Downloading h11-0.13.0-py3-none-any.whl (58 kB)\n",
      "Installing collected packages: outcome, h11, wsproto, trio, trio-websocket, selenium\n",
      "Successfully installed h11-0.13.0 outcome-1.2.0 selenium-4.3.0 trio-0.21.0 trio-websocket-0.9.2 wsproto-1.1.0\n"
     ]
    }
   ],
   "source": [
    "# !pip install selenium"
   ]
  },
  {
   "cell_type": "code",
   "execution_count": 8,
   "metadata": {},
   "outputs": [
    {
     "name": "stdout",
     "output_type": "stream",
     "text": [
      "Collecting webdriver-manager\n",
      "  Downloading webdriver_manager-3.8.3-py2.py3-none-any.whl (26 kB)\n",
      "Requirement already satisfied: tqdm in c:\\users\\user\\anaconda3\\lib\\site-packages (from webdriver-manager) (4.62.3)\n",
      "Requirement already satisfied: requests in c:\\users\\user\\anaconda3\\lib\\site-packages (from webdriver-manager) (2.26.0)\n",
      "Collecting python-dotenv\n",
      "  Using cached python_dotenv-0.20.0-py3-none-any.whl (17 kB)\n",
      "Requirement already satisfied: certifi>=2017.4.17 in c:\\users\\user\\anaconda3\\lib\\site-packages (from requests->webdriver-manager) (2021.10.8)\n",
      "Requirement already satisfied: urllib3<1.27,>=1.21.1 in c:\\users\\user\\anaconda3\\lib\\site-packages (from requests->webdriver-manager) (1.26.7)\n",
      "Requirement already satisfied: idna<4,>=2.5 in c:\\users\\user\\anaconda3\\lib\\site-packages (from requests->webdriver-manager) (3.2)\n",
      "Requirement already satisfied: charset-normalizer~=2.0.0 in c:\\users\\user\\anaconda3\\lib\\site-packages (from requests->webdriver-manager) (2.0.4)\n",
      "Requirement already satisfied: colorama in c:\\users\\user\\anaconda3\\lib\\site-packages (from tqdm->webdriver-manager) (0.4.4)\n",
      "Installing collected packages: python-dotenv, webdriver-manager\n",
      "Successfully installed python-dotenv-0.20.0 webdriver-manager-3.8.3\n"
     ]
    }
   ],
   "source": [
    "# !pip install webdriver-manager"
   ]
  },
  {
   "cell_type": "code",
   "execution_count": 4,
   "metadata": {},
   "outputs": [],
   "source": [
    "from selenium import webdriver\n",
    "from selenium.webdriver.chrome.service import Service\n",
    "from webdriver_manager.chrome import ChromeDriverManager\n",
    "from selenium.webdriver.common.by import By\n",
    "from bs4 import BeautifulSoup\n",
    "import urllib.request as request\n",
    "import time"
   ]
  },
  {
   "cell_type": "code",
   "execution_count": 5,
   "metadata": {},
   "outputs": [
    {
     "name": "stderr",
     "output_type": "stream",
     "text": [
      "[WDM] - Downloading: 100%|██████████| 6.13M/6.13M [00:00<00:00, 9.13MB/s]\n"
     ]
    }
   ],
   "source": [
    "chrome_options = webdriver.ChromeOptions()\n",
    "driver = webdriver.Chrome(service=Service(ChromeDriverManager().install()), options=chrome_options)\n",
    "\n",
    "# 1, 451, 50\n",
    "# for문으로 인덱스 돌리기\n",
    "\n",
    "total_lists = []\n",
    "for page in list(range(1, 2000, 50)):\n",
    "  \n",
    "  driver = webdriver.Chrome(service=Service(ChromeDriverManager().install()), options=chrome_options)\n",
    "  driver.get('https://www.melon.com/genre/song_list.htm#params%5BgnrCode%5D=GN0100&params%5BdtlGnrCode%5D=&params%5BorderBy%5D=POP&params%5BsteadyYn%5D=N&po=pageObj&startIndex='+ str(page))\n",
    "\n",
    "  page_source = driver.page_source\n",
    "  soup = BeautifulSoup(page_source, \"html.parser\")\n",
    "  \n",
    "  songIds = soup.select(\"#frm > div > table > tbody td:nth-child(4) > div > a\")\n",
    "  total_lists = total_lists + songIds"
   ]
  },
  {
   "cell_type": "code",
   "execution_count": 6,
   "metadata": {},
   "outputs": [
    {
     "data": {
      "text/plain": [
       "2000"
      ]
     },
     "execution_count": 6,
     "metadata": {},
     "output_type": "execute_result"
    }
   ],
   "source": [
    "# songId 가져오기\n",
    "songId_list = []\n",
    "for songId in total_lists:\n",
    "    songId_list.append(songId['href'].split('\\'')[1])\n",
    "\n",
    "len(songId_list)"
   ]
  },
  {
   "cell_type": "code",
   "execution_count": 7,
   "metadata": {},
   "outputs": [],
   "source": [
    "# 1000곡씩 나누기\n",
    "songId_list_1000 =  songId_list[:1000]\n",
    "songId_list_2000 =  songId_list[1000:]"
   ]
  },
  {
   "cell_type": "code",
   "execution_count": 8,
   "metadata": {},
   "outputs": [
    {
     "data": {
      "text/plain": [
       "1000"
      ]
     },
     "execution_count": 8,
     "metadata": {},
     "output_type": "execute_result"
    }
   ],
   "source": [
    "len(songId_list[1000:])"
   ]
  },
  {
   "cell_type": "code",
   "execution_count": 9,
   "metadata": {},
   "outputs": [],
   "source": [
    "# 가수명, 노래제목, 발매일, 가사, 좋아요 수 리스트 변수 생성\n",
    "\n",
    "singer_list = []\n",
    "singName_list = []\n",
    "date_list = []\n",
    "lyrics_list = []\n",
    "like_list = []\n",
    "songImage_list =[]\n",
    "\n",
    "# for문으로 가수명, 노래제목, 발매일, 가사, 좋아요 수 리스트 변수에 내용 담고 저장하기\n",
    "\n",
    "chrome_options = webdriver.ChromeOptions()\n",
    "driver = webdriver.Chrome(service=Service(ChromeDriverManager().install()), options=chrome_options)\n",
    "\n",
    "for songId in songId_list_2000:\n",
    "    \n",
    "    driver.get(f'https://www.melon.com/song/detail.htm?songId={songId}')\n",
    "\n",
    "    page_source = driver.page_source\n",
    "    soup = BeautifulSoup(page_source, \"html.parser\")\n",
    "    try:\n",
    "        time.sleep(2)\n",
    "        # 가수명 가져오기\n",
    "        artist_name = soup.select_one('#downloadfrm > div > div > div.entry > div.info > div.artist > a > span:nth-child(1) ')\n",
    "        singer_list.append(artist_name.string)\n",
    "\n",
    "        # 노래제목 가져오기\n",
    "        song_name = soup.select_one(\"#downloadfrm > div > div > div.entry > div.info > div.song_name \")\n",
    "        singName_list.append(song_name.text.strip().split('\\n\\t\\t\\t\\t\\t\\t\\t\\n\\t\\t\\t\\t\\t\\t\\t\\n\\t\\t\\t\\t\\t\\t\\t\\n\\t\\t\\t\\t\\t\\t\\t\\n\\t\\t\\t\\t\\t\\t\\t')[1])\n",
    "\n",
    "        # 발매일 가져오기\n",
    "        date = soup.select_one('#downloadfrm > div > div > div.entry > div.meta > dl > dd:nth-child(4)')\n",
    "        date_list.append(date.string)\n",
    "\n",
    "        # 가사 가져오기\n",
    "        lyric1 = str(soup.select_one('#d_video_summary')).replace('<br/>',' ')\\\n",
    "                                                         .replace('<div class=\"lyric\" id=\"d_video_summary\"><!-- height:auto; 로 변경시, 확장됨 -->',' ')\\\n",
    "                                                         .replace('</div>',' ').replace('\\t','').replace('\\n',' ')\n",
    "        lyric = lyric1.replace('  ', ' ')\n",
    "        lyrics_list.append(lyric)\n",
    "\n",
    "        # 좋아요수 가져오기\n",
    "        like = soup.select_one(\"#d_like_count\")\n",
    "        like_list.append(like.text)\n",
    "\n",
    "        # 이미지 링크 가져오기\n",
    "        # 앨범 사진 가져오기\n",
    "        song_image = soup.select_one('#downloadfrm > div > div > div.thumb > a.image_typeAll > img')[\"src\"]\n",
    "        songImage_list.append(song_image)\n",
    "        time.sleep(2)\n",
    "    except:\n",
    "        singer_list.append(0)\n",
    "        singName_list.append(0)\n",
    "        date_list.append(0)\n",
    "        lyrics_list.append(0)\n",
    "        like_list.append(0)\n",
    "        songImage_list.append(0)\n",
    "        time.sleep(1)"
   ]
  },
  {
   "cell_type": "code",
   "execution_count": 12,
   "metadata": {},
   "outputs": [
    {
     "name": "stdout",
     "output_type": "stream",
     "text": [
      "1000\n",
      "1000\n",
      "1000\n",
      "1000\n",
      "1000\n",
      "1000\n",
      "1000\n"
     ]
    }
   ],
   "source": [
    "print(len(singer_list))\n",
    "print(len(singName_list))\n",
    "print(len(date_list))\n",
    "print(len(lyrics_list))\n",
    "print(len(like_list))\n",
    "print(len(songImage_list))\n",
    "print(len(songId_list_2000))"
   ]
  },
  {
   "cell_type": "code",
   "execution_count": 13,
   "metadata": {},
   "outputs": [],
   "source": [
    "ballad = {'가수명':singer_list, '노래제목':singName_list, '발매일':date_list, '가사':lyrics_list, '좋아요수':like_list, '앨범사진':songImage_list, 'songId':songId_list_2000}"
   ]
  },
  {
   "cell_type": "code",
   "execution_count": 14,
   "metadata": {},
   "outputs": [],
   "source": [
    "import pandas as pd"
   ]
  },
  {
   "cell_type": "code",
   "execution_count": 15,
   "metadata": {},
   "outputs": [],
   "source": [
    "ballad_1001_2000 =  pd.DataFrame(ballad)"
   ]
  },
  {
   "cell_type": "code",
   "execution_count": 16,
   "metadata": {},
   "outputs": [
    {
     "data": {
      "text/html": [
       "<div>\n",
       "<style scoped>\n",
       "    .dataframe tbody tr th:only-of-type {\n",
       "        vertical-align: middle;\n",
       "    }\n",
       "\n",
       "    .dataframe tbody tr th {\n",
       "        vertical-align: top;\n",
       "    }\n",
       "\n",
       "    .dataframe thead th {\n",
       "        text-align: right;\n",
       "    }\n",
       "</style>\n",
       "<table border=\"1\" class=\"dataframe\">\n",
       "  <thead>\n",
       "    <tr style=\"text-align: right;\">\n",
       "      <th></th>\n",
       "      <th>가수명</th>\n",
       "      <th>노래제목</th>\n",
       "      <th>발매일</th>\n",
       "      <th>가사</th>\n",
       "      <th>좋아요수</th>\n",
       "      <th>앨범사진</th>\n",
       "      <th>songId</th>\n",
       "    </tr>\n",
       "  </thead>\n",
       "  <tbody>\n",
       "    <tr>\n",
       "      <th>995</th>\n",
       "      <td>터보</td>\n",
       "      <td>회상 (December)</td>\n",
       "      <td>1997</td>\n",
       "      <td>겨울 오면은 우리 둘이서 항상 왔었던 바닷가 시린 바람과 하얀 파도는 예전 그대로...</td>\n",
       "      <td>12,742</td>\n",
       "      <td>https://cdnimg.melon.co.kr/cm/album/images/003...</td>\n",
       "      <td>1606413</td>\n",
       "    </tr>\n",
       "    <tr>\n",
       "      <th>996</th>\n",
       "      <td>이석훈</td>\n",
       "      <td>고백</td>\n",
       "      <td>2011.06.02</td>\n",
       "      <td>좋은 사람 만나 행복해야 해 너는 웃고 있지만 나는 웃을 수가 없는걸 그래 난 알...</td>\n",
       "      <td>18,569</td>\n",
       "      <td>https://cdnimg.melon.co.kr/cm/album/images/012...</td>\n",
       "      <td>3426230</td>\n",
       "    </tr>\n",
       "    <tr>\n",
       "      <th>997</th>\n",
       "      <td>다비치</td>\n",
       "      <td>나의 첫사랑</td>\n",
       "      <td>2022.05.16</td>\n",
       "      <td>그때의 나는 너를 만나서 하나부터 열까지 모든 순간들이 소중했어 내 첫사랑 잊고 ...</td>\n",
       "      <td>925</td>\n",
       "      <td>https://cdnimg.melon.co.kr/cm2/album/images/10...</td>\n",
       "      <td>35145139</td>\n",
       "    </tr>\n",
       "    <tr>\n",
       "      <th>998</th>\n",
       "      <td>미스에스</td>\n",
       "      <td>이 나이 먹고 뭐했길래 (Feat. 정슬기)</td>\n",
       "      <td>2010.09.10</td>\n",
       "      <td>다시 처음으로 돌아갈 수 있다면 아마 너를 사랑하는 일은 안했을텐데 그 날밤 그 ...</td>\n",
       "      <td>10,416</td>\n",
       "      <td>https://cdnimg.melon.co.kr/cm/album/images/010...</td>\n",
       "      <td>2933662</td>\n",
       "    </tr>\n",
       "    <tr>\n",
       "      <th>999</th>\n",
       "      <td>하은 (포맨)</td>\n",
       "      <td>혼코노 (Honkono)</td>\n",
       "      <td>2019.10.17</td>\n",
       "      <td>이 동전 하나로 뭘 할 수 있을까 고민 고민하다가 나 혼자 이곳에 왔어 익숙한 번...</td>\n",
       "      <td>15,260</td>\n",
       "      <td>https://cdnimg.melon.co.kr/cm2/album/images/10...</td>\n",
       "      <td>32104350</td>\n",
       "    </tr>\n",
       "  </tbody>\n",
       "</table>\n",
       "</div>"
      ],
      "text/plain": [
       "         가수명                      노래제목         발매일  \\\n",
       "995       터보             회상 (December)        1997   \n",
       "996      이석훈                        고백  2011.06.02   \n",
       "997      다비치                    나의 첫사랑  2022.05.16   \n",
       "998     미스에스  이 나이 먹고 뭐했길래 (Feat. 정슬기)  2010.09.10   \n",
       "999  하은 (포맨)             혼코노 (Honkono)  2019.10.17   \n",
       "\n",
       "                                                    가사    좋아요수  \\\n",
       "995   겨울 오면은 우리 둘이서 항상 왔었던 바닷가 시린 바람과 하얀 파도는 예전 그대로...  12,742   \n",
       "996   좋은 사람 만나 행복해야 해 너는 웃고 있지만 나는 웃을 수가 없는걸 그래 난 알...  18,569   \n",
       "997   그때의 나는 너를 만나서 하나부터 열까지 모든 순간들이 소중했어 내 첫사랑 잊고 ...     925   \n",
       "998   다시 처음으로 돌아갈 수 있다면 아마 너를 사랑하는 일은 안했을텐데 그 날밤 그 ...  10,416   \n",
       "999   이 동전 하나로 뭘 할 수 있을까 고민 고민하다가 나 혼자 이곳에 왔어 익숙한 번...  15,260   \n",
       "\n",
       "                                                  앨범사진    songId  \n",
       "995  https://cdnimg.melon.co.kr/cm/album/images/003...   1606413  \n",
       "996  https://cdnimg.melon.co.kr/cm/album/images/012...   3426230  \n",
       "997  https://cdnimg.melon.co.kr/cm2/album/images/10...  35145139  \n",
       "998  https://cdnimg.melon.co.kr/cm/album/images/010...   2933662  \n",
       "999  https://cdnimg.melon.co.kr/cm2/album/images/10...  32104350  "
      ]
     },
     "execution_count": 16,
     "metadata": {},
     "output_type": "execute_result"
    }
   ],
   "source": [
    "ballad_1001_2000.tail()"
   ]
  },
  {
   "cell_type": "code",
   "execution_count": 17,
   "metadata": {},
   "outputs": [
    {
     "data": {
      "text/plain": [
       "964"
      ]
     },
     "execution_count": 17,
     "metadata": {},
     "output_type": "execute_result"
    }
   ],
   "source": [
    "len(ballad_1001_2000['노래제목'].unique())"
   ]
  },
  {
   "cell_type": "code",
   "execution_count": 18,
   "metadata": {},
   "outputs": [
    {
     "data": {
      "text/plain": [
       "가수명       0\n",
       "노래제목      0\n",
       "발매일       0\n",
       "가사        0\n",
       "좋아요수      0\n",
       "앨범사진      0\n",
       "songId    0\n",
       "dtype: int64"
      ]
     },
     "execution_count": 18,
     "metadata": {},
     "output_type": "execute_result"
    }
   ],
   "source": [
    "ballad_1001_2000.isnull().sum()"
   ]
  },
  {
   "cell_type": "code",
   "execution_count": 19,
   "metadata": {},
   "outputs": [],
   "source": [
    "ballad_1001_2000['좋아요수'] = ballad_1001_2000['좋아요수'].str.replace(',','')"
   ]
  },
  {
   "cell_type": "code",
   "execution_count": 20,
   "metadata": {},
   "outputs": [
    {
     "name": "stderr",
     "output_type": "stream",
     "text": [
      "C:\\Users\\user\\AppData\\Local\\Temp/ipykernel_25384/2744582719.py:1: FutureWarning: The default value of regex will change from True to False in a future version. In addition, single character regular expressions will *not* be treated as literal strings when regex=True.\n",
      "  ballad_1001_2000['발매일'] = ballad_1001_2000['발매일'].str.replace('.', '-')\n"
     ]
    }
   ],
   "source": [
    "ballad_1001_2000['발매일'] = ballad_1001_2000['발매일'].str.replace('.', '-')"
   ]
  },
  {
   "cell_type": "code",
   "execution_count": 21,
   "metadata": {},
   "outputs": [],
   "source": [
    "ballad_1001_2000['발매일'] = pd.to_datetime(ballad_1001_2000['발매일'])"
   ]
  },
  {
   "cell_type": "code",
   "execution_count": 23,
   "metadata": {},
   "outputs": [],
   "source": [
    "ballad_1001_2000['순위'] = ballad_1001_2000.index + 1001"
   ]
  },
  {
   "cell_type": "code",
   "execution_count": 25,
   "metadata": {},
   "outputs": [
    {
     "data": {
      "text/html": [
       "<div>\n",
       "<style scoped>\n",
       "    .dataframe tbody tr th:only-of-type {\n",
       "        vertical-align: middle;\n",
       "    }\n",
       "\n",
       "    .dataframe tbody tr th {\n",
       "        vertical-align: top;\n",
       "    }\n",
       "\n",
       "    .dataframe thead th {\n",
       "        text-align: right;\n",
       "    }\n",
       "</style>\n",
       "<table border=\"1\" class=\"dataframe\">\n",
       "  <thead>\n",
       "    <tr style=\"text-align: right;\">\n",
       "      <th></th>\n",
       "      <th>가수명</th>\n",
       "      <th>노래제목</th>\n",
       "      <th>발매일</th>\n",
       "      <th>가사</th>\n",
       "      <th>좋아요수</th>\n",
       "      <th>앨범사진</th>\n",
       "      <th>songId</th>\n",
       "      <th>순위</th>\n",
       "    </tr>\n",
       "  </thead>\n",
       "  <tbody>\n",
       "    <tr>\n",
       "      <th>995</th>\n",
       "      <td>터보</td>\n",
       "      <td>회상 (December)</td>\n",
       "      <td>1997-01-01</td>\n",
       "      <td>겨울 오면은 우리 둘이서 항상 왔었던 바닷가 시린 바람과 하얀 파도는 예전 그대로...</td>\n",
       "      <td>12742</td>\n",
       "      <td>https://cdnimg.melon.co.kr/cm/album/images/003...</td>\n",
       "      <td>1606413</td>\n",
       "      <td>1996</td>\n",
       "    </tr>\n",
       "    <tr>\n",
       "      <th>996</th>\n",
       "      <td>이석훈</td>\n",
       "      <td>고백</td>\n",
       "      <td>2011-06-02</td>\n",
       "      <td>좋은 사람 만나 행복해야 해 너는 웃고 있지만 나는 웃을 수가 없는걸 그래 난 알...</td>\n",
       "      <td>18569</td>\n",
       "      <td>https://cdnimg.melon.co.kr/cm/album/images/012...</td>\n",
       "      <td>3426230</td>\n",
       "      <td>1997</td>\n",
       "    </tr>\n",
       "    <tr>\n",
       "      <th>997</th>\n",
       "      <td>다비치</td>\n",
       "      <td>나의 첫사랑</td>\n",
       "      <td>2022-05-16</td>\n",
       "      <td>그때의 나는 너를 만나서 하나부터 열까지 모든 순간들이 소중했어 내 첫사랑 잊고 ...</td>\n",
       "      <td>925</td>\n",
       "      <td>https://cdnimg.melon.co.kr/cm2/album/images/10...</td>\n",
       "      <td>35145139</td>\n",
       "      <td>1998</td>\n",
       "    </tr>\n",
       "    <tr>\n",
       "      <th>998</th>\n",
       "      <td>미스에스</td>\n",
       "      <td>이 나이 먹고 뭐했길래 (Feat. 정슬기)</td>\n",
       "      <td>2010-09-10</td>\n",
       "      <td>다시 처음으로 돌아갈 수 있다면 아마 너를 사랑하는 일은 안했을텐데 그 날밤 그 ...</td>\n",
       "      <td>10416</td>\n",
       "      <td>https://cdnimg.melon.co.kr/cm/album/images/010...</td>\n",
       "      <td>2933662</td>\n",
       "      <td>1999</td>\n",
       "    </tr>\n",
       "    <tr>\n",
       "      <th>999</th>\n",
       "      <td>하은 (포맨)</td>\n",
       "      <td>혼코노 (Honkono)</td>\n",
       "      <td>2019-10-17</td>\n",
       "      <td>이 동전 하나로 뭘 할 수 있을까 고민 고민하다가 나 혼자 이곳에 왔어 익숙한 번...</td>\n",
       "      <td>15260</td>\n",
       "      <td>https://cdnimg.melon.co.kr/cm2/album/images/10...</td>\n",
       "      <td>32104350</td>\n",
       "      <td>2000</td>\n",
       "    </tr>\n",
       "  </tbody>\n",
       "</table>\n",
       "</div>"
      ],
      "text/plain": [
       "         가수명                      노래제목        발매일  \\\n",
       "995       터보             회상 (December) 1997-01-01   \n",
       "996      이석훈                        고백 2011-06-02   \n",
       "997      다비치                    나의 첫사랑 2022-05-16   \n",
       "998     미스에스  이 나이 먹고 뭐했길래 (Feat. 정슬기) 2010-09-10   \n",
       "999  하은 (포맨)             혼코노 (Honkono) 2019-10-17   \n",
       "\n",
       "                                                    가사   좋아요수  \\\n",
       "995   겨울 오면은 우리 둘이서 항상 왔었던 바닷가 시린 바람과 하얀 파도는 예전 그대로...  12742   \n",
       "996   좋은 사람 만나 행복해야 해 너는 웃고 있지만 나는 웃을 수가 없는걸 그래 난 알...  18569   \n",
       "997   그때의 나는 너를 만나서 하나부터 열까지 모든 순간들이 소중했어 내 첫사랑 잊고 ...    925   \n",
       "998   다시 처음으로 돌아갈 수 있다면 아마 너를 사랑하는 일은 안했을텐데 그 날밤 그 ...  10416   \n",
       "999   이 동전 하나로 뭘 할 수 있을까 고민 고민하다가 나 혼자 이곳에 왔어 익숙한 번...  15260   \n",
       "\n",
       "                                                  앨범사진    songId    순위  \n",
       "995  https://cdnimg.melon.co.kr/cm/album/images/003...   1606413  1996  \n",
       "996  https://cdnimg.melon.co.kr/cm/album/images/012...   3426230  1997  \n",
       "997  https://cdnimg.melon.co.kr/cm2/album/images/10...  35145139  1998  \n",
       "998  https://cdnimg.melon.co.kr/cm/album/images/010...   2933662  1999  \n",
       "999  https://cdnimg.melon.co.kr/cm2/album/images/10...  32104350  2000  "
      ]
     },
     "execution_count": 25,
     "metadata": {},
     "output_type": "execute_result"
    }
   ],
   "source": [
    "ballad_1001_2000.tail()"
   ]
  },
  {
   "cell_type": "code",
   "execution_count": 26,
   "metadata": {},
   "outputs": [],
   "source": [
    "# ballad_1001_2000.to_csv(\"../Data/mel_bal_1001_2000.csv\")"
   ]
  },
  {
   "cell_type": "code",
   "execution_count": null,
   "metadata": {},
   "outputs": [],
   "source": []
  }
 ],
 "metadata": {
  "kernelspec": {
   "display_name": "Python 3.9.7 ('base')",
   "language": "python",
   "name": "python3"
  },
  "language_info": {
   "codemirror_mode": {
    "name": "ipython",
    "version": 3
   },
   "file_extension": ".py",
   "mimetype": "text/x-python",
   "name": "python",
   "nbconvert_exporter": "python",
   "pygments_lexer": "ipython3",
   "version": "3.9.7"
  },
  "orig_nbformat": 4,
  "vscode": {
   "interpreter": {
    "hash": "a077222d77dfe082b8f1dd562ad70e458ac2ab76993a0b248ab0476e32e9e8dd"
   }
  }
 },
 "nbformat": 4,
 "nbformat_minor": 2
}
