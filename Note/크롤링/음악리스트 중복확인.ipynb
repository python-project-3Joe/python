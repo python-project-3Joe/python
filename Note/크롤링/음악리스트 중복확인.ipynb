{
 "cells": [
  {
   "cell_type": "code",
   "execution_count": 2,
   "metadata": {},
   "outputs": [],
   "source": [
    "import pandas as pd"
   ]
  },
  {
   "cell_type": "code",
   "execution_count": 158,
   "metadata": {},
   "outputs": [],
   "source": [
    "ballad1000 = pd.read_csv(\"../../Data/ballad_Re_top1000.csv\")\n",
    "ballad2000 = pd.read_csv(\"../../Data/ballad_Re_top2000.csv\")"
   ]
  },
  {
   "cell_type": "code",
   "execution_count": 149,
   "metadata": {},
   "outputs": [
    {
     "data": {
      "text/html": [
       "<div>\n",
       "<style scoped>\n",
       "    .dataframe tbody tr th:only-of-type {\n",
       "        vertical-align: middle;\n",
       "    }\n",
       "\n",
       "    .dataframe tbody tr th {\n",
       "        vertical-align: top;\n",
       "    }\n",
       "\n",
       "    .dataframe thead th {\n",
       "        text-align: right;\n",
       "    }\n",
       "</style>\n",
       "<table border=\"1\" class=\"dataframe\">\n",
       "  <thead>\n",
       "    <tr style=\"text-align: right;\">\n",
       "      <th></th>\n",
       "      <th>가수명</th>\n",
       "      <th>노래제목</th>\n",
       "      <th>발매일</th>\n",
       "      <th>가사</th>\n",
       "      <th>좋아요수</th>\n",
       "      <th>앨범사진</th>\n",
       "      <th>songId</th>\n",
       "      <th>순위</th>\n",
       "    </tr>\n",
       "  </thead>\n",
       "  <tbody>\n",
       "    <tr>\n",
       "      <th>187</th>\n",
       "      <td>V.O.S</td>\n",
       "      <td>다시 만날까 봐</td>\n",
       "      <td>2019-09-01</td>\n",
       "      <td>인스타로 몰래 보는 너의 하루들 누가 봐도 헤어진 티를 내 팔로우 다 끊고서 좋아...</td>\n",
       "      <td>92360</td>\n",
       "      <td>https://cdnimg.melon.co.kr/cm2/album/images/10...</td>\n",
       "      <td>32021744</td>\n",
       "      <td>188</td>\n",
       "    </tr>\n",
       "    <tr>\n",
       "      <th>556</th>\n",
       "      <td>V.O.S</td>\n",
       "      <td>다시 만날까 봐</td>\n",
       "      <td>2022-04-14</td>\n",
       "      <td>인스타로 몰래 보는 너의 하루들 누가 봐도 헤어진 티를 내 팔로우 다 끊고서 좋아...</td>\n",
       "      <td>4809</td>\n",
       "      <td>https://cdnimg.melon.co.kr/cm2/album/images/10...</td>\n",
       "      <td>34890162</td>\n",
       "      <td>557</td>\n",
       "    </tr>\n",
       "  </tbody>\n",
       "</table>\n",
       "</div>"
      ],
      "text/plain": [
       "       가수명      노래제목         발매일  \\\n",
       "187  V.O.S  다시 만날까 봐  2019-09-01   \n",
       "556  V.O.S  다시 만날까 봐  2022-04-14   \n",
       "\n",
       "                                                    가사   좋아요수  \\\n",
       "187   인스타로 몰래 보는 너의 하루들 누가 봐도 헤어진 티를 내 팔로우 다 끊고서 좋아...  92360   \n",
       "556   인스타로 몰래 보는 너의 하루들 누가 봐도 헤어진 티를 내 팔로우 다 끊고서 좋아...   4809   \n",
       "\n",
       "                                                  앨범사진    songId   순위  \n",
       "187  https://cdnimg.melon.co.kr/cm2/album/images/10...  32021744  188  \n",
       "556  https://cdnimg.melon.co.kr/cm2/album/images/10...  34890162  557  "
      ]
     },
     "execution_count": 149,
     "metadata": {},
     "output_type": "execute_result"
    }
   ],
   "source": [
    "ballad1000[ballad1000['노래제목']=='다시 만날까 봐']"
   ]
  },
  {
   "cell_type": "code",
   "execution_count": 150,
   "metadata": {},
   "outputs": [
    {
     "data": {
      "text/html": [
       "<div>\n",
       "<style scoped>\n",
       "    .dataframe tbody tr th:only-of-type {\n",
       "        vertical-align: middle;\n",
       "    }\n",
       "\n",
       "    .dataframe tbody tr th {\n",
       "        vertical-align: top;\n",
       "    }\n",
       "\n",
       "    .dataframe thead th {\n",
       "        text-align: right;\n",
       "    }\n",
       "</style>\n",
       "<table border=\"1\" class=\"dataframe\">\n",
       "  <thead>\n",
       "    <tr style=\"text-align: right;\">\n",
       "      <th></th>\n",
       "      <th>가수명</th>\n",
       "      <th>노래제목</th>\n",
       "      <th>발매일</th>\n",
       "      <th>가사</th>\n",
       "      <th>좋아요수</th>\n",
       "      <th>앨범사진</th>\n",
       "      <th>songId</th>\n",
       "      <th>순위</th>\n",
       "    </tr>\n",
       "  </thead>\n",
       "  <tbody>\n",
       "    <tr>\n",
       "      <th>556</th>\n",
       "      <td>V.O.S</td>\n",
       "      <td>다시 만날까 봐</td>\n",
       "      <td>2022-04-14</td>\n",
       "      <td>인스타로 몰래 보는 너의 하루들 누가 봐도 헤어진 티를 내 팔로우 다 끊고서 좋아...</td>\n",
       "      <td>4809</td>\n",
       "      <td>https://cdnimg.melon.co.kr/cm2/album/images/10...</td>\n",
       "      <td>34890162</td>\n",
       "      <td>557</td>\n",
       "    </tr>\n",
       "    <tr>\n",
       "      <th>564</th>\n",
       "      <td>씨야</td>\n",
       "      <td>사랑의 인사</td>\n",
       "      <td>2007-05-25</td>\n",
       "      <td>비내리는 거릴 좋아 했었죠 우산없이 나와 함께 걸었죠 다시 내리는 비에 그대 생각...</td>\n",
       "      <td>19412</td>\n",
       "      <td>https://cdnimg.melon.co.kr/cm/album/images/003...</td>\n",
       "      <td>1645081</td>\n",
       "      <td>565</td>\n",
       "    </tr>\n",
       "    <tr>\n",
       "      <th>611</th>\n",
       "      <td>하동균</td>\n",
       "      <td>기다릴게</td>\n",
       "      <td>2011-08-04</td>\n",
       "      <td>한걸음 걸어가죠 니 모습 눈물에 가리죠 내 눈물 밟으며 가까이 가까이 다가오는 너...</td>\n",
       "      <td>87981</td>\n",
       "      <td>https://cdnimg.melon.co.kr/cm/album/images/020...</td>\n",
       "      <td>3520616</td>\n",
       "      <td>612</td>\n",
       "    </tr>\n",
       "    <tr>\n",
       "      <th>647</th>\n",
       "      <td>김동률</td>\n",
       "      <td>다시 사랑한다 말할까</td>\n",
       "      <td>2001-10-26</td>\n",
       "      <td>마치 어제 만난 것처럼 잘있었냔 인사가 무색할 만큼 괜한 우려였는지 서먹한 내가 ...</td>\n",
       "      <td>50066</td>\n",
       "      <td>https://cdnimg.melon.co.kr/cm/album/images/000...</td>\n",
       "      <td>111209</td>\n",
       "      <td>648</td>\n",
       "    </tr>\n",
       "    <tr>\n",
       "      <th>715</th>\n",
       "      <td>Sondia</td>\n",
       "      <td>어른</td>\n",
       "      <td>2018-05-18</td>\n",
       "      <td>고단한 하루 끝에 떨구는 눈물 난 어디를 향해 가는 걸까 아플 만큼 아팠다 생각했...</td>\n",
       "      <td>36348</td>\n",
       "      <td>https://cdnimg.melon.co.kr/cm/album/images/101...</td>\n",
       "      <td>31083514</td>\n",
       "      <td>716</td>\n",
       "    </tr>\n",
       "    <tr>\n",
       "      <th>780</th>\n",
       "      <td>왁스</td>\n",
       "      <td>화장을 고치고</td>\n",
       "      <td>2001-08-09</td>\n",
       "      <td>우연히 날 찾아와 사랑만 남기고 간 너  하루가 지나 몇 해가 흘러도  아무 소식...</td>\n",
       "      <td>27786</td>\n",
       "      <td>https://cdnimg.melon.co.kr/cm/album/images/000...</td>\n",
       "      <td>26378</td>\n",
       "      <td>781</td>\n",
       "    </tr>\n",
       "    <tr>\n",
       "      <th>849</th>\n",
       "      <td>어쿠스틱 콜라보</td>\n",
       "      <td>너무 보고싶어</td>\n",
       "      <td>2014-09-18</td>\n",
       "      <td>혼자 이별을 하고 가버리면 난 어떡하라고 너 없는 하루를 살아보고 너 없는 채로 ...</td>\n",
       "      <td>109772</td>\n",
       "      <td>https://cdnimg.melon.co.kr/cm/album/images/022...</td>\n",
       "      <td>5386171</td>\n",
       "      <td>850</td>\n",
       "    </tr>\n",
       "    <tr>\n",
       "      <th>898</th>\n",
       "      <td>씨야</td>\n",
       "      <td>여인의 향기</td>\n",
       "      <td>2006-02-22</td>\n",
       "      <td>잘 지내 보여요 그대 얼굴은 날 잊고 잘 사는 듯 하죠 그런 그대가 얼마나 미운지...</td>\n",
       "      <td>11000</td>\n",
       "      <td>https://cdnimg.melon.co.kr/cm/album/images/003...</td>\n",
       "      <td>1114170</td>\n",
       "      <td>899</td>\n",
       "    </tr>\n",
       "    <tr>\n",
       "      <th>966</th>\n",
       "      <td>백지영</td>\n",
       "      <td>사랑안해</td>\n",
       "      <td>2006-03-30</td>\n",
       "      <td>그럴려고 그랬어 돌아가려고 너의 차가움엔 그래 다 이유 있었던거야 나를 만지는 너...</td>\n",
       "      <td>25038</td>\n",
       "      <td>https://cdnimg.melon.co.kr/cm/album/images/003...</td>\n",
       "      <td>1135163</td>\n",
       "      <td>967</td>\n",
       "    </tr>\n",
       "    <tr>\n",
       "      <th>979</th>\n",
       "      <td>딘딘 (DINDIN)</td>\n",
       "      <td>이러면 안 될 거 아는데 너 앞에만 서면 나락 (Feat. 10CM)</td>\n",
       "      <td>2021-11-19</td>\n",
       "      <td>이러면 안 될 거 아는데 너 앞에만 서면 나락 이러면 안 될 거 아는데 너 앞에만...</td>\n",
       "      <td>3559</td>\n",
       "      <td>https://cdnimg.melon.co.kr/cm2/album/images/10...</td>\n",
       "      <td>34297402</td>\n",
       "      <td>980</td>\n",
       "    </tr>\n",
       "    <tr>\n",
       "      <th>998</th>\n",
       "      <td>쿨 (COOL)</td>\n",
       "      <td>아로하</td>\n",
       "      <td>2001-12-06</td>\n",
       "      <td>어두운 불빛 아래 촛불 하나 와인 잔에 담긴 약속 하나 항상 너의 곁에서 널 지켜...</td>\n",
       "      <td>35339</td>\n",
       "      <td>https://cdnimg.melon.co.kr/cm/album/images/000...</td>\n",
       "      <td>103858</td>\n",
       "      <td>999</td>\n",
       "    </tr>\n",
       "  </tbody>\n",
       "</table>\n",
       "</div>"
      ],
      "text/plain": [
       "             가수명                                    노래제목         발매일  \\\n",
       "556        V.O.S                                다시 만날까 봐  2022-04-14   \n",
       "564           씨야                                  사랑의 인사  2007-05-25   \n",
       "611          하동균                                    기다릴게  2011-08-04   \n",
       "647          김동률                             다시 사랑한다 말할까  2001-10-26   \n",
       "715       Sondia                                      어른  2018-05-18   \n",
       "780           왁스                                 화장을 고치고  2001-08-09   \n",
       "849     어쿠스틱 콜라보                                 너무 보고싶어  2014-09-18   \n",
       "898           씨야                                  여인의 향기  2006-02-22   \n",
       "966          백지영                                    사랑안해  2006-03-30   \n",
       "979  딘딘 (DINDIN)  이러면 안 될 거 아는데 너 앞에만 서면 나락 (Feat. 10CM)  2021-11-19   \n",
       "998     쿨 (COOL)                                     아로하  2001-12-06   \n",
       "\n",
       "                                                    가사    좋아요수  \\\n",
       "556   인스타로 몰래 보는 너의 하루들 누가 봐도 헤어진 티를 내 팔로우 다 끊고서 좋아...    4809   \n",
       "564   비내리는 거릴 좋아 했었죠 우산없이 나와 함께 걸었죠 다시 내리는 비에 그대 생각...   19412   \n",
       "611   한걸음 걸어가죠 니 모습 눈물에 가리죠 내 눈물 밟으며 가까이 가까이 다가오는 너...   87981   \n",
       "647   마치 어제 만난 것처럼 잘있었냔 인사가 무색할 만큼 괜한 우려였는지 서먹한 내가 ...   50066   \n",
       "715   고단한 하루 끝에 떨구는 눈물 난 어디를 향해 가는 걸까 아플 만큼 아팠다 생각했...   36348   \n",
       "780   우연히 날 찾아와 사랑만 남기고 간 너  하루가 지나 몇 해가 흘러도  아무 소식...   27786   \n",
       "849   혼자 이별을 하고 가버리면 난 어떡하라고 너 없는 하루를 살아보고 너 없는 채로 ...  109772   \n",
       "898   잘 지내 보여요 그대 얼굴은 날 잊고 잘 사는 듯 하죠 그런 그대가 얼마나 미운지...   11000   \n",
       "966   그럴려고 그랬어 돌아가려고 너의 차가움엔 그래 다 이유 있었던거야 나를 만지는 너...   25038   \n",
       "979   이러면 안 될 거 아는데 너 앞에만 서면 나락 이러면 안 될 거 아는데 너 앞에만...    3559   \n",
       "998   어두운 불빛 아래 촛불 하나 와인 잔에 담긴 약속 하나 항상 너의 곁에서 널 지켜...   35339   \n",
       "\n",
       "                                                  앨범사진    songId   순위  \n",
       "556  https://cdnimg.melon.co.kr/cm2/album/images/10...  34890162  557  \n",
       "564  https://cdnimg.melon.co.kr/cm/album/images/003...   1645081  565  \n",
       "611  https://cdnimg.melon.co.kr/cm/album/images/020...   3520616  612  \n",
       "647  https://cdnimg.melon.co.kr/cm/album/images/000...    111209  648  \n",
       "715  https://cdnimg.melon.co.kr/cm/album/images/101...  31083514  716  \n",
       "780  https://cdnimg.melon.co.kr/cm/album/images/000...     26378  781  \n",
       "849  https://cdnimg.melon.co.kr/cm/album/images/022...   5386171  850  \n",
       "898  https://cdnimg.melon.co.kr/cm/album/images/003...   1114170  899  \n",
       "966  https://cdnimg.melon.co.kr/cm/album/images/003...   1135163  967  \n",
       "979  https://cdnimg.melon.co.kr/cm2/album/images/10...  34297402  980  \n",
       "998  https://cdnimg.melon.co.kr/cm/album/images/000...    103858  999  "
      ]
     },
     "execution_count": 150,
     "metadata": {},
     "output_type": "execute_result"
    }
   ],
   "source": [
    "ballad1000[ballad1000.duplicated(subset=['노래제목',\"가수명\"])]"
   ]
  },
  {
   "cell_type": "code",
   "execution_count": null,
   "metadata": {},
   "outputs": [],
   "source": [
    "ballad2000[ballad2000.duplicated(subset=['노래제목',\"가수명\"])]"
   ]
  },
  {
   "cell_type": "code",
   "execution_count": 156,
   "metadata": {},
   "outputs": [
    {
     "ename": "SyntaxError",
     "evalue": "EOL while scanning string literal (2797711096.py, line 1)",
     "output_type": "error",
     "traceback": [
      "\u001b[0;36m  Input \u001b[0;32mIn [156]\u001b[0;36m\u001b[0m\n\u001b[0;31m    ballad1000plicates(subset= ['가수명','노래제목'], keep = firs', in[]p, inplace=True\u001b[0m\n\u001b[0m                                                                                ^\u001b[0m\n\u001b[0;31mSyntaxError\u001b[0m\u001b[0;31m:\u001b[0m EOL while scanning string literal\n"
     ]
    }
   ],
   "source": [
    "ballad1000.drop_duplicates(subset= ['가수명','노래제목'],keep='first', inplace=True)\n",
    "len(ballad1000)"
   ]
  },
  {
   "cell_type": "code",
   "execution_count": null,
   "metadata": {},
   "outputs": [],
   "source": [
    "ballad000 = ballad2000.drop_duplicates(subset= ['가수명','노래제목'], keep = 'first')"
   ]
  },
  {
   "cell_type": "code",
   "execution_count": null,
   "metadata": {},
   "outputs": [],
   "source": [
    "len(ballad1000['노래제목'])"
   ]
  },
  {
   "cell_type": "code",
   "execution_count": null,
   "metadata": {},
   "outputs": [],
   "source": [
    "len(ballad2000['노래제목'])"
   ]
  },
  {
   "cell_type": "code",
   "execution_count": null,
   "metadata": {},
   "outputs": [],
   "source": [
    "# dataset top1000과 dataset top1001~2000의 중복값 확인 => 낮은 순위에서 제거(top1001~2000)\n",
    "ballad2000[ballad2000['songId'].isin(ballad1000['songId'])]"
   ]
  },
  {
   "cell_type": "markdown",
   "metadata": {},
   "source": [
    "### dataset top1000과 dataset top1001~2000의 중복값 제거"
   ]
  },
  {
   "cell_type": "code",
   "execution_count": null,
   "metadata": {},
   "outputs": [],
   "source": [
    "# 중복 index 리스트로 만들기\n",
    "drop_list = ballad2000[ballad2000['songId'].isin(ballad1000['songId'])].index\n",
    "# 중복값 drop\n",
    "ballad2000.drop(drop_list, inplace=True)\n",
    "# 중복확인\n",
    "ballad2000[ballad2000['songId'].isin(ballad1000['songId'])]"
   ]
  },
  {
   "cell_type": "code",
   "execution_count": null,
   "metadata": {},
   "outputs": [],
   "source": [
    "len(ballad2000['노래제목'])"
   ]
  },
  {
   "cell_type": "code",
   "execution_count": null,
   "metadata": {},
   "outputs": [],
   "source": [
    "ballad = pd.concat([ballad1000,ballad2000], axis=0, ignore_index=True)"
   ]
  },
  {
   "cell_type": "code",
   "execution_count": null,
   "metadata": {},
   "outputs": [],
   "source": [
    "ballad.to_csv(\"../../Data/melon.csv\", index=None)"
   ]
  },
  {
   "cell_type": "code",
   "execution_count": 6,
   "metadata": {},
   "outputs": [
    {
     "name": "stdout",
     "output_type": "stream",
     "text": [
      "<class 'pandas.core.frame.DataFrame'>\n",
      "RangeIndex: 1913 entries, 0 to 1912\n",
      "Data columns (total 8 columns):\n",
      " #   Column  Non-Null Count  Dtype \n",
      "---  ------  --------------  ----- \n",
      " 0   가수명     1913 non-null   object\n",
      " 1   노래제목    1913 non-null   object\n",
      " 2   발매일     1913 non-null   object\n",
      " 3   가사      1913 non-null   object\n",
      " 4   좋아요수    1913 non-null   object\n",
      " 5   앨범사진    1913 non-null   object\n",
      " 6   songId  1913 non-null   int64 \n",
      " 7   순위      1913 non-null   int64 \n",
      "dtypes: int64(2), object(6)\n",
      "memory usage: 119.7+ KB\n"
     ]
    }
   ],
   "source": [
    "pd.read_csv(\"../../Data/ballad_test.csv\").info()"
   ]
  },
  {
   "cell_type": "code",
   "execution_count": null,
   "metadata": {},
   "outputs": [],
   "source": []
  }
 ],
 "metadata": {
  "kernelspec": {
   "display_name": "Python 3.8.9 64-bit",
   "language": "python",
   "name": "python3"
  },
  "language_info": {
   "codemirror_mode": {
    "name": "ipython",
    "version": 3
   },
   "file_extension": ".py",
   "mimetype": "text/x-python",
   "name": "python",
   "nbconvert_exporter": "python",
   "pygments_lexer": "ipython3",
   "version": "3.8.9"
  },
  "orig_nbformat": 4,
  "vscode": {
   "interpreter": {
    "hash": "31f2aee4e71d21fbe5cf8b01ff0e069b9275f58929596ceb00d14d90e3e16cd6"
   }
  }
 },
 "nbformat": 4,
 "nbformat_minor": 2
}
