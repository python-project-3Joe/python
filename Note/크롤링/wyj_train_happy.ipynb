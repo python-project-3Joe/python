{
 "cells": [
  {
   "cell_type": "code",
   "execution_count": null,
   "metadata": {},
   "outputs": [],
   "source": [
    "https://www.melon.com/mymusic/dj/mymusicdjplaylistview_inform.htm?plylstSeq=509813020"
   ]
  },
  {
   "cell_type": "code",
   "execution_count": 1,
   "metadata": {},
   "outputs": [],
   "source": [
    "from selenium import webdriver\n",
    "from selenium.webdriver.chrome.service import Service\n",
    "from webdriver_manager.chrome import ChromeDriverManager\n",
    "from selenium.webdriver.common.by import By\n",
    "from bs4 import BeautifulSoup\n",
    "import urllib.request as request\n",
    "\n",
    "from selenium.webdriver.chrome.options import Options"
   ]
  },
  {
   "cell_type": "code",
   "execution_count": 2,
   "metadata": {},
   "outputs": [
    {
     "name": "stdout",
     "output_type": "stream",
     "text": [
      "Mozilla/5.0 (Macintosh; Intel Mac OS X 10_9_0) AppleWebKit/537.36 (KHTML, like Gecko) Chrome/32.0.1664.3 Safari/537.36\n"
     ]
    }
   ],
   "source": [
    "options = Options()\n",
    "ua = UserAgent(verify_ssl=False)\n",
    "userAgent = ua.random\n",
    "print(userAgent)"
   ]
  },
  {
   "cell_type": "code",
   "execution_count": 3,
   "metadata": {},
   "outputs": [
    {
     "name": "stdout",
     "output_type": "stream",
     "text": [
      "\n"
     ]
    },
    {
     "name": "stderr",
     "output_type": "stream",
     "text": [
      "[WDM] - ====== WebDriver manager ======\n",
      "[WDM] - Current google-chrome version is 103.0.5060\n",
      "[WDM] - Get LATEST chromedriver version for 103.0.5060 google-chrome\n",
      "[WDM] - Driver [/Users/tj/.wdm/drivers/chromedriver/mac64/103.0.5060.134/chromedriver] found in cache\n"
     ]
    }
   ],
   "source": [
    "options.add_argument(f'user-agent={userAgent}')\n",
    "# chrome_options = webdriver.ChromeOptions()\n",
    "driver = webdriver.Chrome(service=Service(ChromeDriverManager().install()), options=options)\n",
    "driver.get('https://www.melon.com/mymusic/dj/mymusicdjplaylistview_inform.htm?plylstSeq=509813020')"
   ]
  },
  {
   "cell_type": "code",
   "execution_count": 4,
   "metadata": {},
   "outputs": [],
   "source": [
    "page_source = driver.page_source\n",
    "soup = BeautifulSoup(page_source, \"html.parser\")"
   ]
  },
  {
   "cell_type": "code",
   "execution_count": 5,
   "metadata": {},
   "outputs": [
    {
     "name": "stdout",
     "output_type": "stream",
     "text": [
      "\n"
     ]
    },
    {
     "name": "stderr",
     "output_type": "stream",
     "text": [
      "[WDM] - ====== WebDriver manager ======\n",
      "[WDM] - Current google-chrome version is 103.0.5060\n",
      "[WDM] - Get LATEST chromedriver version for 103.0.5060 google-chrome\n",
      "[WDM] - Driver [/Users/tj/.wdm/drivers/chromedriver/mac64/103.0.5060.134/chromedriver] found in cache\n"
     ]
    }
   ],
   "source": [
    "import time\n",
    "\n",
    "total_lists = []\n",
    "\n",
    "driver = webdriver.Chrome(service=Service(ChromeDriverManager().install()), options=options)\n",
    "driver.get('https://www.melon.com/mymusic/dj/mymusicdjplaylistview_inform.htm?plylstSeq=509813020')\n",
    "\n",
    "time.sleep(1)\n",
    "\n",
    "page_source = driver.page_source\n",
    "soup = BeautifulSoup(page_source, \"html.parser\")\n",
    "\n",
    "time.sleep(1)\n",
    "\n",
    "songIds = soup.select(\"#frm > div > table > tbody td:nth-child(4) > div > a\")\n",
    "total_lists = total_lists + songIds\n",
    "\n",
    "time.sleep(1)"
   ]
  },
  {
   "cell_type": "code",
   "execution_count": 6,
   "metadata": {},
   "outputs": [],
   "source": [
    "test = []\n",
    "for i in range(len(total_lists)):\n",
    "    test.append(total_lists[i]['href'])"
   ]
  },
  {
   "cell_type": "code",
   "execution_count": 7,
   "metadata": {},
   "outputs": [],
   "source": [
    "test1 = []\n",
    "for i in range(len(test)):\n",
    "    test1.append(str(test[i]).split('.')[2].split(\"(\")[1].split(\")\")[0])"
   ]
  },
  {
   "cell_type": "code",
   "execution_count": 8,
   "metadata": {},
   "outputs": [],
   "source": [
    "test2 = []\n",
    "for i in range(len(test1)):\n",
    "    test2.append(str(test1[i]).strip(\"''\"))"
   ]
  },
  {
   "cell_type": "code",
   "execution_count": 9,
   "metadata": {},
   "outputs": [
    {
     "data": {
      "text/plain": [
       "['9619959',\n",
       " '33646995',\n",
       " '30859584',\n",
       " '30829858',\n",
       " '33331004',\n",
       " '34632361',\n",
       " '30968137',\n",
       " '4793898',\n",
       " '3946867',\n",
       " '32909167',\n",
       " '33462463',\n",
       " '30244931',\n",
       " '31134339',\n",
       " '32450201',\n",
       " '34061322',\n",
       " '34662306',\n",
       " '31385179',\n",
       " '30568339',\n",
       " '33978183',\n",
       " '34291697',\n",
       " '4074795',\n",
       " '34875621',\n",
       " '33061995',\n",
       " '33011180',\n",
       " '33868791',\n",
       " '31006730',\n",
       " '33699116',\n",
       " '4433490',\n",
       " '33347390',\n",
       " '8102386',\n",
       " '32003395',\n",
       " '31151837',\n",
       " '33691794',\n",
       " '32158792',\n",
       " '32665410',\n",
       " '30514366',\n",
       " '30176582',\n",
       " '34657844',\n",
       " '7872762',\n",
       " '30657307',\n",
       " '34256656',\n",
       " '34373632',\n",
       " '5650996']"
      ]
     },
     "execution_count": 9,
     "metadata": {},
     "output_type": "execute_result"
    }
   ],
   "source": [
    "test2"
   ]
  },
  {
   "cell_type": "code",
   "execution_count": 10,
   "metadata": {},
   "outputs": [],
   "source": [
    "# 가수명, 노래제목, 발매일, 가사, 좋아요 수 리스트 변수 생성\n",
    "\n",
    "singer_list = []\n",
    "singName_list = []\n",
    "date_list = []\n",
    "genre_list = []\n",
    "lyrics_list = []\n",
    "like_list = []"
   ]
  },
  {
   "cell_type": "code",
   "execution_count": 11,
   "metadata": {},
   "outputs": [
    {
     "name": "stdout",
     "output_type": "stream",
     "text": [
      "\n"
     ]
    },
    {
     "name": "stderr",
     "output_type": "stream",
     "text": [
      "[WDM] - ====== WebDriver manager ======\n",
      "[WDM] - Current google-chrome version is 103.0.5060\n",
      "[WDM] - Get LATEST chromedriver version for 103.0.5060 google-chrome\n",
      "[WDM] - Driver [/Users/tj/.wdm/drivers/chromedriver/mac64/103.0.5060.134/chromedriver] found in cache\n"
     ]
    }
   ],
   "source": [
    "# for문으로 가수명, 노래제목, 발매일, 가사, 좋아요 수 리스트 변수에 내용 담고 저장하기\n",
    "\n",
    "chrome_options = webdriver.ChromeOptions()\n",
    "driver = webdriver.Chrome(service=Service(ChromeDriverManager().install()), options=chrome_options)\n",
    "\n",
    "for songId in test2:\n",
    "    \n",
    "    driver.get(f'https://www.melon.com/song/detail.htm?songId={songId}')\n",
    "\n",
    "    page_source = driver.page_source\n",
    "    soup = BeautifulSoup(page_source, \"html.parser\")\n",
    "\n",
    "    time.sleep(2)\n",
    "\n",
    "    try:\n",
    "    \n",
    "        # 가수명 가져오기\n",
    "        artist_name = soup.select_one('#downloadfrm > div > div > div.entry > div.info > div.artist > a > span:nth-child(1) ')\n",
    "        singer_list.append(artist_name.string)\n",
    "\n",
    "        # 노래제목 가져오기\n",
    "        song_name = soup.select_one(\"#downloadfrm > div > div > div.entry > div.info > div.song_name \")\n",
    "        singName_list.append(song_name.text.strip().split('\\n\\t\\t\\t\\t\\t\\t\\t\\n\\t\\t\\t\\t\\t\\t\\t\\n\\t\\t\\t\\t\\t\\t\\t\\n\\t\\t\\t\\t\\t\\t\\t\\n\\t\\t\\t\\t\\t\\t\\t')[1])\n",
    "\n",
    "        # 발매일 가져오기\n",
    "        date = soup.select_one('#downloadfrm > div > div > div.entry > div.meta > dl > dd:nth-child(4)')\n",
    "        date_list.append(date.string)\n",
    "\n",
    "        # 장르 가져오기\n",
    "        genre = soup.select_one('#downloadfrm > div > div > div.entry > div.meta > dl > dd:nth-child(6)')\n",
    "        genre_list.append(genre.string)\n",
    "\n",
    "        # 가사 가져오기\n",
    "        lyric = str(soup.select_one('#d_video_summary')).replace('<br/>', ' ').replace(\n",
    "            '<div class=\"lyric\" id=\"d_video_summary\"><!-- height:auto; 로 변경시, 확장됨 -->', '').replace('</div>', '').replace('\\t', '').replace('\\n', '')\n",
    "        lyric = lyric.replace('  ', ' ')\n",
    "        lyrics_list.append(lyric)\n",
    "\n",
    "        # 좋아요수 가져오기\n",
    "        like = soup.select_one(\"#d_like_count\")\n",
    "        like_list.append(like.text)\n",
    "\n",
    "        time.sleep(2)\n",
    "    except:\n",
    "        singer_list.append(0)\n",
    "        singName_list.append(0)\n",
    "        date_list.append(0)\n",
    "        lyrics_list.append(0)\n",
    "        like_list.append(0)\n",
    "\n",
    "        time.sleep(1)"
   ]
  },
  {
   "cell_type": "code",
   "execution_count": 12,
   "metadata": {},
   "outputs": [],
   "source": [
    "ballad = {'가수명':singer_list, '노래제목':singName_list, '발매일':date_list, '장르':genre_list, '가사':lyrics_list, '좋아요수':like_list}"
   ]
  },
  {
   "cell_type": "code",
   "execution_count": 13,
   "metadata": {},
   "outputs": [],
   "source": [
    "import pandas as pd"
   ]
  },
  {
   "cell_type": "code",
   "execution_count": 14,
   "metadata": {},
   "outputs": [
    {
     "data": {
      "text/html": [
       "<div>\n",
       "<style scoped>\n",
       "    .dataframe tbody tr th:only-of-type {\n",
       "        vertical-align: middle;\n",
       "    }\n",
       "\n",
       "    .dataframe tbody tr th {\n",
       "        vertical-align: top;\n",
       "    }\n",
       "\n",
       "    .dataframe thead th {\n",
       "        text-align: right;\n",
       "    }\n",
       "</style>\n",
       "<table border=\"1\" class=\"dataframe\">\n",
       "  <thead>\n",
       "    <tr style=\"text-align: right;\">\n",
       "      <th></th>\n",
       "      <th>가수명</th>\n",
       "      <th>노래제목</th>\n",
       "      <th>발매일</th>\n",
       "      <th>장르</th>\n",
       "      <th>가사</th>\n",
       "      <th>좋아요수</th>\n",
       "    </tr>\n",
       "  </thead>\n",
       "  <tbody>\n",
       "    <tr>\n",
       "      <th>0</th>\n",
       "      <td>로꼬</td>\n",
       "      <td>Say Yes</td>\n",
       "      <td>2016.08.29</td>\n",
       "      <td>발라드, 국내드라마</td>\n",
       "      <td>니 눈앞에 왔잖아 내가 여기 있잖아 너의 입술로 말을 해줘 say yes say y...</td>\n",
       "      <td>89,514</td>\n",
       "    </tr>\n",
       "    <tr>\n",
       "      <th>1</th>\n",
       "      <td>San E</td>\n",
       "      <td>한여름밤의 꿀 : 다시 여름</td>\n",
       "      <td>2021.07.05</td>\n",
       "      <td>랩/힙합</td>\n",
       "      <td>무더운 밤 잠은 오지 않고 이런저런 생각에 불러본 너 나올 줄 몰랐어 간지러운 바람...</td>\n",
       "      <td>19,103</td>\n",
       "    </tr>\n",
       "    <tr>\n",
       "      <th>2</th>\n",
       "      <td>iKON</td>\n",
       "      <td>사랑을 했다 (LOVE SCENARIO)</td>\n",
       "      <td>2018.01.25</td>\n",
       "      <td>랩/힙합</td>\n",
       "      <td>사랑을 했다 우리가 만나 지우지 못할 추억이 됐다 볼만한 멜로드라마 괜찮은 결말 그...</td>\n",
       "      <td>323,203</td>\n",
       "    </tr>\n",
       "    <tr>\n",
       "      <th>3</th>\n",
       "      <td>볼빨간사춘기</td>\n",
       "      <td>#첫사랑</td>\n",
       "      <td>2018.01.10</td>\n",
       "      <td>인디음악, 포크/블루스</td>\n",
       "      <td>어릴 때 넌 키도 작고 빼빼 말랐지 기억나 난 knock 그런 니가 괜히 맘에 들어...</td>\n",
       "      <td>126,849</td>\n",
       "    </tr>\n",
       "    <tr>\n",
       "      <th>4</th>\n",
       "      <td>양요섭</td>\n",
       "      <td>LOVE DAY (2021) (바른연애 길잡이 X 양요섭, 정은지)</td>\n",
       "      <td>2021.03.05</td>\n",
       "      <td>댄스</td>\n",
       "      <td>참 많이 궁금해 전부 다 궁금해 왜 잠이 안 오고 네 얼굴만 보여 나도 궁금해 이 ...</td>\n",
       "      <td>113,055</td>\n",
       "    </tr>\n",
       "  </tbody>\n",
       "</table>\n",
       "</div>"
      ],
      "text/plain": [
       "      가수명                                   노래제목         발매일            장르  \\\n",
       "0      로꼬                                Say Yes  2016.08.29    발라드, 국내드라마   \n",
       "1   San E                        한여름밤의 꿀 : 다시 여름  2021.07.05          랩/힙합   \n",
       "2    iKON                 사랑을 했다 (LOVE SCENARIO)  2018.01.25          랩/힙합   \n",
       "3  볼빨간사춘기                                   #첫사랑  2018.01.10  인디음악, 포크/블루스   \n",
       "4     양요섭  LOVE DAY (2021) (바른연애 길잡이 X 양요섭, 정은지)  2021.03.05            댄스   \n",
       "\n",
       "                                                  가사     좋아요수  \n",
       "0  니 눈앞에 왔잖아 내가 여기 있잖아 너의 입술로 말을 해줘 say yes say y...   89,514  \n",
       "1  무더운 밤 잠은 오지 않고 이런저런 생각에 불러본 너 나올 줄 몰랐어 간지러운 바람...   19,103  \n",
       "2  사랑을 했다 우리가 만나 지우지 못할 추억이 됐다 볼만한 멜로드라마 괜찮은 결말 그...  323,203  \n",
       "3  어릴 때 넌 키도 작고 빼빼 말랐지 기억나 난 knock 그런 니가 괜히 맘에 들어...  126,849  \n",
       "4  참 많이 궁금해 전부 다 궁금해 왜 잠이 안 오고 네 얼굴만 보여 나도 궁금해 이 ...  113,055  "
      ]
     },
     "execution_count": 14,
     "metadata": {},
     "output_type": "execute_result"
    }
   ],
   "source": [
    "ballad_happy_add= pd.DataFrame(ballad)\n",
    "ballad_happy_add.head()"
   ]
  },
  {
   "cell_type": "code",
   "execution_count": 15,
   "metadata": {},
   "outputs": [
    {
     "data": {
      "text/plain": [
       "array(['발라드, 국내드라마', '랩/힙합', '인디음악, 포크/블루스', '댄스', '록/메탈, 국내드라마',\n",
       "       '포크/블루스', '국내드라마', '발라드', 'R&B/Soul, 인디음악', '인디음악, 일렉트로니카',\n",
       "       'R&B/Soul', '발라드, 인디음악', '록/메탈', '발라드, 랩/힙합, 국내드라마'], dtype=object)"
      ]
     },
     "execution_count": 15,
     "metadata": {},
     "output_type": "execute_result"
    }
   ],
   "source": [
    "ballad_happy_add.장르.unique()"
   ]
  },
  {
   "cell_type": "code",
   "execution_count": 16,
   "metadata": {},
   "outputs": [],
   "source": [
    "list = ['발라드, 국내드라마','발라드, 인디음악','발라드']\n",
    "ballad_happy_add = ballad_happy_add[ballad_happy_add['장르'].isin(list)]"
   ]
  },
  {
   "cell_type": "code",
   "execution_count": 17,
   "metadata": {},
   "outputs": [],
   "source": [
    "ballad_happy_add.reset_index(drop=True, inplace=True)"
   ]
  },
  {
   "cell_type": "code",
   "execution_count": 18,
   "metadata": {},
   "outputs": [],
   "source": [
    "ballad_happy_add['좋아요수'] = ballad_happy_add['좋아요수'].str.replace(',','')"
   ]
  },
  {
   "cell_type": "code",
   "execution_count": 19,
   "metadata": {},
   "outputs": [
    {
     "name": "stderr",
     "output_type": "stream",
     "text": [
      "/var/folders/51/xmc_l6t13wv1nc5z6qmyg58r0000gn/T/ipykernel_7033/2960498232.py:1: FutureWarning: The default value of regex will change from True to False in a future version. In addition, single character regular expressions will *not* be treated as literal strings when regex=True.\n",
      "  ballad_happy_add['발매일'] = ballad_happy_add['발매일'].str.replace('.', '-')\n"
     ]
    }
   ],
   "source": [
    "ballad_happy_add['발매일'] = ballad_happy_add['발매일'].str.replace('.', '-')"
   ]
  },
  {
   "cell_type": "code",
   "execution_count": 20,
   "metadata": {},
   "outputs": [],
   "source": [
    "ballad_happy_add['발매일'] = pd.to_datetime(ballad_happy_add['발매일'])"
   ]
  },
  {
   "cell_type": "code",
   "execution_count": 21,
   "metadata": {},
   "outputs": [],
   "source": [
    "ballad_happy_add.drop(columns='장르',inplace=True)"
   ]
  },
  {
   "cell_type": "code",
   "execution_count": 22,
   "metadata": {},
   "outputs": [],
   "source": [
    "ballad_happy_add.to_csv(\"../Data/ballad_happy_add.csv\",index=False)"
   ]
  },
  {
   "cell_type": "code",
   "execution_count": 23,
   "metadata": {},
   "outputs": [],
   "source": [
    "ballad_happy_add =pd.read_csv(\"../Data/ballad_happy_add.csv\")"
   ]
  },
  {
   "cell_type": "code",
   "execution_count": 24,
   "metadata": {},
   "outputs": [
    {
     "data": {
      "text/plain": [
       "18"
      ]
     },
     "execution_count": 24,
     "metadata": {},
     "output_type": "execute_result"
    }
   ],
   "source": [
    "len(ballad_happy_add)"
   ]
  },
  {
   "cell_type": "code",
   "execution_count": 25,
   "metadata": {},
   "outputs": [
    {
     "data": {
      "text/html": [
       "<div>\n",
       "<style scoped>\n",
       "    .dataframe tbody tr th:only-of-type {\n",
       "        vertical-align: middle;\n",
       "    }\n",
       "\n",
       "    .dataframe tbody tr th {\n",
       "        vertical-align: top;\n",
       "    }\n",
       "\n",
       "    .dataframe thead th {\n",
       "        text-align: right;\n",
       "    }\n",
       "</style>\n",
       "<table border=\"1\" class=\"dataframe\">\n",
       "  <thead>\n",
       "    <tr style=\"text-align: right;\">\n",
       "      <th></th>\n",
       "      <th>가수명</th>\n",
       "      <th>노래제목</th>\n",
       "      <th>발매일</th>\n",
       "      <th>가사</th>\n",
       "      <th>좋아요수</th>\n",
       "    </tr>\n",
       "  </thead>\n",
       "  <tbody>\n",
       "    <tr>\n",
       "      <th>0</th>\n",
       "      <td>로꼬</td>\n",
       "      <td>Say Yes</td>\n",
       "      <td>2016-08-29</td>\n",
       "      <td>니 눈앞에 왔잖아 내가 여기 있잖아 너의 입술로 말을 해줘 say yes say y...</td>\n",
       "      <td>89514</td>\n",
       "    </tr>\n",
       "    <tr>\n",
       "      <th>1</th>\n",
       "      <td>긱스 (Geeks)</td>\n",
       "      <td>Officially Missing You, Too</td>\n",
       "      <td>2012-11-01</td>\n",
       "      <td>애써 너에게 건냈던 말 good bye 이젠 혼자 남게된 이 밤 without yo...</td>\n",
       "      <td>123533</td>\n",
       "    </tr>\n",
       "    <tr>\n",
       "      <th>2</th>\n",
       "      <td>임영웅</td>\n",
       "      <td>사랑은 늘 도망가</td>\n",
       "      <td>2021-10-11</td>\n",
       "      <td>눈물이 난다 이 길을 걸으면 그 사람 손길이 자꾸 생각이 난다 붙잡지 못하고 가슴만...</td>\n",
       "      <td>169379</td>\n",
       "    </tr>\n",
       "    <tr>\n",
       "      <th>3</th>\n",
       "      <td>비비 (BIBI)</td>\n",
       "      <td>아주, 천천히</td>\n",
       "      <td>2022-02-20</td>\n",
       "      <td>눈빛만으로 알 수가 있지 어떤 세상을 살아왔는지 처음 내민 너의 따뜻한 손길에 내 ...</td>\n",
       "      <td>35147</td>\n",
       "    </tr>\n",
       "    <tr>\n",
       "      <th>4</th>\n",
       "      <td>정승환</td>\n",
       "      <td>푸르른 계절도 내겐 의미 없어요</td>\n",
       "      <td>2021-11-21</td>\n",
       "      <td>한동안 잘 지냈어요 초조한 것도 없었죠 그대와 듣던 노래들 왠지 더 슬프게 들려 음...</td>\n",
       "      <td>10669</td>\n",
       "    </tr>\n",
       "    <tr>\n",
       "      <th>5</th>\n",
       "      <td>써니힐</td>\n",
       "      <td>들었다 놨다 (Love Actually)</td>\n",
       "      <td>2013-04-05</td>\n",
       "      <td>처음 너를 본 순간 정신 차릴 수 없어 내 마음을 들킬까봐 조심조심해 어떡하면 네 ...</td>\n",
       "      <td>42333</td>\n",
       "    </tr>\n",
       "    <tr>\n",
       "      <th>6</th>\n",
       "      <td>경서</td>\n",
       "      <td>밤하늘의 별을(2020)</td>\n",
       "      <td>2020-11-14</td>\n",
       "      <td>밤하늘의 별을 따서 너에게 줄래 너는 내가 사랑하니까 더 소중하니까 오직 너 아니면...</td>\n",
       "      <td>197543</td>\n",
       "    </tr>\n",
       "    <tr>\n",
       "      <th>7</th>\n",
       "      <td>적재</td>\n",
       "      <td>나랑 같이 걸을래 (바른연애 길잡이 X 적재)</td>\n",
       "      <td>2020-10-23</td>\n",
       "      <td>가을밤이 찾아와 그대를 비추고 또 나를 감싸네 눈을 감을 때마다 향기로운 네 맘이 ...</td>\n",
       "      <td>128088</td>\n",
       "    </tr>\n",
       "    <tr>\n",
       "      <th>8</th>\n",
       "      <td>멜로망스</td>\n",
       "      <td>고백</td>\n",
       "      <td>2021-08-29</td>\n",
       "      <td>달이 차고 내 마음도 차고 이대로 담아 두기엔 너무 안타까워 너를 향해 가는데 달은...</td>\n",
       "      <td>87197</td>\n",
       "    </tr>\n",
       "    <tr>\n",
       "      <th>9</th>\n",
       "      <td>CHEEZE (치즈)</td>\n",
       "      <td>이렇게 좋아해 본 적이 없어요</td>\n",
       "      <td>2021-03-14</td>\n",
       "      <td>따스한 바람이 불어오는 날엔 포근한 미소로 나를 또 반겨주던 그대란 사람 설레는 이...</td>\n",
       "      <td>67373</td>\n",
       "    </tr>\n",
       "    <tr>\n",
       "      <th>10</th>\n",
       "      <td>케이윌</td>\n",
       "      <td>말해! 뭐해?</td>\n",
       "      <td>2016-03-18</td>\n",
       "      <td>아무 말 없이 내게서 커져만 가는 게 아무래도 이대론 안 되겠어 어쩌다 내가 이렇게...</td>\n",
       "      <td>113409</td>\n",
       "    </tr>\n",
       "    <tr>\n",
       "      <th>11</th>\n",
       "      <td>조정석</td>\n",
       "      <td>좋아좋아</td>\n",
       "      <td>2021-07-16</td>\n",
       "      <td>처음 널 만나는 날 노란 세 송이 장미를 들고 룰루랄라 신촌을 향하는 내 가슴은 마...</td>\n",
       "      <td>86064</td>\n",
       "    </tr>\n",
       "    <tr>\n",
       "      <th>12</th>\n",
       "      <td>스텔라장 (Stella Jang)</td>\n",
       "      <td>보통날의 기적 (Feat. 폴킴)</td>\n",
       "      <td>2019-11-08</td>\n",
       "      <td>I’m waiting for a miracle 내 보통뿐인 나날에 Oh would ...</td>\n",
       "      <td>28350</td>\n",
       "    </tr>\n",
       "    <tr>\n",
       "      <th>13</th>\n",
       "      <td>멜로망스</td>\n",
       "      <td>선물</td>\n",
       "      <td>2017-07-10</td>\n",
       "      <td>빛이 들어오면 자연스레 뜨던 눈 그렇게 너의 눈빛을 보곤 사랑에 눈을 떴어 항상 알...</td>\n",
       "      <td>334594</td>\n",
       "    </tr>\n",
       "    <tr>\n",
       "      <th>14</th>\n",
       "      <td>정준일</td>\n",
       "      <td>있잖아 널 사랑해</td>\n",
       "      <td>2016-12-29</td>\n",
       "      <td>따뜻한 봄바람처럼 상냥하게 내게 불어오던 너 찬란하게 피어나던 여름의 꽃처럼 반짝이...</td>\n",
       "      <td>25523</td>\n",
       "    </tr>\n",
       "    <tr>\n",
       "      <th>15</th>\n",
       "      <td>멜로망스</td>\n",
       "      <td>사랑인가 봐</td>\n",
       "      <td>2022-02-18</td>\n",
       "      <td>너와 함께 하고 싶은 일들을 상상하는 게 요즘 내 일상이 되고 너의 즐거워하는 모습...</td>\n",
       "      <td>147178</td>\n",
       "    </tr>\n",
       "    <tr>\n",
       "      <th>16</th>\n",
       "      <td>이하이</td>\n",
       "      <td>손을 잡아줘요</td>\n",
       "      <td>2021-11-14</td>\n",
       "      <td>내 맘을 깊이 들여다보면 작은 구멍이 하나 있어요 아무도 모르게 나조차도 모르게 자...</td>\n",
       "      <td>9458</td>\n",
       "    </tr>\n",
       "    <tr>\n",
       "      <th>17</th>\n",
       "      <td>10CM</td>\n",
       "      <td>서랍</td>\n",
       "      <td>2021-12-07</td>\n",
       "      <td>어린 햇살 아래서 뛰어놀곤 했었던 가쁜 숨결 굽이진 골목 지나 길을 따라가보면 같은...</td>\n",
       "      <td>65760</td>\n",
       "    </tr>\n",
       "  </tbody>\n",
       "</table>\n",
       "</div>"
      ],
      "text/plain": [
       "                   가수명                         노래제목         발매일  \\\n",
       "0                   로꼬                      Say Yes  2016-08-29   \n",
       "1           긱스 (Geeks)  Officially Missing You, Too  2012-11-01   \n",
       "2                  임영웅                    사랑은 늘 도망가  2021-10-11   \n",
       "3            비비 (BIBI)                      아주, 천천히  2022-02-20   \n",
       "4                  정승환            푸르른 계절도 내겐 의미 없어요  2021-11-21   \n",
       "5                  써니힐       들었다 놨다 (Love Actually)  2013-04-05   \n",
       "6                   경서                밤하늘의 별을(2020)  2020-11-14   \n",
       "7                   적재    나랑 같이 걸을래 (바른연애 길잡이 X 적재)  2020-10-23   \n",
       "8                 멜로망스                           고백  2021-08-29   \n",
       "9          CHEEZE (치즈)             이렇게 좋아해 본 적이 없어요  2021-03-14   \n",
       "10                 케이윌                      말해! 뭐해?  2016-03-18   \n",
       "11                 조정석                         좋아좋아  2021-07-16   \n",
       "12  스텔라장 (Stella Jang)           보통날의 기적 (Feat. 폴킴)  2019-11-08   \n",
       "13                멜로망스                           선물  2017-07-10   \n",
       "14                 정준일                    있잖아 널 사랑해  2016-12-29   \n",
       "15                멜로망스                       사랑인가 봐  2022-02-18   \n",
       "16                 이하이                      손을 잡아줘요  2021-11-14   \n",
       "17                10CM                           서랍  2021-12-07   \n",
       "\n",
       "                                                   가사    좋아요수  \n",
       "0   니 눈앞에 왔잖아 내가 여기 있잖아 너의 입술로 말을 해줘 say yes say y...   89514  \n",
       "1   애써 너에게 건냈던 말 good bye 이젠 혼자 남게된 이 밤 without yo...  123533  \n",
       "2   눈물이 난다 이 길을 걸으면 그 사람 손길이 자꾸 생각이 난다 붙잡지 못하고 가슴만...  169379  \n",
       "3   눈빛만으로 알 수가 있지 어떤 세상을 살아왔는지 처음 내민 너의 따뜻한 손길에 내 ...   35147  \n",
       "4   한동안 잘 지냈어요 초조한 것도 없었죠 그대와 듣던 노래들 왠지 더 슬프게 들려 음...   10669  \n",
       "5   처음 너를 본 순간 정신 차릴 수 없어 내 마음을 들킬까봐 조심조심해 어떡하면 네 ...   42333  \n",
       "6   밤하늘의 별을 따서 너에게 줄래 너는 내가 사랑하니까 더 소중하니까 오직 너 아니면...  197543  \n",
       "7   가을밤이 찾아와 그대를 비추고 또 나를 감싸네 눈을 감을 때마다 향기로운 네 맘이 ...  128088  \n",
       "8   달이 차고 내 마음도 차고 이대로 담아 두기엔 너무 안타까워 너를 향해 가는데 달은...   87197  \n",
       "9   따스한 바람이 불어오는 날엔 포근한 미소로 나를 또 반겨주던 그대란 사람 설레는 이...   67373  \n",
       "10  아무 말 없이 내게서 커져만 가는 게 아무래도 이대론 안 되겠어 어쩌다 내가 이렇게...  113409  \n",
       "11  처음 널 만나는 날 노란 세 송이 장미를 들고 룰루랄라 신촌을 향하는 내 가슴은 마...   86064  \n",
       "12  I’m waiting for a miracle 내 보통뿐인 나날에 Oh would ...   28350  \n",
       "13  빛이 들어오면 자연스레 뜨던 눈 그렇게 너의 눈빛을 보곤 사랑에 눈을 떴어 항상 알...  334594  \n",
       "14  따뜻한 봄바람처럼 상냥하게 내게 불어오던 너 찬란하게 피어나던 여름의 꽃처럼 반짝이...   25523  \n",
       "15  너와 함께 하고 싶은 일들을 상상하는 게 요즘 내 일상이 되고 너의 즐거워하는 모습...  147178  \n",
       "16  내 맘을 깊이 들여다보면 작은 구멍이 하나 있어요 아무도 모르게 나조차도 모르게 자...    9458  \n",
       "17  어린 햇살 아래서 뛰어놀곤 했었던 가쁜 숨결 굽이진 골목 지나 길을 따라가보면 같은...   65760  "
      ]
     },
     "execution_count": 25,
     "metadata": {},
     "output_type": "execute_result"
    }
   ],
   "source": [
    "ballad_happy_add"
   ]
  },
  {
   "cell_type": "code",
   "execution_count": null,
   "metadata": {},
   "outputs": [],
   "source": []
  }
 ],
 "metadata": {
  "kernelspec": {
   "display_name": "Python 3.9.7 ('base')",
   "language": "python",
   "name": "python3"
  },
  "language_info": {
   "codemirror_mode": {
    "name": "ipython",
    "version": 3
   },
   "file_extension": ".py",
   "mimetype": "text/x-python",
   "name": "python",
   "nbconvert_exporter": "python",
   "pygments_lexer": "ipython3",
   "version": "3.9.7"
  },
  "orig_nbformat": 4,
  "vscode": {
   "interpreter": {
    "hash": "c34e8390e776d2ee205b71ed5a6130fee3cef8da5e87e926ce18e14f4a070d72"
   }
  }
 },
 "nbformat": 4,
 "nbformat_minor": 2
}
