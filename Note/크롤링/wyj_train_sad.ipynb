{
 "cells": [
  {
   "cell_type": "code",
   "execution_count": 45,
   "metadata": {},
   "outputs": [],
   "source": [
    "from selenium import webdriver\n",
    "from selenium.webdriver.chrome.service import Service\n",
    "from webdriver_manager.chrome import ChromeDriverManager\n",
    "from selenium.webdriver.common.by import By\n",
    "from bs4 import BeautifulSoup\n",
    "import urllib.request as request\n",
    "\n",
    "from selenium.webdriver.chrome.options import Options\n",
    "from fake_useragent import UserAgent"
   ]
  },
  {
   "cell_type": "code",
   "execution_count": 46,
   "metadata": {},
   "outputs": [
    {
     "name": "stdout",
     "output_type": "stream",
     "text": [
      "Mozilla/5.0 (X11; CrOS i686 3912.101.0) AppleWebKit/537.36 (KHTML, like Gecko) Chrome/27.0.1453.116 Safari/537.36\n"
     ]
    }
   ],
   "source": [
    "options = Options()\n",
    "ua = UserAgent(verify_ssl=False)\n",
    "userAgent = ua.random\n",
    "print(userAgent)"
   ]
  },
  {
   "cell_type": "code",
   "execution_count": 3,
   "metadata": {},
   "outputs": [
    {
     "name": "stdout",
     "output_type": "stream",
     "text": [
      "\n"
     ]
    },
    {
     "name": "stderr",
     "output_type": "stream",
     "text": [
      "[WDM] - ====== WebDriver manager ======\n",
      "[WDM] - Current google-chrome version is 103.0.5060\n",
      "[WDM] - Get LATEST chromedriver version for 103.0.5060 google-chrome\n",
      "[WDM] - Driver [/Users/tj/.wdm/drivers/chromedriver/mac64/103.0.5060.134/chromedriver] found in cache\n"
     ]
    }
   ],
   "source": [
    "options.add_argument(f'user-agent={userAgent}')\n",
    "# chrome_options = webdriver.ChromeOptions()\n",
    "driver = webdriver.Chrome(service=Service(ChromeDriverManager().install()), options=options)\n",
    "driver.get('https://www.melon.com/mymusic/dj/mymusicdjplaylistview_inform.htm?plylstSeq=497292073')"
   ]
  },
  {
   "cell_type": "code",
   "execution_count": 4,
   "metadata": {},
   "outputs": [],
   "source": [
    "page_source = driver.page_source\n",
    "soup = BeautifulSoup(page_source, \"html.parser\")"
   ]
  },
  {
   "cell_type": "code",
   "execution_count": 5,
   "metadata": {},
   "outputs": [
    {
     "name": "stdout",
     "output_type": "stream",
     "text": [
      "\n"
     ]
    },
    {
     "name": "stderr",
     "output_type": "stream",
     "text": [
      "[WDM] - ====== WebDriver manager ======\n",
      "[WDM] - Current google-chrome version is 103.0.5060\n",
      "[WDM] - Get LATEST chromedriver version for 103.0.5060 google-chrome\n",
      "[WDM] - Driver [/Users/tj/.wdm/drivers/chromedriver/mac64/103.0.5060.134/chromedriver] found in cache\n"
     ]
    }
   ],
   "source": [
    "import time\n",
    "\n",
    "total_lists = []\n",
    "\n",
    "driver = webdriver.Chrome(service=Service(ChromeDriverManager().install()), options=options)\n",
    "driver.get('https://www.melon.com/mymusic/dj/mymusicdjplaylistview_inform.htm?plylstSeq=497292073')\n",
    "\n",
    "time.sleep(1)\n",
    "\n",
    "page_source = driver.page_source\n",
    "soup = BeautifulSoup(page_source, \"html.parser\")\n",
    "\n",
    "time.sleep(1)\n",
    "\n",
    "songIds = soup.select(\"#frm > div > table > tbody td:nth-child(4) > div > a\")\n",
    "total_lists = total_lists + songIds\n",
    "\n",
    "time.sleep(1)"
   ]
  },
  {
   "cell_type": "code",
   "execution_count": 47,
   "metadata": {},
   "outputs": [],
   "source": [
    "test = []\n",
    "for i in range(len(total_lists)):\n",
    "    test.append(total_lists[i]['href'])"
   ]
  },
  {
   "cell_type": "code",
   "execution_count": 48,
   "metadata": {},
   "outputs": [],
   "source": [
    "test1 = []\n",
    "for i in range(len(test)):\n",
    "    test1.append(str(test[i]).split('.')[2].split(\"(\")[1].split(\")\")[0])"
   ]
  },
  {
   "cell_type": "code",
   "execution_count": 49,
   "metadata": {},
   "outputs": [],
   "source": [
    "test2 = []\n",
    "for i in range(len(test1)):\n",
    "    test2.append(str(test1[i]).strip(\"''\"))"
   ]
  },
  {
   "cell_type": "code",
   "execution_count": 9,
   "metadata": {},
   "outputs": [
    {
     "data": {
      "text/plain": [
       "['32225055',\n",
       " '4037360',\n",
       " '32028531',\n",
       " '33759183',\n",
       " '33751633',\n",
       " '5610945',\n",
       " '30290011',\n",
       " '3110148',\n",
       " '33339576',\n",
       " '31993173',\n",
       " '33453317',\n",
       " '32955381',\n",
       " '4654324',\n",
       " '31107239',\n",
       " '33720891',\n",
       " '33013877',\n",
       " '33722559',\n",
       " '30172476',\n",
       " '9646572',\n",
       " '33618271',\n",
       " '30642146',\n",
       " '32711048',\n",
       " '32142272',\n",
       " '32018045',\n",
       " '31929663',\n",
       " '4854490',\n",
       " '33625988',\n",
       " '33572275',\n",
       " '31960759',\n",
       " '31453551',\n",
       " '30690674',\n",
       " '33295747',\n",
       " '32080223',\n",
       " '31840635',\n",
       " '3136470',\n",
       " '30939454',\n",
       " '30177184',\n",
       " '31181342',\n",
       " '31788850',\n",
       " '30869144',\n",
       " '9620473',\n",
       " '3053257',\n",
       " '3899275',\n",
       " '30132701',\n",
       " '30879719',\n",
       " '31636358',\n",
       " '31740215',\n",
       " '3143550',\n",
       " '31709526',\n",
       " '2425271']"
      ]
     },
     "execution_count": 9,
     "metadata": {},
     "output_type": "execute_result"
    }
   ],
   "source": [
    "test2"
   ]
  },
  {
   "cell_type": "code",
   "execution_count": 50,
   "metadata": {},
   "outputs": [],
   "source": [
    "import pandas as pd"
   ]
  },
  {
   "cell_type": "code",
   "execution_count": 51,
   "metadata": {},
   "outputs": [],
   "source": [
    "pd.DataFrame(test2).to_csv(\"../../Data/ballad_sad_songID.csv\",index=False)"
   ]
  },
  {
   "cell_type": "code",
   "execution_count": 52,
   "metadata": {},
   "outputs": [
    {
     "data": {
      "text/html": [
       "<div>\n",
       "<style scoped>\n",
       "    .dataframe tbody tr th:only-of-type {\n",
       "        vertical-align: middle;\n",
       "    }\n",
       "\n",
       "    .dataframe tbody tr th {\n",
       "        vertical-align: top;\n",
       "    }\n",
       "\n",
       "    .dataframe thead th {\n",
       "        text-align: right;\n",
       "    }\n",
       "</style>\n",
       "<table border=\"1\" class=\"dataframe\">\n",
       "  <thead>\n",
       "    <tr style=\"text-align: right;\">\n",
       "      <th></th>\n",
       "      <th>0</th>\n",
       "    </tr>\n",
       "  </thead>\n",
       "  <tbody>\n",
       "    <tr>\n",
       "      <th>0</th>\n",
       "      <td>30963466</td>\n",
       "    </tr>\n",
       "    <tr>\n",
       "      <th>1</th>\n",
       "      <td>31589633</td>\n",
       "    </tr>\n",
       "    <tr>\n",
       "      <th>2</th>\n",
       "      <td>30646587</td>\n",
       "    </tr>\n",
       "    <tr>\n",
       "      <th>3</th>\n",
       "      <td>31815490</td>\n",
       "    </tr>\n",
       "    <tr>\n",
       "      <th>4</th>\n",
       "      <td>30043160</td>\n",
       "    </tr>\n",
       "    <tr>\n",
       "      <th>5</th>\n",
       "      <td>30973237</td>\n",
       "    </tr>\n",
       "    <tr>\n",
       "      <th>6</th>\n",
       "      <td>5637411</td>\n",
       "    </tr>\n",
       "    <tr>\n",
       "      <th>7</th>\n",
       "      <td>8259473</td>\n",
       "    </tr>\n",
       "    <tr>\n",
       "      <th>8</th>\n",
       "      <td>31703498</td>\n",
       "    </tr>\n",
       "    <tr>\n",
       "      <th>9</th>\n",
       "      <td>31438601</td>\n",
       "    </tr>\n",
       "    <tr>\n",
       "      <th>10</th>\n",
       "      <td>7893048</td>\n",
       "    </tr>\n",
       "    <tr>\n",
       "      <th>11</th>\n",
       "      <td>31181605</td>\n",
       "    </tr>\n",
       "    <tr>\n",
       "      <th>12</th>\n",
       "      <td>5462209</td>\n",
       "    </tr>\n",
       "    <tr>\n",
       "      <th>13</th>\n",
       "      <td>5694905</td>\n",
       "    </tr>\n",
       "    <tr>\n",
       "      <th>14</th>\n",
       "      <td>31326215</td>\n",
       "    </tr>\n",
       "    <tr>\n",
       "      <th>15</th>\n",
       "      <td>4073176</td>\n",
       "    </tr>\n",
       "    <tr>\n",
       "      <th>16</th>\n",
       "      <td>31524309</td>\n",
       "    </tr>\n",
       "    <tr>\n",
       "      <th>17</th>\n",
       "      <td>30378163</td>\n",
       "    </tr>\n",
       "    <tr>\n",
       "      <th>18</th>\n",
       "      <td>31524320</td>\n",
       "    </tr>\n",
       "    <tr>\n",
       "      <th>19</th>\n",
       "      <td>30859639</td>\n",
       "    </tr>\n",
       "    <tr>\n",
       "      <th>20</th>\n",
       "      <td>4268444</td>\n",
       "    </tr>\n",
       "    <tr>\n",
       "      <th>21</th>\n",
       "      <td>5831542</td>\n",
       "    </tr>\n",
       "    <tr>\n",
       "      <th>22</th>\n",
       "      <td>30043162</td>\n",
       "    </tr>\n",
       "    <tr>\n",
       "      <th>23</th>\n",
       "      <td>30859637</td>\n",
       "    </tr>\n",
       "    <tr>\n",
       "      <th>24</th>\n",
       "      <td>30299276</td>\n",
       "    </tr>\n",
       "    <tr>\n",
       "      <th>25</th>\n",
       "      <td>3893169</td>\n",
       "    </tr>\n",
       "    <tr>\n",
       "      <th>26</th>\n",
       "      <td>31584295</td>\n",
       "    </tr>\n",
       "    <tr>\n",
       "      <th>27</th>\n",
       "      <td>30257677</td>\n",
       "    </tr>\n",
       "    <tr>\n",
       "      <th>28</th>\n",
       "      <td>30043157</td>\n",
       "    </tr>\n",
       "    <tr>\n",
       "      <th>29</th>\n",
       "      <td>7998349</td>\n",
       "    </tr>\n",
       "    <tr>\n",
       "      <th>30</th>\n",
       "      <td>30859638</td>\n",
       "    </tr>\n",
       "    <tr>\n",
       "      <th>31</th>\n",
       "      <td>31469826</td>\n",
       "    </tr>\n",
       "    <tr>\n",
       "      <th>32</th>\n",
       "      <td>5466962</td>\n",
       "    </tr>\n",
       "    <tr>\n",
       "      <th>33</th>\n",
       "      <td>4281352</td>\n",
       "    </tr>\n",
       "    <tr>\n",
       "      <th>34</th>\n",
       "      <td>31477685</td>\n",
       "    </tr>\n",
       "    <tr>\n",
       "      <th>35</th>\n",
       "      <td>30693104</td>\n",
       "    </tr>\n",
       "    <tr>\n",
       "      <th>36</th>\n",
       "      <td>31426934</td>\n",
       "    </tr>\n",
       "    <tr>\n",
       "      <th>37</th>\n",
       "      <td>31455159</td>\n",
       "    </tr>\n",
       "    <tr>\n",
       "      <th>38</th>\n",
       "      <td>30939453</td>\n",
       "    </tr>\n",
       "    <tr>\n",
       "      <th>39</th>\n",
       "      <td>9646576</td>\n",
       "    </tr>\n",
       "    <tr>\n",
       "      <th>40</th>\n",
       "      <td>8298724</td>\n",
       "    </tr>\n",
       "    <tr>\n",
       "      <th>41</th>\n",
       "      <td>3593078</td>\n",
       "    </tr>\n",
       "    <tr>\n",
       "      <th>42</th>\n",
       "      <td>30859641</td>\n",
       "    </tr>\n",
       "    <tr>\n",
       "      <th>43</th>\n",
       "      <td>31426935</td>\n",
       "    </tr>\n",
       "    <tr>\n",
       "      <th>44</th>\n",
       "      <td>2930971</td>\n",
       "    </tr>\n",
       "    <tr>\n",
       "      <th>45</th>\n",
       "      <td>3053254</td>\n",
       "    </tr>\n",
       "    <tr>\n",
       "      <th>46</th>\n",
       "      <td>4709050</td>\n",
       "    </tr>\n",
       "    <tr>\n",
       "      <th>47</th>\n",
       "      <td>31469825</td>\n",
       "    </tr>\n",
       "    <tr>\n",
       "      <th>48</th>\n",
       "      <td>30043155</td>\n",
       "    </tr>\n",
       "    <tr>\n",
       "      <th>49</th>\n",
       "      <td>30675647</td>\n",
       "    </tr>\n",
       "  </tbody>\n",
       "</table>\n",
       "</div>"
      ],
      "text/plain": [
       "           0\n",
       "0   30963466\n",
       "1   31589633\n",
       "2   30646587\n",
       "3   31815490\n",
       "4   30043160\n",
       "5   30973237\n",
       "6    5637411\n",
       "7    8259473\n",
       "8   31703498\n",
       "9   31438601\n",
       "10   7893048\n",
       "11  31181605\n",
       "12   5462209\n",
       "13   5694905\n",
       "14  31326215\n",
       "15   4073176\n",
       "16  31524309\n",
       "17  30378163\n",
       "18  31524320\n",
       "19  30859639\n",
       "20   4268444\n",
       "21   5831542\n",
       "22  30043162\n",
       "23  30859637\n",
       "24  30299276\n",
       "25   3893169\n",
       "26  31584295\n",
       "27  30257677\n",
       "28  30043157\n",
       "29   7998349\n",
       "30  30859638\n",
       "31  31469826\n",
       "32   5466962\n",
       "33   4281352\n",
       "34  31477685\n",
       "35  30693104\n",
       "36  31426934\n",
       "37  31455159\n",
       "38  30939453\n",
       "39   9646576\n",
       "40   8298724\n",
       "41   3593078\n",
       "42  30859641\n",
       "43  31426935\n",
       "44   2930971\n",
       "45   3053254\n",
       "46   4709050\n",
       "47  31469825\n",
       "48  30043155\n",
       "49  30675647"
      ]
     },
     "execution_count": 52,
     "metadata": {},
     "output_type": "execute_result"
    }
   ],
   "source": [
    "test22 = pd.read_csv(\"../../Data/ballad_sad_songID.csv\")\n",
    "test22"
   ]
  },
  {
   "cell_type": "code",
   "execution_count": 53,
   "metadata": {},
   "outputs": [],
   "source": [
    "# 가수명, 노래제목, 발매일, 가사, 좋아요 수 리스트 변수 생성\n",
    "\n",
    "songImage_list = []\n",
    "singer_list = []\n",
    "singName_list = []\n",
    "date_list = []\n",
    "genre_list = []\n",
    "lyrics_list = []\n",
    "like_list = []"
   ]
  },
  {
   "cell_type": "code",
   "execution_count": 14,
   "metadata": {},
   "outputs": [
    {
     "name": "stdout",
     "output_type": "stream",
     "text": [
      "\n"
     ]
    },
    {
     "name": "stderr",
     "output_type": "stream",
     "text": [
      "[WDM] - ====== WebDriver manager ======\n",
      "[WDM] - Current google-chrome version is 103.0.5060\n",
      "[WDM] - Get LATEST chromedriver version for 103.0.5060 google-chrome\n",
      "[WDM] - Driver [/Users/tj/.wdm/drivers/chromedriver/mac64/103.0.5060.134/chromedriver] found in cache\n"
     ]
    }
   ],
   "source": [
    "# for문으로 가수명, 노래제목, 발매일, 가사, 좋아요 수 리스트 변수에 내용 담고 저장하기\n",
    "\n",
    "chrome_options = webdriver.ChromeOptions()\n",
    "driver = webdriver.Chrome(service=Service(ChromeDriverManager().install()), options=chrome_options)\n",
    "\n",
    "for songId in test2:\n",
    "    \n",
    "    driver.get(f'https://www.melon.com/song/detail.htm?songId={songId}')\n",
    "\n",
    "    page_source = driver.page_source\n",
    "    soup = BeautifulSoup(page_source, \"html.parser\")\n",
    "\n",
    "    time.sleep(2)\n",
    "\n",
    "    try:\n",
    "    \n",
    "        # 가수명 가져오기\n",
    "        artist_name = soup.select_one('#downloadfrm > div > div > div.entry > div.info > div.artist > a > span:nth-child(1) ')\n",
    "        singer_list.append(artist_name.string)\n",
    "\n",
    "        # 노래제목 가져오기\n",
    "        song_name = soup.select_one(\"#downloadfrm > div > div > div.entry > div.info > div.song_name \")\n",
    "        singName_list.append(song_name.text.strip().split('\\n\\t\\t\\t\\t\\t\\t\\t\\n\\t\\t\\t\\t\\t\\t\\t\\n\\t\\t\\t\\t\\t\\t\\t\\n\\t\\t\\t\\t\\t\\t\\t\\n\\t\\t\\t\\t\\t\\t\\t')[1])\n",
    "\n",
    "        # 발매일 가져오기\n",
    "        date = soup.select_one('#downloadfrm > div > div > div.entry > div.meta > dl > dd:nth-child(4)')\n",
    "        date_list.append(date.string)\n",
    "\n",
    "        # 장르 가져오기\n",
    "        genre = soup.select_one('#downloadfrm > div > div > div.entry > div.meta > dl > dd:nth-child(6)')\n",
    "        genre_list.append(genre.string)\n",
    "\n",
    "        # # 가사 가져오기\n",
    "        # lyric = str(soup.select_one('#d_video_summary')).replace('<br/>', ' ').replace(\n",
    "        #     '<div class=\"lyric\" id=\"d_video_summary\"><!-- height:auto; 로 변경시, 확장됨 -->', '').replace('</div>', '').replace('\\t', '').replace('\\n', '')\n",
    "        # lyric = lyric.replace('  ', ' ')\n",
    "        # lyrics_list.append(lyric)\n",
    "\n",
    "        # 가사 가져오기\n",
    "        lyric1 = str(soup.select_one('#d_video_summary')).replace('<br/>',' ')\\\n",
    "                                                         .replace('<div class=\"lyric\" id=\"d_video_summary\"><!-- height:auto; 로 변경시, 확장됨 -->',' ')\\\n",
    "                                                         .replace('</div>',' ').replace('\\t','').replace('\\n',' ')\n",
    "        lyric = lyric1.replace('  ', ' ')\n",
    "        lyrics_list.append(lyric)\n",
    "\n",
    "\n",
    "\n",
    "        # 좋아요수 가져오기\n",
    "        like = soup.select_one(\"#d_like_count\")\n",
    "        like_list.append(like.text)\n",
    "\n",
    "        time.sleep(2)\n",
    "    except:\n",
    "        singer_list.append(0)\n",
    "        singName_list.append(0)\n",
    "        date_list.append(0)\n",
    "        lyrics_list.append(0)\n",
    "        like_list.append(0)\n",
    "\n",
    "        time.sleep(1)"
   ]
  },
  {
   "cell_type": "code",
   "execution_count": 15,
   "metadata": {},
   "outputs": [],
   "source": [
    "ballad = {'가수명':singer_list, '노래제목':singName_list, '발매일':date_list, '장르':genre_list, '가사':lyrics_list, '좋아요수':like_list}"
   ]
  },
  {
   "cell_type": "code",
   "execution_count": 16,
   "metadata": {},
   "outputs": [],
   "source": [
    "import pandas as pd"
   ]
  },
  {
   "cell_type": "code",
   "execution_count": 17,
   "metadata": {},
   "outputs": [
    {
     "data": {
      "text/html": [
       "<div>\n",
       "<style scoped>\n",
       "    .dataframe tbody tr th:only-of-type {\n",
       "        vertical-align: middle;\n",
       "    }\n",
       "\n",
       "    .dataframe tbody tr th {\n",
       "        vertical-align: top;\n",
       "    }\n",
       "\n",
       "    .dataframe thead th {\n",
       "        text-align: right;\n",
       "    }\n",
       "</style>\n",
       "<table border=\"1\" class=\"dataframe\">\n",
       "  <thead>\n",
       "    <tr style=\"text-align: right;\">\n",
       "      <th></th>\n",
       "      <th>가수명</th>\n",
       "      <th>노래제목</th>\n",
       "      <th>발매일</th>\n",
       "      <th>장르</th>\n",
       "      <th>가사</th>\n",
       "      <th>좋아요수</th>\n",
       "    </tr>\n",
       "  </thead>\n",
       "  <tbody>\n",
       "    <tr>\n",
       "      <th>0</th>\n",
       "      <td>V.O.S</td>\n",
       "      <td>잘 살고 있다</td>\n",
       "      <td>2019.12.02</td>\n",
       "      <td>발라드</td>\n",
       "      <td>&lt;div class=\"lyric\" id=\"d_video_summary\"&gt;&lt;!-- h...</td>\n",
       "      <td>38,548</td>\n",
       "    </tr>\n",
       "    <tr>\n",
       "      <th>1</th>\n",
       "      <td>주보라</td>\n",
       "      <td>네가 없다 (Without You)</td>\n",
       "      <td>2013.02.19</td>\n",
       "      <td>발라드</td>\n",
       "      <td>&lt;div class=\"lyric\" id=\"d_video_summary\"&gt;&lt;!-- h...</td>\n",
       "      <td>2,956</td>\n",
       "    </tr>\n",
       "    <tr>\n",
       "      <th>2</th>\n",
       "      <td>휘인 (Whee In)</td>\n",
       "      <td>헤어지자 (Prod. 정키)</td>\n",
       "      <td>2019.09.04</td>\n",
       "      <td>발라드</td>\n",
       "      <td>&lt;div class=\"lyric\" id=\"d_video_summary\"&gt;&lt;!-- h...</td>\n",
       "      <td>115,742</td>\n",
       "    </tr>\n",
       "    <tr>\n",
       "      <th>3</th>\n",
       "      <td>헤이즈 (Heize)</td>\n",
       "      <td>비가 오는 날엔 (2021)</td>\n",
       "      <td>2021.08.04</td>\n",
       "      <td>발라드, 국내드라마</td>\n",
       "      <td>&lt;div class=\"lyric\" id=\"d_video_summary\"&gt;&lt;!-- h...</td>\n",
       "      <td>73,480</td>\n",
       "    </tr>\n",
       "    <tr>\n",
       "      <th>4</th>\n",
       "      <td>스트레이 (The Stray)</td>\n",
       "      <td>그냥, 묻고 싶었어</td>\n",
       "      <td>2021.08.04</td>\n",
       "      <td>발라드, 인디음악</td>\n",
       "      <td>&lt;div class=\"lyric\" id=\"d_video_summary\"&gt;&lt;!-- h...</td>\n",
       "      <td>1,761</td>\n",
       "    </tr>\n",
       "  </tbody>\n",
       "</table>\n",
       "</div>"
      ],
      "text/plain": [
       "                가수명                 노래제목         발매일          장르  \\\n",
       "0             V.O.S              잘 살고 있다  2019.12.02         발라드   \n",
       "1               주보라  네가 없다 (Without You)  2013.02.19         발라드   \n",
       "2      휘인 (Whee In)      헤어지자 (Prod. 정키)  2019.09.04         발라드   \n",
       "3       헤이즈 (Heize)      비가 오는 날엔 (2021)  2021.08.04  발라드, 국내드라마   \n",
       "4  스트레이 (The Stray)           그냥, 묻고 싶었어  2021.08.04   발라드, 인디음악   \n",
       "\n",
       "                                                  가사     좋아요수  \n",
       "0  <div class=\"lyric\" id=\"d_video_summary\"><!-- h...   38,548  \n",
       "1  <div class=\"lyric\" id=\"d_video_summary\"><!-- h...    2,956  \n",
       "2  <div class=\"lyric\" id=\"d_video_summary\"><!-- h...  115,742  \n",
       "3  <div class=\"lyric\" id=\"d_video_summary\"><!-- h...   73,480  \n",
       "4  <div class=\"lyric\" id=\"d_video_summary\"><!-- h...    1,761  "
      ]
     },
     "execution_count": 17,
     "metadata": {},
     "output_type": "execute_result"
    }
   ],
   "source": [
    "ballad_sad= pd.DataFrame(ballad)\n",
    "ballad_sad.head()"
   ]
  },
  {
   "cell_type": "code",
   "execution_count": 18,
   "metadata": {},
   "outputs": [],
   "source": [
    "ballad_sad = ballad_sad[ballad_sad.장르 != 'R&B/Soul']"
   ]
  },
  {
   "cell_type": "code",
   "execution_count": 19,
   "metadata": {},
   "outputs": [],
   "source": [
    "ballad_sad = ballad_sad[ballad_sad.장르 != 'R&B/Soul, 국내드라마']"
   ]
  },
  {
   "cell_type": "code",
   "execution_count": 20,
   "metadata": {},
   "outputs": [],
   "source": [
    "ballad_sad = ballad_sad[ballad_sad != 'R&B/Soul, 인디음악']"
   ]
  },
  {
   "cell_type": "code",
   "execution_count": 21,
   "metadata": {},
   "outputs": [],
   "source": [
    "ballad_sad = ballad_sad[ballad_sad.장르 != '인디음악, 포크/블루스']"
   ]
  },
  {
   "cell_type": "code",
   "execution_count": 22,
   "metadata": {},
   "outputs": [],
   "source": [
    "ballad_sad = ballad_sad[ballad_sad.장르 != '랩/힙합']"
   ]
  },
  {
   "cell_type": "code",
   "execution_count": 23,
   "metadata": {},
   "outputs": [],
   "source": [
    "ballad_sad = ballad_sad[ballad_sad.장르 != 'NaN']"
   ]
  },
  {
   "cell_type": "code",
   "execution_count": 24,
   "metadata": {},
   "outputs": [],
   "source": [
    "ballad_sad.장르= ballad_sad.장르.replace('발라드, 국내드라마','발라드')"
   ]
  },
  {
   "cell_type": "code",
   "execution_count": 25,
   "metadata": {},
   "outputs": [],
   "source": [
    "ballad_sad.장르= ballad_sad.장르.replace('발라드, 인디음악','발라드')"
   ]
  },
  {
   "cell_type": "code",
   "execution_count": 26,
   "metadata": {},
   "outputs": [],
   "source": [
    "ballad_sad.reset_index(drop=True,inplace=True)"
   ]
  },
  {
   "cell_type": "code",
   "execution_count": 27,
   "metadata": {},
   "outputs": [],
   "source": [
    "ballad_sad['좋아요수'] = ballad_sad['좋아요수'].str.replace(',','')"
   ]
  },
  {
   "cell_type": "code",
   "execution_count": 28,
   "metadata": {},
   "outputs": [
    {
     "name": "stderr",
     "output_type": "stream",
     "text": [
      "/var/folders/51/xmc_l6t13wv1nc5z6qmyg58r0000gn/T/ipykernel_22075/1511717123.py:1: FutureWarning: The default value of regex will change from True to False in a future version. In addition, single character regular expressions will *not* be treated as literal strings when regex=True.\n",
      "  ballad_sad['발매일'] = ballad_sad['발매일'].str.replace('.', '-')\n"
     ]
    }
   ],
   "source": [
    "ballad_sad['발매일'] = ballad_sad['발매일'].str.replace('.', '-')"
   ]
  },
  {
   "cell_type": "code",
   "execution_count": 29,
   "metadata": {},
   "outputs": [],
   "source": [
    "ballad_sad['발매일'] = pd.to_datetime(ballad_sad['발매일'])"
   ]
  },
  {
   "cell_type": "code",
   "execution_count": 30,
   "metadata": {},
   "outputs": [],
   "source": [
    "ballad_sad.drop(columns='장르',inplace=True)"
   ]
  },
  {
   "cell_type": "code",
   "execution_count": 31,
   "metadata": {},
   "outputs": [
    {
     "data": {
      "text/html": [
       "<div>\n",
       "<style scoped>\n",
       "    .dataframe tbody tr th:only-of-type {\n",
       "        vertical-align: middle;\n",
       "    }\n",
       "\n",
       "    .dataframe tbody tr th {\n",
       "        vertical-align: top;\n",
       "    }\n",
       "\n",
       "    .dataframe thead th {\n",
       "        text-align: right;\n",
       "    }\n",
       "</style>\n",
       "<table border=\"1\" class=\"dataframe\">\n",
       "  <thead>\n",
       "    <tr style=\"text-align: right;\">\n",
       "      <th></th>\n",
       "      <th>가수명</th>\n",
       "      <th>노래제목</th>\n",
       "      <th>발매일</th>\n",
       "      <th>가사</th>\n",
       "      <th>좋아요수</th>\n",
       "    </tr>\n",
       "  </thead>\n",
       "  <tbody>\n",
       "    <tr>\n",
       "      <th>0</th>\n",
       "      <td>V.O.S</td>\n",
       "      <td>잘 살고 있다</td>\n",
       "      <td>2019-12-02</td>\n",
       "      <td>&lt;div class=\"lyric\" id=\"d_video_summary\"&gt;&lt;!-- h...</td>\n",
       "      <td>38548</td>\n",
       "    </tr>\n",
       "    <tr>\n",
       "      <th>1</th>\n",
       "      <td>주보라</td>\n",
       "      <td>네가 없다 (Without You)</td>\n",
       "      <td>2013-02-19</td>\n",
       "      <td>&lt;div class=\"lyric\" id=\"d_video_summary\"&gt;&lt;!-- h...</td>\n",
       "      <td>2956</td>\n",
       "    </tr>\n",
       "    <tr>\n",
       "      <th>2</th>\n",
       "      <td>휘인 (Whee In)</td>\n",
       "      <td>헤어지자 (Prod. 정키)</td>\n",
       "      <td>2019-09-04</td>\n",
       "      <td>&lt;div class=\"lyric\" id=\"d_video_summary\"&gt;&lt;!-- h...</td>\n",
       "      <td>115742</td>\n",
       "    </tr>\n",
       "    <tr>\n",
       "      <th>3</th>\n",
       "      <td>헤이즈 (Heize)</td>\n",
       "      <td>비가 오는 날엔 (2021)</td>\n",
       "      <td>2021-08-04</td>\n",
       "      <td>&lt;div class=\"lyric\" id=\"d_video_summary\"&gt;&lt;!-- h...</td>\n",
       "      <td>73480</td>\n",
       "    </tr>\n",
       "    <tr>\n",
       "      <th>4</th>\n",
       "      <td>스트레이 (The Stray)</td>\n",
       "      <td>그냥, 묻고 싶었어</td>\n",
       "      <td>2021-08-04</td>\n",
       "      <td>&lt;div class=\"lyric\" id=\"d_video_summary\"&gt;&lt;!-- h...</td>\n",
       "      <td>1761</td>\n",
       "    </tr>\n",
       "    <tr>\n",
       "      <th>5</th>\n",
       "      <td>정키</td>\n",
       "      <td>부담이 돼 (Feat. 휘인 Of 마마무)</td>\n",
       "      <td>2017-03-08</td>\n",
       "      <td>&lt;div class=\"lyric\" id=\"d_video_summary\"&gt;&lt;!-- h...</td>\n",
       "      <td>134026</td>\n",
       "    </tr>\n",
       "    <tr>\n",
       "      <th>6</th>\n",
       "      <td>나비 (Navi)</td>\n",
       "      <td>잘 된 일이야</td>\n",
       "      <td>2011-01-19</td>\n",
       "      <td>&lt;div class=\"lyric\" id=\"d_video_summary\"&gt;&lt;!-- h...</td>\n",
       "      <td>42243</td>\n",
       "    </tr>\n",
       "    <tr>\n",
       "      <th>7</th>\n",
       "      <td>펀치 (Punch)</td>\n",
       "      <td>안녕 내 전부였던 너</td>\n",
       "      <td>2021-03-10</td>\n",
       "      <td>&lt;div class=\"lyric\" id=\"d_video_summary\"&gt;&lt;!-- h...</td>\n",
       "      <td>14175</td>\n",
       "    </tr>\n",
       "    <tr>\n",
       "      <th>8</th>\n",
       "      <td>펀치 (Punch)</td>\n",
       "      <td>Done For Me</td>\n",
       "      <td>2019-08-18</td>\n",
       "      <td>&lt;div class=\"lyric\" id=\"d_video_summary\"&gt;&lt;!-- h...</td>\n",
       "      <td>100979</td>\n",
       "    </tr>\n",
       "    <tr>\n",
       "      <th>9</th>\n",
       "      <td>펀치 (Punch)</td>\n",
       "      <td>이 밤의 끝</td>\n",
       "      <td>2018-05-31</td>\n",
       "      <td>&lt;div class=\"lyric\" id=\"d_video_summary\"&gt;&lt;!-- h...</td>\n",
       "      <td>47768</td>\n",
       "    </tr>\n",
       "    <tr>\n",
       "      <th>10</th>\n",
       "      <td>전상근</td>\n",
       "      <td>너무 보고싶어</td>\n",
       "      <td>2021-07-25</td>\n",
       "      <td>&lt;div class=\"lyric\" id=\"d_video_summary\"&gt;&lt;!-- h...</td>\n",
       "      <td>18768</td>\n",
       "    </tr>\n",
       "    <tr>\n",
       "      <th>11</th>\n",
       "      <td>장범준</td>\n",
       "      <td>잠이 오질 않네요</td>\n",
       "      <td>2020-10-24</td>\n",
       "      <td>&lt;div class=\"lyric\" id=\"d_video_summary\"&gt;&lt;!-- h...</td>\n",
       "      <td>159159</td>\n",
       "    </tr>\n",
       "    <tr>\n",
       "      <th>12</th>\n",
       "      <td>강고은</td>\n",
       "      <td>같은 시간 속 우린 여기까지인 거야</td>\n",
       "      <td>2021-07-24</td>\n",
       "      <td>&lt;div class=\"lyric\" id=\"d_video_summary\"&gt;&lt;!-- h...</td>\n",
       "      <td>4481</td>\n",
       "    </tr>\n",
       "    <tr>\n",
       "      <th>13</th>\n",
       "      <td>권진아</td>\n",
       "      <td>끝</td>\n",
       "      <td>2016-09-19</td>\n",
       "      <td>&lt;div class=\"lyric\" id=\"d_video_summary\"&gt;&lt;!-- h...</td>\n",
       "      <td>140491</td>\n",
       "    </tr>\n",
       "    <tr>\n",
       "      <th>14</th>\n",
       "      <td>빅마마</td>\n",
       "      <td>하루만 더</td>\n",
       "      <td>2021-06-24</td>\n",
       "      <td>&lt;div class=\"lyric\" id=\"d_video_summary\"&gt;&lt;!-- h...</td>\n",
       "      <td>58566</td>\n",
       "    </tr>\n",
       "    <tr>\n",
       "      <th>15</th>\n",
       "      <td>그리즐리 (Grizzly)</td>\n",
       "      <td>달라</td>\n",
       "      <td>2017-09-21</td>\n",
       "      <td>&lt;div class=\"lyric\" id=\"d_video_summary\"&gt;&lt;!-- h...</td>\n",
       "      <td>11086</td>\n",
       "    </tr>\n",
       "    <tr>\n",
       "      <th>16</th>\n",
       "      <td>황인욱</td>\n",
       "      <td>이별주</td>\n",
       "      <td>2019-11-01</td>\n",
       "      <td>&lt;div class=\"lyric\" id=\"d_video_summary\"&gt;&lt;!-- h...</td>\n",
       "      <td>60868</td>\n",
       "    </tr>\n",
       "    <tr>\n",
       "      <th>17</th>\n",
       "      <td>사이로(415)</td>\n",
       "      <td>우리 둘 사이로</td>\n",
       "      <td>2019-08-29</td>\n",
       "      <td>&lt;div class=\"lyric\" id=\"d_video_summary\"&gt;&lt;!-- h...</td>\n",
       "      <td>6001</td>\n",
       "    </tr>\n",
       "    <tr>\n",
       "      <th>18</th>\n",
       "      <td>이우</td>\n",
       "      <td>내 안부</td>\n",
       "      <td>2019-07-16</td>\n",
       "      <td>&lt;div class=\"lyric\" id=\"d_video_summary\"&gt;&lt;!-- h...</td>\n",
       "      <td>64603</td>\n",
       "    </tr>\n",
       "    <tr>\n",
       "      <th>19</th>\n",
       "      <td>MSG워너비(M.O.M)</td>\n",
       "      <td>바라만 본다</td>\n",
       "      <td>2021-06-26</td>\n",
       "      <td>&lt;div class=\"lyric\" id=\"d_video_summary\"&gt;&lt;!-- h...</td>\n",
       "      <td>179523</td>\n",
       "    </tr>\n",
       "    <tr>\n",
       "      <th>20</th>\n",
       "      <td>전상근</td>\n",
       "      <td>오늘따라 더 미운 그대가</td>\n",
       "      <td>2021-06-13</td>\n",
       "      <td>&lt;div class=\"lyric\" id=\"d_video_summary\"&gt;&lt;!-- h...</td>\n",
       "      <td>25853</td>\n",
       "    </tr>\n",
       "    <tr>\n",
       "      <th>21</th>\n",
       "      <td>윤토벤</td>\n",
       "      <td>서툰 이별을 하려해 (Feat.전상근)</td>\n",
       "      <td>2019-08-01</td>\n",
       "      <td>&lt;div class=\"lyric\" id=\"d_video_summary\"&gt;&lt;!-- h...</td>\n",
       "      <td>81436</td>\n",
       "    </tr>\n",
       "    <tr>\n",
       "      <th>22</th>\n",
       "      <td>허각</td>\n",
       "      <td>흔한 이별</td>\n",
       "      <td>2018-11-28</td>\n",
       "      <td>&lt;div class=\"lyric\" id=\"d_video_summary\"&gt;&lt;!-- h...</td>\n",
       "      <td>81915</td>\n",
       "    </tr>\n",
       "    <tr>\n",
       "      <th>23</th>\n",
       "      <td>포맨 (4MEN)</td>\n",
       "      <td>눈 떠보니 이별이더라</td>\n",
       "      <td>2017-10-24</td>\n",
       "      <td>&lt;div class=\"lyric\" id=\"d_video_summary\"&gt;&lt;!-- h...</td>\n",
       "      <td>115796</td>\n",
       "    </tr>\n",
       "    <tr>\n",
       "      <th>24</th>\n",
       "      <td>이소정</td>\n",
       "      <td>함께 했는데 이별은 나 혼자인 거야</td>\n",
       "      <td>2021-02-19</td>\n",
       "      <td>&lt;div class=\"lyric\" id=\"d_video_summary\"&gt;&lt;!-- h...</td>\n",
       "      <td>47773</td>\n",
       "    </tr>\n",
       "    <tr>\n",
       "      <th>25</th>\n",
       "      <td>이우</td>\n",
       "      <td>이별행동</td>\n",
       "      <td>2019-10-06</td>\n",
       "      <td>&lt;div class=\"lyric\" id=\"d_video_summary\"&gt;&lt;!-- h...</td>\n",
       "      <td>58747</td>\n",
       "    </tr>\n",
       "    <tr>\n",
       "      <th>26</th>\n",
       "      <td>김나영</td>\n",
       "      <td>널 미워하지 않길 (Prod. By 하동균)</td>\n",
       "      <td>2016-12-30</td>\n",
       "      <td>&lt;div class=\"lyric\" id=\"d_video_summary\"&gt;&lt;!-- h...</td>\n",
       "      <td>21895</td>\n",
       "    </tr>\n",
       "    <tr>\n",
       "      <th>27</th>\n",
       "      <td>다비치</td>\n",
       "      <td>마치 우린 없었던 사이 (Prod. 정키)</td>\n",
       "      <td>2018-07-12</td>\n",
       "      <td>&lt;div class=\"lyric\" id=\"d_video_summary\"&gt;&lt;!-- h...</td>\n",
       "      <td>50085</td>\n",
       "    </tr>\n",
       "    <tr>\n",
       "      <th>28</th>\n",
       "      <td>송하예</td>\n",
       "      <td>니 소식</td>\n",
       "      <td>2019-05-11</td>\n",
       "      <td>&lt;div class=\"lyric\" id=\"d_video_summary\"&gt;&lt;!-- h...</td>\n",
       "      <td>195292</td>\n",
       "    </tr>\n",
       "    <tr>\n",
       "      <th>29</th>\n",
       "      <td>권진아</td>\n",
       "      <td>이별 뒷면</td>\n",
       "      <td>2018-02-02</td>\n",
       "      <td>&lt;div class=\"lyric\" id=\"d_video_summary\"&gt;&lt;!-- h...</td>\n",
       "      <td>58945</td>\n",
       "    </tr>\n",
       "    <tr>\n",
       "      <th>30</th>\n",
       "      <td>아이유</td>\n",
       "      <td>첫 이별 그날 밤</td>\n",
       "      <td>2010-12-09</td>\n",
       "      <td>&lt;div class=\"lyric\" id=\"d_video_summary\"&gt;&lt;!-- h...</td>\n",
       "      <td>93391</td>\n",
       "    </tr>\n",
       "    <tr>\n",
       "      <th>31</th>\n",
       "      <td>스웨덴세탁소</td>\n",
       "      <td>우리가 있던 시간</td>\n",
       "      <td>2012-09-07</td>\n",
       "      <td>&lt;div class=\"lyric\" id=\"d_video_summary\"&gt;&lt;!-- h...</td>\n",
       "      <td>26456</td>\n",
       "    </tr>\n",
       "    <tr>\n",
       "      <th>32</th>\n",
       "      <td>강민경 (다비치)</td>\n",
       "      <td>사랑해서 그래</td>\n",
       "      <td>2019-02-27</td>\n",
       "      <td>&lt;div class=\"lyric\" id=\"d_video_summary\"&gt;&lt;!-- h...</td>\n",
       "      <td>32177</td>\n",
       "    </tr>\n",
       "    <tr>\n",
       "      <th>33</th>\n",
       "      <td>정효빈</td>\n",
       "      <td>처음이라서</td>\n",
       "      <td>2019-04-16</td>\n",
       "      <td>&lt;div class=\"lyric\" id=\"d_video_summary\"&gt;&lt;!-- h...</td>\n",
       "      <td>58876</td>\n",
       "    </tr>\n",
       "    <tr>\n",
       "      <th>34</th>\n",
       "      <td>아이유</td>\n",
       "      <td>나만 몰랐던 이야기</td>\n",
       "      <td>2011-02-17</td>\n",
       "      <td>&lt;div class=\"lyric\" id=\"d_video_summary\"&gt;&lt;!-- h...</td>\n",
       "      <td>110823</td>\n",
       "    </tr>\n",
       "    <tr>\n",
       "      <th>35</th>\n",
       "      <td>윤하 (YOUNHA)</td>\n",
       "      <td>오늘 헤어졌어요</td>\n",
       "      <td>2009-12-11</td>\n",
       "      <td>&lt;div class=\"lyric\" id=\"d_video_summary\"&gt;&lt;!-- h...</td>\n",
       "      <td>82711</td>\n",
       "    </tr>\n",
       "  </tbody>\n",
       "</table>\n",
       "</div>"
      ],
      "text/plain": [
       "                 가수명                      노래제목        발매일  \\\n",
       "0              V.O.S                   잘 살고 있다 2019-12-02   \n",
       "1                주보라       네가 없다 (Without You) 2013-02-19   \n",
       "2       휘인 (Whee In)           헤어지자 (Prod. 정키) 2019-09-04   \n",
       "3        헤이즈 (Heize)           비가 오는 날엔 (2021) 2021-08-04   \n",
       "4   스트레이 (The Stray)                그냥, 묻고 싶었어 2021-08-04   \n",
       "5                 정키   부담이 돼 (Feat. 휘인 Of 마마무) 2017-03-08   \n",
       "6          나비 (Navi)                   잘 된 일이야 2011-01-19   \n",
       "7         펀치 (Punch)               안녕 내 전부였던 너 2021-03-10   \n",
       "8         펀치 (Punch)               Done For Me 2019-08-18   \n",
       "9         펀치 (Punch)                    이 밤의 끝 2018-05-31   \n",
       "10               전상근                   너무 보고싶어 2021-07-25   \n",
       "11               장범준                 잠이 오질 않네요 2020-10-24   \n",
       "12               강고은       같은 시간 속 우린 여기까지인 거야 2021-07-24   \n",
       "13               권진아                         끝 2016-09-19   \n",
       "14               빅마마                     하루만 더 2021-06-24   \n",
       "15    그리즐리 (Grizzly)                        달라 2017-09-21   \n",
       "16               황인욱                       이별주 2019-11-01   \n",
       "17          사이로(415)                  우리 둘 사이로 2019-08-29   \n",
       "18                이우                      내 안부 2019-07-16   \n",
       "19     MSG워너비(M.O.M)                    바라만 본다 2021-06-26   \n",
       "20               전상근             오늘따라 더 미운 그대가 2021-06-13   \n",
       "21               윤토벤     서툰 이별을 하려해 (Feat.전상근) 2019-08-01   \n",
       "22                허각                     흔한 이별 2018-11-28   \n",
       "23         포맨 (4MEN)               눈 떠보니 이별이더라 2017-10-24   \n",
       "24               이소정       함께 했는데 이별은 나 혼자인 거야 2021-02-19   \n",
       "25                이우                      이별행동 2019-10-06   \n",
       "26               김나영  널 미워하지 않길 (Prod. By 하동균) 2016-12-30   \n",
       "27               다비치   마치 우린 없었던 사이 (Prod. 정키) 2018-07-12   \n",
       "28               송하예                      니 소식 2019-05-11   \n",
       "29               권진아                     이별 뒷면 2018-02-02   \n",
       "30               아이유                 첫 이별 그날 밤 2010-12-09   \n",
       "31            스웨덴세탁소                 우리가 있던 시간 2012-09-07   \n",
       "32         강민경 (다비치)                   사랑해서 그래 2019-02-27   \n",
       "33               정효빈                     처음이라서 2019-04-16   \n",
       "34               아이유                나만 몰랐던 이야기 2011-02-17   \n",
       "35       윤하 (YOUNHA)                  오늘 헤어졌어요 2009-12-11   \n",
       "\n",
       "                                                   가사    좋아요수  \n",
       "0   <div class=\"lyric\" id=\"d_video_summary\"><!-- h...   38548  \n",
       "1   <div class=\"lyric\" id=\"d_video_summary\"><!-- h...    2956  \n",
       "2   <div class=\"lyric\" id=\"d_video_summary\"><!-- h...  115742  \n",
       "3   <div class=\"lyric\" id=\"d_video_summary\"><!-- h...   73480  \n",
       "4   <div class=\"lyric\" id=\"d_video_summary\"><!-- h...    1761  \n",
       "5   <div class=\"lyric\" id=\"d_video_summary\"><!-- h...  134026  \n",
       "6   <div class=\"lyric\" id=\"d_video_summary\"><!-- h...   42243  \n",
       "7   <div class=\"lyric\" id=\"d_video_summary\"><!-- h...   14175  \n",
       "8   <div class=\"lyric\" id=\"d_video_summary\"><!-- h...  100979  \n",
       "9   <div class=\"lyric\" id=\"d_video_summary\"><!-- h...   47768  \n",
       "10  <div class=\"lyric\" id=\"d_video_summary\"><!-- h...   18768  \n",
       "11  <div class=\"lyric\" id=\"d_video_summary\"><!-- h...  159159  \n",
       "12  <div class=\"lyric\" id=\"d_video_summary\"><!-- h...    4481  \n",
       "13  <div class=\"lyric\" id=\"d_video_summary\"><!-- h...  140491  \n",
       "14  <div class=\"lyric\" id=\"d_video_summary\"><!-- h...   58566  \n",
       "15  <div class=\"lyric\" id=\"d_video_summary\"><!-- h...   11086  \n",
       "16  <div class=\"lyric\" id=\"d_video_summary\"><!-- h...   60868  \n",
       "17  <div class=\"lyric\" id=\"d_video_summary\"><!-- h...    6001  \n",
       "18  <div class=\"lyric\" id=\"d_video_summary\"><!-- h...   64603  \n",
       "19  <div class=\"lyric\" id=\"d_video_summary\"><!-- h...  179523  \n",
       "20  <div class=\"lyric\" id=\"d_video_summary\"><!-- h...   25853  \n",
       "21  <div class=\"lyric\" id=\"d_video_summary\"><!-- h...   81436  \n",
       "22  <div class=\"lyric\" id=\"d_video_summary\"><!-- h...   81915  \n",
       "23  <div class=\"lyric\" id=\"d_video_summary\"><!-- h...  115796  \n",
       "24  <div class=\"lyric\" id=\"d_video_summary\"><!-- h...   47773  \n",
       "25  <div class=\"lyric\" id=\"d_video_summary\"><!-- h...   58747  \n",
       "26  <div class=\"lyric\" id=\"d_video_summary\"><!-- h...   21895  \n",
       "27  <div class=\"lyric\" id=\"d_video_summary\"><!-- h...   50085  \n",
       "28  <div class=\"lyric\" id=\"d_video_summary\"><!-- h...  195292  \n",
       "29  <div class=\"lyric\" id=\"d_video_summary\"><!-- h...   58945  \n",
       "30  <div class=\"lyric\" id=\"d_video_summary\"><!-- h...   93391  \n",
       "31  <div class=\"lyric\" id=\"d_video_summary\"><!-- h...   26456  \n",
       "32  <div class=\"lyric\" id=\"d_video_summary\"><!-- h...   32177  \n",
       "33  <div class=\"lyric\" id=\"d_video_summary\"><!-- h...   58876  \n",
       "34  <div class=\"lyric\" id=\"d_video_summary\"><!-- h...  110823  \n",
       "35  <div class=\"lyric\" id=\"d_video_summary\"><!-- h...   82711  "
      ]
     },
     "execution_count": 31,
     "metadata": {},
     "output_type": "execute_result"
    }
   ],
   "source": [
    "ballad_sad"
   ]
  },
  {
   "cell_type": "code",
   "execution_count": 32,
   "metadata": {},
   "outputs": [],
   "source": [
    "ballad_sad.to_csv(\"../Data/ballad_sad.csv\",index=False)"
   ]
  },
  {
   "cell_type": "code",
   "execution_count": 33,
   "metadata": {},
   "outputs": [],
   "source": [
    "ballad_sad= pd.read_csv(\"../Data/ballad_sad.csv\")"
   ]
  },
  {
   "cell_type": "code",
   "execution_count": 34,
   "metadata": {},
   "outputs": [
    {
     "name": "stdout",
     "output_type": "stream",
     "text": [
      "<div class=\"lyric\" id=\"d_video_summary\"><!-- height:auto; 로 변경시, 확장됨 -->한잔 술에 잊자 그만 나도 숨 좀 쉬자 제발 마치 주문처럼 매일 읊조렸던 넌 모르는 내 슬픈 혼잣말 친구들 통해 들은 네 소식 너무 잘 살고 있어 날 만날 때보다 더 너는 없었지만 억지로 삼킨 밥들이 친구가 되어줬던 술이 겨우 날 숨 좀 쉬게 해 많이 잊었어 이제 네 얼굴도 까마득해 잘 살고 있다 너처럼 두려워 듣기 싫던 네 소식 막상 듣게 되니 또 이별한 듯이 아파 너는 없었지만 억지로 삼킨 밥들이 친구가 되어줬던 술이 겨우 날 숨 좀 쉬게 해 많이 잊었어 이제 네 얼굴도 까마득해 잘살고 있다 너처럼 너 없는 많은 밤들이 혼자 버틸 날들이 아직 너무 많은데 가끔은 너 철없던 나의 장난에 입꼬리 올라가던 그 미소가 그리워 가진 건 없지만 널 가진 게 전부였어 그래서 무너졌나 봐 너밖에 없었으니까 언젠간 나도 나만 사랑해줄 사람 만나 잘 살고 싶다 너처럼 나도 그럴 수 있을까 \n",
      "\n",
      "\n",
      "\n",
      "<div class=\"lyric\" id=\"d_video_summary\"><!-- height:auto; 로 변경시, 확장됨 -->한잔 술에 잊자 그만 나도 숨 좀 쉬자 제발 마치 주문처럼 매일 읊조렸던 넌 모르는 내 슬픈 혼잣말 친구들 통해 들은 네 소식 너무 잘 살고 있어 날 만날 때보다 더 너는 없었지만 억지로 삼킨 밥들이 친구가 되어줬던 술이 겨우 날 숨 좀 쉬게 해 많이 잊었어 이제 네 얼굴도 까마득해 잘 살고 있다 너처럼 두려워 듣기 싫던 네 소식 막상 듣게 되니 또 이별한 듯이 아파 너는 없었지만 억지로 삼킨 밥들이 친구가 되어줬던 술이 겨우 날 숨 좀 쉬게 해 많이 잊었어 이제 네 얼굴도 까마득해 잘살고 있다 너처럼 너 없는 많은 밤들이 혼자 버틸 날들이 아직 너무 많은데 가끔은 너 철없던 나의 장난에 입꼬리 올라가던 그 미소가 그리워 가진 건 없지만 널 가진 게 전부였어 그래서 무너졌나 봐 너밖에 없었으니까 언젠간 나도 나만 사랑해줄 사람 만나 잘 살고 싶다 너처럼 나도 그럴 수 있을까 \n",
      "\n",
      "\n",
      "\n",
      "<div class=\"lyric\" id=\"d_video_summary\"><!-- height:auto; 로 변경시, 확장됨 -->한잔 술에 잊자 그만 나도 숨 좀 쉬자 제발 마치 주문처럼 매일 읊조렸던 넌 모르는 내 슬픈 혼잣말 친구들 통해 들은 네 소식 너무 잘 살고 있어 날 만날 때보다 더 너는 없었지만 억지로 삼킨 밥들이 친구가 되어줬던 술이 겨우 날 숨 좀 쉬게 해 많이 잊었어 이제 네 얼굴도 까마득해 잘 살고 있다 너처럼 두려워 듣기 싫던 네 소식 막상 듣게 되니 또 이별한 듯이 아파 너는 없었지만 억지로 삼킨 밥들이 친구가 되어줬던 술이 겨우 날 숨 좀 쉬게 해 많이 잊었어 이제 네 얼굴도 까마득해 잘살고 있다 너처럼 너 없는 많은 밤들이 혼자 버틸 날들이 아직 너무 많은데 가끔은 너 철없던 나의 장난에 입꼬리 올라가던 그 미소가 그리워 가진 건 없지만 널 가진 게 전부였어 그래서 무너졌나 봐 너밖에 없었으니까 언젠간 나도 나만 사랑해줄 사람 만나 잘 살고 싶다 너처럼 나도 그럴 수 있을까 \n",
      "\n",
      "\n",
      "\n",
      "<div class=\"lyric\" id=\"d_video_summary\"><!-- height:auto; 로 변경시, 확장됨 -->한잔 술에 잊자 그만 나도 숨 좀 쉬자 제발 마치 주문처럼 매일 읊조렸던 넌 모르는 내 슬픈 혼잣말 친구들 통해 들은 네 소식 너무 잘 살고 있어 날 만날 때보다 더 너는 없었지만 억지로 삼킨 밥들이 친구가 되어줬던 술이 겨우 날 숨 좀 쉬게 해 많이 잊었어 이제 네 얼굴도 까마득해 잘 살고 있다 너처럼 두려워 듣기 싫던 네 소식 막상 듣게 되니 또 이별한 듯이 아파 너는 없었지만 억지로 삼킨 밥들이 친구가 되어줬던 술이 겨우 날 숨 좀 쉬게 해 많이 잊었어 이제 네 얼굴도 까마득해 잘살고 있다 너처럼 너 없는 많은 밤들이 혼자 버틸 날들이 아직 너무 많은데 가끔은 너 철없던 나의 장난에 입꼬리 올라가던 그 미소가 그리워 가진 건 없지만 널 가진 게 전부였어 그래서 무너졌나 봐 너밖에 없었으니까 언젠간 나도 나만 사랑해줄 사람 만나 잘 살고 싶다 너처럼 나도 그럴 수 있을까 \n",
      "\n",
      "\n",
      "\n",
      "<div class=\"lyric\" id=\"d_video_summary\"><!-- height:auto; 로 변경시, 확장됨 -->한잔 술에 잊자 그만 나도 숨 좀 쉬자 제발 마치 주문처럼 매일 읊조렸던 넌 모르는 내 슬픈 혼잣말 친구들 통해 들은 네 소식 너무 잘 살고 있어 날 만날 때보다 더 너는 없었지만 억지로 삼킨 밥들이 친구가 되어줬던 술이 겨우 날 숨 좀 쉬게 해 많이 잊었어 이제 네 얼굴도 까마득해 잘 살고 있다 너처럼 두려워 듣기 싫던 네 소식 막상 듣게 되니 또 이별한 듯이 아파 너는 없었지만 억지로 삼킨 밥들이 친구가 되어줬던 술이 겨우 날 숨 좀 쉬게 해 많이 잊었어 이제 네 얼굴도 까마득해 잘살고 있다 너처럼 너 없는 많은 밤들이 혼자 버틸 날들이 아직 너무 많은데 가끔은 너 철없던 나의 장난에 입꼬리 올라가던 그 미소가 그리워 가진 건 없지만 널 가진 게 전부였어 그래서 무너졌나 봐 너밖에 없었으니까 언젠간 나도 나만 사랑해줄 사람 만나 잘 살고 싶다 너처럼 나도 그럴 수 있을까 \n",
      "\n",
      "\n",
      "\n",
      "<div class=\"lyric\" id=\"d_video_summary\"><!-- height:auto; 로 변경시, 확장됨 -->한잔 술에 잊자 그만 나도 숨 좀 쉬자 제발 마치 주문처럼 매일 읊조렸던 넌 모르는 내 슬픈 혼잣말 친구들 통해 들은 네 소식 너무 잘 살고 있어 날 만날 때보다 더 너는 없었지만 억지로 삼킨 밥들이 친구가 되어줬던 술이 겨우 날 숨 좀 쉬게 해 많이 잊었어 이제 네 얼굴도 까마득해 잘 살고 있다 너처럼 두려워 듣기 싫던 네 소식 막상 듣게 되니 또 이별한 듯이 아파 너는 없었지만 억지로 삼킨 밥들이 친구가 되어줬던 술이 겨우 날 숨 좀 쉬게 해 많이 잊었어 이제 네 얼굴도 까마득해 잘살고 있다 너처럼 너 없는 많은 밤들이 혼자 버틸 날들이 아직 너무 많은데 가끔은 너 철없던 나의 장난에 입꼬리 올라가던 그 미소가 그리워 가진 건 없지만 널 가진 게 전부였어 그래서 무너졌나 봐 너밖에 없었으니까 언젠간 나도 나만 사랑해줄 사람 만나 잘 살고 싶다 너처럼 나도 그럴 수 있을까 \n",
      "\n",
      "\n",
      "\n",
      "<div class=\"lyric\" id=\"d_video_summary\"><!-- height:auto; 로 변경시, 확장됨 -->한잔 술에 잊자 그만 나도 숨 좀 쉬자 제발 마치 주문처럼 매일 읊조렸던 넌 모르는 내 슬픈 혼잣말 친구들 통해 들은 네 소식 너무 잘 살고 있어 날 만날 때보다 더 너는 없었지만 억지로 삼킨 밥들이 친구가 되어줬던 술이 겨우 날 숨 좀 쉬게 해 많이 잊었어 이제 네 얼굴도 까마득해 잘 살고 있다 너처럼 두려워 듣기 싫던 네 소식 막상 듣게 되니 또 이별한 듯이 아파 너는 없었지만 억지로 삼킨 밥들이 친구가 되어줬던 술이 겨우 날 숨 좀 쉬게 해 많이 잊었어 이제 네 얼굴도 까마득해 잘살고 있다 너처럼 너 없는 많은 밤들이 혼자 버틸 날들이 아직 너무 많은데 가끔은 너 철없던 나의 장난에 입꼬리 올라가던 그 미소가 그리워 가진 건 없지만 널 가진 게 전부였어 그래서 무너졌나 봐 너밖에 없었으니까 언젠간 나도 나만 사랑해줄 사람 만나 잘 살고 싶다 너처럼 나도 그럴 수 있을까 \n",
      "\n",
      "\n",
      "\n",
      "<div class=\"lyric\" id=\"d_video_summary\"><!-- height:auto; 로 변경시, 확장됨 -->한잔 술에 잊자 그만 나도 숨 좀 쉬자 제발 마치 주문처럼 매일 읊조렸던 넌 모르는 내 슬픈 혼잣말 친구들 통해 들은 네 소식 너무 잘 살고 있어 날 만날 때보다 더 너는 없었지만 억지로 삼킨 밥들이 친구가 되어줬던 술이 겨우 날 숨 좀 쉬게 해 많이 잊었어 이제 네 얼굴도 까마득해 잘 살고 있다 너처럼 두려워 듣기 싫던 네 소식 막상 듣게 되니 또 이별한 듯이 아파 너는 없었지만 억지로 삼킨 밥들이 친구가 되어줬던 술이 겨우 날 숨 좀 쉬게 해 많이 잊었어 이제 네 얼굴도 까마득해 잘살고 있다 너처럼 너 없는 많은 밤들이 혼자 버틸 날들이 아직 너무 많은데 가끔은 너 철없던 나의 장난에 입꼬리 올라가던 그 미소가 그리워 가진 건 없지만 널 가진 게 전부였어 그래서 무너졌나 봐 너밖에 없었으니까 언젠간 나도 나만 사랑해줄 사람 만나 잘 살고 싶다 너처럼 나도 그럴 수 있을까 \n",
      "\n",
      "\n",
      "\n",
      "<div class=\"lyric\" id=\"d_video_summary\"><!-- height:auto; 로 변경시, 확장됨 -->한잔 술에 잊자 그만 나도 숨 좀 쉬자 제발 마치 주문처럼 매일 읊조렸던 넌 모르는 내 슬픈 혼잣말 친구들 통해 들은 네 소식 너무 잘 살고 있어 날 만날 때보다 더 너는 없었지만 억지로 삼킨 밥들이 친구가 되어줬던 술이 겨우 날 숨 좀 쉬게 해 많이 잊었어 이제 네 얼굴도 까마득해 잘 살고 있다 너처럼 두려워 듣기 싫던 네 소식 막상 듣게 되니 또 이별한 듯이 아파 너는 없었지만 억지로 삼킨 밥들이 친구가 되어줬던 술이 겨우 날 숨 좀 쉬게 해 많이 잊었어 이제 네 얼굴도 까마득해 잘살고 있다 너처럼 너 없는 많은 밤들이 혼자 버틸 날들이 아직 너무 많은데 가끔은 너 철없던 나의 장난에 입꼬리 올라가던 그 미소가 그리워 가진 건 없지만 널 가진 게 전부였어 그래서 무너졌나 봐 너밖에 없었으니까 언젠간 나도 나만 사랑해줄 사람 만나 잘 살고 싶다 너처럼 나도 그럴 수 있을까 \n",
      "\n",
      "\n",
      "\n"
     ]
    }
   ],
   "source": [
    "for i in range(30,39):\n",
    "    print(ballad_sad.가사[0])\n",
    "    print(\"\\n\\n\")"
   ]
  },
  {
   "cell_type": "code",
   "execution_count": 35,
   "metadata": {},
   "outputs": [
    {
     "name": "stdout",
     "output_type": "stream",
     "text": [
      "\n"
     ]
    },
    {
     "name": "stderr",
     "output_type": "stream",
     "text": [
      "[WDM] - ====== WebDriver manager ======\n",
      "[WDM] - Current google-chrome version is 103.0.5060\n",
      "[WDM] - Get LATEST chromedriver version for 103.0.5060 google-chrome\n",
      "[WDM] - Driver [/Users/tj/.wdm/drivers/chromedriver/mac64/103.0.5060.134/chromedriver] found in cache\n"
     ]
    }
   ],
   "source": [
    "import time\n",
    "\n",
    "total_lists = []\n",
    "\n",
    "driver = webdriver.Chrome(service=Service(ChromeDriverManager().install()), options=options)\n",
    "driver.get('https://www.melon.com/mymusic/dj/mymusicdjplaylistview_inform.htm?plylstSeq=497292073#params%5BplylstSeq%5D=497292073&po=pageObj&startIndex=51')\n",
    "\n",
    "time.sleep(1)\n",
    "\n",
    "page_source = driver.page_source\n",
    "soup = BeautifulSoup(page_source, \"html.parser\")\n",
    "\n",
    "time.sleep(1)\n",
    "\n",
    "songIds = soup.select(\"#frm > div > table > tbody td:nth-child(4) > div > a\")\n",
    "total_lists = total_lists + songIds\n",
    "\n",
    "time.sleep(1)\n"
   ]
  },
  {
   "cell_type": "code",
   "execution_count": 36,
   "metadata": {},
   "outputs": [
    {
     "data": {
      "text/plain": [
       "['30963466',\n",
       " '31589633',\n",
       " '30646587',\n",
       " '31815490',\n",
       " '30043160',\n",
       " '30973237',\n",
       " '5637411',\n",
       " '8259473',\n",
       " '31703498',\n",
       " '31438601',\n",
       " '7893048',\n",
       " '31181605',\n",
       " '5462209',\n",
       " '5694905',\n",
       " '31326215',\n",
       " '4073176',\n",
       " '31524309',\n",
       " '30378163',\n",
       " '31524320',\n",
       " '30859639',\n",
       " '4268444',\n",
       " '5831542',\n",
       " '30043162',\n",
       " '30859637',\n",
       " '30299276',\n",
       " '3893169',\n",
       " '31584295',\n",
       " '30257677',\n",
       " '30043157',\n",
       " '7998349',\n",
       " '30859638',\n",
       " '31469826',\n",
       " '5466962',\n",
       " '4281352',\n",
       " '31477685',\n",
       " '30693104',\n",
       " '31426934',\n",
       " '31455159',\n",
       " '30939453',\n",
       " '9646576',\n",
       " '8298724',\n",
       " '3593078',\n",
       " '30859641',\n",
       " '31426935',\n",
       " '2930971',\n",
       " '3053254',\n",
       " '4709050',\n",
       " '31469825',\n",
       " '30043155',\n",
       " '30675647']"
      ]
     },
     "execution_count": 36,
     "metadata": {},
     "output_type": "execute_result"
    }
   ],
   "source": [
    "test = []\n",
    "for i in range(len(total_lists)):\n",
    "    test.append(total_lists[i]['href'])\n",
    "\n",
    "test1 = []\n",
    "for i in range(len(test)):\n",
    "    test1.append(str(test[i]).split('.')[2].split(\"(\")[1].split(\")\")[0])\n",
    "\n",
    "test2 = []\n",
    "for i in range(len(test1)):\n",
    "    test2.append(str(test1[i]).strip(\"''\"))\n",
    "\n",
    "test2"
   ]
  },
  {
   "cell_type": "code",
   "execution_count": 54,
   "metadata": {},
   "outputs": [
    {
     "name": "stdout",
     "output_type": "stream",
     "text": [
      "\n"
     ]
    },
    {
     "name": "stderr",
     "output_type": "stream",
     "text": [
      "[WDM] - ====== WebDriver manager ======\n",
      "[WDM] - Current google-chrome version is 103.0.5060\n",
      "[WDM] - Get LATEST chromedriver version for 103.0.5060 google-chrome\n",
      "[WDM] - Driver [/Users/tj/.wdm/drivers/chromedriver/mac64/103.0.5060.134/chromedriver] found in cache\n"
     ]
    }
   ],
   "source": [
    "# 가수명, 노래제목, 발매일, 가사, 좋아요 수 리스트 변수 생성\n",
    "\n",
    "songImage_list = []\n",
    "singer_list = []\n",
    "singName_list = []\n",
    "date_list = []\n",
    "genre_list = []\n",
    "lyrics_list = []\n",
    "like_list = []\n",
    "\n",
    "# for문으로 가수명, 노래제목, 발매일, 가사, 좋아요 수 리스트 변수에 내용 담고 저장하기\n",
    "\n",
    "chrome_options = webdriver.ChromeOptions()\n",
    "driver = webdriver.Chrome(service=Service(ChromeDriverManager().install()), options=chrome_options)\n",
    "\n",
    "for songId in test2:\n",
    "    \n",
    "    driver.get(f'https://www.melon.com/song/detail.htm?songId={songId}')\n",
    "\n",
    "    page_source = driver.page_source\n",
    "    soup = BeautifulSoup(page_source, \"html.parser\")\n",
    "\n",
    "    time.sleep(2)\n",
    "\n",
    "    try:\n",
    "   \n",
    "        # 앨범 사진 가져오기\n",
    "        song_image = soup.select_one('#downloadfrm > div > div > div.thumb > a > img').get('src')\n",
    "        songImage_list.append(song_image.string)\n",
    "\n",
    "        # 가수명 가져오기\n",
    "        artist_name = soup.select_one('#downloadfrm > div > div > div.entry > div.info > div.artist > a > span:nth-child(1) ')\n",
    "        singer_list.append(artist_name.string)\n",
    "\n",
    "        # 노래제목 가져오기\n",
    "        song_name = soup.select_one(\"#downloadfrm > div > div > div.entry > div.info > div.song_name \")\n",
    "        singName_list.append(song_name.text.strip().split('\\n\\t\\t\\t\\t\\t\\t\\t\\n\\t\\t\\t\\t\\t\\t\\t\\n\\t\\t\\t\\t\\t\\t\\t\\n\\t\\t\\t\\t\\t\\t\\t\\n\\t\\t\\t\\t\\t\\t\\t')[1])\n",
    "\n",
    "        # 발매일 가져오기\n",
    "        date = soup.select_one('#downloadfrm > div > div > div.entry > div.meta > dl > dd:nth-child(4)')\n",
    "        date_list.append(date.string)\n",
    "\n",
    "        # 장르 가져오기\n",
    "        genre = soup.select_one('#downloadfrm > div > div > div.entry > div.meta > dl > dd:nth-child(6)')\n",
    "        genre_list.append(genre.string)\n",
    "\n",
    "        # 가사 가져오기\n",
    "        lyric = str(soup.select_one('#d_video_summary')).replace('<br/>', ' ').replace(\n",
    "            '<div class=\"lyric\" id=\"d_video_summary\"><!-- height:auto; 로 변경시, 확장됨 -->', '').replace('</div>', '').replace('\\t', '').replace('\\n', '')\n",
    "        lyric = lyric.replace('  ', ' ')\n",
    "        lyrics_list.append(lyric)\n",
    "\n",
    "        # 좋아요수 가져오기\n",
    "        like = soup.select_one(\"#d_like_count\")\n",
    "        like_list.append(like.text)\n",
    "\n",
    "        time.sleep(2)\n",
    "    except:\n",
    "        singer_list.append(0)\n",
    "        singName_list.append(0)\n",
    "        date_list.append(0)\n",
    "        lyrics_list.append(0)\n",
    "        like_list.append(0)\n",
    "\n",
    "        time.sleep(1)"
   ]
  },
  {
   "cell_type": "code",
   "execution_count": 55,
   "metadata": {},
   "outputs": [
    {
     "data": {
      "text/plain": [
       "[]"
      ]
     },
     "execution_count": 55,
     "metadata": {},
     "output_type": "execute_result"
    }
   ],
   "source": [
    "songImage_list"
   ]
  },
  {
   "cell_type": "code",
   "execution_count": 38,
   "metadata": {},
   "outputs": [],
   "source": [
    "ballad = {'가수명':singer_list, '노래제목':singName_list, '발매일':date_list, '장르':genre_list, '가사':lyrics_list, '좋아요수':like_list}"
   ]
  },
  {
   "cell_type": "code",
   "execution_count": 44,
   "metadata": {},
   "outputs": [
    {
     "data": {
      "text/plain": [
       "0"
      ]
     },
     "execution_count": 44,
     "metadata": {},
     "output_type": "execute_result"
    }
   ],
   "source": [
    "len(genre_list)"
   ]
  },
  {
   "cell_type": "code",
   "execution_count": 39,
   "metadata": {},
   "outputs": [
    {
     "ename": "ValueError",
     "evalue": "All arrays must be of the same length",
     "output_type": "error",
     "traceback": [
      "\u001b[0;31m---------------------------------------------------------------------------\u001b[0m",
      "\u001b[0;31mValueError\u001b[0m                                Traceback (most recent call last)",
      "\u001b[0;32m/var/folders/51/xmc_l6t13wv1nc5z6qmyg58r0000gn/T/ipykernel_22075/1123365345.py\u001b[0m in \u001b[0;36m<module>\u001b[0;34m\u001b[0m\n\u001b[1;32m      1\u001b[0m \u001b[0;32mimport\u001b[0m \u001b[0mpandas\u001b[0m \u001b[0;32mas\u001b[0m \u001b[0mpd\u001b[0m\u001b[0;34m\u001b[0m\u001b[0;34m\u001b[0m\u001b[0m\n\u001b[0;32m----> 2\u001b[0;31m \u001b[0mballad_sad2\u001b[0m \u001b[0;34m=\u001b[0m \u001b[0mpd\u001b[0m\u001b[0;34m.\u001b[0m\u001b[0mDataFrame\u001b[0m\u001b[0;34m(\u001b[0m\u001b[0mballad\u001b[0m\u001b[0;34m)\u001b[0m\u001b[0;34m\u001b[0m\u001b[0;34m\u001b[0m\u001b[0m\n\u001b[0m\u001b[1;32m      3\u001b[0m \u001b[0mballad_sad2\u001b[0m\u001b[0;34m.\u001b[0m\u001b[0mhead\u001b[0m\u001b[0;34m(\u001b[0m\u001b[0;34m)\u001b[0m\u001b[0;34m\u001b[0m\u001b[0;34m\u001b[0m\u001b[0m\n",
      "\u001b[0;32m~/opt/anaconda3/lib/python3.9/site-packages/pandas/core/frame.py\u001b[0m in \u001b[0;36m__init__\u001b[0;34m(self, data, index, columns, dtype, copy)\u001b[0m\n\u001b[1;32m    612\u001b[0m         \u001b[0;32melif\u001b[0m \u001b[0misinstance\u001b[0m\u001b[0;34m(\u001b[0m\u001b[0mdata\u001b[0m\u001b[0;34m,\u001b[0m \u001b[0mdict\u001b[0m\u001b[0;34m)\u001b[0m\u001b[0;34m:\u001b[0m\u001b[0;34m\u001b[0m\u001b[0;34m\u001b[0m\u001b[0m\n\u001b[1;32m    613\u001b[0m             \u001b[0;31m# GH#38939 de facto copy defaults to False only in non-dict cases\u001b[0m\u001b[0;34m\u001b[0m\u001b[0;34m\u001b[0m\u001b[0m\n\u001b[0;32m--> 614\u001b[0;31m             \u001b[0mmgr\u001b[0m \u001b[0;34m=\u001b[0m \u001b[0mdict_to_mgr\u001b[0m\u001b[0;34m(\u001b[0m\u001b[0mdata\u001b[0m\u001b[0;34m,\u001b[0m \u001b[0mindex\u001b[0m\u001b[0;34m,\u001b[0m \u001b[0mcolumns\u001b[0m\u001b[0;34m,\u001b[0m \u001b[0mdtype\u001b[0m\u001b[0;34m=\u001b[0m\u001b[0mdtype\u001b[0m\u001b[0;34m,\u001b[0m \u001b[0mcopy\u001b[0m\u001b[0;34m=\u001b[0m\u001b[0mcopy\u001b[0m\u001b[0;34m,\u001b[0m \u001b[0mtyp\u001b[0m\u001b[0;34m=\u001b[0m\u001b[0mmanager\u001b[0m\u001b[0;34m)\u001b[0m\u001b[0;34m\u001b[0m\u001b[0;34m\u001b[0m\u001b[0m\n\u001b[0m\u001b[1;32m    615\u001b[0m         \u001b[0;32melif\u001b[0m \u001b[0misinstance\u001b[0m\u001b[0;34m(\u001b[0m\u001b[0mdata\u001b[0m\u001b[0;34m,\u001b[0m \u001b[0mma\u001b[0m\u001b[0;34m.\u001b[0m\u001b[0mMaskedArray\u001b[0m\u001b[0;34m)\u001b[0m\u001b[0;34m:\u001b[0m\u001b[0;34m\u001b[0m\u001b[0;34m\u001b[0m\u001b[0m\n\u001b[1;32m    616\u001b[0m             \u001b[0;32mimport\u001b[0m \u001b[0mnumpy\u001b[0m\u001b[0;34m.\u001b[0m\u001b[0mma\u001b[0m\u001b[0;34m.\u001b[0m\u001b[0mmrecords\u001b[0m \u001b[0;32mas\u001b[0m \u001b[0mmrecords\u001b[0m\u001b[0;34m\u001b[0m\u001b[0;34m\u001b[0m\u001b[0m\n",
      "\u001b[0;32m~/opt/anaconda3/lib/python3.9/site-packages/pandas/core/internals/construction.py\u001b[0m in \u001b[0;36mdict_to_mgr\u001b[0;34m(data, index, columns, dtype, typ, copy)\u001b[0m\n\u001b[1;32m    462\u001b[0m         \u001b[0;31m# TODO: can we get rid of the dt64tz special case above?\u001b[0m\u001b[0;34m\u001b[0m\u001b[0;34m\u001b[0m\u001b[0m\n\u001b[1;32m    463\u001b[0m \u001b[0;34m\u001b[0m\u001b[0m\n\u001b[0;32m--> 464\u001b[0;31m     return arrays_to_mgr(\n\u001b[0m\u001b[1;32m    465\u001b[0m         \u001b[0marrays\u001b[0m\u001b[0;34m,\u001b[0m \u001b[0mdata_names\u001b[0m\u001b[0;34m,\u001b[0m \u001b[0mindex\u001b[0m\u001b[0;34m,\u001b[0m \u001b[0mcolumns\u001b[0m\u001b[0;34m,\u001b[0m \u001b[0mdtype\u001b[0m\u001b[0;34m=\u001b[0m\u001b[0mdtype\u001b[0m\u001b[0;34m,\u001b[0m \u001b[0mtyp\u001b[0m\u001b[0;34m=\u001b[0m\u001b[0mtyp\u001b[0m\u001b[0;34m,\u001b[0m \u001b[0mconsolidate\u001b[0m\u001b[0;34m=\u001b[0m\u001b[0mcopy\u001b[0m\u001b[0;34m\u001b[0m\u001b[0;34m\u001b[0m\u001b[0m\n\u001b[1;32m    466\u001b[0m     )\n",
      "\u001b[0;32m~/opt/anaconda3/lib/python3.9/site-packages/pandas/core/internals/construction.py\u001b[0m in \u001b[0;36marrays_to_mgr\u001b[0;34m(arrays, arr_names, index, columns, dtype, verify_integrity, typ, consolidate)\u001b[0m\n\u001b[1;32m    117\u001b[0m         \u001b[0;31m# figure out the index, if necessary\u001b[0m\u001b[0;34m\u001b[0m\u001b[0;34m\u001b[0m\u001b[0m\n\u001b[1;32m    118\u001b[0m         \u001b[0;32mif\u001b[0m \u001b[0mindex\u001b[0m \u001b[0;32mis\u001b[0m \u001b[0;32mNone\u001b[0m\u001b[0;34m:\u001b[0m\u001b[0;34m\u001b[0m\u001b[0;34m\u001b[0m\u001b[0m\n\u001b[0;32m--> 119\u001b[0;31m             \u001b[0mindex\u001b[0m \u001b[0;34m=\u001b[0m \u001b[0m_extract_index\u001b[0m\u001b[0;34m(\u001b[0m\u001b[0marrays\u001b[0m\u001b[0;34m)\u001b[0m\u001b[0;34m\u001b[0m\u001b[0;34m\u001b[0m\u001b[0m\n\u001b[0m\u001b[1;32m    120\u001b[0m         \u001b[0;32melse\u001b[0m\u001b[0;34m:\u001b[0m\u001b[0;34m\u001b[0m\u001b[0;34m\u001b[0m\u001b[0m\n\u001b[1;32m    121\u001b[0m             \u001b[0mindex\u001b[0m \u001b[0;34m=\u001b[0m \u001b[0mensure_index\u001b[0m\u001b[0;34m(\u001b[0m\u001b[0mindex\u001b[0m\u001b[0;34m)\u001b[0m\u001b[0;34m\u001b[0m\u001b[0;34m\u001b[0m\u001b[0m\n",
      "\u001b[0;32m~/opt/anaconda3/lib/python3.9/site-packages/pandas/core/internals/construction.py\u001b[0m in \u001b[0;36m_extract_index\u001b[0;34m(data)\u001b[0m\n\u001b[1;32m    633\u001b[0m             \u001b[0mlengths\u001b[0m \u001b[0;34m=\u001b[0m \u001b[0mlist\u001b[0m\u001b[0;34m(\u001b[0m\u001b[0mset\u001b[0m\u001b[0;34m(\u001b[0m\u001b[0mraw_lengths\u001b[0m\u001b[0;34m)\u001b[0m\u001b[0;34m)\u001b[0m\u001b[0;34m\u001b[0m\u001b[0;34m\u001b[0m\u001b[0m\n\u001b[1;32m    634\u001b[0m             \u001b[0;32mif\u001b[0m \u001b[0mlen\u001b[0m\u001b[0;34m(\u001b[0m\u001b[0mlengths\u001b[0m\u001b[0;34m)\u001b[0m \u001b[0;34m>\u001b[0m \u001b[0;36m1\u001b[0m\u001b[0;34m:\u001b[0m\u001b[0;34m\u001b[0m\u001b[0;34m\u001b[0m\u001b[0m\n\u001b[0;32m--> 635\u001b[0;31m                 \u001b[0;32mraise\u001b[0m \u001b[0mValueError\u001b[0m\u001b[0;34m(\u001b[0m\u001b[0;34m\"All arrays must be of the same length\"\u001b[0m\u001b[0;34m)\u001b[0m\u001b[0;34m\u001b[0m\u001b[0;34m\u001b[0m\u001b[0m\n\u001b[0m\u001b[1;32m    636\u001b[0m \u001b[0;34m\u001b[0m\u001b[0m\n\u001b[1;32m    637\u001b[0m             \u001b[0;32mif\u001b[0m \u001b[0mhave_dicts\u001b[0m\u001b[0;34m:\u001b[0m\u001b[0;34m\u001b[0m\u001b[0;34m\u001b[0m\u001b[0m\n",
      "\u001b[0;31mValueError\u001b[0m: All arrays must be of the same length"
     ]
    }
   ],
   "source": [
    "import pandas as pd\n",
    "ballad_sad2 = pd.DataFrame(ballad)\n",
    "ballad_sad2.head()"
   ]
  },
  {
   "cell_type": "code",
   "execution_count": null,
   "metadata": {},
   "outputs": [],
   "source": [
    "ballad_sad2.장르.unique()"
   ]
  },
  {
   "cell_type": "code",
   "execution_count": null,
   "metadata": {},
   "outputs": [],
   "source": [
    "list = ['발라드, 국내드라마','발라드, 인디음악','발라드']\n",
    "ballad_sad2 = ballad_sad2[ballad_sad2['장르'].isin(list)]"
   ]
  },
  {
   "cell_type": "code",
   "execution_count": null,
   "metadata": {},
   "outputs": [],
   "source": [
    "ballad_sad2.reset_index(drop=True, inplace=True)"
   ]
  },
  {
   "cell_type": "code",
   "execution_count": null,
   "metadata": {},
   "outputs": [],
   "source": [
    "ballad_sad2['좋아요수'] = ballad_sad2['좋아요수'].str.replace(',','')"
   ]
  },
  {
   "cell_type": "code",
   "execution_count": null,
   "metadata": {},
   "outputs": [],
   "source": [
    "ballad_sad2['발매일'] = ballad_sad2['발매일'].str.replace('.', '-')"
   ]
  },
  {
   "cell_type": "code",
   "execution_count": null,
   "metadata": {},
   "outputs": [],
   "source": [
    "ballad_sad2['발매일'] = pd.to_datetime(ballad_sad2['발매일'])"
   ]
  },
  {
   "cell_type": "code",
   "execution_count": null,
   "metadata": {},
   "outputs": [],
   "source": [
    "ballad_sad2.drop(columns='장르',inplace=True)"
   ]
  },
  {
   "cell_type": "code",
   "execution_count": null,
   "metadata": {},
   "outputs": [],
   "source": [
    "ballad_sad2.to_csv(\"../Data/ballad_sad2.csv\",index=False)"
   ]
  },
  {
   "cell_type": "code",
   "execution_count": null,
   "metadata": {},
   "outputs": [],
   "source": [
    "ballad_sad2 =pd.read_csv(\"../Data/ballad_sad2.csv\")"
   ]
  },
  {
   "cell_type": "code",
   "execution_count": null,
   "metadata": {},
   "outputs": [],
   "source": [
    "pd.DataFrame(test2).to_csv(\"../../Data/ballad_sad_songID2.csv\",index=False)"
   ]
  },
  {
   "cell_type": "code",
   "execution_count": null,
   "metadata": {},
   "outputs": [],
   "source": []
  },
  {
   "cell_type": "code",
   "execution_count": null,
   "metadata": {},
   "outputs": [],
   "source": [
    "#downloadfrm > div > div > div.thumb > a > img"
   ]
  }
 ],
 "metadata": {
  "kernelspec": {
   "display_name": "Python 3.9.7 ('base')",
   "language": "python",
   "name": "python3"
  },
  "language_info": {
   "codemirror_mode": {
    "name": "ipython",
    "version": 3
   },
   "file_extension": ".py",
   "mimetype": "text/x-python",
   "name": "python",
   "nbconvert_exporter": "python",
   "pygments_lexer": "ipython3",
   "version": "3.9.7"
  },
  "orig_nbformat": 4,
  "vscode": {
   "interpreter": {
    "hash": "c34e8390e776d2ee205b71ed5a6130fee3cef8da5e87e926ce18e14f4a070d72"
   }
  }
 },
 "nbformat": 4,
 "nbformat_minor": 2
}
