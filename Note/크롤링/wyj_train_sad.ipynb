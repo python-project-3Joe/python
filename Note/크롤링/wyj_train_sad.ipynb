{
 "cells": [
  {
   "cell_type": "code",
   "execution_count": 1,
   "metadata": {},
   "outputs": [],
   "source": [
    "from selenium import webdriver\n",
    "from selenium.webdriver.chrome.service import Service\n",
    "from webdriver_manager.chrome import ChromeDriverManager\n",
    "from selenium.webdriver.common.by import By\n",
    "from bs4 import BeautifulSoup\n",
    "import urllib.request as request\n",
    "\n",
    "from selenium.webdriver.chrome.options import Options\n",
    "from fake_useragent import UserAgent"
   ]
  },
  {
   "cell_type": "code",
   "execution_count": 2,
   "metadata": {},
   "outputs": [
    {
     "name": "stdout",
     "output_type": "stream",
     "text": [
      "Mozilla/5.0 (X11; Linux x86_64) AppleWebKit/537.36 (KHTML, like Gecko) Chrome/34.0.1847.137 Safari/4E423F\n"
     ]
    }
   ],
   "source": [
    "options = Options()\n",
    "ua = UserAgent(verify_ssl=False)\n",
    "userAgent = ua.random\n",
    "print(userAgent)"
   ]
  },
  {
   "cell_type": "code",
   "execution_count": 3,
   "metadata": {},
   "outputs": [
    {
     "name": "stdout",
     "output_type": "stream",
     "text": [
      "\n"
     ]
    },
    {
     "name": "stderr",
     "output_type": "stream",
     "text": [
      "[WDM] - ====== WebDriver manager ======\n",
      "[WDM] - Current google-chrome version is 103.0.5060\n",
      "[WDM] - Get LATEST chromedriver version for 103.0.5060 google-chrome\n",
      "[WDM] - Driver [/Users/tj/.wdm/drivers/chromedriver/mac64/103.0.5060.134/chromedriver] found in cache\n"
     ]
    }
   ],
   "source": [
    "options.add_argument(f'user-agent={userAgent}')\n",
    "# chrome_options = webdriver.ChromeOptions()\n",
    "driver = webdriver.Chrome(service=Service(ChromeDriverManager().install()), options=options)\n",
    "driver.get('https://www.melon.com/mymusic/dj/mymusicdjplaylistview_inform.htm?plylstSeq=497292073')"
   ]
  },
  {
   "cell_type": "code",
   "execution_count": 4,
   "metadata": {},
   "outputs": [],
   "source": [
    "page_source = driver.page_source\n",
    "soup = BeautifulSoup(page_source, \"html.parser\")"
   ]
  },
  {
   "cell_type": "code",
   "execution_count": 5,
   "metadata": {},
   "outputs": [
    {
     "name": "stdout",
     "output_type": "stream",
     "text": [
      "\n"
     ]
    },
    {
     "name": "stderr",
     "output_type": "stream",
     "text": [
      "[WDM] - ====== WebDriver manager ======\n",
      "[WDM] - Current google-chrome version is 103.0.5060\n",
      "[WDM] - Get LATEST chromedriver version for 103.0.5060 google-chrome\n",
      "[WDM] - Driver [/Users/tj/.wdm/drivers/chromedriver/mac64/103.0.5060.134/chromedriver] found in cache\n"
     ]
    }
   ],
   "source": [
    "import time\n",
    "\n",
    "total_lists = []\n",
    "\n",
    "driver = webdriver.Chrome(service=Service(ChromeDriverManager().install()), options=options)\n",
    "driver.get('https://www.melon.com/mymusic/dj/mymusicdjplaylistview_inform.htm?plylstSeq=497292073')\n",
    "\n",
    "time.sleep(1)\n",
    "\n",
    "page_source = driver.page_source\n",
    "soup = BeautifulSoup(page_source, \"html.parser\")\n",
    "\n",
    "time.sleep(1)\n",
    "\n",
    "songIds = soup.select(\"#frm > div > table > tbody td:nth-child(4) > div > a\")\n",
    "total_lists = total_lists + songIds\n",
    "\n",
    "time.sleep(1)"
   ]
  },
  {
   "cell_type": "code",
   "execution_count": 6,
   "metadata": {},
   "outputs": [],
   "source": [
    "test = []\n",
    "for i in range(len(total_lists)):\n",
    "    test.append(total_lists[i]['href'])"
   ]
  },
  {
   "cell_type": "code",
   "execution_count": 7,
   "metadata": {},
   "outputs": [],
   "source": [
    "test1 = []\n",
    "for i in range(len(test)):\n",
    "    test1.append(str(test[i]).split('.')[2].split(\"(\")[1].split(\")\")[0])"
   ]
  },
  {
   "cell_type": "code",
   "execution_count": 8,
   "metadata": {},
   "outputs": [],
   "source": [
    "test2 = []\n",
    "for i in range(len(test1)):\n",
    "    test2.append(str(test1[i]).strip(\"''\"))"
   ]
  },
  {
   "cell_type": "code",
   "execution_count": 9,
   "metadata": {},
   "outputs": [
    {
     "data": {
      "text/plain": [
       "['32225055',\n",
       " '4037360',\n",
       " '32028531',\n",
       " '33759183',\n",
       " '33751633',\n",
       " '5610945',\n",
       " '30290011',\n",
       " '3110148',\n",
       " '33339576',\n",
       " '31993173',\n",
       " '33453317',\n",
       " '32955381',\n",
       " '4654324',\n",
       " '31107239',\n",
       " '33720891',\n",
       " '33013877',\n",
       " '33722559',\n",
       " '30172476',\n",
       " '9646572',\n",
       " '33618271',\n",
       " '30642146',\n",
       " '32711048',\n",
       " '32142272',\n",
       " '32018045',\n",
       " '31929663',\n",
       " '4854490',\n",
       " '33625988',\n",
       " '33572275',\n",
       " '31960759',\n",
       " '31453551',\n",
       " '30690674',\n",
       " '33295747',\n",
       " '32080223',\n",
       " '31840635',\n",
       " '3136470',\n",
       " '30939454',\n",
       " '30177184',\n",
       " '31181342',\n",
       " '31788850',\n",
       " '30869144',\n",
       " '9620473',\n",
       " '3053257',\n",
       " '3899275',\n",
       " '30132701',\n",
       " '30879719',\n",
       " '31636358',\n",
       " '31740215',\n",
       " '3143550',\n",
       " '31709526',\n",
       " '2425271']"
      ]
     },
     "execution_count": 9,
     "metadata": {},
     "output_type": "execute_result"
    }
   ],
   "source": [
    "test2"
   ]
  },
  {
   "cell_type": "code",
   "execution_count": 10,
   "metadata": {},
   "outputs": [],
   "source": [
    "# 가수명, 노래제목, 발매일, 가사, 좋아요 수 리스트 변수 생성\n",
    "\n",
    "singer_list = []\n",
    "singName_list = []\n",
    "date_list = []\n",
    "genre_list = []\n",
    "lyrics_list = []\n",
    "like_list = []"
   ]
  },
  {
   "cell_type": "code",
   "execution_count": 11,
   "metadata": {},
   "outputs": [
    {
     "name": "stdout",
     "output_type": "stream",
     "text": [
      "\n"
     ]
    },
    {
     "name": "stderr",
     "output_type": "stream",
     "text": [
      "[WDM] - ====== WebDriver manager ======\n",
      "[WDM] - Current google-chrome version is 103.0.5060\n",
      "[WDM] - Get LATEST chromedriver version for 103.0.5060 google-chrome\n",
      "[WDM] - Driver [/Users/tj/.wdm/drivers/chromedriver/mac64/103.0.5060.134/chromedriver] found in cache\n"
     ]
    }
   ],
   "source": [
    "# for문으로 가수명, 노래제목, 발매일, 가사, 좋아요 수 리스트 변수에 내용 담고 저장하기\n",
    "\n",
    "chrome_options = webdriver.ChromeOptions()\n",
    "driver = webdriver.Chrome(service=Service(ChromeDriverManager().install()), options=chrome_options)\n",
    "\n",
    "for songId in test2:\n",
    "    \n",
    "    driver.get(f'https://www.melon.com/song/detail.htm?songId={songId}')\n",
    "\n",
    "    page_source = driver.page_source\n",
    "    soup = BeautifulSoup(page_source, \"html.parser\")\n",
    "\n",
    "    time.sleep(2)\n",
    "\n",
    "    try:\n",
    "    \n",
    "        # 가수명 가져오기\n",
    "        artist_name = soup.select_one('#downloadfrm > div > div > div.entry > div.info > div.artist > a > span:nth-child(1) ')\n",
    "        singer_list.append(artist_name.string)\n",
    "\n",
    "        # 노래제목 가져오기\n",
    "        song_name = soup.select_one(\"#downloadfrm > div > div > div.entry > div.info > div.song_name \")\n",
    "        singName_list.append(song_name.text.strip().split('\\n\\t\\t\\t\\t\\t\\t\\t\\n\\t\\t\\t\\t\\t\\t\\t\\n\\t\\t\\t\\t\\t\\t\\t\\n\\t\\t\\t\\t\\t\\t\\t\\n\\t\\t\\t\\t\\t\\t\\t')[1])\n",
    "\n",
    "        # 발매일 가져오기\n",
    "        date = soup.select_one('#downloadfrm > div > div > div.entry > div.meta > dl > dd:nth-child(4)')\n",
    "        date_list.append(date.string)\n",
    "\n",
    "        # 장르 가져오기\n",
    "        genre = soup.select_one('#downloadfrm > div > div > div.entry > div.meta > dl > dd:nth-child(6)')\n",
    "        genre_list.append(genre.string)\n",
    "\n",
    "        # 가사 가져오기\n",
    "        lyric = str(soup.select_one('#d_video_summary')).replace('<br/>', ' ').replace(\n",
    "            '<div class=\"lyric\" id=\"d_video_summary\"><!-- height:auto; 로 변경시, 확장됨 -->', '').replace('</div>', '').replace('\\t', '').replace('\\n', '')\n",
    "        lyric = lyric.replace('  ', ' ')\n",
    "        lyrics_list.append(lyric)\n",
    "\n",
    "        # 좋아요수 가져오기\n",
    "        like = soup.select_one(\"#d_like_count\")\n",
    "        like_list.append(like.text)\n",
    "\n",
    "        time.sleep(2)\n",
    "    except:\n",
    "        singer_list.append(0)\n",
    "        singName_list.append(0)\n",
    "        date_list.append(0)\n",
    "        lyrics_list.append(0)\n",
    "        like_list.append(0)\n",
    "\n",
    "        time.sleep(1)"
   ]
  },
  {
   "cell_type": "code",
   "execution_count": 12,
   "metadata": {},
   "outputs": [],
   "source": [
    "ballad = {'가수명':singer_list, '노래제목':singName_list, '발매일':date_list, '장르':genre_list, '가사':lyrics_list, '좋아요수':like_list}"
   ]
  },
  {
   "cell_type": "code",
   "execution_count": 13,
   "metadata": {},
   "outputs": [],
   "source": [
    "import pandas as pd"
   ]
  },
  {
   "cell_type": "code",
   "execution_count": 14,
   "metadata": {},
   "outputs": [
    {
     "data": {
      "text/html": [
       "<div>\n",
       "<style scoped>\n",
       "    .dataframe tbody tr th:only-of-type {\n",
       "        vertical-align: middle;\n",
       "    }\n",
       "\n",
       "    .dataframe tbody tr th {\n",
       "        vertical-align: top;\n",
       "    }\n",
       "\n",
       "    .dataframe thead th {\n",
       "        text-align: right;\n",
       "    }\n",
       "</style>\n",
       "<table border=\"1\" class=\"dataframe\">\n",
       "  <thead>\n",
       "    <tr style=\"text-align: right;\">\n",
       "      <th></th>\n",
       "      <th>가수명</th>\n",
       "      <th>노래제목</th>\n",
       "      <th>발매일</th>\n",
       "      <th>장르</th>\n",
       "      <th>가사</th>\n",
       "      <th>좋아요수</th>\n",
       "    </tr>\n",
       "  </thead>\n",
       "  <tbody>\n",
       "    <tr>\n",
       "      <th>0</th>\n",
       "      <td>V.O.S</td>\n",
       "      <td>잘 살고 있다</td>\n",
       "      <td>2019.12.02</td>\n",
       "      <td>발라드</td>\n",
       "      <td>한잔 술에 잊자 그만 나도 숨 좀 쉬자 제발 마치 주문처럼 매일 읊조렸던 넌 모르는...</td>\n",
       "      <td>38,512</td>\n",
       "    </tr>\n",
       "    <tr>\n",
       "      <th>1</th>\n",
       "      <td>주보라</td>\n",
       "      <td>네가 없다 (Without You)</td>\n",
       "      <td>2013.02.19</td>\n",
       "      <td>발라드</td>\n",
       "      <td>서툰 작별이었는지 아련한 슬픔 속에 눈물이 멈추질 않아 너무나 어렸던 걸까 내 이기...</td>\n",
       "      <td>2,948</td>\n",
       "    </tr>\n",
       "    <tr>\n",
       "      <th>2</th>\n",
       "      <td>휘인 (Whee In)</td>\n",
       "      <td>헤어지자 (Prod. 정키)</td>\n",
       "      <td>2019.09.04</td>\n",
       "      <td>발라드</td>\n",
       "      <td>그럴 수도 있지 생각했어 잊어 보려 했어 지난 날의 모든 걸 노력했어 다시 시작해 ...</td>\n",
       "      <td>115,664</td>\n",
       "    </tr>\n",
       "    <tr>\n",
       "      <th>3</th>\n",
       "      <td>헤이즈 (Heize)</td>\n",
       "      <td>비가 오는 날엔 (2021)</td>\n",
       "      <td>2021.08.04</td>\n",
       "      <td>발라드, 국내드라마</td>\n",
       "      <td>세상이 어두워지고 조용히 비가 내리면 여전히 그대로 오늘도 어김없이 난 벗어나질 못...</td>\n",
       "      <td>73,229</td>\n",
       "    </tr>\n",
       "    <tr>\n",
       "      <th>4</th>\n",
       "      <td>스트레이 (The Stray)</td>\n",
       "      <td>그냥, 묻고 싶었어</td>\n",
       "      <td>2021.08.04</td>\n",
       "      <td>발라드, 인디음악</td>\n",
       "      <td>외로운 내 마음의 불꽃은 아픔으로 가득 찬 과거를 불태워 차디찬 이곳에서 벗어나게 ...</td>\n",
       "      <td>1,758</td>\n",
       "    </tr>\n",
       "  </tbody>\n",
       "</table>\n",
       "</div>"
      ],
      "text/plain": [
       "                가수명                 노래제목         발매일          장르  \\\n",
       "0             V.O.S              잘 살고 있다  2019.12.02         발라드   \n",
       "1               주보라  네가 없다 (Without You)  2013.02.19         발라드   \n",
       "2      휘인 (Whee In)      헤어지자 (Prod. 정키)  2019.09.04         발라드   \n",
       "3       헤이즈 (Heize)      비가 오는 날엔 (2021)  2021.08.04  발라드, 국내드라마   \n",
       "4  스트레이 (The Stray)           그냥, 묻고 싶었어  2021.08.04   발라드, 인디음악   \n",
       "\n",
       "                                                  가사     좋아요수  \n",
       "0  한잔 술에 잊자 그만 나도 숨 좀 쉬자 제발 마치 주문처럼 매일 읊조렸던 넌 모르는...   38,512  \n",
       "1  서툰 작별이었는지 아련한 슬픔 속에 눈물이 멈추질 않아 너무나 어렸던 걸까 내 이기...    2,948  \n",
       "2  그럴 수도 있지 생각했어 잊어 보려 했어 지난 날의 모든 걸 노력했어 다시 시작해 ...  115,664  \n",
       "3  세상이 어두워지고 조용히 비가 내리면 여전히 그대로 오늘도 어김없이 난 벗어나질 못...   73,229  \n",
       "4  외로운 내 마음의 불꽃은 아픔으로 가득 찬 과거를 불태워 차디찬 이곳에서 벗어나게 ...    1,758  "
      ]
     },
     "execution_count": 14,
     "metadata": {},
     "output_type": "execute_result"
    }
   ],
   "source": [
    "ballad_sad= pd.DataFrame(ballad)\n",
    "ballad_sad.head()"
   ]
  },
  {
   "cell_type": "code",
   "execution_count": 15,
   "metadata": {},
   "outputs": [],
   "source": [
    "ballad_sad = ballad_sad[ballad_sad.장르 != 'R&B/Soul']"
   ]
  },
  {
   "cell_type": "code",
   "execution_count": 16,
   "metadata": {},
   "outputs": [],
   "source": [
    "ballad_sad = ballad_sad[ballad_sad.장르 != 'R&B/Soul, 국내드라마']"
   ]
  },
  {
   "cell_type": "code",
   "execution_count": 17,
   "metadata": {},
   "outputs": [],
   "source": [
    "ballad_sad = ballad_sad[ballad_sad != 'R&B/Soul, 인디음악']"
   ]
  },
  {
   "cell_type": "code",
   "execution_count": 18,
   "metadata": {},
   "outputs": [],
   "source": [
    "ballad_sad = ballad_sad[ballad_sad.장르 != '인디음악, 포크/블루스']"
   ]
  },
  {
   "cell_type": "code",
   "execution_count": 19,
   "metadata": {},
   "outputs": [],
   "source": [
    "ballad_sad = ballad_sad[ballad_sad.장르 != '랩/힙합']"
   ]
  },
  {
   "cell_type": "code",
   "execution_count": 20,
   "metadata": {},
   "outputs": [],
   "source": [
    "ballad_sad = ballad_sad[ballad_sad.장르 != 'NaN']"
   ]
  },
  {
   "cell_type": "code",
   "execution_count": 21,
   "metadata": {},
   "outputs": [],
   "source": [
    "ballad_sad.장르= ballad_sad.장르.replace('발라드, 국내드라마','발라드')"
   ]
  },
  {
   "cell_type": "code",
   "execution_count": 22,
   "metadata": {},
   "outputs": [],
   "source": [
    "ballad_sad.장르= ballad_sad.장르.replace('발라드, 인디음악','발라드')"
   ]
  },
  {
   "cell_type": "code",
   "execution_count": 23,
   "metadata": {},
   "outputs": [],
   "source": [
    "ballad_sad.reset_index(drop=True,inplace=True)"
   ]
  },
  {
   "cell_type": "code",
   "execution_count": 24,
   "metadata": {},
   "outputs": [],
   "source": [
    "ballad_sad['좋아요수'] = ballad_sad['좋아요수'].str.replace(',','')"
   ]
  },
  {
   "cell_type": "code",
   "execution_count": 25,
   "metadata": {},
   "outputs": [
    {
     "name": "stderr",
     "output_type": "stream",
     "text": [
      "/var/folders/51/xmc_l6t13wv1nc5z6qmyg58r0000gn/T/ipykernel_4465/1511717123.py:1: FutureWarning: The default value of regex will change from True to False in a future version. In addition, single character regular expressions will *not* be treated as literal strings when regex=True.\n",
      "  ballad_sad['발매일'] = ballad_sad['발매일'].str.replace('.', '-')\n"
     ]
    }
   ],
   "source": [
    "ballad_sad['발매일'] = ballad_sad['발매일'].str.replace('.', '-')"
   ]
  },
  {
   "cell_type": "code",
   "execution_count": 26,
   "metadata": {},
   "outputs": [],
   "source": [
    "ballad_sad['발매일'] = pd.to_datetime(ballad_sad['발매일'])"
   ]
  },
  {
   "cell_type": "code",
   "execution_count": 27,
   "metadata": {},
   "outputs": [],
   "source": [
    "ballad_sad.drop(columns='장르',inplace=True)"
   ]
  },
  {
   "cell_type": "code",
   "execution_count": 28,
   "metadata": {},
   "outputs": [
    {
     "data": {
      "text/html": [
       "<div>\n",
       "<style scoped>\n",
       "    .dataframe tbody tr th:only-of-type {\n",
       "        vertical-align: middle;\n",
       "    }\n",
       "\n",
       "    .dataframe tbody tr th {\n",
       "        vertical-align: top;\n",
       "    }\n",
       "\n",
       "    .dataframe thead th {\n",
       "        text-align: right;\n",
       "    }\n",
       "</style>\n",
       "<table border=\"1\" class=\"dataframe\">\n",
       "  <thead>\n",
       "    <tr style=\"text-align: right;\">\n",
       "      <th></th>\n",
       "      <th>가수명</th>\n",
       "      <th>노래제목</th>\n",
       "      <th>발매일</th>\n",
       "      <th>가사</th>\n",
       "      <th>좋아요수</th>\n",
       "    </tr>\n",
       "  </thead>\n",
       "  <tbody>\n",
       "    <tr>\n",
       "      <th>0</th>\n",
       "      <td>V.O.S</td>\n",
       "      <td>잘 살고 있다</td>\n",
       "      <td>2019-12-02</td>\n",
       "      <td>한잔 술에 잊자 그만 나도 숨 좀 쉬자 제발 마치 주문처럼 매일 읊조렸던 넌 모르는...</td>\n",
       "      <td>38512</td>\n",
       "    </tr>\n",
       "    <tr>\n",
       "      <th>1</th>\n",
       "      <td>주보라</td>\n",
       "      <td>네가 없다 (Without You)</td>\n",
       "      <td>2013-02-19</td>\n",
       "      <td>서툰 작별이었는지 아련한 슬픔 속에 눈물이 멈추질 않아 너무나 어렸던 걸까 내 이기...</td>\n",
       "      <td>2948</td>\n",
       "    </tr>\n",
       "    <tr>\n",
       "      <th>2</th>\n",
       "      <td>휘인 (Whee In)</td>\n",
       "      <td>헤어지자 (Prod. 정키)</td>\n",
       "      <td>2019-09-04</td>\n",
       "      <td>그럴 수도 있지 생각했어 잊어 보려 했어 지난 날의 모든 걸 노력했어 다시 시작해 ...</td>\n",
       "      <td>115664</td>\n",
       "    </tr>\n",
       "    <tr>\n",
       "      <th>3</th>\n",
       "      <td>헤이즈 (Heize)</td>\n",
       "      <td>비가 오는 날엔 (2021)</td>\n",
       "      <td>2021-08-04</td>\n",
       "      <td>세상이 어두워지고 조용히 비가 내리면 여전히 그대로 오늘도 어김없이 난 벗어나질 못...</td>\n",
       "      <td>73229</td>\n",
       "    </tr>\n",
       "    <tr>\n",
       "      <th>4</th>\n",
       "      <td>스트레이 (The Stray)</td>\n",
       "      <td>그냥, 묻고 싶었어</td>\n",
       "      <td>2021-08-04</td>\n",
       "      <td>외로운 내 마음의 불꽃은 아픔으로 가득 찬 과거를 불태워 차디찬 이곳에서 벗어나게 ...</td>\n",
       "      <td>1758</td>\n",
       "    </tr>\n",
       "    <tr>\n",
       "      <th>5</th>\n",
       "      <td>정키</td>\n",
       "      <td>부담이 돼 (Feat. 휘인 Of 마마무)</td>\n",
       "      <td>2017-03-08</td>\n",
       "      <td>더는 할 말이 없어 다른 이유도 어떤 변명도 난 의미 없단 걸 알아 끝이란 게 다 ...</td>\n",
       "      <td>134029</td>\n",
       "    </tr>\n",
       "    <tr>\n",
       "      <th>6</th>\n",
       "      <td>나비 (Navi)</td>\n",
       "      <td>잘 된 일이야</td>\n",
       "      <td>2011-01-19</td>\n",
       "      <td>Hello Hello Hello Hello Hello Don't cry Don't ...</td>\n",
       "      <td>42209</td>\n",
       "    </tr>\n",
       "    <tr>\n",
       "      <th>7</th>\n",
       "      <td>펀치 (Punch)</td>\n",
       "      <td>안녕 내 전부였던 너</td>\n",
       "      <td>2021-03-10</td>\n",
       "      <td>안녕 안녕 이제 인사를 해야지 너와 나의 이별인데 아니 아니 나는 그게 안될것 같아...</td>\n",
       "      <td>14135</td>\n",
       "    </tr>\n",
       "    <tr>\n",
       "      <th>8</th>\n",
       "      <td>펀치 (Punch)</td>\n",
       "      <td>Done For Me</td>\n",
       "      <td>2019-08-18</td>\n",
       "      <td>지울게 너에게 남겨줬던 추억까지도 바랄게 너와의 기억도 남지 못하게 더는 다가갈 수...</td>\n",
       "      <td>100916</td>\n",
       "    </tr>\n",
       "    <tr>\n",
       "      <th>9</th>\n",
       "      <td>펀치 (Punch)</td>\n",
       "      <td>이 밤의 끝</td>\n",
       "      <td>2018-05-31</td>\n",
       "      <td>널 보면 나와 달라 이렇게 난 네 생각뿐인데 널 사랑했던 만큼 아파야 하는 걸까 난...</td>\n",
       "      <td>47764</td>\n",
       "    </tr>\n",
       "    <tr>\n",
       "      <th>10</th>\n",
       "      <td>전상근</td>\n",
       "      <td>너무 보고싶어</td>\n",
       "      <td>2021-07-25</td>\n",
       "      <td>혼자 이별을 하고 가버리면 난 어떡하라고 너 없는 하루를 살아보고 너 없는 채로 잠...</td>\n",
       "      <td>18728</td>\n",
       "    </tr>\n",
       "    <tr>\n",
       "      <th>11</th>\n",
       "      <td>장범준</td>\n",
       "      <td>잠이 오질 않네요</td>\n",
       "      <td>2020-10-24</td>\n",
       "      <td>당신은 날 설레게 만들어 조용한 내 마음 자꾸만 춤추게 해 얼마나 얼마나 날 떨리게...</td>\n",
       "      <td>159026</td>\n",
       "    </tr>\n",
       "    <tr>\n",
       "      <th>12</th>\n",
       "      <td>강고은</td>\n",
       "      <td>같은 시간 속 우린 여기까지인 거야</td>\n",
       "      <td>2021-07-24</td>\n",
       "      <td>어떻게 말을 꺼 내야 할까 내 하루 속엔 없어 네가 떨어지지 않는 내 마른 입술 끝...</td>\n",
       "      <td>4477</td>\n",
       "    </tr>\n",
       "    <tr>\n",
       "      <th>13</th>\n",
       "      <td>권진아</td>\n",
       "      <td>끝</td>\n",
       "      <td>2016-09-19</td>\n",
       "      <td>한참을 아무 말도 없었다 어색한 공기만 우릴 감싸고 있다 너는 고개를 돌린 채로 한...</td>\n",
       "      <td>140318</td>\n",
       "    </tr>\n",
       "    <tr>\n",
       "      <th>14</th>\n",
       "      <td>빅마마</td>\n",
       "      <td>하루만 더</td>\n",
       "      <td>2021-06-24</td>\n",
       "      <td>하루만 더 우리 이별을 늦춘다면 어땠을까 그럴 일 없다는 걸 나는 알면서도 아직 널...</td>\n",
       "      <td>58506</td>\n",
       "    </tr>\n",
       "    <tr>\n",
       "      <th>15</th>\n",
       "      <td>그리즐리 (Grizzly)</td>\n",
       "      <td>달라</td>\n",
       "      <td>2017-09-21</td>\n",
       "      <td>니가 나와 다르다는 걸 인정하는 것과는 달라 현실에 안주하려는 너와 낭만적인 삶을 ...</td>\n",
       "      <td>11081</td>\n",
       "    </tr>\n",
       "    <tr>\n",
       "      <th>16</th>\n",
       "      <td>황인욱</td>\n",
       "      <td>이별주</td>\n",
       "      <td>2019-11-01</td>\n",
       "      <td>오늘이 지나면 널 지워야겠지 흔들리는 이 술잔이 너의 마음 같아서 아무 말 안 해도...</td>\n",
       "      <td>60822</td>\n",
       "    </tr>\n",
       "    <tr>\n",
       "      <th>17</th>\n",
       "      <td>사이로(415)</td>\n",
       "      <td>우리 둘 사이로</td>\n",
       "      <td>2019-08-29</td>\n",
       "      <td>Forget me close your eyes Forget me close your...</td>\n",
       "      <td>5998</td>\n",
       "    </tr>\n",
       "    <tr>\n",
       "      <th>18</th>\n",
       "      <td>이우</td>\n",
       "      <td>내 안부</td>\n",
       "      <td>2019-07-16</td>\n",
       "      <td>내 소식 들었지 너와 헤어지고 참 많이 울고 힘들게 버티다 이해심이 많은 좋은 사람...</td>\n",
       "      <td>64527</td>\n",
       "    </tr>\n",
       "    <tr>\n",
       "      <th>19</th>\n",
       "      <td>MSG워너비(M.O.M)</td>\n",
       "      <td>바라만 본다</td>\n",
       "      <td>2021-06-26</td>\n",
       "      <td>내가 너라면 다 알아볼 텐데 널 위할 사람 찾아낼 텐데 지난 오랜 시간 너의 그 곁...</td>\n",
       "      <td>179238</td>\n",
       "    </tr>\n",
       "    <tr>\n",
       "      <th>20</th>\n",
       "      <td>전상근</td>\n",
       "      <td>오늘따라 더 미운 그대가</td>\n",
       "      <td>2021-06-13</td>\n",
       "      <td>조금은 괜찮다 생각했는데 이제는 잊혀질 때도 됐는데 아무렇지 않다가도 그대가 없단 ...</td>\n",
       "      <td>25819</td>\n",
       "    </tr>\n",
       "    <tr>\n",
       "      <th>21</th>\n",
       "      <td>윤토벤</td>\n",
       "      <td>서툰 이별을 하려해 (Feat.전상근)</td>\n",
       "      <td>2019-08-01</td>\n",
       "      <td>우리 이제 헤어지기로해 너도 알잖아 우린 충분했다는걸 이별이 무서워 자꾸 피해보지만...</td>\n",
       "      <td>81248</td>\n",
       "    </tr>\n",
       "    <tr>\n",
       "      <th>22</th>\n",
       "      <td>허각</td>\n",
       "      <td>흔한 이별</td>\n",
       "      <td>2018-11-28</td>\n",
       "      <td>매일 집으로 돌아가는 익숙한 골목 거리 사이 불어온 볼 스치는 차가워진 이 바람을 ...</td>\n",
       "      <td>81848</td>\n",
       "    </tr>\n",
       "    <tr>\n",
       "      <th>23</th>\n",
       "      <td>포맨 (4MEN)</td>\n",
       "      <td>눈 떠보니 이별이더라</td>\n",
       "      <td>2017-10-24</td>\n",
       "      <td>분명 나는 꿈을 꾼 거다 눈 떠보니 이별이더라 휴대폰을 확인해 봤더니 다시 봐도 이...</td>\n",
       "      <td>115695</td>\n",
       "    </tr>\n",
       "    <tr>\n",
       "      <th>24</th>\n",
       "      <td>이소정</td>\n",
       "      <td>함께 했는데 이별은 나 혼자인 거야</td>\n",
       "      <td>2021-02-19</td>\n",
       "      <td>이젠 누군갈 만나는 게 난 아직은 힘이 들것 같아 다시는 믿고 싶지 않아 왜 난 사...</td>\n",
       "      <td>47706</td>\n",
       "    </tr>\n",
       "    <tr>\n",
       "      <th>25</th>\n",
       "      <td>이우</td>\n",
       "      <td>이별행동</td>\n",
       "      <td>2019-10-06</td>\n",
       "      <td>자꾸만 연락을 피하고 바쁘다며 약속을 미루고 점점 변해가는 네 모습 무심한 말투 조...</td>\n",
       "      <td>58649</td>\n",
       "    </tr>\n",
       "    <tr>\n",
       "      <th>26</th>\n",
       "      <td>김나영</td>\n",
       "      <td>널 미워하지 않길 (Prod. By 하동균)</td>\n",
       "      <td>2016-12-30</td>\n",
       "      <td>그게 또 그래 이별이란 게 생각과는 늘 다르게 우리 좋았던 기억만 전부 지우고 나타...</td>\n",
       "      <td>21897</td>\n",
       "    </tr>\n",
       "    <tr>\n",
       "      <th>27</th>\n",
       "      <td>다비치</td>\n",
       "      <td>마치 우린 없었던 사이 (Prod. 정키)</td>\n",
       "      <td>2018-07-12</td>\n",
       "      <td>비 내리는 날 창가에 앉아 서두르던 일상을 달래다 울적해진 마음잡고 써 내려가다 울...</td>\n",
       "      <td>50062</td>\n",
       "    </tr>\n",
       "    <tr>\n",
       "      <th>28</th>\n",
       "      <td>송하예</td>\n",
       "      <td>니 소식</td>\n",
       "      <td>2019-05-11</td>\n",
       "      <td>그때의 우리 사랑 뜨겁고 치열했는데 끝나보니 남는건 미움뿐 몇번의 계절을 더 보내야...</td>\n",
       "      <td>195103</td>\n",
       "    </tr>\n",
       "    <tr>\n",
       "      <th>29</th>\n",
       "      <td>권진아</td>\n",
       "      <td>이별 뒷면</td>\n",
       "      <td>2018-02-02</td>\n",
       "      <td>좁은 골목길은 또 하염없이 멀어져 마주앉은 탁자 반대편마저도 뻗어봐도 맞닿을 수가 ...</td>\n",
       "      <td>58856</td>\n",
       "    </tr>\n",
       "    <tr>\n",
       "      <th>30</th>\n",
       "      <td>아이유</td>\n",
       "      <td>첫 이별 그날 밤</td>\n",
       "      <td>2010-12-09</td>\n",
       "      <td>멍하니 아무 일도 할 일이 없어 이게 이별인 거니 전화기 가득 찬 너와의 메시지만 ...</td>\n",
       "      <td>93381</td>\n",
       "    </tr>\n",
       "    <tr>\n",
       "      <th>31</th>\n",
       "      <td>스웨덴세탁소</td>\n",
       "      <td>우리가 있던 시간</td>\n",
       "      <td>2012-09-07</td>\n",
       "      <td>생각한다 지난 날들 눈이 부시도록 아름다웠던 사라진다 뜨겁게 안아주던 네 손 끝 향...</td>\n",
       "      <td>26459</td>\n",
       "    </tr>\n",
       "    <tr>\n",
       "      <th>32</th>\n",
       "      <td>강민경 (다비치)</td>\n",
       "      <td>사랑해서 그래</td>\n",
       "      <td>2019-02-27</td>\n",
       "      <td>잘 있니 잘 지내니 나는 요즘 부쩍 네가 보고 싶어 그래 알아 너는 다신 내가 보기...</td>\n",
       "      <td>32146</td>\n",
       "    </tr>\n",
       "    <tr>\n",
       "      <th>33</th>\n",
       "      <td>정효빈</td>\n",
       "      <td>처음이라서</td>\n",
       "      <td>2019-04-16</td>\n",
       "      <td>떨어질 줄 몰랐던 너의 품도 잡은 손에 스치던 봄바람도 떨리던 입맞춤도 맞춰 걷던 ...</td>\n",
       "      <td>58777</td>\n",
       "    </tr>\n",
       "    <tr>\n",
       "      <th>34</th>\n",
       "      <td>아이유</td>\n",
       "      <td>나만 몰랐던 이야기</td>\n",
       "      <td>2011-02-17</td>\n",
       "      <td>정말 넌 다 잊었더라 반갑게 날 보는 너의 얼굴 보니 그제야 어렴풋이 아파오더라 새...</td>\n",
       "      <td>110805</td>\n",
       "    </tr>\n",
       "    <tr>\n",
       "      <th>35</th>\n",
       "      <td>윤하 (YOUNHA)</td>\n",
       "      <td>오늘 헤어졌어요</td>\n",
       "      <td>2009-12-11</td>\n",
       "      <td>새하얀 머플러에 얼굴을 묻고 붉어진 눈을 깜빡이며 널 기다렸어 무슨 얘길 하고 픈지...</td>\n",
       "      <td>82634</td>\n",
       "    </tr>\n",
       "  </tbody>\n",
       "</table>\n",
       "</div>"
      ],
      "text/plain": [
       "                 가수명                      노래제목        발매일  \\\n",
       "0              V.O.S                   잘 살고 있다 2019-12-02   \n",
       "1                주보라       네가 없다 (Without You) 2013-02-19   \n",
       "2       휘인 (Whee In)           헤어지자 (Prod. 정키) 2019-09-04   \n",
       "3        헤이즈 (Heize)           비가 오는 날엔 (2021) 2021-08-04   \n",
       "4   스트레이 (The Stray)                그냥, 묻고 싶었어 2021-08-04   \n",
       "5                 정키   부담이 돼 (Feat. 휘인 Of 마마무) 2017-03-08   \n",
       "6          나비 (Navi)                   잘 된 일이야 2011-01-19   \n",
       "7         펀치 (Punch)               안녕 내 전부였던 너 2021-03-10   \n",
       "8         펀치 (Punch)               Done For Me 2019-08-18   \n",
       "9         펀치 (Punch)                    이 밤의 끝 2018-05-31   \n",
       "10               전상근                   너무 보고싶어 2021-07-25   \n",
       "11               장범준                 잠이 오질 않네요 2020-10-24   \n",
       "12               강고은       같은 시간 속 우린 여기까지인 거야 2021-07-24   \n",
       "13               권진아                         끝 2016-09-19   \n",
       "14               빅마마                     하루만 더 2021-06-24   \n",
       "15    그리즐리 (Grizzly)                        달라 2017-09-21   \n",
       "16               황인욱                       이별주 2019-11-01   \n",
       "17          사이로(415)                  우리 둘 사이로 2019-08-29   \n",
       "18                이우                      내 안부 2019-07-16   \n",
       "19     MSG워너비(M.O.M)                    바라만 본다 2021-06-26   \n",
       "20               전상근             오늘따라 더 미운 그대가 2021-06-13   \n",
       "21               윤토벤     서툰 이별을 하려해 (Feat.전상근) 2019-08-01   \n",
       "22                허각                     흔한 이별 2018-11-28   \n",
       "23         포맨 (4MEN)               눈 떠보니 이별이더라 2017-10-24   \n",
       "24               이소정       함께 했는데 이별은 나 혼자인 거야 2021-02-19   \n",
       "25                이우                      이별행동 2019-10-06   \n",
       "26               김나영  널 미워하지 않길 (Prod. By 하동균) 2016-12-30   \n",
       "27               다비치   마치 우린 없었던 사이 (Prod. 정키) 2018-07-12   \n",
       "28               송하예                      니 소식 2019-05-11   \n",
       "29               권진아                     이별 뒷면 2018-02-02   \n",
       "30               아이유                 첫 이별 그날 밤 2010-12-09   \n",
       "31            스웨덴세탁소                 우리가 있던 시간 2012-09-07   \n",
       "32         강민경 (다비치)                   사랑해서 그래 2019-02-27   \n",
       "33               정효빈                     처음이라서 2019-04-16   \n",
       "34               아이유                나만 몰랐던 이야기 2011-02-17   \n",
       "35       윤하 (YOUNHA)                  오늘 헤어졌어요 2009-12-11   \n",
       "\n",
       "                                                   가사    좋아요수  \n",
       "0   한잔 술에 잊자 그만 나도 숨 좀 쉬자 제발 마치 주문처럼 매일 읊조렸던 넌 모르는...   38512  \n",
       "1   서툰 작별이었는지 아련한 슬픔 속에 눈물이 멈추질 않아 너무나 어렸던 걸까 내 이기...    2948  \n",
       "2   그럴 수도 있지 생각했어 잊어 보려 했어 지난 날의 모든 걸 노력했어 다시 시작해 ...  115664  \n",
       "3   세상이 어두워지고 조용히 비가 내리면 여전히 그대로 오늘도 어김없이 난 벗어나질 못...   73229  \n",
       "4   외로운 내 마음의 불꽃은 아픔으로 가득 찬 과거를 불태워 차디찬 이곳에서 벗어나게 ...    1758  \n",
       "5   더는 할 말이 없어 다른 이유도 어떤 변명도 난 의미 없단 걸 알아 끝이란 게 다 ...  134029  \n",
       "6   Hello Hello Hello Hello Hello Don't cry Don't ...   42209  \n",
       "7   안녕 안녕 이제 인사를 해야지 너와 나의 이별인데 아니 아니 나는 그게 안될것 같아...   14135  \n",
       "8   지울게 너에게 남겨줬던 추억까지도 바랄게 너와의 기억도 남지 못하게 더는 다가갈 수...  100916  \n",
       "9   널 보면 나와 달라 이렇게 난 네 생각뿐인데 널 사랑했던 만큼 아파야 하는 걸까 난...   47764  \n",
       "10  혼자 이별을 하고 가버리면 난 어떡하라고 너 없는 하루를 살아보고 너 없는 채로 잠...   18728  \n",
       "11  당신은 날 설레게 만들어 조용한 내 마음 자꾸만 춤추게 해 얼마나 얼마나 날 떨리게...  159026  \n",
       "12  어떻게 말을 꺼 내야 할까 내 하루 속엔 없어 네가 떨어지지 않는 내 마른 입술 끝...    4477  \n",
       "13  한참을 아무 말도 없었다 어색한 공기만 우릴 감싸고 있다 너는 고개를 돌린 채로 한...  140318  \n",
       "14  하루만 더 우리 이별을 늦춘다면 어땠을까 그럴 일 없다는 걸 나는 알면서도 아직 널...   58506  \n",
       "15  니가 나와 다르다는 걸 인정하는 것과는 달라 현실에 안주하려는 너와 낭만적인 삶을 ...   11081  \n",
       "16  오늘이 지나면 널 지워야겠지 흔들리는 이 술잔이 너의 마음 같아서 아무 말 안 해도...   60822  \n",
       "17  Forget me close your eyes Forget me close your...    5998  \n",
       "18  내 소식 들었지 너와 헤어지고 참 많이 울고 힘들게 버티다 이해심이 많은 좋은 사람...   64527  \n",
       "19  내가 너라면 다 알아볼 텐데 널 위할 사람 찾아낼 텐데 지난 오랜 시간 너의 그 곁...  179238  \n",
       "20  조금은 괜찮다 생각했는데 이제는 잊혀질 때도 됐는데 아무렇지 않다가도 그대가 없단 ...   25819  \n",
       "21  우리 이제 헤어지기로해 너도 알잖아 우린 충분했다는걸 이별이 무서워 자꾸 피해보지만...   81248  \n",
       "22  매일 집으로 돌아가는 익숙한 골목 거리 사이 불어온 볼 스치는 차가워진 이 바람을 ...   81848  \n",
       "23  분명 나는 꿈을 꾼 거다 눈 떠보니 이별이더라 휴대폰을 확인해 봤더니 다시 봐도 이...  115695  \n",
       "24  이젠 누군갈 만나는 게 난 아직은 힘이 들것 같아 다시는 믿고 싶지 않아 왜 난 사...   47706  \n",
       "25  자꾸만 연락을 피하고 바쁘다며 약속을 미루고 점점 변해가는 네 모습 무심한 말투 조...   58649  \n",
       "26  그게 또 그래 이별이란 게 생각과는 늘 다르게 우리 좋았던 기억만 전부 지우고 나타...   21897  \n",
       "27  비 내리는 날 창가에 앉아 서두르던 일상을 달래다 울적해진 마음잡고 써 내려가다 울...   50062  \n",
       "28  그때의 우리 사랑 뜨겁고 치열했는데 끝나보니 남는건 미움뿐 몇번의 계절을 더 보내야...  195103  \n",
       "29  좁은 골목길은 또 하염없이 멀어져 마주앉은 탁자 반대편마저도 뻗어봐도 맞닿을 수가 ...   58856  \n",
       "30  멍하니 아무 일도 할 일이 없어 이게 이별인 거니 전화기 가득 찬 너와의 메시지만 ...   93381  \n",
       "31  생각한다 지난 날들 눈이 부시도록 아름다웠던 사라진다 뜨겁게 안아주던 네 손 끝 향...   26459  \n",
       "32  잘 있니 잘 지내니 나는 요즘 부쩍 네가 보고 싶어 그래 알아 너는 다신 내가 보기...   32146  \n",
       "33  떨어질 줄 몰랐던 너의 품도 잡은 손에 스치던 봄바람도 떨리던 입맞춤도 맞춰 걷던 ...   58777  \n",
       "34  정말 넌 다 잊었더라 반갑게 날 보는 너의 얼굴 보니 그제야 어렴풋이 아파오더라 새...  110805  \n",
       "35  새하얀 머플러에 얼굴을 묻고 붉어진 눈을 깜빡이며 널 기다렸어 무슨 얘길 하고 픈지...   82634  "
      ]
     },
     "execution_count": 28,
     "metadata": {},
     "output_type": "execute_result"
    }
   ],
   "source": [
    "ballad_sad"
   ]
  },
  {
   "cell_type": "code",
   "execution_count": 29,
   "metadata": {},
   "outputs": [],
   "source": [
    "ballad_sad.to_csv(\"../Data/ballad_sad.csv\",index=False)"
   ]
  },
  {
   "cell_type": "code",
   "execution_count": 47,
   "metadata": {},
   "outputs": [],
   "source": [
    "ballad_sad= pd.read_csv(\"../Data/ballad_sad.csv\")"
   ]
  },
  {
   "cell_type": "code",
   "execution_count": 48,
   "metadata": {},
   "outputs": [
    {
     "name": "stdout",
     "output_type": "stream",
     "text": [
      "한잔 술에 잊자 그만 나도 숨 좀 쉬자 제발 마치 주문처럼 매일 읊조렸던 넌 모르는 내 슬픈 혼잣말 친구들 통해 들은 네 소식 너무 잘 살고 있어 날 만날 때보다 더 너는 없었지만 억지로 삼킨 밥들이 친구가 되어줬던 술이 겨우 날 숨 좀 쉬게 해 많이 잊었어 이제 네 얼굴도 까마득해 잘 살고 있다 너처럼 두려워 듣기 싫던 네 소식 막상 듣게 되니 또 이별한 듯이 아파 너는 없었지만 억지로 삼킨 밥들이 친구가 되어줬던 술이 겨우 날 숨 좀 쉬게 해 많이 잊었어 이제 네 얼굴도 까마득해 잘살고 있다 너처럼 너 없는 많은 밤들이 혼자 버틸 날들이 아직 너무 많은데 가끔은 너 철없던 나의 장난에 입꼬리 올라가던 그 미소가 그리워 가진 건 없지만 널 가진 게 전부였어 그래서 무너졌나 봐 너밖에 없었으니까 언젠간 나도 나만 사랑해줄 사람 만나 잘 살고 싶다 너처럼 나도 그럴 수 있을까 \n",
      "\n",
      "\n",
      "\n",
      "한잔 술에 잊자 그만 나도 숨 좀 쉬자 제발 마치 주문처럼 매일 읊조렸던 넌 모르는 내 슬픈 혼잣말 친구들 통해 들은 네 소식 너무 잘 살고 있어 날 만날 때보다 더 너는 없었지만 억지로 삼킨 밥들이 친구가 되어줬던 술이 겨우 날 숨 좀 쉬게 해 많이 잊었어 이제 네 얼굴도 까마득해 잘 살고 있다 너처럼 두려워 듣기 싫던 네 소식 막상 듣게 되니 또 이별한 듯이 아파 너는 없었지만 억지로 삼킨 밥들이 친구가 되어줬던 술이 겨우 날 숨 좀 쉬게 해 많이 잊었어 이제 네 얼굴도 까마득해 잘살고 있다 너처럼 너 없는 많은 밤들이 혼자 버틸 날들이 아직 너무 많은데 가끔은 너 철없던 나의 장난에 입꼬리 올라가던 그 미소가 그리워 가진 건 없지만 널 가진 게 전부였어 그래서 무너졌나 봐 너밖에 없었으니까 언젠간 나도 나만 사랑해줄 사람 만나 잘 살고 싶다 너처럼 나도 그럴 수 있을까 \n",
      "\n",
      "\n",
      "\n",
      "한잔 술에 잊자 그만 나도 숨 좀 쉬자 제발 마치 주문처럼 매일 읊조렸던 넌 모르는 내 슬픈 혼잣말 친구들 통해 들은 네 소식 너무 잘 살고 있어 날 만날 때보다 더 너는 없었지만 억지로 삼킨 밥들이 친구가 되어줬던 술이 겨우 날 숨 좀 쉬게 해 많이 잊었어 이제 네 얼굴도 까마득해 잘 살고 있다 너처럼 두려워 듣기 싫던 네 소식 막상 듣게 되니 또 이별한 듯이 아파 너는 없었지만 억지로 삼킨 밥들이 친구가 되어줬던 술이 겨우 날 숨 좀 쉬게 해 많이 잊었어 이제 네 얼굴도 까마득해 잘살고 있다 너처럼 너 없는 많은 밤들이 혼자 버틸 날들이 아직 너무 많은데 가끔은 너 철없던 나의 장난에 입꼬리 올라가던 그 미소가 그리워 가진 건 없지만 널 가진 게 전부였어 그래서 무너졌나 봐 너밖에 없었으니까 언젠간 나도 나만 사랑해줄 사람 만나 잘 살고 싶다 너처럼 나도 그럴 수 있을까 \n",
      "\n",
      "\n",
      "\n",
      "한잔 술에 잊자 그만 나도 숨 좀 쉬자 제발 마치 주문처럼 매일 읊조렸던 넌 모르는 내 슬픈 혼잣말 친구들 통해 들은 네 소식 너무 잘 살고 있어 날 만날 때보다 더 너는 없었지만 억지로 삼킨 밥들이 친구가 되어줬던 술이 겨우 날 숨 좀 쉬게 해 많이 잊었어 이제 네 얼굴도 까마득해 잘 살고 있다 너처럼 두려워 듣기 싫던 네 소식 막상 듣게 되니 또 이별한 듯이 아파 너는 없었지만 억지로 삼킨 밥들이 친구가 되어줬던 술이 겨우 날 숨 좀 쉬게 해 많이 잊었어 이제 네 얼굴도 까마득해 잘살고 있다 너처럼 너 없는 많은 밤들이 혼자 버틸 날들이 아직 너무 많은데 가끔은 너 철없던 나의 장난에 입꼬리 올라가던 그 미소가 그리워 가진 건 없지만 널 가진 게 전부였어 그래서 무너졌나 봐 너밖에 없었으니까 언젠간 나도 나만 사랑해줄 사람 만나 잘 살고 싶다 너처럼 나도 그럴 수 있을까 \n",
      "\n",
      "\n",
      "\n",
      "한잔 술에 잊자 그만 나도 숨 좀 쉬자 제발 마치 주문처럼 매일 읊조렸던 넌 모르는 내 슬픈 혼잣말 친구들 통해 들은 네 소식 너무 잘 살고 있어 날 만날 때보다 더 너는 없었지만 억지로 삼킨 밥들이 친구가 되어줬던 술이 겨우 날 숨 좀 쉬게 해 많이 잊었어 이제 네 얼굴도 까마득해 잘 살고 있다 너처럼 두려워 듣기 싫던 네 소식 막상 듣게 되니 또 이별한 듯이 아파 너는 없었지만 억지로 삼킨 밥들이 친구가 되어줬던 술이 겨우 날 숨 좀 쉬게 해 많이 잊었어 이제 네 얼굴도 까마득해 잘살고 있다 너처럼 너 없는 많은 밤들이 혼자 버틸 날들이 아직 너무 많은데 가끔은 너 철없던 나의 장난에 입꼬리 올라가던 그 미소가 그리워 가진 건 없지만 널 가진 게 전부였어 그래서 무너졌나 봐 너밖에 없었으니까 언젠간 나도 나만 사랑해줄 사람 만나 잘 살고 싶다 너처럼 나도 그럴 수 있을까 \n",
      "\n",
      "\n",
      "\n",
      "한잔 술에 잊자 그만 나도 숨 좀 쉬자 제발 마치 주문처럼 매일 읊조렸던 넌 모르는 내 슬픈 혼잣말 친구들 통해 들은 네 소식 너무 잘 살고 있어 날 만날 때보다 더 너는 없었지만 억지로 삼킨 밥들이 친구가 되어줬던 술이 겨우 날 숨 좀 쉬게 해 많이 잊었어 이제 네 얼굴도 까마득해 잘 살고 있다 너처럼 두려워 듣기 싫던 네 소식 막상 듣게 되니 또 이별한 듯이 아파 너는 없었지만 억지로 삼킨 밥들이 친구가 되어줬던 술이 겨우 날 숨 좀 쉬게 해 많이 잊었어 이제 네 얼굴도 까마득해 잘살고 있다 너처럼 너 없는 많은 밤들이 혼자 버틸 날들이 아직 너무 많은데 가끔은 너 철없던 나의 장난에 입꼬리 올라가던 그 미소가 그리워 가진 건 없지만 널 가진 게 전부였어 그래서 무너졌나 봐 너밖에 없었으니까 언젠간 나도 나만 사랑해줄 사람 만나 잘 살고 싶다 너처럼 나도 그럴 수 있을까 \n",
      "\n",
      "\n",
      "\n",
      "한잔 술에 잊자 그만 나도 숨 좀 쉬자 제발 마치 주문처럼 매일 읊조렸던 넌 모르는 내 슬픈 혼잣말 친구들 통해 들은 네 소식 너무 잘 살고 있어 날 만날 때보다 더 너는 없었지만 억지로 삼킨 밥들이 친구가 되어줬던 술이 겨우 날 숨 좀 쉬게 해 많이 잊었어 이제 네 얼굴도 까마득해 잘 살고 있다 너처럼 두려워 듣기 싫던 네 소식 막상 듣게 되니 또 이별한 듯이 아파 너는 없었지만 억지로 삼킨 밥들이 친구가 되어줬던 술이 겨우 날 숨 좀 쉬게 해 많이 잊었어 이제 네 얼굴도 까마득해 잘살고 있다 너처럼 너 없는 많은 밤들이 혼자 버틸 날들이 아직 너무 많은데 가끔은 너 철없던 나의 장난에 입꼬리 올라가던 그 미소가 그리워 가진 건 없지만 널 가진 게 전부였어 그래서 무너졌나 봐 너밖에 없었으니까 언젠간 나도 나만 사랑해줄 사람 만나 잘 살고 싶다 너처럼 나도 그럴 수 있을까 \n",
      "\n",
      "\n",
      "\n",
      "한잔 술에 잊자 그만 나도 숨 좀 쉬자 제발 마치 주문처럼 매일 읊조렸던 넌 모르는 내 슬픈 혼잣말 친구들 통해 들은 네 소식 너무 잘 살고 있어 날 만날 때보다 더 너는 없었지만 억지로 삼킨 밥들이 친구가 되어줬던 술이 겨우 날 숨 좀 쉬게 해 많이 잊었어 이제 네 얼굴도 까마득해 잘 살고 있다 너처럼 두려워 듣기 싫던 네 소식 막상 듣게 되니 또 이별한 듯이 아파 너는 없었지만 억지로 삼킨 밥들이 친구가 되어줬던 술이 겨우 날 숨 좀 쉬게 해 많이 잊었어 이제 네 얼굴도 까마득해 잘살고 있다 너처럼 너 없는 많은 밤들이 혼자 버틸 날들이 아직 너무 많은데 가끔은 너 철없던 나의 장난에 입꼬리 올라가던 그 미소가 그리워 가진 건 없지만 널 가진 게 전부였어 그래서 무너졌나 봐 너밖에 없었으니까 언젠간 나도 나만 사랑해줄 사람 만나 잘 살고 싶다 너처럼 나도 그럴 수 있을까 \n",
      "\n",
      "\n",
      "\n",
      "한잔 술에 잊자 그만 나도 숨 좀 쉬자 제발 마치 주문처럼 매일 읊조렸던 넌 모르는 내 슬픈 혼잣말 친구들 통해 들은 네 소식 너무 잘 살고 있어 날 만날 때보다 더 너는 없었지만 억지로 삼킨 밥들이 친구가 되어줬던 술이 겨우 날 숨 좀 쉬게 해 많이 잊었어 이제 네 얼굴도 까마득해 잘 살고 있다 너처럼 두려워 듣기 싫던 네 소식 막상 듣게 되니 또 이별한 듯이 아파 너는 없었지만 억지로 삼킨 밥들이 친구가 되어줬던 술이 겨우 날 숨 좀 쉬게 해 많이 잊었어 이제 네 얼굴도 까마득해 잘살고 있다 너처럼 너 없는 많은 밤들이 혼자 버틸 날들이 아직 너무 많은데 가끔은 너 철없던 나의 장난에 입꼬리 올라가던 그 미소가 그리워 가진 건 없지만 널 가진 게 전부였어 그래서 무너졌나 봐 너밖에 없었으니까 언젠간 나도 나만 사랑해줄 사람 만나 잘 살고 싶다 너처럼 나도 그럴 수 있을까 \n",
      "\n",
      "\n",
      "\n"
     ]
    }
   ],
   "source": [
    "for i in range(30,39):\n",
    "    print(ballad_sad.가사[0])\n",
    "    print(\"\\n\\n\")"
   ]
  },
  {
   "cell_type": "code",
   "execution_count": 31,
   "metadata": {},
   "outputs": [
    {
     "name": "stdout",
     "output_type": "stream",
     "text": [
      "\n"
     ]
    },
    {
     "name": "stderr",
     "output_type": "stream",
     "text": [
      "[WDM] - ====== WebDriver manager ======\n",
      "[WDM] - Current google-chrome version is 103.0.5060\n",
      "[WDM] - Get LATEST chromedriver version for 103.0.5060 google-chrome\n",
      "[WDM] - Driver [/Users/tj/.wdm/drivers/chromedriver/mac64/103.0.5060.134/chromedriver] found in cache\n"
     ]
    }
   ],
   "source": [
    "import time\n",
    "\n",
    "total_lists = []\n",
    "\n",
    "driver = webdriver.Chrome(service=Service(ChromeDriverManager().install()), options=options)\n",
    "driver.get('https://www.melon.com/mymusic/dj/mymusicdjplaylistview_inform.htm?plylstSeq=497292073#params%5BplylstSeq%5D=497292073&po=pageObj&startIndex=51')\n",
    "\n",
    "time.sleep(1)\n",
    "\n",
    "page_source = driver.page_source\n",
    "soup = BeautifulSoup(page_source, \"html.parser\")\n",
    "\n",
    "time.sleep(1)\n",
    "\n",
    "songIds = soup.select(\"#frm > div > table > tbody td:nth-child(4) > div > a\")\n",
    "total_lists = total_lists + songIds\n",
    "\n",
    "time.sleep(1)\n"
   ]
  },
  {
   "cell_type": "code",
   "execution_count": 32,
   "metadata": {},
   "outputs": [
    {
     "data": {
      "text/plain": [
       "['30963466',\n",
       " '31589633',\n",
       " '30646587',\n",
       " '31815490',\n",
       " '30043160',\n",
       " '30973237',\n",
       " '5637411',\n",
       " '8259473',\n",
       " '31703498',\n",
       " '31438601',\n",
       " '7893048',\n",
       " '31181605',\n",
       " '5462209',\n",
       " '5694905',\n",
       " '31326215',\n",
       " '4073176',\n",
       " '31524309',\n",
       " '30378163',\n",
       " '31524320',\n",
       " '30859639',\n",
       " '4268444',\n",
       " '5831542',\n",
       " '30043162',\n",
       " '30859637',\n",
       " '30299276',\n",
       " '3893169',\n",
       " '31584295',\n",
       " '30257677',\n",
       " '30043157',\n",
       " '7998349',\n",
       " '30859638',\n",
       " '31469826',\n",
       " '5466962',\n",
       " '4281352',\n",
       " '31477685',\n",
       " '30693104',\n",
       " '31426934',\n",
       " '31455159',\n",
       " '30939453',\n",
       " '9646576',\n",
       " '8298724',\n",
       " '3593078',\n",
       " '30859641',\n",
       " '31426935',\n",
       " '2930971',\n",
       " '3053254',\n",
       " '4709050',\n",
       " '31469825',\n",
       " '30043155',\n",
       " '30675647']"
      ]
     },
     "execution_count": 32,
     "metadata": {},
     "output_type": "execute_result"
    }
   ],
   "source": [
    "test = []\n",
    "for i in range(len(total_lists)):\n",
    "    test.append(total_lists[i]['href'])\n",
    "\n",
    "test1 = []\n",
    "for i in range(len(test)):\n",
    "    test1.append(str(test[i]).split('.')[2].split(\"(\")[1].split(\")\")[0])\n",
    "\n",
    "test2 = []\n",
    "for i in range(len(test1)):\n",
    "    test2.append(str(test1[i]).strip(\"''\"))\n",
    "\n",
    "test2"
   ]
  },
  {
   "cell_type": "code",
   "execution_count": 33,
   "metadata": {},
   "outputs": [
    {
     "name": "stdout",
     "output_type": "stream",
     "text": [
      "\n"
     ]
    },
    {
     "name": "stderr",
     "output_type": "stream",
     "text": [
      "[WDM] - ====== WebDriver manager ======\n",
      "[WDM] - Current google-chrome version is 103.0.5060\n",
      "[WDM] - Get LATEST chromedriver version for 103.0.5060 google-chrome\n",
      "[WDM] - Driver [/Users/tj/.wdm/drivers/chromedriver/mac64/103.0.5060.134/chromedriver] found in cache\n"
     ]
    }
   ],
   "source": [
    "# 가수명, 노래제목, 발매일, 가사, 좋아요 수 리스트 변수 생성\n",
    "\n",
    "singer_list = []\n",
    "singName_list = []\n",
    "date_list = []\n",
    "genre_list = []\n",
    "lyrics_list = []\n",
    "like_list = []\n",
    "\n",
    "# for문으로 가수명, 노래제목, 발매일, 가사, 좋아요 수 리스트 변수에 내용 담고 저장하기\n",
    "\n",
    "chrome_options = webdriver.ChromeOptions()\n",
    "driver = webdriver.Chrome(service=Service(ChromeDriverManager().install()), options=chrome_options)\n",
    "\n",
    "for songId in test2:\n",
    "    \n",
    "    driver.get(f'https://www.melon.com/song/detail.htm?songId={songId}')\n",
    "\n",
    "    page_source = driver.page_source\n",
    "    soup = BeautifulSoup(page_source, \"html.parser\")\n",
    "\n",
    "    time.sleep(2)\n",
    "\n",
    "    try:\n",
    "    \n",
    "        # 가수명 가져오기\n",
    "        artist_name = soup.select_one('#downloadfrm > div > div > div.entry > div.info > div.artist > a > span:nth-child(1) ')\n",
    "        singer_list.append(artist_name.string)\n",
    "\n",
    "        # 노래제목 가져오기\n",
    "        song_name = soup.select_one(\"#downloadfrm > div > div > div.entry > div.info > div.song_name \")\n",
    "        singName_list.append(song_name.text.strip().split('\\n\\t\\t\\t\\t\\t\\t\\t\\n\\t\\t\\t\\t\\t\\t\\t\\n\\t\\t\\t\\t\\t\\t\\t\\n\\t\\t\\t\\t\\t\\t\\t\\n\\t\\t\\t\\t\\t\\t\\t')[1])\n",
    "\n",
    "        # 발매일 가져오기\n",
    "        date = soup.select_one('#downloadfrm > div > div > div.entry > div.meta > dl > dd:nth-child(4)')\n",
    "        date_list.append(date.string)\n",
    "\n",
    "        # 장르 가져오기\n",
    "        genre = soup.select_one('#downloadfrm > div > div > div.entry > div.meta > dl > dd:nth-child(6)')\n",
    "        genre_list.append(genre.string)\n",
    "\n",
    "        # 가사 가져오기\n",
    "        lyric = str(soup.select_one('#d_video_summary')).replace('<br/>', ' ').replace(\n",
    "            '<div class=\"lyric\" id=\"d_video_summary\"><!-- height:auto; 로 변경시, 확장됨 -->', '').replace('</div>', '').replace('\\t', '').replace('\\n', '')\n",
    "        lyric = lyric.replace('  ', ' ')\n",
    "        lyrics_list.append(lyric)\n",
    "\n",
    "        # 좋아요수 가져오기\n",
    "        like = soup.select_one(\"#d_like_count\")\n",
    "        like_list.append(like.text)\n",
    "\n",
    "        time.sleep(2)\n",
    "    except:\n",
    "        singer_list.append(0)\n",
    "        singName_list.append(0)\n",
    "        date_list.append(0)\n",
    "        lyrics_list.append(0)\n",
    "        like_list.append(0)\n",
    "\n",
    "        time.sleep(1)"
   ]
  },
  {
   "cell_type": "code",
   "execution_count": 34,
   "metadata": {},
   "outputs": [],
   "source": [
    "ballad = {'가수명':singer_list, '노래제목':singName_list, '발매일':date_list, '장르':genre_list, '가사':lyrics_list, '좋아요수':like_list}"
   ]
  },
  {
   "cell_type": "code",
   "execution_count": 35,
   "metadata": {},
   "outputs": [
    {
     "data": {
      "text/html": [
       "<div>\n",
       "<style scoped>\n",
       "    .dataframe tbody tr th:only-of-type {\n",
       "        vertical-align: middle;\n",
       "    }\n",
       "\n",
       "    .dataframe tbody tr th {\n",
       "        vertical-align: top;\n",
       "    }\n",
       "\n",
       "    .dataframe thead th {\n",
       "        text-align: right;\n",
       "    }\n",
       "</style>\n",
       "<table border=\"1\" class=\"dataframe\">\n",
       "  <thead>\n",
       "    <tr style=\"text-align: right;\">\n",
       "      <th></th>\n",
       "      <th>가수명</th>\n",
       "      <th>노래제목</th>\n",
       "      <th>발매일</th>\n",
       "      <th>장르</th>\n",
       "      <th>가사</th>\n",
       "      <th>좋아요수</th>\n",
       "    </tr>\n",
       "  </thead>\n",
       "  <tbody>\n",
       "    <tr>\n",
       "      <th>0</th>\n",
       "      <td>선우정아</td>\n",
       "      <td>남</td>\n",
       "      <td>2018.03.20</td>\n",
       "      <td>발라드</td>\n",
       "      <td>누구도 잘못한 건 없어 모르겠어 우린 최선을 다 했어 발버둥 쳐 사랑하기 위해 bu...</td>\n",
       "      <td>20,416</td>\n",
       "    </tr>\n",
       "    <tr>\n",
       "      <th>1</th>\n",
       "      <td>로시 (Rothy)</td>\n",
       "      <td>다 핀 꽃</td>\n",
       "      <td>2019.01.30</td>\n",
       "      <td>발라드</td>\n",
       "      <td>다 핀 어느 이름 모를 꽃 한송이의 떠나기 전의 끝모습처럼 하필 모든 것이 너무 눈...</td>\n",
       "      <td>30,530</td>\n",
       "    </tr>\n",
       "    <tr>\n",
       "      <th>2</th>\n",
       "      <td>아이유</td>\n",
       "      <td>개여울</td>\n",
       "      <td>2017.09.22</td>\n",
       "      <td>발라드</td>\n",
       "      <td>당신은 무슨 일로 그리합니까 홀로이 개여울에 주저앉아서 파릇한 풀 포기가 돋아 나오...</td>\n",
       "      <td>43,323</td>\n",
       "    </tr>\n",
       "    <tr>\n",
       "      <th>3</th>\n",
       "      <td>기리보이</td>\n",
       "      <td>교통정리 (Feat. 헤이즈)</td>\n",
       "      <td>2019.05.21</td>\n",
       "      <td>랩/힙합</td>\n",
       "      <td>우리가 자주 걸었던 이 길거리에 만약 우리 마주치면 그냥 모른척해 줘요 우리가 자주...</td>\n",
       "      <td>113,743</td>\n",
       "    </tr>\n",
       "    <tr>\n",
       "      <th>4</th>\n",
       "      <td>김나영</td>\n",
       "      <td>마음 (Prod. by MAKTUB)</td>\n",
       "      <td>2016.10.18</td>\n",
       "      <td>발라드</td>\n",
       "      <td>잠깐의 긴 꿈처럼 어제의 바람처럼 어느새 또 찾아온 너의 기억 사랑만으로는 부족한 ...</td>\n",
       "      <td>6,694</td>\n",
       "    </tr>\n",
       "  </tbody>\n",
       "</table>\n",
       "</div>"
      ],
      "text/plain": [
       "          가수명                  노래제목         발매일    장르  \\\n",
       "0        선우정아                     남  2018.03.20   발라드   \n",
       "1  로시 (Rothy)                 다 핀 꽃  2019.01.30   발라드   \n",
       "2         아이유                   개여울  2017.09.22   발라드   \n",
       "3        기리보이      교통정리 (Feat. 헤이즈)  2019.05.21  랩/힙합   \n",
       "4         김나영  마음 (Prod. by MAKTUB)  2016.10.18   발라드   \n",
       "\n",
       "                                                  가사     좋아요수  \n",
       "0  누구도 잘못한 건 없어 모르겠어 우린 최선을 다 했어 발버둥 쳐 사랑하기 위해 bu...   20,416  \n",
       "1  다 핀 어느 이름 모를 꽃 한송이의 떠나기 전의 끝모습처럼 하필 모든 것이 너무 눈...   30,530  \n",
       "2  당신은 무슨 일로 그리합니까 홀로이 개여울에 주저앉아서 파릇한 풀 포기가 돋아 나오...   43,323  \n",
       "3  우리가 자주 걸었던 이 길거리에 만약 우리 마주치면 그냥 모른척해 줘요 우리가 자주...  113,743  \n",
       "4  잠깐의 긴 꿈처럼 어제의 바람처럼 어느새 또 찾아온 너의 기억 사랑만으로는 부족한 ...    6,694  "
      ]
     },
     "execution_count": 35,
     "metadata": {},
     "output_type": "execute_result"
    }
   ],
   "source": [
    "import pandas as pd\n",
    "ballad_sad2 = pd.DataFrame(ballad)\n",
    "ballad_sad2.head()"
   ]
  },
  {
   "cell_type": "code",
   "execution_count": 36,
   "metadata": {},
   "outputs": [
    {
     "data": {
      "text/plain": [
       "array(['발라드', '랩/힙합', '발라드, 국내드라마', '인디음악, 포크/블루스', '발라드, 인디음악',\n",
       "       'R&B/Soul', '록/메탈', '국내드라마', '인디음악, 록/메탈'], dtype=object)"
      ]
     },
     "execution_count": 36,
     "metadata": {},
     "output_type": "execute_result"
    }
   ],
   "source": [
    "ballad_sad2.장르.unique()"
   ]
  },
  {
   "cell_type": "code",
   "execution_count": 37,
   "metadata": {},
   "outputs": [],
   "source": [
    "list = ['발라드, 국내드라마','발라드, 인디음악','발라드']\n",
    "ballad_sad2 = ballad_sad2[ballad_sad2['장르'].isin(list)]"
   ]
  },
  {
   "cell_type": "code",
   "execution_count": 38,
   "metadata": {},
   "outputs": [],
   "source": [
    "ballad_sad2.reset_index(drop=True, inplace=True)"
   ]
  },
  {
   "cell_type": "code",
   "execution_count": 39,
   "metadata": {},
   "outputs": [],
   "source": [
    "ballad_sad2['좋아요수'] = ballad_sad2['좋아요수'].str.replace(',','')"
   ]
  },
  {
   "cell_type": "code",
   "execution_count": 40,
   "metadata": {},
   "outputs": [
    {
     "name": "stderr",
     "output_type": "stream",
     "text": [
      "/var/folders/51/xmc_l6t13wv1nc5z6qmyg58r0000gn/T/ipykernel_4465/3538400742.py:1: FutureWarning: The default value of regex will change from True to False in a future version. In addition, single character regular expressions will *not* be treated as literal strings when regex=True.\n",
      "  ballad_sad2['발매일'] = ballad_sad2['발매일'].str.replace('.', '-')\n"
     ]
    }
   ],
   "source": [
    "ballad_sad2['발매일'] = ballad_sad2['발매일'].str.replace('.', '-')"
   ]
  },
  {
   "cell_type": "code",
   "execution_count": 41,
   "metadata": {},
   "outputs": [],
   "source": [
    "ballad_sad2['발매일'] = pd.to_datetime(ballad_sad2['발매일'])"
   ]
  },
  {
   "cell_type": "code",
   "execution_count": 42,
   "metadata": {},
   "outputs": [],
   "source": [
    "ballad_sad2.drop(columns='장르',inplace=True)"
   ]
  },
  {
   "cell_type": "code",
   "execution_count": 43,
   "metadata": {},
   "outputs": [],
   "source": [
    "ballad_sad2.to_csv(\"../Data/ballad_sad2.csv\",index=False)"
   ]
  },
  {
   "cell_type": "code",
   "execution_count": 45,
   "metadata": {},
   "outputs": [],
   "source": [
    "ballad_sad2 =pd.read_csv(\"../Data/ballad_sad2.csv\")"
   ]
  },
  {
   "cell_type": "code",
   "execution_count": 46,
   "metadata": {},
   "outputs": [
    {
     "name": "stdout",
     "output_type": "stream",
     "text": [
      "누구도 잘못한 건 없어 모르겠어 우린 최선을 다 했어 발버둥 쳐 사랑하기 위해 but 사실은 다 알고 있었지 no no 눈물도 소용없어요 우리는 여기까지야 이별이 이렇게 쉽네요 돌아서는 그 순간 남 사라지는 우리라는 말 사라지는 우리라는 말 사라지는 우리란 말 사라지는 우리 지워지는 우리 현실은 동화를 질투해 절대 쉽게 우릴 가만두지 않아 버틸 만큼 버틴 것 같은데 세상의 끝 한 걸음 앞에 우리를 기다리네 눈물도 소용없어요 우리는 여기까지야 이별이 이렇게 쉽네요 돌아서는 그 순간 남 사라지는 우리라는 말 아득한 네 체온 아득한 입맞춤 너는 꿈처럼 가네 기억 속으로 숨네 눈물도 소용없어요 우리는 여기까지야 사라지는 우리라는 말 사라지는 우리란 말 사라지는 우리 지워지는 우리 \n",
      "\n",
      "\n",
      "\n",
      "누구도 잘못한 건 없어 모르겠어 우린 최선을 다 했어 발버둥 쳐 사랑하기 위해 but 사실은 다 알고 있었지 no no 눈물도 소용없어요 우리는 여기까지야 이별이 이렇게 쉽네요 돌아서는 그 순간 남 사라지는 우리라는 말 사라지는 우리라는 말 사라지는 우리란 말 사라지는 우리 지워지는 우리 현실은 동화를 질투해 절대 쉽게 우릴 가만두지 않아 버틸 만큼 버틴 것 같은데 세상의 끝 한 걸음 앞에 우리를 기다리네 눈물도 소용없어요 우리는 여기까지야 이별이 이렇게 쉽네요 돌아서는 그 순간 남 사라지는 우리라는 말 아득한 네 체온 아득한 입맞춤 너는 꿈처럼 가네 기억 속으로 숨네 눈물도 소용없어요 우리는 여기까지야 사라지는 우리라는 말 사라지는 우리란 말 사라지는 우리 지워지는 우리 \n",
      "\n",
      "\n",
      "\n",
      "누구도 잘못한 건 없어 모르겠어 우린 최선을 다 했어 발버둥 쳐 사랑하기 위해 but 사실은 다 알고 있었지 no no 눈물도 소용없어요 우리는 여기까지야 이별이 이렇게 쉽네요 돌아서는 그 순간 남 사라지는 우리라는 말 사라지는 우리라는 말 사라지는 우리란 말 사라지는 우리 지워지는 우리 현실은 동화를 질투해 절대 쉽게 우릴 가만두지 않아 버틸 만큼 버틴 것 같은데 세상의 끝 한 걸음 앞에 우리를 기다리네 눈물도 소용없어요 우리는 여기까지야 이별이 이렇게 쉽네요 돌아서는 그 순간 남 사라지는 우리라는 말 아득한 네 체온 아득한 입맞춤 너는 꿈처럼 가네 기억 속으로 숨네 눈물도 소용없어요 우리는 여기까지야 사라지는 우리라는 말 사라지는 우리란 말 사라지는 우리 지워지는 우리 \n",
      "\n",
      "\n",
      "\n",
      "누구도 잘못한 건 없어 모르겠어 우린 최선을 다 했어 발버둥 쳐 사랑하기 위해 but 사실은 다 알고 있었지 no no 눈물도 소용없어요 우리는 여기까지야 이별이 이렇게 쉽네요 돌아서는 그 순간 남 사라지는 우리라는 말 사라지는 우리라는 말 사라지는 우리란 말 사라지는 우리 지워지는 우리 현실은 동화를 질투해 절대 쉽게 우릴 가만두지 않아 버틸 만큼 버틴 것 같은데 세상의 끝 한 걸음 앞에 우리를 기다리네 눈물도 소용없어요 우리는 여기까지야 이별이 이렇게 쉽네요 돌아서는 그 순간 남 사라지는 우리라는 말 아득한 네 체온 아득한 입맞춤 너는 꿈처럼 가네 기억 속으로 숨네 눈물도 소용없어요 우리는 여기까지야 사라지는 우리라는 말 사라지는 우리란 말 사라지는 우리 지워지는 우리 \n",
      "\n",
      "\n",
      "\n",
      "누구도 잘못한 건 없어 모르겠어 우린 최선을 다 했어 발버둥 쳐 사랑하기 위해 but 사실은 다 알고 있었지 no no 눈물도 소용없어요 우리는 여기까지야 이별이 이렇게 쉽네요 돌아서는 그 순간 남 사라지는 우리라는 말 사라지는 우리라는 말 사라지는 우리란 말 사라지는 우리 지워지는 우리 현실은 동화를 질투해 절대 쉽게 우릴 가만두지 않아 버틸 만큼 버틴 것 같은데 세상의 끝 한 걸음 앞에 우리를 기다리네 눈물도 소용없어요 우리는 여기까지야 이별이 이렇게 쉽네요 돌아서는 그 순간 남 사라지는 우리라는 말 아득한 네 체온 아득한 입맞춤 너는 꿈처럼 가네 기억 속으로 숨네 눈물도 소용없어요 우리는 여기까지야 사라지는 우리라는 말 사라지는 우리란 말 사라지는 우리 지워지는 우리 \n",
      "\n",
      "\n",
      "\n",
      "누구도 잘못한 건 없어 모르겠어 우린 최선을 다 했어 발버둥 쳐 사랑하기 위해 but 사실은 다 알고 있었지 no no 눈물도 소용없어요 우리는 여기까지야 이별이 이렇게 쉽네요 돌아서는 그 순간 남 사라지는 우리라는 말 사라지는 우리라는 말 사라지는 우리란 말 사라지는 우리 지워지는 우리 현실은 동화를 질투해 절대 쉽게 우릴 가만두지 않아 버틸 만큼 버틴 것 같은데 세상의 끝 한 걸음 앞에 우리를 기다리네 눈물도 소용없어요 우리는 여기까지야 이별이 이렇게 쉽네요 돌아서는 그 순간 남 사라지는 우리라는 말 아득한 네 체온 아득한 입맞춤 너는 꿈처럼 가네 기억 속으로 숨네 눈물도 소용없어요 우리는 여기까지야 사라지는 우리라는 말 사라지는 우리란 말 사라지는 우리 지워지는 우리 \n",
      "\n",
      "\n",
      "\n",
      "누구도 잘못한 건 없어 모르겠어 우린 최선을 다 했어 발버둥 쳐 사랑하기 위해 but 사실은 다 알고 있었지 no no 눈물도 소용없어요 우리는 여기까지야 이별이 이렇게 쉽네요 돌아서는 그 순간 남 사라지는 우리라는 말 사라지는 우리라는 말 사라지는 우리란 말 사라지는 우리 지워지는 우리 현실은 동화를 질투해 절대 쉽게 우릴 가만두지 않아 버틸 만큼 버틴 것 같은데 세상의 끝 한 걸음 앞에 우리를 기다리네 눈물도 소용없어요 우리는 여기까지야 이별이 이렇게 쉽네요 돌아서는 그 순간 남 사라지는 우리라는 말 아득한 네 체온 아득한 입맞춤 너는 꿈처럼 가네 기억 속으로 숨네 눈물도 소용없어요 우리는 여기까지야 사라지는 우리라는 말 사라지는 우리란 말 사라지는 우리 지워지는 우리 \n",
      "\n",
      "\n",
      "\n",
      "누구도 잘못한 건 없어 모르겠어 우린 최선을 다 했어 발버둥 쳐 사랑하기 위해 but 사실은 다 알고 있었지 no no 눈물도 소용없어요 우리는 여기까지야 이별이 이렇게 쉽네요 돌아서는 그 순간 남 사라지는 우리라는 말 사라지는 우리라는 말 사라지는 우리란 말 사라지는 우리 지워지는 우리 현실은 동화를 질투해 절대 쉽게 우릴 가만두지 않아 버틸 만큼 버틴 것 같은데 세상의 끝 한 걸음 앞에 우리를 기다리네 눈물도 소용없어요 우리는 여기까지야 이별이 이렇게 쉽네요 돌아서는 그 순간 남 사라지는 우리라는 말 아득한 네 체온 아득한 입맞춤 너는 꿈처럼 가네 기억 속으로 숨네 눈물도 소용없어요 우리는 여기까지야 사라지는 우리라는 말 사라지는 우리란 말 사라지는 우리 지워지는 우리 \n",
      "\n",
      "\n",
      "\n",
      "누구도 잘못한 건 없어 모르겠어 우린 최선을 다 했어 발버둥 쳐 사랑하기 위해 but 사실은 다 알고 있었지 no no 눈물도 소용없어요 우리는 여기까지야 이별이 이렇게 쉽네요 돌아서는 그 순간 남 사라지는 우리라는 말 사라지는 우리라는 말 사라지는 우리란 말 사라지는 우리 지워지는 우리 현실은 동화를 질투해 절대 쉽게 우릴 가만두지 않아 버틸 만큼 버틴 것 같은데 세상의 끝 한 걸음 앞에 우리를 기다리네 눈물도 소용없어요 우리는 여기까지야 이별이 이렇게 쉽네요 돌아서는 그 순간 남 사라지는 우리라는 말 아득한 네 체온 아득한 입맞춤 너는 꿈처럼 가네 기억 속으로 숨네 눈물도 소용없어요 우리는 여기까지야 사라지는 우리라는 말 사라지는 우리란 말 사라지는 우리 지워지는 우리 \n",
      "\n",
      "\n",
      "\n"
     ]
    }
   ],
   "source": [
    "for i in range(30,39):\n",
    "    print(ballad_sad2.가사[0])\n",
    "    print(\"\\n\\n\")"
   ]
  },
  {
   "cell_type": "code",
   "execution_count": null,
   "metadata": {},
   "outputs": [],
   "source": []
  }
 ],
 "metadata": {
  "kernelspec": {
   "display_name": "Python 3.9.7 ('base')",
   "language": "python",
   "name": "python3"
  },
  "language_info": {
   "codemirror_mode": {
    "name": "ipython",
    "version": 3
   },
   "file_extension": ".py",
   "mimetype": "text/x-python",
   "name": "python",
   "nbconvert_exporter": "python",
   "pygments_lexer": "ipython3",
   "version": "3.9.7"
  },
  "orig_nbformat": 4,
  "vscode": {
   "interpreter": {
    "hash": "c34e8390e776d2ee205b71ed5a6130fee3cef8da5e87e926ce18e14f4a070d72"
   }
  }
 },
 "nbformat": 4,
 "nbformat_minor": 2
}
