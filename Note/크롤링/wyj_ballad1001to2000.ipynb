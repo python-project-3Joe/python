{
 "cells": [
  {
   "cell_type": "code",
   "execution_count": 1,
   "metadata": {},
   "outputs": [],
   "source": [
    "from selenium import webdriver\n",
    "from selenium.webdriver.chrome.service import Service\n",
    "from webdriver_manager.chrome import ChromeDriverManager\n",
    "from selenium.webdriver.common.by import By\n",
    "from bs4 import BeautifulSoup\n",
    "import urllib.request as request"
   ]
  },
  {
   "cell_type": "code",
   "execution_count": 2,
   "metadata": {},
   "outputs": [
    {
     "name": "stdout",
     "output_type": "stream",
     "text": [
      "\n"
     ]
    },
    {
     "name": "stderr",
     "output_type": "stream",
     "text": [
      "[WDM] - ====== WebDriver manager ======\n",
      "[WDM] - Current google-chrome version is 103.0.5060\n",
      "[WDM] - Get LATEST chromedriver version for 103.0.5060 google-chrome\n",
      "[WDM] - There is no [win32] chromedriver for browser 103.0.5060 in cache\n",
      "[WDM] - About to download new driver from https://chromedriver.storage.googleapis.com/103.0.5060.134/chromedriver_win32.zip\n",
      "[WDM] - Driver has been saved in cache [C:\\Users\\yejin\\.wdm\\drivers\\chromedriver\\win32\\103.0.5060.134]\n"
     ]
    }
   ],
   "source": [
    "chrome_options = webdriver.ChromeOptions()\n",
    "driver = webdriver.Chrome(service=Service(ChromeDriverManager().install()), options=chrome_options)\n",
    "driver.get('https://www.melon.com/genre/song_list.htm?gnrCode=GN0100#params%5BgnrCode%5D=GN0100&params%5BdtlGnrCode%5D=&params%5BorderBy%5D=POP&params%5BsteadyYn%5D=N&po=pageObj&startIndex=1')"
   ]
  },
  {
   "cell_type": "code",
   "execution_count": 3,
   "metadata": {},
   "outputs": [],
   "source": [
    "page_source = driver.page_source\n",
    "soup = BeautifulSoup(page_source, \"html.parser\")"
   ]
  },
  {
   "cell_type": "code",
   "execution_count": 4,
   "metadata": {},
   "outputs": [],
   "source": [
    "# songId 가져오기\n",
    "\n",
    "songIds = soup.select(\"#frm > div > table > tbody td:nth-child(4) > div > a\")"
   ]
  },
  {
   "cell_type": "code",
   "execution_count": 5,
   "metadata": {},
   "outputs": [],
   "source": [
    "# songId 가져오기 (한 페이지당 50개)\n",
    "songId_list = []\n",
    "for songId in songIds:\n",
    "    songId_list.append(songId['href'].split('\\'')[1])"
   ]
  },
  {
   "cell_type": "code",
   "execution_count": 6,
   "metadata": {},
   "outputs": [],
   "source": [
    "import pandas as pd"
   ]
  },
  {
   "cell_type": "code",
   "execution_count": 7,
   "metadata": {},
   "outputs": [],
   "source": [
    "pd.DataFrame(songId_list).to_csv(\"../../Data/ballad1001to2000.csv\",index=False)"
   ]
  },
  {
   "cell_type": "code",
   "execution_count": 8,
   "metadata": {},
   "outputs": [
    {
     "data": {
      "text/html": [
       "<div>\n",
       "<style scoped>\n",
       "    .dataframe tbody tr th:only-of-type {\n",
       "        vertical-align: middle;\n",
       "    }\n",
       "\n",
       "    .dataframe tbody tr th {\n",
       "        vertical-align: top;\n",
       "    }\n",
       "\n",
       "    .dataframe thead th {\n",
       "        text-align: right;\n",
       "    }\n",
       "</style>\n",
       "<table border=\"1\" class=\"dataframe\">\n",
       "  <thead>\n",
       "    <tr style=\"text-align: right;\">\n",
       "      <th></th>\n",
       "      <th>0</th>\n",
       "    </tr>\n",
       "  </thead>\n",
       "  <tbody>\n",
       "    <tr>\n",
       "      <th>0</th>\n",
       "      <td>35383397</td>\n",
       "    </tr>\n",
       "    <tr>\n",
       "      <th>1</th>\n",
       "      <td>34943312</td>\n",
       "    </tr>\n",
       "    <tr>\n",
       "      <th>2</th>\n",
       "      <td>34657844</td>\n",
       "    </tr>\n",
       "    <tr>\n",
       "      <th>3</th>\n",
       "      <td>34787226</td>\n",
       "    </tr>\n",
       "    <tr>\n",
       "      <th>4</th>\n",
       "      <td>34061322</td>\n",
       "    </tr>\n",
       "  </tbody>\n",
       "</table>\n",
       "</div>"
      ],
      "text/plain": [
       "          0\n",
       "0  35383397\n",
       "1  34943312\n",
       "2  34657844\n",
       "3  34787226\n",
       "4  34061322"
      ]
     },
     "execution_count": 8,
     "metadata": {},
     "output_type": "execute_result"
    }
   ],
   "source": [
    "test = pd.read_csv(\"../../Data/ballad1001to2000.csv\")\n",
    "test.head()"
   ]
  },
  {
   "cell_type": "code",
   "execution_count": 9,
   "metadata": {},
   "outputs": [
    {
     "data": {
      "text/plain": [
       "50"
      ]
     },
     "execution_count": 9,
     "metadata": {},
     "output_type": "execute_result"
    }
   ],
   "source": [
    "len(test)"
   ]
  },
  {
   "cell_type": "code",
   "execution_count": 11,
   "metadata": {},
   "outputs": [
    {
     "name": "stdout",
     "output_type": "stream",
     "text": [
      "\n"
     ]
    },
    {
     "name": "stderr",
     "output_type": "stream",
     "text": [
      "[WDM] - ====== WebDriver manager ======\n",
      "[WDM] - Current google-chrome version is 103.0.5060\n",
      "[WDM] - Get LATEST chromedriver version for 103.0.5060 google-chrome\n",
      "[WDM] - Driver [C:\\Users\\yejin\\.wdm\\drivers\\chromedriver\\win32\\103.0.5060.134\\chromedriver.exe] found in cache\n"
     ]
    },
    {
     "name": "stdout",
     "output_type": "stream",
     "text": [
      "\n"
     ]
    },
    {
     "name": "stderr",
     "output_type": "stream",
     "text": [
      "[WDM] - ====== WebDriver manager ======\n",
      "[WDM] - Current google-chrome version is 103.0.5060\n",
      "[WDM] - Get LATEST chromedriver version for 103.0.5060 google-chrome\n",
      "[WDM] - Driver [C:\\Users\\yejin\\.wdm\\drivers\\chromedriver\\win32\\103.0.5060.134\\chromedriver.exe] found in cache\n"
     ]
    },
    {
     "name": "stdout",
     "output_type": "stream",
     "text": [
      "\n"
     ]
    },
    {
     "name": "stderr",
     "output_type": "stream",
     "text": [
      "[WDM] - ====== WebDriver manager ======\n",
      "[WDM] - Current google-chrome version is 103.0.5060\n",
      "[WDM] - Get LATEST chromedriver version for 103.0.5060 google-chrome\n",
      "[WDM] - Driver [C:\\Users\\yejin\\.wdm\\drivers\\chromedriver\\win32\\103.0.5060.134\\chromedriver.exe] found in cache\n"
     ]
    },
    {
     "name": "stdout",
     "output_type": "stream",
     "text": [
      "\n"
     ]
    },
    {
     "name": "stderr",
     "output_type": "stream",
     "text": [
      "[WDM] - ====== WebDriver manager ======\n",
      "[WDM] - Current google-chrome version is 103.0.5060\n",
      "[WDM] - Get LATEST chromedriver version for 103.0.5060 google-chrome\n",
      "[WDM] - Driver [C:\\Users\\yejin\\.wdm\\drivers\\chromedriver\\win32\\103.0.5060.134\\chromedriver.exe] found in cache\n"
     ]
    },
    {
     "name": "stdout",
     "output_type": "stream",
     "text": [
      "\n"
     ]
    },
    {
     "name": "stderr",
     "output_type": "stream",
     "text": [
      "[WDM] - ====== WebDriver manager ======\n",
      "[WDM] - Current google-chrome version is 103.0.5060\n",
      "[WDM] - Get LATEST chromedriver version for 103.0.5060 google-chrome\n",
      "[WDM] - Driver [C:\\Users\\yejin\\.wdm\\drivers\\chromedriver\\win32\\103.0.5060.134\\chromedriver.exe] found in cache\n"
     ]
    },
    {
     "name": "stdout",
     "output_type": "stream",
     "text": [
      "\n"
     ]
    },
    {
     "name": "stderr",
     "output_type": "stream",
     "text": [
      "[WDM] - ====== WebDriver manager ======\n",
      "[WDM] - Current google-chrome version is 103.0.5060\n",
      "[WDM] - Get LATEST chromedriver version for 103.0.5060 google-chrome\n",
      "[WDM] - Driver [C:\\Users\\yejin\\.wdm\\drivers\\chromedriver\\win32\\103.0.5060.134\\chromedriver.exe] found in cache\n"
     ]
    },
    {
     "name": "stdout",
     "output_type": "stream",
     "text": [
      "\n"
     ]
    },
    {
     "name": "stderr",
     "output_type": "stream",
     "text": [
      "[WDM] - ====== WebDriver manager ======\n",
      "[WDM] - Current google-chrome version is 103.0.5060\n",
      "[WDM] - Get LATEST chromedriver version for 103.0.5060 google-chrome\n",
      "[WDM] - Driver [C:\\Users\\yejin\\.wdm\\drivers\\chromedriver\\win32\\103.0.5060.134\\chromedriver.exe] found in cache\n"
     ]
    },
    {
     "name": "stdout",
     "output_type": "stream",
     "text": [
      "\n"
     ]
    },
    {
     "name": "stderr",
     "output_type": "stream",
     "text": [
      "[WDM] - ====== WebDriver manager ======\n",
      "[WDM] - Current google-chrome version is 103.0.5060\n",
      "[WDM] - Get LATEST chromedriver version for 103.0.5060 google-chrome\n",
      "[WDM] - Driver [C:\\Users\\yejin\\.wdm\\drivers\\chromedriver\\win32\\103.0.5060.134\\chromedriver.exe] found in cache\n"
     ]
    },
    {
     "name": "stdout",
     "output_type": "stream",
     "text": [
      "\n"
     ]
    },
    {
     "name": "stderr",
     "output_type": "stream",
     "text": [
      "[WDM] - ====== WebDriver manager ======\n",
      "[WDM] - Current google-chrome version is 103.0.5060\n",
      "[WDM] - Get LATEST chromedriver version for 103.0.5060 google-chrome\n",
      "[WDM] - Driver [C:\\Users\\yejin\\.wdm\\drivers\\chromedriver\\win32\\103.0.5060.134\\chromedriver.exe] found in cache\n"
     ]
    },
    {
     "name": "stdout",
     "output_type": "stream",
     "text": [
      "\n"
     ]
    },
    {
     "name": "stderr",
     "output_type": "stream",
     "text": [
      "[WDM] - ====== WebDriver manager ======\n",
      "[WDM] - Current google-chrome version is 103.0.5060\n",
      "[WDM] - Get LATEST chromedriver version for 103.0.5060 google-chrome\n",
      "[WDM] - Driver [C:\\Users\\yejin\\.wdm\\drivers\\chromedriver\\win32\\103.0.5060.134\\chromedriver.exe] found in cache\n"
     ]
    },
    {
     "name": "stdout",
     "output_type": "stream",
     "text": [
      "\n"
     ]
    },
    {
     "name": "stderr",
     "output_type": "stream",
     "text": [
      "[WDM] - ====== WebDriver manager ======\n",
      "[WDM] - Current google-chrome version is 103.0.5060\n",
      "[WDM] - Get LATEST chromedriver version for 103.0.5060 google-chrome\n",
      "[WDM] - Driver [C:\\Users\\yejin\\.wdm\\drivers\\chromedriver\\win32\\103.0.5060.134\\chromedriver.exe] found in cache\n"
     ]
    },
    {
     "name": "stdout",
     "output_type": "stream",
     "text": [
      "\n"
     ]
    },
    {
     "name": "stderr",
     "output_type": "stream",
     "text": [
      "[WDM] - ====== WebDriver manager ======\n",
      "[WDM] - Current google-chrome version is 103.0.5060\n",
      "[WDM] - Get LATEST chromedriver version for 103.0.5060 google-chrome\n",
      "[WDM] - Driver [C:\\Users\\yejin\\.wdm\\drivers\\chromedriver\\win32\\103.0.5060.134\\chromedriver.exe] found in cache\n"
     ]
    },
    {
     "name": "stdout",
     "output_type": "stream",
     "text": [
      "\n"
     ]
    },
    {
     "name": "stderr",
     "output_type": "stream",
     "text": [
      "[WDM] - ====== WebDriver manager ======\n",
      "[WDM] - Current google-chrome version is 103.0.5060\n",
      "[WDM] - Get LATEST chromedriver version for 103.0.5060 google-chrome\n",
      "[WDM] - Driver [C:\\Users\\yejin\\.wdm\\drivers\\chromedriver\\win32\\103.0.5060.134\\chromedriver.exe] found in cache\n"
     ]
    },
    {
     "name": "stdout",
     "output_type": "stream",
     "text": [
      "\n"
     ]
    },
    {
     "name": "stderr",
     "output_type": "stream",
     "text": [
      "[WDM] - ====== WebDriver manager ======\n",
      "[WDM] - Current google-chrome version is 103.0.5060\n",
      "[WDM] - Get LATEST chromedriver version for 103.0.5060 google-chrome\n",
      "[WDM] - Driver [C:\\Users\\yejin\\.wdm\\drivers\\chromedriver\\win32\\103.0.5060.134\\chromedriver.exe] found in cache\n"
     ]
    },
    {
     "name": "stdout",
     "output_type": "stream",
     "text": [
      "\n"
     ]
    },
    {
     "name": "stderr",
     "output_type": "stream",
     "text": [
      "[WDM] - ====== WebDriver manager ======\n",
      "[WDM] - Current google-chrome version is 103.0.5060\n",
      "[WDM] - Get LATEST chromedriver version for 103.0.5060 google-chrome\n",
      "[WDM] - Driver [C:\\Users\\yejin\\.wdm\\drivers\\chromedriver\\win32\\103.0.5060.134\\chromedriver.exe] found in cache\n"
     ]
    },
    {
     "name": "stdout",
     "output_type": "stream",
     "text": [
      "\n"
     ]
    },
    {
     "name": "stderr",
     "output_type": "stream",
     "text": [
      "[WDM] - ====== WebDriver manager ======\n",
      "[WDM] - Current google-chrome version is 103.0.5060\n",
      "[WDM] - Get LATEST chromedriver version for 103.0.5060 google-chrome\n",
      "[WDM] - Driver [C:\\Users\\yejin\\.wdm\\drivers\\chromedriver\\win32\\103.0.5060.134\\chromedriver.exe] found in cache\n"
     ]
    },
    {
     "name": "stdout",
     "output_type": "stream",
     "text": [
      "\n"
     ]
    },
    {
     "name": "stderr",
     "output_type": "stream",
     "text": [
      "[WDM] - ====== WebDriver manager ======\n",
      "[WDM] - Current google-chrome version is 103.0.5060\n",
      "[WDM] - Get LATEST chromedriver version for 103.0.5060 google-chrome\n",
      "[WDM] - Driver [C:\\Users\\yejin\\.wdm\\drivers\\chromedriver\\win32\\103.0.5060.134\\chromedriver.exe] found in cache\n"
     ]
    },
    {
     "name": "stdout",
     "output_type": "stream",
     "text": [
      "\n"
     ]
    },
    {
     "name": "stderr",
     "output_type": "stream",
     "text": [
      "[WDM] - ====== WebDriver manager ======\n",
      "[WDM] - Current google-chrome version is 103.0.5060\n",
      "[WDM] - Get LATEST chromedriver version for 103.0.5060 google-chrome\n",
      "[WDM] - Driver [C:\\Users\\yejin\\.wdm\\drivers\\chromedriver\\win32\\103.0.5060.134\\chromedriver.exe] found in cache\n"
     ]
    },
    {
     "name": "stdout",
     "output_type": "stream",
     "text": [
      "\n"
     ]
    },
    {
     "name": "stderr",
     "output_type": "stream",
     "text": [
      "[WDM] - ====== WebDriver manager ======\n",
      "[WDM] - Current google-chrome version is 103.0.5060\n",
      "[WDM] - Get LATEST chromedriver version for 103.0.5060 google-chrome\n",
      "[WDM] - Driver [C:\\Users\\yejin\\.wdm\\drivers\\chromedriver\\win32\\103.0.5060.134\\chromedriver.exe] found in cache\n"
     ]
    },
    {
     "name": "stdout",
     "output_type": "stream",
     "text": [
      "\n"
     ]
    },
    {
     "name": "stderr",
     "output_type": "stream",
     "text": [
      "[WDM] - ====== WebDriver manager ======\n",
      "[WDM] - Current google-chrome version is 103.0.5060\n",
      "[WDM] - Get LATEST chromedriver version for 103.0.5060 google-chrome\n",
      "[WDM] - Driver [C:\\Users\\yejin\\.wdm\\drivers\\chromedriver\\win32\\103.0.5060.134\\chromedriver.exe] found in cache\n"
     ]
    },
    {
     "name": "stdout",
     "output_type": "stream",
     "text": [
      "\n"
     ]
    },
    {
     "name": "stderr",
     "output_type": "stream",
     "text": [
      "[WDM] - ====== WebDriver manager ======\n",
      "[WDM] - Current google-chrome version is 103.0.5060\n",
      "[WDM] - Get LATEST chromedriver version for 103.0.5060 google-chrome\n",
      "[WDM] - Driver [C:\\Users\\yejin\\.wdm\\drivers\\chromedriver\\win32\\103.0.5060.134\\chromedriver.exe] found in cache\n"
     ]
    }
   ],
   "source": [
    "chrome_options = webdriver.ChromeOptions()\n",
    "driver = webdriver.Chrome(service=Service(ChromeDriverManager().install()), options=chrome_options)\n",
    "\n",
    "# 1001, 2000, 50\n",
    "# for문으로 인덱스 돌리기\n",
    "\n",
    "total_lists = []\n",
    "for page in list(range(1001,2000, 50)):\n",
    "\n",
    "  driver = webdriver.Chrome(service=Service(ChromeDriverManager().install()), options=chrome_options)\n",
    "  driver.get('https://www.melon.com/genre/song_list.htm?gnrCode=GN0100#params%5BgnrCode%5D=GN0100&params%5BdtlGnrCode%5D='\\\n",
    "              +'&params%5BorderBy%5D=POP&params%5BsteadyYn%5D=N&po=pageObj&startIndex='+ str(page))\n",
    "\n",
    "  page_source = driver.page_source\n",
    "  soup = BeautifulSoup(page_source, \"html.parser\")\n",
    "\n",
    "  songIds = soup.select(\"#frm > div > table > tbody td:nth-child(4) > div > a\")\n",
    "  total_lists = total_lists + songIds"
   ]
  },
  {
   "cell_type": "code",
   "execution_count": 12,
   "metadata": {},
   "outputs": [],
   "source": [
    "# songId 가져오기\n",
    "songId_list = []\n",
    "for songId in total_lists:\n",
    "    songId_list.append(songId['href'].split('\\'')[1])"
   ]
  },
  {
   "cell_type": "code",
   "execution_count": 15,
   "metadata": {},
   "outputs": [],
   "source": [
    "# 앨범제목, 가수명, 노래제목, 발매일, 가사, 좋아요 수 리스트 변수 생성\n",
    "\n",
    "songImage_list = []\n",
    "singer_list = []\n",
    "singName_list = []\n",
    "date_list = []\n",
    "lyrics_list = []\n",
    "like_list = []"
   ]
  },
  {
   "cell_type": "code",
   "execution_count": 16,
   "metadata": {},
   "outputs": [
    {
     "data": {
      "text/plain": [
       "1000"
      ]
     },
     "execution_count": 16,
     "metadata": {},
     "output_type": "execute_result"
    }
   ],
   "source": [
    "len(songId_list)"
   ]
  },
  {
   "cell_type": "code",
   "execution_count": 17,
   "metadata": {},
   "outputs": [
    {
     "name": "stdout",
     "output_type": "stream",
     "text": [
      "\n"
     ]
    },
    {
     "name": "stderr",
     "output_type": "stream",
     "text": [
      "[WDM] - ====== WebDriver manager ======\n",
      "[WDM] - Current google-chrome version is 103.0.5060\n",
      "[WDM] - Get LATEST chromedriver version for 103.0.5060 google-chrome\n",
      "[WDM] - Driver [C:\\Users\\yejin\\.wdm\\drivers\\chromedriver\\win32\\103.0.5060.134\\chromedriver.exe] found in cache\n"
     ]
    }
   ],
   "source": [
    "import time# for문으로 가수명, 노래제목, 발매일, 가사, 좋아요 수 리스트 변수에 내용 담고 저장하기\n",
    "\n",
    "chrome_options = webdriver.ChromeOptions()\n",
    "driver = webdriver.Chrome(service=Service(ChromeDriverManager().install()), options=chrome_options)\n",
    "\n",
    "for songId in songId_list:\n",
    "    \n",
    "    driver.get(f'https://www.melon.com/song/detail.htm?songId={songId}')\n",
    "\n",
    "    page_source = driver.page_source\n",
    "    soup = BeautifulSoup(page_source, \"html.parser\")\n",
    "    try:\n",
    "        # 앨범 사진 가져오기\n",
    "        song_image = soup.select_one('#downloadfrm > div > div > div.thumb > a.image_typeAll > img')[\"src\"]\n",
    "        songImage_list.append(song_image)\n",
    "\n",
    "        # 가수명 가져오기\n",
    "        artist_name = soup.select_one('#downloadfrm > div > div > div.entry > div.info > div.artist > a > span:nth-child(1) ')\n",
    "        singer_list.append(artist_name.string)\n",
    "\n",
    "        # 노래제목 가져오기\n",
    "        song_name = soup.select_one(\"#downloadfrm > div > div > div.entry > div.info > div.song_name \")\n",
    "        singName_list.append(song_name.text.strip().split('\\n\\t\\t\\t\\t\\t\\t\\t\\n\\t\\t\\t\\t\\t\\t\\t\\n\\t\\t\\t\\t\\t\\t\\t\\n\\t\\t\\t\\t\\t\\t\\t\\n\\t\\t\\t\\t\\t\\t\\t')[1])\n",
    "\n",
    "        # 발매일 가져오기\n",
    "        date = soup.select_one('#downloadfrm > div > div > div.entry > div.meta > dl > dd:nth-child(4)')\n",
    "        date_list.append(date.string)\n",
    "\n",
    "        # 가사 가져오기\n",
    "        lyric = str(soup.select_one('#d_video_summary')).replace('<br/>', ' ').replace(\n",
    "            '<div class=\"lyric\" id=\"d_video_summary\"><!-- height:auto; 로 변경시, 확장됨 -->', '').replace('</div>', '').replace('\\t', '').replace('\\n', '')\n",
    "        lyric = lyric.replace('  ', ' ')\n",
    "        lyrics_list.append(lyric)\n",
    "\n",
    "        # 좋아요수 가져오기\n",
    "        like = soup.select_one(\"#d_like_count\")\n",
    "        like_list.append(like.text)\n",
    "\n",
    "        time.sleep(2)\n",
    "    except:\n",
    "        songImage_list.append(0)\n",
    "        singer_list.append(0)\n",
    "        singName_list.append(0)\n",
    "        date_list.append(0)\n",
    "        lyrics_list.append(0)\n",
    "        like_list.append(0)\n",
    "        time.sleep(1)\n"
   ]
  },
  {
   "cell_type": "code",
   "execution_count": 18,
   "metadata": {},
   "outputs": [
    {
     "name": "stdout",
     "output_type": "stream",
     "text": [
      "1000 1000 1000 1000 1000 1000\n"
     ]
    }
   ],
   "source": [
    "print(len(songImage_list),len(singer_list),len(singName_list),len(date_list),len(lyrics_list),len(like_list))"
   ]
  },
  {
   "cell_type": "code",
   "execution_count": 24,
   "metadata": {},
   "outputs": [],
   "source": [
    "rank_list = list(range(1001,2001,1))"
   ]
  },
  {
   "cell_type": "code",
   "execution_count": 25,
   "metadata": {},
   "outputs": [
    {
     "data": {
      "text/plain": [
       "1000"
      ]
     },
     "execution_count": 25,
     "metadata": {},
     "output_type": "execute_result"
    }
   ],
   "source": [
    "len(rank_list)"
   ]
  },
  {
   "cell_type": "code",
   "execution_count": 36,
   "metadata": {},
   "outputs": [],
   "source": [
    "ballad = {'가수명':singer_list, '노래제목':singName_list, '발매일':date_list, '가사':lyrics_list, '좋아요수':like_list, '앨범사진':songImage_list, 'songId': songId_list, '순위':rank_list}"
   ]
  },
  {
   "cell_type": "code",
   "execution_count": 37,
   "metadata": {},
   "outputs": [
    {
     "data": {
      "text/html": [
       "<div>\n",
       "<style scoped>\n",
       "    .dataframe tbody tr th:only-of-type {\n",
       "        vertical-align: middle;\n",
       "    }\n",
       "\n",
       "    .dataframe tbody tr th {\n",
       "        vertical-align: top;\n",
       "    }\n",
       "\n",
       "    .dataframe thead th {\n",
       "        text-align: right;\n",
       "    }\n",
       "</style>\n",
       "<table border=\"1\" class=\"dataframe\">\n",
       "  <thead>\n",
       "    <tr style=\"text-align: right;\">\n",
       "      <th></th>\n",
       "      <th>가수명</th>\n",
       "      <th>노래제목</th>\n",
       "      <th>발매일</th>\n",
       "      <th>가사</th>\n",
       "      <th>좋아요수</th>\n",
       "      <th>앨범사진</th>\n",
       "      <th>songId</th>\n",
       "      <th>순위</th>\n",
       "    </tr>\n",
       "  </thead>\n",
       "  <tbody>\n",
       "    <tr>\n",
       "      <th>0</th>\n",
       "      <td>이승철</td>\n",
       "      <td>인연 (드라마 '불새')</td>\n",
       "      <td>2009.12.09</td>\n",
       "      <td>눈을 떠 바라보아요 그댄 정말 가셨나요 단 한번 보내준 그대 눈빛은 날 사랑했나요 ...</td>\n",
       "      <td>23,478</td>\n",
       "      <td>https://cdnimg.melon.co.kr/cm/album/images/007...</td>\n",
       "      <td>2386960</td>\n",
       "      <td>1001</td>\n",
       "    </tr>\n",
       "    <tr>\n",
       "      <th>1</th>\n",
       "      <td>CHEEZE (치즈)</td>\n",
       "      <td>좋아해 (bye)</td>\n",
       "      <td>2017.02.20</td>\n",
       "      <td>문득 생각났어 너의 그 웃음이 익숙했던 너의 그 향기가 언제부터인지 낯설게 느껴져 ...</td>\n",
       "      <td>99,085</td>\n",
       "      <td>https://cdnimg.melon.co.kr/cm/album/images/100...</td>\n",
       "      <td>30259844</td>\n",
       "      <td>1002</td>\n",
       "    </tr>\n",
       "    <tr>\n",
       "      <th>2</th>\n",
       "      <td>임한별</td>\n",
       "      <td>사랑 이딴 거</td>\n",
       "      <td>2019.01.22</td>\n",
       "      <td>털썩 주저 앉아버렸어 아무 준비 없이 만난 소나기 예고 없이 찾아오는 겨울 감기처럼...</td>\n",
       "      <td>34,979</td>\n",
       "      <td>https://cdnimg.melon.co.kr/cm/album/images/102...</td>\n",
       "      <td>31573334</td>\n",
       "      <td>1003</td>\n",
       "    </tr>\n",
       "    <tr>\n",
       "      <th>3</th>\n",
       "      <td>정창룡</td>\n",
       "      <td>익숙함에 속아 소중함을 몰랐다 (Feat. 이지용)</td>\n",
       "      <td>2020.06.30</td>\n",
       "      <td>있을 때 잘해 네가 내게 가끔 했던 말 그땐 그냥 웃으면서 넘겼던 그 말 시간이 흘...</td>\n",
       "      <td>9,147</td>\n",
       "      <td>https://cdnimg.melon.co.kr/cm2/album/images/10...</td>\n",
       "      <td>32724536</td>\n",
       "      <td>1004</td>\n",
       "    </tr>\n",
       "    <tr>\n",
       "      <th>4</th>\n",
       "      <td>씨야</td>\n",
       "      <td>사랑하기 때문에 (Feat. SG워너비)</td>\n",
       "      <td>2006.02.22</td>\n",
       "      <td>사랑이 떠났어 이제는 다시 볼 수 없겠지 처음 해본 사랑도 아닌데 많이 아프다 사랑...</td>\n",
       "      <td>11,532</td>\n",
       "      <td>https://cdnimg.melon.co.kr/cm/album/images/003...</td>\n",
       "      <td>1119896</td>\n",
       "      <td>1005</td>\n",
       "    </tr>\n",
       "  </tbody>\n",
       "</table>\n",
       "</div>"
      ],
      "text/plain": [
       "           가수명                          노래제목         발매일  \\\n",
       "0          이승철                 인연 (드라마 '불새')  2009.12.09   \n",
       "1  CHEEZE (치즈)                     좋아해 (bye)  2017.02.20   \n",
       "2          임한별                       사랑 이딴 거  2019.01.22   \n",
       "3          정창룡  익숙함에 속아 소중함을 몰랐다 (Feat. 이지용)  2020.06.30   \n",
       "4           씨야        사랑하기 때문에 (Feat. SG워너비)  2006.02.22   \n",
       "\n",
       "                                                  가사    좋아요수  \\\n",
       "0  눈을 떠 바라보아요 그댄 정말 가셨나요 단 한번 보내준 그대 눈빛은 날 사랑했나요 ...  23,478   \n",
       "1  문득 생각났어 너의 그 웃음이 익숙했던 너의 그 향기가 언제부터인지 낯설게 느껴져 ...  99,085   \n",
       "2  털썩 주저 앉아버렸어 아무 준비 없이 만난 소나기 예고 없이 찾아오는 겨울 감기처럼...  34,979   \n",
       "3  있을 때 잘해 네가 내게 가끔 했던 말 그땐 그냥 웃으면서 넘겼던 그 말 시간이 흘...   9,147   \n",
       "4  사랑이 떠났어 이제는 다시 볼 수 없겠지 처음 해본 사랑도 아닌데 많이 아프다 사랑...  11,532   \n",
       "\n",
       "                                                앨범사진    songId    순위  \n",
       "0  https://cdnimg.melon.co.kr/cm/album/images/007...   2386960  1001  \n",
       "1  https://cdnimg.melon.co.kr/cm/album/images/100...  30259844  1002  \n",
       "2  https://cdnimg.melon.co.kr/cm/album/images/102...  31573334  1003  \n",
       "3  https://cdnimg.melon.co.kr/cm2/album/images/10...  32724536  1004  \n",
       "4  https://cdnimg.melon.co.kr/cm/album/images/003...   1119896  1005  "
      ]
     },
     "execution_count": 37,
     "metadata": {},
     "output_type": "execute_result"
    }
   ],
   "source": [
    "ballad_top2000 = pd.DataFrame(ballad)\n",
    "\n",
    "ballad_top2000.head()"
   ]
  },
  {
   "cell_type": "code",
   "execution_count": 38,
   "metadata": {},
   "outputs": [
    {
     "data": {
      "text/plain": [
       "가수명       0\n",
       "노래제목      0\n",
       "발매일       0\n",
       "가사        0\n",
       "좋아요수      0\n",
       "앨범사진      0\n",
       "songId    0\n",
       "순위        0\n",
       "dtype: int64"
      ]
     },
     "execution_count": 38,
     "metadata": {},
     "output_type": "execute_result"
    }
   ],
   "source": [
    "ballad_top2000.isnull().sum()"
   ]
  },
  {
   "cell_type": "code",
   "execution_count": 39,
   "metadata": {},
   "outputs": [],
   "source": [
    "ballad_top2000['좋아요수'] = ballad_top2000['좋아요수'].str.replace(',','')"
   ]
  },
  {
   "cell_type": "code",
   "execution_count": 40,
   "metadata": {},
   "outputs": [
    {
     "name": "stderr",
     "output_type": "stream",
     "text": [
      "C:\\Users\\yejin\\AppData\\Local\\Temp/ipykernel_21672/1565362482.py:1: FutureWarning: The default value of regex will change from True to False in a future version. In addition, single character regular expressions will *not* be treated as literal strings when regex=True.\n",
      "  ballad_top2000['발매일'] = ballad_top2000['발매일'].str.replace('.', '-')\n"
     ]
    }
   ],
   "source": [
    "ballad_top2000['발매일'] = ballad_top2000['발매일'].str.replace('.', '-')"
   ]
  },
  {
   "cell_type": "code",
   "execution_count": 41,
   "metadata": {},
   "outputs": [],
   "source": [
    "ballad_top2000['발매일'] = pd.to_datetime(ballad_top2000['발매일'])"
   ]
  },
  {
   "cell_type": "code",
   "execution_count": 42,
   "metadata": {},
   "outputs": [
    {
     "data": {
      "text/html": [
       "<div>\n",
       "<style scoped>\n",
       "    .dataframe tbody tr th:only-of-type {\n",
       "        vertical-align: middle;\n",
       "    }\n",
       "\n",
       "    .dataframe tbody tr th {\n",
       "        vertical-align: top;\n",
       "    }\n",
       "\n",
       "    .dataframe thead th {\n",
       "        text-align: right;\n",
       "    }\n",
       "</style>\n",
       "<table border=\"1\" class=\"dataframe\">\n",
       "  <thead>\n",
       "    <tr style=\"text-align: right;\">\n",
       "      <th></th>\n",
       "      <th>가수명</th>\n",
       "      <th>노래제목</th>\n",
       "      <th>발매일</th>\n",
       "      <th>가사</th>\n",
       "      <th>좋아요수</th>\n",
       "      <th>앨범사진</th>\n",
       "      <th>songId</th>\n",
       "      <th>순위</th>\n",
       "    </tr>\n",
       "  </thead>\n",
       "  <tbody>\n",
       "    <tr>\n",
       "      <th>0</th>\n",
       "      <td>이승철</td>\n",
       "      <td>인연 (드라마 '불새')</td>\n",
       "      <td>2009-12-09</td>\n",
       "      <td>눈을 떠 바라보아요 그댄 정말 가셨나요 단 한번 보내준 그대 눈빛은 날 사랑했나요 ...</td>\n",
       "      <td>23478</td>\n",
       "      <td>https://cdnimg.melon.co.kr/cm/album/images/007...</td>\n",
       "      <td>2386960</td>\n",
       "      <td>1001</td>\n",
       "    </tr>\n",
       "    <tr>\n",
       "      <th>1</th>\n",
       "      <td>CHEEZE (치즈)</td>\n",
       "      <td>좋아해 (bye)</td>\n",
       "      <td>2017-02-20</td>\n",
       "      <td>문득 생각났어 너의 그 웃음이 익숙했던 너의 그 향기가 언제부터인지 낯설게 느껴져 ...</td>\n",
       "      <td>99085</td>\n",
       "      <td>https://cdnimg.melon.co.kr/cm/album/images/100...</td>\n",
       "      <td>30259844</td>\n",
       "      <td>1002</td>\n",
       "    </tr>\n",
       "    <tr>\n",
       "      <th>2</th>\n",
       "      <td>임한별</td>\n",
       "      <td>사랑 이딴 거</td>\n",
       "      <td>2019-01-22</td>\n",
       "      <td>털썩 주저 앉아버렸어 아무 준비 없이 만난 소나기 예고 없이 찾아오는 겨울 감기처럼...</td>\n",
       "      <td>34979</td>\n",
       "      <td>https://cdnimg.melon.co.kr/cm/album/images/102...</td>\n",
       "      <td>31573334</td>\n",
       "      <td>1003</td>\n",
       "    </tr>\n",
       "    <tr>\n",
       "      <th>3</th>\n",
       "      <td>정창룡</td>\n",
       "      <td>익숙함에 속아 소중함을 몰랐다 (Feat. 이지용)</td>\n",
       "      <td>2020-06-30</td>\n",
       "      <td>있을 때 잘해 네가 내게 가끔 했던 말 그땐 그냥 웃으면서 넘겼던 그 말 시간이 흘...</td>\n",
       "      <td>9147</td>\n",
       "      <td>https://cdnimg.melon.co.kr/cm2/album/images/10...</td>\n",
       "      <td>32724536</td>\n",
       "      <td>1004</td>\n",
       "    </tr>\n",
       "    <tr>\n",
       "      <th>4</th>\n",
       "      <td>씨야</td>\n",
       "      <td>사랑하기 때문에 (Feat. SG워너비)</td>\n",
       "      <td>2006-02-22</td>\n",
       "      <td>사랑이 떠났어 이제는 다시 볼 수 없겠지 처음 해본 사랑도 아닌데 많이 아프다 사랑...</td>\n",
       "      <td>11532</td>\n",
       "      <td>https://cdnimg.melon.co.kr/cm/album/images/003...</td>\n",
       "      <td>1119896</td>\n",
       "      <td>1005</td>\n",
       "    </tr>\n",
       "  </tbody>\n",
       "</table>\n",
       "</div>"
      ],
      "text/plain": [
       "           가수명                          노래제목        발매일  \\\n",
       "0          이승철                 인연 (드라마 '불새') 2009-12-09   \n",
       "1  CHEEZE (치즈)                     좋아해 (bye) 2017-02-20   \n",
       "2          임한별                       사랑 이딴 거 2019-01-22   \n",
       "3          정창룡  익숙함에 속아 소중함을 몰랐다 (Feat. 이지용) 2020-06-30   \n",
       "4           씨야        사랑하기 때문에 (Feat. SG워너비) 2006-02-22   \n",
       "\n",
       "                                                  가사   좋아요수  \\\n",
       "0  눈을 떠 바라보아요 그댄 정말 가셨나요 단 한번 보내준 그대 눈빛은 날 사랑했나요 ...  23478   \n",
       "1  문득 생각났어 너의 그 웃음이 익숙했던 너의 그 향기가 언제부터인지 낯설게 느껴져 ...  99085   \n",
       "2  털썩 주저 앉아버렸어 아무 준비 없이 만난 소나기 예고 없이 찾아오는 겨울 감기처럼...  34979   \n",
       "3  있을 때 잘해 네가 내게 가끔 했던 말 그땐 그냥 웃으면서 넘겼던 그 말 시간이 흘...   9147   \n",
       "4  사랑이 떠났어 이제는 다시 볼 수 없겠지 처음 해본 사랑도 아닌데 많이 아프다 사랑...  11532   \n",
       "\n",
       "                                                앨범사진    songId    순위  \n",
       "0  https://cdnimg.melon.co.kr/cm/album/images/007...   2386960  1001  \n",
       "1  https://cdnimg.melon.co.kr/cm/album/images/100...  30259844  1002  \n",
       "2  https://cdnimg.melon.co.kr/cm/album/images/102...  31573334  1003  \n",
       "3  https://cdnimg.melon.co.kr/cm2/album/images/10...  32724536  1004  \n",
       "4  https://cdnimg.melon.co.kr/cm/album/images/003...   1119896  1005  "
      ]
     },
     "execution_count": 42,
     "metadata": {},
     "output_type": "execute_result"
    }
   ],
   "source": [
    "ballad_top2000.head()"
   ]
  },
  {
   "cell_type": "code",
   "execution_count": 43,
   "metadata": {},
   "outputs": [
    {
     "name": "stdout",
     "output_type": "stream",
     "text": [
      "<class 'pandas.core.frame.DataFrame'>\n",
      "RangeIndex: 1000 entries, 0 to 999\n",
      "Data columns (total 8 columns):\n",
      " #   Column  Non-Null Count  Dtype         \n",
      "---  ------  --------------  -----         \n",
      " 0   가수명     1000 non-null   object        \n",
      " 1   노래제목    1000 non-null   object        \n",
      " 2   발매일     1000 non-null   datetime64[ns]\n",
      " 3   가사      1000 non-null   object        \n",
      " 4   좋아요수    1000 non-null   object        \n",
      " 5   앨범사진    1000 non-null   object        \n",
      " 6   songId  1000 non-null   object        \n",
      " 7   순위      1000 non-null   int64         \n",
      "dtypes: datetime64[ns](1), int64(1), object(6)\n",
      "memory usage: 62.6+ KB\n"
     ]
    }
   ],
   "source": [
    "ballad_top2000.info()"
   ]
  },
  {
   "cell_type": "code",
   "execution_count": 44,
   "metadata": {},
   "outputs": [],
   "source": [
    "ballad_top2000.to_csv(\"../../Data/ballad_Re_top2000.csv\",index=False)"
   ]
  },
  {
   "cell_type": "code",
   "execution_count": 45,
   "metadata": {},
   "outputs": [
    {
     "data": {
      "text/html": [
       "<div>\n",
       "<style scoped>\n",
       "    .dataframe tbody tr th:only-of-type {\n",
       "        vertical-align: middle;\n",
       "    }\n",
       "\n",
       "    .dataframe tbody tr th {\n",
       "        vertical-align: top;\n",
       "    }\n",
       "\n",
       "    .dataframe thead th {\n",
       "        text-align: right;\n",
       "    }\n",
       "</style>\n",
       "<table border=\"1\" class=\"dataframe\">\n",
       "  <thead>\n",
       "    <tr style=\"text-align: right;\">\n",
       "      <th></th>\n",
       "      <th>가수명</th>\n",
       "      <th>노래제목</th>\n",
       "      <th>발매일</th>\n",
       "      <th>가사</th>\n",
       "      <th>좋아요수</th>\n",
       "      <th>앨범사진</th>\n",
       "      <th>songId</th>\n",
       "      <th>순위</th>\n",
       "    </tr>\n",
       "  </thead>\n",
       "  <tbody>\n",
       "    <tr>\n",
       "      <th>0</th>\n",
       "      <td>이승철</td>\n",
       "      <td>인연 (드라마 '불새')</td>\n",
       "      <td>2009-12-09</td>\n",
       "      <td>눈을 떠 바라보아요 그댄 정말 가셨나요 단 한번 보내준 그대 눈빛은 날 사랑했나요 ...</td>\n",
       "      <td>23478</td>\n",
       "      <td>https://cdnimg.melon.co.kr/cm/album/images/007...</td>\n",
       "      <td>2386960</td>\n",
       "      <td>1001</td>\n",
       "    </tr>\n",
       "    <tr>\n",
       "      <th>1</th>\n",
       "      <td>CHEEZE (치즈)</td>\n",
       "      <td>좋아해 (bye)</td>\n",
       "      <td>2017-02-20</td>\n",
       "      <td>문득 생각났어 너의 그 웃음이 익숙했던 너의 그 향기가 언제부터인지 낯설게 느껴져 ...</td>\n",
       "      <td>99085</td>\n",
       "      <td>https://cdnimg.melon.co.kr/cm/album/images/100...</td>\n",
       "      <td>30259844</td>\n",
       "      <td>1002</td>\n",
       "    </tr>\n",
       "    <tr>\n",
       "      <th>2</th>\n",
       "      <td>임한별</td>\n",
       "      <td>사랑 이딴 거</td>\n",
       "      <td>2019-01-22</td>\n",
       "      <td>털썩 주저 앉아버렸어 아무 준비 없이 만난 소나기 예고 없이 찾아오는 겨울 감기처럼...</td>\n",
       "      <td>34979</td>\n",
       "      <td>https://cdnimg.melon.co.kr/cm/album/images/102...</td>\n",
       "      <td>31573334</td>\n",
       "      <td>1003</td>\n",
       "    </tr>\n",
       "    <tr>\n",
       "      <th>3</th>\n",
       "      <td>정창룡</td>\n",
       "      <td>익숙함에 속아 소중함을 몰랐다 (Feat. 이지용)</td>\n",
       "      <td>2020-06-30</td>\n",
       "      <td>있을 때 잘해 네가 내게 가끔 했던 말 그땐 그냥 웃으면서 넘겼던 그 말 시간이 흘...</td>\n",
       "      <td>9147</td>\n",
       "      <td>https://cdnimg.melon.co.kr/cm2/album/images/10...</td>\n",
       "      <td>32724536</td>\n",
       "      <td>1004</td>\n",
       "    </tr>\n",
       "    <tr>\n",
       "      <th>4</th>\n",
       "      <td>씨야</td>\n",
       "      <td>사랑하기 때문에 (Feat. SG워너비)</td>\n",
       "      <td>2006-02-22</td>\n",
       "      <td>사랑이 떠났어 이제는 다시 볼 수 없겠지 처음 해본 사랑도 아닌데 많이 아프다 사랑...</td>\n",
       "      <td>11532</td>\n",
       "      <td>https://cdnimg.melon.co.kr/cm/album/images/003...</td>\n",
       "      <td>1119896</td>\n",
       "      <td>1005</td>\n",
       "    </tr>\n",
       "    <tr>\n",
       "      <th>...</th>\n",
       "      <td>...</td>\n",
       "      <td>...</td>\n",
       "      <td>...</td>\n",
       "      <td>...</td>\n",
       "      <td>...</td>\n",
       "      <td>...</td>\n",
       "      <td>...</td>\n",
       "      <td>...</td>\n",
       "    </tr>\n",
       "    <tr>\n",
       "      <th>995</th>\n",
       "      <td>터보</td>\n",
       "      <td>회상 (December)</td>\n",
       "      <td>1997-01-01</td>\n",
       "      <td>겨울 오면은 우리 둘이서 항상 왔었던 바닷가 시린 바람과 하얀 파도는 예전 그대로였...</td>\n",
       "      <td>12742</td>\n",
       "      <td>https://cdnimg.melon.co.kr/cm/album/images/003...</td>\n",
       "      <td>1606413</td>\n",
       "      <td>1996</td>\n",
       "    </tr>\n",
       "    <tr>\n",
       "      <th>996</th>\n",
       "      <td>이석훈</td>\n",
       "      <td>고백</td>\n",
       "      <td>2011-06-02</td>\n",
       "      <td>좋은 사람 만나 행복해야 해 너는 웃고 있지만 나는 웃을 수가 없는걸 그래 난 알고...</td>\n",
       "      <td>18569</td>\n",
       "      <td>https://cdnimg.melon.co.kr/cm/album/images/012...</td>\n",
       "      <td>3426230</td>\n",
       "      <td>1997</td>\n",
       "    </tr>\n",
       "    <tr>\n",
       "      <th>997</th>\n",
       "      <td>다비치</td>\n",
       "      <td>나의 첫사랑</td>\n",
       "      <td>2022-05-16</td>\n",
       "      <td>그때의 나는 너를 만나서 하나부터 열까지 모든 순간들이 소중했어 내 첫사랑 잊고 싶...</td>\n",
       "      <td>925</td>\n",
       "      <td>https://cdnimg.melon.co.kr/cm2/album/images/10...</td>\n",
       "      <td>35145139</td>\n",
       "      <td>1998</td>\n",
       "    </tr>\n",
       "    <tr>\n",
       "      <th>998</th>\n",
       "      <td>미스에스</td>\n",
       "      <td>이 나이 먹고 뭐했길래 (Feat. 정슬기)</td>\n",
       "      <td>2010-09-10</td>\n",
       "      <td>다시 처음으로 돌아갈 수 있다면 아마 너를 사랑하는 일은 안했을텐데 그 날밤 그 카...</td>\n",
       "      <td>10416</td>\n",
       "      <td>https://cdnimg.melon.co.kr/cm/album/images/010...</td>\n",
       "      <td>2933662</td>\n",
       "      <td>1999</td>\n",
       "    </tr>\n",
       "    <tr>\n",
       "      <th>999</th>\n",
       "      <td>하은 (포맨)</td>\n",
       "      <td>혼코노 (Honkono)</td>\n",
       "      <td>2019-10-17</td>\n",
       "      <td>이 동전 하나로 뭘 할 수 있을까 고민 고민하다가 나 혼자 이곳에 왔어 익숙한 번호...</td>\n",
       "      <td>15260</td>\n",
       "      <td>https://cdnimg.melon.co.kr/cm2/album/images/10...</td>\n",
       "      <td>32104350</td>\n",
       "      <td>2000</td>\n",
       "    </tr>\n",
       "  </tbody>\n",
       "</table>\n",
       "<p>1000 rows × 8 columns</p>\n",
       "</div>"
      ],
      "text/plain": [
       "             가수명                          노래제목         발매일  \\\n",
       "0            이승철                 인연 (드라마 '불새')  2009-12-09   \n",
       "1    CHEEZE (치즈)                     좋아해 (bye)  2017-02-20   \n",
       "2            임한별                       사랑 이딴 거  2019-01-22   \n",
       "3            정창룡  익숙함에 속아 소중함을 몰랐다 (Feat. 이지용)  2020-06-30   \n",
       "4             씨야        사랑하기 때문에 (Feat. SG워너비)  2006-02-22   \n",
       "..           ...                           ...         ...   \n",
       "995           터보                 회상 (December)  1997-01-01   \n",
       "996          이석훈                            고백  2011-06-02   \n",
       "997          다비치                        나의 첫사랑  2022-05-16   \n",
       "998         미스에스      이 나이 먹고 뭐했길래 (Feat. 정슬기)  2010-09-10   \n",
       "999      하은 (포맨)                 혼코노 (Honkono)  2019-10-17   \n",
       "\n",
       "                                                    가사   좋아요수  \\\n",
       "0    눈을 떠 바라보아요 그댄 정말 가셨나요 단 한번 보내준 그대 눈빛은 날 사랑했나요 ...  23478   \n",
       "1    문득 생각났어 너의 그 웃음이 익숙했던 너의 그 향기가 언제부터인지 낯설게 느껴져 ...  99085   \n",
       "2    털썩 주저 앉아버렸어 아무 준비 없이 만난 소나기 예고 없이 찾아오는 겨울 감기처럼...  34979   \n",
       "3    있을 때 잘해 네가 내게 가끔 했던 말 그땐 그냥 웃으면서 넘겼던 그 말 시간이 흘...   9147   \n",
       "4    사랑이 떠났어 이제는 다시 볼 수 없겠지 처음 해본 사랑도 아닌데 많이 아프다 사랑...  11532   \n",
       "..                                                 ...    ...   \n",
       "995  겨울 오면은 우리 둘이서 항상 왔었던 바닷가 시린 바람과 하얀 파도는 예전 그대로였...  12742   \n",
       "996  좋은 사람 만나 행복해야 해 너는 웃고 있지만 나는 웃을 수가 없는걸 그래 난 알고...  18569   \n",
       "997  그때의 나는 너를 만나서 하나부터 열까지 모든 순간들이 소중했어 내 첫사랑 잊고 싶...    925   \n",
       "998  다시 처음으로 돌아갈 수 있다면 아마 너를 사랑하는 일은 안했을텐데 그 날밤 그 카...  10416   \n",
       "999  이 동전 하나로 뭘 할 수 있을까 고민 고민하다가 나 혼자 이곳에 왔어 익숙한 번호...  15260   \n",
       "\n",
       "                                                  앨범사진    songId    순위  \n",
       "0    https://cdnimg.melon.co.kr/cm/album/images/007...   2386960  1001  \n",
       "1    https://cdnimg.melon.co.kr/cm/album/images/100...  30259844  1002  \n",
       "2    https://cdnimg.melon.co.kr/cm/album/images/102...  31573334  1003  \n",
       "3    https://cdnimg.melon.co.kr/cm2/album/images/10...  32724536  1004  \n",
       "4    https://cdnimg.melon.co.kr/cm/album/images/003...   1119896  1005  \n",
       "..                                                 ...       ...   ...  \n",
       "995  https://cdnimg.melon.co.kr/cm/album/images/003...   1606413  1996  \n",
       "996  https://cdnimg.melon.co.kr/cm/album/images/012...   3426230  1997  \n",
       "997  https://cdnimg.melon.co.kr/cm2/album/images/10...  35145139  1998  \n",
       "998  https://cdnimg.melon.co.kr/cm/album/images/010...   2933662  1999  \n",
       "999  https://cdnimg.melon.co.kr/cm2/album/images/10...  32104350  2000  \n",
       "\n",
       "[1000 rows x 8 columns]"
      ]
     },
     "execution_count": 45,
     "metadata": {},
     "output_type": "execute_result"
    }
   ],
   "source": [
    "pd.read_csv(\"../../Data/ballad_Re_top2000.csv\")"
   ]
  },
  {
   "cell_type": "code",
   "execution_count": null,
   "metadata": {},
   "outputs": [],
   "source": []
  },
  {
   "cell_type": "code",
   "execution_count": null,
   "metadata": {},
   "outputs": [],
   "source": []
  }
 ],
 "metadata": {
  "kernelspec": {
   "display_name": "Python 3.9.7 ('base')",
   "language": "python",
   "name": "python3"
  },
  "language_info": {
   "codemirror_mode": {
    "name": "ipython",
    "version": 3
   },
   "file_extension": ".py",
   "mimetype": "text/x-python",
   "name": "python",
   "nbconvert_exporter": "python",
   "pygments_lexer": "ipython3",
   "version": "3.9.7"
  },
  "orig_nbformat": 4,
  "vscode": {
   "interpreter": {
    "hash": "73feb3586288eb5455ae3e6408eb3d57be2e76ca00bb7aa4fcdc13325a09e980"
   }
  }
 },
 "nbformat": 4,
 "nbformat_minor": 2
}
