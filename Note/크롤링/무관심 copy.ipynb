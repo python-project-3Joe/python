{
 "cells": [
  {
   "cell_type": "code",
   "execution_count": 1,
   "metadata": {},
   "outputs": [],
   "source": [
    "import pandas as pd"
   ]
  },
  {
   "cell_type": "markdown",
   "metadata": {},
   "source": [
    "# 무관심, 차분한, 관조, 노곤한, 위로, 평온, 평안, 후회, 방관, 쓸쓸"
   ]
  },
  {
   "cell_type": "code",
<<<<<<< HEAD
   "execution_count": 3,
   "metadata": {},
   "outputs": [
    {
     "data": {
      "text/plain": [
       "'알 수 없다눈 뜨고 꿈꾸는 기분일까괜히 가슴이 소란스러워지고그리움도 경험해본다내게 짓던 웃음이 참 예뻤지만네 맘은 항상 표정을 짓지 않아상처 난 것들을 보여주면서치유받길 거절하는 널 보며내가 할 게 못 되는구나 힘들다시간 지나면 다 없었던 일잠시 미쳤다 생각했는데사랑이었다 사랑이었다이제 와 보니 사랑한 거였다나답지 않던 말과 행동이멋대로 굴고 있는 심장이사랑이었다 사랑이었다나보다 소중한 게 있었다언제쯤 넌 내 이름 불러줄까널 꺾는다고 그 향기가 내 게 될까넌 쓸쓸함에 대해 얘기하면서안아주려는 내 손을 밀쳤어체념할 자격도 없는 나 괴롭다시간 지나면 다 없었던 일잠시 미쳤다 생각했는데사랑이었다 사랑이었다이제 와 보니 사랑한 거였다나답지 않던 말과 행동이멋대로 굴고 있는 심장이사랑이었다 사랑이었다나보다 소중한 게 있었다이제 더 이상은 특별함을 찾지 않아널 쫓느라 두고 간 원래의 나를 찾아혼자 한 사랑은 스스로 이별해야 되네시간 지나면 다 없었던 일잠시 미쳤다 생각했는데사랑이었다 사랑이었다이제 와 보니 사랑한 거였다나답지 않던 말과 행동이멋대로 굴고 있는 심장이사랑이었다 사랑이었다나보다 소중한 게 있었다나보다 소중한 게 있었다'"
      ]
     },
     "execution_count": 3,
     "metadata": {},
     "output_type": "execute_result"
    }
   ],
   "source": [
    "calm = pd.read_csv('../../Data/ballad_calm.csv')\n",
=======
   "execution_count": null,
   "metadata": {},
   "outputs": [],
   "source": [
    "calm = pd.read_csv('../Data/ballad_calm.csv')\n",
>>>>>>> main
    "calm['가사'][38]"
   ]
  },
  {
   "cell_type": "markdown",
   "metadata": {},
   "source": [
    "뺄것들 3, 8\n",
    "애매 4, 7, 10, 26, 35, 38, 39\n",
    "슬픔 14"
   ]
  },
  {
   "cell_type": "code",
<<<<<<< HEAD
   "execution_count": 4,
=======
   "execution_count": null,
>>>>>>> main
   "metadata": {},
   "outputs": [],
   "source": [
    "# 불안 - 불안, 긴장, 고민, 우려, 두려움, 과민, 초조, 잠 못드는, 민감, 의심, 우려"
   ]
  },
  {
   "cell_type": "code",
<<<<<<< HEAD
   "execution_count": 9,
   "metadata": {},
   "outputs": [
    {
     "name": "stdout",
     "output_type": "stream",
     "text": [
      "니가 보고싶을 때\n",
      "니가 떠나기 전에 난 느끼지 못했어 니가 얼마나 내 맘에 크게 들어왔는지 익숙함에 속아 서로를 놓치지 말자고 약속했던 너의 집 앞 벤치야 아 이상하지 참 나 왜 이러는 걸까 가끔 이렇게 불쑥 찾아오는 걸 넌 좋아했었는데 니가 그린 그 여름밤에 이제 나는 없어 가을이 오기 전 널 잡고 싶어 니가 보고 싶을 때 나는 여름을 그렸어 식지 않는 열대야처럼 널 잊는 게 쉽지 않아 우리 그때 그날에 더운 줄도 몰랐는지 잡은 손을 놓지 않고 걸었던 그 여름밤 니가 떠나고 난 뒤에 많이 어질러 있던 방 하나둘씩 정리하던 도중 나온 니 사진 아주 잠깐 잊고 있던 사진 속 그 시간에 꽤나 비워놨던 니가 또 차올라 아 이상하지 참 나 왜 이러는 걸까 니가 좋다며 들려준 노래들 다시 또 듣고 있어 난 내가 그린 그 여름밤엔 이젠 니가 없어 가을이 오기 전 널 잡고 싶어 니가 보고 싶을 때 나는 여름을 그렸어 식지 않는 열대야처럼 널 잊는 게 쉽지 않아 우리 그때 그날에 더운 줄도 몰랐는지 잡은 손을 놓지 않고 걸었던 셀 수 없이 수많은 니 맘속 별 중 하나만 나에게 나눠준다면 내 맘은 좀 아물 텐데 시간이 지난 뒤에 우리를 띄워봤을 때 어둡고 캄캄하지 않게 너 빛나줄래 \n"
     ]
    }
   ],
   "source": [
    "anxious = pd.read_csv('../../Data/ballad_anxious.csv')\n",
=======
   "execution_count": null,
   "metadata": {},
   "outputs": [],
   "source": [
    "anxious = pd.read_csv('../Data/ballad_anxious.csv')\n",
>>>>>>> main
    "print(anxious.iloc[16]['노래제목'])\n",
    "print(anxious.iloc[16]['가사'])"
   ]
  },
  {
   "cell_type": "code",
<<<<<<< HEAD
   "execution_count": 10,
   "metadata": {},
   "outputs": [
    {
     "data": {
      "text/plain": [
       "가수명                                                   109\n",
       "노래제목                                            니가 보고싶을 때\n",
       "발매일                                            2018-07-19\n",
       "가사      니가 떠나기 전에 난 느끼지 못했어 니가 얼마나 내 맘에 크게 들어왔는지 익숙함에 ...\n",
       "좋아요수                                                22268\n",
       "Name: 16, dtype: object"
      ]
     },
     "execution_count": 10,
     "metadata": {},
     "output_type": "execute_result"
    }
   ],
=======
   "execution_count": null,
   "metadata": {},
   "outputs": [],
>>>>>>> main
   "source": [
    "anxious.iloc[16]"
   ]
  },
  {
   "cell_type": "code",
<<<<<<< HEAD
   "execution_count": 13,
   "metadata": {},
   "outputs": [],
   "source": [
    "happy = pd.read_csv('../../Data/ballad_happy.csv')\n",
=======
   "execution_count": 2,
   "metadata": {},
   "outputs": [],
   "source": [
    "happy = pd.read_csv('../Data/ballad_happy.csv')\n",
>>>>>>> main
    "# print(happy.iloc[50]['노래제목'])\n",
    "# print(happy.iloc[50]['가사'])"
   ]
  },
  {
   "cell_type": "code",
<<<<<<< HEAD
   "execution_count": 12,
=======
   "execution_count": 3,
>>>>>>> main
   "metadata": {},
   "outputs": [],
   "source": [
    "# 기쁨, 설렘 \n",
    "맞음 = [1, 3, 4, 6, 7, 8, 11, 12, 16, 23, 25, 27, 29, 33, 39, 41, 45, 48]\n",
    "# 애매함\n",
    "애매함 = [0, 2, 5, 9, 10, 13, 14, 15, 17, 18, 19, 20, 21, 22, 24, 26, 28, 30, 31, 32, 34, 36, 37, 38, 42, 43, 44, 46, 47,]\n"
   ]
  },
  {
   "cell_type": "code",
<<<<<<< HEAD
   "execution_count": 8,
   "metadata": {},
   "outputs": [
    {
     "data": {
      "text/plain": [
       "18"
      ]
     },
     "execution_count": 8,
     "metadata": {},
     "output_type": "execute_result"
    }
   ],
=======
   "execution_count": null,
   "metadata": {},
   "outputs": [],
>>>>>>> main
   "source": [
    "len(애매함)\n",
    "len(맞음)"
   ]
  },
  {
   "cell_type": "markdown",
   "metadata": {},
   "source": [
    "? 35, 40, 49"
   ]
  },
  {
   "cell_type": "code",
<<<<<<< HEAD
   "execution_count": null,
=======
   "execution_count": 4,
>>>>>>> main
   "metadata": {},
   "outputs": [],
   "source": [
    "\n",
    "happy2 = happy.iloc[맞음,:]\n",
    "happy2.reset_index(drop=True, inplace=True)"
   ]
  },
  {
   "cell_type": "code",
<<<<<<< HEAD
   "execution_count": null,
=======
   "execution_count": 5,
>>>>>>> main
   "metadata": {},
   "outputs": [
    {
     "data": {
      "text/html": [
       "<div>\n",
       "<style scoped>\n",
       "    .dataframe tbody tr th:only-of-type {\n",
       "        vertical-align: middle;\n",
       "    }\n",
       "\n",
       "    .dataframe tbody tr th {\n",
       "        vertical-align: top;\n",
       "    }\n",
       "\n",
       "    .dataframe thead th {\n",
       "        text-align: right;\n",
       "    }\n",
       "</style>\n",
       "<table border=\"1\" class=\"dataframe\">\n",
       "  <thead>\n",
       "    <tr style=\"text-align: right;\">\n",
       "      <th></th>\n",
       "      <th>가수명</th>\n",
       "      <th>노래제목</th>\n",
       "      <th>발매일</th>\n",
       "      <th>가사</th>\n",
       "      <th>좋아요수</th>\n",
       "    </tr>\n",
       "  </thead>\n",
       "  <tbody>\n",
       "    <tr>\n",
       "      <th>17</th>\n",
       "      <td>적재</td>\n",
       "      <td>나랑 같이 걸을래 (바른연애 길잡이 X 적재)</td>\n",
       "      <td>2020-10-23</td>\n",
       "      <td>가을밤이 찾아와 그대를 비추고 또 나를 감싸네 눈을 감을 때마다 향기로운 네 맘이 ...</td>\n",
       "      <td>128060</td>\n",
       "    </tr>\n",
       "  </tbody>\n",
       "</table>\n",
       "</div>"
      ],
      "text/plain": [
       "   가수명                       노래제목         발매일  \\\n",
       "17  적재  나랑 같이 걸을래 (바른연애 길잡이 X 적재)  2020-10-23   \n",
       "\n",
       "                                                   가사    좋아요수  \n",
       "17  가을밤이 찾아와 그대를 비추고 또 나를 감싸네 눈을 감을 때마다 향기로운 네 맘이 ...  128060  "
      ]
     },
     "execution_count": 5,
     "metadata": {},
     "output_type": "execute_result"
    }
   ],
   "source": [
    "happy = pd.read_csv(\"../Data/ballad_happy_add.csv\")\n",
    "happy2[happy2['노래제목'].isin(happy['노래제목'])]"
   ]
  },
  {
   "cell_type": "code",
<<<<<<< HEAD
   "execution_count": null,
=======
   "execution_count": 6,
>>>>>>> main
   "metadata": {},
   "outputs": [],
   "source": [
    "# happy2.iloc[17,:]\n",
    "happy2.drop(17, axis='index', inplace=True)\n"
   ]
  },
  {
   "cell_type": "code",
<<<<<<< HEAD
   "execution_count": null,
=======
   "execution_count": 7,
>>>>>>> main
   "metadata": {},
   "outputs": [],
   "source": [
    "happy = pd.concat([happy2, happy], axis=0, ignore_index=True)"
   ]
  },
  {
   "cell_type": "code",
<<<<<<< HEAD
   "execution_count": 15,
   "metadata": {},
   "outputs": [],
   "source": [
    "ballad_happy = happy.drop([18,19,21],axis=\"index\")"
=======
   "execution_count": 8,
   "metadata": {},
   "outputs": [
    {
     "data": {
      "text/html": [
       "<div>\n",
       "<style scoped>\n",
       "    .dataframe tbody tr th:only-of-type {\n",
       "        vertical-align: middle;\n",
       "    }\n",
       "\n",
       "    .dataframe tbody tr th {\n",
       "        vertical-align: top;\n",
       "    }\n",
       "\n",
       "    .dataframe thead th {\n",
       "        text-align: right;\n",
       "    }\n",
       "</style>\n",
       "<table border=\"1\" class=\"dataframe\">\n",
       "  <thead>\n",
       "    <tr style=\"text-align: right;\">\n",
       "      <th></th>\n",
       "      <th>가수명</th>\n",
       "      <th>노래제목</th>\n",
       "      <th>발매일</th>\n",
       "      <th>가사</th>\n",
       "      <th>좋아요수</th>\n",
       "    </tr>\n",
       "  </thead>\n",
       "  <tbody>\n",
       "    <tr>\n",
       "      <th>0</th>\n",
       "      <td>양다일</td>\n",
       "      <td>Darling</td>\n",
       "      <td>2020-11-23</td>\n",
       "      <td>Oh darling 처음 널 만나면 수줍은 대화들로 사랑에 빠질 거야 My darl...</td>\n",
       "      <td>10907</td>\n",
       "    </tr>\n",
       "    <tr>\n",
       "      <th>1</th>\n",
       "      <td>장범준</td>\n",
       "      <td>잠이 오질 않네요</td>\n",
       "      <td>2020-10-24</td>\n",
       "      <td>당신은 날 설레게 만들어 조용한 내 마음 자꾸만 춤추게 해 얼마나 얼마나 날 떨리게...</td>\n",
       "      <td>159018</td>\n",
       "    </tr>\n",
       "    <tr>\n",
       "      <th>2</th>\n",
       "      <td>산들</td>\n",
       "      <td>취기를 빌려 (취향저격 그녀 X 산들)</td>\n",
       "      <td>2020-07-20</td>\n",
       "      <td>언제부턴가 불쑥 내 습관이 돼버린 너 혹시나 이런 맘이 어쩌면 부담일까 널 주저했어...</td>\n",
       "      <td>218069</td>\n",
       "    </tr>\n",
       "    <tr>\n",
       "      <th>3</th>\n",
       "      <td>ODD-CAT (오드캣)</td>\n",
       "      <td>달밤 (Moon &amp; Sweet)</td>\n",
       "      <td>2020-07-02</td>\n",
       "      <td>작게 흐르는 음악 볼에 닿는 바람 달밤 달밤 달달한 밤 귓가에 들리는 길모퉁이 버스...</td>\n",
       "      <td>698</td>\n",
       "    </tr>\n",
       "    <tr>\n",
       "      <th>4</th>\n",
       "      <td>백아연</td>\n",
       "      <td>어디라도</td>\n",
       "      <td>2020-11-18</td>\n",
       "      <td>우연의 다른 이름은 운명이란 걸 배웠죠 우리 사랑의 끝이 없는 걸 이제서야 알았죠 ...</td>\n",
       "      <td>1622</td>\n",
       "    </tr>\n",
       "    <tr>\n",
       "      <th>5</th>\n",
       "      <td>김제훈</td>\n",
       "      <td>Love Again</td>\n",
       "      <td>2017-02-06</td>\n",
       "      <td>언제부터였을까 따뜻한 휴식을 찾고 있을 때 찾고 있을 때 그때부터였을까 맘이 포근해...</td>\n",
       "      <td>980</td>\n",
       "    </tr>\n",
       "    <tr>\n",
       "      <th>6</th>\n",
       "      <td>김제훈</td>\n",
       "      <td>잠잠</td>\n",
       "      <td>2020-03-17</td>\n",
       "      <td>오랜만에 거길 가봤어 아무도 없는 둘만이 알던 곳 함께 걷던 거리에 서서 아무 말도...</td>\n",
       "      <td>548</td>\n",
       "    </tr>\n",
       "    <tr>\n",
       "      <th>7</th>\n",
       "      <td>죠지</td>\n",
       "      <td>바라봐줘요</td>\n",
       "      <td>2019-02-21</td>\n",
       "      <td>그대를 다시 볼 수 있다는 생각을 해요 아마도 우린 끝없이 멀리 돌아만 왔죠 엊그제...</td>\n",
       "      <td>70395</td>\n",
       "    </tr>\n",
       "    <tr>\n",
       "      <th>8</th>\n",
       "      <td>김제훈</td>\n",
       "      <td>너만 생각하면</td>\n",
       "      <td>2018-01-29</td>\n",
       "      <td>오늘도 어김없이 빗나가는 말투들에 긴 싸움 끝에 결국 널 울리고 말았어 처음에 약속...</td>\n",
       "      <td>375</td>\n",
       "    </tr>\n",
       "    <tr>\n",
       "      <th>9</th>\n",
       "      <td>웬디 (WENDY)</td>\n",
       "      <td>두 글자</td>\n",
       "      <td>2020-11-15</td>\n",
       "      <td>그대 아무 말 없어도 나의 눈빛은 그대만 봐요 눈망울에 숨겨놓은 그대 이야기 이젠 ...</td>\n",
       "      <td>12288</td>\n",
       "    </tr>\n",
       "    <tr>\n",
       "      <th>10</th>\n",
       "      <td>김제훈</td>\n",
       "      <td>너도 그러니?</td>\n",
       "      <td>2014-05-13</td>\n",
       "      <td>멀리서 희미하게 걸어온 니 모습 한눈에 알아봤었어 무슨 말을 먼저 할까 준비해놓은 ...</td>\n",
       "      <td>42</td>\n",
       "    </tr>\n",
       "    <tr>\n",
       "      <th>11</th>\n",
       "      <td>제이레빗(J Rabbit)</td>\n",
       "      <td>너로 가득해</td>\n",
       "      <td>2020-10-12</td>\n",
       "      <td>Now I’m falling falling in love And I’m callin...</td>\n",
       "      <td>1902</td>\n",
       "    </tr>\n",
       "    <tr>\n",
       "      <th>12</th>\n",
       "      <td>김제훈</td>\n",
       "      <td>Love Road</td>\n",
       "      <td>2017-07-24</td>\n",
       "      <td>매일 마다 만드는 우리의 부드럽고 예쁜 스토리 오늘은 유난히 멋 좀 부리고 제일 먼...</td>\n",
       "      <td>150</td>\n",
       "    </tr>\n",
       "    <tr>\n",
       "      <th>13</th>\n",
       "      <td>태연 (TAEYEON)</td>\n",
       "      <td>겨울나무 (I'm all ears)</td>\n",
       "      <td>2017-12-12</td>\n",
       "      <td>어제보다 많이 지쳐 보이는 그대의 표정 만져 보곤 알죠 바람이 또 아프게 했나요 왜...</td>\n",
       "      <td>17817</td>\n",
       "    </tr>\n",
       "    <tr>\n",
       "      <th>14</th>\n",
       "      <td>어쿠스틱 콜라보</td>\n",
       "      <td>얘랑 있을 때 좋다(with 김국헌 of 비오브유)</td>\n",
       "      <td>2020-11-03</td>\n",
       "      <td>블랙커피 위에 휩크림 네가 좋아하는 아인슈페너 말투만 봐도 다 알아 오늘은 뭐가 또...</td>\n",
       "      <td>4034</td>\n",
       "    </tr>\n",
       "    <tr>\n",
       "      <th>15</th>\n",
       "      <td>성시경</td>\n",
       "      <td>첫 겨울이니까</td>\n",
       "      <td>2019-12-09</td>\n",
       "      <td>무얼 고를까 추운 겨울이니까 캐시미어 스웨터는 어떨까 처음이니까 초록이 날까 다홍색...</td>\n",
       "      <td>58622</td>\n",
       "    </tr>\n",
       "    <tr>\n",
       "      <th>16</th>\n",
       "      <td>이민혁</td>\n",
       "      <td>너만 몰라</td>\n",
       "      <td>2020-11-05</td>\n",
       "      <td>나조차 모르게 언제부터 누군가 내 안에 살고 있었나 엉뚱한 상상에 웃다 보면 찬 바...</td>\n",
       "      <td>1221</td>\n",
       "    </tr>\n",
       "    <tr>\n",
       "      <th>17</th>\n",
       "      <td>로꼬</td>\n",
       "      <td>Say Yes</td>\n",
       "      <td>2016-08-29</td>\n",
       "      <td>니 눈앞에 왔잖아 내가 여기 있잖아 너의 입술로 말을 해줘 say yes say y...</td>\n",
       "      <td>89514</td>\n",
       "    </tr>\n",
       "    <tr>\n",
       "      <th>20</th>\n",
       "      <td>비비 (BIBI)</td>\n",
       "      <td>아주, 천천히</td>\n",
       "      <td>2022-02-20</td>\n",
       "      <td>눈빛만으로 알 수가 있지 어떤 세상을 살아왔는지 처음 내민 너의 따뜻한 손길에 내 ...</td>\n",
       "      <td>35147</td>\n",
       "    </tr>\n",
       "    <tr>\n",
       "      <th>22</th>\n",
       "      <td>써니힐</td>\n",
       "      <td>들었다 놨다 (Love Actually)</td>\n",
       "      <td>2013-04-05</td>\n",
       "      <td>처음 너를 본 순간 정신 차릴 수 없어 내 마음을 들킬까봐 조심조심해 어떡하면 네 ...</td>\n",
       "      <td>42333</td>\n",
       "    </tr>\n",
       "    <tr>\n",
       "      <th>23</th>\n",
       "      <td>경서</td>\n",
       "      <td>밤하늘의 별을(2020)</td>\n",
       "      <td>2020-11-14</td>\n",
       "      <td>밤하늘의 별을 따서 너에게 줄래 너는 내가 사랑하니까 더 소중하니까 오직 너 아니면...</td>\n",
       "      <td>197543</td>\n",
       "    </tr>\n",
       "    <tr>\n",
       "      <th>24</th>\n",
       "      <td>적재</td>\n",
       "      <td>나랑 같이 걸을래 (바른연애 길잡이 X 적재)</td>\n",
       "      <td>2020-10-23</td>\n",
       "      <td>가을밤이 찾아와 그대를 비추고 또 나를 감싸네 눈을 감을 때마다 향기로운 네 맘이 ...</td>\n",
       "      <td>128088</td>\n",
       "    </tr>\n",
       "    <tr>\n",
       "      <th>25</th>\n",
       "      <td>멜로망스</td>\n",
       "      <td>고백</td>\n",
       "      <td>2021-08-29</td>\n",
       "      <td>달이 차고 내 마음도 차고 이대로 담아 두기엔 너무 안타까워 너를 향해 가는데 달은...</td>\n",
       "      <td>87197</td>\n",
       "    </tr>\n",
       "    <tr>\n",
       "      <th>26</th>\n",
       "      <td>CHEEZE (치즈)</td>\n",
       "      <td>이렇게 좋아해 본 적이 없어요</td>\n",
       "      <td>2021-03-14</td>\n",
       "      <td>따스한 바람이 불어오는 날엔 포근한 미소로 나를 또 반겨주던 그대란 사람 설레는 이...</td>\n",
       "      <td>67373</td>\n",
       "    </tr>\n",
       "    <tr>\n",
       "      <th>27</th>\n",
       "      <td>케이윌</td>\n",
       "      <td>말해! 뭐해?</td>\n",
       "      <td>2016-03-18</td>\n",
       "      <td>아무 말 없이 내게서 커져만 가는 게 아무래도 이대론 안 되겠어 어쩌다 내가 이렇게...</td>\n",
       "      <td>113409</td>\n",
       "    </tr>\n",
       "    <tr>\n",
       "      <th>28</th>\n",
       "      <td>조정석</td>\n",
       "      <td>좋아좋아</td>\n",
       "      <td>2021-07-16</td>\n",
       "      <td>처음 널 만나는 날 노란 세 송이 장미를 들고 룰루랄라 신촌을 향하는 내 가슴은 마...</td>\n",
       "      <td>86064</td>\n",
       "    </tr>\n",
       "    <tr>\n",
       "      <th>29</th>\n",
       "      <td>스텔라장 (Stella Jang)</td>\n",
       "      <td>보통날의 기적 (Feat. 폴킴)</td>\n",
       "      <td>2019-11-08</td>\n",
       "      <td>I’m waiting for a miracle 내 보통뿐인 나날에 Oh would ...</td>\n",
       "      <td>28350</td>\n",
       "    </tr>\n",
       "    <tr>\n",
       "      <th>30</th>\n",
       "      <td>멜로망스</td>\n",
       "      <td>선물</td>\n",
       "      <td>2017-07-10</td>\n",
       "      <td>빛이 들어오면 자연스레 뜨던 눈 그렇게 너의 눈빛을 보곤 사랑에 눈을 떴어 항상 알...</td>\n",
       "      <td>334594</td>\n",
       "    </tr>\n",
       "    <tr>\n",
       "      <th>31</th>\n",
       "      <td>정준일</td>\n",
       "      <td>있잖아 널 사랑해</td>\n",
       "      <td>2016-12-29</td>\n",
       "      <td>따뜻한 봄바람처럼 상냥하게 내게 불어오던 너 찬란하게 피어나던 여름의 꽃처럼 반짝이...</td>\n",
       "      <td>25523</td>\n",
       "    </tr>\n",
       "    <tr>\n",
       "      <th>32</th>\n",
       "      <td>멜로망스</td>\n",
       "      <td>사랑인가 봐</td>\n",
       "      <td>2022-02-18</td>\n",
       "      <td>너와 함께 하고 싶은 일들을 상상하는 게 요즘 내 일상이 되고 너의 즐거워하는 모습...</td>\n",
       "      <td>147178</td>\n",
       "    </tr>\n",
       "    <tr>\n",
       "      <th>33</th>\n",
       "      <td>이하이</td>\n",
       "      <td>손을 잡아줘요</td>\n",
       "      <td>2021-11-14</td>\n",
       "      <td>내 맘을 깊이 들여다보면 작은 구멍이 하나 있어요 아무도 모르게 나조차도 모르게 자...</td>\n",
       "      <td>9458</td>\n",
       "    </tr>\n",
       "    <tr>\n",
       "      <th>34</th>\n",
       "      <td>10CM</td>\n",
       "      <td>서랍</td>\n",
       "      <td>2021-12-07</td>\n",
       "      <td>어린 햇살 아래서 뛰어놀곤 했었던 가쁜 숨결 굽이진 골목 지나 길을 따라가보면 같은...</td>\n",
       "      <td>65760</td>\n",
       "    </tr>\n",
       "  </tbody>\n",
       "</table>\n",
       "</div>"
      ],
      "text/plain": [
       "                   가수명                          노래제목         발매일  \\\n",
       "0                  양다일                       Darling  2020-11-23   \n",
       "1                  장범준                     잠이 오질 않네요  2020-10-24   \n",
       "2                   산들         취기를 빌려 (취향저격 그녀 X 산들)  2020-07-20   \n",
       "3        ODD-CAT (오드캣)             달밤 (Moon & Sweet)  2020-07-02   \n",
       "4                  백아연                          어디라도  2020-11-18   \n",
       "5                  김제훈                    Love Again  2017-02-06   \n",
       "6                  김제훈                            잠잠  2020-03-17   \n",
       "7                   죠지                         바라봐줘요  2019-02-21   \n",
       "8                  김제훈                       너만 생각하면  2018-01-29   \n",
       "9           웬디 (WENDY)                          두 글자  2020-11-15   \n",
       "10                 김제훈                       너도 그러니?  2014-05-13   \n",
       "11      제이레빗(J Rabbit)                        너로 가득해  2020-10-12   \n",
       "12                 김제훈                     Love Road  2017-07-24   \n",
       "13        태연 (TAEYEON)           겨울나무 (I'm all ears)  2017-12-12   \n",
       "14            어쿠스틱 콜라보  얘랑 있을 때 좋다(with 김국헌 of 비오브유)  2020-11-03   \n",
       "15                 성시경                       첫 겨울이니까  2019-12-09   \n",
       "16                 이민혁                         너만 몰라  2020-11-05   \n",
       "17                  로꼬                       Say Yes  2016-08-29   \n",
       "20           비비 (BIBI)                       아주, 천천히  2022-02-20   \n",
       "22                 써니힐        들었다 놨다 (Love Actually)  2013-04-05   \n",
       "23                  경서                 밤하늘의 별을(2020)  2020-11-14   \n",
       "24                  적재     나랑 같이 걸을래 (바른연애 길잡이 X 적재)  2020-10-23   \n",
       "25                멜로망스                            고백  2021-08-29   \n",
       "26         CHEEZE (치즈)              이렇게 좋아해 본 적이 없어요  2021-03-14   \n",
       "27                 케이윌                       말해! 뭐해?  2016-03-18   \n",
       "28                 조정석                          좋아좋아  2021-07-16   \n",
       "29  스텔라장 (Stella Jang)            보통날의 기적 (Feat. 폴킴)  2019-11-08   \n",
       "30                멜로망스                            선물  2017-07-10   \n",
       "31                 정준일                     있잖아 널 사랑해  2016-12-29   \n",
       "32                멜로망스                        사랑인가 봐  2022-02-18   \n",
       "33                 이하이                       손을 잡아줘요  2021-11-14   \n",
       "34                10CM                            서랍  2021-12-07   \n",
       "\n",
       "                                                   가사    좋아요수  \n",
       "0   Oh darling 처음 널 만나면 수줍은 대화들로 사랑에 빠질 거야 My darl...   10907  \n",
       "1   당신은 날 설레게 만들어 조용한 내 마음 자꾸만 춤추게 해 얼마나 얼마나 날 떨리게...  159018  \n",
       "2   언제부턴가 불쑥 내 습관이 돼버린 너 혹시나 이런 맘이 어쩌면 부담일까 널 주저했어...  218069  \n",
       "3   작게 흐르는 음악 볼에 닿는 바람 달밤 달밤 달달한 밤 귓가에 들리는 길모퉁이 버스...     698  \n",
       "4   우연의 다른 이름은 운명이란 걸 배웠죠 우리 사랑의 끝이 없는 걸 이제서야 알았죠 ...    1622  \n",
       "5   언제부터였을까 따뜻한 휴식을 찾고 있을 때 찾고 있을 때 그때부터였을까 맘이 포근해...     980  \n",
       "6   오랜만에 거길 가봤어 아무도 없는 둘만이 알던 곳 함께 걷던 거리에 서서 아무 말도...     548  \n",
       "7   그대를 다시 볼 수 있다는 생각을 해요 아마도 우린 끝없이 멀리 돌아만 왔죠 엊그제...   70395  \n",
       "8   오늘도 어김없이 빗나가는 말투들에 긴 싸움 끝에 결국 널 울리고 말았어 처음에 약속...     375  \n",
       "9   그대 아무 말 없어도 나의 눈빛은 그대만 봐요 눈망울에 숨겨놓은 그대 이야기 이젠 ...   12288  \n",
       "10  멀리서 희미하게 걸어온 니 모습 한눈에 알아봤었어 무슨 말을 먼저 할까 준비해놓은 ...      42  \n",
       "11  Now I’m falling falling in love And I’m callin...    1902  \n",
       "12  매일 마다 만드는 우리의 부드럽고 예쁜 스토리 오늘은 유난히 멋 좀 부리고 제일 먼...     150  \n",
       "13  어제보다 많이 지쳐 보이는 그대의 표정 만져 보곤 알죠 바람이 또 아프게 했나요 왜...   17817  \n",
       "14  블랙커피 위에 휩크림 네가 좋아하는 아인슈페너 말투만 봐도 다 알아 오늘은 뭐가 또...    4034  \n",
       "15  무얼 고를까 추운 겨울이니까 캐시미어 스웨터는 어떨까 처음이니까 초록이 날까 다홍색...   58622  \n",
       "16  나조차 모르게 언제부터 누군가 내 안에 살고 있었나 엉뚱한 상상에 웃다 보면 찬 바...    1221  \n",
       "17  니 눈앞에 왔잖아 내가 여기 있잖아 너의 입술로 말을 해줘 say yes say y...   89514  \n",
       "20  눈빛만으로 알 수가 있지 어떤 세상을 살아왔는지 처음 내민 너의 따뜻한 손길에 내 ...   35147  \n",
       "22  처음 너를 본 순간 정신 차릴 수 없어 내 마음을 들킬까봐 조심조심해 어떡하면 네 ...   42333  \n",
       "23  밤하늘의 별을 따서 너에게 줄래 너는 내가 사랑하니까 더 소중하니까 오직 너 아니면...  197543  \n",
       "24  가을밤이 찾아와 그대를 비추고 또 나를 감싸네 눈을 감을 때마다 향기로운 네 맘이 ...  128088  \n",
       "25  달이 차고 내 마음도 차고 이대로 담아 두기엔 너무 안타까워 너를 향해 가는데 달은...   87197  \n",
       "26  따스한 바람이 불어오는 날엔 포근한 미소로 나를 또 반겨주던 그대란 사람 설레는 이...   67373  \n",
       "27  아무 말 없이 내게서 커져만 가는 게 아무래도 이대론 안 되겠어 어쩌다 내가 이렇게...  113409  \n",
       "28  처음 널 만나는 날 노란 세 송이 장미를 들고 룰루랄라 신촌을 향하는 내 가슴은 마...   86064  \n",
       "29  I’m waiting for a miracle 내 보통뿐인 나날에 Oh would ...   28350  \n",
       "30  빛이 들어오면 자연스레 뜨던 눈 그렇게 너의 눈빛을 보곤 사랑에 눈을 떴어 항상 알...  334594  \n",
       "31  따뜻한 봄바람처럼 상냥하게 내게 불어오던 너 찬란하게 피어나던 여름의 꽃처럼 반짝이...   25523  \n",
       "32  너와 함께 하고 싶은 일들을 상상하는 게 요즘 내 일상이 되고 너의 즐거워하는 모습...  147178  \n",
       "33  내 맘을 깊이 들여다보면 작은 구멍이 하나 있어요 아무도 모르게 나조차도 모르게 자...    9458  \n",
       "34  어린 햇살 아래서 뛰어놀곤 했었던 가쁜 숨결 굽이진 골목 지나 길을 따라가보면 같은...   65760  "
      ]
     },
     "execution_count": 8,
     "metadata": {},
     "output_type": "execute_result"
    }
   ],
   "source": [
    "happy.drop([18,19,21],axis=\"index\")"
>>>>>>> main
   ]
  },
  {
   "cell_type": "code",
<<<<<<< HEAD
   "execution_count": null,
=======
   "execution_count": 10,
>>>>>>> main
   "metadata": {},
   "outputs": [],
   "source": [
    "happy = happy.reset_index(drop=True)"
   ]
  },
  {
   "cell_type": "code",
   "execution_count": null,
   "metadata": {},
   "outputs": [],
   "source": [
    "for i in range(18,len(happy)):\n",
    "    print(happy.노래제목[i])\n",
    "    print(happy.가사[i])\n",
    "    print(\"\\n\")"
   ]
  },
  {
   "cell_type": "code",
<<<<<<< HEAD
   "execution_count": 17,
   "metadata": {},
   "outputs": [],
   "source": [
    "import pandas as pd\n",
    "import numpy as np\n",
    "import random"
   ]
  },
  {
   "cell_type": "code",
   "execution_count": 16,
   "metadata": {},
   "outputs": [],
   "source": [
    "ballad_happy = pd.read_csv('../../Data/ballad_happy.csv')"
   ]
  },
  {
   "cell_type": "code",
   "execution_count": 18,
   "metadata": {},
   "outputs": [
    {
     "data": {
      "text/plain": [
       "[0, 1, 4, 5, 6, 7, 8, 9, 12, 13, 15, 17, 18, 20, 23, 26, 30, 31, 32, 34]"
      ]
     },
     "execution_count": 18,
     "metadata": {},
     "output_type": "execute_result"
    }
   ],
   "source": [
    "ran = range(0,35)\n",
    "ind = sorted(random.sample(ran, 20))\n",
    "ind\n"
   ]
  },
  {
   "cell_type": "code",
   "execution_count": 19,
   "metadata": {},
   "outputs": [],
   "source": [
    "ballad_happy = ballad_happy.iloc[ind, :]\n"
   ]
  },
  {
   "cell_type": "code",
   "execution_count": 20,
   "metadata": {},
   "outputs": [],
   "source": [
    "ballad_happy.to_csv(\"../../Data/ballad_happy20.csv\", index=None)\n"
   ]
  },
  {
   "cell_type": "code",
   "execution_count": null,
   "metadata": {},
   "outputs": [],
   "source": []
=======
   "execution_count": 11,
   "metadata": {},
   "outputs": [],
   "source": [
    "happy.to_csv(\"../Data/ballad_happy.csv\", index=None)"
   ]
>>>>>>> main
  }
 ],
 "metadata": {
  "kernelspec": {
<<<<<<< HEAD
   "display_name": "Python 3.9.7 ('base')",
=======
   "display_name": "Python 3.7.13 ('python2')",
>>>>>>> main
   "language": "python",
   "name": "python3"
  },
  "language_info": {
   "codemirror_mode": {
    "name": "ipython",
    "version": 3
   },
   "file_extension": ".py",
   "mimetype": "text/x-python",
   "name": "python",
   "nbconvert_exporter": "python",
   "pygments_lexer": "ipython3",
<<<<<<< HEAD
   "version": "3.9.7"
=======
   "version": "3.7.13"
>>>>>>> main
  },
  "orig_nbformat": 4,
  "vscode": {
   "interpreter": {
<<<<<<< HEAD
    "hash": "511602710a04226a7035eac3226522c503ec7dae45aefbab65d4840dbc1adc8c"
=======
    "hash": "32a6e990c54b8aedea55d9f644f5b71e71549db4552cfafb8e4d9a3d07f10878"
>>>>>>> main
   }
  }
 },
 "nbformat": 4,
 "nbformat_minor": 2
}
