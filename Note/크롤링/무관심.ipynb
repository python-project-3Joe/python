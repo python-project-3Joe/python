{
 "cells": [
  {
   "cell_type": "code",
   "execution_count": 1,
   "metadata": {},
   "outputs": [],
   "source": [
    "import pandas as pd"
   ]
  },
  {
   "cell_type": "markdown",
   "metadata": {},
   "source": [
    "# 무관심, 차분한, 관조, 노곤한, 위로, 평온, 평안, 후회, 방관, 쓸쓸"
   ]
  },
  {
   "cell_type": "code",
   "execution_count": 80,
   "metadata": {},
   "outputs": [
    {
     "data": {
      "text/plain": [
       "'알 수 없다눈 뜨고 꿈꾸는 기분일까괜히 가슴이 소란스러워지고그리움도 경험해본다내게 짓던 웃음이 참 예뻤지만네 맘은 항상 표정을 짓지 않아상처 난 것들을 보여주면서치유받길 거절하는 널 보며내가 할 게 못 되는구나 힘들다시간 지나면 다 없었던 일잠시 미쳤다 생각했는데사랑이었다 사랑이었다이제 와 보니 사랑한 거였다나답지 않던 말과 행동이멋대로 굴고 있는 심장이사랑이었다 사랑이었다나보다 소중한 게 있었다언제쯤 넌 내 이름 불러줄까널 꺾는다고 그 향기가 내 게 될까넌 쓸쓸함에 대해 얘기하면서안아주려는 내 손을 밀쳤어체념할 자격도 없는 나 괴롭다시간 지나면 다 없었던 일잠시 미쳤다 생각했는데사랑이었다 사랑이었다이제 와 보니 사랑한 거였다나답지 않던 말과 행동이멋대로 굴고 있는 심장이사랑이었다 사랑이었다나보다 소중한 게 있었다이제 더 이상은 특별함을 찾지 않아널 쫓느라 두고 간 원래의 나를 찾아혼자 한 사랑은 스스로 이별해야 되네시간 지나면 다 없었던 일잠시 미쳤다 생각했는데사랑이었다 사랑이었다이제 와 보니 사랑한 거였다나답지 않던 말과 행동이멋대로 굴고 있는 심장이사랑이었다 사랑이었다나보다 소중한 게 있었다나보다 소중한 게 있었다'"
      ]
     },
     "execution_count": 80,
     "metadata": {},
     "output_type": "execute_result"
    }
   ],
   "source": [
    "calm = pd.read_csv('../Data/ballad_calm.csv')\n",
    "calm['가사'][38]"
   ]
  },
  {
   "cell_type": "markdown",
   "metadata": {},
   "source": []
  },
  {
   "cell_type": "code",
   "execution_count": null,
   "metadata": {},
   "outputs": [],
   "source": [
    "뺄것들 3, 8\n",
    "애매 4, 7, 10, 26, 35, 38, 39\n",
    "슬픔 14"
   ]
  },
  {
   "cell_type": "code",
   "execution_count": 81,
   "metadata": {},
   "outputs": [],
   "source": [
    "# 불안 - 불안, 긴장, 고민, 우려, 두려움, 과민, 초조, 잠 못드는, 민감, 의심, 우려"
   ]
  },
  {
   "cell_type": "code",
   "execution_count": 157,
   "metadata": {},
   "outputs": [
    {
     "name": "stdout",
     "output_type": "stream",
     "text": [
      "니가 보고싶을 때\n",
      "니가 떠나기 전에 난 느끼지 못했어 니가 얼마나 내 맘에 크게 들어왔는지 익숙함에 속아 서로를 놓치지 말자고 약속했던 너의 집 앞 벤치야 아 이상하지 참 나 왜 이러는 걸까 가끔 이렇게 불쑥 찾아오는 걸 넌 좋아했었는데 니가 그린 그 여름밤에 이제 나는 없어 가을이 오기 전 널 잡고 싶어 니가 보고 싶을 때 나는 여름을 그렸어 식지 않는 열대야처럼 널 잊는 게 쉽지 않아 우리 그때 그날에 더운 줄도 몰랐는지 잡은 손을 놓지 않고 걸었던 그 여름밤 니가 떠나고 난 뒤에 많이 어질러 있던 방 하나둘씩 정리하던 도중 나온 니 사진 아주 잠깐 잊고 있던 사진 속 그 시간에 꽤나 비워놨던 니가 또 차올라 아 이상하지 참 나 왜 이러는 걸까 니가 좋다며 들려준 노래들 다시 또 듣고 있어 난 내가 그린 그 여름밤엔 이젠 니가 없어 가을이 오기 전 널 잡고 싶어 니가 보고 싶을 때 나는 여름을 그렸어 식지 않는 열대야처럼 널 잊는 게 쉽지 않아 우리 그때 그날에 더운 줄도 몰랐는지 잡은 손을 놓지 않고 걸었던 셀 수 없이 수많은 니 맘속 별 중 하나만 나에게 나눠준다면 내 맘은 좀 아물 텐데 시간이 지난 뒤에 우리를 띄워봤을 때 어둡고 캄캄하지 않게 너 빛나줄래 \n"
     ]
    }
   ],
   "source": [
    "anxious = pd.read_csv('../Data/ballad_anxious.csv')\n",
    "print(anxious.iloc[16]['노래제목'])\n",
    "print(anxious.iloc[16]['가사'])"
   ]
  },
  {
   "cell_type": "code",
   "execution_count": 158,
   "metadata": {},
   "outputs": [
    {
     "data": {
      "text/plain": [
       "가수명                                                   109\n",
       "노래제목                                            니가 보고싶을 때\n",
       "발매일                                            2018-07-19\n",
       "가사      니가 떠나기 전에 난 느끼지 못했어 니가 얼마나 내 맘에 크게 들어왔는지 익숙함에 ...\n",
       "좋아요수                                                22268\n",
       "Name: 16, dtype: object"
      ]
     },
     "execution_count": 158,
     "metadata": {},
     "output_type": "execute_result"
    }
   ],
   "source": [
    "anxious.iloc[16]"
   ]
  },
  {
   "cell_type": "code",
   "execution_count": 171,
   "metadata": {},
   "outputs": [
    {
     "name": "stdout",
     "output_type": "stream",
     "text": [
      "바라봐줘요\n",
      "그대를 다시 볼 수 있다는 생각을 해요 아마도 우린 끝없이 멀리 돌아만 왔죠 엊그제부터 또 생각이 나서 이제 더는 안될 것 같아 그대에게 말해요 아무런 의미 없는 일상에 들어와줘요 그대와 함께하고 싶은 게 참 많은걸요 익숙해질 즘 그댈 기다리는 게 왠지 마주칠 것만 같아 마음이 떨려요 I’m the one who found your love 그대 안에 내가 번져서 그간에 맘들이 모두 녹아내리면 내가 꿈꿔왔던 것처럼 그렇게 나를 바라봐줘요 혼자서 잠 못 이루고 널 떠올렸던 밤 별들이 반짝이던 그날에 기도했었죠 그대를 다시 다시 볼 수 있다면 어디에 있건 당장이라도 달려갈 텐데 I’m the one who found your love 그대 안에 내가 번져서 그간에 맘들이 모두 녹아내리면 내가 꿈꿔왔던 것처럼 그렇게 나를 바라봐줘요 I’m the one who found your love 그대 안에 내가 번져서 그간에 맘들이 모두 녹아내리면 내가 꿈꿔왔던 것처럼 그렇게 나를 바라봐줘요 \n"
     ]
    }
   ],
   "source": [
    "happy = pd.read_csv('../Data/ballad_happy.csv')\n",
    "print(happy.iloc[12]['노래제목'])\n",
    "print(happy.iloc[12]['가사'])"
   ]
  },
  {
   "cell_type": "markdown",
   "metadata": {},
   "source": [
    "애매함 : [0, 2, 5, 9, 10]"
   ]
  },
  {
   "cell_type": "markdown",
   "metadata": {},
   "source": [
    "기쁨, 설렘 \n",
    "맞음 : [1, 3, 4, 6, 7, 8, 11,"
   ]
  }
 ],
 "metadata": {
  "kernelspec": {
   "display_name": "Python 3.9.7 ('base')",
   "language": "python",
   "name": "python3"
  },
  "language_info": {
   "codemirror_mode": {
    "name": "ipython",
    "version": 3
   },
   "file_extension": ".py",
   "mimetype": "text/x-python",
   "name": "python",
   "nbconvert_exporter": "python",
   "pygments_lexer": "ipython3",
   "version": "3.9.7"
  },
  "orig_nbformat": 4,
  "vscode": {
   "interpreter": {
    "hash": "c34e8390e776d2ee205b71ed5a6130fee3cef8da5e87e926ce18e14f4a070d72"
   }
  }
 },
 "nbformat": 4,
 "nbformat_minor": 2
}
