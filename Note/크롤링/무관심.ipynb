{
 "cells": [
  {
   "cell_type": "code",
   "execution_count": 1,
   "metadata": {},
   "outputs": [],
   "source": [
    "import pandas as pd"
   ]
  },
  {
   "cell_type": "markdown",
   "metadata": {},
   "source": [
    "# 무관심, 차분한, 관조, 노곤한, 위로, 평온, 평안, 후회, 방관, 쓸쓸"
   ]
  },
  {
   "cell_type": "code",
   "execution_count": 3,
   "metadata": {},
   "outputs": [
    {
     "data": {
      "text/plain": [
       "'알 수 없다눈 뜨고 꿈꾸는 기분일까괜히 가슴이 소란스러워지고그리움도 경험해본다내게 짓던 웃음이 참 예뻤지만네 맘은 항상 표정을 짓지 않아상처 난 것들을 보여주면서치유받길 거절하는 널 보며내가 할 게 못 되는구나 힘들다시간 지나면 다 없었던 일잠시 미쳤다 생각했는데사랑이었다 사랑이었다이제 와 보니 사랑한 거였다나답지 않던 말과 행동이멋대로 굴고 있는 심장이사랑이었다 사랑이었다나보다 소중한 게 있었다언제쯤 넌 내 이름 불러줄까널 꺾는다고 그 향기가 내 게 될까넌 쓸쓸함에 대해 얘기하면서안아주려는 내 손을 밀쳤어체념할 자격도 없는 나 괴롭다시간 지나면 다 없었던 일잠시 미쳤다 생각했는데사랑이었다 사랑이었다이제 와 보니 사랑한 거였다나답지 않던 말과 행동이멋대로 굴고 있는 심장이사랑이었다 사랑이었다나보다 소중한 게 있었다이제 더 이상은 특별함을 찾지 않아널 쫓느라 두고 간 원래의 나를 찾아혼자 한 사랑은 스스로 이별해야 되네시간 지나면 다 없었던 일잠시 미쳤다 생각했는데사랑이었다 사랑이었다이제 와 보니 사랑한 거였다나답지 않던 말과 행동이멋대로 굴고 있는 심장이사랑이었다 사랑이었다나보다 소중한 게 있었다나보다 소중한 게 있었다'"
      ]
     },
     "execution_count": 3,
     "metadata": {},
     "output_type": "execute_result"
    }
   ],
   "source": [
    "calm = pd.read_csv('../../Data/ballad_calm.csv')\n",
    "calm['가사'][38]"
   ]
  },
  {
   "cell_type": "markdown",
   "metadata": {},
   "source": [
    "뺄것들 3, 8\n",
    "애매 4, 7, 10, 26, 35, 38, 39\n",
    "슬픔 14"
   ]
  },
  {
   "cell_type": "code",
   "execution_count": 4,
   "metadata": {},
   "outputs": [],
   "source": [
    "# 불안 - 불안, 긴장, 고민, 우려, 두려움, 과민, 초조, 잠 못드는, 민감, 의심, 우려"
   ]
  },
  {
   "cell_type": "code",
   "execution_count": 9,
   "metadata": {},
   "outputs": [
    {
     "name": "stdout",
     "output_type": "stream",
     "text": [
      "니가 보고싶을 때\n",
      "니가 떠나기 전에 난 느끼지 못했어 니가 얼마나 내 맘에 크게 들어왔는지 익숙함에 속아 서로를 놓치지 말자고 약속했던 너의 집 앞 벤치야 아 이상하지 참 나 왜 이러는 걸까 가끔 이렇게 불쑥 찾아오는 걸 넌 좋아했었는데 니가 그린 그 여름밤에 이제 나는 없어 가을이 오기 전 널 잡고 싶어 니가 보고 싶을 때 나는 여름을 그렸어 식지 않는 열대야처럼 널 잊는 게 쉽지 않아 우리 그때 그날에 더운 줄도 몰랐는지 잡은 손을 놓지 않고 걸었던 그 여름밤 니가 떠나고 난 뒤에 많이 어질러 있던 방 하나둘씩 정리하던 도중 나온 니 사진 아주 잠깐 잊고 있던 사진 속 그 시간에 꽤나 비워놨던 니가 또 차올라 아 이상하지 참 나 왜 이러는 걸까 니가 좋다며 들려준 노래들 다시 또 듣고 있어 난 내가 그린 그 여름밤엔 이젠 니가 없어 가을이 오기 전 널 잡고 싶어 니가 보고 싶을 때 나는 여름을 그렸어 식지 않는 열대야처럼 널 잊는 게 쉽지 않아 우리 그때 그날에 더운 줄도 몰랐는지 잡은 손을 놓지 않고 걸었던 셀 수 없이 수많은 니 맘속 별 중 하나만 나에게 나눠준다면 내 맘은 좀 아물 텐데 시간이 지난 뒤에 우리를 띄워봤을 때 어둡고 캄캄하지 않게 너 빛나줄래 \n"
     ]
    }
   ],
   "source": [
    "anxious = pd.read_csv('../../Data/ballad_anxious.csv')\n",
    "print(anxious.iloc[16]['노래제목'])\n",
    "print(anxious.iloc[16]['가사'])"
   ]
  },
  {
   "cell_type": "code",
   "execution_count": 10,
   "metadata": {},
   "outputs": [
    {
     "data": {
      "text/plain": [
       "가수명                                                   109\n",
       "노래제목                                            니가 보고싶을 때\n",
       "발매일                                            2018-07-19\n",
       "가사      니가 떠나기 전에 난 느끼지 못했어 니가 얼마나 내 맘에 크게 들어왔는지 익숙함에 ...\n",
       "좋아요수                                                22268\n",
       "Name: 16, dtype: object"
      ]
     },
     "execution_count": 10,
     "metadata": {},
     "output_type": "execute_result"
    }
   ],
   "source": [
    "anxious.iloc[16]"
   ]
  },
  {
   "cell_type": "code",
   "execution_count": 13,
   "metadata": {},
   "outputs": [],
   "source": [
    "happy = pd.read_csv('../../Data/ballad_happy.csv')\n",
    "# print(happy.iloc[50]['노래제목'])\n",
    "# print(happy.iloc[50]['가사'])"
   ]
  },
  {
   "cell_type": "code",
   "execution_count": 12,
   "metadata": {},
   "outputs": [],
   "source": [
    "# 기쁨, 설렘 \n",
    "맞음 = [1, 3, 4, 6, 7, 8, 11, 12, 16, 23, 25, 27, 29, 33, 39, 41, 45, 48]\n",
    "# 애매함\n",
    "애매함 = [0, 2, 5, 9, 10, 13, 14, 15, 17, 18, 19, 20, 21, 22, 24, 26, 28, 30, 31, 32, 34, 36, 37, 38, 42, 43, 44, 46, 47,]\n"
   ]
  },
  {
   "cell_type": "code",
   "execution_count": 8,
   "metadata": {},
   "outputs": [
    {
     "data": {
      "text/plain": [
       "18"
      ]
     },
     "execution_count": 8,
     "metadata": {},
     "output_type": "execute_result"
    }
   ],
   "source": [
    "len(애매함)\n",
    "len(맞음)"
   ]
  },
  {
   "cell_type": "markdown",
   "metadata": {},
   "source": [
    "? 35, 40, 49"
   ]
  },
  {
   "cell_type": "code",
   "execution_count": null,
   "metadata": {},
   "outputs": [],
   "source": [
    "\n",
    "happy2 = happy.iloc[맞음,:]\n",
    "happy2.reset_index(drop=True, inplace=True)"
   ]
  },
  {
   "cell_type": "code",
   "execution_count": null,
   "metadata": {},
   "outputs": [
    {
     "data": {
      "text/html": [
       "<div>\n",
       "<style scoped>\n",
       "    .dataframe tbody tr th:only-of-type {\n",
       "        vertical-align: middle;\n",
       "    }\n",
       "\n",
       "    .dataframe tbody tr th {\n",
       "        vertical-align: top;\n",
       "    }\n",
       "\n",
       "    .dataframe thead th {\n",
       "        text-align: right;\n",
       "    }\n",
       "</style>\n",
       "<table border=\"1\" class=\"dataframe\">\n",
       "  <thead>\n",
       "    <tr style=\"text-align: right;\">\n",
       "      <th></th>\n",
       "      <th>가수명</th>\n",
       "      <th>노래제목</th>\n",
       "      <th>발매일</th>\n",
       "      <th>가사</th>\n",
       "      <th>좋아요수</th>\n",
       "    </tr>\n",
       "  </thead>\n",
       "  <tbody>\n",
       "    <tr>\n",
       "      <th>17</th>\n",
       "      <td>적재</td>\n",
       "      <td>나랑 같이 걸을래 (바른연애 길잡이 X 적재)</td>\n",
       "      <td>2020-10-23</td>\n",
       "      <td>가을밤이 찾아와 그대를 비추고 또 나를 감싸네 눈을 감을 때마다 향기로운 네 맘이 ...</td>\n",
       "      <td>128060</td>\n",
       "    </tr>\n",
       "  </tbody>\n",
       "</table>\n",
       "</div>"
      ],
      "text/plain": [
       "   가수명                       노래제목         발매일  \\\n",
       "17  적재  나랑 같이 걸을래 (바른연애 길잡이 X 적재)  2020-10-23   \n",
       "\n",
       "                                                   가사    좋아요수  \n",
       "17  가을밤이 찾아와 그대를 비추고 또 나를 감싸네 눈을 감을 때마다 향기로운 네 맘이 ...  128060  "
      ]
     },
     "execution_count": 5,
     "metadata": {},
     "output_type": "execute_result"
    }
   ],
   "source": [
    "happy = pd.read_csv(\"../Data/ballad_happy_add.csv\")\n",
    "happy2[happy2['노래제목'].isin(happy['노래제목'])]"
   ]
  },
  {
   "cell_type": "code",
   "execution_count": null,
   "metadata": {},
   "outputs": [],
   "source": [
    "# happy2.iloc[17,:]\n",
    "happy2.drop(17, axis='index', inplace=True)\n"
   ]
  },
  {
   "cell_type": "code",
   "execution_count": null,
   "metadata": {},
   "outputs": [],
   "source": [
    "happy = pd.concat([happy2, happy], axis=0, ignore_index=True)"
   ]
  },
  {
   "cell_type": "code",
   "execution_count": 15,
   "metadata": {},
   "outputs": [],
   "source": [
    "ballad_happy = happy.drop([18,19,21],axis=\"index\")"
   ]
  },
  {
   "cell_type": "code",
   "execution_count": null,
   "metadata": {},
   "outputs": [],
   "source": [
    "happy = happy.reset_index(drop=True)"
   ]
  },
  {
   "cell_type": "code",
   "execution_count": null,
   "metadata": {},
   "outputs": [],
   "source": [
    "for i in range(18,len(happy)):\n",
    "    print(happy.노래제목[i])\n",
    "    print(happy.가사[i])\n",
    "    print(\"\\n\")"
   ]
  },
  {
   "cell_type": "code",
   "execution_count": 17,
   "metadata": {},
   "outputs": [],
   "source": [
    "import pandas as pd\n",
    "import numpy as np\n",
    "import random"
   ]
  },
  {
   "cell_type": "code",
   "execution_count": 16,
   "metadata": {},
   "outputs": [],
   "source": [
    "ballad_happy = pd.read_csv('../../Data/ballad_happy.csv')"
   ]
  },
  {
   "cell_type": "code",
   "execution_count": 18,
   "metadata": {},
   "outputs": [
    {
     "data": {
      "text/plain": [
       "[0, 1, 4, 5, 6, 7, 8, 9, 12, 13, 15, 17, 18, 20, 23, 26, 30, 31, 32, 34]"
      ]
     },
     "execution_count": 18,
     "metadata": {},
     "output_type": "execute_result"
    }
   ],
   "source": [
    "ran = range(0,35)\n",
    "ind = sorted(random.sample(ran, 20))\n",
    "ind\n"
   ]
  },
  {
   "cell_type": "code",
   "execution_count": 19,
   "metadata": {},
   "outputs": [],
   "source": [
    "ballad_happy = ballad_happy.iloc[ind, :]\n"
   ]
  },
  {
   "cell_type": "code",
   "execution_count": 20,
   "metadata": {},
   "outputs": [],
   "source": [
    "ballad_happy.to_csv(\"../../Data/ballad_happy20.csv\", index=None)\n"
   ]
  },
  {
   "cell_type": "code",
   "execution_count": null,
   "metadata": {},
   "outputs": [],
   "source": []
  }
 ],
 "metadata": {
  "kernelspec": {
   "display_name": "Python 3.9.7 ('base')",
   "language": "python",
   "name": "python3"
  },
  "language_info": {
   "codemirror_mode": {
    "name": "ipython",
    "version": 3
   },
   "file_extension": ".py",
   "mimetype": "text/x-python",
   "name": "python",
   "nbconvert_exporter": "python",
   "pygments_lexer": "ipython3",
   "version": "3.9.7"
  },
  "orig_nbformat": 4,
  "vscode": {
   "interpreter": {
    "hash": "511602710a04226a7035eac3226522c503ec7dae45aefbab65d4840dbc1adc8c"
   }
  }
 },
 "nbformat": 4,
 "nbformat_minor": 2
}
