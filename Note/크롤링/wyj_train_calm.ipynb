{
 "cells": [
  {
   "cell_type": "code",
   "execution_count": 1,
   "metadata": {},
   "outputs": [],
   "source": [
    "from selenium import webdriver\n",
    "from selenium.webdriver.chrome.service import Service\n",
    "from webdriver_manager.chrome import ChromeDriverManager\n",
    "from selenium.webdriver.common.by import By\n",
    "from bs4 import BeautifulSoup\n",
    "import urllib.request as request\n",
    "\n",
    "from selenium.webdriver.chrome.options import Options\n",
    "from fake_useragent import UserAgent"
   ]
  },
  {
   "cell_type": "code",
   "execution_count": 2,
   "metadata": {},
   "outputs": [
    {
     "name": "stdout",
     "output_type": "stream",
     "text": [
      "Mozilla/5.0 (Windows NT 6.2) AppleWebKit/537.36 (KHTML, like Gecko) Chrome/28.0.1464.0 Safari/537.36\n"
     ]
    }
   ],
   "source": [
    "options = Options()\n",
    "ua = UserAgent(verify_ssl=False)\n",
    "userAgent = ua.random\n",
    "print(userAgent)"
   ]
  },
  {
   "cell_type": "code",
   "execution_count": 3,
   "metadata": {},
   "outputs": [
    {
     "name": "stdout",
     "output_type": "stream",
     "text": [
      "\n"
     ]
    },
    {
     "name": "stderr",
     "output_type": "stream",
     "text": [
      "[WDM] - ====== WebDriver manager ======\n",
      "[WDM] - Current google-chrome version is 103.0.5060\n",
      "[WDM] - Get LATEST chromedriver version for 103.0.5060 google-chrome\n",
      "[WDM] - Driver [/Users/tj/.wdm/drivers/chromedriver/mac64/103.0.5060.134/chromedriver] found in cache\n"
     ]
    }
   ],
   "source": [
    "options.add_argument(f'user-agent={userAgent}')\n",
    "# chrome_options = webdriver.ChromeOptions()\n",
    "driver = webdriver.Chrome(service=Service(ChromeDriverManager().install()), options=options)\n",
    "driver.get('https://www.melon.com/mymusic/dj/mymusicdjplaylistview_inform.htm?plylstSeq=458511975')"
   ]
  },
  {
   "cell_type": "code",
   "execution_count": 4,
   "metadata": {},
   "outputs": [],
   "source": [
    "page_source = driver.page_source\n",
    "soup = BeautifulSoup(page_source, \"html.parser\")"
   ]
  },
  {
   "cell_type": "code",
   "execution_count": 5,
   "metadata": {},
   "outputs": [
    {
     "name": "stdout",
     "output_type": "stream",
     "text": [
      "\n"
     ]
    },
    {
     "name": "stderr",
     "output_type": "stream",
     "text": [
      "[WDM] - ====== WebDriver manager ======\n",
      "[WDM] - Current google-chrome version is 103.0.5060\n",
      "[WDM] - Get LATEST chromedriver version for 103.0.5060 google-chrome\n",
      "[WDM] - Driver [/Users/tj/.wdm/drivers/chromedriver/mac64/103.0.5060.134/chromedriver] found in cache\n"
     ]
    }
   ],
   "source": [
    "import time\n",
    "\n",
    "total_lists = []\n",
    "\n",
    "driver = webdriver.Chrome(service=Service(ChromeDriverManager().install()), options=options)\n",
    "driver.get('https://www.melon.com/mymusic/dj/mymusicdjplaylistview_inform.htm?plylstSeq=458511975')\n",
    "\n",
    "time.sleep(1)\n",
    "\n",
    "page_source = driver.page_source\n",
    "soup = BeautifulSoup(page_source, \"html.parser\")\n",
    "\n",
    "time.sleep(1)\n",
    "\n",
    "songIds = soup.select(\"#frm > div > table > tbody td:nth-child(4) > div > a\")\n",
    "total_lists = total_lists + songIds\n",
    "\n",
    "time.sleep(1)"
   ]
  },
  {
   "cell_type": "code",
   "execution_count": 6,
   "metadata": {},
   "outputs": [],
   "source": [
    "test = []\n",
    "for i in range(len(total_lists)):\n",
    "    test.append(total_lists[i]['href'])"
   ]
  },
  {
   "cell_type": "code",
   "execution_count": 7,
   "metadata": {},
   "outputs": [],
   "source": [
    "test1 = []\n",
    "for i in range(len(test)):\n",
    "    test1.append(str(test[i]).split('.')[2].split(\"(\")[1].split(\")\")[0])"
   ]
  },
  {
   "cell_type": "code",
   "execution_count": 8,
   "metadata": {},
   "outputs": [],
   "source": [
    "test2 = []\n",
    "for i in range(len(test1)):\n",
    "    test2.append(str(test1[i]).strip(\"''\"))"
   ]
  },
  {
   "cell_type": "code",
   "execution_count": 9,
   "metadata": {},
   "outputs": [
    {
     "data": {
      "text/plain": [
       "['8193669',\n",
       " '4335500',\n",
       " '31754430',\n",
       " '1975152',\n",
       " '2678080',\n",
       " '1934285',\n",
       " '30554140',\n",
       " '497095',\n",
       " '30378161',\n",
       " '7886240',\n",
       " '4268560',\n",
       " '8028725',\n",
       " '4412480']"
      ]
     },
     "execution_count": 9,
     "metadata": {},
     "output_type": "execute_result"
    }
   ],
   "source": [
    "test2"
   ]
  },
  {
   "cell_type": "code",
   "execution_count": 10,
   "metadata": {},
   "outputs": [],
   "source": [
    "# 가수명, 노래제목, 발매일, 가사, 좋아요 수 리스트 변수 생성\n",
    "\n",
    "singer_list = []\n",
    "singName_list = []\n",
    "date_list = []\n",
    "genre_list = []\n",
    "lyrics_list = []\n",
    "like_list = []"
   ]
  },
  {
   "cell_type": "code",
   "execution_count": 11,
   "metadata": {},
   "outputs": [
    {
     "name": "stdout",
     "output_type": "stream",
     "text": [
      "\n"
     ]
    },
    {
     "name": "stderr",
     "output_type": "stream",
     "text": [
      "[WDM] - ====== WebDriver manager ======\n",
      "[WDM] - Current google-chrome version is 103.0.5060\n",
      "[WDM] - Get LATEST chromedriver version for 103.0.5060 google-chrome\n",
      "[WDM] - Driver [/Users/tj/.wdm/drivers/chromedriver/mac64/103.0.5060.134/chromedriver] found in cache\n"
     ]
    }
   ],
   "source": [
    "# for문으로 가수명, 노래제목, 발매일, 가사, 좋아요 수 리스트 변수에 내용 담고 저장하기\n",
    "\n",
    "chrome_options = webdriver.ChromeOptions()\n",
    "driver = webdriver.Chrome(service=Service(ChromeDriverManager().install()), options=chrome_options)\n",
    "\n",
    "for songId in test2:\n",
    "    \n",
    "    driver.get(f'https://www.melon.com/song/detail.htm?songId={songId}')\n",
    "\n",
    "    page_source = driver.page_source\n",
    "    soup = BeautifulSoup(page_source, \"html.parser\")\n",
    "\n",
    "    time.sleep(2)\n",
    "\n",
    "    try:\n",
    "    \n",
    "        # 가수명 가져오기\n",
    "        artist_name = soup.select_one('#downloadfrm > div > div > div.entry > div.info > div.artist > a > span:nth-child(1) ')\n",
    "        singer_list.append(artist_name.string)\n",
    "\n",
    "        # 노래제목 가져오기\n",
    "        song_name = soup.select_one(\"#downloadfrm > div > div > div.entry > div.info > div.song_name \")\n",
    "        singName_list.append(song_name.text.strip().split('\\n\\t\\t\\t\\t\\t\\t\\t\\n\\t\\t\\t\\t\\t\\t\\t\\n\\t\\t\\t\\t\\t\\t\\t\\n\\t\\t\\t\\t\\t\\t\\t\\n\\t\\t\\t\\t\\t\\t\\t')[1])\n",
    "\n",
    "        # 발매일 가져오기\n",
    "        date = soup.select_one('#downloadfrm > div > div > div.entry > div.meta > dl > dd:nth-child(4)')\n",
    "        date_list.append(date.string)\n",
    "\n",
    "        # 장르 가져오기\n",
    "        genre = soup.select_one('#downloadfrm > div > div > div.entry > div.meta > dl > dd:nth-child(6)')\n",
    "        genre_list.append(genre.string)\n",
    "\n",
    "        # 가사 가져오기\n",
    "        lyric = str(soup.select_one('#d_video_summary')).replace('<br/>', ' ').replace(\n",
    "            '<div class=\"lyric\" id=\"d_video_summary\"><!-- height:auto; 로 변경시, 확장됨 -->', '').replace('</div>', '').replace('\\t', '').replace('\\n', '')\n",
    "        lyric = lyric.replace('  ', ' ')\n",
    "        lyrics_list.append(lyric)\n",
    "\n",
    "        # 좋아요수 가져오기\n",
    "        like = soup.select_one(\"#d_like_count\")\n",
    "        like_list.append(like.text)\n",
    "\n",
    "        time.sleep(2)\n",
    "    except:\n",
    "        singer_list.append(0)\n",
    "        singName_list.append(0)\n",
    "        date_list.append(0)\n",
    "        lyrics_list.append(0)\n",
    "        like_list.append(0)\n",
    "\n",
    "        time.sleep(1)"
   ]
  },
  {
   "cell_type": "code",
   "execution_count": 12,
   "metadata": {},
   "outputs": [],
   "source": [
    "ballad = {'가수명':singer_list, '노래제목':singName_list, '발매일':date_list, '장르':genre_list, '가사':lyrics_list, '좋아요수':like_list}"
   ]
  },
  {
   "cell_type": "code",
   "execution_count": 13,
   "metadata": {},
   "outputs": [],
   "source": [
    "import pandas as pd"
   ]
  },
  {
   "cell_type": "code",
   "execution_count": 14,
   "metadata": {},
   "outputs": [
    {
     "data": {
      "text/html": [
       "<div>\n",
       "<style scoped>\n",
       "    .dataframe tbody tr th:only-of-type {\n",
       "        vertical-align: middle;\n",
       "    }\n",
       "\n",
       "    .dataframe tbody tr th {\n",
       "        vertical-align: top;\n",
       "    }\n",
       "\n",
       "    .dataframe thead th {\n",
       "        text-align: right;\n",
       "    }\n",
       "</style>\n",
       "<table border=\"1\" class=\"dataframe\">\n",
       "  <thead>\n",
       "    <tr style=\"text-align: right;\">\n",
       "      <th></th>\n",
       "      <th>가수명</th>\n",
       "      <th>노래제목</th>\n",
       "      <th>발매일</th>\n",
       "      <th>장르</th>\n",
       "      <th>가사</th>\n",
       "      <th>좋아요수</th>\n",
       "    </tr>\n",
       "  </thead>\n",
       "  <tbody>\n",
       "    <tr>\n",
       "      <th>0</th>\n",
       "      <td>백아연</td>\n",
       "      <td>할 말</td>\n",
       "      <td>2016.05.24</td>\n",
       "      <td>발라드</td>\n",
       "      <td>어려운 말을 꺼내요 그 동안 그댈 기다리는 것 말고는 할 수 있는 게 없던 나죠 이...</td>\n",
       "      <td>9,840</td>\n",
       "    </tr>\n",
       "    <tr>\n",
       "      <th>1</th>\n",
       "      <td>딕펑스 (DICKPUNKS)</td>\n",
       "      <td>바래져</td>\n",
       "      <td>2013.11.27</td>\n",
       "      <td>록/메탈</td>\n",
       "      <td>한장 두장씩 책을 넘기다 무심코 머문 그 페이지에는 니가 남겨둔 짧은 편지가 남겨져...</td>\n",
       "      <td>4,159</td>\n",
       "    </tr>\n",
       "    <tr>\n",
       "      <th>2</th>\n",
       "      <td>손동운</td>\n",
       "      <td>Decrescendo</td>\n",
       "      <td>2019.04.22</td>\n",
       "      <td>발라드</td>\n",
       "      <td>내게 주던 사랑이 갈수록 익숙해져 편하게 생각했나 봐 날 떠나 가벼워진 사랑은 이제...</td>\n",
       "      <td>3,906</td>\n",
       "    </tr>\n",
       "    <tr>\n",
       "      <th>3</th>\n",
       "      <td>홍민정</td>\n",
       "      <td>아마도 그건</td>\n",
       "      <td>2008.11.28</td>\n",
       "      <td>발라드, 국내영화</td>\n",
       "      <td>아마도 그건 사랑이었을거야 희미하게 떠오르는 기억이 이제야 그 마음을 알아버렸네 그...</td>\n",
       "      <td>27,493</td>\n",
       "    </tr>\n",
       "    <tr>\n",
       "      <th>4</th>\n",
       "      <td>에피톤 프로젝트</td>\n",
       "      <td>한숨이 늘었어 (Duet With 이진우)</td>\n",
       "      <td>2010.05.12</td>\n",
       "      <td>발라드, 인디음악</td>\n",
       "      <td>요즘 재밌다는 영화 유행하는 것들 일부러 찾곤 해 조금 웃을 수 있어서 잠깐 잊을 ...</td>\n",
       "      <td>3,824</td>\n",
       "    </tr>\n",
       "  </tbody>\n",
       "</table>\n",
       "</div>"
      ],
      "text/plain": [
       "               가수명                     노래제목         발매일         장르  \\\n",
       "0              백아연                      할 말  2016.05.24        발라드   \n",
       "1  딕펑스 (DICKPUNKS)                      바래져  2013.11.27       록/메탈   \n",
       "2              손동운              Decrescendo  2019.04.22        발라드   \n",
       "3              홍민정                   아마도 그건  2008.11.28  발라드, 국내영화   \n",
       "4         에피톤 프로젝트  한숨이 늘었어 (Duet With 이진우)  2010.05.12  발라드, 인디음악   \n",
       "\n",
       "                                                  가사    좋아요수  \n",
       "0  어려운 말을 꺼내요 그 동안 그댈 기다리는 것 말고는 할 수 있는 게 없던 나죠 이...   9,840  \n",
       "1  한장 두장씩 책을 넘기다 무심코 머문 그 페이지에는 니가 남겨둔 짧은 편지가 남겨져...   4,159  \n",
       "2  내게 주던 사랑이 갈수록 익숙해져 편하게 생각했나 봐 날 떠나 가벼워진 사랑은 이제...   3,906  \n",
       "3  아마도 그건 사랑이었을거야 희미하게 떠오르는 기억이 이제야 그 마음을 알아버렸네 그...  27,493  \n",
       "4  요즘 재밌다는 영화 유행하는 것들 일부러 찾곤 해 조금 웃을 수 있어서 잠깐 잊을 ...   3,824  "
      ]
     },
     "execution_count": 14,
     "metadata": {},
     "output_type": "execute_result"
    }
   ],
   "source": [
    "ballad_calm= pd.DataFrame(ballad)\n",
    "ballad_calm.head()"
   ]
  },
  {
   "cell_type": "code",
   "execution_count": 15,
   "metadata": {},
   "outputs": [
    {
     "data": {
      "text/plain": [
       "array(['발라드', '록/메탈', '발라드, 국내영화', '발라드, 인디음악', '인디음악, 록/메탈', '발라드, 록/메탈'],\n",
       "      dtype=object)"
      ]
     },
     "execution_count": 15,
     "metadata": {},
     "output_type": "execute_result"
    }
   ],
   "source": [
    "ballad_calm.장르.unique()"
   ]
  },
  {
   "cell_type": "code",
   "execution_count": 16,
   "metadata": {},
   "outputs": [],
   "source": [
    "list = ['발라드, 국내영화','발라드, 인디음악','발라드','발라드,록/메탈']\n",
    "ballad_calm = ballad_calm[ballad_calm['장르'].isin(list)]"
   ]
  },
  {
   "cell_type": "code",
   "execution_count": 17,
   "metadata": {},
   "outputs": [],
   "source": [
    "ballad_calm.reset_index(drop=True, inplace=True)"
   ]
  },
  {
   "cell_type": "code",
   "execution_count": 18,
   "metadata": {},
   "outputs": [],
   "source": [
    "ballad_calm.drop(columns='장르',inplace=True)"
   ]
  },
  {
   "cell_type": "code",
   "execution_count": 19,
   "metadata": {},
   "outputs": [
    {
     "data": {
      "text/html": [
       "<div>\n",
       "<style scoped>\n",
       "    .dataframe tbody tr th:only-of-type {\n",
       "        vertical-align: middle;\n",
       "    }\n",
       "\n",
       "    .dataframe tbody tr th {\n",
       "        vertical-align: top;\n",
       "    }\n",
       "\n",
       "    .dataframe thead th {\n",
       "        text-align: right;\n",
       "    }\n",
       "</style>\n",
       "<table border=\"1\" class=\"dataframe\">\n",
       "  <thead>\n",
       "    <tr style=\"text-align: right;\">\n",
       "      <th></th>\n",
       "      <th>가수명</th>\n",
       "      <th>노래제목</th>\n",
       "      <th>발매일</th>\n",
       "      <th>가사</th>\n",
       "      <th>좋아요수</th>\n",
       "    </tr>\n",
       "  </thead>\n",
       "  <tbody>\n",
       "    <tr>\n",
       "      <th>0</th>\n",
       "      <td>백아연</td>\n",
       "      <td>할 말</td>\n",
       "      <td>2016.05.24</td>\n",
       "      <td>어려운 말을 꺼내요 그 동안 그댈 기다리는 것 말고는 할 수 있는 게 없던 나죠 이...</td>\n",
       "      <td>9,840</td>\n",
       "    </tr>\n",
       "    <tr>\n",
       "      <th>1</th>\n",
       "      <td>손동운</td>\n",
       "      <td>Decrescendo</td>\n",
       "      <td>2019.04.22</td>\n",
       "      <td>내게 주던 사랑이 갈수록 익숙해져 편하게 생각했나 봐 날 떠나 가벼워진 사랑은 이제...</td>\n",
       "      <td>3,906</td>\n",
       "    </tr>\n",
       "    <tr>\n",
       "      <th>2</th>\n",
       "      <td>홍민정</td>\n",
       "      <td>아마도 그건</td>\n",
       "      <td>2008.11.28</td>\n",
       "      <td>아마도 그건 사랑이었을거야 희미하게 떠오르는 기억이 이제야 그 마음을 알아버렸네 그...</td>\n",
       "      <td>27,493</td>\n",
       "    </tr>\n",
       "    <tr>\n",
       "      <th>3</th>\n",
       "      <td>에피톤 프로젝트</td>\n",
       "      <td>한숨이 늘었어 (Duet With 이진우)</td>\n",
       "      <td>2010.05.12</td>\n",
       "      <td>요즘 재밌다는 영화 유행하는 것들 일부러 찾곤 해 조금 웃을 수 있어서 잠깐 잊을 ...</td>\n",
       "      <td>3,824</td>\n",
       "    </tr>\n",
       "    <tr>\n",
       "      <th>4</th>\n",
       "      <td>진영 (GOT7)</td>\n",
       "      <td>그날</td>\n",
       "      <td>2017.07.31</td>\n",
       "      <td>누가 말 걸어 주지 않으면 아무 말 없이 나도 모르게 찾게 되는 건 한가지 너 고요...</td>\n",
       "      <td>10,594</td>\n",
       "    </tr>\n",
       "    <tr>\n",
       "      <th>5</th>\n",
       "      <td>장나라</td>\n",
       "      <td>그게 정말이니?</td>\n",
       "      <td>2003.12.03</td>\n",
       "      <td>후회는 없을거라고 그만큼 사랑했다고 지금 흔들리는 목소리로 이별을 얘기하는거니 사랑...</td>\n",
       "      <td>9,600</td>\n",
       "    </tr>\n",
       "    <tr>\n",
       "      <th>6</th>\n",
       "      <td>아이유</td>\n",
       "      <td>마침표</td>\n",
       "      <td>2017.04.21</td>\n",
       "      <td>알고 있었어 무슨 말인지 무슨 마음인지 다 알아 하루 더 딱 하루만 더 미루고 싶었...</td>\n",
       "      <td>67,534</td>\n",
       "    </tr>\n",
       "    <tr>\n",
       "      <th>7</th>\n",
       "      <td>스윗소로우 (SWEET SORROW)</td>\n",
       "      <td>서울은 비</td>\n",
       "      <td>2015.10.15</td>\n",
       "      <td>오늘 따라 내리는 이 비는 좀처럼 그치질 않네요 혹시 그대 있는 곳에도 지금처럼 비...</td>\n",
       "      <td>3,226</td>\n",
       "    </tr>\n",
       "    <tr>\n",
       "      <th>8</th>\n",
       "      <td>지코 (ZICO)</td>\n",
       "      <td>사랑이었다 (Feat. 루나 of f(x))</td>\n",
       "      <td>2016.01.25</td>\n",
       "      <td>알 수 없다 눈 뜨고 꿈꾸는 기분일까 괜히 가슴이 소란스러워지고 그리움도 경험해본다...</td>\n",
       "      <td>121,046</td>\n",
       "    </tr>\n",
       "  </tbody>\n",
       "</table>\n",
       "</div>"
      ],
      "text/plain": [
       "                    가수명                      노래제목         발매일  \\\n",
       "0                   백아연                       할 말  2016.05.24   \n",
       "1                   손동운               Decrescendo  2019.04.22   \n",
       "2                   홍민정                    아마도 그건  2008.11.28   \n",
       "3              에피톤 프로젝트   한숨이 늘었어 (Duet With 이진우)  2010.05.12   \n",
       "4             진영 (GOT7)                        그날  2017.07.31   \n",
       "5                   장나라                  그게 정말이니?  2003.12.03   \n",
       "6                   아이유                       마침표  2017.04.21   \n",
       "7  스윗소로우 (SWEET SORROW)                     서울은 비  2015.10.15   \n",
       "8             지코 (ZICO)  사랑이었다 (Feat. 루나 of f(x))  2016.01.25   \n",
       "\n",
       "                                                  가사     좋아요수  \n",
       "0  어려운 말을 꺼내요 그 동안 그댈 기다리는 것 말고는 할 수 있는 게 없던 나죠 이...    9,840  \n",
       "1  내게 주던 사랑이 갈수록 익숙해져 편하게 생각했나 봐 날 떠나 가벼워진 사랑은 이제...    3,906  \n",
       "2  아마도 그건 사랑이었을거야 희미하게 떠오르는 기억이 이제야 그 마음을 알아버렸네 그...   27,493  \n",
       "3  요즘 재밌다는 영화 유행하는 것들 일부러 찾곤 해 조금 웃을 수 있어서 잠깐 잊을 ...    3,824  \n",
       "4  누가 말 걸어 주지 않으면 아무 말 없이 나도 모르게 찾게 되는 건 한가지 너 고요...   10,594  \n",
       "5  후회는 없을거라고 그만큼 사랑했다고 지금 흔들리는 목소리로 이별을 얘기하는거니 사랑...    9,600  \n",
       "6  알고 있었어 무슨 말인지 무슨 마음인지 다 알아 하루 더 딱 하루만 더 미루고 싶었...   67,534  \n",
       "7  오늘 따라 내리는 이 비는 좀처럼 그치질 않네요 혹시 그대 있는 곳에도 지금처럼 비...    3,226  \n",
       "8  알 수 없다 눈 뜨고 꿈꾸는 기분일까 괜히 가슴이 소란스러워지고 그리움도 경험해본다...  121,046  "
      ]
     },
     "execution_count": 19,
     "metadata": {},
     "output_type": "execute_result"
    }
   ],
   "source": [
    "ballad_calm"
   ]
  },
  {
   "cell_type": "code",
   "execution_count": 20,
   "metadata": {},
   "outputs": [],
   "source": [
    "ballad_calm['좋아요수'] = ballad_calm['좋아요수'].str.replace(',','')"
   ]
  },
  {
   "cell_type": "code",
   "execution_count": 21,
   "metadata": {},
   "outputs": [
    {
     "name": "stderr",
     "output_type": "stream",
     "text": [
      "/var/folders/51/xmc_l6t13wv1nc5z6qmyg58r0000gn/T/ipykernel_4106/2831921886.py:1: FutureWarning: The default value of regex will change from True to False in a future version. In addition, single character regular expressions will *not* be treated as literal strings when regex=True.\n",
      "  ballad_calm['발매일'] = ballad_calm['발매일'].str.replace('.', '-')\n"
     ]
    }
   ],
   "source": [
    "ballad_calm['발매일'] = ballad_calm['발매일'].str.replace('.', '-')"
   ]
  },
  {
   "cell_type": "code",
   "execution_count": 22,
   "metadata": {},
   "outputs": [],
   "source": [
    "ballad_calm['발매일'] = pd.to_datetime(ballad_calm['발매일'])"
   ]
  },
  {
   "cell_type": "code",
   "execution_count": 23,
   "metadata": {},
   "outputs": [
    {
     "data": {
      "text/plain": [
       "9"
      ]
     },
     "execution_count": 23,
     "metadata": {},
     "output_type": "execute_result"
    }
   ],
   "source": [
    "len(ballad_calm)"
   ]
  },
  {
   "cell_type": "code",
   "execution_count": 24,
   "metadata": {},
   "outputs": [],
   "source": [
    "ballad_calm.to_csv('../Data/ballad_calm3.csv', index=False)"
   ]
  },
  {
   "cell_type": "code",
   "execution_count": 26,
   "metadata": {},
   "outputs": [],
   "source": [
    "ballad_calm= pd.read_csv(\"../Data/ballad_calm3.csv\")"
   ]
  },
  {
   "cell_type": "code",
   "execution_count": 30,
   "metadata": {},
   "outputs": [
    {
     "name": "stdout",
     "output_type": "stream",
     "text": [
      "어려운 말을 꺼내요 그 동안 그댈 기다리는 것 말고는 할 수 있는 게 없던 나죠 이제 우리 여기까지만 해요 너무 많은 말들이 맘속에 차올라 나는 나는 할 말이 없어요 그저 나는 할 말이 없어요 그렁그렁 눈물이 차오고 가슴 한쪽이 너무 아려와 아무 말도 못했죠 이젠 그만할래요 차가운 그대 눈빛에 울던 나는 갈게요 이젠 good bye 조금씩 준비를 했어요 자꾸 변하는 그대가 다시는 돌아 올 것 같지 않아서요 그댄 정말 끝인 거냐 하네요 마치 하나도 몰랐었던 것처럼 불편하게 그렁그렁 눈물이 차오고 가슴 한쪽이 너무 아려와 아무 말도 못했죠 너무 멀리 왔어요 차가운 그대 눈빛에 울던 나는 갈게요 이젠 good bye 그때 우리 마주 보던 그대에게 기대어 웃던 따뜻했던 기억들은 다 남겨둘게요 처음 우리 시작했던 날 그때처럼만 안녕 안녕 해요 너무 많이 아팠나 봐요 다시 잡는 그대 그 손길을 이제 받아줄 수 없네요 안녕 난 갈게요 이젠 Good bye \n",
      "\n",
      "\n",
      "\n",
      "어려운 말을 꺼내요 그 동안 그댈 기다리는 것 말고는 할 수 있는 게 없던 나죠 이제 우리 여기까지만 해요 너무 많은 말들이 맘속에 차올라 나는 나는 할 말이 없어요 그저 나는 할 말이 없어요 그렁그렁 눈물이 차오고 가슴 한쪽이 너무 아려와 아무 말도 못했죠 이젠 그만할래요 차가운 그대 눈빛에 울던 나는 갈게요 이젠 good bye 조금씩 준비를 했어요 자꾸 변하는 그대가 다시는 돌아 올 것 같지 않아서요 그댄 정말 끝인 거냐 하네요 마치 하나도 몰랐었던 것처럼 불편하게 그렁그렁 눈물이 차오고 가슴 한쪽이 너무 아려와 아무 말도 못했죠 너무 멀리 왔어요 차가운 그대 눈빛에 울던 나는 갈게요 이젠 good bye 그때 우리 마주 보던 그대에게 기대어 웃던 따뜻했던 기억들은 다 남겨둘게요 처음 우리 시작했던 날 그때처럼만 안녕 안녕 해요 너무 많이 아팠나 봐요 다시 잡는 그대 그 손길을 이제 받아줄 수 없네요 안녕 난 갈게요 이젠 Good bye \n",
      "\n",
      "\n",
      "\n",
      "어려운 말을 꺼내요 그 동안 그댈 기다리는 것 말고는 할 수 있는 게 없던 나죠 이제 우리 여기까지만 해요 너무 많은 말들이 맘속에 차올라 나는 나는 할 말이 없어요 그저 나는 할 말이 없어요 그렁그렁 눈물이 차오고 가슴 한쪽이 너무 아려와 아무 말도 못했죠 이젠 그만할래요 차가운 그대 눈빛에 울던 나는 갈게요 이젠 good bye 조금씩 준비를 했어요 자꾸 변하는 그대가 다시는 돌아 올 것 같지 않아서요 그댄 정말 끝인 거냐 하네요 마치 하나도 몰랐었던 것처럼 불편하게 그렁그렁 눈물이 차오고 가슴 한쪽이 너무 아려와 아무 말도 못했죠 너무 멀리 왔어요 차가운 그대 눈빛에 울던 나는 갈게요 이젠 good bye 그때 우리 마주 보던 그대에게 기대어 웃던 따뜻했던 기억들은 다 남겨둘게요 처음 우리 시작했던 날 그때처럼만 안녕 안녕 해요 너무 많이 아팠나 봐요 다시 잡는 그대 그 손길을 이제 받아줄 수 없네요 안녕 난 갈게요 이젠 Good bye \n",
      "\n",
      "\n",
      "\n",
      "어려운 말을 꺼내요 그 동안 그댈 기다리는 것 말고는 할 수 있는 게 없던 나죠 이제 우리 여기까지만 해요 너무 많은 말들이 맘속에 차올라 나는 나는 할 말이 없어요 그저 나는 할 말이 없어요 그렁그렁 눈물이 차오고 가슴 한쪽이 너무 아려와 아무 말도 못했죠 이젠 그만할래요 차가운 그대 눈빛에 울던 나는 갈게요 이젠 good bye 조금씩 준비를 했어요 자꾸 변하는 그대가 다시는 돌아 올 것 같지 않아서요 그댄 정말 끝인 거냐 하네요 마치 하나도 몰랐었던 것처럼 불편하게 그렁그렁 눈물이 차오고 가슴 한쪽이 너무 아려와 아무 말도 못했죠 너무 멀리 왔어요 차가운 그대 눈빛에 울던 나는 갈게요 이젠 good bye 그때 우리 마주 보던 그대에게 기대어 웃던 따뜻했던 기억들은 다 남겨둘게요 처음 우리 시작했던 날 그때처럼만 안녕 안녕 해요 너무 많이 아팠나 봐요 다시 잡는 그대 그 손길을 이제 받아줄 수 없네요 안녕 난 갈게요 이젠 Good bye \n",
      "\n",
      "\n",
      "\n",
      "어려운 말을 꺼내요 그 동안 그댈 기다리는 것 말고는 할 수 있는 게 없던 나죠 이제 우리 여기까지만 해요 너무 많은 말들이 맘속에 차올라 나는 나는 할 말이 없어요 그저 나는 할 말이 없어요 그렁그렁 눈물이 차오고 가슴 한쪽이 너무 아려와 아무 말도 못했죠 이젠 그만할래요 차가운 그대 눈빛에 울던 나는 갈게요 이젠 good bye 조금씩 준비를 했어요 자꾸 변하는 그대가 다시는 돌아 올 것 같지 않아서요 그댄 정말 끝인 거냐 하네요 마치 하나도 몰랐었던 것처럼 불편하게 그렁그렁 눈물이 차오고 가슴 한쪽이 너무 아려와 아무 말도 못했죠 너무 멀리 왔어요 차가운 그대 눈빛에 울던 나는 갈게요 이젠 good bye 그때 우리 마주 보던 그대에게 기대어 웃던 따뜻했던 기억들은 다 남겨둘게요 처음 우리 시작했던 날 그때처럼만 안녕 안녕 해요 너무 많이 아팠나 봐요 다시 잡는 그대 그 손길을 이제 받아줄 수 없네요 안녕 난 갈게요 이젠 Good bye \n",
      "\n",
      "\n",
      "\n",
      "어려운 말을 꺼내요 그 동안 그댈 기다리는 것 말고는 할 수 있는 게 없던 나죠 이제 우리 여기까지만 해요 너무 많은 말들이 맘속에 차올라 나는 나는 할 말이 없어요 그저 나는 할 말이 없어요 그렁그렁 눈물이 차오고 가슴 한쪽이 너무 아려와 아무 말도 못했죠 이젠 그만할래요 차가운 그대 눈빛에 울던 나는 갈게요 이젠 good bye 조금씩 준비를 했어요 자꾸 변하는 그대가 다시는 돌아 올 것 같지 않아서요 그댄 정말 끝인 거냐 하네요 마치 하나도 몰랐었던 것처럼 불편하게 그렁그렁 눈물이 차오고 가슴 한쪽이 너무 아려와 아무 말도 못했죠 너무 멀리 왔어요 차가운 그대 눈빛에 울던 나는 갈게요 이젠 good bye 그때 우리 마주 보던 그대에게 기대어 웃던 따뜻했던 기억들은 다 남겨둘게요 처음 우리 시작했던 날 그때처럼만 안녕 안녕 해요 너무 많이 아팠나 봐요 다시 잡는 그대 그 손길을 이제 받아줄 수 없네요 안녕 난 갈게요 이젠 Good bye \n",
      "\n",
      "\n",
      "\n",
      "어려운 말을 꺼내요 그 동안 그댈 기다리는 것 말고는 할 수 있는 게 없던 나죠 이제 우리 여기까지만 해요 너무 많은 말들이 맘속에 차올라 나는 나는 할 말이 없어요 그저 나는 할 말이 없어요 그렁그렁 눈물이 차오고 가슴 한쪽이 너무 아려와 아무 말도 못했죠 이젠 그만할래요 차가운 그대 눈빛에 울던 나는 갈게요 이젠 good bye 조금씩 준비를 했어요 자꾸 변하는 그대가 다시는 돌아 올 것 같지 않아서요 그댄 정말 끝인 거냐 하네요 마치 하나도 몰랐었던 것처럼 불편하게 그렁그렁 눈물이 차오고 가슴 한쪽이 너무 아려와 아무 말도 못했죠 너무 멀리 왔어요 차가운 그대 눈빛에 울던 나는 갈게요 이젠 good bye 그때 우리 마주 보던 그대에게 기대어 웃던 따뜻했던 기억들은 다 남겨둘게요 처음 우리 시작했던 날 그때처럼만 안녕 안녕 해요 너무 많이 아팠나 봐요 다시 잡는 그대 그 손길을 이제 받아줄 수 없네요 안녕 난 갈게요 이젠 Good bye \n",
      "\n",
      "\n",
      "\n",
      "어려운 말을 꺼내요 그 동안 그댈 기다리는 것 말고는 할 수 있는 게 없던 나죠 이제 우리 여기까지만 해요 너무 많은 말들이 맘속에 차올라 나는 나는 할 말이 없어요 그저 나는 할 말이 없어요 그렁그렁 눈물이 차오고 가슴 한쪽이 너무 아려와 아무 말도 못했죠 이젠 그만할래요 차가운 그대 눈빛에 울던 나는 갈게요 이젠 good bye 조금씩 준비를 했어요 자꾸 변하는 그대가 다시는 돌아 올 것 같지 않아서요 그댄 정말 끝인 거냐 하네요 마치 하나도 몰랐었던 것처럼 불편하게 그렁그렁 눈물이 차오고 가슴 한쪽이 너무 아려와 아무 말도 못했죠 너무 멀리 왔어요 차가운 그대 눈빛에 울던 나는 갈게요 이젠 good bye 그때 우리 마주 보던 그대에게 기대어 웃던 따뜻했던 기억들은 다 남겨둘게요 처음 우리 시작했던 날 그때처럼만 안녕 안녕 해요 너무 많이 아팠나 봐요 다시 잡는 그대 그 손길을 이제 받아줄 수 없네요 안녕 난 갈게요 이젠 Good bye \n",
      "\n",
      "\n",
      "\n",
      "어려운 말을 꺼내요 그 동안 그댈 기다리는 것 말고는 할 수 있는 게 없던 나죠 이제 우리 여기까지만 해요 너무 많은 말들이 맘속에 차올라 나는 나는 할 말이 없어요 그저 나는 할 말이 없어요 그렁그렁 눈물이 차오고 가슴 한쪽이 너무 아려와 아무 말도 못했죠 이젠 그만할래요 차가운 그대 눈빛에 울던 나는 갈게요 이젠 good bye 조금씩 준비를 했어요 자꾸 변하는 그대가 다시는 돌아 올 것 같지 않아서요 그댄 정말 끝인 거냐 하네요 마치 하나도 몰랐었던 것처럼 불편하게 그렁그렁 눈물이 차오고 가슴 한쪽이 너무 아려와 아무 말도 못했죠 너무 멀리 왔어요 차가운 그대 눈빛에 울던 나는 갈게요 이젠 good bye 그때 우리 마주 보던 그대에게 기대어 웃던 따뜻했던 기억들은 다 남겨둘게요 처음 우리 시작했던 날 그때처럼만 안녕 안녕 해요 너무 많이 아팠나 봐요 다시 잡는 그대 그 손길을 이제 받아줄 수 없네요 안녕 난 갈게요 이젠 Good bye \n",
      "\n",
      "\n",
      "\n"
     ]
    }
   ],
   "source": [
    "for i in range(30,39):\n",
    "    print(ballad_calm.가사[0])\n",
    "    print(\"\\n\\n\")"
   ]
  },
  {
   "cell_type": "code",
   "execution_count": null,
   "metadata": {},
   "outputs": [],
   "source": []
  }
 ],
 "metadata": {
  "kernelspec": {
   "display_name": "Python 3.9.13 64-bit (windows store)",
   "language": "python",
   "name": "python3"
  },
  "language_info": {
   "codemirror_mode": {
    "name": "ipython",
    "version": 3
   },
   "file_extension": ".py",
   "mimetype": "text/x-python",
   "name": "python",
   "nbconvert_exporter": "python",
   "pygments_lexer": "ipython3",
   "version": "3.9.13"
  },
  "orig_nbformat": 4,
  "vscode": {
   "interpreter": {
    "hash": "497338f01161d141240caa60efca5087225791fadc9b7c964beb65d863e046f0"
   }
  }
 },
 "nbformat": 4,
 "nbformat_minor": 2
}
