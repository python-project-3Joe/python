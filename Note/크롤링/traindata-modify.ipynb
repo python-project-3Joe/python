{
 "cells": [
  {
   "cell_type": "code",
   "execution_count": 1,
   "metadata": {},
   "outputs": [],
   "source": [
    "import pandas as pd\n",
    "train = pd.read_csv(\"../../Data/train_data.csv\")"
   ]
  },
  {
   "cell_type": "code",
   "execution_count": 85,
   "metadata": {},
   "outputs": [
    {
     "data": {
      "text/plain": [
       "'나를 사랑하나요 같은 곳을 보나요 이미 알고 있어요 아닌 걸 알죠 배우지 않았어도 이별은 알 수 있죠 사랑은 늘 더딘데 이별은 서둘러 오네요 너와 사랑했던 이 거리가 나를 눈물짓게 만들어 더 사랑한 사람이 원래 더 아파 노래처럼 다신 누구도 사랑하지마 결국 나만큼 아플테니 그땐 내가 없어 이젠 끝이야 안녕 찬 바람이 불어와 코 끝이 붉어지면 슬픈 노래를 불러 내가 젤 잘하는 거니까 내게 혼자 하는 사랑이란 나를 더 아프게 만들죠 이젠 내게 솔직해져야 해 끝내 난 너에게 슬픈 안녕을 말해야겠어 너를 그 자리에 두고서 나의 사랑 안녕 이젠 그대여 안녕 다시 돌아오지는마 같은 상처를 받기 너무 두려우니까 널 여전히 사랑해 가끔 널 생각해 생각해 우연히 만나면 그냥 모른 척 지나가줄래 나도 널 지운 척 할테니 이미 끝난 사랑 다시 안할래 안녕 '"
      ]
     },
     "execution_count": 85,
     "metadata": {},
     "output_type": "execute_result"
    }
   ],
   "source": [
    "train['가사'][79]"
   ]
  },
  {
   "cell_type": "code",
   "execution_count": 75,
   "metadata": {},
   "outputs": [],
   "source": [
    "# train['가사'][48]\n",
    "# train['가사'][69]\n",
    "# train['가사'][70]\n",
    "# train['가사'][71]"
   ]
  },
  {
   "cell_type": "code",
   "execution_count": 87,
   "metadata": {},
   "outputs": [
    {
     "name": "stderr",
     "output_type": "stream",
     "text": [
      "/var/folders/t6/d5d0d02x7n7d4sj2yv4z3x5m0000gn/T/ipykernel_4488/1890881643.py:1: SettingWithCopyWarning: \n",
      "A value is trying to be set on a copy of a slice from a DataFrame\n",
      "\n",
      "See the caveats in the documentation: https://pandas.pydata.org/pandas-docs/stable/user_guide/indexing.html#returning-a-view-versus-a-copy\n",
      "  train['가사'][48] = \"후회는 없을거라고 그만큼 사랑했다고 지금 흔들리는 목소리로 이별을 얘기하는거니 사랑한 순간이야 그래 나도 기억하니까 니 말대로 후회는 없을꺼야 잊을순 없겠지만 그게 정말이니 너 돌아서는 모습이 정말 마지막이니 아무말 없이 너를 보내고 난 뒤에 후회하면 어떡하니 어쩌면 너의 말처럼 조금씩 잊혀진대도 아직까지는 나 단 하루도 너 없인 안되는데 그게 정말이니 너 돌아서는 모습이 정말 마지막이니 아무말 없이 너를 보내고 난 뒤에 후회하면 어떡하니 지금이라도 널 품에 안고 괜찮아 하면 돌아올꺼니 지나간 날에 이쁜추억 하나로 이렇게 너 남는거니 이렇게 멀어져 가는 그대 그저 힘없이 바라볼 뿐소리쳐 불러봐도 잡을수 없기에 이건 안 된다고 가지 말라고 제발 내곁에 있어 달라고 마음속으로 너를 한없이 불러도 아무 소용 없겠지만 자꾸 돌아보며 머뭇거리는 저 멀리 니 모습 때문에 너로 인해서 행복했던 나란걸 지금에야 알게 됐어 이렇게\"\n"
     ]
    }
   ],
   "source": [
    "train['가사'][48] = \"후회는 없을거라고 그만큼 사랑했다고 지금 흔들리는 목소리로 이별을 얘기하는거니 사랑한 순간이야 그래 나도 기억하니까 니 말대로 후회는 없을꺼야 잊을순 없겠지만 그게 정말이니 너 돌아서는 모습이 정말 마지막이니 아무말 없이 너를 보내고 난 뒤에 후회하면 어떡하니 어쩌면 너의 말처럼 조금씩 잊혀진대도 아직까지는 나 단 하루도 너 없인 안되는데 그게 정말이니 너 돌아서는 모습이 정말 마지막이니 아무말 없이 너를 보내고 난 뒤에 후회하면 어떡하니 지금이라도 널 품에 안고 괜찮아 하면 돌아올꺼니 지나간 날에 이쁜추억 하나로 이렇게 너 남는거니 이렇게 멀어져 가는 그대 그저 힘없이 바라볼 뿐소리쳐 불러봐도 잡을수 없기에 이건 안 된다고 가지 말라고 제발 내곁에 있어 달라고 마음속으로 너를 한없이 불러도 아무 소용 없겠지만 자꾸 돌아보며 머뭇거리는 저 멀리 니 모습 때문에 너로 인해서 행복했던 나란걸 지금에야 알게 됐어 이렇게\""
   ]
  },
  {
   "cell_type": "code",
   "execution_count": 90,
   "metadata": {},
   "outputs": [
    {
     "name": "stderr",
     "output_type": "stream",
     "text": [
      "/var/folders/t6/d5d0d02x7n7d4sj2yv4z3x5m0000gn/T/ipykernel_4488/3261862457.py:1: SettingWithCopyWarning: \n",
      "A value is trying to be set on a copy of a slice from a DataFrame\n",
      "\n",
      "See the caveats in the documentation: https://pandas.pydata.org/pandas-docs/stable/user_guide/indexing.html#returning-a-view-versus-a-copy\n",
      "  train['가사'][69] = '내게 주던 사랑이갈수록 익숙해져 편하게 생각했나 봐날 떠나 가벼워진 사랑은 이제야 겨우 떠올라 날카로운 말들로 서로 맘을 할퀴다 깎여버린 네 마음은 끝까지 아물지도 못 한 채 상처란 조각이 됐나 봐사랑 이상의 감정을 너라고 부르던 시간이 끝나면 어떻게 말해야 할지 몰라 이별이라 부르기로 했어 Decrescendo 무한하게 커져가던 사랑도 이별이란 두 글자에 갇혀 방향을 잃고 점점 여려져 귓가에 울리던 우리 노래는 들리지 않을 만큼 작아져 가닮아 가는 모습에 거울을 보는 것 같아널 보는게 좋았는데 사실은 그렇게 반대로만 바라보고 있었던 거야 이별은 갑작스레 다녀가고 그 자리에 남은 건너의 마지막 선물이라 생각해 추억이라 부르기로 했어 Decrescendo 무한하게 커져가던 사랑도 이별이란 두 글자에 갇혀 방향을 잃고 점점 여려져 귓가에 울리던 우리 노래는 들리지 않을 만큼 작아져 가 Decrescendo 무한하게 커져가던 사랑도 이별이란 두 글자에 갇혀 방향을 잃고 점점 여려져 귓가에 울리던 우리 노래는 들리지 않을 만큼 작아져 가'\n"
     ]
    }
   ],
   "source": [
    "train['가사'][69] = '내게 주던 사랑이갈수록 익숙해져 편하게 생각했나 봐날 떠나 가벼워진 사랑은 이제야 겨우 떠올라 날카로운 말들로 서로 맘을 할퀴다 깎여버린 네 마음은 끝까지 아물지도 못 한 채 상처란 조각이 됐나 봐사랑 이상의 감정을 너라고 부르던 시간이 끝나면 어떻게 말해야 할지 몰라 이별이라 부르기로 했어 Decrescendo 무한하게 커져가던 사랑도 이별이란 두 글자에 갇혀 방향을 잃고 점점 여려져 귓가에 울리던 우리 노래는 들리지 않을 만큼 작아져 가닮아 가는 모습에 거울을 보는 것 같아널 보는게 좋았는데 사실은 그렇게 반대로만 바라보고 있었던 거야 이별은 갑작스레 다녀가고 그 자리에 남은 건너의 마지막 선물이라 생각해 추억이라 부르기로 했어 Decrescendo 무한하게 커져가던 사랑도 이별이란 두 글자에 갇혀 방향을 잃고 점점 여려져 귓가에 울리던 우리 노래는 들리지 않을 만큼 작아져 가 Decrescendo 무한하게 커져가던 사랑도 이별이란 두 글자에 갇혀 방향을 잃고 점점 여려져 귓가에 울리던 우리 노래는 들리지 않을 만큼 작아져 가'"
   ]
  },
  {
   "cell_type": "code",
   "execution_count": 93,
   "metadata": {},
   "outputs": [
    {
     "name": "stderr",
     "output_type": "stream",
     "text": [
      "/var/folders/t6/d5d0d02x7n7d4sj2yv4z3x5m0000gn/T/ipykernel_4488/3383555803.py:1: SettingWithCopyWarning: \n",
      "A value is trying to be set on a copy of a slice from a DataFrame\n",
      "\n",
      "See the caveats in the documentation: https://pandas.pydata.org/pandas-docs/stable/user_guide/indexing.html#returning-a-view-versus-a-copy\n",
      "  train['가사'][70] = '아마도 그건 사랑이었을거야 희미하게 떠오르는 기억이 이제야 그 마음을 알아버렸네 그대 눈에 비친 나의 모습을 아마도 그건 사랑이었을거야 돌아보면 아쉬운 그날들이 자꾸만 아픔으로 내게 찾아와 떨리는 가슴 나를 슬프게 하네 차가운 내 마음에 남은 너의 뒷모습 열린 문틈으로 너는 내게 다가 올 것 같아 한참을 멍하니 문만 바라보다 아침햇살에 눈을 뜨고 말았네 사랑 그것은 엇갈린 너와 나의 시간들 스산한 바람처럼 지나쳐갔네 사랑 그것은 알 수 없는 나의 그리움 남아 있는 나의 깊은 미련들 차가운 내 마음에 남은 너의 뒷모습 열린 문틈으로너는 내게 다가 올 것 같아 한참을 멍하니 문만 바라보다 아침햇살에 눈을 뜨고 말았네 사랑 그것은 엇갈린 너와 나의 시간들 스산한 바람처럼 지나쳐갔네 사랑 그것은 알 수 없는 나의 그리움 남아 있는 나의 깊은 미련들 사랑 그것은 엇갈린 너와 나의 시간들 스산한 바람처럼 지나쳐갔네 사랑 그것은 알 수 없는 나의 그리움 남아 있는 나의 깊은 미련들'\n"
     ]
    }
   ],
   "source": [
    "train['가사'][70] = '아마도 그건 사랑이었을거야 희미하게 떠오르는 기억이 이제야 그 마음을 알아버렸네 그대 눈에 비친 나의 모습을 아마도 그건 사랑이었을거야 돌아보면 아쉬운 그날들이 자꾸만 아픔으로 내게 찾아와 떨리는 가슴 나를 슬프게 하네 차가운 내 마음에 남은 너의 뒷모습 열린 문틈으로 너는 내게 다가 올 것 같아 한참을 멍하니 문만 바라보다 아침햇살에 눈을 뜨고 말았네 사랑 그것은 엇갈린 너와 나의 시간들 스산한 바람처럼 지나쳐갔네 사랑 그것은 알 수 없는 나의 그리움 남아 있는 나의 깊은 미련들 차가운 내 마음에 남은 너의 뒷모습 열린 문틈으로너는 내게 다가 올 것 같아 한참을 멍하니 문만 바라보다 아침햇살에 눈을 뜨고 말았네 사랑 그것은 엇갈린 너와 나의 시간들 스산한 바람처럼 지나쳐갔네 사랑 그것은 알 수 없는 나의 그리움 남아 있는 나의 깊은 미련들 사랑 그것은 엇갈린 너와 나의 시간들 스산한 바람처럼 지나쳐갔네 사랑 그것은 알 수 없는 나의 그리움 남아 있는 나의 깊은 미련들'"
   ]
  },
  {
   "cell_type": "code",
   "execution_count": 96,
   "metadata": {},
   "outputs": [
    {
     "name": "stderr",
     "output_type": "stream",
     "text": [
      "/var/folders/t6/d5d0d02x7n7d4sj2yv4z3x5m0000gn/T/ipykernel_4488/344132869.py:1: SettingWithCopyWarning: \n",
      "A value is trying to be set on a copy of a slice from a DataFrame\n",
      "\n",
      "See the caveats in the documentation: https://pandas.pydata.org/pandas-docs/stable/user_guide/indexing.html#returning-a-view-versus-a-copy\n",
      "  train['가사'][71] = '오늘 따라 내리는 이 비는 좀처럼 그치질 않네요 혹시 그대 있는 곳에도 지금처럼 비가 내리진 않을까요 아주 멀리 있어도 변하는 건없을 거야 우리 서로 향해 있다면 언제까지나 함께일 거야 그대 말했죠 또 내게 말했죠 기도처럼 그대가 그리워지면 너무 보고프면 나는 이렇게 아픈데 그대는 괜찮은가요 아무 말 없는 그대가 나는 겁이 나 서울은 비가 와 외로운 내 맘에 돌아와 돌아와 이 비가 그쳐가 그대 고운 얼굴을 그려도 그려도 보이질 않아요 달라지게 된 하루만큼 멀어짐은 어쩔 수는 없는 건가요 아주 멀리 있어도 변하는 건없을 거야 우리서로 향해 있다면 언제까지나 함께일 거야 그랬잖아요 그랬었잖아요 그대 내게 그대가 그리워지면 너무 보고프면 나는 이렇게 아픈데그 대는 괜찮은가요 아무 말 없는 그대가 나는 겁이 나 서울은 비가 와 외로운 내 맘에 돌아와 돌아와 이 비가 그쳐가'\n"
     ]
    }
   ],
   "source": [
    "train['가사'][71] = '오늘 따라 내리는 이 비는 좀처럼 그치질 않네요 혹시 그대 있는 곳에도 지금처럼 비가 내리진 않을까요 아주 멀리 있어도 변하는 건없을 거야 우리 서로 향해 있다면 언제까지나 함께일 거야 그대 말했죠 또 내게 말했죠 기도처럼 그대가 그리워지면 너무 보고프면 나는 이렇게 아픈데 그대는 괜찮은가요 아무 말 없는 그대가 나는 겁이 나 서울은 비가 와 외로운 내 맘에 돌아와 돌아와 이 비가 그쳐가 그대 고운 얼굴을 그려도 그려도 보이질 않아요 달라지게 된 하루만큼 멀어짐은 어쩔 수는 없는 건가요 아주 멀리 있어도 변하는 건없을 거야 우리서로 향해 있다면 언제까지나 함께일 거야 그랬잖아요 그랬었잖아요 그대 내게 그대가 그리워지면 너무 보고프면 나는 이렇게 아픈데그 대는 괜찮은가요 아무 말 없는 그대가 나는 겁이 나 서울은 비가 와 외로운 내 맘에 돌아와 돌아와 이 비가 그쳐가'"
   ]
  },
  {
   "cell_type": "code",
   "execution_count": 98,
   "metadata": {},
   "outputs": [],
   "source": [
    "train.to_csv(\"../../Data/train_data.csv\")"
   ]
  }
 ],
 "metadata": {
  "kernelspec": {
   "display_name": "Python 3.9.13 ('tensorflow')",
   "language": "python",
   "name": "python3"
  },
  "language_info": {
   "codemirror_mode": {
    "name": "ipython",
    "version": 3
   },
   "file_extension": ".py",
   "mimetype": "text/x-python",
   "name": "python",
   "nbconvert_exporter": "python",
   "pygments_lexer": "ipython3",
   "version": "3.9.13"
  },
  "orig_nbformat": 4,
  "vscode": {
   "interpreter": {
    "hash": "00c8100a7997e958d8100731b108691612e131425235a19f9419f6b3b0ff44b3"
   }
  }
 },
 "nbformat": 4,
 "nbformat_minor": 2
}
