{
 "cells": [
  {
   "cell_type": "code",
   "execution_count": 1,
   "metadata": {},
   "outputs": [],
   "source": [
    "import pandas as pd\n",
    "train = pd.read_csv(\"../../Data/train_data.csv\")"
   ]
  },
  {
   "cell_type": "code",
   "execution_count": 85,
   "metadata": {},
   "outputs": [
    {
     "data": {
      "text/plain": [
       "'나를 사랑하나요 같은 곳을 보나요 이미 알고 있어요 아닌 걸 알죠 배우지 않았어도 이별은 알 수 있죠 사랑은 늘 더딘데 이별은 서둘러 오네요 너와 사랑했던 이 거리가 나를 눈물짓게 만들어 더 사랑한 사람이 원래 더 아파 노래처럼 다신 누구도 사랑하지마 결국 나만큼 아플테니 그땐 내가 없어 이젠 끝이야 안녕 찬 바람이 불어와 코 끝이 붉어지면 슬픈 노래를 불러 내가 젤 잘하는 거니까 내게 혼자 하는 사랑이란 나를 더 아프게 만들죠 이젠 내게 솔직해져야 해 끝내 난 너에게 슬픈 안녕을 말해야겠어 너를 그 자리에 두고서 나의 사랑 안녕 이젠 그대여 안녕 다시 돌아오지는마 같은 상처를 받기 너무 두려우니까 널 여전히 사랑해 가끔 널 생각해 생각해 우연히 만나면 그냥 모른 척 지나가줄래 나도 널 지운 척 할테니 이미 끝난 사랑 다시 안할래 안녕 '"
      ]
     },
     "execution_count": 85,
     "metadata": {},
     "output_type": "execute_result"
    }
   ],
   "source": [
    "train['가사'][79]"
   ]
  },
  {
   "cell_type": "code",
   "execution_count": 75,
   "metadata": {},
   "outputs": [],
   "source": [
    "# train['가사'][48]\n",
    "# train['가사'][69]\n",
    "# train['가사'][70]\n",
    "# train['가사'][71]"
   ]
  },
  {
   "cell_type": "code",
   "execution_count": 87,
   "metadata": {},
   "outputs": [
    {
     "name": "stderr",
     "output_type": "stream",
     "text": [
      "/var/folders/t6/d5d0d02x7n7d4sj2yv4z3x5m0000gn/T/ipykernel_4488/1890881643.py:1: SettingWithCopyWarning: \n",
      "A value is trying to be set on a copy of a slice from a DataFrame\n",
      "\n",
      "See the caveats in the documentation: https://pandas.pydata.org/pandas-docs/stable/user_guide/indexing.html#returning-a-view-versus-a-copy\n",
      "  train['가사'][48] = \"후회는 없을거라고 그만큼 사랑했다고 지금 흔들리는 목소리로 이별을 얘기하는거니 사랑한 순간이야 그래 나도 기억하니까 니 말대로 후회는 없을꺼야 잊을순 없겠지만 그게 정말이니 너 돌아서는 모습이 정말 마지막이니 아무말 없이 너를 보내고 난 뒤에 후회하면 어떡하니 어쩌면 너의 말처럼 조금씩 잊혀진대도 아직까지는 나 단 하루도 너 없인 안되는데 그게 정말이니 너 돌아서는 모습이 정말 마지막이니 아무말 없이 너를 보내고 난 뒤에 후회하면 어떡하니 지금이라도 널 품에 안고 괜찮아 하면 돌아올꺼니 지나간 날에 이쁜추억 하나로 이렇게 너 남는거니 이렇게 멀어져 가는 그대 그저 힘없이 바라볼 뿐소리쳐 불러봐도 잡을수 없기에 이건 안 된다고 가지 말라고 제발 내곁에 있어 달라고 마음속으로 너를 한없이 불러도 아무 소용 없겠지만 자꾸 돌아보며 머뭇거리는 저 멀리 니 모습 때문에 너로 인해서 행복했던 나란걸 지금에야 알게 됐어 이렇게\"\n"
     ]
    }
   ],
   "source": [
    "train['가사'][48] = \"후회는 없을거라고 그만큼 사랑했다고 지금 흔들리는 목소리로 이별을 얘기하는거니 사랑한 순간이야 그래 나도 기억하니까 니 말대로 후회는 없을꺼야 잊을순 없겠지만 그게 정말이니 너 돌아서는 모습이 정말 마지막이니 아무말 없이 너를 보내고 난 뒤에 후회하면 어떡하니 어쩌면 너의 말처럼 조금씩 잊혀진대도 아직까지는 나 단 하루도 너 없인 안되는데 그게 정말이니 너 돌아서는 모습이 정말 마지막이니 아무말 없이 너를 보내고 난 뒤에 후회하면 어떡하니 지금이라도 널 품에 안고 괜찮아 하면 돌아올꺼니 지나간 날에 이쁜추억 하나로 이렇게 너 남는거니 이렇게 멀어져 가는 그대 그저 힘없이 바라볼 뿐소리쳐 불러봐도 잡을수 없기에 이건 안 된다고 가지 말라고 제발 내곁에 있어 달라고 마음속으로 너를 한없이 불러도 아무 소용 없겠지만 자꾸 돌아보며 머뭇거리는 저 멀리 니 모습 때문에 너로 인해서 행복했던 나란걸 지금에야 알게 됐어 이렇게\""
   ]
  },
  {
   "cell_type": "code",
   "execution_count": 90,
   "metadata": {},
   "outputs": [
    {
     "name": "stderr",
     "output_type": "stream",
     "text": [
      "/var/folders/t6/d5d0d02x7n7d4sj2yv4z3x5m0000gn/T/ipykernel_4488/3261862457.py:1: SettingWithCopyWarning: \n",
      "A value is trying to be set on a copy of a slice from a DataFrame\n",
      "\n",
      "See the caveats in the documentation: https://pandas.pydata.org/pandas-docs/stable/user_guide/indexing.html#returning-a-view-versus-a-copy\n",
      "  train['가사'][69] = '내게 주던 사랑이갈수록 익숙해져 편하게 생각했나 봐날 떠나 가벼워진 사랑은 이제야 겨우 떠올라 날카로운 말들로 서로 맘을 할퀴다 깎여버린 네 마음은 끝까지 아물지도 못 한 채 상처란 조각이 됐나 봐사랑 이상의 감정을 너라고 부르던 시간이 끝나면 어떻게 말해야 할지 몰라 이별이라 부르기로 했어 Decrescendo 무한하게 커져가던 사랑도 이별이란 두 글자에 갇혀 방향을 잃고 점점 여려져 귓가에 울리던 우리 노래는 들리지 않을 만큼 작아져 가닮아 가는 모습에 거울을 보는 것 같아널 보는게 좋았는데 사실은 그렇게 반대로만 바라보고 있었던 거야 이별은 갑작스레 다녀가고 그 자리에 남은 건너의 마지막 선물이라 생각해 추억이라 부르기로 했어 Decrescendo 무한하게 커져가던 사랑도 이별이란 두 글자에 갇혀 방향을 잃고 점점 여려져 귓가에 울리던 우리 노래는 들리지 않을 만큼 작아져 가 Decrescendo 무한하게 커져가던 사랑도 이별이란 두 글자에 갇혀 방향을 잃고 점점 여려져 귓가에 울리던 우리 노래는 들리지 않을 만큼 작아져 가'\n"
     ]
    }
   ],
   "source": [
    "train['가사'][69] = '내게 주던 사랑이갈수록 익숙해져 편하게 생각했나 봐날 떠나 가벼워진 사랑은 이제야 겨우 떠올라 날카로운 말들로 서로 맘을 할퀴다 깎여버린 네 마음은 끝까지 아물지도 못 한 채 상처란 조각이 됐나 봐사랑 이상의 감정을 너라고 부르던 시간이 끝나면 어떻게 말해야 할지 몰라 이별이라 부르기로 했어 Decrescendo 무한하게 커져가던 사랑도 이별이란 두 글자에 갇혀 방향을 잃고 점점 여려져 귓가에 울리던 우리 노래는 들리지 않을 만큼 작아져 가닮아 가는 모습에 거울을 보는 것 같아널 보는게 좋았는데 사실은 그렇게 반대로만 바라보고 있었던 거야 이별은 갑작스레 다녀가고 그 자리에 남은 건너의 마지막 선물이라 생각해 추억이라 부르기로 했어 Decrescendo 무한하게 커져가던 사랑도 이별이란 두 글자에 갇혀 방향을 잃고 점점 여려져 귓가에 울리던 우리 노래는 들리지 않을 만큼 작아져 가 Decrescendo 무한하게 커져가던 사랑도 이별이란 두 글자에 갇혀 방향을 잃고 점점 여려져 귓가에 울리던 우리 노래는 들리지 않을 만큼 작아져 가'"
   ]
  },
  {
   "cell_type": "code",
   "execution_count": 93,
   "metadata": {},
   "outputs": [
    {
     "name": "stderr",
     "output_type": "stream",
     "text": [
      "/var/folders/t6/d5d0d02x7n7d4sj2yv4z3x5m0000gn/T/ipykernel_4488/3383555803.py:1: SettingWithCopyWarning: \n",
      "A value is trying to be set on a copy of a slice from a DataFrame\n",
      "\n",
      "See the caveats in the documentation: https://pandas.pydata.org/pandas-docs/stable/user_guide/indexing.html#returning-a-view-versus-a-copy\n",
      "  train['가사'][70] = '아마도 그건 사랑이었을거야 희미하게 떠오르는 기억이 이제야 그 마음을 알아버렸네 그대 눈에 비친 나의 모습을 아마도 그건 사랑이었을거야 돌아보면 아쉬운 그날들이 자꾸만 아픔으로 내게 찾아와 떨리는 가슴 나를 슬프게 하네 차가운 내 마음에 남은 너의 뒷모습 열린 문틈으로 너는 내게 다가 올 것 같아 한참을 멍하니 문만 바라보다 아침햇살에 눈을 뜨고 말았네 사랑 그것은 엇갈린 너와 나의 시간들 스산한 바람처럼 지나쳐갔네 사랑 그것은 알 수 없는 나의 그리움 남아 있는 나의 깊은 미련들 차가운 내 마음에 남은 너의 뒷모습 열린 문틈으로너는 내게 다가 올 것 같아 한참을 멍하니 문만 바라보다 아침햇살에 눈을 뜨고 말았네 사랑 그것은 엇갈린 너와 나의 시간들 스산한 바람처럼 지나쳐갔네 사랑 그것은 알 수 없는 나의 그리움 남아 있는 나의 깊은 미련들 사랑 그것은 엇갈린 너와 나의 시간들 스산한 바람처럼 지나쳐갔네 사랑 그것은 알 수 없는 나의 그리움 남아 있는 나의 깊은 미련들'\n"
     ]
    }
   ],
   "source": [
    "train['가사'][70] = '아마도 그건 사랑이었을거야 희미하게 떠오르는 기억이 이제야 그 마음을 알아버렸네 그대 눈에 비친 나의 모습을 아마도 그건 사랑이었을거야 돌아보면 아쉬운 그날들이 자꾸만 아픔으로 내게 찾아와 떨리는 가슴 나를 슬프게 하네 차가운 내 마음에 남은 너의 뒷모습 열린 문틈으로 너는 내게 다가 올 것 같아 한참을 멍하니 문만 바라보다 아침햇살에 눈을 뜨고 말았네 사랑 그것은 엇갈린 너와 나의 시간들 스산한 바람처럼 지나쳐갔네 사랑 그것은 알 수 없는 나의 그리움 남아 있는 나의 깊은 미련들 차가운 내 마음에 남은 너의 뒷모습 열린 문틈으로너는 내게 다가 올 것 같아 한참을 멍하니 문만 바라보다 아침햇살에 눈을 뜨고 말았네 사랑 그것은 엇갈린 너와 나의 시간들 스산한 바람처럼 지나쳐갔네 사랑 그것은 알 수 없는 나의 그리움 남아 있는 나의 깊은 미련들 사랑 그것은 엇갈린 너와 나의 시간들 스산한 바람처럼 지나쳐갔네 사랑 그것은 알 수 없는 나의 그리움 남아 있는 나의 깊은 미련들'"
   ]
  },
  {
   "cell_type": "code",
   "execution_count": 96,
   "metadata": {},
   "outputs": [
    {
     "name": "stderr",
     "output_type": "stream",
     "text": [
      "/var/folders/t6/d5d0d02x7n7d4sj2yv4z3x5m0000gn/T/ipykernel_4488/344132869.py:1: SettingWithCopyWarning: \n",
      "A value is trying to be set on a copy of a slice from a DataFrame\n",
      "\n",
      "See the caveats in the documentation: https://pandas.pydata.org/pandas-docs/stable/user_guide/indexing.html#returning-a-view-versus-a-copy\n",
      "  train['가사'][71] = '오늘 따라 내리는 이 비는 좀처럼 그치질 않네요 혹시 그대 있는 곳에도 지금처럼 비가 내리진 않을까요 아주 멀리 있어도 변하는 건없을 거야 우리 서로 향해 있다면 언제까지나 함께일 거야 그대 말했죠 또 내게 말했죠 기도처럼 그대가 그리워지면 너무 보고프면 나는 이렇게 아픈데 그대는 괜찮은가요 아무 말 없는 그대가 나는 겁이 나 서울은 비가 와 외로운 내 맘에 돌아와 돌아와 이 비가 그쳐가 그대 고운 얼굴을 그려도 그려도 보이질 않아요 달라지게 된 하루만큼 멀어짐은 어쩔 수는 없는 건가요 아주 멀리 있어도 변하는 건없을 거야 우리서로 향해 있다면 언제까지나 함께일 거야 그랬잖아요 그랬었잖아요 그대 내게 그대가 그리워지면 너무 보고프면 나는 이렇게 아픈데그 대는 괜찮은가요 아무 말 없는 그대가 나는 겁이 나 서울은 비가 와 외로운 내 맘에 돌아와 돌아와 이 비가 그쳐가'\n"
     ]
    }
   ],
   "source": [
    "train['가사'][71] = '오늘 따라 내리는 이 비는 좀처럼 그치질 않네요 혹시 그대 있는 곳에도 지금처럼 비가 내리진 않을까요 아주 멀리 있어도 변하는 건없을 거야 우리 서로 향해 있다면 언제까지나 함께일 거야 그대 말했죠 또 내게 말했죠 기도처럼 그대가 그리워지면 너무 보고프면 나는 이렇게 아픈데 그대는 괜찮은가요 아무 말 없는 그대가 나는 겁이 나 서울은 비가 와 외로운 내 맘에 돌아와 돌아와 이 비가 그쳐가 그대 고운 얼굴을 그려도 그려도 보이질 않아요 달라지게 된 하루만큼 멀어짐은 어쩔 수는 없는 건가요 아주 멀리 있어도 변하는 건없을 거야 우리서로 향해 있다면 언제까지나 함께일 거야 그랬잖아요 그랬었잖아요 그대 내게 그대가 그리워지면 너무 보고프면 나는 이렇게 아픈데그 대는 괜찮은가요 아무 말 없는 그대가 나는 겁이 나 서울은 비가 와 외로운 내 맘에 돌아와 돌아와 이 비가 그쳐가'"
   ]
  },
  {
   "cell_type": "code",
   "execution_count": 98,
   "metadata": {},
   "outputs": [],
   "source": [
    "train.to_csv(\"../../Data/train_data.csv\")"
   ]
  },
  {
   "cell_type": "markdown",
   "metadata": {},
   "source": [
    "---"
   ]
  },
  {
   "cell_type": "code",
   "execution_count": 4,
   "metadata": {},
   "outputs": [
    {
     "data": {
      "text/html": [
       "<div>\n",
       "<style scoped>\n",
       "    .dataframe tbody tr th:only-of-type {\n",
       "        vertical-align: middle;\n",
       "    }\n",
       "\n",
       "    .dataframe tbody tr th {\n",
       "        vertical-align: top;\n",
       "    }\n",
       "\n",
       "    .dataframe thead th {\n",
       "        text-align: right;\n",
       "    }\n",
       "</style>\n",
       "<table border=\"1\" class=\"dataframe\">\n",
       "  <thead>\n",
       "    <tr style=\"text-align: right;\">\n",
       "      <th></th>\n",
       "      <th>가수명</th>\n",
       "      <th>노래제목</th>\n",
       "      <th>발매일</th>\n",
       "      <th>가사</th>\n",
       "      <th>좋아요수</th>\n",
       "      <th>앨범사진</th>\n",
       "      <th>songId</th>\n",
       "      <th>순위</th>\n",
       "    </tr>\n",
       "  </thead>\n",
       "  <tbody>\n",
       "    <tr>\n",
       "      <th>0</th>\n",
       "      <td>WSG워너비 (가야G)</td>\n",
       "      <td>그때 그 순간 그대로 (그그그)</td>\n",
       "      <td>2022-07-09</td>\n",
       "      <td>잘 지냈지? 조금은 어색해 요즘 좋아 보여 인사 나누며 사실 궁금한 게 너무 많았...</td>\n",
       "      <td>88589</td>\n",
       "      <td>https://cdnimg.melon.co.kr/cm2/album/images/11...</td>\n",
       "      <td>35383397</td>\n",
       "      <td>1</td>\n",
       "    </tr>\n",
       "    <tr>\n",
       "      <th>1</th>\n",
       "      <td>경서</td>\n",
       "      <td>나의 X에게</td>\n",
       "      <td>2022-04-24</td>\n",
       "      <td>우리 다시 만날래 예쁘게 빛나던 모든 추억들이 너무 그리워 너의 품에 안길래 이 ...</td>\n",
       "      <td>105034</td>\n",
       "      <td>https://cdnimg.melon.co.kr/cm2/album/images/10...</td>\n",
       "      <td>34943312</td>\n",
       "      <td>2</td>\n",
       "    </tr>\n",
       "    <tr>\n",
       "      <th>2</th>\n",
       "      <td>멜로망스</td>\n",
       "      <td>사랑인가 봐</td>\n",
       "      <td>2022-02-18</td>\n",
       "      <td>너와 함께 하고 싶은 일들을 상상하는 게 요즘 내 일상이 되고 너의 즐거워하는 모...</td>\n",
       "      <td>148524</td>\n",
       "      <td>https://cdnimg.melon.co.kr/cm2/album/images/10...</td>\n",
       "      <td>34657844</td>\n",
       "      <td>3</td>\n",
       "    </tr>\n",
       "    <tr>\n",
       "      <th>3</th>\n",
       "      <td>주호</td>\n",
       "      <td>내가 아니라도</td>\n",
       "      <td>2022-03-25</td>\n",
       "      <td>사랑이었다 별거 없던 내 하루에 빛이 돼준 단한 사람 나보다 나를 더 아껴 주던 ...</td>\n",
       "      <td>52955</td>\n",
       "      <td>https://cdnimg.melon.co.kr/cm2/album/images/10...</td>\n",
       "      <td>34787226</td>\n",
       "      <td>4</td>\n",
       "    </tr>\n",
       "    <tr>\n",
       "      <th>4</th>\n",
       "      <td>임영웅</td>\n",
       "      <td>사랑은 늘 도망가</td>\n",
       "      <td>2021-10-11</td>\n",
       "      <td>눈물이 난다 이 길을 걸으면 그 사람 손길이 자꾸 생각이 난다 붙잡지 못하고 가슴...</td>\n",
       "      <td>170070</td>\n",
       "      <td>https://cdnimg.melon.co.kr/cm2/album/images/10...</td>\n",
       "      <td>34061322</td>\n",
       "      <td>5</td>\n",
       "    </tr>\n",
       "    <tr>\n",
       "      <th>...</th>\n",
       "      <td>...</td>\n",
       "      <td>...</td>\n",
       "      <td>...</td>\n",
       "      <td>...</td>\n",
       "      <td>...</td>\n",
       "      <td>...</td>\n",
       "      <td>...</td>\n",
       "      <td>...</td>\n",
       "    </tr>\n",
       "    <tr>\n",
       "      <th>1966</th>\n",
       "      <td>터보</td>\n",
       "      <td>회상 (December)</td>\n",
       "      <td>1997-01-01</td>\n",
       "      <td>겨울 오면은 우리 둘이서 항상 왔었던 바닷가 시린 바람과 하얀 파도는 예전 그대로였...</td>\n",
       "      <td>12742</td>\n",
       "      <td>https://cdnimg.melon.co.kr/cm/album/images/003...</td>\n",
       "      <td>1606413</td>\n",
       "      <td>1996</td>\n",
       "    </tr>\n",
       "    <tr>\n",
       "      <th>1967</th>\n",
       "      <td>이석훈</td>\n",
       "      <td>고백</td>\n",
       "      <td>2011-06-02</td>\n",
       "      <td>좋은 사람 만나 행복해야 해 너는 웃고 있지만 나는 웃을 수가 없는걸 그래 난 알고...</td>\n",
       "      <td>18569</td>\n",
       "      <td>https://cdnimg.melon.co.kr/cm/album/images/012...</td>\n",
       "      <td>3426230</td>\n",
       "      <td>1997</td>\n",
       "    </tr>\n",
       "    <tr>\n",
       "      <th>1968</th>\n",
       "      <td>다비치</td>\n",
       "      <td>나의 첫사랑</td>\n",
       "      <td>2022-05-16</td>\n",
       "      <td>그때의 나는 너를 만나서 하나부터 열까지 모든 순간들이 소중했어 내 첫사랑 잊고 싶...</td>\n",
       "      <td>925</td>\n",
       "      <td>https://cdnimg.melon.co.kr/cm2/album/images/10...</td>\n",
       "      <td>35145139</td>\n",
       "      <td>1998</td>\n",
       "    </tr>\n",
       "    <tr>\n",
       "      <th>1969</th>\n",
       "      <td>미스에스</td>\n",
       "      <td>이 나이 먹고 뭐했길래 (Feat. 정슬기)</td>\n",
       "      <td>2010-09-10</td>\n",
       "      <td>다시 처음으로 돌아갈 수 있다면 아마 너를 사랑하는 일은 안했을텐데 그 날밤 그 카...</td>\n",
       "      <td>10416</td>\n",
       "      <td>https://cdnimg.melon.co.kr/cm/album/images/010...</td>\n",
       "      <td>2933662</td>\n",
       "      <td>1999</td>\n",
       "    </tr>\n",
       "    <tr>\n",
       "      <th>1970</th>\n",
       "      <td>하은 (포맨)</td>\n",
       "      <td>혼코노 (Honkono)</td>\n",
       "      <td>2019-10-17</td>\n",
       "      <td>이 동전 하나로 뭘 할 수 있을까 고민 고민하다가 나 혼자 이곳에 왔어 익숙한 번호...</td>\n",
       "      <td>15260</td>\n",
       "      <td>https://cdnimg.melon.co.kr/cm2/album/images/10...</td>\n",
       "      <td>32104350</td>\n",
       "      <td>2000</td>\n",
       "    </tr>\n",
       "  </tbody>\n",
       "</table>\n",
       "<p>1971 rows × 8 columns</p>\n",
       "</div>"
      ],
      "text/plain": [
       "               가수명                      노래제목         발매일  \\\n",
       "0     WSG워너비 (가야G)         그때 그 순간 그대로 (그그그)  2022-07-09   \n",
       "1               경서                    나의 X에게  2022-04-24   \n",
       "2             멜로망스                    사랑인가 봐  2022-02-18   \n",
       "3               주호                   내가 아니라도  2022-03-25   \n",
       "4              임영웅                 사랑은 늘 도망가  2021-10-11   \n",
       "...            ...                       ...         ...   \n",
       "1966            터보             회상 (December)  1997-01-01   \n",
       "1967           이석훈                        고백  2011-06-02   \n",
       "1968           다비치                    나의 첫사랑  2022-05-16   \n",
       "1969          미스에스  이 나이 먹고 뭐했길래 (Feat. 정슬기)  2010-09-10   \n",
       "1970       하은 (포맨)             혼코노 (Honkono)  2019-10-17   \n",
       "\n",
       "                                                     가사    좋아요수  \\\n",
       "0      잘 지냈지? 조금은 어색해 요즘 좋아 보여 인사 나누며 사실 궁금한 게 너무 많았...   88589   \n",
       "1      우리 다시 만날래 예쁘게 빛나던 모든 추억들이 너무 그리워 너의 품에 안길래 이 ...  105034   \n",
       "2      너와 함께 하고 싶은 일들을 상상하는 게 요즘 내 일상이 되고 너의 즐거워하는 모...  148524   \n",
       "3      사랑이었다 별거 없던 내 하루에 빛이 돼준 단한 사람 나보다 나를 더 아껴 주던 ...   52955   \n",
       "4      눈물이 난다 이 길을 걸으면 그 사람 손길이 자꾸 생각이 난다 붙잡지 못하고 가슴...  170070   \n",
       "...                                                 ...     ...   \n",
       "1966  겨울 오면은 우리 둘이서 항상 왔었던 바닷가 시린 바람과 하얀 파도는 예전 그대로였...   12742   \n",
       "1967  좋은 사람 만나 행복해야 해 너는 웃고 있지만 나는 웃을 수가 없는걸 그래 난 알고...   18569   \n",
       "1968  그때의 나는 너를 만나서 하나부터 열까지 모든 순간들이 소중했어 내 첫사랑 잊고 싶...     925   \n",
       "1969  다시 처음으로 돌아갈 수 있다면 아마 너를 사랑하는 일은 안했을텐데 그 날밤 그 카...   10416   \n",
       "1970  이 동전 하나로 뭘 할 수 있을까 고민 고민하다가 나 혼자 이곳에 왔어 익숙한 번호...   15260   \n",
       "\n",
       "                                                   앨범사진    songId    순위  \n",
       "0     https://cdnimg.melon.co.kr/cm2/album/images/11...  35383397     1  \n",
       "1     https://cdnimg.melon.co.kr/cm2/album/images/10...  34943312     2  \n",
       "2     https://cdnimg.melon.co.kr/cm2/album/images/10...  34657844     3  \n",
       "3     https://cdnimg.melon.co.kr/cm2/album/images/10...  34787226     4  \n",
       "4     https://cdnimg.melon.co.kr/cm2/album/images/10...  34061322     5  \n",
       "...                                                 ...       ...   ...  \n",
       "1966  https://cdnimg.melon.co.kr/cm/album/images/003...   1606413  1996  \n",
       "1967  https://cdnimg.melon.co.kr/cm/album/images/012...   3426230  1997  \n",
       "1968  https://cdnimg.melon.co.kr/cm2/album/images/10...  35145139  1998  \n",
       "1969  https://cdnimg.melon.co.kr/cm/album/images/010...   2933662  1999  \n",
       "1970  https://cdnimg.melon.co.kr/cm2/album/images/10...  32104350  2000  \n",
       "\n",
       "[1971 rows x 8 columns]"
      ]
     },
     "execution_count": 4,
     "metadata": {},
     "output_type": "execute_result"
    }
   ],
   "source": [
    "pd.read_csv(\"../../Data/ballad_test.csv\")"
   ]
  },
  {
   "cell_type": "code",
   "execution_count": null,
   "metadata": {},
   "outputs": [],
   "source": []
  }
 ],
 "metadata": {
  "kernelspec": {
   "display_name": "Python 3.9.13 ('tensorflow')",
   "language": "python",
   "name": "python3"
  },
  "language_info": {
   "codemirror_mode": {
    "name": "ipython",
    "version": 3
   },
   "file_extension": ".py",
   "mimetype": "text/x-python",
   "name": "python",
   "nbconvert_exporter": "python",
   "pygments_lexer": "ipython3",
   "version": "3.9.13"
  },
  "orig_nbformat": 4,
  "vscode": {
   "interpreter": {
    "hash": "00c8100a7997e958d8100731b108691612e131425235a19f9419f6b3b0ff44b3"
   }
  }
 },
 "nbformat": 4,
 "nbformat_minor": 2
}
