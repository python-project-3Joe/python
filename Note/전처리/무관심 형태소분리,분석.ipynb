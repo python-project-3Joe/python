{
 "cells": [
  {
   "cell_type": "code",
   "execution_count": 1,
   "metadata": {},
   "outputs": [],
   "source": [
    "import pandas as pd\n",
    "from konlpy.tag import Okt\n",
    "from gensim.models import word2vec"
   ]
  },
  {
   "cell_type": "code",
   "execution_count": 19,
   "metadata": {},
   "outputs": [],
   "source": [
    "# 무관심 train_data불러오기\n",
    "train = pd.read_csv(\"../../Data/train_data.csv\")"
   ]
  },
  {
   "cell_type": "code",
   "execution_count": 20,
   "metadata": {},
   "outputs": [],
   "source": [
    "train_list = []\n",
    "for i in range(0, 80):\n",
    "    train_list.append(train['가사'][i])"
   ]
  },
  {
   "cell_type": "code",
   "execution_count": 22,
   "metadata": {},
   "outputs": [
    {
     "data": {
      "text/plain": [
       "80"
      ]
     },
     "execution_count": 22,
     "metadata": {},
     "output_type": "execute_result"
    }
   ],
   "source": [
    "len(train_list)"
   ]
  },
  {
   "cell_type": "code",
   "execution_count": 24,
   "metadata": {},
   "outputs": [],
   "source": [
    "# 텍스를 한 줄씩 처리하기\n",
    "twitter = Okt()\n",
    "results = []\n",
    "lines = train_list\n",
    "for line in lines:\n",
    "    # 형태소 분석하기\n",
    "    train_malist = twitter.pos(line,norm=True,stem=True) # 단어의 기본형 사용\n",
    "    r = []\n",
    "    for word in train_malist:\n",
    "        # 어미, 조사, 구두점 등은 대상에서 제외\n",
    "        if not word[1] in [\"Josa\",\"Eomi\",\"Punctuation\"]:\n",
    "            if word[0] != \"n\":\n",
    "                r.append(word[0]) # word[0] : data\n",
    "    rl = (\" \".join(r).strip())\n",
    "    results.append(rl)\n",
    "    #print(rl)"
   ]
  },
  {
   "cell_type": "code",
   "execution_count": 26,
   "metadata": {},
   "outputs": [],
   "source": [
    "# results"
   ]
  },
  {
   "cell_type": "code",
   "execution_count": null,
   "metadata": {},
   "outputs": [],
   "source": []
  },
  {
   "cell_type": "code",
   "execution_count": null,
   "metadata": {},
   "outputs": [],
   "source": []
  },
  {
   "cell_type": "code",
   "execution_count": null,
   "metadata": {},
   "outputs": [],
   "source": []
  },
  {
   "cell_type": "code",
   "execution_count": null,
   "metadata": {},
   "outputs": [],
   "source": []
  },
  {
   "cell_type": "code",
   "execution_count": null,
   "metadata": {},
   "outputs": [],
   "source": []
  },
  {
   "cell_type": "code",
   "execution_count": 7,
   "metadata": {},
   "outputs": [],
   "source": [
    "# 파일로 출력하기 \n",
    "wakati_file = \"../../Data/ballad_indifference20.wakati\"\n",
    "with open(wakati_file, 'w', encoding = 'utf-8') as fp:\n",
    "    fp.write(\"\\n\".join(results))"
   ]
  },
  {
   "cell_type": "code",
   "execution_count": 8,
   "metadata": {},
   "outputs": [
    {
     "name": "stdout",
     "output_type": "stream",
     "text": [
      "OK\n"
     ]
    }
   ],
   "source": [
    "# word2vec 모델 만들기 \n",
    "data = word2vec.LineSentence(wakati_file)\n",
    "model = word2vec.Word2Vec(data, window = 10, hs = 1, min_count=2, sg = 1) \n",
    "# hs = 1 (숫자, 특수문자 제외)\n",
    "# sg = 1 (skip gram, 문법 체크 제외)\n",
    "model.save(\"../../Data/ballad_indifference20.model\")\n",
    "print(\"OK\")"
   ]
  },
  {
   "cell_type": "code",
   "execution_count": 9,
   "metadata": {},
   "outputs": [],
   "source": [
    "# 모델 사용하기 \n",
    "model = word2vec.Word2Vec.load(\"../../Data/ballad_indifference20.model\")"
   ]
  },
  {
   "cell_type": "code",
   "execution_count": 10,
   "metadata": {},
   "outputs": [
    {
     "data": {
      "text/plain": [
       "[('끝나다', 0.9960851073265076),\n",
       " ('잖다', 0.9950804114341736),\n",
       " ('오지', 0.9941145777702332),\n",
       " ('다른', 0.9939598441123962),\n",
       " ('아니다', 0.9922330379486084),\n",
       " ('인연', 0.9921867251396179),\n",
       " ('끝내다', 0.9921315312385559),\n",
       " ('숨', 0.9919196963310242),\n",
       " ('보고', 0.991874098777771),\n",
       " ('되돌리다', 0.9918060898780823)]"
      ]
     },
     "execution_count": 10,
     "metadata": {},
     "output_type": "execute_result"
    }
   ],
   "source": [
    "# 가장 의미 비슷한 단어 찾기 \n",
    "model.wv.most_similar(positive = ['이별'])"
   ]
  },
  {
   "cell_type": "code",
   "execution_count": 11,
   "metadata": {},
   "outputs": [
    {
     "data": {
      "text/plain": [
       "[('번호', -0.9089714884757996),\n",
       " ('그늘', -0.9111995100975037),\n",
       " ('그것', -0.9154554009437561),\n",
       " ('시간', -0.9205129742622375),\n",
       " ('어떻다', -0.9260929822921753),\n",
       " ('대다', -0.9296623468399048),\n",
       " ('나', -0.9363697171211243),\n",
       " ('오다', -0.939329981803894),\n",
       " ('남아', -0.9414581060409546),\n",
       " ('짧다', -0.9420595169067383)]"
      ]
     },
     "execution_count": 11,
     "metadata": {},
     "output_type": "execute_result"
    }
   ],
   "source": [
    "# 가장 의미 비슷한 단어 찾기 \n",
    "model.wv.most_similar(negative=['이별'])"
   ]
  },
  {
   "cell_type": "code",
   "execution_count": 15,
   "metadata": {},
   "outputs": [
    {
     "name": "stdout",
     "output_type": "stream",
     "text": [
      "[Okt 함수: stem사용하여 어간 추출]\n",
      "['반복', '되다', '하루', '살다', '일', '에', '지치다', '때', '면', '내다', '말', '하다', '항상', '그대', '의', '지치다', '마음', '에', '조그만', '위로', '돼다', '요즘', '유행', '하다', '영화', '보고', '플', '땐', '내다', '말', '하다', '내겐', '그대', '의', '작다', '부탁', '조차도', '조그만', '행복', '이', '죠', '아무렇다', '약속', '도', '없다', '일요일', '오후', '늦다', '잠', '에서', '깨', '이유', '없이', '괜히', '서글퍼지다', '땐', '그대', '곁', '엔', '세상', '누구', '보다', '그', '대다', '이해', '하다', '내', '자신', '보다', '그', '대다', '먼저', '생각', '하다', '사람', '이', '있다', '오랫동안', '항상', '지키다', '오다', '그대', '빈자리', '이', '젠', '들어오다', '편하다', '쉬다', '혼자', '서', '밥', '먹기', '싫다', '땐', '다른', '사람', '찾다', '말다', '내겐', '그대', '의', '짜증', '섞이다', '투', '정도', '조그만', '기쁨', '이', '죠', '아무렇다', '약속', '도', '없다', '일요일', '오후', '누군가', '만나다', '하루', '종일', '거릴', '걷다', '싶다', '땐', '그대', '곁', '엔', '세상', '누구', '보다', '그', '대다', '이해', '하다', '내', '자신', '보다', '그', '대다', '먼저', '생각', '하다', '사람', '이', '있다', '오랫동안', '항상', '지키다', '오다', '그대', '빈자리', '이', '젠', '들어오다', '편하다', '쉬다']\n",
      "[OKt nouns 함수]\n",
      "['반복', '하루', '일', '때', '말', '항상', '그대', '마음', '조그만', '위로', '요즘', '유행', '영화', '보고', '땐', '말', '내겐', '그대', '부탁', '조그만', '행복', '약속', '일요일', '오후', '잠', '깨', '이유', '땐', '그대', '곁', '세상', '누구', '그', '이해', '내', '자신', '그', '먼저', '생각', '사람', '항상', '그대', '빈자리', '젠', '혼자', '밥', '먹기', '땐', '다른', '사람', '내겐', '그대', '짜증', '투', '정도', '조그만', '기쁨', '약속', '일요일', '오후', '누군가', '하루', '종일', '거릴', '땐', '그대', '곁', '세상', '누구', '그', '이해', '내', '자신', '그', '먼저', '생각', '사람', '항상', '그대', '빈자리', '젠']\n",
      "[Okt phrases 함수]\n",
      "['반복', '반복된 하루', '반복된 하루 사는 일', '항상', '항상 그대', '항상 그대의 지쳐있는 마음', '조그만', '조그만 위로', '요즘', '요즘 유행', '요즘 유행하는 영화', '요즘 유행하는 영화 보고', '내겐', '내겐 그대', '내겐 그대의 작은 부탁', '조그만 행복이', '아무런 약속', '없는 일요일', '없는 일요일 오후', '깨 이유', '땐 그대', '땐 그대 곁', '세상', '세상 누구', '그댈 이해', '그댈 이해하는 내', '그댈 이해하는 내 자신', '그댈 먼저', '그댈 먼저 생각', '그댈 먼저 생각하는 사람', '그대', '그대 빈자리', '그대 빈자리 이젠', '혼자', '밥 먹기', '밥 먹기 싫을 땐', '밥 먹기 싫을 땐 다른', '밥 먹기 싫을 땐 다른 사람', '내겐 그대의 짜증', '내겐 그대의 짜증 섞인 투정도', '내겐 그대의 짜증 섞인 투정도 조그만', '내겐 그대의 짜증 섞인 투정도 조그만 기쁨이', '없는 일요일 오후 누군가', '하루', '하루 종일', '하루 종일 거릴', '마음', '위로', '유행', '영화', '보고', '부탁', '행복이', '약속', '일요일', '오후', '이유', '누구', '이해', '자신', '먼저', '생각', '사람', '빈자리', '이젠', '먹기', '다른', '짜증', '정도', '기쁨이', '누군가', '종일', '거릴']\n",
      "[Okt pos 함수]\n",
      "[('반복', 'Noun'), ('된', 'Verb'), ('하루', 'Noun'), ('사는', 'Verb'), ('일', 'Noun'), ('에', 'Josa'), ('지칠', 'Verb'), ('때', 'Noun'), ('면', 'Josa'), ('내게', 'Verb'), ('말', 'Noun'), ('해요', 'Verb'), ('항상', 'Noun'), ('그대', 'Noun'), ('의', 'Josa'), ('지쳐있는', 'Verb'), ('마음', 'Noun'), ('에', 'Josa'), ('조그만', 'Noun'), ('위로', 'Noun'), ('돼줄게요', 'Verb'), ('요즘', 'Noun'), ('유행', 'Noun'), ('하는', 'Verb'), ('영화', 'Noun'), ('보고', 'Noun'), ('플', 'Exclamation'), ('땐', 'Noun'), ('내게', 'Verb'), ('말', 'Noun'), ('해요', 'Verb'), ('내겐', 'Noun'), ('그대', 'Noun'), ('의', 'Josa'), ('작은', 'Adjective'), ('부탁', 'Noun'), ('조차도', 'Josa'), ('조그만', 'Noun'), ('행복', 'Noun'), ('이', 'Suffix'), ('죠', 'Josa'), ('아무런', 'Adjective'), ('약속', 'Noun'), ('도', 'Josa'), ('없는', 'Adjective'), ('일요일', 'Noun'), ('오후', 'Noun'), ('늦게', 'Verb'), ('잠', 'Noun'), ('에서', 'Josa'), ('깨', 'Noun'), ('이유', 'Noun'), ('없이', 'Adverb'), ('괜히', 'Adverb'), ('서글퍼질', 'Verb'), ('땐', 'Noun'), ('그대', 'Noun'), ('곁', 'Noun'), ('엔', 'Josa'), ('세상', 'Noun'), ('누구', 'Noun'), ('보다', 'Josa'), ('그', 'Noun'), ('댈', 'Verb'), ('이해', 'Noun'), ('하는', 'Verb'), ('내', 'Noun'), ('자신', 'Noun'), ('보다', 'Josa'), ('그', 'Noun'), ('댈', 'Verb'), ('먼저', 'Noun'), ('생각', 'Noun'), ('하는', 'Verb'), ('사람', 'Noun'), ('이', 'Josa'), ('있죠', 'Adjective'), ('오랫동안', 'Adverb'), ('항상', 'Noun'), ('지켜', 'Verb'), ('왔죠', 'Verb'), ('그대', 'Noun'), ('빈자리', 'Noun'), ('이', 'Determiner'), ('젠', 'Noun'), ('들어와', 'Verb'), ('편히', 'Adjective'), ('쉬어요', 'Verb'), ('혼자', 'Noun'), ('서', 'Josa'), ('밥', 'Noun'), ('먹기', 'Noun'), ('싫을', 'Adjective'), ('땐', 'Noun'), ('다른', 'Noun'), ('사람', 'Noun'), ('찾지', 'Verb'), ('말아요', 'Verb'), ('내겐', 'Noun'), ('그대', 'Noun'), ('의', 'Josa'), ('짜증', 'Noun'), ('섞인', 'Verb'), ('투', 'Noun'), ('정도', 'Noun'), ('조그만', 'Noun'), ('기쁨', 'Noun'), ('이', 'Suffix'), ('죠', 'Josa'), ('아무런', 'Adjective'), ('약속', 'Noun'), ('도', 'Josa'), ('없는', 'Adjective'), ('일요일', 'Noun'), ('오후', 'Noun'), ('누군가', 'Noun'), ('만나서', 'Verb'), ('하루', 'Noun'), ('종일', 'Noun'), ('거릴', 'Noun'), ('걷고', 'Verb'), ('싶을', 'Verb'), ('땐', 'Noun'), ('그대', 'Noun'), ('곁', 'Noun'), ('엔', 'Josa'), ('세상', 'Noun'), ('누구', 'Noun'), ('보다', 'Josa'), ('그', 'Noun'), ('댈', 'Verb'), ('이해', 'Noun'), ('하는', 'Verb'), ('내', 'Noun'), ('자신', 'Noun'), ('보다', 'Josa'), ('그', 'Noun'), ('댈', 'Verb'), ('먼저', 'Noun'), ('생각', 'Noun'), ('하는', 'Verb'), ('사람', 'Noun'), ('이', 'Josa'), ('있죠', 'Adjective'), ('오랫동안', 'Adverb'), ('항상', 'Noun'), ('지켜', 'Verb'), ('왔죠', 'Verb'), ('그대', 'Noun'), ('빈자리', 'Noun'), ('이', 'Determiner'), ('젠', 'Noun'), ('들어와', 'Verb'), ('편히', 'Adjective'), ('쉬어요', 'Verb')]\n"
     ]
    }
   ],
   "source": [
    "okt = Okt()\n",
    "text = indif.loc[0,'가사']\n",
    "\n",
    "print(\"[Okt 함수: stem사용하여 어간 추출]\")\n",
    "result_stem = okt.morphs(text, stem= True)\n",
    "print(result_stem )\n",
    "\n",
    "print(\"[OKt nouns 함수]\")\n",
    "result_nouns = okt.nouns(text)\n",
    "print(result_nouns)\n",
    "\n",
    "print(\"[Okt phrases 함수]\")\n",
    "result_phrases = okt.phrases(text)\n",
    "print(result_phrases)\n",
    "\n",
    "print(\"[Okt pos 함수]\")\n",
    "result_pod = okt.pos(text)\n",
    "print(result_pod)"
   ]
  },
  {
   "cell_type": "code",
   "execution_count": null,
   "metadata": {},
   "outputs": [],
   "source": []
  }
 ],
 "metadata": {
  "kernelspec": {
   "display_name": "Python 3.7.13 ('python2')",
   "language": "python",
   "name": "python3"
  },
  "language_info": {
   "codemirror_mode": {
    "name": "ipython",
    "version": 3
   },
   "file_extension": ".py",
   "mimetype": "text/x-python",
   "name": "python",
   "nbconvert_exporter": "python",
   "pygments_lexer": "ipython3",
   "version": "3.7.13"
  },
  "orig_nbformat": 4,
  "vscode": {
   "interpreter": {
    "hash": "32a6e990c54b8aedea55d9f644f5b71e71549db4552cfafb8e4d9a3d07f10878"
   }
  }
 },
 "nbformat": 4,
 "nbformat_minor": 2
}
