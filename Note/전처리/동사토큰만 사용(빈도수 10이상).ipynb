{
 "cells": [
  {
   "cell_type": "code",
   "execution_count": 1,
   "metadata": {},
   "outputs": [],
   "source": [
    "# !pip install gensim"
   ]
  },
  {
   "cell_type": "code",
   "execution_count": 2,
   "metadata": {},
   "outputs": [],
   "source": [
    "import pandas as pd\n",
    "from konlpy.tag import Okt\n",
    "from gensim.models import word2vec\n",
    "import matplotlib.pyplot as plt\n",
    "import nltk # national language tool kit\n",
    "from wordcloud import WordCloud\n",
    "\n",
    "t = Okt()"
   ]
  },
  {
   "cell_type": "code",
   "execution_count": 3,
   "metadata": {},
   "outputs": [],
   "source": [
    "# train_data불러오기\n",
    "train = pd.read_csv(\"../../Data/train_data.csv\")"
   ]
  },
  {
   "cell_type": "code",
   "execution_count": 4,
   "metadata": {},
   "outputs": [],
   "source": [
    "train_list = []\n",
    "for i in range(0, 80):\n",
    "    train_list.append(train['가사'][i])"
   ]
  },
  {
   "cell_type": "code",
   "execution_count": 5,
   "metadata": {},
   "outputs": [
    {
     "data": {
      "text/plain": [
       "80"
      ]
     },
     "execution_count": 5,
     "metadata": {},
     "output_type": "execute_result"
    }
   ],
   "source": [
    "len(train_list)"
   ]
  },
  {
   "cell_type": "code",
   "execution_count": 6,
   "metadata": {},
   "outputs": [],
   "source": [
    "# 한글 폰트 문제 해결 \n",
    "# matplotlib은 한글 폰트를 지원하지 않음\n",
    "# os정보\n",
    "import platform\n",
    "\n",
    "# font_manager : 폰트 관리 모듈\n",
    "# rc : 폰트 변경 모듈\n",
    "from matplotlib import font_manager, rc\n",
    "# unicode 설정\n",
    "plt.rcParams['axes.unicode_minus'] = False\n",
    "\n",
    "if platform.system() == 'Darwin':\n",
    "    rc('font', family='AppleGothic') # os가 macos\n",
    "elif platform.system() == 'Windows':\n",
    "    path = 'c:/Windows/Fonts/malgun.ttf' # os가 windows\n",
    "    font_name = font_manager.FontProperties(fname=path).get_name()\n",
    "    rc('font', family=font_name)\n",
    "else:\n",
    "    print(\"Unknown System\")"
   ]
  },
  {
   "cell_type": "markdown",
   "metadata": {},
   "source": [
    "---\n",
    "# 동사토큰"
   ]
  },
  {
   "cell_type": "code",
   "execution_count": 7,
   "metadata": {},
   "outputs": [],
   "source": [
    "# 텍스를 한 줄씩 처리하기\n",
    "twitter = Okt()\n",
    "results3 = []\n",
    "lines = train_list\n",
    "for line in lines:\n",
    "    # 형태소 분석하기\n",
    "    train_malist = twitter.pos(line,norm=True,stem=True) # 단어의 기본형 사용\n",
    "    r = []\n",
    "    for word in train_malist:\n",
    "        # 어미, 조사, 구두점 등은 대상에서 제외\n",
    "        if word[1] in [\"Verb\"]:\n",
    "            if word[0] != \"n\":\n",
    "                r.append(word[0])\n",
    "    rl3 = (\" \".join(r).strip())\n",
    "    \n",
    "    results3.append(rl3)\n",
    "    #print(rl)"
   ]
  },
  {
   "cell_type": "code",
   "execution_count": 8,
   "metadata": {},
   "outputs": [],
   "source": [
    "token_list3 = str(results3).split(\" \")"
   ]
  },
  {
   "cell_type": "code",
   "execution_count": 9,
   "metadata": {},
   "outputs": [],
   "source": [
    "# 불용어 추가\n",
    "stop_words3 = ['하다','찬','나','너','걸','수','다시다','내','고서','안','거','그','누구','보나','두','알','코','이','젠'\\\n",
    "                ,'난','해','널',',',\"''\",'곳',\"안녕',\",\"젤\",\"'나르다\",\"나다\",'내다','잘',\"그대\",\"사람\",\"하나요\",\"안녕']\"\\\n",
    "                ,\"['나르다\",\"'하다\",\"하다',기다리다',\",\"싶다',\",\"싶다',\",\"'보다\",\"오다',\",\"'만나다\",\"'나다\",\"안다',\",\"'만들다\",\\\n",
    "                \"'오다\",\"'내다\",\"보다',\",\"'어리다\",\"해주다',\",\"'잊다\",\"'내리다\",\"돌아오다',\",\"'걷다\",\"돼다',\",\"쉬다',\",\"주다',\",\\\n",
    "                \"가다',\",\"하다',\",\"이다\",\"기다리다',\",\"'이다\",\"대다\",\"남다\",\"잖다\",\"불다\",\"외다\",\"써다\"\n",
    "                ]\n",
    "token_ko3 = [each_word for each_word in token_list3 if each_word not in stop_words3]\n"
   ]
  },
  {
   "cell_type": "code",
   "execution_count": 10,
   "metadata": {},
   "outputs": [
    {
     "data": {
      "text/plain": [
       "[('보다', 125),\n",
       " ('않다', 85),\n",
       " ('나르다', 63),\n",
       " ('오다', 56),\n",
       " ('잊다', 54),\n",
       " ('되다', 53),\n",
       " ('싶다', 53),\n",
       " ('만나다', 38),\n",
       " ('주다', 37),\n",
       " ('지우다', 36),\n",
       " ('버리다', 35),\n",
       " ('보내다', 35),\n",
       " ('돼다', 33),\n",
       " ('가다', 33),\n",
       " ('모르다', 31),\n",
       " ('웃다', 31),\n",
       " ('차다', 29),\n",
       " ('알다', 28),\n",
       " ('해주다', 28),\n",
       " ('말다', 27),\n",
       " ('돌아오다', 27),\n",
       " ('기다리다', 25),\n",
       " ('자다', 24),\n",
       " ('걷다', 23),\n",
       " ('들다', 22),\n",
       " ('걸다', 21),\n",
       " ('떠나다', 21),\n",
       " ('헤어지다', 21),\n",
       " ('부르다', 20),\n",
       " ('갈다', 17),\n",
       " ('지내다', 17),\n",
       " ('만들다', 16),\n",
       " ('서다', 15),\n",
       " ('바라보다', 14),\n",
       " ('그리다', 14),\n",
       " ('바라다', 14),\n",
       " ('찾다', 13),\n",
       " ('끝나다', 13),\n",
       " ('해보다', 13),\n",
       " ('지키다', 13),\n",
       " ('멈추다', 12),\n",
       " ('밝다', 12),\n",
       " ('멀어지다', 12),\n",
       " ('애쓰다', 12),\n",
       " ('들리다', 12),\n",
       " ('믿다', 12),\n",
       " ('보이다', 12),\n",
       " ('쉬다', 12),\n",
       " ('떨리다', 11),\n",
       " ('머물다', 11),\n",
       " ('견디다', 11),\n",
       " ('따르다', 11),\n",
       " ('뜨다', 11),\n",
       " ('안다', 11),\n",
       " ('느끼다', 10),\n",
       " ('지다', 10),\n",
       " ('추다', 10),\n",
       " ('지나다', 10),\n",
       " ('잡다', 10),\n",
       " ('다가가다', 9),\n",
       " ('나오다', 9),\n",
       " ('듣다', 9),\n",
       " ('되어다', 9),\n",
       " ('놓다', 9),\n",
       " ('떠나가다', 9),\n",
       " ('맞추다', 8),\n",
       " ('흐르다', 8),\n",
       " ('붙잡다', 8),\n",
       " ('지나치다', 8),\n",
       " ('이르다', 8),\n",
       " ('느껴지다', 8),\n",
       " ('끄다', 8),\n",
       " ('채우다', 8),\n",
       " ('미우다', 8),\n",
       " ('돌아보다', 8),\n",
       " ('이뤄지다', 8),\n",
       " ('달래다', 8),\n",
       " ('비추다', 7),\n",
       " ('스치다', 7),\n",
       " ('흘리다', 7),\n",
       " ('지치다', 7),\n",
       " ('버티다', 7),\n",
       " ('커지다', 7),\n",
       " ('사라지다', 7),\n",
       " ('잊혀지다', 7),\n",
       " ('두다', 7),\n",
       " ('빛나다', 6),\n",
       " ('기대다', 6),\n",
       " ('아끼다', 6),\n",
       " ('떠오르다', 6),\n",
       " ('돌아서다', 6),\n",
       " ('울리다', 6),\n",
       " ('참다', 6),\n",
       " ('따다', 6),\n",
       " ('불어오다', 6),\n",
       " ('젖다', 6),\n",
       " ('돌아가다', 6),\n",
       " ('맞다', 6),\n",
       " ('잘해주다', 6),\n",
       " ('들려오다', 6),\n",
       " ('지나가다', 6),\n",
       " ('다가오다', 6),\n",
       " ('어리다', 6),\n",
       " ('끝내다', 6),\n",
       " ('소리치다', 6),\n",
       " ('도망가다', 6),\n",
       " ('내리다', 5),\n",
       " ('지르다', 5),\n",
       " ('감다', 5),\n",
       " ('건지다', 5),\n",
       " ('비우다', 5),\n",
       " ('무너지다', 5),\n",
       " ('줄다', 5),\n",
       " ('생각나다', 5),\n",
       " ('가져가다', 5),\n",
       " ('헤매다', 5),\n",
       " ('남겨지다', 5),\n",
       " ('안기다', 5),\n",
       " ('울다', 5),\n",
       " ('빠지다', 4),\n",
       " ('이루다', 4),\n",
       " ('닿다', 4),\n",
       " ('잃다', 4),\n",
       " ('익숙해지다', 4),\n",
       " ('꿈꾸다', 4),\n",
       " ('떠올리다', 4),\n",
       " ('잠들다', 4),\n",
       " ('손잡다', 4),\n",
       " ('여기다', 4),\n",
       " ('가버리다', 4),\n",
       " ('가보다', 4),\n",
       " ('살다', 4),\n",
       " ('남기다', 4),\n",
       " ('가지다', 4),\n",
       " ('엇갈리다', 4),\n",
       " ('받다', 4),\n",
       " ('되돌리다', 4),\n",
       " ('숨다', 4),\n",
       " ('빌다', 4),\n",
       " ('돌다', 4),\n",
       " ('감추다', 4),\n",
       " ('다투다', 3),\n",
       " ('담다', 3),\n",
       " ('겠다', 3),\n",
       " ('지피다', 3),\n",
       " ('던지다', 3),\n",
       " ('잠자다', 3),\n",
       " ('나서다', 3),\n",
       " ('들어오다', 3),\n",
       " ('녹아내리다', 3),\n",
       " ('달려가다', 3),\n",
       " ('기다', 3),\n",
       " ('숨기다', 3),\n",
       " ('날리다', 3),\n",
       " ('피다', 3),\n",
       " ('데리다', 3),\n",
       " ('새다', 3),\n",
       " ('날다', 3),\n",
       " ('짓다', 3),\n",
       " ('걸어가다', 3),\n",
       " ('떨어지다', 3),\n",
       " ('들어주다', 3),\n",
       " ('흘러가다', 3),\n",
       " ('흔들다', 3),\n",
       " ('녹다', 3),\n",
       " ('밤새우다', 3),\n",
       " ('낡아지다', 3),\n",
       " ('비치다', 3),\n",
       " ('나누다', 3),\n",
       " ('뱉다', 3),\n",
       " ('지워지다', 3),\n",
       " ('잘살다', 3),\n",
       " ('늦다', 3),\n",
       " ('삼키다', 3),\n",
       " ('흔들리다', 3),\n",
       " ('어두워지다', 3),\n",
       " ('쓰다', 3),\n",
       " ('돌리다', 3),\n",
       " ('찾아오다', 3),\n",
       " ('움켜쥐다', 3),\n",
       " ('쫓다', 3),\n",
       " ('끼다', 3),\n",
       " ('쏟아내다', 3),\n",
       " ('찢어지다', 3),\n",
       " ('배우다', 3),\n",
       " ('갇히다', 3),\n",
       " ('작아지다', 3),\n",
       " ('누르다', 3),\n",
       " ('덜다', 3),\n",
       " ('뛰다', 2),\n",
       " ('마주치다', 2),\n",
       " ('품다', 2),\n",
       " ('반짝이다', 2),\n",
       " ('내미다', 2),\n",
       " ('뛰어가다', 2),\n",
       " ('차오르다', 2),\n",
       " ('건네다', 2),\n",
       " ('바뀌다', 2),\n",
       " ('기억나다', 2),\n",
       " ('닦다', 2),\n",
       " ('많아지다', 2),\n",
       " ('질리다', 2),\n",
       " ('크다', 2),\n",
       " ('풀다', 2),\n",
       " ('쏟아지다', 2),\n",
       " ('웅크리다', 2),\n",
       " ('지리다', 2),\n",
       " ('달라지다', 2),\n",
       " ('괴롭히다', 2),\n",
       " ('갖다', 2),\n",
       " ('미루다', 2),\n",
       " ('살아가다', 2),\n",
       " ('외치다', 2),\n",
       " ('늘다', 2),\n",
       " ('사무치다', 2),\n",
       " ('앉다', 2),\n",
       " ('서두르다', 2),\n",
       " ('잦다', 2),\n",
       " ('읽다', 2),\n",
       " ('메다', 2),\n",
       " ('쓰다듬다', 2),\n",
       " ('줍다', 2),\n",
       " ('치다', 2),\n",
       " ('그치다', 2),\n",
       " ('벌리다', 2),\n",
       " ('달려오다', 2),\n",
       " ('태어나다', 2),\n",
       " ('나아지다', 2),\n",
       " ('다녀가다', 2),\n",
       " ('열리다', 2),\n",
       " ('가까워지다', 2),\n",
       " (\"['만나다\", 1),\n",
       " ('거닐다', 1),\n",
       " ('춤추다', 1),\n",
       " (\"'배우다\", 1),\n",
       " (\"느끼다',\", 1),\n",
       " (\"'가보다\", 1),\n",
       " ('들어가다', 1),\n",
       " (\"잠자다',\", 1),\n",
       " (\"'돌다\", 1),\n",
       " (\"바라보다',\", 1),\n",
       " (\"'빗나가다\", 1),\n",
       " ('일어나다', 1),\n",
       " (\"믿다',\", 1),\n",
       " (\"피다',\", 1),\n",
       " ('달다', 1),\n",
       " ('달리다', 1),\n",
       " (\"'지치다\", 1),\n",
       " ('만지다', 1),\n",
       " ('덮다', 1),\n",
       " ('기울이다', 1),\n",
       " (\"듣다',\", 1),\n",
       " (\"'고르다\", 1),\n",
       " ('쌓이다', 1),\n",
       " (\"잠들다',\", 1),\n",
       " ('부추기다', 1),\n",
       " ('벗다', 1),\n",
       " ('버려지다', 1),\n",
       " (\"'애쓰다\", 1),\n",
       " ('건내다', 1),\n",
       " ('고치다', 1),\n",
       " ('뒤척거리다', 1),\n",
       " ('씻다', 1),\n",
       " (\"모르다',\", 1),\n",
       " (\"'살아오다\", 1),\n",
       " (\"다가가다',\", 1),\n",
       " (\"'따다\", 1),\n",
       " ('들키다', 1),\n",
       " (\"'불어오다\", 1),\n",
       " ('반기다', 1),\n",
       " ('속삭이다', 1),\n",
       " (\"줄다',\", 1),\n",
       " (\"'들어오다\", 1),\n",
       " (\"빠지다',\", 1),\n",
       " ('아른거리다', 1),\n",
       " ('모자라다', 1),\n",
       " ('움츠리다', 1),\n",
       " ('알아주다', 1),\n",
       " ('뛰어놀다', 1),\n",
       " ('따라가다', 1),\n",
       " ('놀다', 1),\n",
       " (\"떠오르다',\", 1),\n",
       " (\"'떨어지다\", 1),\n",
       " ('토닥이다', 1),\n",
       " (\"차다',\", 1),\n",
       " (\"'떠보다\", 1),\n",
       " ('흘러나오다', 1),\n",
       " ('다리다', 1),\n",
       " ('떠보다', 1),\n",
       " ('중얼거리다', 1),\n",
       " ('깨어나다', 1),\n",
       " ('찢다', 1),\n",
       " ('밟다', 1),\n",
       " (\"떠보다',\", 1),\n",
       " (\"'들다\", 1),\n",
       " (\"무너지다',\", 1),\n",
       " (\"'헤어지다\", 1),\n",
       " (\"'돌아보다\", 1),\n",
       " ('돌이키다', 1),\n",
       " (\"잊혀지다',\", 1),\n",
       " ('먹다', 1),\n",
       " (\"끄다',\", 1),\n",
       " (\"'지우다\", 1),\n",
       " ('벗어나다', 1),\n",
       " (\"늘다',\", 1),\n",
       " (\"'끝나다\", 1),\n",
       " ('읊조리다', 1),\n",
       " ('올라가다', 1),\n",
       " (\"나다',\", 1),\n",
       " (\"'지나다\", 1),\n",
       " (\"비우다',\", 1),\n",
       " (\"'알아보다\", 1),\n",
       " ('찾아내다', 1),\n",
       " ('채다', 1),\n",
       " ('맡다', 1),\n",
       " ('솟다', 1),\n",
       " (\"'미루다\", 1),\n",
       " ('찾아가다', 1),\n",
       " (\"보내다',\", 1),\n",
       " ('마음잡다', 1),\n",
       " ('내려가다', 1),\n",
       " (\"지우다',\", 1),\n",
       " ('물어보다', 1),\n",
       " (\"흐르다',\", 1),\n",
       " ('둘러보다', 1),\n",
       " ('들썩이다', 1),\n",
       " ('놓치다', 1),\n",
       " (\"'늦추다\", 1),\n",
       " (\"사라지다',\", 1),\n",
       " ('짙어지다', 1),\n",
       " (\"미우다',\", 1),\n",
       " (\"'불다\", 1),\n",
       " (\"'대다\", 1),\n",
       " ('건너오다', 1),\n",
       " ('눈감다', 1),\n",
       " ('내려앉다', 1),\n",
       " ('움직이다', 1),\n",
       " ('다독이다', 1),\n",
       " ('투덜대다', 1),\n",
       " ('붙다', 1),\n",
       " ('씻기다', 1),\n",
       " ('널다', 1),\n",
       " ('식다', 1),\n",
       " (\"'다가오다\", 1),\n",
       " ('울먹이다', 1),\n",
       " ('기울다', 1),\n",
       " ('머뭇거리다', 1),\n",
       " (\"'앉다\", 1),\n",
       " (\"삼키다',\", 1),\n",
       " ('어울리다', 1),\n",
       " ('떨다', 1),\n",
       " ('세우다', 1),\n",
       " ('태우다', 1),\n",
       " ('서성이다', 1),\n",
       " (\"'달아나다\", 1),\n",
       " ('쓸다', 1),\n",
       " ('그려지다', 1),\n",
       " (\"말다',\", 1),\n",
       " (\"'싸우다\", 1),\n",
       " ('지켜보다', 1),\n",
       " ('담기다', 1),\n",
       " (\"않다',\", 1),\n",
       " (\"'떠나다\", 1),\n",
       " (\"'주고받다\", 1),\n",
       " (\"밝다',\", 1),\n",
       " (\"'외우다\", 1),\n",
       " ('꾸다', 1),\n",
       " ('깨우다', 1),\n",
       " (\"'되다\", 1),\n",
       " ('서글퍼지다', 1),\n",
       " ('섞이다', 1),\n",
       " (\"기대다',\", 1),\n",
       " ('감싸다', 1),\n",
       " (\"채우다',\", 1),\n",
       " ('묻히다', 1),\n",
       " (\"잊다',\", 1),\n",
       " (\"'비다\", 1),\n",
       " ('끊기다', 1),\n",
       " ('갈라지다', 1),\n",
       " ('도망치다', 1),\n",
       " (\"만나다',\", 1),\n",
       " (\"견디다',\", 1),\n",
       " (\"'잃다\", 1),\n",
       " ('나가다', 1),\n",
       " ('눕다', 1),\n",
       " ('잠기다', 1),\n",
       " (\"'크다\", 1),\n",
       " ('키우다', 1),\n",
       " ('묻다', 1),\n",
       " ('끌어당기다', 1),\n",
       " ('파고들다', 1),\n",
       " ('꺼지다', 1),\n",
       " ('가벼워지다', 1),\n",
       " ('할퀴다', 1),\n",
       " ('깎다', 1),\n",
       " ('아물다', 1),\n",
       " ('닮다', 1),\n",
       " (\"'따르다\", 1),\n",
       " ('비다', 1),\n",
       " (\"그치다',\", 1),\n",
       " (\"'해주다\", 1),\n",
       " ('입다', 1),\n",
       " ('넘어가다', 1),\n",
       " ('맴돌다', 1),\n",
       " ('이기다', 1),\n",
       " (\"내다',\", 1),\n",
       " (\"'태어나다\", 1),\n",
       " ('속이다', 1),\n",
       " (\"기르다',\", 1),\n",
       " (\"'물러나다\", 1),\n",
       " ('들이다', 1),\n",
       " ('포개다', 1),\n",
       " ('친해지다', 1),\n",
       " (\"가보다',\", 1),\n",
       " (\"'닿다\", 1),\n",
       " ('숨쉬다', 1),\n",
       " (\"머물다',\", 1),\n",
       " ('끊어지다', 1),\n",
       " (\"걷다',\", 1),\n",
       " (\"'걸어가다\", 1),\n",
       " (\"되돌리다',\", 1),\n",
       " ('더디다', 1),\n",
       " (\"하다']\", 1)]"
      ]
     },
     "execution_count": 10,
     "metadata": {},
     "output_type": "execute_result"
    }
   ],
   "source": [
    "# 상위 100개 단어 확인\n",
    "ko3 = nltk.Text(token_ko3)\n",
    "ko3.vocab().most_common(500)"
   ]
  },
  {
   "cell_type": "code",
   "execution_count": 11,
   "metadata": {},
   "outputs": [],
   "source": [
    "testing = []\n",
    "for key, val in zip(list(ko3.vocab().keys()),list(ko3.vocab().values())):\n",
    "    if val < 10:\n",
    "        testing.append([key,val])"
   ]
  },
  {
   "cell_type": "code",
   "execution_count": 12,
   "metadata": {},
   "outputs": [
    {
     "data": {
      "text/plain": [
       "364"
      ]
     },
     "execution_count": 12,
     "metadata": {},
     "output_type": "execute_result"
    }
   ],
   "source": [
    "len(testing)"
   ]
  },
  {
   "cell_type": "code",
   "execution_count": 13,
   "metadata": {},
   "outputs": [],
   "source": [
    "testing2 = []\n",
    "for i in range(len(testing)):\n",
    "    testing2.append(str(testing[i][0]))"
   ]
  },
  {
   "cell_type": "code",
   "execution_count": 14,
   "metadata": {},
   "outputs": [
    {
     "data": {
      "text/plain": [
       "[('보다', 125),\n",
       " ('않다', 85),\n",
       " ('나르다', 63),\n",
       " ('오다', 56),\n",
       " ('잊다', 54),\n",
       " ('되다', 53),\n",
       " ('싶다', 53),\n",
       " ('만나다', 38),\n",
       " ('주다', 37),\n",
       " ('지우다', 36),\n",
       " ('버리다', 35),\n",
       " ('보내다', 35),\n",
       " ('돼다', 33),\n",
       " ('가다', 33),\n",
       " ('모르다', 31),\n",
       " ('웃다', 31),\n",
       " ('차다', 29),\n",
       " ('알다', 28),\n",
       " ('해주다', 28),\n",
       " ('말다', 27),\n",
       " ('돌아오다', 27),\n",
       " ('기다리다', 25),\n",
       " ('자다', 24),\n",
       " ('걷다', 23),\n",
       " ('들다', 22),\n",
       " ('걸다', 21),\n",
       " ('떠나다', 21),\n",
       " ('헤어지다', 21),\n",
       " ('부르다', 20),\n",
       " ('갈다', 17),\n",
       " ('지내다', 17),\n",
       " ('만들다', 16),\n",
       " ('서다', 15),\n",
       " ('바라보다', 14),\n",
       " ('그리다', 14),\n",
       " ('바라다', 14),\n",
       " ('찾다', 13),\n",
       " ('끝나다', 13),\n",
       " ('해보다', 13),\n",
       " ('지키다', 13),\n",
       " ('멈추다', 12),\n",
       " ('밝다', 12),\n",
       " ('멀어지다', 12),\n",
       " ('애쓰다', 12),\n",
       " ('들리다', 12),\n",
       " ('믿다', 12),\n",
       " ('보이다', 12),\n",
       " ('쉬다', 12),\n",
       " ('떨리다', 11),\n",
       " ('머물다', 11),\n",
       " ('견디다', 11),\n",
       " ('따르다', 11),\n",
       " ('뜨다', 11),\n",
       " ('안다', 11),\n",
       " ('느끼다', 10),\n",
       " ('지다', 10),\n",
       " ('추다', 10),\n",
       " ('지나다', 10),\n",
       " ('잡다', 10)]"
      ]
     },
     "execution_count": 14,
     "metadata": {},
     "output_type": "execute_result"
    }
   ],
   "source": [
    "# 1번 사용된 언어 지운후 다시 확인\n",
    "token_ko4 = set(ko3.vocab()) - set(testing2)\n",
    "token_ko5 = [each_word for each_word in token_list3 if each_word in token_ko4]\n",
    "ko6 = nltk.Text(token_ko5)\n",
    "ko6.vocab().most_common(500)"
   ]
  },
  {
   "cell_type": "code",
   "execution_count": 15,
   "metadata": {},
   "outputs": [
    {
     "data": {
      "text/plain": [
       "59"
      ]
     },
     "execution_count": 15,
     "metadata": {},
     "output_type": "execute_result"
    }
   ],
   "source": [
    "# 명사 토큰 갯수 (중복제외)\n",
    "len(list(ko6.vocab()))"
   ]
  },
  {
   "cell_type": "code",
   "execution_count": 16,
   "metadata": {},
   "outputs": [
    {
     "data": {
      "image/png": "[encoded data removed]",
      "text/plain": [
       "<Figure size 864x432 with 1 Axes>"
      ]
     },
     "metadata": {
      "needs_background": "light"
     },
     "output_type": "display_data"
    }
   ],
   "source": [
    "# 상위 50개의 빈도수 차트 만들기\n",
    "plt.figure(figsize=(12,6))\n",
    "ko6.plot(50)\n",
    "plt.show()"
   ]
  },
  {
   "cell_type": "code",
   "execution_count": 17,
   "metadata": {},
   "outputs": [],
   "source": [
    "#워드클라우드의 모양 설정. 동사이미지 가져오기\n",
    "import numpy as np\n",
    "from PIL import *\n",
    "cand_mask=np.array(Image.open('../../Data/image/동사3.png'))"
   ]
  },
  {
   "cell_type": "code",
   "execution_count": 19,
   "metadata": {},
   "outputs": [],
   "source": [
    "# 59개 wordcloud로 그리기\n",
    "data4 = ko6.vocab().most_common(100)\n",
    "\n",
    "# 딕셔너리로 만들기\n",
    "tmp_data4 = dict(data4)\n",
    "\n",
    "wordcloud4 = WordCloud(\n",
    "    background_color='White',\n",
    "    colormap= 'gist_earth',\n",
    "    # mask=cand_mask, # 워드클라우드 모양 설정\n",
    "    # font_path= 'c:/Windows/Fonts/malgun.ttf',\n",
    "    relative_scaling= 0.4,\n",
    "    font_path=\"AppleGothic\" \n",
    ").generate_from_frequencies(tmp_data4)"
   ]
  },
  {
   "cell_type": "code",
   "execution_count": 20,
   "metadata": {},
   "outputs": [
    {
     "data": {
      "image/png": "[encoded data removed]",
      "text/plain": [
       "<Figure size 1152x576 with 1 Axes>"
      ]
     },
     "metadata": {
      "needs_background": "light"
     },
     "output_type": "display_data"
    }
   ],
   "source": [
    "plt.figure(figsize=(16,8))\n",
    "plt.imshow(wordcloud4, interpolation='bilinear')\n",
    "plt.axis('off')\n",
    "plt.show()"
   ]
  },
  {
   "cell_type": "code",
   "execution_count": 21,
   "metadata": {},
   "outputs": [
    {
     "data": {
      "text/plain": [
       "59"
      ]
     },
     "execution_count": 21,
     "metadata": {},
     "output_type": "execute_result"
    }
   ],
   "source": [
    "len(ko6.vocab())"
   ]
  },
  {
   "cell_type": "markdown",
   "metadata": {},
   "source": [
    "---\n",
    "# 추출한 토큰 확인하기"
   ]
  },
  {
   "cell_type": "code",
   "execution_count": 22,
   "metadata": {},
   "outputs": [
    {
     "name": "stdout",
     "output_type": "stream",
     "text": [
      "동사토큰 : \n",
      " ['보다', '않다', '나르다', '오다', '잊다', '되다', '싶다', '만나다', '주다', '지우다', '버리다', '보내다', '돼다', '가다', '모르다', '웃다', '차다', '알다', '해주다', '말다', '돌아오다', '기다리다', '자다', '걷다', '들다', '걸다', '떠나다', '헤어지다', '부르다', '갈다', '지내다', '만들다', '서다', '바라보다', '그리다', '바라다', '찾다', '끝나다', '해보다', '지키다', '멈추다', '밝다', '멀어지다', '애쓰다', '들리다', '믿다', '보이다', '쉬다', '떨리다', '머물다', '견디다', '따르다', '뜨다', '안다', '느끼다', '지다', '추다', '지나다', '잡다']  => 동사 토큰 갯수 :  59\n"
     ]
    }
   ],
   "source": [
    "# 동사 토큰\n",
    "print(\"동사토큰 : \\n\",list(ko6.vocab()),\" => 동사 토큰 갯수 : \",len(list(ko6.vocab())))"
   ]
  },
  {
   "cell_type": "code",
   "execution_count": 23,
   "metadata": {},
   "outputs": [],
   "source": [
    "token_sum = list(ko6.vocab())"
   ]
  },
  {
   "cell_type": "markdown",
   "metadata": {},
   "source": [
    "---\n",
    "# 토큰 one hot"
   ]
  },
  {
   "cell_type": "code",
   "execution_count": 24,
   "metadata": {},
   "outputs": [],
   "source": [
    "# !pip install tensorflow"
   ]
  },
  {
   "cell_type": "code",
   "execution_count": 25,
   "metadata": {},
   "outputs": [],
   "source": [
    "from tensorflow import keras"
   ]
  },
  {
   "cell_type": "markdown",
   "metadata": {},
   "source": [
    "- 가사 데이터 okt로 분류하기"
   ]
  },
  {
   "cell_type": "code",
   "execution_count": 27,
   "metadata": {},
   "outputs": [],
   "source": [
    "# 텍스를 한 줄씩 처리하기\n",
    "twitter = Okt() \n",
    "okt_result = []\n",
    "lines = train['가사']\n",
    "for line in lines:\n",
    "    # 형태소 분석하기\n",
    "    train_malist = twitter.pos(line,norm=True,stem=True) # 단어의 기본형 사용\n",
    "    r = []\n",
    "    for word in train_malist:\n",
    "        if word[1] in [\"Verb\"]:\n",
    "            if word[0] != \"n\":\n",
    "                r.append(word[0])\n",
    "    rl3 = (\" \".join(r).strip())\n",
    "    \n",
    "    okt_result.append(rl3)\n",
    "    # print(rl3)"
   ]
  },
  {
   "cell_type": "code",
   "execution_count": 28,
   "metadata": {},
   "outputs": [
    {
     "data": {
      "text/plain": [
       "'만나다 빠지다 거닐다 오다 멈추다 바라보다 맞추다 모르다 오다 밝다 빛나다 기대다 멈추다 버리다 하다 잊다 하다 느끼다 들다 비추다 멈추다 오다 다투다 보다 알다 되다 멈추다 버리다 하다 나르다 보다 지다 담다 하다 나르다 안다'"
      ]
     },
     "execution_count": 28,
     "metadata": {},
     "output_type": "execute_result"
    }
   ],
   "source": [
    "# 동사와 명사로 분리가 잘 되었는지 확인하기\n",
    "okt_result[0]"
   ]
  },
  {
   "cell_type": "code",
   "execution_count": 29,
   "metadata": {},
   "outputs": [],
   "source": [
    "# 인덱스 0은 없는 단어와 padding으로 집어 넣기 나머지 단어들은 1부터 순차적으로 인덱스 부여\n",
    "\n",
    "word_to_index = {word[0] : index + 1 for index, word in enumerate(token_sum)}\n",
    "word_to_index['pad'] = 0 # 패딩용 인덱스 0\n",
    "word_to_index['unk'] = 0 # unknown 용 인덱스 0\n",
    "\n",
    "\n",
    "# 기존 훈련 데이터에서 각 단어를 고유한 정수로 부여\n",
    "encoded = []\n",
    "for line in okt_result: #입력 데이터에서 1줄씩 문장을 읽음\n",
    "    temp = []\n",
    "    for w in line: #각 줄에서 1개씩 글자를 읽음\n",
    "      try:\n",
    "        temp.append(word_to_index[w]) # 글자를 해당되는 정수로 변환\n",
    "      except KeyError: # 단어 집합에 없는 단어일 경우 unk로 대체된다.\n",
    "        temp.append(word_to_index['unk']) # unk의 인덱스로 변환\n",
    "\n",
    "    encoded.append(temp)"
   ]
  },
  {
   "cell_type": "code",
   "execution_count": 30,
   "metadata": {},
   "outputs": [
    {
     "name": "stdout",
     "output_type": "stream",
     "text": [
      "[32, 3, 0, 0, 0, 58, 0, 0, 0, 0, 0, 0, 4, 0, 0, 41, 57, 0, 0, 36, 0, 47, 0, 0, 0, 57, 0, 0, 15, 0, 0, 0, 4, 0, 0, 42, 0, 0, 0, 3, 0, 0, 22, 0, 0, 0, 41, 57, 0, 0, 11, 0, 0, 0, 0, 0, 0, 5, 0, 0, 0, 0, 0, 55, 0, 0, 0, 45, 0, 0, 0, 57, 0, 0, 41, 57, 0, 0, 4, 0, 0, 0, 0, 0, 0, 47, 0, 0, 18, 0, 0, 6, 0, 0, 41, 57, 0, 0, 11, 0, 0, 0, 0, 0, 0, 3, 0, 0, 0, 47, 0, 0, 58, 0, 0, 0, 0, 0, 0, 0, 0, 3, 0, 0, 0, 54, 0]\n"
     ]
    }
   ],
   "source": [
    "print((encoded[0]))"
   ]
  },
  {
   "cell_type": "markdown",
   "metadata": {},
   "source": [
    "---\n",
    "# 전체 길이 padding작업"
   ]
  },
  {
   "cell_type": "code",
   "execution_count": 31,
   "metadata": {},
   "outputs": [],
   "source": [
    "import matplotlib.pyplot as plt"
   ]
  },
  {
   "cell_type": "code",
   "execution_count": 32,
   "metadata": {},
   "outputs": [
    {
     "name": "stdout",
     "output_type": "stream",
     "text": [
      "가사의 최대 길이 : 227\n",
      "가사의 최소 길이 : 60\n",
      "가사의 평균 길이 : 136.125000\n"
     ]
    },
    {
     "data": {
      "image/png": "[encoded data removed]",
      "text/plain": [
       "<Figure size 432x288 with 1 Axes>"
      ]
     },
     "metadata": {
      "needs_background": "light"
     },
     "output_type": "display_data"
    }
   ],
   "source": [
    "# 정해줄 길이를 찾기 위해 가장 긴 리뷰 길이 확인\n",
    "max_length = max(len(l) for l in encoded)\n",
    "print('가사의 최대 길이 : %d' % max_length)\n",
    "print('가사의 최소 길이 : %d' % min(len(l) for l in encoded))\n",
    "print('가사의 평균 길이 : %f' % (sum(map(len, encoded))/len(encoded)))\n",
    "plt.hist([len(s) for s in encoded], bins=50)\n",
    "plt.xlabel('length of sample')\n",
    "plt.ylabel('number of sample')\n",
    "plt.show()"
   ]
  },
  {
   "cell_type": "code",
   "execution_count": 33,
   "metadata": {},
   "outputs": [
    {
     "data": {
      "text/plain": [
       "array([[32,  3,  0, ...,  0,  0,  0],\n",
       "       [32, 45,  0, ...,  0,  0,  0],\n",
       "       [ 0,  0,  0, ...,  0,  0,  0],\n",
       "       ...,\n",
       "       [ 0,  0,  0, ...,  0,  0,  0],\n",
       "       [26,  0, 14, ...,  0,  0,  0],\n",
       "       [ 3,  0,  0, ...,  0,  0,  0]], dtype=int32)"
      ]
     },
     "execution_count": 33,
     "metadata": {},
     "output_type": "execute_result"
    }
   ],
   "source": [
    "# 문장마다 단어 갯수가 다르므로 sequence padding을 넣어서 문장의 길이 동일하게 만들기 \n",
    "# 이거하려고 위에서 단어갯수 체크한거임\n",
    "\n",
    "padding_paragraphs_encoding = keras.preprocessing.sequence.pad_sequences(encoded, maxlen=max_length, padding='post')\n",
    "padding_paragraphs_encoding"
   ]
  },
  {
   "cell_type": "code",
   "execution_count": 34,
   "metadata": {},
   "outputs": [
    {
     "name": "stdout",
     "output_type": "stream",
     "text": [
      "80 227\n"
     ]
    }
   ],
   "source": [
    "print(len(list(padding_paragraphs_encoding)), len(list(padding_paragraphs_encoding)[1]))"
   ]
  },
  {
   "cell_type": "code",
   "execution_count": 35,
   "metadata": {},
   "outputs": [],
   "source": [
    "# 분류항목['happy', 'sad', 'regret', 'indifference']를 수치로 변경하기\n",
    "categories = train['감정'].to_list()\n",
    "\n",
    "def category_encoding(category):\n",
    "    if category == 'happy':\n",
    "        return 0\n",
    "    elif category == 'sad':\n",
    "        return 1\n",
    "    elif category == 'regret':\n",
    "        return 2\n",
    "    else:\n",
    "        return 3"
   ]
  },
  {
   "cell_type": "code",
   "execution_count": 36,
   "metadata": {},
   "outputs": [
    {
     "data": {
      "text/plain": [
       "[0, 0, 0, 0, 0, 0, 0, 0, 0, 0]"
      ]
     },
     "execution_count": 36,
     "metadata": {},
     "output_type": "execute_result"
    }
   ],
   "source": [
    "encoded_category = [category_encoding(category) for category in categories]\n",
    "encoded_category[:10]"
   ]
  },
  {
   "cell_type": "code",
   "execution_count": 37,
   "metadata": {},
   "outputs": [
    {
     "data": {
      "text/plain": [
       "80"
      ]
     },
     "execution_count": 37,
     "metadata": {},
     "output_type": "execute_result"
    }
   ],
   "source": [
    "len(encoded_category)"
   ]
  },
  {
   "cell_type": "markdown",
   "metadata": {},
   "source": [
    "---\n",
    "# 가사 감정 RNN model"
   ]
  },
  {
   "cell_type": "code",
   "execution_count": 38,
   "metadata": {},
   "outputs": [],
   "source": [
    "# train test data 만들기\n",
    "from sklearn.model_selection import train_test_split\n",
    "\n",
    "\n",
    "train_input, test_input, train_target, test_target = train_test_split(\n",
    "    padding_paragraphs_encoding, encoded_category, test_size=0.2\n",
    ")"
   ]
  },
  {
   "cell_type": "code",
   "execution_count": 39,
   "metadata": {},
   "outputs": [],
   "source": [
    "# train val data 만들기\n",
    "train_input, val_input, train_target, val_target = train_test_split(\n",
    "    train_input, train_target, test_size=0.2\n",
    ")"
   ]
  },
  {
   "cell_type": "code",
   "execution_count": 40,
   "metadata": {},
   "outputs": [],
   "source": [
    "import warnings\n",
    "from tensorflow import keras \n",
    "\n",
    "# GPU 사용 설정\n",
    "import os\n",
    "os.environ[\"TF_CPP_MIN_LOG_LEVEL\"] = '1'\n",
    "\n",
    "warnings.filterwarnings('ignore')"
   ]
  },
  {
   "cell_type": "code",
   "execution_count": 41,
   "metadata": {},
   "outputs": [
    {
     "name": "stdout",
     "output_type": "stream",
     "text": [
      "(51, 227) (13, 227)\n"
     ]
    }
   ],
   "source": [
    "print(train_input.shape, val_input.shape)"
   ]
  },
  {
   "cell_type": "code",
   "execution_count": 222,
   "metadata": {},
   "outputs": [],
   "source": [
    "model = keras.Sequential()\n",
    "# 문맥 생성 단계\n",
    "model.add(keras.layers.SimpleRNN(64, input_shape=(227, 60),dropout=0.1))\n",
    "model.add(keras.layers.Dense(4, activation='softmax')) # 문장은 확률값을 구해야하므로"
   ]
  },
  {
   "cell_type": "code",
   "execution_count": 223,
   "metadata": {},
   "outputs": [],
   "source": [
    "import numpy as np"
   ]
  },
  {
   "cell_type": "code",
   "execution_count": 224,
   "metadata": {},
   "outputs": [
    {
     "data": {
      "text/plain": [
       "(51, 227, 60)"
      ]
     },
     "execution_count": 224,
     "metadata": {},
     "output_type": "execute_result"
    }
   ],
   "source": [
    "train_oh = keras.utils.to_categorical(train_input)\n",
    "train_oh.shape"
   ]
  },
  {
   "cell_type": "code",
   "execution_count": 225,
   "metadata": {},
   "outputs": [
    {
     "name": "stdout",
     "output_type": "stream",
     "text": [
      "1.0\n"
     ]
    }
   ],
   "source": [
    "print(np.sum(train_oh[0][0]))"
   ]
  },
  {
   "cell_type": "code",
   "execution_count": 226,
   "metadata": {},
   "outputs": [
    {
     "data": {
      "text/plain": [
       "(13, 227, 60)"
      ]
     },
     "execution_count": 226,
     "metadata": {},
     "output_type": "execute_result"
    }
   ],
   "source": [
    "val_oh = keras.utils.to_categorical(val_input)\n",
    "val_oh.shape"
   ]
  },
  {
   "cell_type": "code",
   "execution_count": 227,
   "metadata": {},
   "outputs": [
    {
     "name": "stdout",
     "output_type": "stream",
     "text": [
      "Model: \"sequential_18\"\n",
      "_________________________________________________________________\n",
      " Layer (type)                Output Shape              Param #   \n",
      "=================================================================\n",
      " simple_rnn_18 (SimpleRNN)   (None, 64)                8000      \n",
      "                                                                 \n",
      " dense_16 (Dense)            (None, 4)                 260       \n",
      "                                                                 \n",
      "=================================================================\n",
      "Total params: 8,260\n",
      "Trainable params: 8,260\n",
      "Non-trainable params: 0\n",
      "_________________________________________________________________\n"
     ]
    }
   ],
   "source": [
    "model.summary()"
   ]
  },
  {
   "cell_type": "code",
   "execution_count": 228,
   "metadata": {},
   "outputs": [
    {
     "name": "stdout",
     "output_type": "stream",
     "text": [
      "Epoch 1/4000\n"
     ]
    }
   ],
   "source": [
    "rmsprop = keras.optimizers.RMSprop(learning_rate=1e-3)\n",
    "model.compile(\n",
    "    optimizer=rmsprop,\n",
    "    loss = 'sparse_categorical_crossentropy',\n",
    "    metrics = 'accuracy'\n",
    "    )\n",
    "\n",
    "checkpoint_cb = keras.callbacks.ModelCheckpoint(\"Data/best-train_rnn-model.h5\")\n",
    "early_stopping_cb = keras.callbacks.EarlyStopping(\n",
    "    patience=5,\n",
    "    restore_best_weights= True\n",
    ")\n",
    "\n",
    "history = model.fit(\n",
    "    np.array(train_oh),\n",
    "    np.array(train_target),\n",
    "    epochs=4000,\n",
    "    #batch_size=64, # mini batch 경사 하강법\n",
    "    validation_data = (np.array(val_oh), np.array(val_target)),\n",
    "    # callbacks = [checkpoint_cb, early_stopping_cb]\n",
    ")"
   ]
  },
  {
   "cell_type": "code",
   "execution_count": 220,
   "metadata": {},
   "outputs": [
    {
     "name": "stdout",
     "output_type": "stream",
     "text": [
      "accuracy : 0.28748366895814736\n",
      "val_accuracy : 0.23671795371671517\n"
     ]
    }
   ],
   "source": [
    "print(\"accuracy :\" , np.mean(history.history['accuracy']))\n",
    "print(\"val_accuracy :\" , np.mean(history.history['val_accuracy']))"
   ]
  },
  {
   "cell_type": "code",
   "execution_count": 221,
   "metadata": {},
   "outputs": [
    {
     "data": {
      "image/png": "[encoded data removed]",
      "text/plain": [
       "<Figure size 1440x360 with 2 Axes>"
      ]
     },
     "metadata": {
      "needs_background": "light"
     },
     "output_type": "display_data"
    }
   ],
   "source": [
    "# 시각화 해보기\n",
    "import matplotlib.pyplot as plt\n",
    "fig = plt.figure(figsize=(20, 5))\n",
    "ax1 = fig.add_subplot(1,2,1) # 1행 2열의 첫번째다.\n",
    "ax2 = fig.add_subplot(1,2,2) # 1행 2열의 두번째다.\n",
    "\n",
    "ax1.plot(history.history['loss'])\n",
    "ax1.plot(history.history['val_loss'])\n",
    "ax2.plot(history.history['accuracy'])\n",
    "ax2.plot(history.history['val_accuracy'])\n",
    "\n",
    "ax1.set_xlabel('epoch')\n",
    "ax2.set_xlabel('epoch')\n",
    "\n",
    "ax1.set_ylabel('loss')\n",
    "ax2.set_ylabel('accuracy')\n",
    "\n",
    "ax1.legend(['train','val'])\n",
    "ax2.legend(['train','val'])\n",
    "\n",
    "\n",
    "ax1.set_title(\"RNN - loss\", size=20)\n",
    "ax2.set_title(\"RNN - accuracy\", size=20)\n",
    "plt.show()"
   ]
  },
  {
   "cell_type": "markdown",
   "metadata": {},
   "source": [
    "---\n",
    "# 빈도수 20이상"
   ]
  },
  {
   "cell_type": "code",
   "execution_count": null,
   "metadata": {},
   "outputs": [],
   "source": [
    "testing_not20 = []\n",
    "for key, val in zip(list(ko3.vocab().keys()),list(ko3.vocab().values())):\n",
    "    if val < 20:\n",
    "        testing_not20.append([key,val])"
   ]
  },
  {
   "cell_type": "code",
   "execution_count": null,
   "metadata": {},
   "outputs": [],
   "source": [
    "len(testing_not20)"
   ]
  },
  {
   "cell_type": "code",
   "execution_count": null,
   "metadata": {},
   "outputs": [],
   "source": [
    "testing_not20_1 = []\n",
    "for i in range(len(testing_not20)):\n",
    "    testing_not20_1.append(str(testing_not20[i][0]))"
   ]
  },
  {
   "cell_type": "code",
   "execution_count": null,
   "metadata": {},
   "outputs": [],
   "source": [
    "# 1번 사용된 언어 지운후 다시 확인\n",
    "token_ko_not20 = set(ko3.vocab()) - set(testing_not20_1)\n",
    "token_ko_not20 = [each_word for each_word in token_list3 if each_word in token_ko_not20]\n",
    "ko7 = nltk.Text(token_ko_not20)\n",
    "ko7.vocab().most_common(500)"
   ]
  },
  {
   "cell_type": "code",
   "execution_count": null,
   "metadata": {},
   "outputs": [],
   "source": [
    "# 상위 50개의 빈도수 차트 만들기\n",
    "plt.figure(figsize=(12,6))\n",
    "ko7.plot(50)\n",
    "plt.show()"
   ]
  },
  {
   "cell_type": "code",
   "execution_count": null,
   "metadata": {},
   "outputs": [],
   "source": [
    "# 29개 wordcloud로 그리기\n",
    "data7 = ko7.vocab().most_common(100)\n",
    "\n",
    "# 딕셔너리로 만들기\n",
    "tmp_data7 = dict(data7)\n",
    "\n",
    "wordcloud7 = WordCloud(\n",
    "    background_color='White',\n",
    "    colormap= 'gist_earth',\n",
    "    # mask=cand_mask, # 워드클라우드 모양 설정\n",
    "    relative_scaling=0.8,\n",
    "    # font_path= 'c:/Windows/Fonts/malgun.ttf',\n",
    "    font_path=\"AppleGothic\" \n",
    ").generate_from_frequencies(tmp_data7)"
   ]
  },
  {
   "cell_type": "code",
   "execution_count": null,
   "metadata": {},
   "outputs": [],
   "source": [
    "plt.figure(figsize=(16,8))\n",
    "plt.imshow(wordcloud7, interpolation='bilinear')\n",
    "plt.axis('off')\n",
    "plt.show()"
   ]
  },
  {
   "cell_type": "code",
   "execution_count": null,
   "metadata": {},
   "outputs": [],
   "source": [
    "# 동사 토큰, 명사 토큰\n",
    "print(\"동사토큰 : \\n\",list(ko7.vocab()),\" => 동사 토큰 갯수 : \",len(list(ko7.vocab())))"
   ]
  },
  {
   "cell_type": "code",
   "execution_count": null,
   "metadata": {},
   "outputs": [],
   "source": [
    "token_sum7 = list(ko7.vocab())"
   ]
  },
  {
   "cell_type": "code",
   "execution_count": null,
   "metadata": {},
   "outputs": [],
   "source": [
    "# 텍스를 한 줄씩 처리하기\n",
    "twitter = Okt() \n",
    "okt_result7 = []\n",
    "lines = train['가사']\n",
    "for line in lines:\n",
    "    # 형태소 분석하기\n",
    "    train_malist7 = twitter.pos(line,norm=True,stem=True) # 단어의 기본형 사용\n",
    "    r = []\n",
    "    for word in train_malist:\n",
    "        if word[1] in [\"Verb\"]:\n",
    "            if word[0] != \"n\":\n",
    "                r.append(word[0])\n",
    "    rl7 = (\" \".join(r).strip())\n",
    "    \n",
    "    okt_result7.append(rl7)\n",
    "print(rl7)"
   ]
  },
  {
   "cell_type": "code",
   "execution_count": null,
   "metadata": {},
   "outputs": [],
   "source": [
    "# 동사와 명사로 분리가 잘 되었는지 확인하기\n",
    "okt_result7[0]"
   ]
  },
  {
   "cell_type": "code",
   "execution_count": null,
   "metadata": {},
   "outputs": [],
   "source": [
    "# 인덱스 0은 없는 단어와 padding으로 집어 넣기 나머지 단어들은 1부터 순차적으로 인덱스 부여\n",
    "\n",
    "word_to_index = {word[0] : index + 1 for index, word in enumerate(token_sum7)}\n",
    "word_to_index['pad'] = 0 # 패딩용 인덱스 0\n",
    "word_to_index['unk'] = 0 # unknown 용 인덱스 0\n",
    "\n",
    "\n",
    "# 기존 훈련 데이터에서 각 단어를 고유한 정수로 부여\n",
    "encoded7 = []\n",
    "for line in okt_result7: #입력 데이터에서 1줄씩 문장을 읽음\n",
    "    temp = []\n",
    "    for w in line: #각 줄에서 1개씩 글자를 읽음\n",
    "      try:\n",
    "        temp.append(word_to_index[w]) # 글자를 해당되는 정수로 변환\n",
    "      except KeyError: # 단어 집합에 없는 단어일 경우 unk로 대체된다.\n",
    "        temp.append(word_to_index['unk']) # unk의 인덱스로 변환\n",
    "\n",
    "    encoded7.append(temp)"
   ]
  },
  {
   "cell_type": "code",
   "execution_count": null,
   "metadata": {},
   "outputs": [],
   "source": [
    "# 정해줄 길이를 찾기 위해 가장 긴 리뷰 길이 확인\n",
    "max_length = max(len(l) for l in encoded7)\n",
    "print('가사의 최대 길이 : %d' % max_length)\n",
    "print('가사의 최소 길이 : %d' % min(len(l) for l in encoded7))\n",
    "print('가사의 평균 길이 : %f' % (sum(map(len, encoded7))/len(encoded7)))\n",
    "plt.hist([len(s) for s in encoded], bins=50)\n",
    "plt.xlabel('length of sample')\n",
    "plt.ylabel('number of sample')\n",
    "plt.show()"
   ]
  },
  {
   "cell_type": "code",
   "execution_count": null,
   "metadata": {},
   "outputs": [],
   "source": [
    "# 문장마다 단어 갯수가 다르므로 sequence padding을 넣어서 문장의 길이 동일하게 만들기 \n",
    "# 이거하려고 위에서 단어갯수 체크한거임\n",
    "\n",
    "padding_paragraphs_encoding7 = keras.preprocessing.sequence.pad_sequences(encoded7, maxlen=max_length, padding='post')\n",
    "padding_paragraphs_encoding7"
   ]
  },
  {
   "cell_type": "code",
   "execution_count": null,
   "metadata": {},
   "outputs": [],
   "source": [
    "print(len(list(padding_paragraphs_encoding7)), len(list(padding_paragraphs_encoding7)[1]))"
   ]
  },
  {
   "cell_type": "code",
   "execution_count": null,
   "metadata": {},
   "outputs": [],
   "source": [
    "# 분류항목['happy', 'sad', 'regret', 'indifference']를 수치로 변경하기\n",
    "categories = train['감정'].to_list()\n",
    "\n",
    "def category_encoding(category):\n",
    "    if category == 'happy':\n",
    "        return 0\n",
    "    elif category == 'sad':\n",
    "        return 1\n",
    "    elif category == 'regret':\n",
    "        return 2\n",
    "    else:\n",
    "        return 3"
   ]
  },
  {
   "cell_type": "code",
   "execution_count": null,
   "metadata": {},
   "outputs": [],
   "source": [
    "encoded_category7 = [category_encoding(category) for category in categories]\n",
    "encoded_category7[:10]"
   ]
  },
  {
   "cell_type": "code",
   "execution_count": null,
   "metadata": {},
   "outputs": [],
   "source": [
    "# train test data 만들기\n",
    "from sklearn.model_selection import train_test_split\n",
    "\n",
    "\n",
    "train_input, test_input, train_target, test_target = train_test_split(\n",
    "    padding_paragraphs_encoding7, encoded_category7, test_size=0.2\n",
    ")"
   ]
  },
  {
   "cell_type": "code",
   "execution_count": null,
   "metadata": {},
   "outputs": [],
   "source": [
    "# train val data 만들기\n",
    "train_input, val_input, train_target, val_target = train_test_split(\n",
    "    train_input, train_target, test_size=0.2\n",
    ")"
   ]
  },
  {
   "cell_type": "code",
   "execution_count": null,
   "metadata": {},
   "outputs": [],
   "source": [
    "model = keras.Sequential()\n",
    "# 문맥 생성 단계\n",
    "model.add(keras.layers.SimpleRNN(64, input_shape=(124, 26)))\n",
    "model.add(keras.layers.Dense(4, activation='softmax')) # 문장은 확률값을 구해야하므로"
   ]
  },
  {
   "cell_type": "code",
   "execution_count": null,
   "metadata": {},
   "outputs": [],
   "source": [
    "train_oh = keras.utils.to_categorical(train_input)\n",
    "train_oh.shape"
   ]
  },
  {
   "cell_type": "code",
   "execution_count": null,
   "metadata": {},
   "outputs": [],
   "source": [
    "val_oh = keras.utils.to_categorical(val_input)\n",
    "val_oh.shape"
   ]
  },
  {
   "cell_type": "code",
   "execution_count": null,
   "metadata": {},
   "outputs": [],
   "source": [
    "model.summary()"
   ]
  },
  {
   "cell_type": "code",
   "execution_count": null,
   "metadata": {},
   "outputs": [],
   "source": [
    "rmsprop = keras.optimizers.RMSprop(learning_rate=1e-4)\n",
    "model.compile(\n",
    "    optimizer=rmsprop,\n",
    "    loss = 'sparse_categorical_crossentropy',\n",
    "    metrics = 'accuracy'\n",
    "    )\n",
    "\n",
    "checkpoint_cb = keras.callbacks.ModelCheckpoint(\"Data/best-train_rnn_over20-model.h5\")\n",
    "early_stopping_cb = keras.callbacks.EarlyStopping(\n",
    "    patience=5,\n",
    "    restore_best_weights= True\n",
    ")\n",
    "\n",
    "history = model.fit(\n",
    "    np.array(train_oh),\n",
    "    np.array(train_target),\n",
    "    epochs=2000,\n",
    "    #batch_size=64, # mini batch 경사 하강법\n",
    "    validation_data = (np.array(val_oh), np.array(val_target)),\n",
    "    # callbacks = [checkpoint_cb, early_stopping_cb]\n",
    ")"
   ]
  },
  {
   "cell_type": "code",
   "execution_count": null,
   "metadata": {},
   "outputs": [],
   "source": [
    "print(\"accuracy :\" , np.mean(history.history['accuracy']))\n",
    "print(\"val_accuracy :\" , np.mean(history.history['val_accuracy']))"
   ]
  },
  {
   "cell_type": "code",
   "execution_count": null,
   "metadata": {},
   "outputs": [],
   "source": [
    "# 시각화 해보기\n",
    "import matplotlib.pyplot as plt\n",
    "fig = plt.figure(figsize=(20, 5))\n",
    "ax1 = fig.add_subplot(1,2,1) # 1행 2열의 첫번째다.\n",
    "ax2 = fig.add_subplot(1,2,2) # 1행 2열의 두번째다.\n",
    "\n",
    "ax1.plot(history.history['loss'])\n",
    "ax1.plot(history.history['val_loss'])\n",
    "ax2.plot(history.history['accuracy'])\n",
    "ax2.plot(history.history['val_accuracy'])\n",
    "\n",
    "ax1.set_xlabel('epoch')\n",
    "ax2.set_xlabel('epoch')\n",
    "\n",
    "ax1.set_ylabel('loss')\n",
    "ax2.set_ylabel('accuracy')\n",
    "\n",
    "ax1.legend(['train','val'])\n",
    "ax2.legend(['train','val'])\n",
    "\n",
    "\n",
    "ax1.set_title(\"RNN - loss\", size=20)\n",
    "ax2.set_title(\"RNN - accuracy\", size=20)\n",
    "plt.show()"
   ]
  },
  {
   "cell_type": "markdown",
   "metadata": {},
   "source": [
    "---\n",
    "# 빈도수 15이상"
   ]
  },
  {
   "cell_type": "code",
   "execution_count": null,
   "metadata": {},
   "outputs": [],
   "source": [
    "testing_not15 = []\n",
    "for key, val in zip(list(ko3.vocab().keys()),list(ko3.vocab().values())):\n",
    "    if val < 15:\n",
    "        testing_not15.append([key,val])"
   ]
  },
  {
   "cell_type": "code",
   "execution_count": null,
   "metadata": {},
   "outputs": [],
   "source": [
    "len(testing_not15)"
   ]
  },
  {
   "cell_type": "code",
   "execution_count": null,
   "metadata": {},
   "outputs": [],
   "source": [
    "testing_not15_1 = []\n",
    "for i in range(len(testing_not15)):\n",
    "    testing_not15_1.append(str(testing_not15[i][0]))"
   ]
  },
  {
   "cell_type": "code",
   "execution_count": null,
   "metadata": {},
   "outputs": [],
   "source": [
    "# 1번 사용된 언어 지운후 다시 확인\n",
    "token_ko_not15 = set(ko3.vocab()) - set(testing_not20_1)\n",
    "token_ko_not15 = [each_word for each_word in token_list3 if each_word in token_ko_not15]\n",
    "ko8 = nltk.Text(token_ko_not15)\n",
    "len(ko8.vocab().most_common(500))"
   ]
  },
  {
   "cell_type": "code",
   "execution_count": null,
   "metadata": {},
   "outputs": [],
   "source": [
    "# 상위 50개의 빈도수 차트 만들기\n",
    "plt.figure(figsize=(12,6))\n",
    "ko8.plot(100)\n",
    "plt.show()"
   ]
  },
  {
   "cell_type": "code",
   "execution_count": null,
   "metadata": {},
   "outputs": [],
   "source": [
    "# 29개 wordcloud로 그리기\n",
    "data8 = ko8.vocab().most_common(100)\n",
    "\n",
    "# 딕셔너리로 만들기\n",
    "tmp_data8 = dict(data8)\n",
    "\n",
    "wordcloud8 = WordCloud(\n",
    "    background_color='White',\n",
    "    colormap= 'gist_earth',\n",
    "    # mask=cand_mask, # 워드클라우드 모양 설정\n",
    "    relative_scaling=0.8,\n",
    "    # font_path= 'c:/Windows/Fonts/malgun.ttf',\n",
    "    font_path=\"AppleGothic\" \n",
    ").generate_from_frequencies(tmp_data8)"
   ]
  },
  {
   "cell_type": "code",
   "execution_count": null,
   "metadata": {},
   "outputs": [],
   "source": [
    "plt.figure(figsize=(16,8))\n",
    "plt.imshow(wordcloud8, interpolation='bilinear')\n",
    "plt.axis('off')\n",
    "plt.show()"
   ]
  },
  {
   "cell_type": "code",
   "execution_count": null,
   "metadata": {},
   "outputs": [],
   "source": [
    "# 동사 토큰, 명사 토큰\n",
    "print(\"동사토큰 : \\n\",list(ko8.vocab()),\" => 동사 토큰 갯수 : \",len(list(ko8.vocab())))"
   ]
  },
  {
   "cell_type": "code",
   "execution_count": null,
   "metadata": {},
   "outputs": [],
   "source": [
    "token_sum8 = list(ko8.vocab())"
   ]
  },
  {
   "cell_type": "code",
   "execution_count": null,
   "metadata": {},
   "outputs": [],
   "source": [
    "# 텍스를 한 줄씩 처리하기\n",
    "twitter = Okt() \n",
    "okt_result8 = []\n",
    "lines = train['가사']\n",
    "for line in lines:\n",
    "    # 형태소 분석하기\n",
    "    train_malist8 = twitter.pos(line,norm=True,stem=True) # 단어의 기본형 사용\n",
    "    r = []\n",
    "    for word in train_malist:\n",
    "        if word[1] in [\"Verb\"]:\n",
    "            if word[0] != \"n\":\n",
    "                r.append(word[0])\n",
    "    rl8 = (\" \".join(r).strip())\n",
    "    \n",
    "    okt_result8.append(rl8)\n",
    "print(rl8)"
   ]
  },
  {
   "cell_type": "code",
   "execution_count": null,
   "metadata": {},
   "outputs": [],
   "source": [
    "# 동사와 명사로 분리가 잘 되었는지 확인하기\n",
    "okt_result8[0]"
   ]
  },
  {
   "cell_type": "code",
   "execution_count": null,
   "metadata": {},
   "outputs": [],
   "source": [
    "# 인덱스 0은 없는 단어와 padding으로 집어 넣기 나머지 단어들은 1부터 순차적으로 인덱스 부여\n",
    "\n",
    "word_to_index = {word[0] : index + 1 for index, word in enumerate(token_sum8)}\n",
    "word_to_index['pad'] = 0 # 패딩용 인덱스 0\n",
    "word_to_index['unk'] = 0 # unknown 용 인덱스 0\n",
    "\n",
    "\n",
    "# 기존 훈련 데이터에서 각 단어를 고유한 정수로 부여\n",
    "encoded8 = []\n",
    "for line in okt_result8: #입력 데이터에서 1줄씩 문장을 읽음\n",
    "    temp = []\n",
    "    for w in line: #각 줄에서 1개씩 글자를 읽음\n",
    "      try:\n",
    "        temp.append(word_to_index[w]) # 글자를 해당되는 정수로 변환\n",
    "      except KeyError: # 단어 집합에 없는 단어일 경우 unk로 대체된다.\n",
    "        temp.append(word_to_index['unk']) # unk의 인덱스로 변환\n",
    "\n",
    "    encoded8.append(temp)"
   ]
  },
  {
   "cell_type": "code",
   "execution_count": null,
   "metadata": {},
   "outputs": [],
   "source": [
    "# 정해줄 길이를 찾기 위해 가장 긴 리뷰 길이 확인\n",
    "max_length = max(len(l) for l in encoded8)\n",
    "print('가사의 최대 길이 : %d' % max_length)\n",
    "print('가사의 최소 길이 : %d' % min(len(l) for l in encoded8))\n",
    "print('가사의 평균 길이 : %f' % (sum(map(len, encoded8))/len(encoded8)))\n",
    "plt.hist([len(s) for s in encoded], bins=50)\n",
    "plt.xlabel('length of sample')\n",
    "plt.ylabel('number of sample')\n",
    "plt.show()"
   ]
  },
  {
   "cell_type": "code",
   "execution_count": null,
   "metadata": {},
   "outputs": [],
   "source": [
    "# 문장마다 단어 갯수가 다르므로 sequence padding을 넣어서 문장의 길이 동일하게 만들기 \n",
    "# 이거하려고 위에서 단어갯수 체크한거임\n",
    "\n",
    "padding_paragraphs_encoding8 = keras.preprocessing.sequence.pad_sequences(encoded8, maxlen=max_length, padding='post')\n",
    "padding_paragraphs_encoding8"
   ]
  },
  {
   "cell_type": "code",
   "execution_count": null,
   "metadata": {},
   "outputs": [],
   "source": [
    "print(len(list(padding_paragraphs_encoding8)), len(list(padding_paragraphs_encoding8)[1]))"
   ]
  },
  {
   "cell_type": "code",
   "execution_count": null,
   "metadata": {},
   "outputs": [],
   "source": [
    "# 분류항목['happy', 'sad', 'regret', 'indifference']를 수치로 변경하기\n",
    "categories = train['감정'].to_list()\n",
    "\n",
    "def category_encoding(category):\n",
    "    if category == 'happy':\n",
    "        return 0\n",
    "    elif category == 'sad':\n",
    "        return 1\n",
    "    elif category == 'regret':\n",
    "        return 2\n",
    "    else:\n",
    "        return 3"
   ]
  },
  {
   "cell_type": "code",
   "execution_count": null,
   "metadata": {},
   "outputs": [],
   "source": [
    "encoded_category8 = [category_encoding(category) for category in categories]\n",
    "encoded_category8[:10]"
   ]
  },
  {
   "cell_type": "code",
   "execution_count": null,
   "metadata": {},
   "outputs": [],
   "source": [
    "# train test data 만들기\n",
    "from sklearn.model_selection import train_test_split\n",
    "\n",
    "\n",
    "train_input, test_input, train_target, test_target = train_test_split(\n",
    "    padding_paragraphs_encoding8, encoded_category8, test_size=0.2\n",
    ")"
   ]
  },
  {
   "cell_type": "code",
   "execution_count": null,
   "metadata": {},
   "outputs": [],
   "source": [
    "# train val data 만들기\n",
    "train_input, val_input, train_target, val_target = train_test_split(\n",
    "    train_input, train_target, test_size=0.2\n",
    ")"
   ]
  },
  {
   "cell_type": "code",
   "execution_count": null,
   "metadata": {},
   "outputs": [],
   "source": [
    "model = keras.Sequential()\n",
    "# 문맥 생성 단계\n",
    "model.add(keras.layers.SimpleRNN(64, input_shape=(124, 26)))\n",
    "model.add(keras.layers.Dense(4, activation='softmax')) # 문장은 확률값을 구해야하므로"
   ]
  },
  {
   "cell_type": "code",
   "execution_count": null,
   "metadata": {},
   "outputs": [],
   "source": [
    "train_oh = keras.utils.to_categorical(train_input)\n",
    "train_oh.shape"
   ]
  },
  {
   "cell_type": "code",
   "execution_count": null,
   "metadata": {},
   "outputs": [],
   "source": [
    "val_oh = keras.utils.to_categorical(val_input)\n",
    "val_oh.shape"
   ]
  },
  {
   "cell_type": "code",
   "execution_count": null,
   "metadata": {},
   "outputs": [],
   "source": [
    "model.summary()"
   ]
  },
  {
   "cell_type": "code",
   "execution_count": null,
   "metadata": {},
   "outputs": [],
   "source": [
    "rmsprop = keras.optimizers.RMSprop(learning_rate=1e-4)\n",
    "model.compile(\n",
    "    optimizer=rmsprop,\n",
    "    loss = 'sparse_categorical_crossentropy',\n",
    "    metrics = 'accuracy'\n",
    "    )\n",
    "\n",
    "checkpoint_cb = keras.callbacks.ModelCheckpoint(\"Data/best-train_rnn_over15-model.h5\")\n",
    "early_stopping_cb = keras.callbacks.EarlyStopping(\n",
    "    patience=5,\n",
    "    restore_best_weights= True\n",
    ")\n",
    "\n",
    "history = model.fit(\n",
    "    np.array(train_oh),\n",
    "    np.array(train_target),\n",
    "    epochs=2000,\n",
    "    #batch_size=64, # mini batch 경사 하강법\n",
    "    validation_data = (np.array(val_oh), np.array(val_target)),\n",
    "    # callbacks = [checkpoint_cb, early_stopping_cb]\n",
    ")"
   ]
  },
  {
   "cell_type": "code",
   "execution_count": null,
   "metadata": {},
   "outputs": [],
   "source": [
    "print(\"accuracy :\" , np.mean(history.history['accuracy']))\n",
    "print(\"val_accuracy :\" , np.mean(history.history['val_accuracy']))"
   ]
  },
  {
   "cell_type": "code",
   "execution_count": null,
   "metadata": {},
   "outputs": [],
   "source": [
    "# 시각화 해보기\n",
    "import matplotlib.pyplot as plt\n",
    "fig = plt.figure(figsize=(20, 5))\n",
    "ax1 = fig.add_subplot(1,2,1) # 1행 2열의 첫번째다.\n",
    "ax2 = fig.add_subplot(1,2,2) # 1행 2열의 두번째다.\n",
    "\n",
    "ax1.plot(history.history['loss'])\n",
    "ax1.plot(history.history['val_loss'])\n",
    "ax2.plot(history.history['accuracy'])\n",
    "ax2.plot(history.history['val_accuracy'])\n",
    "\n",
    "ax1.set_xlabel('epoch')\n",
    "ax2.set_xlabel('epoch')\n",
    "\n",
    "ax1.set_ylabel('loss')\n",
    "ax2.set_ylabel('accuracy')\n",
    "\n",
    "ax1.legend(['train','val'])\n",
    "ax2.legend(['train','val'])\n",
    "\n",
    "\n",
    "ax1.set_title(\"RNN - loss\", size=20)\n",
    "ax2.set_title(\"RNN - accuracy\", size=20)\n",
    "plt.show()"
   ]
  },
  {
   "cell_type": "markdown",
   "metadata": {},
   "source": [
    "---\n",
    "# 가사 감정 LSTM"
   ]
  },
  {
   "cell_type": "code",
   "execution_count": null,
   "metadata": {},
   "outputs": [],
   "source": [
    "# model = keras.Sequential()\n",
    "\n",
    "# model.add(keras.layers.Embedding(max_length, 16, input_length=100))\n",
    "# model.add(keras.layers.LSTM(8, dropout=0.3)) # 8개의 셀을 사용한다, 드롭아웃 0.3 넣기\n",
    "# model.add(keras.layers.Dense(4, activation='softmax'))\n",
    "\n",
    "# model.summary()"
   ]
  },
  {
   "cell_type": "code",
   "execution_count": null,
   "metadata": {},
   "outputs": [],
   "source": [
    "# # 훈련하기\n",
    "# # rmsprop = keras.optimizers.RMSprop(learning_rate=1e-4)\n",
    "# model.compile(\n",
    "#     optimizer='adam', \n",
    "#     loss='sparse_categorical_crossentropy', \n",
    "#     metrics ='accuracy'\n",
    "#     ) \n",
    "\n",
    "# checkpoint_cb = keras.callbacks.ModelCheckpoint(\"Data/best-train-lstm-model.h5\")\n",
    "# early_stopping_cb = keras.callbacks.EarlyStopping(\n",
    "#     patience = 3,\n",
    "#     restore_best_weights = True\n",
    "# )\n",
    "\n",
    "# history = model.fit(\n",
    "#     np.array(train_input),\n",
    "#     np.array(train_target),\n",
    "#     epochs=100, # RNN에서 제일 작은게 100임.\n",
    "#     batch_size = 64,  # mini batch 경사하강법\n",
    "#     validation_data = (np.array(val_input), np.array(val_target)),\n",
    "#     callbacks = [checkpoint_cb, early_stopping_cb]\n",
    "# )"
   ]
  },
  {
   "cell_type": "code",
   "execution_count": null,
   "metadata": {},
   "outputs": [],
   "source": []
  },
  {
   "cell_type": "code",
   "execution_count": null,
   "metadata": {},
   "outputs": [],
   "source": []
  },
  {
   "cell_type": "code",
   "execution_count": null,
   "metadata": {},
   "outputs": [],
   "source": []
  },
  {
   "cell_type": "code",
   "execution_count": null,
   "metadata": {},
   "outputs": [],
   "source": []
  },
  {
   "cell_type": "code",
   "execution_count": null,
   "metadata": {},
   "outputs": [],
   "source": []
  },
  {
   "cell_type": "code",
   "execution_count": null,
   "metadata": {},
   "outputs": [],
   "source": []
  },
  {
   "cell_type": "code",
   "execution_count": null,
   "metadata": {},
   "outputs": [],
   "source": []
  },
  {
   "cell_type": "code",
   "execution_count": null,
   "metadata": {},
   "outputs": [],
   "source": []
  }
 ],
 "metadata": {
  "kernelspec": {
   "display_name": "Python 3.9.7 ('base')",
   "language": "python",
   "name": "python3"
  },
  "language_info": {
   "codemirror_mode": {
    "name": "ipython",
    "version": 3
   },
   "file_extension": ".py",
   "mimetype": "text/x-python",
   "name": "python",
   "nbconvert_exporter": "python",
   "pygments_lexer": "ipython3",
   "version": "3.9.7"
  },
  "orig_nbformat": 4,
  "vscode": {
   "interpreter": {
    "hash": "c34e8390e776d2ee205b71ed5a6130fee3cef8da5e87e926ce18e14f4a070d72"
   }
  }
 },
 "nbformat": 4,
 "nbformat_minor": 2
}
