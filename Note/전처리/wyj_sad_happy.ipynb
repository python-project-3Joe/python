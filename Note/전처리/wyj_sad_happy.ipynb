{
 "cells": [
  {
   "cell_type": "code",
   "execution_count": 1,
   "metadata": {},
   "outputs": [],
   "source": [
    "import pandas as pd"
   ]
  },
  {
   "cell_type": "code",
   "execution_count": 4,
   "metadata": {},
   "outputs": [],
   "source": [
    "ballad20 = pd.read_csv(\"../../Data/train_data.csv\")\n",
    "ballad_SH = ballad20[(ballad20.감정 == 'happy') | (ballad20.감정 == 'sad')]"
   ]
  },
  {
   "cell_type": "code",
   "execution_count": 31,
   "metadata": {},
   "outputs": [
    {
     "data": {
      "text/plain": [
       "'어린 햇살 아래서 뛰어놀곤 했었던 가쁜 숨결 굽이진 골목 지나 길을 따라가보면 같은 기억 어른이란 시간은 아직 어색하게도 나를 채워 많은 게 변했다 해 여긴 그대로인걸 You’ll feel the same 땀에 젖어 놀았던 우리는 너와 난 이젠 돌아갈 순 없지만 낡아진 서랍 속에서 작았던 서롤 기억해 When I’m far from home Always 떠올라 난 아직도 반짝이던 네 두 눈 마주 보던 그림자 마주 보던 우리는 여기 still same 시간은 언제나 날 울리는 존재지만 놓질 못해 많은 게 더 지날 땐 여긴 또 하나의 Our home 그땐 우린 어딜까 낡아진 서랍 속에서 작았던 서롤 기억해 When I’m far from home Always 떠올라 난 아직도 반짝이던 네 두 눈 혼자서 숨겼던 널 향한 마음은 알게 하진 않을 거야 널 볼 수 있다면 그걸로 충분해 담을게 두 눈에 언제든 항상 낡아진 서랍 속에서 작았던 서롤 기억해 When I’m far from home Always 떠올라 난 아직도 반짝이던 네 두 눈 '"
      ]
     },
     "execution_count": 31,
     "metadata": {},
     "output_type": "execute_result"
    }
   ],
   "source": [
    "ballad_SH[ballad_SH.감정 == 'happy'].가사[19]"
   ]
  },
  {
   "cell_type": "markdown",
   "metadata": {},
   "source": [
    "> happy 애매(in train_data.csv) => 2, 3, 4, 5, 6, 9, 12, 19"
   ]
  },
  {
   "cell_type": "code",
   "execution_count": 34,
   "metadata": {},
   "outputs": [
    {
     "name": "stdout",
     "output_type": "stream",
     "text": [
      "\n",
      "\n",
      "\n",
      "\n",
      "\n",
      "\n",
      "\n",
      "\n",
      "\n",
      "\n",
      "\n",
      "\n",
      "\n",
      "\n",
      "\n",
      "\n"
     ]
    }
   ],
   "source": [
    "index = [2,3,4,5,6,9,12,19]\n",
    "for i in index:\n",
    "    list(ballad_SH[ballad_SH.감정 == 'happy'].가사[i])\n",
    "    print(\"\\n\")"
   ]
  },
  {
   "cell_type": "code",
   "execution_count": null,
   "metadata": {},
   "outputs": [],
   "source": []
  }
 ],
 "metadata": {
  "kernelspec": {
   "display_name": "Python 3.9.7 ('base')",
   "language": "python",
   "name": "python3"
  },
  "language_info": {
   "codemirror_mode": {
    "name": "ipython",
    "version": 3
   },
   "file_extension": ".py",
   "mimetype": "text/x-python",
   "name": "python",
   "nbconvert_exporter": "python",
   "pygments_lexer": "ipython3",
   "version": "3.9.7"
  },
  "orig_nbformat": 4,
  "vscode": {
   "interpreter": {
    "hash": "73feb3586288eb5455ae3e6408eb3d57be2e76ca00bb7aa4fcdc13325a09e980"
   }
  }
 },
 "nbformat": 4,
 "nbformat_minor": 2
}
