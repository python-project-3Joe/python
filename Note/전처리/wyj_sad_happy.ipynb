{
 "cells": [
  {
   "cell_type": "code",
   "execution_count": 1,
   "metadata": {},
   "outputs": [],
   "source": [
    "import pandas as pd"
   ]
  },
  {
   "cell_type": "code",
   "execution_count": 4,
   "metadata": {},
   "outputs": [],
   "source": [
    "ballad20 = pd.read_csv(\"../../Data/train_data.csv\")\n",
    "ballad_SH = ballad20[(ballad20.감정 == 'happy') | (ballad20.감정 == 'sad')]"
   ]
  },
  {
   "cell_type": "code",
   "execution_count": 31,
   "metadata": {},
   "outputs": [
    {
     "data": {
      "text/plain": [
       "'어린 햇살 아래서 뛰어놀곤 했었던 가쁜 숨결 굽이진 골목 지나 길을 따라가보면 같은 기억 어른이란 시간은 아직 어색하게도 나를 채워 많은 게 변했다 해 여긴 그대로인걸 You’ll feel the same 땀에 젖어 놀았던 우리는 너와 난 이젠 돌아갈 순 없지만 낡아진 서랍 속에서 작았던 서롤 기억해 When I’m far from home Always 떠올라 난 아직도 반짝이던 네 두 눈 마주 보던 그림자 마주 보던 우리는 여기 still same 시간은 언제나 날 울리는 존재지만 놓질 못해 많은 게 더 지날 땐 여긴 또 하나의 Our home 그땐 우린 어딜까 낡아진 서랍 속에서 작았던 서롤 기억해 When I’m far from home Always 떠올라 난 아직도 반짝이던 네 두 눈 혼자서 숨겼던 널 향한 마음은 알게 하진 않을 거야 널 볼 수 있다면 그걸로 충분해 담을게 두 눈에 언제든 항상 낡아진 서랍 속에서 작았던 서롤 기억해 When I’m far from home Always 떠올라 난 아직도 반짝이던 네 두 눈 '"
      ]
     },
     "execution_count": 31,
     "metadata": {},
     "output_type": "execute_result"
    }
   ],
   "source": [
    "ballad_SH[ballad_SH.감정 == 'happy'].가사[19]"
   ]
  },
  {
   "cell_type": "markdown",
   "metadata": {},
   "source": [
    "> happy 애매(in train_data.csv) => 2, 3, 4, 5, 6, 9, 12, 19"
   ]
  },
  {
   "cell_type": "code",
   "execution_count": 35,
   "metadata": {},
   "outputs": [
    {
     "name": "stdout",
     "output_type": "stream",
     "text": [
      "우연의 다른 이름은 운명이란 걸 배웠죠 우리 사랑의 끝이 없는 걸 이제서야 알았죠 어디라도 난 느낄 수 있죠 겨우 한 발 멀어져 있는 거겠죠 손을 내밀면 닿을 수 있는 곳에 그대가 있겠죠 멈춘 가슴이 뛰어요 우리 처음 본 날처럼 문득 스쳐 지나는 기억에 습관처럼 웃어요 어디라도 난 느낄 수 있죠 겨우 한 발 멀어져 있는 거겠죠 손을 내밀면 닿을 수 있는 곳에 그대가 있겠죠 왜 먼저 사랑하고 이별만 알려줘서 두 볼에 눈물을 흐르게 했나요 어디라도 난 느낄 수 있죠 내게 사랑이란 한 번뿐이겠죠 혹시 내 옆에 다른 사람 있어도 사랑은 아니죠 \n",
      "\n",
      "\n",
      "언제부터였을까 따뜻한 휴식을 찾고 있을 때 찾고 있을 때 그때부터였을까 맘이 포근해진 걸 너를 봤을 때 너를 봤을 때 꿈에 그려 봤던 아름답고 멋진 곳을 향해 걸어 봐요 그대와 함께 그대와 함께 어딘가에 있을 그대 슬픔 모두 내가 다 지워 줄게 내 손을 잡고 내 손을 잡고 I Fall In Love Again 불안할 때 나를 강해지게 만드는 한 사람 I Fall In Love Again 아껴줄게 세상의 행복을 다 느낄 수 있게 맑은 햇살 같은 미소를 볼 때면 하루가 즐거워져 이대로 함께 그대와 함께 넓은 세상에서 우연히 만났던 그날을 기억할게 내 손을 잡고 그대 손을 붙잡고 I Fall In Love Again 불안할 때 나를 강해지게 만드는 한 사람 I Fall In Love Again 아껴줄게 세상의 행복을 다 느낄 수 있게 어두웠던 지난날 다시 행복을 찾아준 너에게 어떤 말로 표현할지 낯선 길을 걸어도 나란히 옆에서 있는 널 볼 때면 I Love You Everyday I Fall In Love Again 불안할 때 나를 강해지게 만드는 한 사람 I Fall In Love Again 아껴줄게 세상의 행복을 다 느낄 수 있게 \n",
      "\n",
      "\n",
      "오랜만에 거길 가봤어 아무도 없는 둘만이 알던 곳 함께 걷던 거리에 서서 아무 말도 못한 채 한참을 니 생각했어 이런저런 story 떠오른 memory 여전히 넌 예쁜지 이런 내 맘을 너는 알까 애써 멀어지는 나인데 잠잠하던 내 맘에 자꾸 불을 지펴 왜 잔잔한 내 마음에 자꾸 돌을 던져 왜 우린 끝난사이잖아 흔한 추억팔이잖아 그냥 모르는 척 지나쳐야 해 잠잠 잠잠 마지막을 기억해 돌아섰던 순간도 넌 아직 나를 미워할 거야 아무렇지 않은 듯 하루 끝을 정리하다 문득 너를 생각했어 그 날 그 때 우리 떨리던 목소리 여전히 들리는지 이런 내 맘을 너는 알까 다시 다가가고 싶은데 잠잠하던 내 맘에 자꾸 불을 지펴 왜 잔잔한 내 마음에 자꾸 돌을 던져 왜 대체 왜 이러는거야 서로 원하고 있잖아 그냥 모르는 척 지나치기엔 점점 점점 친구들은 내게 말해 이젠 좀 잊으라고 다른 더 좋은 사람 만나라고 남이 되고야 알았어 갈 곳을 잃은 것처럼 갈수록 허전함뿐인걸 잠잠하던 바람아 나를 간지럽혀 왜 잠잠한 너 때문에 내 맘이 타들어가 대체 왜 이러는거야 서로 원하고 있잖아 애써 외면하는 우리 둘 사이 잠잠하던 내 맘에 자꾸 불을 지펴 왜 잔잔한 내 마음에 자꾸 돌을 던져 왜 우린 끝난사이잖아 흔한 추억팔이잖아 그냥 모르는 척 지나쳐야 해 잠잠 잠잠 \n",
      "\n",
      "\n",
      "그대를 다시 볼 수 있다는 생각을 해요 아마도 우린 끝없이 멀리 돌아만 왔죠 엊그제부터 또 생각이 나서 이제 더는 안될 것 같아 그대에게 말해요 아무런 의미 없는 일상에 들어와줘요 그대와 함께하고 싶은 게 참 많은걸요 익숙해질 즘 그댈 기다리는 게 왠지 마주칠 것만 같아 마음이 떨려요 I’m the one who found your love 그대 안에 내가 번져서 그간에 맘들이 모두 녹아내리면 내가 꿈꿔왔던 것처럼 그렇게 나를 바라봐줘요 혼자서 잠 못 이루고 널 떠올렸던 밤 별들이 반짝이던 그날에 기도했었죠 그대를 다시 다시 볼 수 있다면 어디에 있건 당장이라도 달려갈 텐데 I’m the one who found your love 그대 안에 내가 번져서 그간에 맘들이 모두 녹아내리면 내가 꿈꿔왔던 것처럼 그렇게 나를 바라봐줘요 I’m the one who found your love 그대 안에 내가 번져서 그간에 맘들이 모두 녹아내리면 내가 꿈꿔왔던 것처럼 그렇게 나를 바라봐줘요 \n",
      "\n",
      "\n",
      "오늘도 어김없이 빗나가는 말투들에 긴 싸움 끝에 결국 널 울리고 말았어 처음에 약속했던 너의 행복을 위해 나를 다 주겠단 그 약속 왜 이리 힘든 걸까 이 모든 게 내 탓인 걸 난 너만 생각하면 설레임이란 세 글자를 느껴 난 너만 생각하면 미래를 생각하며 더 일을 해 믿지 못하겠지만 변명처럼 들리지만 너만 생각하면 세상을 다 주고 싶은 진심을 믿어줘 자주 일어나는 사소한 다른 입장 속에서 이해라는 두 글자가 오해로 변했어 억지로 참아 봐도 마주 보는 얼굴 속에서 어둡게 피어난 미움들 왜 이리 힘든 걸까 이 모든 게 내 탓인 걸 난 너만 생각하면 설레임이란 세 글자를 느껴 난 너만 생각하면 미래를 생각하며 더 일을 해 믿지 못하겠지만 변명처럼 들리지만 너만 생각하면 세상을 다 주고 싶은 진심을 믿어줘 익숙함에 빠져 너를 힘들게 했지만 오직 내가 기댈 사람 너뿐이니까 난 너만 생각하면 매일 새로운 설레임을 느껴 난 너만 생각하면 미래를 생각하며 더 일을 해 믿지 못하겠지만 변명처럼 들리지만 너만 생각하면 세상을 다 주고 싶은 진심을 믿어줘 믿어줘 \n",
      "\n",
      "\n",
      "어제보다 많이 지쳐 보이는 그대의 표정 만져 보곤 알죠 바람이 또 아프게 했나요 왜 아무 말 못해요 좀 솔직해져도 돼요 내게 전부 말해봐요 밤을 새도 괜찮아요 차갑던 그대 하루가 나로 인해 녹을 수 있게요 I am all ears I am all ears 듣고 있죠 두 눈 꼭 감아요 춥지 않게 다 덮어줄게요 눈치 보지 마요 혼자 견디지 않아도 되죠 왜 아무 말 없어요 좀 표현을 해도 돼요 내게 전부 말해봐요 밤을 새도 괜찮아요 차갑던 그대 하루가 나로 인해 녹을 수 있게요 걱정이죠 혹시 또 애써 서 있을까 봐 좀 더 참아요 여기 항상 내가 이 자리에 천천히 다 말해봐요 매일 나 귀 기울여요 차갑던 계절 지나면 또 피어날 거란 걸 알아요 I am all ears I am all ears 듣고 있죠 \n",
      "\n",
      "\n",
      "애써 너에게 건냈던 말 good bye 이젠 혼자 남게된 이 밤 without you 난 아직도, I'm officially missing you 널 기다리던 밤처럼 길고 어둡던 우리 사이 공백 이게 끝이 아니길 바래 I wanna go back 너가 원하던 거 다 고친 지금에야 넌 어디로 갔는지 난 홀로 남아 lonely 오늘 따라 부는 바람도 참 시린 것 같은데 넌 왜이리 멀쩡해 보이는 건지 눈치도 없는 너지만 예전처럼만 웃어주면 돼 Ooo can't nobody do it like you Said every little thing you do Hey baby say it stays on my mind And I I'm officially missing you 나에겐 너 하나뿐인 걸 너 땜에 아파하는 걸 널 잊으려고 노력해봐도 잘 안돼 널 미워하는 건 too hard 너무 어려워 날 몰라주는 너도 서러워 I'm officially missing you officially missing you yeah I'm officially missing you, too 내가 아무 말도 하지 못한 이유 우리 사이 공백은 너무 길고 어떤 단어보다 너가 meaningful on another round 더 멀어져 가며 흘러가는 어색했던 오늘 하루가 내겐 아쉽고 어제로 남아있어 이 밤이 지나도 아직도 여기 있어 여전히 내 머릿속 너 때문에 늘 뒤척거리는 매일 밤 내 마음만 더 지쳐가 가로등 불은 거릴 비춰 흔들거리는 속을 변기 위에 비워 어 아무리 속을 비워도 남은 추억으로 취해 어지럽고 girl 난 아직 기댈 곳이 필요해 so 이 노래로 너를 씻어내 습관처럼 그리워해 날 보며 웃는 니 사진을 내 두 눈에 담고 미소를 지으면 다시 할 수 있을까 oh 그날처럼 나에겐 너 하나뿐인 걸 너 땜에 아파하는 걸 널 잊으려고 노력해봐도 잘 안돼 널 미워하는 건 추억 속 너에겐 못된 일이라 난 할 수가 없어 이렇게 널 그리워하는 날 알고 있는지 나에겐 너 하나뿐인 걸 너 땜에 아파하는 걸 널 잊으려고 노력해봐도 잘 안돼 널 미워하는 건 too hard 너무 어려워 날 몰라주는 너도 서러워 I'm officially missing you officially missing you can't nobody do it like you Said every little thing you do Hey baby say it stays on my mind And I I'm officially missing you \n",
      "\n",
      "\n",
      "어린 햇살 아래서 뛰어놀곤 했었던 가쁜 숨결 굽이진 골목 지나 길을 따라가보면 같은 기억 어른이란 시간은 아직 어색하게도 나를 채워 많은 게 변했다 해 여긴 그대로인걸 You’ll feel the same 땀에 젖어 놀았던 우리는 너와 난 이젠 돌아갈 순 없지만 낡아진 서랍 속에서 작았던 서롤 기억해 When I’m far from home Always 떠올라 난 아직도 반짝이던 네 두 눈 마주 보던 그림자 마주 보던 우리는 여기 still same 시간은 언제나 날 울리는 존재지만 놓질 못해 많은 게 더 지날 땐 여긴 또 하나의 Our home 그땐 우린 어딜까 낡아진 서랍 속에서 작았던 서롤 기억해 When I’m far from home Always 떠올라 난 아직도 반짝이던 네 두 눈 혼자서 숨겼던 널 향한 마음은 알게 하진 않을 거야 널 볼 수 있다면 그걸로 충분해 담을게 두 눈에 언제든 항상 낡아진 서랍 속에서 작았던 서롤 기억해 When I’m far from home Always 떠올라 난 아직도 반짝이던 네 두 눈 \n",
      "\n",
      "\n"
     ]
    }
   ],
   "source": [
    "index = [2,3,4,5,6,9,12,19]\n",
    "for i in index:\n",
    "    print(ballad_SH[ballad_SH.감정 == 'happy'].가사[i])\n",
    "    print(\"\\n\")"
   ]
  },
  {
   "cell_type": "code",
   "execution_count": null,
   "metadata": {},
   "outputs": [],
   "source": []
  }
 ],
 "metadata": {
  "kernelspec": {
   "display_name": "Python 3.9.7 ('base')",
   "language": "python",
   "name": "python3"
  },
  "language_info": {
   "codemirror_mode": {
    "name": "ipython",
    "version": 3
   },
   "file_extension": ".py",
   "mimetype": "text/x-python",
   "name": "python",
   "nbconvert_exporter": "python",
   "pygments_lexer": "ipython3",
   "version": "3.9.7"
  },
  "orig_nbformat": 4,
  "vscode": {
   "interpreter": {
    "hash": "73feb3586288eb5455ae3e6408eb3d57be2e76ca00bb7aa4fcdc13325a09e980"
   }
  }
 },
 "nbformat": 4,
 "nbformat_minor": 2
}
