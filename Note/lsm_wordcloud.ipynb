{
 "cells": [
  {
   "cell_type": "code",
   "execution_count": 1,
   "metadata": {},
   "outputs": [],
   "source": [
    "import warnings\n",
    "warnings.filterwarnings('ignore')"
   ]
  },
  {
   "cell_type": "code",
   "execution_count": 63,
   "metadata": {},
   "outputs": [],
   "source": [
    "import matplotlib.pyplot as plt\n",
    "import pandas as pd"
   ]
  },
  {
   "cell_type": "code",
   "execution_count": 90,
   "metadata": {},
   "outputs": [
    {
     "data": {
      "text/html": [
       "<div>\n",
       "<style scoped>\n",
       "    .dataframe tbody tr th:only-of-type {\n",
       "        vertical-align: middle;\n",
       "    }\n",
       "\n",
       "    .dataframe tbody tr th {\n",
       "        vertical-align: top;\n",
       "    }\n",
       "\n",
       "    .dataframe thead th {\n",
       "        text-align: right;\n",
       "    }\n",
       "</style>\n",
       "<table border=\"1\" class=\"dataframe\">\n",
       "  <thead>\n",
       "    <tr style=\"text-align: right;\">\n",
       "      <th></th>\n",
       "      <th>가수명</th>\n",
       "      <th>노래제목</th>\n",
       "      <th>발매일</th>\n",
       "      <th>가사</th>\n",
       "      <th>좋아요수</th>\n",
       "      <th>순위</th>\n",
       "    </tr>\n",
       "  </thead>\n",
       "  <tbody>\n",
       "    <tr>\n",
       "      <th>0</th>\n",
       "      <td>WSG워너비 (가야G)</td>\n",
       "      <td>그때 그 순간 그대로 (그그그)</td>\n",
       "      <td>2022-07-09</td>\n",
       "      <td>잘 지냈지? 조금은 어색해 요즘 좋아 보여 인사 나누며 사실 궁금한 게 너무 많았는...</td>\n",
       "      <td>79774</td>\n",
       "      <td>1</td>\n",
       "    </tr>\n",
       "    <tr>\n",
       "      <th>1</th>\n",
       "      <td>경서</td>\n",
       "      <td>나의 X에게</td>\n",
       "      <td>2022-04-24</td>\n",
       "      <td>우리 다시 만날래 예쁘게 빛나던 모든 추억들이 너무 그리워 너의 품에 안길래 이 밤...</td>\n",
       "      <td>101199</td>\n",
       "      <td>2</td>\n",
       "    </tr>\n",
       "    <tr>\n",
       "      <th>2</th>\n",
       "      <td>멜로망스</td>\n",
       "      <td>사랑인가 봐</td>\n",
       "      <td>2022-02-18</td>\n",
       "      <td>너와 함께 하고 싶은 일들을 상상하는 게 요즘 내 일상이 되고 너의 즐거워하는 모습...</td>\n",
       "      <td>146814</td>\n",
       "      <td>3</td>\n",
       "    </tr>\n",
       "    <tr>\n",
       "      <th>3</th>\n",
       "      <td>주호</td>\n",
       "      <td>내가 아니라도</td>\n",
       "      <td>2022-03-25</td>\n",
       "      <td>사랑이었다 별거 없던 내 하루에 빛이 돼준 단한 사람 나보다 나를 더 아껴 주던 너...</td>\n",
       "      <td>50533</td>\n",
       "      <td>4</td>\n",
       "    </tr>\n",
       "    <tr>\n",
       "      <th>4</th>\n",
       "      <td>임영웅</td>\n",
       "      <td>사랑은 늘 도망가</td>\n",
       "      <td>2021-10-11</td>\n",
       "      <td>눈물이 난다 이 길을 걸으면 그 사람 손길이 자꾸 생각이 난다 붙잡지 못하고 가슴만...</td>\n",
       "      <td>169216</td>\n",
       "      <td>5</td>\n",
       "    </tr>\n",
       "  </tbody>\n",
       "</table>\n",
       "</div>"
      ],
      "text/plain": [
       "            가수명               노래제목         발매일  \\\n",
       "0  WSG워너비 (가야G)  그때 그 순간 그대로 (그그그)  2022-07-09   \n",
       "1            경서             나의 X에게  2022-04-24   \n",
       "2          멜로망스             사랑인가 봐  2022-02-18   \n",
       "3            주호            내가 아니라도  2022-03-25   \n",
       "4           임영웅          사랑은 늘 도망가  2021-10-11   \n",
       "\n",
       "                                                  가사    좋아요수  순위  \n",
       "0  잘 지냈지? 조금은 어색해 요즘 좋아 보여 인사 나누며 사실 궁금한 게 너무 많았는...   79774   1  \n",
       "1  우리 다시 만날래 예쁘게 빛나던 모든 추억들이 너무 그리워 너의 품에 안길래 이 밤...  101199   2  \n",
       "2  너와 함께 하고 싶은 일들을 상상하는 게 요즘 내 일상이 되고 너의 즐거워하는 모습...  146814   3  \n",
       "3  사랑이었다 별거 없던 내 하루에 빛이 돼준 단한 사람 나보다 나를 더 아껴 주던 너...   50533   4  \n",
       "4  눈물이 난다 이 길을 걸으면 그 사람 손길이 자꾸 생각이 난다 붙잡지 못하고 가슴만...  169216   5  "
      ]
     },
     "execution_count": 90,
     "metadata": {},
     "output_type": "execute_result"
    }
   ],
   "source": [
    "melon_top500 = pd.read_csv(\"../Data/melon_top500.csv\")\n",
    "melon_top500.head()"
   ]
  },
  {
   "cell_type": "code",
   "execution_count": 91,
   "metadata": {},
   "outputs": [
    {
     "data": {
      "text/html": [
       "<div>\n",
       "<style scoped>\n",
       "    .dataframe tbody tr th:only-of-type {\n",
       "        vertical-align: middle;\n",
       "    }\n",
       "\n",
       "    .dataframe tbody tr th {\n",
       "        vertical-align: top;\n",
       "    }\n",
       "\n",
       "    .dataframe thead th {\n",
       "        text-align: right;\n",
       "    }\n",
       "</style>\n",
       "<table border=\"1\" class=\"dataframe\">\n",
       "  <thead>\n",
       "    <tr style=\"text-align: right;\">\n",
       "      <th></th>\n",
       "      <th>가수명</th>\n",
       "      <th>노래제목</th>\n",
       "      <th>발매일</th>\n",
       "      <th>가사</th>\n",
       "      <th>좋아요수</th>\n",
       "      <th>순위</th>\n",
       "    </tr>\n",
       "  </thead>\n",
       "  <tbody>\n",
       "    <tr>\n",
       "      <th>495</th>\n",
       "      <td>양다일</td>\n",
       "      <td>소주 한 잔</td>\n",
       "      <td>2022-03-20</td>\n",
       "      <td>술이 한 잔 생각나는 밤 같이 있는 것 같아요 그 좋았던 시절들 이젠 모두 한숨만 ...</td>\n",
       "      <td>6772</td>\n",
       "      <td>496</td>\n",
       "    </tr>\n",
       "    <tr>\n",
       "      <th>496</th>\n",
       "      <td>씨야</td>\n",
       "      <td>사랑의 인사</td>\n",
       "      <td>2007-05-25</td>\n",
       "      <td>비내리는 거릴 좋아 했었죠 우산없이 나와 함께 걸었죠 다시 내리는 비에 그대 생각나...</td>\n",
       "      <td>19335</td>\n",
       "      <td>497</td>\n",
       "    </tr>\n",
       "    <tr>\n",
       "      <th>497</th>\n",
       "      <td>다비치</td>\n",
       "      <td>괜찮아 사랑이야</td>\n",
       "      <td>2014-07-30</td>\n",
       "      <td>내 맘이 보이니 왜 사랑인거니 다시는 하지 말자던 사랑 참 많이 바보 같지 왜 행복...</td>\n",
       "      <td>77496</td>\n",
       "      <td>498</td>\n",
       "    </tr>\n",
       "    <tr>\n",
       "      <th>498</th>\n",
       "      <td>이승철</td>\n",
       "      <td>말리꽃</td>\n",
       "      <td>2005-12-20</td>\n",
       "      <td>얼마나 더 견뎌야 하는지 짙은 어둠을 헤매고 있어 내가바란 꿈이라는 것은 없는걸까 ...</td>\n",
       "      <td>57643</td>\n",
       "      <td>499</td>\n",
       "    </tr>\n",
       "    <tr>\n",
       "      <th>499</th>\n",
       "      <td>권진아</td>\n",
       "      <td>오늘 뭐 했는지 말해봐</td>\n",
       "      <td>2019-02-28</td>\n",
       "      <td>네가 없는 밤이 너 없이 혼자서 보내는 주말이 이젠 더 편해졌는데 친구를 만나고 새...</td>\n",
       "      <td>52050</td>\n",
       "      <td>500</td>\n",
       "    </tr>\n",
       "  </tbody>\n",
       "</table>\n",
       "</div>"
      ],
      "text/plain": [
       "     가수명          노래제목         발매일  \\\n",
       "495  양다일        소주 한 잔  2022-03-20   \n",
       "496   씨야        사랑의 인사  2007-05-25   \n",
       "497  다비치      괜찮아 사랑이야  2014-07-30   \n",
       "498  이승철           말리꽃  2005-12-20   \n",
       "499  권진아  오늘 뭐 했는지 말해봐  2019-02-28   \n",
       "\n",
       "                                                    가사   좋아요수   순위  \n",
       "495  술이 한 잔 생각나는 밤 같이 있는 것 같아요 그 좋았던 시절들 이젠 모두 한숨만 ...   6772  496  \n",
       "496  비내리는 거릴 좋아 했었죠 우산없이 나와 함께 걸었죠 다시 내리는 비에 그대 생각나...  19335  497  \n",
       "497  내 맘이 보이니 왜 사랑인거니 다시는 하지 말자던 사랑 참 많이 바보 같지 왜 행복...  77496  498  \n",
       "498  얼마나 더 견뎌야 하는지 짙은 어둠을 헤매고 있어 내가바란 꿈이라는 것은 없는걸까 ...  57643  499  \n",
       "499  네가 없는 밤이 너 없이 혼자서 보내는 주말이 이젠 더 편해졌는데 친구를 만나고 새...  52050  500  "
      ]
     },
     "execution_count": 91,
     "metadata": {},
     "output_type": "execute_result"
    }
   ],
   "source": [
    "melon_top500.tail()"
   ]
  },
  {
   "cell_type": "code",
   "execution_count": 92,
   "metadata": {},
   "outputs": [
    {
     "name": "stdout",
     "output_type": "stream",
     "text": [
      "<class 'pandas.core.frame.DataFrame'>\n",
      "RangeIndex: 500 entries, 0 to 499\n",
      "Data columns (total 6 columns):\n",
      " #   Column  Non-Null Count  Dtype \n",
      "---  ------  --------------  ----- \n",
      " 0   가수명     500 non-null    object\n",
      " 1   노래제목    500 non-null    object\n",
      " 2   발매일     500 non-null    object\n",
      " 3   가사      500 non-null    object\n",
      " 4   좋아요수    500 non-null    int64 \n",
      " 5   순위      500 non-null    int64 \n",
      "dtypes: int64(2), object(4)\n",
      "memory usage: 23.6+ KB\n"
     ]
    }
   ],
   "source": [
    "melon_top500.info()"
   ]
  },
  {
   "cell_type": "code",
   "execution_count": 93,
   "metadata": {},
   "outputs": [],
   "source": [
    "# 한글 폰트 문제 해결 \n",
    "# matplotlib은 한글 폰트를 지원하지 않음\n",
    "# os정보\n",
    "import platform\n",
    "\n",
    "# font_manager : 폰트 관리 모듈\n",
    "# rc : 폰트 변경 모듈\n",
    "from matplotlib import font_manager, rc\n",
    "# unicode 설정\n",
    "plt.rcParams['axes.unicode_minus'] = False\n",
    "\n",
    "if platform.system() == 'Darwin':\n",
    "    rc('font', family='AppleGothic') # os가 macos\n",
    "elif platform.system() == 'Windows':\n",
    "    path = 'c:/Windows/Fonts/malgun.ttf' # os가 windows\n",
    "    font_name = font_manager.FontProperties(fname=path).get_name()\n",
    "    rc('font', family=font_name)\n",
    "else:\n",
    "    print(\"Unknown System\")"
   ]
  },
  {
   "cell_type": "code",
   "execution_count": 99,
   "metadata": {},
   "outputs": [],
   "source": [
    "import nltk # national language tool kit\n",
    "from konlpy.corpus import kolaw\n",
    "from konlpy.tag import Okt\n",
    "import matplotlib.pyplot as plt\n",
    "from wordcloud import WordCloud\n",
    "\n",
    "t=Okt()"
   ]
  },
  {
   "cell_type": "code",
   "execution_count": 95,
   "metadata": {},
   "outputs": [],
   "source": [
    "melon_top500['가수명'] = melon_top500['가수명'].astype('string')"
   ]
  },
  {
   "cell_type": "code",
   "execution_count": 98,
   "metadata": {},
   "outputs": [
    {
     "name": "stdout",
     "output_type": "stream",
     "text": [
      " WSG워너비 (가야G) 경서 멜로망스 주호 임영웅 김민석 (멜로망스) 임영웅 경서예지 이석훈 케이시 (Kassy) 임영웅 MSG워너비(M.O.M) #안녕 성시경 다비치 임재현 아이유 케이시 (Kassy) 케이시 (Kassy) MSG워너비(M.O.M) 아이유 경서 폴킴 V.O.S 주호 임영웅 이무진 탑현 지민 멜로망스 AKMU (악뮤) 임영웅 딘딘 (DINDIN) 세븐틴 경서예지 10CM 한동근 정동하 아이유 HYNN (박혜원) #안녕 김종국 산들 멜로망스 휘인 (Whee In) 길구봉구 멜로망스 폴킴 조유진 (체리필터) 하은 (포맨) 김재환 SG 워너비 Sondia 헤이즈 (Heize) 성시경 노을 씨야 조정석 이예준 WSG워너비 조별경연 (대청봉) 헤이즈 (Heize) 엠씨더맥스 (M.C the MAX) 김필 폴킴 케이시 (Kassy) 다비치 선우정아 TOIL 폴킴 이홍기 (FT아일랜드) 에일리(Ailee) 비비 (BIBI) 김재환 아이유 신용재 (2F) 아이유 윤토벤 아이유 김나영 V 장범준 정승환 성시경 임재현 폴킴 SG 워너비 스트레이 (The Stray) 김필 경서예지 이예준 WSG워너비 조별경연 (비로봉) 21학번 태연 (TAEYEON) 다비치 신예영 윤종신 적재 박효신 먼데이 키즈 (Monday Kiz) 멜로망스 태연 (TAEYEON) 태연 (TAEYEON) 케이시 (Kassy) 윤하 (YOUNHA) 황치열 10CM 김현성 조정석 송하예 임창정 카더가든 이승윤 비스트 볼빨간사춘기 HIGH4 (하이포) 다비치 노을 케이윌 임재현 로꼬 볼빨간사춘기 임한별 임창정 로꼬 izi 어반자카파 닐로(Nilo) 황인욱 빅마마 노을 권진아 태연 (TAEYEON) 싸이 (PSY) 성시경 아이유 아이유 서인국 에이치코드 (H:CODE) 다비치 이수 (엠씨더맥스) 전상근 케이윌 린 WSG워너비 조별경연 (신선봉) 길구봉구 어쿠스틱 콜라보 규현 (KYUHYUN) 먼데이 키즈 (Monday Kiz) 거미 비비 (BIBI) 다비치 엠씨더맥스 (M.C the MAX) 멜로망스 이예준 10CM 김호중 임한별 임창정 정은지 케이시 (Kassy) 백지영 허각 비투비 태연 (TAEYEON) 케이시 (Kassy) 한동근 전상근 먼데이 키즈 (Monday Kiz) 백아연 BIGBANG (빅뱅) 태연 (TAEYEON) 멜로망스 주호 마크툽 (MAKTUB) 거미 SG 워너비 지아 엠씨더맥스 (M.C the MAX) 임창정 케이시 (Kassy) 임창정 하동균 지연 아이유 장덕철 V.O.S 권진아 김종완 of NELL 엠씨더맥스 (M.C the MAX) 한동근 규현 (KYUHYUN) 허각 전우성 (노을) 신예영 이승기 전미도 포맨 (4MEN) 전상근 먼데이 키즈 (Monday Kiz) CHEEZE (치즈) 김나영 카더가든 거미 허각 태연 (TAEYEON) 벤 박효신 스탠딩 에그 권진아 이예준 데이먼스 이어 (Damons year) 김나영 빅마마 이석훈 엠씨더맥스 (M.C the MAX) 로이킴 모세 HYNN (박혜원) 순순희 LE SSERAFIM (르세라핌) 10CM 허각 임창정 정승환 백예린 (Yerin Baek) Crush 이소라 성시경 에일리(Ailee) 적재 씨야 성시경 비투비 다비치 진영 (GOT7) 김세정 노을 박원 벤 김대명 포맨 (4MEN) 검정치마 먼데이 키즈 (Monday Kiz) 장혜진 다비치 aespa 조이 (JOY) 엠씨더맥스 (M.C the MAX) 아이유 백지영 정승환 양다일 송하예 SG 워너비 아이유 도영 (DOYOUNG) 김범수 박효신 케이시 (Kassy) 윤하 (YOUNHA) 엠씨더맥스 (M.C the MAX) 성시경 박원 임재현 폴킴 김태우 HYNN (박혜원) 박명수 양정승 박봄 (Park Bom) 태연 (TAEYEON) 다비치 정승환 김연우 진민호 황치열 아이오아이 (I.O.I) 테이 멜로망스 백예린 (Yerin Baek) 임영웅 MSG워너비(정상동기) 이적 에이트 바이브 10CM 백예린 (Yerin Baek) 토이 조현아 (어반자카파) 나윤권 MC몽 황인욱 CHEEZE (치즈) 경서예지 송하예 이루 길구봉구 폴킴 장범준 이기찬 포스트맨(Postmen) 김호중 전상근 바이브 하울 백지영 테이 로꼬 정인 하은 (포맨) 김나영 BMK 아이유 아이유 태연 (TAEYEON) 닐로(Nilo) T.P RETRO (타디스 프로젝트舊) 백지영 이소정 에일리(Ailee) 황치열 벤 윤하 (YOUNHA) 오혁 WINNER 노을 장덕철 엠투엠 (M To M) 거미 백현 (BAEKHYUN) 정키 모트 (Motte) 가비엔제이 허각 멜로망스 순순희 벤 다비치 송하예 V.O.S HYNN (박혜원) 벤 케이윌 백예슬 신용재 (2F) 규현 (KYUHYUN) 케이윌 벤 선예 박효신 닐로(Nilo) 아이비 다비치 첸 (CHEN) 비투비 죠지 씨야 케이윌 허각 멜로망스 린 아이유 규현 (KYUHYUN) 태연 (TAEYEON) 이승철 브라운 아이드 소울 성시경 죠지 펀치 (Punch) 용준형 정키 이승철 엠씨더맥스 (M.C the MAX) HYNN (박혜원) 린 경서 (경서예지) 백예슬 허각 카더가든 잔나비 이우 먼데이 키즈 (Monday Kiz) 이승철 김범수 케이시 (Kassy) 정세운 존박 이선희 #안녕 정승환 카더가든 김기태 죠지 이예준 문문 (MoonMoon) HOZIHO 이수현 이선희 노을 적재 정동하 디셈버 황인욱 2NE1 성시경 먼데이 키즈 (Monday Kiz) 팀 이소정 백지영 얀 싸이 (PSY) 정효빈 울랄라세션 긱스 (Geeks) 백지영 아이유 순순희 신예영 럼블피쉬 정은지 엠씨더맥스 (M.C the MAX) 이루 케이윌 황인욱 김범수 이승기 아이유 이해리 (다비치) SG 워너비 하은 (포맨) 황인욱 휘인 (Whee In) 성시경 에이치코드 (H:CODE) Homme (창민, 이현) 에이트 포지션 SS501 윤미래 안예은 임창정 윤건 아이유 NCT DREAM 먼데이 키즈 (Monday Kiz) 디셈버 찬열 (CHANYEOL) 이예준 하동균 케이윌 노을 박민혜 (빅마마) EXO 김세정 전상근 김종국 노을 정동원 정효빈 탑현 임창정 헤이즈 (Heize) 임한별 SG 워너비 빅마마 윤하 (YOUNHA) 아이유 비투비 이아영 로시 (Rothy) 첸 (CHEN) 박효신 송하예 써니힐 세븐틴 허각 에일리(Ailee) 임재현 권진아 10CM V.O.S 교이 아이유 성시경 태연 (TAEYEON) 엠씨더맥스 (M.C the MAX) 백지영 양파 V.O.S 왁스 전건호 송하예 한동근 브라운 아이즈 윤하 (YOUNHA) 양다일 씨야 다비치 이승철 권진아\n"
     ]
    }
   ],
   "source": [
    "artist_top500 = \"\"\n",
    "for i in range(len((melon_top500))):\n",
    "    artist_top500 += (\" \" + melon_top500['가수명'][i])\n",
    "print(artist_top500)"
   ]
  },
  {
   "cell_type": "code",
   "execution_count": 100,
   "metadata": {},
   "outputs": [
    {
     "name": "stdout",
     "output_type": "stream",
     "text": [
      "['워', '너비', '가야', '경서', '로망스', '주호', '임영웅', '김민석', '로망스', '임영웅', '서예지', '이석훈', '케이시', '임영웅', '워', '너비', '성시경', '다비치', '임재현', '아이유', '케이시', '케이시', '워', '너비', '아이유', '경서', '폴킴', '주호', '임영웅', '무진', '탑현', '지민', '로망스', '악뮤', '임영웅', '딘딘', '세븐', '틴', '서예지', '한동근', '정동하', '아이유', '박혜원', '김종국', '산들', '로망스', '휘', '길구봉구', '로망스', '폴킴', '조유진', '체리필터', '하은', '포맨', '김재환', '워', '너비', '헤이즈', '성시경', '노을', '씨야', '조정석', '이예준', '워', '너비', '경연', '대청봉', '헤이즈', '엠씨더맥스', '김필', '폴킴', '케이시', '다비치', '선우정아', '폴킴', '이홍기', '아일랜드', '에일리', '비비', '김재환', '아이유', '신용재', '아이유', '윤토벤', '아이유', '김나영', '장범준', '정승환', '성시경', '임재현', '폴킴', '워', '너비', '스트', '레이', '김필', '서예지', '이예준', '워', '너비', '경연', '비로봉', '학번', '태연', '다비치', '신예', '영', '윤종신', '적재', '박효신', '먼데이', '키즈', '로망스', '태연', '태연', '케이시', '윤하', '황', '치열', '김현성', '조정석', '송하예', '임창정', '카', '이승윤', '비스트', '볼', '사춘기', '하이포', '다비치', '노을', '케이윌', '임재현', '로꼬', '볼', '사춘기', '임한별', '임창정', '로꼬', '어반자카파', '닐', '황인', '욱', '빅마마', '노을', '권진아', '태연', '싸이', '성시경', '아이유', '아이유', '서인국', '에이치', '코드', '다비치', '이수', '엠씨더맥스', '상근', '케이윌', '린', '워', '너비', '경연', '선봉', '길구봉구', '어쿠스틱', '콜라보', '규현', '먼데이', '키즈', '거미', '비비', '다비치', '엠씨더맥스', '로망스', '이예준', '김호중', '임한별', '임창정', '정은지', '케이시', '백지영', '허각', '비투비', '태연', '케이시', '한동근', '상근', '먼데이', '키즈', '백아연', '빅뱅', '태연', '로망스', '주호', '마크', '툽', '거미', '워', '너비', '지아', '엠씨더맥스', '임창정', '케이시', '임창정', '하동균', '지연', '아이유', '장덕', '철', '권진아', '김종완', '엠씨더맥스', '한동근', '규현', '허각', '전우성', '노을', '신예', '영', '이승기', '미도', '포맨', '상근', '먼데이', '키즈', '치즈', '김나영', '카', '거미', '허각', '태연', '박효신', '스탠딩', '권진아', '이예준', '데이먼', '스', '김나영', '빅마마', '이석훈', '엠씨더맥스', '로이킴', '모세', '박혜원', '순희', '르', '세라핌', '허각', '임창정', '정승환', '백예린', '이소라', '성시경', '에일리', '적재', '씨야', '성시경', '비투비', '다비치', '진영', '김세정', '노을', '박', '김대', '포맨', '검정치마', '먼데이', '키즈', '장혜진', '다비치', '조이', '엠씨더맥스', '아이유', '백지영', '정승환', '양', '일', '송하예', '워', '너비', '아이유', '도영', '김범수', '박효신', '케이시', '윤하', '엠씨더맥스', '성시경', '박', '임재현', '폴킴', '김태우', '박혜원', '박명수', '정승', '박봄', '태연', '다비치', '정승환', '김연우', '진민호', '황', '치열', '아이오', '아이', '테이', '로망스', '백예린', '임영웅', '워', '너비', '정상', '동기', '이적', '에이트', '바이브', '백예린', '토이', '조현아', '어반자카파', '나윤권', '몽', '황인', '욱', '치즈', '서예지', '송하예', '이루', '길구봉구', '폴킴', '장범준', '이기찬', '포스트맨', '김호중', '상근', '바이브', '하울', '백지영', '테이', '로꼬', '정인', '하은', '포맨', '김나영', '아이유', '아이유', '태연', '닐', '타디스', '프로젝트', '백지영', '이소정', '에일리', '황', '치열', '윤하', '오혁', '노을', '장덕', '철', '엠투엠', '거미', '백현', '정키', '모트', '가비엔제이', '허각', '로망스', '순희', '다비치', '송하예', '박혜원', '케이윌', '슬', '신용재', '규현', '케이윌', '선예', '박효신', '닐', '아이비', '다비치', '첸', '비투비', '죠지', '씨야', '케이윌', '허각', '로망스', '린', '아이유', '규현', '태연', '이승철', '브라운', '이드', '소울', '성시경', '죠지', '펀치', '용준형', '정키', '이승철', '엠씨더맥스', '박혜원', '린', '경서', '서예지', '슬', '허각', '카', '잔나비', '이우', '먼데이', '키즈', '이승철', '김범수', '케이시', '정세운', '존박', '이선희', '정승환', '카', '김기태', '죠지', '이예준', '문', '이수현', '이선희', '노을', '적재', '정동하', '디셈버', '황인', '욱', '성시경', '먼데이', '키즈', '팀', '이소정', '백지영', '얀', '싸이', '정', '효빈', '울랄라세션', '긱스', '백지영', '아이유', '순희', '신예', '영', '럼블피쉬', '정은지', '엠씨더맥스', '이루', '케이윌', '황인', '욱', '김범수', '이승기', '아이유', '이해리', '다비치', '워', '너비', '하은', '포맨', '황인', '욱', '휘', '성시경', '에이치', '코드', '창민', '이현', '에이트', '포지션', '윤미래', '안예은', '임창정', '윤건', '아이유', '먼데이', '키즈', '디셈버', '찬열', '이예준', '하동균', '케이윌', '노을', '박민', '혜', '빅마마', '김세정', '상근', '김종국', '노을', '정동원', '정', '효빈', '탑현', '임창정', '헤이즈', '임한별', '워', '너비', '빅마마', '윤하', '아이유', '비투비', '이아영', '로시', '첸', '박효신', '송하예', '써니힐', '세븐', '틴', '허각', '에일리', '임재현', '권진아', '교', '아이유', '성시경', '태연', '엠씨더맥스', '백지영', '양파', '왁스', '건호', '송하예', '한동근', '브라운', '아이즈', '윤하', '양', '일', '씨야', '다비치', '이승철', '권진아']\n"
     ]
    }
   ],
   "source": [
    "# 명사 분리\n",
    "token_ko = t.nouns(artist_top500)\n",
    "print(token_ko)"
   ]
  },
  {
   "cell_type": "code",
   "execution_count": 56,
   "metadata": {},
   "outputs": [
    {
     "data": {
      "text/plain": [
       "'임영웅'"
      ]
     },
     "execution_count": 56,
     "metadata": {},
     "output_type": "execute_result"
    }
   ],
   "source": [
    "melon_top500['가수명'][25]"
   ]
  },
  {
   "cell_type": "code",
   "execution_count": 58,
   "metadata": {},
   "outputs": [],
   "source": [
    "from wordcloud import WordCloud"
   ]
  },
  {
   "cell_type": "code",
   "execution_count": 88,
   "metadata": {},
   "outputs": [
    {
     "ename": "AttributeError",
     "evalue": "'str' object has no attribute 'items'",
     "output_type": "error",
     "traceback": [
      "\u001b[0;31m---------------------------------------------------------------------------\u001b[0m",
      "\u001b[0;31mAttributeError\u001b[0m                            Traceback (most recent call last)",
      "\u001b[0;32m/var/folders/51/xmc_l6t13wv1nc5z6qmyg58r0000gn/T/ipykernel_23601/4009924757.py\u001b[0m in \u001b[0;36m<module>\u001b[0;34m\u001b[0m\n\u001b[1;32m      2\u001b[0m \u001b[0;34m\u001b[0m\u001b[0m\n\u001b[1;32m      3\u001b[0m \u001b[0;34m\u001b[0m\u001b[0m\n\u001b[0;32m----> 4\u001b[0;31m wordcloud = WordCloud(\n\u001b[0m\u001b[1;32m      5\u001b[0m     \u001b[0mbackground_color\u001b[0m\u001b[0;34m=\u001b[0m\u001b[0;34m'White'\u001b[0m\u001b[0;34m,\u001b[0m\u001b[0;34m\u001b[0m\u001b[0;34m\u001b[0m\u001b[0m\n\u001b[1;32m      6\u001b[0m     \u001b[0mrelative_scaling\u001b[0m\u001b[0;34m=\u001b[0m\u001b[0;36m0.2\u001b[0m\u001b[0;34m,\u001b[0m\u001b[0;34m\u001b[0m\u001b[0;34m\u001b[0m\u001b[0m\n",
      "\u001b[0;32m~/opt/anaconda3/lib/python3.9/site-packages/wordcloud/wordcloud.py\u001b[0m in \u001b[0;36mgenerate_from_frequencies\u001b[0;34m(self, frequencies, max_font_size)\u001b[0m\n\u001b[1;32m    399\u001b[0m         \"\"\"\n\u001b[1;32m    400\u001b[0m         \u001b[0;31m# make sure frequencies are sorted and normalized\u001b[0m\u001b[0;34m\u001b[0m\u001b[0;34m\u001b[0m\u001b[0m\n\u001b[0;32m--> 401\u001b[0;31m         \u001b[0mfrequencies\u001b[0m \u001b[0;34m=\u001b[0m \u001b[0msorted\u001b[0m\u001b[0;34m(\u001b[0m\u001b[0mfrequencies\u001b[0m\u001b[0;34m.\u001b[0m\u001b[0mitems\u001b[0m\u001b[0;34m(\u001b[0m\u001b[0;34m)\u001b[0m\u001b[0;34m,\u001b[0m \u001b[0mkey\u001b[0m\u001b[0;34m=\u001b[0m\u001b[0mitemgetter\u001b[0m\u001b[0;34m(\u001b[0m\u001b[0;36m1\u001b[0m\u001b[0;34m)\u001b[0m\u001b[0;34m,\u001b[0m \u001b[0mreverse\u001b[0m\u001b[0;34m=\u001b[0m\u001b[0;32mTrue\u001b[0m\u001b[0;34m)\u001b[0m\u001b[0;34m\u001b[0m\u001b[0;34m\u001b[0m\u001b[0m\n\u001b[0m\u001b[1;32m    402\u001b[0m         \u001b[0;32mif\u001b[0m \u001b[0mlen\u001b[0m\u001b[0;34m(\u001b[0m\u001b[0mfrequencies\u001b[0m\u001b[0;34m)\u001b[0m \u001b[0;34m<=\u001b[0m \u001b[0;36m0\u001b[0m\u001b[0;34m:\u001b[0m\u001b[0;34m\u001b[0m\u001b[0;34m\u001b[0m\u001b[0m\n\u001b[1;32m    403\u001b[0m             raise ValueError(\"We need at least 1 word to plot a word cloud, \"\n",
      "\u001b[0;31mAttributeError\u001b[0m: 'str' object has no attribute 'items'"
     ]
    }
   ],
   "source": [
    "# 상위 500개만 wordcloud로 그리기\n",
    "\n",
    "\n",
    "wordcloud = WordCloud(\n",
    "    background_color='White',\n",
    "    relative_scaling=0.2,\n",
    "    # 한글이 안보일때 ios\n",
    "        # window는 'c:/Windows/Fonts/malgun.ttf'\n",
    "    font_path='AppleGothic'\n",
    "\n",
    ").generate_from_frequencies(artist_top500)"
   ]
  },
  {
   "cell_type": "code",
   "execution_count": 112,
   "metadata": {},
   "outputs": [
    {
     "name": "stdout",
     "output_type": "stream",
     "text": [
      "0      WSG워너비 (가야G)\n",
      "1                경서\n",
      "2              멜로망스\n",
      "3                주호\n",
      "4               임영웅\n",
      "           ...     \n",
      "495             양다일\n",
      "496              씨야\n",
      "497             다비치\n",
      "498             이승철\n",
      "499             권진아\n",
      "Name: 가수명, Length: 500, dtype: string\n"
     ]
    }
   ],
   "source": [
    "\n",
    "artist_name = melon_top500['가수명']\n",
    "print(artist_name)"
   ]
  },
  {
   "cell_type": "code",
   "execution_count": 114,
   "metadata": {},
   "outputs": [
    {
     "data": {
      "text/html": [
       "<div>\n",
       "<style scoped>\n",
       "    .dataframe tbody tr th:only-of-type {\n",
       "        vertical-align: middle;\n",
       "    }\n",
       "\n",
       "    .dataframe tbody tr th {\n",
       "        vertical-align: top;\n",
       "    }\n",
       "\n",
       "    .dataframe thead th {\n",
       "        text-align: right;\n",
       "    }\n",
       "</style>\n",
       "<table border=\"1\" class=\"dataframe\">\n",
       "  <thead>\n",
       "    <tr style=\"text-align: right;\">\n",
       "      <th></th>\n",
       "      <th>가수명</th>\n",
       "      <th>노래제목</th>\n",
       "      <th>발매일</th>\n",
       "      <th>가사</th>\n",
       "      <th>좋아요수</th>\n",
       "      <th>순위</th>\n",
       "    </tr>\n",
       "  </thead>\n",
       "  <tbody>\n",
       "    <tr>\n",
       "      <th>0</th>\n",
       "      <td>WSG워너비 (가야G)</td>\n",
       "      <td>그때 그 순간 그대로 (그그그)</td>\n",
       "      <td>2022-07-09</td>\n",
       "      <td>잘 지냈지? 조금은 어색해 요즘 좋아 보여 인사 나누며 사실 궁금한 게 너무 많았는...</td>\n",
       "      <td>79774</td>\n",
       "      <td>1</td>\n",
       "    </tr>\n",
       "    <tr>\n",
       "      <th>1</th>\n",
       "      <td>경서</td>\n",
       "      <td>나의 X에게</td>\n",
       "      <td>2022-04-24</td>\n",
       "      <td>우리 다시 만날래 예쁘게 빛나던 모든 추억들이 너무 그리워 너의 품에 안길래 이 밤...</td>\n",
       "      <td>101199</td>\n",
       "      <td>2</td>\n",
       "    </tr>\n",
       "    <tr>\n",
       "      <th>2</th>\n",
       "      <td>멜로망스</td>\n",
       "      <td>사랑인가 봐</td>\n",
       "      <td>2022-02-18</td>\n",
       "      <td>너와 함께 하고 싶은 일들을 상상하는 게 요즘 내 일상이 되고 너의 즐거워하는 모습...</td>\n",
       "      <td>146814</td>\n",
       "      <td>3</td>\n",
       "    </tr>\n",
       "    <tr>\n",
       "      <th>3</th>\n",
       "      <td>주호</td>\n",
       "      <td>내가 아니라도</td>\n",
       "      <td>2022-03-25</td>\n",
       "      <td>사랑이었다 별거 없던 내 하루에 빛이 돼준 단한 사람 나보다 나를 더 아껴 주던 너...</td>\n",
       "      <td>50533</td>\n",
       "      <td>4</td>\n",
       "    </tr>\n",
       "    <tr>\n",
       "      <th>4</th>\n",
       "      <td>임영웅</td>\n",
       "      <td>사랑은 늘 도망가</td>\n",
       "      <td>2021-10-11</td>\n",
       "      <td>눈물이 난다 이 길을 걸으면 그 사람 손길이 자꾸 생각이 난다 붙잡지 못하고 가슴만...</td>\n",
       "      <td>169216</td>\n",
       "      <td>5</td>\n",
       "    </tr>\n",
       "  </tbody>\n",
       "</table>\n",
       "</div>"
      ],
      "text/plain": [
       "            가수명               노래제목         발매일  \\\n",
       "0  WSG워너비 (가야G)  그때 그 순간 그대로 (그그그)  2022-07-09   \n",
       "1            경서             나의 X에게  2022-04-24   \n",
       "2          멜로망스             사랑인가 봐  2022-02-18   \n",
       "3            주호            내가 아니라도  2022-03-25   \n",
       "4           임영웅          사랑은 늘 도망가  2021-10-11   \n",
       "\n",
       "                                                  가사    좋아요수  순위  \n",
       "0  잘 지냈지? 조금은 어색해 요즘 좋아 보여 인사 나누며 사실 궁금한 게 너무 많았는...   79774   1  \n",
       "1  우리 다시 만날래 예쁘게 빛나던 모든 추억들이 너무 그리워 너의 품에 안길래 이 밤...  101199   2  \n",
       "2  너와 함께 하고 싶은 일들을 상상하는 게 요즘 내 일상이 되고 너의 즐거워하는 모습...  146814   3  \n",
       "3  사랑이었다 별거 없던 내 하루에 빛이 돼준 단한 사람 나보다 나를 더 아껴 주던 너...   50533   4  \n",
       "4  눈물이 난다 이 길을 걸으면 그 사람 손길이 자꾸 생각이 난다 붙잡지 못하고 가슴만...  169216   5  "
      ]
     },
     "execution_count": 114,
     "metadata": {},
     "output_type": "execute_result"
    }
   ],
   "source": [
    "melon_top500 = pd.read_csv(\"../Data/melon_top500.csv\")\n",
    "melon_top500.head()"
   ]
  },
  {
   "cell_type": "code",
   "execution_count": 119,
   "metadata": {},
   "outputs": [
    {
     "data": {
      "text/plain": [
       "array(['WSG워너비 (가야G)', '경서', '멜로망스', '주호', '임영웅', '김민석 (멜로망스)', '경서예지',\n",
       "       '이석훈', '케이시 (Kassy)', 'MSG워너비(M.O.M)', '#안녕', '성시경', '다비치', '임재현',\n",
       "       '아이유', '폴킴', 'V.O.S', '이무진', '탑현', '지민', 'AKMU (악뮤)',\n",
       "       '딘딘 (DINDIN)', '세븐틴', '10CM', '한동근', '정동하', 'HYNN (박혜원)', '김종국',\n",
       "       '산들', '휘인 (Whee In)', '길구봉구', '조유진 (체리필터)', '하은 (포맨)', '김재환',\n",
       "       'SG 워너비', 'Sondia', '헤이즈 (Heize)', '노을', '씨야', '조정석', '이예준',\n",
       "       'WSG워너비 조별경연 (대청봉)', '엠씨더맥스 (M.C the MAX)', '김필', '선우정아', 'TOIL',\n",
       "       '이홍기 (FT아일랜드)', '에일리(Ailee)', '비비 (BIBI)', '신용재 (2F)', '윤토벤',\n",
       "       '김나영', 'V', '장범준', '정승환', '스트레이 (The Stray)', 'WSG워너비 조별경연 (비로봉)',\n",
       "       '21학번', '태연 (TAEYEON)', '신예영', '윤종신', '적재', '박효신',\n",
       "       '먼데이 키즈 (Monday Kiz)', '윤하 (YOUNHA)', '황치열', '김현성', '송하예', '임창정',\n",
       "       '카더가든', '이승윤', '비스트', '볼빨간사춘기', 'HIGH4 (하이포)', '케이윌', '로꼬', '임한별',\n",
       "       'izi', '어반자카파', '닐로(Nilo)', '황인욱', '빅마마', '권진아', '싸이 (PSY)', '서인국',\n",
       "       '에이치코드 (H:CODE)', '이수 (엠씨더맥스)', '전상근', '린', 'WSG워너비 조별경연 (신선봉)',\n",
       "       '어쿠스틱 콜라보', '규현 (KYUHYUN)', '거미', '김호중', '정은지', '백지영', '허각', '비투비',\n",
       "       '백아연', 'BIGBANG (빅뱅)', '마크툽 (MAKTUB)', '지아', '하동균', '지연', '장덕철',\n",
       "       '김종완 of NELL', '전우성 (노을)', '이승기', '전미도', '포맨 (4MEN)',\n",
       "       'CHEEZE (치즈)', '벤', '스탠딩 에그', '데이먼스 이어 (Damons year)', '로이킴', '모세',\n",
       "       '순순희', 'LE SSERAFIM (르세라핌)', '백예린 (Yerin Baek)', 'Crush', '이소라',\n",
       "       '진영 (GOT7)', '김세정', '박원', '김대명', '검정치마', '장혜진', 'aespa',\n",
       "       '조이 (JOY)', '양다일', '도영 (DOYOUNG)', '김범수', '김태우', '박명수', '양정승',\n",
       "       '박봄 (Park Bom)', '김연우', '진민호', '아이오아이 (I.O.I)', '테이',\n",
       "       'MSG워너비(정상동기)', '이적', '에이트', '바이브', '토이', '조현아 (어반자카파)', '나윤권',\n",
       "       'MC몽', '이루', '이기찬', '포스트맨(Postmen)', '하울', '정인', 'BMK',\n",
       "       'T.P RETRO (타디스 프로젝트舊)', '이소정', '오혁', 'WINNER', '엠투엠 (M To M)',\n",
       "       '백현 (BAEKHYUN)', '정키', '모트 (Motte)', '가비엔제이', '백예슬', '선예', '아이비',\n",
       "       '첸 (CHEN)', '죠지', '이승철', '브라운 아이드 소울', '펀치 (Punch)', '용준형',\n",
       "       '경서 (경서예지)', '잔나비', '이우', '정세운', '존박', '이선희', '김기태',\n",
       "       '문문 (MoonMoon)', 'HOZIHO', '이수현', '디셈버', '2NE1', '팀', '얀', '정효빈',\n",
       "       '울랄라세션', '긱스 (Geeks)', '럼블피쉬', '이해리 (다비치)', 'Homme (창민, 이현)',\n",
       "       '포지션', 'SS501', '윤미래', '안예은', '윤건', 'NCT DREAM', '찬열 (CHANYEOL)',\n",
       "       '박민혜 (빅마마)', 'EXO', '정동원', '이아영', '로시 (Rothy)', '써니힐', '교이', '양파',\n",
       "       '왁스', '전건호', '브라운 아이즈'], dtype=object)"
      ]
     },
     "execution_count": 119,
     "metadata": {},
     "output_type": "execute_result"
    }
   ],
   "source": [
    "melon_top500['가수명'].unique()"
   ]
  },
  {
   "cell_type": "code",
   "execution_count": null,
   "metadata": {},
   "outputs": [],
   "source": []
  }
 ],
 "metadata": {
  "kernelspec": {
   "display_name": "Python 3.9.7 ('base')",
   "language": "python",
   "name": "python3"
  },
  "language_info": {
   "codemirror_mode": {
    "name": "ipython",
    "version": 3
   },
   "file_extension": ".py",
   "mimetype": "text/x-python",
   "name": "python",
   "nbconvert_exporter": "python",
   "pygments_lexer": "ipython3",
   "version": "3.9.7"
  },
  "orig_nbformat": 4,
  "vscode": {
   "interpreter": {
    "hash": "c34e8390e776d2ee205b71ed5a6130fee3cef8da5e87e926ce18e14f4a070d72"
   }
  }
 },
 "nbformat": 4,
 "nbformat_minor": 2
}
