{
 "cells": [
  {
   "cell_type": "code",
   "execution_count": 1,
   "metadata": {},
   "outputs": [],
   "source": [
    "from bs4 import BeautifulSoup\n",
    "from urllib.request import urlopen\n",
    "import pandas as pd\n",
    "from selenium import webdriver\n",
    "from selenium.webdriver.chrome.service import Service\n",
    "from webdriver_manager.chrome import ChromeDriverManager\n",
    "from selenium.webdriver.common.by import By\n",
    "from bs4 import BeautifulSoup\n",
    "import urllib.request as request"
   ]
  },
  {
   "cell_type": "code",
   "execution_count": 2,
   "metadata": {},
   "outputs": [
    {
     "name": "stdout",
     "output_type": "stream",
     "text": [
      "\n"
     ]
    }
   ],
   "source": [
    "chrome_options = webdriver.ChromeOptions()\n",
    "driver = webdriver.Chrome(service=Service(ChromeDriverManager().install()), options=chrome_options)\n",
    "driver.get('https://www.melon.com/genre/song_list.htm#params%5BgnrCode%5D=GN0100&params%5BdtlGnrCode%5D=&params%5BorderBy%5D=POP&params%5BsteadyYn%5D=N&po=pageObj&startIndex=1')"
   ]
  },
  {
   "cell_type": "code",
   "execution_count": 3,
   "metadata": {},
   "outputs": [],
   "source": [
    "page_source = driver.page_source\n",
    "soup = BeautifulSoup(page_source, \"html.parser\")"
   ]
  },
  {
   "cell_type": "code",
   "execution_count": 4,
   "metadata": {},
   "outputs": [],
   "source": [
    "# songId 가져오기\n",
    "songIds = soup.select(\"#frm > div > table > tbody td:nth-child(4) > div > a\")"
   ]
  },
  {
   "cell_type": "code",
   "execution_count": 5,
   "metadata": {},
   "outputs": [
    {
     "name": "stdout",
     "output_type": "stream",
     "text": [
      "35383397\n",
      "34943312\n",
      "34657844\n",
      "34061322\n",
      "34787226\n",
      "34431086\n",
      "34908740\n",
      "33496587\n",
      "35388184\n",
      "35177030\n",
      "35008524\n",
      "34701627\n",
      "4446485\n",
      "35252996\n",
      "35145136\n",
      "35275022\n",
      "34481680\n",
      "34599917\n",
      "33625988\n",
      "33061995\n",
      "3414749\n",
      "35453293\n",
      "30962526\n",
      "35126568\n",
      "35255652\n",
      "34360855\n",
      "35008527\n",
      "34535898\n",
      "34943241\n",
      "33868791\n",
      "32061975\n",
      "35008534\n",
      "34082381\n",
      "35380365\n",
      "34752959\n",
      "34373632\n",
      "35418345\n",
      "33248758\n",
      "32794652\n",
      "32224166\n",
      "35372649\n",
      "30514366\n",
      "31703498\n",
      "30314784\n",
      "34632789\n",
      "33759183\n",
      "34701996\n",
      "35414734\n",
      "35014621\n",
      "30144225\n"
     ]
    }
   ],
   "source": [
    "# songId 가져오기\n",
    "\n",
    "for songId in songIds:\n",
    "    print(songId['href'].split('\\'')[1])\n"
   ]
  },
  {
   "cell_type": "code",
   "execution_count": 6,
   "metadata": {},
   "outputs": [
    {
     "name": "stdout",
     "output_type": "stream",
     "text": [
      "\n",
      "\n",
      "\n",
      "\n",
      "\n",
      "\n",
      "\n",
      "\n",
      "\n",
      "\n"
     ]
    }
   ],
   "source": [
    "total_lists = []\n",
    "for page in list(range(1,500, 50)):\n",
    "\n",
    "  driver = webdriver.Chrome(service=Service(ChromeDriverManager().install()), options=chrome_options)\n",
    "  driver.get('https://www.melon.com/genre/song_list.htm#params%5BgnrCode%5D=GN0100&params%5BdtlGnrCode%5D=&params%5BorderBy%5D=POP&params%5BsteadyYn%5D=N&po=pageObj&startIndex='+ str(page))\n",
    "\n",
    "  page_source = driver.page_source\n",
    "  soup = BeautifulSoup(page_source, \"html.parser\")\n",
    "\n",
    "  songIds = soup.select(\"#frm > div > table > tbody td:nth-child(4) > div > a\")\n",
    "  total_lists = total_lists + songIds"
   ]
  },
  {
   "cell_type": "code",
   "execution_count": 7,
   "metadata": {},
   "outputs": [
    {
     "data": {
      "text/plain": [
       "500"
      ]
     },
     "execution_count": 7,
     "metadata": {},
     "output_type": "execute_result"
    }
   ],
   "source": [
    "# songId 가져오기\n",
    "songId_list = []\n",
    "for songId in total_lists:\n",
    "    songId_list.append(songId['href'].split('\\'')[1])\n",
    "\n",
    "len(songId_list)"
   ]
  },
  {
   "cell_type": "code",
   "execution_count": 8,
   "metadata": {},
   "outputs": [],
   "source": [
    "# songId_list"
   ]
  },
  {
   "cell_type": "markdown",
   "metadata": {},
   "source": [
    "---\n",
    "- songid dataframe으로 저장"
   ]
  },
  {
   "cell_type": "code",
   "execution_count": 9,
   "metadata": {},
   "outputs": [],
   "source": [
    "# 가수명, 노래제목, 발매일, 가사, 좋아요 수 리스트 변수 생성\n",
    "\n",
    "singer_list = []\n",
    "singName_list = []\n",
    "date_list = []\n",
    "lyrics_list = []\n",
    "like_list = []"
   ]
  },
  {
   "cell_type": "code",
   "execution_count": 10,
   "metadata": {},
   "outputs": [],
   "source": [
    "import time"
   ]
  },
  {
   "cell_type": "code",
   "execution_count": 12,
   "metadata": {},
   "outputs": [],
   "source": [
    "# # for문으로 가수명, 노래제목, 발매일, 가사, 좋아요 수 리스트 변수에 내용 담고 저장하기\n",
    "\n",
    "# chrome_options = webdriver.ChromeOptions()\n",
    "# driver = webdriver.Chrome(service=Service(ChromeDriverManager().install()), options=chrome_options)\n",
    "\n",
    "# for songId in songId_list:\n",
    "    \n",
    "#     driver.get(f'https://www.melon.com/song/detail.htm?songId={songId}')\n",
    "\n",
    "#     page_source = driver.page_source\n",
    "#     soup = BeautifulSoup(page_source, \"html.parser\")\n",
    "#     time.sleep(2)\n",
    "#     try:\n",
    "#         time.sleep(1)\n",
    "#         # 가수명 가져오기\n",
    "#         artist_name = soup.select_one('#downloadfrm > div > div > div.entry > div.info > div.artist > a > span:nth-child(1) ')\n",
    "#         singer_list.append(artist_name.string)\n",
    "        \n",
    "\n",
    "#         # 노래제목 가져오기\n",
    "#         song_name = soup.select_one(\"#downloadfrm > div > div > div.entry > div.info > div.song_name \")\n",
    "#         singName_list.append(song_name.text.strip().split('\\n\\t\\t\\t\\t\\t\\t\\t\\n\\t\\t\\t\\t\\t\\t\\t\\n\\t\\t\\t\\t\\t\\t\\t\\n\\t\\t\\t\\t\\t\\t\\t\\n\\t\\t\\t\\t\\t\\t\\t')[1])\n",
    "        \n",
    "\n",
    "#         # 발매일 가져오기\n",
    "#         date = soup.select_one('#downloadfrm > div > div > div.entry > div.meta > dl > dd:nth-child(4)')\n",
    "#         date_list.append(date.string)\n",
    "       \n",
    "\n",
    "#         # 가사 가져오기\n",
    "#         lyric = soup.select_one('#d_video_summary')\n",
    "#         lyrics_list.append(lyric.text.strip())\n",
    "\n",
    "#         # 좋아요수 가져오기\n",
    "#         like = soup.select_one(\"#d_like_count\")\n",
    "#         like_list.append(like.text)\n",
    "\n",
    "#         time.sleep(1)\n",
    "#     except:\n",
    "#         singer_list.append(0)\n",
    "#         singName_list.append(0)\n",
    "#         date_list.append(0)\n",
    "#         lyrics_list.append(0)\n",
    "#         like_list.append(0)\n",
    "\n",
    "#     time.sleep(1)"
   ]
  },
  {
   "cell_type": "code",
   "execution_count": null,
   "metadata": {},
   "outputs": [],
   "source": []
  },
  {
   "cell_type": "code",
   "execution_count": null,
   "metadata": {},
   "outputs": [],
   "source": []
  }
 ],
 "metadata": {
  "kernelspec": {
   "display_name": "Python 3.9.13 ('tensorflow')",
   "language": "python",
   "name": "python3"
  },
  "language_info": {
   "codemirror_mode": {
    "name": "ipython",
    "version": 3
   },
   "file_extension": ".py",
   "mimetype": "text/x-python",
   "name": "python",
   "nbconvert_exporter": "python",
   "pygments_lexer": "ipython3",
   "version": "3.9.13"
  },
  "orig_nbformat": 4,
  "vscode": {
   "interpreter": {
    "hash": "00c8100a7997e958d8100731b108691612e131425235a19f9419f6b3b0ff44b3"
   }
  }
 },
 "nbformat": 4,
 "nbformat_minor": 2
}
