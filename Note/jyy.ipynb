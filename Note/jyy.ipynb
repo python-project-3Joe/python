{
 "cells": [
  {
   "cell_type": "code",
   "execution_count": 1,
   "metadata": {},
   "outputs": [],
   "source": [
    "from bs4 import BeautifulSoup\n",
    "from urllib.request import urlopen\n",
    "import pandas as pd\n",
    "from selenium import webdriver\n",
    "from selenium.webdriver.chrome.service import Service\n",
    "from webdriver_manager.chrome import ChromeDriverManager\n",
    "from selenium.webdriver.common.by import By\n",
    "from bs4 import BeautifulSoup\n",
    "import urllib.request as request"
   ]
  },
  {
   "cell_type": "code",
   "execution_count": 2,
   "metadata": {},
   "outputs": [
    {
     "name": "stdout",
     "output_type": "stream",
     "text": [
      "\n"
     ]
    }
   ],
   "source": [
    "chrome_options = webdriver.ChromeOptions()\n",
    "driver = webdriver.Chrome(service=Service(ChromeDriverManager().install()), options=chrome_options)\n",
    "driver.get('https://www.melon.com/genre/song_list.htm#params%5BgnrCode%5D=GN0100&params%5BdtlGnrCode%5D=&params%5BorderBy%5D=POP&params%5BsteadyYn%5D=N&po=pageObj&startIndex=1')"
   ]
  },
  {
   "cell_type": "code",
   "execution_count": 3,
   "metadata": {},
   "outputs": [],
   "source": [
    "page_source = driver.page_source\n",
    "soup = BeautifulSoup(page_source, \"html.parser\")"
   ]
  },
  {
   "cell_type": "code",
   "execution_count": 4,
   "metadata": {},
   "outputs": [],
   "source": [
    "# songId 가져오기\n",
    "songIds = soup.select(\"#frm > div > table > tbody td:nth-child(4) > div > a\")"
   ]
  },
  {
   "cell_type": "code",
   "execution_count": 5,
   "metadata": {},
   "outputs": [
    {
     "name": "stdout",
     "output_type": "stream",
     "text": [
      "35383397\n",
      "34943312\n",
      "34657844\n",
      "34061322\n",
      "34787226\n",
      "34431086\n",
      "34908740\n",
      "33496587\n",
      "35388184\n",
      "35177030\n",
      "35008524\n",
      "34701627\n",
      "4446485\n",
      "35252996\n",
      "35145136\n",
      "35275022\n",
      "34481680\n",
      "34599917\n",
      "33625988\n",
      "33061995\n",
      "3414749\n",
      "35453293\n",
      "30962526\n",
      "35126568\n",
      "35255652\n",
      "34360855\n",
      "35008527\n",
      "34535898\n",
      "34943241\n",
      "33868791\n",
      "32061975\n",
      "35008534\n",
      "34082381\n",
      "35380365\n",
      "34752959\n",
      "34373632\n",
      "35418345\n",
      "33248758\n",
      "32794652\n",
      "32224166\n",
      "35372649\n",
      "30514366\n",
      "31703498\n",
      "30314784\n",
      "34632789\n",
      "33759183\n",
      "34701996\n",
      "35414734\n",
      "35014621\n",
      "30144225\n"
     ]
    }
   ],
   "source": [
    "# songId 가져오기\n",
    "\n",
    "for songId in songIds:\n",
    "    print(songId['href'].split('\\'')[1])\n"
   ]
  },
  {
   "cell_type": "code",
   "execution_count": 6,
   "metadata": {},
   "outputs": [
    {
     "name": "stdout",
     "output_type": "stream",
     "text": [
      "\n",
      "\n",
      "\n",
      "\n",
      "\n",
      "\n",
      "\n",
      "\n",
      "\n",
      "\n"
     ]
    }
   ],
   "source": [
    "total_lists = []\n",
    "for page in list(range(1,500, 50)):\n",
    "\n",
    "  driver = webdriver.Chrome(service=Service(ChromeDriverManager().install()), options=chrome_options)\n",
    "  driver.get('https://www.melon.com/genre/song_list.htm#params%5BgnrCode%5D=GN0100&params%5BdtlGnrCode%5D=&params%5BorderBy%5D=POP&params%5BsteadyYn%5D=N&po=pageObj&startIndex='+ str(page))\n",
    "\n",
    "  page_source = driver.page_source\n",
    "  soup = BeautifulSoup(page_source, \"html.parser\")\n",
    "\n",
    "  songIds = soup.select(\"#frm > div > table > tbody td:nth-child(4) > div > a\")\n",
    "  total_lists = total_lists + songIds"
   ]
  },
  {
   "cell_type": "code",
   "execution_count": 7,
   "metadata": {},
   "outputs": [
    {
     "data": {
      "text/plain": [
       "500"
      ]
     },
     "execution_count": 7,
     "metadata": {},
     "output_type": "execute_result"
    }
   ],
   "source": [
    "# songId 가져오기\n",
    "songId_list = []\n",
    "for songId in total_lists:\n",
    "    songId_list.append(songId['href'].split('\\'')[1])\n",
    "\n",
    "len(songId_list)"
   ]
  },
  {
   "cell_type": "code",
   "execution_count": 8,
   "metadata": {},
   "outputs": [],
   "source": [
    "# songId_list"
   ]
  },
  {
   "cell_type": "markdown",
   "metadata": {},
   "source": [
    "---\n",
    "- songid dataframe으로 저장"
   ]
  },
  {
   "cell_type": "code",
   "execution_count": 9,
   "metadata": {},
   "outputs": [],
   "source": [
    "# 가수명, 노래제목, 발매일, 가사, 좋아요 수 리스트 변수 생성\n",
    "\n",
    "singer_list = []\n",
    "singName_list = []\n",
    "date_list = []\n",
    "lyrics_list = []\n",
    "like_list = []"
   ]
  },
  {
   "cell_type": "code",
   "execution_count": 10,
   "metadata": {},
   "outputs": [],
   "source": [
    "import time"
   ]
  },
  {
   "cell_type": "code",
   "execution_count": 12,
   "metadata": {},
   "outputs": [],
   "source": [
    "# # for문으로 가수명, 노래제목, 발매일, 가사, 좋아요 수 리스트 변수에 내용 담고 저장하기\n",
    "\n",
    "# chrome_options = webdriver.ChromeOptions()\n",
    "# driver = webdriver.Chrome(service=Service(ChromeDriverManager().install()), options=chrome_options)\n",
    "\n",
    "# for songId in songId_list:\n",
    "    \n",
    "#     driver.get(f'https://www.melon.com/song/detail.htm?songId={songId}')\n",
    "\n",
    "#     page_source = driver.page_source\n",
    "#     soup = BeautifulSoup(page_source, \"html.parser\")\n",
    "#     time.sleep(2)\n",
    "#     try:\n",
    "#         time.sleep(1)\n",
    "#         # 가수명 가져오기\n",
    "#         artist_name = soup.select_one('#downloadfrm > div > div > div.entry > div.info > div.artist > a > span:nth-child(1) ')\n",
    "#         singer_list.append(artist_name.string)\n",
    "        \n",
    "\n",
    "#         # 노래제목 가져오기\n",
    "#         song_name = soup.select_one(\"#downloadfrm > div > div > div.entry > div.info > div.song_name \")\n",
    "#         singName_list.append(song_name.text.strip().split('\\n\\t\\t\\t\\t\\t\\t\\t\\n\\t\\t\\t\\t\\t\\t\\t\\n\\t\\t\\t\\t\\t\\t\\t\\n\\t\\t\\t\\t\\t\\t\\t\\n\\t\\t\\t\\t\\t\\t\\t')[1])\n",
    "        \n",
    "\n",
    "#         # 발매일 가져오기\n",
    "#         date = soup.select_one('#downloadfrm > div > div > div.entry > div.meta > dl > dd:nth-child(4)')\n",
    "#         date_list.append(date.string)\n",
    "       \n",
    "\n",
    "#         # 가사 가져오기\n",
    "#         lyric = soup.select_one('#d_video_summary')\n",
    "#         lyrics_list.append(lyric.text.strip())\n",
    "\n",
    "#         # 좋아요수 가져오기\n",
    "#         like = soup.select_one(\"#d_like_count\")\n",
    "#         like_list.append(like.text)\n",
    "\n",
    "#         time.sleep(1)\n",
    "#     except:\n",
    "#         singer_list.append(0)\n",
    "#         singName_list.append(0)\n",
    "#         date_list.append(0)\n",
    "#         lyrics_list.append(0)\n",
    "#         like_list.append(0)\n",
    "\n",
    "#     time.sleep(1)"
   ]
  },
  {
   "cell_type": "code",
   "execution_count": 20,
   "metadata": {},
   "outputs": [
    {
     "data": {
      "text/plain": [
       "495    골목길 머뭇하던 첫 안녕을 기억하오그날의 끄덕임을 난 잊을 수 없다오길가에 내린 새...\n",
       "496    내맘 들킬까봐훤히 보일까봐서 애써 관심도 없는 척해그저 장난처럼 괜히 던지는 말난 ...\n",
       "497                                                    0\n",
       "498    안녕 안녕 안녕사랑한 그녀가 보내 달라 하네요안녕 안녕 안녕 밤하늘 별들아그녀 가는...\n",
       "499    내 맘이 보이니 왜 사랑인거니다시는 하지 말자던 사랑 참 많이 바보 같지왜 행복 한...\n",
       "Name: 가사, dtype: object"
      ]
     },
     "execution_count": 20,
     "metadata": {},
     "output_type": "execute_result"
    }
   ],
   "source": [
    "df = pd.read_csv(\"../Data/melon_top306.csv\")\n",
    "df.가사[495:]"
   ]
  },
  {
   "cell_type": "code",
   "execution_count": 31,
   "metadata": {},
   "outputs": [
    {
     "data": {
      "text/html": [
       "<div>\n",
       "<style scoped>\n",
       "    .dataframe tbody tr th:only-of-type {\n",
       "        vertical-align: middle;\n",
       "    }\n",
       "\n",
       "    .dataframe tbody tr th {\n",
       "        vertical-align: top;\n",
       "    }\n",
       "\n",
       "    .dataframe thead th {\n",
       "        text-align: right;\n",
       "    }\n",
       "</style>\n",
       "<table border=\"1\" class=\"dataframe\">\n",
       "  <thead>\n",
       "    <tr style=\"text-align: right;\">\n",
       "      <th></th>\n",
       "      <th>가수명</th>\n",
       "      <th>노래제목</th>\n",
       "      <th>발매일</th>\n",
       "      <th>가사</th>\n",
       "      <th>좋아요수</th>\n",
       "      <th>순위</th>\n",
       "    </tr>\n",
       "  </thead>\n",
       "  <tbody>\n",
       "    <tr>\n",
       "      <th>0</th>\n",
       "      <td>WSG워너비 (가야G)</td>\n",
       "      <td>그때 그 순간 그대로 (그그그)</td>\n",
       "      <td>2022-07-09</td>\n",
       "      <td>잘 지냈지? 조금은 어색해 요즘 좋아 보여 인사 나누며사실 궁금한 게 너무 많았는데...</td>\n",
       "      <td>78460.0</td>\n",
       "      <td>1</td>\n",
       "    </tr>\n",
       "    <tr>\n",
       "      <th>1</th>\n",
       "      <td>경서</td>\n",
       "      <td>나의 X에게</td>\n",
       "      <td>2022-04-24</td>\n",
       "      <td>우리 다시 만날래예쁘게 빛나던모든 추억들이너무 그리워너의 품에 안길래이 밤이 새도록...</td>\n",
       "      <td>100760.0</td>\n",
       "      <td>2</td>\n",
       "    </tr>\n",
       "    <tr>\n",
       "      <th>2</th>\n",
       "      <td>멜로망스</td>\n",
       "      <td>사랑인가 봐</td>\n",
       "      <td>2022-02-18</td>\n",
       "      <td>너와 함께 하고 싶은 일들을상상하는 게요즘 내 일상이 되고너의 즐거워하는 모습을 보...</td>\n",
       "      <td>146642.0</td>\n",
       "      <td>3</td>\n",
       "    </tr>\n",
       "    <tr>\n",
       "      <th>3</th>\n",
       "      <td>임영웅</td>\n",
       "      <td>사랑은 늘 도망가</td>\n",
       "      <td>2021-10-11</td>\n",
       "      <td>눈물이 난다 이 길을 걸으면그 사람 손길이 자꾸 생각이 난다붙잡지 못하고 가슴만 떨...</td>\n",
       "      <td>169145.0</td>\n",
       "      <td>4</td>\n",
       "    </tr>\n",
       "    <tr>\n",
       "      <th>4</th>\n",
       "      <td>주호</td>\n",
       "      <td>내가 아니라도</td>\n",
       "      <td>2022-03-25</td>\n",
       "      <td>사랑이었다 별거 없던 내 하루에빛이 돼준 단한 사람나보다 나를 더 아껴 주던 너를그...</td>\n",
       "      <td>50189.0</td>\n",
       "      <td>5</td>\n",
       "    </tr>\n",
       "  </tbody>\n",
       "</table>\n",
       "</div>"
      ],
      "text/plain": [
       "            가수명               노래제목         발매일  \\\n",
       "0  WSG워너비 (가야G)  그때 그 순간 그대로 (그그그)  2022-07-09   \n",
       "1            경서             나의 X에게  2022-04-24   \n",
       "2          멜로망스             사랑인가 봐  2022-02-18   \n",
       "3           임영웅          사랑은 늘 도망가  2021-10-11   \n",
       "4            주호            내가 아니라도  2022-03-25   \n",
       "\n",
       "                                                  가사      좋아요수  순위  \n",
       "0  잘 지냈지? 조금은 어색해 요즘 좋아 보여 인사 나누며사실 궁금한 게 너무 많았는데...   78460.0   1  \n",
       "1  우리 다시 만날래예쁘게 빛나던모든 추억들이너무 그리워너의 품에 안길래이 밤이 새도록...  100760.0   2  \n",
       "2  너와 함께 하고 싶은 일들을상상하는 게요즘 내 일상이 되고너의 즐거워하는 모습을 보...  146642.0   3  \n",
       "3  눈물이 난다 이 길을 걸으면그 사람 손길이 자꾸 생각이 난다붙잡지 못하고 가슴만 떨...  169145.0   4  \n",
       "4  사랑이었다 별거 없던 내 하루에빛이 돼준 단한 사람나보다 나를 더 아껴 주던 너를그...   50189.0   5  "
      ]
     },
     "execution_count": 31,
     "metadata": {},
     "output_type": "execute_result"
    }
   ],
   "source": [
    "df.head()"
   ]
  },
  {
   "cell_type": "markdown",
   "metadata": {},
   "source": [
    "---\n",
    "- 0값 확인하기"
   ]
  },
  {
   "cell_type": "code",
   "execution_count": 44,
   "metadata": {},
   "outputs": [
    {
     "data": {
      "text/html": [
       "<div>\n",
       "<style scoped>\n",
       "    .dataframe tbody tr th:only-of-type {\n",
       "        vertical-align: middle;\n",
       "    }\n",
       "\n",
       "    .dataframe tbody tr th {\n",
       "        vertical-align: top;\n",
       "    }\n",
       "\n",
       "    .dataframe thead th {\n",
       "        text-align: right;\n",
       "    }\n",
       "</style>\n",
       "<table border=\"1\" class=\"dataframe\">\n",
       "  <thead>\n",
       "    <tr style=\"text-align: right;\">\n",
       "      <th></th>\n",
       "      <th>가수명</th>\n",
       "      <th>노래제목</th>\n",
       "      <th>발매일</th>\n",
       "      <th>가사</th>\n",
       "      <th>좋아요수</th>\n",
       "      <th>순위</th>\n",
       "    </tr>\n",
       "  </thead>\n",
       "  <tbody>\n",
       "    <tr>\n",
       "      <th>497</th>\n",
       "      <td>리쌍</td>\n",
       "      <td>0</td>\n",
       "      <td>NaN</td>\n",
       "      <td>0</td>\n",
       "      <td>NaN</td>\n",
       "      <td>498</td>\n",
       "    </tr>\n",
       "  </tbody>\n",
       "</table>\n",
       "</div>"
      ],
      "text/plain": [
       "    가수명 노래제목  발매일 가사  좋아요수   순위\n",
       "497  리쌍    0  NaN  0   NaN  498"
      ]
     },
     "execution_count": 44,
     "metadata": {},
     "output_type": "execute_result"
    }
   ],
   "source": [
    "df[df.노래제목 == \"0\"]"
   ]
  },
  {
   "cell_type": "markdown",
   "metadata": {},
   "source": [
    "> 노래가 19세 이상 제한이 걸려있어서 제거하기로했습니다."
   ]
  },
  {
   "cell_type": "code",
   "execution_count": 45,
   "metadata": {},
   "outputs": [
    {
     "data": {
      "text/html": [
       "<div>\n",
       "<style scoped>\n",
       "    .dataframe tbody tr th:only-of-type {\n",
       "        vertical-align: middle;\n",
       "    }\n",
       "\n",
       "    .dataframe tbody tr th {\n",
       "        vertical-align: top;\n",
       "    }\n",
       "\n",
       "    .dataframe thead th {\n",
       "        text-align: right;\n",
       "    }\n",
       "</style>\n",
       "<table border=\"1\" class=\"dataframe\">\n",
       "  <thead>\n",
       "    <tr style=\"text-align: right;\">\n",
       "      <th></th>\n",
       "      <th>가수명</th>\n",
       "      <th>노래제목</th>\n",
       "      <th>발매일</th>\n",
       "      <th>가사</th>\n",
       "      <th>좋아요수</th>\n",
       "      <th>순위</th>\n",
       "    </tr>\n",
       "  </thead>\n",
       "  <tbody>\n",
       "    <tr>\n",
       "      <th>0</th>\n",
       "      <td>WSG워너비 (가야G)</td>\n",
       "      <td>그때 그 순간 그대로 (그그그)</td>\n",
       "      <td>2022-07-09</td>\n",
       "      <td>잘 지냈지? 조금은 어색해 요즘 좋아 보여 인사 나누며사실 궁금한 게 너무 많았는데...</td>\n",
       "      <td>78460.0</td>\n",
       "      <td>1</td>\n",
       "    </tr>\n",
       "    <tr>\n",
       "      <th>1</th>\n",
       "      <td>경서</td>\n",
       "      <td>나의 X에게</td>\n",
       "      <td>2022-04-24</td>\n",
       "      <td>우리 다시 만날래예쁘게 빛나던모든 추억들이너무 그리워너의 품에 안길래이 밤이 새도록...</td>\n",
       "      <td>100760.0</td>\n",
       "      <td>2</td>\n",
       "    </tr>\n",
       "    <tr>\n",
       "      <th>2</th>\n",
       "      <td>멜로망스</td>\n",
       "      <td>사랑인가 봐</td>\n",
       "      <td>2022-02-18</td>\n",
       "      <td>너와 함께 하고 싶은 일들을상상하는 게요즘 내 일상이 되고너의 즐거워하는 모습을 보...</td>\n",
       "      <td>146642.0</td>\n",
       "      <td>3</td>\n",
       "    </tr>\n",
       "    <tr>\n",
       "      <th>3</th>\n",
       "      <td>임영웅</td>\n",
       "      <td>사랑은 늘 도망가</td>\n",
       "      <td>2021-10-11</td>\n",
       "      <td>눈물이 난다 이 길을 걸으면그 사람 손길이 자꾸 생각이 난다붙잡지 못하고 가슴만 떨...</td>\n",
       "      <td>169145.0</td>\n",
       "      <td>4</td>\n",
       "    </tr>\n",
       "    <tr>\n",
       "      <th>4</th>\n",
       "      <td>주호</td>\n",
       "      <td>내가 아니라도</td>\n",
       "      <td>2022-03-25</td>\n",
       "      <td>사랑이었다 별거 없던 내 하루에빛이 돼준 단한 사람나보다 나를 더 아껴 주던 너를그...</td>\n",
       "      <td>50189.0</td>\n",
       "      <td>5</td>\n",
       "    </tr>\n",
       "    <tr>\n",
       "      <th>...</th>\n",
       "      <td>...</td>\n",
       "      <td>...</td>\n",
       "      <td>...</td>\n",
       "      <td>...</td>\n",
       "      <td>...</td>\n",
       "      <td>...</td>\n",
       "    </tr>\n",
       "    <tr>\n",
       "      <th>494</th>\n",
       "      <td>로시 (Rothy)</td>\n",
       "      <td>Stars</td>\n",
       "      <td>2017-11-09</td>\n",
       "      <td>내 별자리는 상처투성이 자리내 혈액형은 a b o 또 a b 형날 들킬까 봐 매일 ...</td>\n",
       "      <td>117781.0</td>\n",
       "      <td>495</td>\n",
       "    </tr>\n",
       "    <tr>\n",
       "      <th>495</th>\n",
       "      <td>아이유</td>\n",
       "      <td>러브레터</td>\n",
       "      <td>2021-12-29</td>\n",
       "      <td>골목길 머뭇하던 첫 안녕을 기억하오그날의 끄덕임을 난 잊을 수 없다오길가에 내린 새...</td>\n",
       "      <td>42473.0</td>\n",
       "      <td>496</td>\n",
       "    </tr>\n",
       "    <tr>\n",
       "      <th>496</th>\n",
       "      <td>V.O.S</td>\n",
       "      <td>큰일이다</td>\n",
       "      <td>2009-05-27</td>\n",
       "      <td>내맘 들킬까봐훤히 보일까봐서 애써 관심도 없는 척해그저 장난처럼 괜히 던지는 말난 ...</td>\n",
       "      <td>26680.0</td>\n",
       "      <td>497</td>\n",
       "    </tr>\n",
       "    <tr>\n",
       "      <th>498</th>\n",
       "      <td>윤민수(바이브)</td>\n",
       "      <td>그녀를 찾아주세요</td>\n",
       "      <td>2022-04-03</td>\n",
       "      <td>안녕 안녕 안녕사랑한 그녀가 보내 달라 하네요안녕 안녕 안녕 밤하늘 별들아그녀 가는...</td>\n",
       "      <td>6446.0</td>\n",
       "      <td>499</td>\n",
       "    </tr>\n",
       "    <tr>\n",
       "      <th>499</th>\n",
       "      <td>다비치</td>\n",
       "      <td>괜찮아 사랑이야</td>\n",
       "      <td>2014-07-30</td>\n",
       "      <td>내 맘이 보이니 왜 사랑인거니다시는 하지 말자던 사랑 참 많이 바보 같지왜 행복 한...</td>\n",
       "      <td>77492.0</td>\n",
       "      <td>500</td>\n",
       "    </tr>\n",
       "  </tbody>\n",
       "</table>\n",
       "<p>499 rows × 6 columns</p>\n",
       "</div>"
      ],
      "text/plain": [
       "              가수명               노래제목         발매일  \\\n",
       "0    WSG워너비 (가야G)  그때 그 순간 그대로 (그그그)  2022-07-09   \n",
       "1              경서             나의 X에게  2022-04-24   \n",
       "2            멜로망스             사랑인가 봐  2022-02-18   \n",
       "3             임영웅          사랑은 늘 도망가  2021-10-11   \n",
       "4              주호            내가 아니라도  2022-03-25   \n",
       "..            ...                ...         ...   \n",
       "494    로시 (Rothy)              Stars  2017-11-09   \n",
       "495           아이유               러브레터  2021-12-29   \n",
       "496         V.O.S               큰일이다  2009-05-27   \n",
       "498      윤민수(바이브)          그녀를 찾아주세요  2022-04-03   \n",
       "499           다비치           괜찮아 사랑이야  2014-07-30   \n",
       "\n",
       "                                                    가사      좋아요수   순위  \n",
       "0    잘 지냈지? 조금은 어색해 요즘 좋아 보여 인사 나누며사실 궁금한 게 너무 많았는데...   78460.0    1  \n",
       "1    우리 다시 만날래예쁘게 빛나던모든 추억들이너무 그리워너의 품에 안길래이 밤이 새도록...  100760.0    2  \n",
       "2    너와 함께 하고 싶은 일들을상상하는 게요즘 내 일상이 되고너의 즐거워하는 모습을 보...  146642.0    3  \n",
       "3    눈물이 난다 이 길을 걸으면그 사람 손길이 자꾸 생각이 난다붙잡지 못하고 가슴만 떨...  169145.0    4  \n",
       "4    사랑이었다 별거 없던 내 하루에빛이 돼준 단한 사람나보다 나를 더 아껴 주던 너를그...   50189.0    5  \n",
       "..                                                 ...       ...  ...  \n",
       "494  내 별자리는 상처투성이 자리내 혈액형은 a b o 또 a b 형날 들킬까 봐 매일 ...  117781.0  495  \n",
       "495  골목길 머뭇하던 첫 안녕을 기억하오그날의 끄덕임을 난 잊을 수 없다오길가에 내린 새...   42473.0  496  \n",
       "496  내맘 들킬까봐훤히 보일까봐서 애써 관심도 없는 척해그저 장난처럼 괜히 던지는 말난 ...   26680.0  497  \n",
       "498  안녕 안녕 안녕사랑한 그녀가 보내 달라 하네요안녕 안녕 안녕 밤하늘 별들아그녀 가는...    6446.0  499  \n",
       "499  내 맘이 보이니 왜 사랑인거니다시는 하지 말자던 사랑 참 많이 바보 같지왜 행복 한...   77492.0  500  \n",
       "\n",
       "[499 rows x 6 columns]"
      ]
     },
     "execution_count": 45,
     "metadata": {},
     "output_type": "execute_result"
    }
   ],
   "source": [
    "df.drop(index=497)"
   ]
  },
  {
   "cell_type": "code",
   "execution_count": 47,
   "metadata": {},
   "outputs": [
    {
     "data": {
      "text/plain": [
       "'우리 다시 만날래예쁘게 빛나던모든 추억들이너무 그리워너의 품에 안길래이 밤이 새도록네게 말할 거야너를 좋아한다고안녕 그대야요즘 어떻게 지내가로수길 걷다가생각이 나서행복해 보이는 사람들 속에우리 둘만 없어서어색했었어늘 집에 갈 땐항상 뒤돌아보면날 보며 웃어주던네가 생각났어우리 다시 만날래예쁘게 빛나던모든 추억들이너무 그리워너의 품에 안길래이 밤이 새도록네게 말할 거야너를 좋아한다고토요일마다 가던한강공원에이어폰 하나씩나눠끼고서벚꽃엔딩같이 듣고 있으면부러울 게 없었어너만 있으면널 사랑할 때내가 너무 그리워날 보며 웃어주던네가 보고 싶어우리 다시 만날래예쁘게 빛나던모든 추억들이너무 그리워너의 품에 안길래이 밤이 새도록네게 말할 거야너를 좋아한다고같이 별 보러 갈래널 다시 만나면네 옆에 기대서잠들고 싶어너의 품에 안길래이 밤이 새도록내 곁에 있어줘내겐 너뿐이라고'"
      ]
     },
     "execution_count": 47,
     "metadata": {},
     "output_type": "execute_result"
    }
   ],
   "source": [
    "df.가사[1]"
   ]
  },
  {
   "cell_type": "code",
   "execution_count": null,
   "metadata": {},
   "outputs": [],
   "source": []
  }
 ],
 "metadata": {
  "kernelspec": {
   "display_name": "Python 3.9.13 ('tensorflow')",
   "language": "python",
   "name": "python3"
  },
  "language_info": {
   "codemirror_mode": {
    "name": "ipython",
    "version": 3
   },
   "file_extension": ".py",
   "mimetype": "text/x-python",
   "name": "python",
   "nbconvert_exporter": "python",
   "pygments_lexer": "ipython3",
   "version": "3.9.13"
  },
  "orig_nbformat": 4,
  "vscode": {
   "interpreter": {
    "hash": "00c8100a7997e958d8100731b108691612e131425235a19f9419f6b3b0ff44b3"
   }
  }
 },
 "nbformat": 4,
 "nbformat_minor": 2
}
