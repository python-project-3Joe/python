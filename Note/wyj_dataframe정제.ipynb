{
 "cells": [
  {
   "cell_type": "code",
   "execution_count": 1,
   "metadata": {},
   "outputs": [],
   "source": [
    "import pandas as pd"
   ]
  },
  {
   "cell_type": "code",
   "execution_count": 2,
   "metadata": {},
   "outputs": [
    {
     "data": {
      "text/html": [
       "<div>\n",
       "<style scoped>\n",
       "    .dataframe tbody tr th:only-of-type {\n",
       "        vertical-align: middle;\n",
       "    }\n",
       "\n",
       "    .dataframe tbody tr th {\n",
       "        vertical-align: top;\n",
       "    }\n",
       "\n",
       "    .dataframe thead th {\n",
       "        text-align: right;\n",
       "    }\n",
       "</style>\n",
       "<table border=\"1\" class=\"dataframe\">\n",
       "  <thead>\n",
       "    <tr style=\"text-align: right;\">\n",
       "      <th></th>\n",
       "      <th>가수명</th>\n",
       "      <th>노래제목</th>\n",
       "      <th>발매일</th>\n",
       "      <th>가사</th>\n",
       "      <th>좋아요수</th>\n",
       "      <th>순위</th>\n",
       "    </tr>\n",
       "  </thead>\n",
       "  <tbody>\n",
       "    <tr>\n",
       "      <th>0</th>\n",
       "      <td>WSG워너비 (가야G)</td>\n",
       "      <td>그때 그 순간 그대로 (그그그)</td>\n",
       "      <td>2022-07-09</td>\n",
       "      <td>잘 지냈지? 조금은 어색해 요즘 좋아 보여 인사 나누며 사실 궁금한 게 너무 많았는...</td>\n",
       "      <td>79774</td>\n",
       "      <td>1</td>\n",
       "    </tr>\n",
       "    <tr>\n",
       "      <th>1</th>\n",
       "      <td>경서</td>\n",
       "      <td>나의 X에게</td>\n",
       "      <td>2022-04-24</td>\n",
       "      <td>우리 다시 만날래 예쁘게 빛나던 모든 추억들이 너무 그리워 너의 품에 안길래 이 밤...</td>\n",
       "      <td>101199</td>\n",
       "      <td>2</td>\n",
       "    </tr>\n",
       "    <tr>\n",
       "      <th>2</th>\n",
       "      <td>멜로망스</td>\n",
       "      <td>사랑인가 봐</td>\n",
       "      <td>2022-02-18</td>\n",
       "      <td>너와 함께 하고 싶은 일들을 상상하는 게 요즘 내 일상이 되고 너의 즐거워하는 모습...</td>\n",
       "      <td>146814</td>\n",
       "      <td>3</td>\n",
       "    </tr>\n",
       "    <tr>\n",
       "      <th>3</th>\n",
       "      <td>주호</td>\n",
       "      <td>내가 아니라도</td>\n",
       "      <td>2022-03-25</td>\n",
       "      <td>사랑이었다 별거 없던 내 하루에 빛이 돼준 단한 사람 나보다 나를 더 아껴 주던 너...</td>\n",
       "      <td>50533</td>\n",
       "      <td>4</td>\n",
       "    </tr>\n",
       "    <tr>\n",
       "      <th>4</th>\n",
       "      <td>임영웅</td>\n",
       "      <td>사랑은 늘 도망가</td>\n",
       "      <td>2021-10-11</td>\n",
       "      <td>눈물이 난다 이 길을 걸으면 그 사람 손길이 자꾸 생각이 난다 붙잡지 못하고 가슴만...</td>\n",
       "      <td>169216</td>\n",
       "      <td>5</td>\n",
       "    </tr>\n",
       "  </tbody>\n",
       "</table>\n",
       "</div>"
      ],
      "text/plain": [
       "            가수명               노래제목         발매일  \\\n",
       "0  WSG워너비 (가야G)  그때 그 순간 그대로 (그그그)  2022-07-09   \n",
       "1            경서             나의 X에게  2022-04-24   \n",
       "2          멜로망스             사랑인가 봐  2022-02-18   \n",
       "3            주호            내가 아니라도  2022-03-25   \n",
       "4           임영웅          사랑은 늘 도망가  2021-10-11   \n",
       "\n",
       "                                                  가사    좋아요수  순위  \n",
       "0  잘 지냈지? 조금은 어색해 요즘 좋아 보여 인사 나누며 사실 궁금한 게 너무 많았는...   79774   1  \n",
       "1  우리 다시 만날래 예쁘게 빛나던 모든 추억들이 너무 그리워 너의 품에 안길래 이 밤...  101199   2  \n",
       "2  너와 함께 하고 싶은 일들을 상상하는 게 요즘 내 일상이 되고 너의 즐거워하는 모습...  146814   3  \n",
       "3  사랑이었다 별거 없던 내 하루에 빛이 돼준 단한 사람 나보다 나를 더 아껴 주던 너...   50533   4  \n",
       "4  눈물이 난다 이 길을 걸으면 그 사람 손길이 자꾸 생각이 난다 붙잡지 못하고 가슴만...  169216   5  "
      ]
     },
     "execution_count": 2,
     "metadata": {},
     "output_type": "execute_result"
    }
   ],
   "source": [
    "melon = pd.read_csv(\"../Data/melon.csv\")\n",
    "melon.head()"
   ]
  },
  {
   "cell_type": "code",
   "execution_count": 3,
   "metadata": {},
   "outputs": [
    {
     "data": {
      "text/html": [
       "<div>\n",
       "<style scoped>\n",
       "    .dataframe tbody tr th:only-of-type {\n",
       "        vertical-align: middle;\n",
       "    }\n",
       "\n",
       "    .dataframe tbody tr th {\n",
       "        vertical-align: top;\n",
       "    }\n",
       "\n",
       "    .dataframe thead th {\n",
       "        text-align: right;\n",
       "    }\n",
       "</style>\n",
       "<table border=\"1\" class=\"dataframe\">\n",
       "  <thead>\n",
       "    <tr style=\"text-align: right;\">\n",
       "      <th></th>\n",
       "      <th>가수명</th>\n",
       "      <th>노래제목</th>\n",
       "      <th>발매일</th>\n",
       "      <th>가사</th>\n",
       "      <th>좋아요수</th>\n",
       "      <th>순위</th>\n",
       "    </tr>\n",
       "  </thead>\n",
       "  <tbody>\n",
       "    <tr>\n",
       "      <th>1995</th>\n",
       "      <td>멜로망스</td>\n",
       "      <td>동경</td>\n",
       "      <td>2022-06-08</td>\n",
       "      <td>우린 서로 너무도 다른 세상에 살아왔죠 한번 스쳐 지났을 뿐 그 후로 난 멀리서 이...</td>\n",
       "      <td>1218</td>\n",
       "      <td>1996</td>\n",
       "    </tr>\n",
       "    <tr>\n",
       "      <th>1996</th>\n",
       "      <td>곽진언</td>\n",
       "      <td>당신만이</td>\n",
       "      <td>2014-09-20</td>\n",
       "      <td>눈부신 햇살이 비춰주어도 제게 무슨 소용있겠어요 이토록 아름다운 당신만이 나에게 빛...</td>\n",
       "      <td>58098</td>\n",
       "      <td>1997</td>\n",
       "    </tr>\n",
       "    <tr>\n",
       "      <th>1997</th>\n",
       "      <td>허각</td>\n",
       "      <td>비가 내리기 전에</td>\n",
       "      <td>2021-06-20</td>\n",
       "      <td>찬란했었던 우리의 사랑이 언제부턴가 어둠을 데려와 자꾸 감추려고 하지 마 너의 얼굴...</td>\n",
       "      <td>6590</td>\n",
       "      <td>1998</td>\n",
       "    </tr>\n",
       "    <tr>\n",
       "      <th>1998</th>\n",
       "      <td>김은영</td>\n",
       "      <td>각자의 자리, 각자의 시간</td>\n",
       "      <td>2022-07-21</td>\n",
       "      <td>텅 빈 방안에 가만히 누워 한참을 멍하니 바라보았지 홀로 외로이 이 긴 밤에 무너져...</td>\n",
       "      <td>155</td>\n",
       "      <td>1999</td>\n",
       "    </tr>\n",
       "    <tr>\n",
       "      <th>1999</th>\n",
       "      <td>태연 (TAEYEON)</td>\n",
       "      <td>그리고 하나</td>\n",
       "      <td>2013-03-13</td>\n",
       "      <td>쉽게 상처 받고 쉽게 눈물나고 쉽게 아프던 날 기억하나요 지금도 그래요 여전히 같아...</td>\n",
       "      <td>53028</td>\n",
       "      <td>2000</td>\n",
       "    </tr>\n",
       "  </tbody>\n",
       "</table>\n",
       "</div>"
      ],
      "text/plain": [
       "               가수명            노래제목         발매일  \\\n",
       "1995          멜로망스              동경  2022-06-08   \n",
       "1996           곽진언            당신만이  2014-09-20   \n",
       "1997            허각       비가 내리기 전에  2021-06-20   \n",
       "1998           김은영  각자의 자리, 각자의 시간  2022-07-21   \n",
       "1999  태연 (TAEYEON)          그리고 하나  2013-03-13   \n",
       "\n",
       "                                                     가사   좋아요수    순위  \n",
       "1995  우린 서로 너무도 다른 세상에 살아왔죠 한번 스쳐 지났을 뿐 그 후로 난 멀리서 이...   1218  1996  \n",
       "1996  눈부신 햇살이 비춰주어도 제게 무슨 소용있겠어요 이토록 아름다운 당신만이 나에게 빛...  58098  1997  \n",
       "1997  찬란했었던 우리의 사랑이 언제부턴가 어둠을 데려와 자꾸 감추려고 하지 마 너의 얼굴...   6590  1998  \n",
       "1998  텅 빈 방안에 가만히 누워 한참을 멍하니 바라보았지 홀로 외로이 이 긴 밤에 무너져...    155  1999  \n",
       "1999  쉽게 상처 받고 쉽게 눈물나고 쉽게 아프던 날 기억하나요 지금도 그래요 여전히 같아...  53028  2000  "
      ]
     },
     "execution_count": 3,
     "metadata": {},
     "output_type": "execute_result"
    }
   ],
   "source": [
    "melon.tail()"
   ]
  },
  {
   "cell_type": "code",
   "execution_count": 4,
   "metadata": {},
   "outputs": [
    {
     "data": {
      "text/plain": [
       "가수명     0\n",
       "노래제목    0\n",
       "발매일     0\n",
       "가사      0\n",
       "좋아요수    0\n",
       "순위      0\n",
       "dtype: int64"
      ]
     },
     "execution_count": 4,
     "metadata": {},
     "output_type": "execute_result"
    }
   ],
   "source": [
    "melon.isnull().sum()"
   ]
  },
  {
   "cell_type": "code",
   "execution_count": 5,
   "metadata": {},
   "outputs": [
    {
     "name": "stdout",
     "output_type": "stream",
     "text": [
      "<class 'pandas.core.frame.DataFrame'>\n",
      "RangeIndex: 2000 entries, 0 to 1999\n",
      "Data columns (total 6 columns):\n",
      " #   Column  Non-Null Count  Dtype \n",
      "---  ------  --------------  ----- \n",
      " 0   가수명     2000 non-null   object\n",
      " 1   노래제목    2000 non-null   object\n",
      " 2   발매일     2000 non-null   object\n",
      " 3   가사      2000 non-null   object\n",
      " 4   좋아요수    2000 non-null   object\n",
      " 5   순위      2000 non-null   int64 \n",
      "dtypes: int64(1), object(5)\n",
      "memory usage: 93.9+ KB\n"
     ]
    }
   ],
   "source": [
    "melon.info()"
   ]
  },
  {
   "cell_type": "code",
   "execution_count": null,
   "metadata": {},
   "outputs": [],
   "source": []
  }
 ],
 "metadata": {
  "kernelspec": {
   "display_name": "Python 3.9.7 ('base')",
   "language": "python",
   "name": "python3"
  },
  "language_info": {
   "codemirror_mode": {
    "name": "ipython",
    "version": 3
   },
   "file_extension": ".py",
   "mimetype": "text/x-python",
   "name": "python",
   "nbconvert_exporter": "python",
   "pygments_lexer": "ipython3",
   "version": "3.9.7"
  },
  "orig_nbformat": 4,
  "vscode": {
   "interpreter": {
    "hash": "c34e8390e776d2ee205b71ed5a6130fee3cef8da5e87e926ce18e14f4a070d72"
   }
  }
 },
 "nbformat": 4,
 "nbformat_minor": 2
}
