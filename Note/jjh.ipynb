{
 "cells": [
  {
   "cell_type": "code",
   "execution_count": 1,
   "metadata": {},
   "outputs": [],
   "source": [
    "from selenium import webdriver\n",
    "from selenium.webdriver.chrome.service import Service\n",
    "from webdriver_manager.chrome import ChromeDriverManager\n",
    "from selenium.webdriver.common.by import By\n",
    "from bs4 import BeautifulSoup\n",
    "import urllib.request as request"
   ]
  },
  {
   "cell_type": "code",
   "execution_count": 2,
   "metadata": {},
   "outputs": [
    {
     "name": "stdout",
     "output_type": "stream",
     "text": [
      "\n"
     ]
    },
    {
     "name": "stderr",
     "output_type": "stream",
     "text": [
      "[WDM] - ====== WebDriver manager ======\n",
      "[WDM] - Current google-chrome version is 103.0.5060\n",
      "[WDM] - Get LATEST chromedriver version for 103.0.5060 google-chrome\n",
      "[WDM] - There is no [mac64] chromedriver for browser 103.0.5060 in cache\n",
      "[WDM] - About to download new driver from https://chromedriver.storage.googleapis.com/103.0.5060.134/chromedriver_mac64.zip\n",
      "[WDM] - Driver has been saved in cache [/Users/tj/.wdm/drivers/chromedriver/mac64/103.0.5060.134]\n"
     ]
    }
   ],
   "source": [
    "chrome_options = webdriver.ChromeOptions()\n",
    "driver = webdriver.Chrome(service=Service(ChromeDriverManager().install()), options=chrome_options)\n",
    "driver.get('https://www.melon.com/genre/song_list.htm#params%5BgnrCode%5D=GN0100&params%5BdtlGnrCode%5D=&params%5BorderBy%5D=POP&params%5BsteadyYn%5D=N&po=pageObj&startIndex=1')"
   ]
  },
  {
   "cell_type": "code",
   "execution_count": 10,
   "metadata": {},
   "outputs": [],
   "source": [
    "page_source = driver.page_source\n",
    "soup = BeautifulSoup(page_source, \"html.parser\")"
   ]
  },
  {
   "cell_type": "code",
   "execution_count": 9,
   "metadata": {},
   "outputs": [],
   "source": [
    "# 가수명, 노래제목, 발일, 가사, 좋아요수\n",
    "\n",
    "# singer_list  = driver.find_element()"
   ]
  },
  {
   "cell_type": "code",
   "execution_count": 54,
   "metadata": {},
   "outputs": [],
   "source": [
    "# songId 가져오기\n",
    "\n",
    "# test = soup.select_one(\" div.wrap a.btn button_icons type03 song_info\")\n",
    "songIds = soup.select(\"#frm > div > table > tbody td:nth-child(4) > div > a\")"
   ]
  },
  {
   "cell_type": "code",
   "execution_count": 57,
   "metadata": {},
   "outputs": [
    {
     "name": "stdout",
     "output_type": "stream",
     "text": [
      "35383397\n",
      "34943312\n",
      "34657844\n",
      "34061322\n",
      "34787226\n",
      "34431086\n",
      "34908740\n",
      "33496587\n",
      "35388184\n",
      "35177030\n",
      "35008524\n",
      "34701627\n",
      "4446485\n",
      "35252996\n",
      "35145136\n",
      "35275022\n",
      "34481680\n",
      "34599917\n",
      "33625988\n",
      "33061995\n",
      "3414749\n",
      "35453293\n",
      "30962526\n",
      "35126568\n",
      "35255652\n",
      "34360855\n",
      "35008527\n",
      "34535898\n",
      "34943241\n",
      "33868791\n",
      "32061975\n",
      "35008534\n",
      "34082381\n",
      "35380365\n",
      "34752959\n",
      "34373632\n",
      "35418345\n",
      "33248758\n",
      "32794652\n",
      "32224166\n",
      "35372649\n",
      "30514366\n",
      "31703498\n",
      "30314784\n",
      "34632789\n",
      "33759183\n",
      "34701996\n",
      "35414734\n",
      "35014621\n",
      "30144225\n"
     ]
    }
   ],
   "source": [
    "# songId 가져오기\n",
    "\n",
    "for songId in songIds:\n",
    "    print(songId['href'].split('\\'')[1])\n"
   ]
  },
  {
   "cell_type": "code",
   "execution_count": null,
   "metadata": {},
   "outputs": [],
   "source": []
  }
 ],
 "metadata": {
  "kernelspec": {
   "display_name": "Python 3.9.7 ('base')",
   "language": "python",
   "name": "python3"
  },
  "language_info": {
   "codemirror_mode": {
    "name": "ipython",
    "version": 3
   },
   "file_extension": ".py",
   "mimetype": "text/x-python",
   "name": "python",
   "nbconvert_exporter": "python",
   "pygments_lexer": "ipython3",
   "version": "3.9.7"
  },
  "orig_nbformat": 4,
  "vscode": {
   "interpreter": {
    "hash": "c34e8390e776d2ee205b71ed5a6130fee3cef8da5e87e926ce18e14f4a070d72"
   }
  }
 },
 "nbformat": 4,
 "nbformat_minor": 2
}
