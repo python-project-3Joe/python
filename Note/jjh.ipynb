{
 "cells": [
  {
   "cell_type": "code",
   "execution_count": 1,
   "metadata": {},
   "outputs": [],
   "source": [
    "from selenium import webdriver\n",
    "from selenium.webdriver.chrome.service import Service\n",
    "from webdriver_manager.chrome import ChromeDriverManager\n",
    "from selenium.webdriver.common.by import By\n",
    "from bs4 import BeautifulSoup\n",
    "import urllib.request as request"
   ]
  },
  {
   "cell_type": "code",
   "execution_count": 2,
   "metadata": {},
   "outputs": [
    {
     "name": "stdout",
     "output_type": "stream",
     "text": [
      "\n"
     ]
    },
    {
     "name": "stderr",
     "output_type": "stream",
     "text": [
      "[WDM] - ====== WebDriver manager ======\n",
      "[WDM] - Current google-chrome version is 103.0.5060\n",
      "[WDM] - Get LATEST chromedriver version for 103.0.5060 google-chrome\n",
      "[WDM] - There is no [mac64] chromedriver for browser 103.0.5060 in cache\n",
      "[WDM] - About to download new driver from https://chromedriver.storage.googleapis.com/103.0.5060.134/chromedriver_mac64.zip\n",
      "[WDM] - Driver has been saved in cache [/Users/tj/.wdm/drivers/chromedriver/mac64/103.0.5060.134]\n"
     ]
    }
   ],
   "source": [
    "chrome_options = webdriver.ChromeOptions()\n",
    "driver = webdriver.Chrome(service=Service(ChromeDriverManager().install()), options=chrome_options)\n",
    "driver.get('https://www.melon.com/genre/song_list.htm#params%5BgnrCode%5D=GN0100&params%5BdtlGnrCode%5D=&params%5BorderBy%5D=POP&params%5BsteadyYn%5D=N&po=pageObj&startIndex=1')"
   ]
  },
  {
   "cell_type": "code",
   "execution_count": 10,
   "metadata": {},
   "outputs": [],
   "source": [
    "page_source = driver.page_source\n",
    "soup = BeautifulSoup(page_source, \"html.parser\")"
   ]
  },
  {
   "cell_type": "code",
   "execution_count": 9,
   "metadata": {},
   "outputs": [],
   "source": [
    "# 가수명, 노래제목, 발일, 가사, 좋아요수\n",
    "\n",
    "# singer_list  = driver.find_element()"
   ]
  },
  {
   "cell_type": "code",
   "execution_count": 54,
   "metadata": {},
   "outputs": [],
   "source": [
    "# songId 가져오기\n",
    "\n",
    "songIds = soup.select(\"#frm > div > table > tbody td:nth-child(4) > div > a\")"
   ]
  },
  {
   "cell_type": "code",
   "execution_count": 57,
   "metadata": {},
   "outputs": [
    {
     "name": "stdout",
     "output_type": "stream",
     "text": [
      "35383397\n",
      "34943312\n",
      "34657844\n",
      "34061322\n",
      "34787226\n",
      "34431086\n",
      "34908740\n",
      "33496587\n",
      "35388184\n",
      "35177030\n",
      "35008524\n",
      "34701627\n",
      "4446485\n",
      "35252996\n",
      "35145136\n",
      "35275022\n",
      "34481680\n",
      "34599917\n",
      "33625988\n",
      "33061995\n",
      "3414749\n",
      "35453293\n",
      "30962526\n",
      "35126568\n",
      "35255652\n",
      "34360855\n",
      "35008527\n",
      "34535898\n",
      "34943241\n",
      "33868791\n",
      "32061975\n",
      "35008534\n",
      "34082381\n",
      "35380365\n",
      "34752959\n",
      "34373632\n",
      "35418345\n",
      "33248758\n",
      "32794652\n",
      "32224166\n",
      "35372649\n",
      "30514366\n",
      "31703498\n",
      "30314784\n",
      "34632789\n",
      "33759183\n",
      "34701996\n",
      "35414734\n",
      "35014621\n",
      "30144225\n"
     ]
    }
   ],
   "source": [
    "# songId 가져오기 (한 페이지당 50개)\n",
    "\n",
    "for songId in songIds:\n",
    "    print(songId['href'].split('\\'')[1])"
   ]
  },
  {
   "cell_type": "code",
   "execution_count": 58,
   "metadata": {},
   "outputs": [
    {
     "data": {
      "text/plain": [
       "50"
      ]
     },
     "execution_count": 58,
     "metadata": {},
     "output_type": "execute_result"
    }
   ],
   "source": [
    "# songId 키값 갯수 확인\n",
    "len(songIds)"
   ]
  },
  {
   "cell_type": "markdown",
   "metadata": {},
   "source": []
  },
  {
   "cell_type": "code",
   "execution_count": 59,
   "metadata": {},
   "outputs": [
    {
     "name": "stdout",
     "output_type": "stream",
     "text": [
      "\n"
     ]
    },
    {
     "name": "stderr",
     "output_type": "stream",
     "text": [
      "[WDM] - ====== WebDriver manager ======\n",
      "[WDM] - Current google-chrome version is 103.0.5060\n",
      "[WDM] - Get LATEST chromedriver version for 103.0.5060 google-chrome\n",
      "[WDM] - Driver [/Users/tj/.wdm/drivers/chromedriver/mac64/103.0.5060.134/chromedriver] found in cache\n"
     ]
    },
    {
     "name": "stdout",
     "output_type": "stream",
     "text": [
      "\n"
     ]
    },
    {
     "name": "stderr",
     "output_type": "stream",
     "text": [
      "[WDM] - ====== WebDriver manager ======\n",
      "[WDM] - Current google-chrome version is 103.0.5060\n",
      "[WDM] - Get LATEST chromedriver version for 103.0.5060 google-chrome\n",
      "[WDM] - Driver [/Users/tj/.wdm/drivers/chromedriver/mac64/103.0.5060.134/chromedriver] found in cache\n"
     ]
    },
    {
     "name": "stdout",
     "output_type": "stream",
     "text": [
      "\n"
     ]
    },
    {
     "name": "stderr",
     "output_type": "stream",
     "text": [
      "[WDM] - ====== WebDriver manager ======\n",
      "[WDM] - Current google-chrome version is 103.0.5060\n",
      "[WDM] - Get LATEST chromedriver version for 103.0.5060 google-chrome\n",
      "[WDM] - Driver [/Users/tj/.wdm/drivers/chromedriver/mac64/103.0.5060.134/chromedriver] found in cache\n"
     ]
    },
    {
     "name": "stdout",
     "output_type": "stream",
     "text": [
      "\n"
     ]
    },
    {
     "name": "stderr",
     "output_type": "stream",
     "text": [
      "[WDM] - ====== WebDriver manager ======\n",
      "[WDM] - Current google-chrome version is 103.0.5060\n",
      "[WDM] - Get LATEST chromedriver version for 103.0.5060 google-chrome\n",
      "[WDM] - Driver [/Users/tj/.wdm/drivers/chromedriver/mac64/103.0.5060.134/chromedriver] found in cache\n"
     ]
    },
    {
     "name": "stdout",
     "output_type": "stream",
     "text": [
      "\n"
     ]
    },
    {
     "name": "stderr",
     "output_type": "stream",
     "text": [
      "[WDM] - ====== WebDriver manager ======\n",
      "[WDM] - Current google-chrome version is 103.0.5060\n",
      "[WDM] - Get LATEST chromedriver version for 103.0.5060 google-chrome\n",
      "[WDM] - Driver [/Users/tj/.wdm/drivers/chromedriver/mac64/103.0.5060.134/chromedriver] found in cache\n"
     ]
    },
    {
     "name": "stdout",
     "output_type": "stream",
     "text": [
      "\n"
     ]
    },
    {
     "name": "stderr",
     "output_type": "stream",
     "text": [
      "[WDM] - ====== WebDriver manager ======\n",
      "[WDM] - Current google-chrome version is 103.0.5060\n",
      "[WDM] - Get LATEST chromedriver version for 103.0.5060 google-chrome\n",
      "[WDM] - Driver [/Users/tj/.wdm/drivers/chromedriver/mac64/103.0.5060.134/chromedriver] found in cache\n"
     ]
    },
    {
     "name": "stdout",
     "output_type": "stream",
     "text": [
      "\n"
     ]
    },
    {
     "name": "stderr",
     "output_type": "stream",
     "text": [
      "[WDM] - ====== WebDriver manager ======\n",
      "[WDM] - Current google-chrome version is 103.0.5060\n",
      "[WDM] - Get LATEST chromedriver version for 103.0.5060 google-chrome\n",
      "[WDM] - Driver [/Users/tj/.wdm/drivers/chromedriver/mac64/103.0.5060.134/chromedriver] found in cache\n"
     ]
    },
    {
     "name": "stdout",
     "output_type": "stream",
     "text": [
      "\n"
     ]
    },
    {
     "name": "stderr",
     "output_type": "stream",
     "text": [
      "[WDM] - ====== WebDriver manager ======\n",
      "[WDM] - Current google-chrome version is 103.0.5060\n",
      "[WDM] - Get LATEST chromedriver version for 103.0.5060 google-chrome\n",
      "[WDM] - Driver [/Users/tj/.wdm/drivers/chromedriver/mac64/103.0.5060.134/chromedriver] found in cache\n"
     ]
    },
    {
     "name": "stdout",
     "output_type": "stream",
     "text": [
      "\n"
     ]
    },
    {
     "name": "stderr",
     "output_type": "stream",
     "text": [
      "[WDM] - ====== WebDriver manager ======\n",
      "[WDM] - Current google-chrome version is 103.0.5060\n",
      "[WDM] - Get LATEST chromedriver version for 103.0.5060 google-chrome\n",
      "[WDM] - Driver [/Users/tj/.wdm/drivers/chromedriver/mac64/103.0.5060.134/chromedriver] found in cache\n"
     ]
    },
    {
     "name": "stdout",
     "output_type": "stream",
     "text": [
      "\n"
     ]
    },
    {
     "name": "stderr",
     "output_type": "stream",
     "text": [
      "[WDM] - ====== WebDriver manager ======\n",
      "[WDM] - Current google-chrome version is 103.0.5060\n",
      "[WDM] - Get LATEST chromedriver version for 103.0.5060 google-chrome\n",
      "[WDM] - Driver [/Users/tj/.wdm/drivers/chromedriver/mac64/103.0.5060.134/chromedriver] found in cache\n"
     ]
    },
    {
     "name": "stdout",
     "output_type": "stream",
     "text": [
      "\n"
     ]
    },
    {
     "name": "stderr",
     "output_type": "stream",
     "text": [
      "[WDM] - ====== WebDriver manager ======\n",
      "[WDM] - Current google-chrome version is 103.0.5060\n",
      "[WDM] - Get LATEST chromedriver version for 103.0.5060 google-chrome\n",
      "[WDM] - Driver [/Users/tj/.wdm/drivers/chromedriver/mac64/103.0.5060.134/chromedriver] found in cache\n"
     ]
    }
   ],
   "source": [
    "chrome_options = webdriver.ChromeOptions()\n",
    "driver = webdriver.Chrome(service=Service(ChromeDriverManager().install()), options=chrome_options)\n",
    "\n",
    "# 1, 451, 50\n",
    "# for문으로 인덱스 돌리기\n",
    "\n",
    "total_lists = []\n",
    "for page in list(range(1,500, 50)):\n",
    "\n",
    "  driver = webdriver.Chrome(service=Service(ChromeDriverManager().install()), options=chrome_options)\n",
    "  driver.get('https://www.melon.com/genre/song_list.htm#params%5BgnrCode%5D=GN0100&params%5BdtlGnrCode%5D=&params%5BorderBy%5D=POP&params%5BsteadyYn%5D=N&po=pageObj&startIndex='+ str(page))\n",
    "\n",
    "  page_source = driver.page_source\n",
    "  soup = BeautifulSoup(page_source, \"html.parser\")\n",
    "\n",
    "  songIds = soup.select(\"#frm > div > table > tbody td:nth-child(4) > div > a\")\n",
    "  total_lists = total_lists + songIds"
   ]
  },
  {
   "cell_type": "code",
   "execution_count": 60,
   "metadata": {},
   "outputs": [
    {
     "data": {
      "text/plain": [
       "500"
      ]
     },
     "execution_count": 60,
     "metadata": {},
     "output_type": "execute_result"
    }
   ],
   "source": [
    "# songId 가져오기\n",
    "songId_list = []\n",
    "for songId in total_lists:\n",
    "    songId_list.append(songId['href'].split('\\'')[1])\n",
    "\n",
    "len(songId_list)"
   ]
  },
  {
   "cell_type": "code",
   "execution_count": 64,
   "metadata": {},
   "outputs": [
    {
     "data": {
      "text/plain": [
       "str"
      ]
     },
     "execution_count": 64,
     "metadata": {},
     "output_type": "execute_result"
    }
   ],
   "source": [
    "type(songId_list[1])"
   ]
  },
  {
   "cell_type": "code",
   "execution_count": 65,
   "metadata": {},
   "outputs": [],
   "source": [
    "# 가수명, 노래제목, 발매일, 가사, 좋아요 수 리스트 변수 생성\n",
    "\n",
    "singer_list = []\n",
    "singName_list = []\n",
    "date_list = []\n",
    "lyrics_list = []\n",
    "like_list = []"
   ]
  },
  {
   "cell_type": "code",
   "execution_count": 72,
   "metadata": {},
   "outputs": [
    {
     "name": "stdout",
     "output_type": "stream",
     "text": [
      "\n"
     ]
    },
    {
     "name": "stderr",
     "output_type": "stream",
     "text": [
      "[WDM] - ====== WebDriver manager ======\n",
      "[WDM] - Current google-chrome version is 103.0.5060\n",
      "[WDM] - Get LATEST chromedriver version for 103.0.5060 google-chrome\n",
      "[WDM] - Driver [/Users/tj/.wdm/drivers/chromedriver/mac64/103.0.5060.134/chromedriver] found in cache\n"
     ]
    },
    {
     "ename": "AttributeError",
     "evalue": "'NoneType' object has no attribute 'string'",
     "output_type": "error",
     "traceback": [
      "\u001b[0;31m---------------------------------------------------------------------------\u001b[0m",
      "\u001b[0;31mAttributeError\u001b[0m                            Traceback (most recent call last)",
      "\u001b[0;32m/var/folders/51/xmc_l6t13wv1nc5z6qmyg58r0000gn/T/ipykernel_2785/2652742950.py\u001b[0m in \u001b[0;36m<module>\u001b[0;34m\u001b[0m\n\u001b[1;32m     13\u001b[0m     \u001b[0;31m# 가수명 가져오기\u001b[0m\u001b[0;34m\u001b[0m\u001b[0;34m\u001b[0m\u001b[0m\n\u001b[1;32m     14\u001b[0m     \u001b[0martist_name\u001b[0m \u001b[0;34m=\u001b[0m \u001b[0msoup\u001b[0m\u001b[0;34m.\u001b[0m\u001b[0mselect_one\u001b[0m\u001b[0;34m(\u001b[0m\u001b[0;34m'#downloadfrm > div > div > div.entry > div.info > div.artist > a > span:nth-child(1) '\u001b[0m\u001b[0;34m)\u001b[0m\u001b[0;34m\u001b[0m\u001b[0;34m\u001b[0m\u001b[0m\n\u001b[0;32m---> 15\u001b[0;31m     \u001b[0msinger_list\u001b[0m\u001b[0;34m.\u001b[0m\u001b[0mappend\u001b[0m\u001b[0;34m(\u001b[0m\u001b[0martist_name\u001b[0m\u001b[0;34m.\u001b[0m\u001b[0mstring\u001b[0m\u001b[0;34m)\u001b[0m\u001b[0;34m\u001b[0m\u001b[0;34m\u001b[0m\u001b[0m\n\u001b[0m\u001b[1;32m     16\u001b[0m \u001b[0;34m\u001b[0m\u001b[0m\n\u001b[1;32m     17\u001b[0m     \u001b[0;31m# 노래제목 가져오기\u001b[0m\u001b[0;34m\u001b[0m\u001b[0;34m\u001b[0m\u001b[0m\n",
      "\u001b[0;31mAttributeError\u001b[0m: 'NoneType' object has no attribute 'string'"
     ]
    }
   ],
   "source": [
    "# for문으로 가수명, 노래제목, 발매일, 가사, 좋아요 수 리스트 변수에 내용 담고 저장하기\n",
    "\n",
    "chrome_options = webdriver.ChromeOptions()\n",
    "driver = webdriver.Chrome(service=Service(ChromeDriverManager().install()), options=chrome_options)\n",
    "\n",
    "for songId in songId_list:\n",
    "    \n",
    "    driver.get(f'https://www.melon.com/song/detail.htm?songId={songId}')\n",
    "\n",
    "    page_source = driver.page_source\n",
    "    soup = BeautifulSoup(page_source, \"html.parser\")\n",
    "\n",
    "    try:\n",
    "        # 가수명 가져오기\n",
    "        artist_name = soup.select_one('#downloadfrm > div > div > div.entry > div.info > div.artist > a > span:nth-child(1) ')\n",
    "        singer_list.append(artist_name.string)\n",
    "\n",
    "        # 노래제목 가져오기\n",
    "        song_name = soup.select_one(\"#downloadfrm > div > div > div.entry > div.info > div.song_name \")\n",
    "        singName_list.append(song_name.text.strip().split('\\n\\t\\t\\t\\t\\t\\t\\t\\n\\t\\t\\t\\t\\t\\t\\t\\n\\t\\t\\t\\t\\t\\t\\t\\n\\t\\t\\t\\t\\t\\t\\t\\n\\t\\t\\t\\t\\t\\t\\t')[1])\n",
    "\n",
    "        # 발매일 가져오기\n",
    "        date = soup.select_one('#downloadfrm > div > div > div.entry > div.meta > dl > dd:nth-child(4)')\n",
    "        date_list.append(date.string)\n",
    "\n",
    "        # 가사 가져오기\n",
    "        lyric = soup.select_one('#d_video_summary')\n",
    "        lyrics_list.append(lyric.text.strip())\n",
    "\n",
    "        # 좋아요수 가져오기\n",
    "        like = soup.select_one(\"#d_like_count\")\n",
    "        like_list.append(like.text)\n",
    "    except:\n",
    "        singer_list.append(0)\n",
    "        singName_list.append(0)\n",
    "        date_list.append(0)\n",
    "        lyrics_list.append(0)\n",
    "        like_list.append(0)\n"
   ]
  },
  {
   "cell_type": "code",
   "execution_count": 83,
   "metadata": {},
   "outputs": [
    {
     "data": {
      "text/plain": [
       "['WSG워너비 (가야G)',\n",
       " '경서',\n",
       " '멜로망스',\n",
       " '임영웅',\n",
       " '주호',\n",
       " '김민석 (멜로망스)',\n",
       " '임영웅',\n",
       " '경서예지',\n",
       " '이석훈',\n",
       " '케이시 (Kassy)',\n",
       " '임영웅',\n",
       " 'MSG워너비(M.O.M)',\n",
       " '성시경',\n",
       " '#안녕',\n",
       " '다비치',\n",
       " '임재현',\n",
       " '아이유',\n",
       " '케이시 (Kassy)',\n",
       " 'MSG워너비(M.O.M)',\n",
       " '경서',\n",
       " '아이유',\n",
       " '케이시 (Kassy)',\n",
       " '폴킴',\n",
       " 'V.O.S',\n",
       " '주호',\n",
       " '이무진',\n",
       " '임영웅',\n",
       " '탑현',\n",
       " '지민',\n",
       " '멜로망스',\n",
       " 'AKMU (악뮤)',\n",
       " '임영웅',\n",
       " '딘딘 (DINDIN)',\n",
       " '세븐틴',\n",
       " '한동근',\n",
       " '10CM',\n",
       " '경서예지',\n",
       " '정동하',\n",
       " '산들',\n",
       " '#안녕',\n",
       " '김종국',\n",
       " '멜로망스',\n",
       " 'HYNN (박혜원)',\n",
       " '아이유',\n",
       " '휘인 (Whee In)',\n",
       " '헤이즈 (Heize)',\n",
       " '폴킴',\n",
       " '길구봉구',\n",
       " '멜로망스',\n",
       " '조유진 (체리필터)',\n",
       " '노을',\n",
       " '김재환',\n",
       " '조정석',\n",
       " '성시경',\n",
       " 'Sondia',\n",
       " '이예준',\n",
       " 'SG 워너비',\n",
       " '폴킴',\n",
       " '엠씨더맥스 (M.C the MAX)',\n",
       " '헤이즈 (Heize)',\n",
       " '케이시 (Kassy)',\n",
       " '김필',\n",
       " '다비치',\n",
       " 'WSG워너비 조별경연 (대청봉)',\n",
       " 'TOIL',\n",
       " '하은 (포맨)',\n",
       " '씨야',\n",
       " '에일리(Ailee)',\n",
       " '선우정아',\n",
       " '비비 (BIBI)',\n",
       " '이홍기 (FT아일랜드)',\n",
       " '폴킴',\n",
       " 'V',\n",
       " '아이유',\n",
       " '김재환',\n",
       " '김나영',\n",
       " '윤토벤',\n",
       " '장범준',\n",
       " '아이유',\n",
       " '정승환',\n",
       " '비스트',\n",
       " '폴킴',\n",
       " '성시경',\n",
       " '임재현',\n",
       " '스트레이 (The Stray)',\n",
       " '아이유',\n",
       " '이예준',\n",
       " '경서예지',\n",
       " '김필',\n",
       " '태연 (TAEYEON)',\n",
       " 'SG 워너비',\n",
       " '적재',\n",
       " 'WSG워너비 조별경연 (비로봉)',\n",
       " '윤종신',\n",
       " '신예영',\n",
       " '다비치',\n",
       " '먼데이 키즈 (Monday Kiz)',\n",
       " '태연 (TAEYEON)',\n",
       " '멜로망스',\n",
       " '태연 (TAEYEON)',\n",
       " '박효신',\n",
       " '김현성',\n",
       " '조정석',\n",
       " '케이시 (Kassy)',\n",
       " '황치열',\n",
       " '이승윤',\n",
       " '임창정',\n",
       " '21학번',\n",
       " '송하예',\n",
       " '10CM',\n",
       " '윤하 (YOUNHA)',\n",
       " '카더가든',\n",
       " '다비치',\n",
       " '임한별',\n",
       " 'HIGH4 (하이포)',\n",
       " '케이윌',\n",
       " '노을',\n",
       " '임재현',\n",
       " '임창정',\n",
       " '로꼬',\n",
       " '볼빨간사춘기',\n",
       " 'izi',\n",
       " '볼빨간사춘기',\n",
       " '닐로(Nilo)',\n",
       " '어반자카파',\n",
       " '태연 (TAEYEON)',\n",
       " '로꼬',\n",
       " '황인욱',\n",
       " '빅마마',\n",
       " '노을',\n",
       " '싸이 (PSY)',\n",
       " '성시경',\n",
       " '태연 (TAEYEON)',\n",
       " '아이유',\n",
       " '에이치코드 (H:CODE)',\n",
       " '케이윌',\n",
       " '멜로망스',\n",
       " '이수 (엠씨더맥스)',\n",
       " '서인국',\n",
       " '다비치',\n",
       " '비비 (BIBI)',\n",
       " '전상근',\n",
       " '어쿠스틱 콜라보',\n",
       " '먼데이 키즈 (Monday Kiz)',\n",
       " '린',\n",
       " '규현 (KYUHYUN)',\n",
       " '권진아',\n",
       " '길구봉구',\n",
       " '이예준',\n",
       " '김호중',\n",
       " '아이유',\n",
       " '엠씨더맥스 (M.C the MAX)',\n",
       " '임창정',\n",
       " 'WSG워너비 조별경연 (신선봉)',\n",
       " '임한별',\n",
       " '백지영',\n",
       " '도영 (DOYOUNG)',\n",
       " '한동근',\n",
       " '임창정',\n",
       " '먼데이 키즈 (Monday Kiz)',\n",
       " '비투비',\n",
       " '전상근',\n",
       " '케이시 (Kassy)',\n",
       " '거미',\n",
       " '태연 (TAEYEON)',\n",
       " '허각',\n",
       " '지아',\n",
       " '마크툽 (MAKTUB)',\n",
       " '하동균',\n",
       " '임창정',\n",
       " '10CM',\n",
       " '아이유',\n",
       " 'BIGBANG (빅뱅)',\n",
       " 'SG 워너비',\n",
       " '주호',\n",
       " '엠씨더맥스 (M.C the MAX)',\n",
       " '백아연',\n",
       " '지연',\n",
       " '정은지',\n",
       " '장덕철',\n",
       " '엠씨더맥스 (M.C the MAX)',\n",
       " '멜로망스',\n",
       " '거미',\n",
       " '다비치',\n",
       " '한동근',\n",
       " '김종완 of NELL',\n",
       " '전미도',\n",
       " 'V.O.S',\n",
       " '규현 (KYUHYUN)',\n",
       " '허각',\n",
       " '케이시 (Kassy)',\n",
       " '거미',\n",
       " '전우성 (노을)',\n",
       " '김나영',\n",
       " '권진아',\n",
       " '이승기',\n",
       " '벤',\n",
       " '포맨 (4MEN)',\n",
       " '김나영',\n",
       " '전상근',\n",
       " 'CHEEZE (치즈)',\n",
       " '카더가든',\n",
       " '먼데이 키즈 (Monday Kiz)',\n",
       " '허각',\n",
       " '모세',\n",
       " '이소라',\n",
       " '빅마마',\n",
       " '순순희',\n",
       " '박효신',\n",
       " '케이시 (Kassy)',\n",
       " '임창정',\n",
       " '이예준',\n",
       " 'Crush',\n",
       " '정승환',\n",
       " '엠씨더맥스 (M.C the MAX)',\n",
       " '권진아',\n",
       " '로이킴',\n",
       " '스탠딩 에그',\n",
       " '태연 (TAEYEON)',\n",
       " '데이먼스 이어 (Damons year)',\n",
       " '성시경',\n",
       " '김대명',\n",
       " 'LE SSERAFIM (르세라핌)',\n",
       " '허각',\n",
       " '김세정',\n",
       " 'HYNN (박혜원)',\n",
       " '백예린 (Yerin Baek)',\n",
       " '10CM',\n",
       " '벤',\n",
       " '노을',\n",
       " '김태우',\n",
       " '에일리(Ailee)',\n",
       " '포맨 (4MEN)',\n",
       " '엠씨더맥스 (M.C the MAX)',\n",
       " '비투비',\n",
       " '장혜진',\n",
       " '다비치',\n",
       " '조이 (JOY)',\n",
       " '검정치마',\n",
       " '씨야',\n",
       " '윤하 (YOUNHA)',\n",
       " '엠씨더맥스 (M.C the MAX)',\n",
       " '진영 (GOT7)',\n",
       " '박원',\n",
       " '정승환',\n",
       " '먼데이 키즈 (Monday Kiz)',\n",
       " '김범수',\n",
       " '아이오아이 (I.O.I)',\n",
       " '적재',\n",
       " '송하예',\n",
       " '아이유',\n",
       " '다비치',\n",
       " '성시경',\n",
       " '이석훈',\n",
       " '박효신',\n",
       " '성시경',\n",
       " '임재현',\n",
       " '임영웅',\n",
       " '윤하 (YOUNHA)',\n",
       " '백지영',\n",
       " '양다일',\n",
       " 'SG 워너비',\n",
       " 'aespa',\n",
       " '케이시 (Kassy)',\n",
       " '박원',\n",
       " '박봄 (Park Bom)',\n",
       " '박명수',\n",
       " '태연 (TAEYEON)',\n",
       " '아이유',\n",
       " '폴킴',\n",
       " '이적',\n",
       " '백예린 (Yerin Baek)',\n",
       " '이루',\n",
       " '양정승',\n",
       " '황치열',\n",
       " '10CM',\n",
       " '김연우',\n",
       " '장범준',\n",
       " '정승환',\n",
       " '진민호',\n",
       " '테이',\n",
       " '다비치',\n",
       " '하울',\n",
       " 'MSG워너비(정상동기)',\n",
       " '멜로망스',\n",
       " 'HYNN (박혜원)',\n",
       " '에이트',\n",
       " '토이',\n",
       " '바이브',\n",
       " '바이브',\n",
       " '나윤권',\n",
       " '황인욱',\n",
       " 'MC몽',\n",
       " '포스트맨(Postmen)',\n",
       " '조현아 (어반자카파)',\n",
       " '이기찬',\n",
       " '아이유',\n",
       " '길구봉구',\n",
       " '백예린 (Yerin Baek)',\n",
       " '경서예지',\n",
       " '테이',\n",
       " '백지영',\n",
       " 'CHEEZE (치즈)',\n",
       " '김호중',\n",
       " '폴킴',\n",
       " '송하예']"
      ]
     },
     "execution_count": 83,
     "metadata": {},
     "output_type": "execute_result"
    }
   ],
   "source": [
    "singer_list\n"
   ]
  },
  {
   "cell_type": "code",
   "execution_count": 78,
   "metadata": {},
   "outputs": [
    {
     "data": {
      "text/plain": [
       "306"
      ]
     },
     "execution_count": 78,
     "metadata": {},
     "output_type": "execute_result"
    }
   ],
   "source": [
    "len(singName_list)\n"
   ]
  },
  {
   "cell_type": "code",
   "execution_count": 79,
   "metadata": {},
   "outputs": [
    {
     "data": {
      "text/plain": [
       "306"
      ]
     },
     "execution_count": 79,
     "metadata": {},
     "output_type": "execute_result"
    }
   ],
   "source": [
    "len(date_list)\n"
   ]
  },
  {
   "cell_type": "code",
   "execution_count": 80,
   "metadata": {},
   "outputs": [
    {
     "data": {
      "text/plain": [
       "306"
      ]
     },
     "execution_count": 80,
     "metadata": {},
     "output_type": "execute_result"
    }
   ],
   "source": [
    "len(lyrics_list)\n"
   ]
  },
  {
   "cell_type": "code",
   "execution_count": 81,
   "metadata": {},
   "outputs": [
    {
     "data": {
      "text/plain": [
       "306"
      ]
     },
     "execution_count": 81,
     "metadata": {},
     "output_type": "execute_result"
    }
   ],
   "source": [
    "len(like_list)"
   ]
  },
  {
   "cell_type": "code",
   "execution_count": null,
   "metadata": {},
   "outputs": [],
   "source": []
  }
 ],
 "metadata": {
  "kernelspec": {
   "display_name": "Python 3.9.7 ('base')",
   "language": "python",
   "name": "python3"
  },
  "language_info": {
   "codemirror_mode": {
    "name": "ipython",
    "version": 3
   },
   "file_extension": ".py",
   "mimetype": "text/x-python",
   "name": "python",
   "nbconvert_exporter": "python",
   "pygments_lexer": "ipython3",
   "version": "3.9.7"
  },
  "orig_nbformat": 4,
  "vscode": {
   "interpreter": {
    "hash": "c34e8390e776d2ee205b71ed5a6130fee3cef8da5e87e926ce18e14f4a070d72"
   }
  }
 },
 "nbformat": 4,
 "nbformat_minor": 2
}
