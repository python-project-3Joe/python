{
 "cells": [
  {
   "cell_type": "markdown",
   "metadata": {},
   "source": [
    "# 무관심 가사 20개 Markov Chain 하기"
   ]
  },
  {
   "cell_type": "code",
   "execution_count": 4,
   "metadata": {},
   "outputs": [
    {
     "name": "stdout",
     "output_type": "stream",
     "text": [
      "떨어질 줄 몰랐던 너의 품도 잡은 손에 스치던 봄바람도 떨리던 입맞춤도 맞춰 걷던 걸음도 내겐 모두 처음이라서 유난히 아픈가 봐 시간이 지나면 널 보며 웃는 날 언젠가 오겠지 그때까지만 더 아파해볼 게 다 부담이 돼 그렇게 내게 말하지 못했어 좋은 기억마저 사라질까 봐 안녕 내 전부였던 너 사랑해 너라서 유난히 좋았나 봐 시간이 지나면 널 보며 웃는 날 언젠가 오겠지 그때까지만 더 아파해볼게 누군가를 위한 노랠 부른 것도 벚꽃과 여름바다 단풍과 함박눈이 처음이라서 고된 하루 끝을 미뤘나 봐 나의 첫 사람이네 첫사랑이 너의 추억들은 아팠고 네가 보고 싶다 n 자꾸만 연락을 피하고 바쁘다며 약속을 미루고 점점 변해가는 네 모습 웃고 있는 넌 잘 지냈나 봐 찾아가지 말걸 그랬어 믿고 싶었는데 영화 같은 일 내겐 없나 봐 나를 다 잊은 척 웃어도 보고 드라마처럼 혼자 취해도 보고 널 잊으려고 하면 할수록 너무 보고 싶어나 술에 잊자 그만 나도 숨 좀 쉬자 제발 마치 주문처럼 매일 읊조렸던 넌 모르는 내 슬픈 혼잣말 친구들과 통화에\n",
      "—\n",
      "떨어질 줄 몰랐던 너의 품도 잡은 손에 스치던 봄바람도 떨리던 입맞춤도 맞춰 걷던 걸음도 내겐 모두 처음이라서 힘든가 봐 나의 이별 끝에 아직도 서있어 지금도 네게 이런 마음이 너무 두려워 너의 목소리 마치 들린 것 같아 오늘까지만 그리워할 게 끝이 보이지 않아내 사랑 n 하루만 더 참을 순 없었니 한번 만나 이렇게 널 불러볼게 사실은 겁이 나 이젠 끝나가지만 함께한 기억은 가시가 됐고다 사라졌으면 해 모두 지워졌으면 해나 쉴 수 있게 널 떠날게 가질 수 없는 상처로 남아 내겐 그 모든 것이 내겐 부담이 돼 그렇게 내게 말하지 못했어 좋은 기억마저 사라질까 봐 안녕 내 사랑은 갔고 남겨진 추억들은 없어 마치 우린 없었던 사이 n 혼자 이별을 하고 가버리면 난 어떻게 하라고 너 없는 밤 아프게 지워가지만 내 맘이 너무 아파서 널 보면 나와달라 아직도 난 널 잊고 행복하게 잘 살았는데 예쁜 사랑 다시 시작했는데 다 잊었다 생각하고 지내 왔는데 들려오는 너의 곁에 닿게 될까 매일 하루 종일 너의 추억들도 가져가 줘 지워줘 너\n",
      "—\n",
      "떨어질 줄 몰랐던 너의 안부 못 들은 척 지나갈 걸 헤어짐을 말한 너를 더 아프게 하는 걸까 내일이면 다 지워버려야지 이젠 끝나가지만 함께한 기억은 가시가 됐고 다 사라졌으면 해 모두 지워졌으면 해나 쉴 수 있게 널 떠날게 가질 수 없는 상처로 남아 내겐 그 모든 게 더는 너 아니면 안 되는데 눈떠 보너 이별이 온다 정말 가슴을 찢어놔도 네가 내 처음이라서 고된 하루 끝을 토닥여준 것도 세상에 누군가를 자랑한 것도 너를 어떻게나 잊겠니 제발이 말만 듣고 가 진심을 다해 사랑했단 너의 말을 믿을게 혹시 너무 궁금해 혹시 너무 그리우면 꼭 한 번만 보기로 해 너 없을 때에도 지금 너에게 없는 사람처럼 느껴질 때가 많았어 우리 헤어지자고 말한 지 딱 하루 뒤 잠깐의 실수였단 걸 뒤늦게 깨달아버린 순간 아침마다 듣던 네 목소리 따스한 네 품이 벌써 그리운 내가 너무 보고 싶다 n 자꾸만 연락을 피하고 바쁘다며 약속을 미루고 점점 변해가는 네 모습 무심한 말투 조금씩 넌 반대로 살고 있네요 아직\n",
      "—\n",
      "떨어질 줄 몰랐던 너의 마음 같아서 아무 말 안 해도 난 알 수가 있어 오늘 넌 이별을 고민했던 밤 서로를 위한 노랠 부른 것도 세상에 누군가를 자랑한 것도 세상에 누군가를 위한 이별이라고 사랑했단 말 잊으라는 건 못해 난 그냥 이게 이별인 거니 전화기 가득 찬 너와의 추억만 있을까 봐 그래도 처음이라 힘든 거니까 처음엔 다 그런 거니까 고생했어 많이 행복했었어 너라서 유난히 좋았나 봐 시간이 다 지나가면 따스한 저 햇살 들이 친구가 되어줬던 술이 겨우 날숨 좀 쉬자 제발 마치 주문처럼 매일 읊조렸던 넌 모르는 내 슬픈 혼잣말 친구들 통해 들은 네 소식들은 그날 밤 펑펑 울다가 밤을 새웠어 늦어버린 걸 알아 끝이란 게 다 그렇잖아 더는 너 아니면 안 되는데 눈 떠 보니 이별이 무서워 자꾸 피해 보지만 이젠 널 보낼 게 우리 이제 정말 헤어지려 해 가끔 혼자 견디기 힘들어 오늘따라 더 미운 그 대가 없단 게 아직 나에겐 어색한 걸까 벅차도록 행복했던 그때가 그리워서 추억이 되어 언젠간 웃겠지 참 좋았어\n",
      "—\n",
      "떨어질 줄 몰랐던 너의 말을 믿을게 혹시 너무 그리우면 꼭 한 번만 보기로 해 좀 더 예뻐져도 훨씬 더 세련되죠도 후회하지 마나도 내 맘 때 너의 모습이 날 비춰줄까 결국 우린 끝난 사이라 하지만 돌아올 것만 같은데 들리지 않아 바보처럼 너를 보내고 말았던 걸까 우리 헤어지자고 말한 지 딱 하루 뒤 잠깐의 실수였단 걸 뒤늦게 깨달아 버린 순간 아침마다 듣던 네 목소린 이제 어제처럼 오늘도 나에게 널 사랑한다 내 전부였던 너 사랑해 너도 많이 힘들었겠지 이별을 고민했던 밤 서로를 위한 이별이라고 사랑했단 너의 마음 같아서 아무 말 안 해도 난 알 수가 있어 오늘 넌 이별을 하고 가 버리면 난 어떻게 하라고 너 없는 하루를 살아보고 너의 빈자릴 채워 본다 가끔 보고 싶어 견디기 힘들어 오늘따라 더 미운 그 대가 선명히 보이네요 그댄 아직도 왜 내 맘속에 살고 있다 너처럼 너 없는 밤 아프게 지워가지만 내 맘 때 너의 그리움까지도 그리워도 그립지는 않게 모든 순간들을 잊어 볼 것이다 그렇잖아 더는 물어보지 말 언제\n",
      "—\n"
     ]
    }
   ],
   "source": [
    "import os\n",
    "import codecs\n",
    "from bs4 import BeautifulSoup\n",
    "from konlpy.tag import Twitter\n",
    "import urllib.request\n",
    "import os, re, json, random\n",
    "\n",
    "file = open(\"../../Data/ballad_lyrics_indf.csv\",encoding='UTF-8')\n",
    "\n",
    "# 마르코프 체인 딕셔너리 만들기 --- (※1)\n",
    "def make_dic(words):\n",
    "    tmp = [\"@\"]\n",
    "    dic = {}\n",
    "    for word in words:\n",
    "        tmp.append(word)\n",
    "        if len(tmp) < 3: continue\n",
    "        if len(tmp) > 3: tmp = tmp[1:]\n",
    "        set_word3(dic, tmp)\n",
    "        if word == \".\":\n",
    "            tmp = [\"@\"]\n",
    "            continue\n",
    "    return dic\n",
    "# 딕셔너리에 데이터 등록하기 --- (※2)\n",
    "def set_word3(dic, s3):\n",
    "    w1, w2, w3 = s3\n",
    "    if not w1 in dic: dic[w1] = {}\n",
    "    if not w2 in dic[w1]: dic[w1][w2] = {}\n",
    "    if not w3 in dic[w1][w2]: dic[w1][w2][w3] = 0\n",
    "    dic[w1][w2][w3] += 1\n",
    "# 문장 만들기 --- (※3)\n",
    "def make_sentence(dic):\n",
    "    ret = []\n",
    "    if not \"@\" in dic: return \"no dic\" \n",
    "    top = dic[\"@\"]\n",
    "    w1 = word_choice(top)\n",
    "    w2 = word_choice(top[w1])\n",
    "    ret.append(w1)\n",
    "    ret.append(w2)\n",
    "    while True:\n",
    "        try:\n",
    "            w3 = word_choice(dic[w1][w2])\n",
    "            ret.append(w3)\n",
    "        except:\n",
    "            continue\n",
    "        # if w3 == \".\": break\n",
    "        if len(ret) >= 200: break\n",
    "        w1, w2 = w2, w3\n",
    "    ret = \"\".join(ret)\n",
    "    # 띄어쓰기\n",
    "    params = urllib.parse.urlencode({\n",
    "        \"_callback\": \"\",\n",
    "        \"q\": ret\n",
    "    })\n",
    "    # 네이버 맞춤법 검사기를 사용합니다.\n",
    "    # data = urllib.request.urlopen(\"https://m.search.naver.com/p/csearch/ocontent/util/SpellerProxy?\" + params)\n",
    "    data = urllib.request.urlopen(\"https://m.search.naver.com/p/csearch/ocontent/spellchecker.nhn?\" + params)\n",
    "    data = data.read().decode(\"utf-8\")[1:-2]\n",
    "    data = json.loads(data)\n",
    "    data = data[\"message\"][\"result\"][\"html\"]\n",
    "    data = soup = BeautifulSoup(data, \"html.parser\").getText()\n",
    "    # 리턴\n",
    "    return data\n",
    "\n",
    "def word_choice(sel):\n",
    "    keys = sel.keys()\n",
    "    return random.choice(list(keys))\n",
    "\n",
    "# 문장 읽어 들이기 --- (※4)\n",
    "toji_file = str(file.readlines())\n",
    "dict_file = \"../../Note/Markov/markov_ballad_sad.json\"\n",
    "if not os.path.exists(dict_file):\n",
    "    # 텍스트 파일 읽어 들이기\n",
    "    with open(toji_file, 'r', encoding='utf-8') as f:\n",
    "        text = str(f.readlines())\n",
    "\n",
    "    text = text.replace(\"…\", \"\") # 현재 koNLPy가 …을 구두점으로 잡지 못하는 문제 임시 해결\n",
    "    text = text.replace(\"n\", \"\")\n",
    "    # 형태소 분석\n",
    "   # twitter = Twitter()\n",
    "    twitter=Twitter()\n",
    "    malist = twitter.pos(text, norm=True)\n",
    "    words = []\n",
    "    for word in malist:\n",
    "        # 구두점 등은 대상에서 제외(단 마침표는 포함)\n",
    "        if not word[1] in [\"Punctuation\"]:\n",
    "            words.append(word[0])\n",
    "        if word[0] == \".\":\n",
    "            words.append(word[0])\n",
    "    # 딕셔너리 생성\n",
    "    dic = make_dic(words)\n",
    "    json.dump(dic, open(dict_file,\"w\", encoding=\"utf-8\"))\n",
    "else:\n",
    "    dic = json.load(open(dict_file,\"r\"))\n",
    "\n",
    "# 문장 만들기 — (※6)\n",
    "for i in range(5):\n",
    "    s = make_sentence(dic)\n",
    "    print(s)\n",
    "    print(\"—\")"
   ]
  },
  {
   "cell_type": "code",
   "execution_count": null,
   "metadata": {},
   "outputs": [],
   "source": []
  }
 ],
 "metadata": {
  "kernelspec": {
   "display_name": "Python 3.9.13",
   "language": "python",
   "name": "python3"
  },
  "language_info": {
   "codemirror_mode": {
    "name": "ipython",
    "version": 3
   },
   "file_extension": ".py",
   "mimetype": "text/x-python",
   "name": "python",
   "nbconvert_exporter": "python",
   "pygments_lexer": "ipython3",
   "version": "3.9.13"
  },
  "orig_nbformat": 4,
  "vscode": {
   "interpreter": {
    "hash": "00c8100a7997e958d8100731b108691612e131425235a19f9419f6b3b0ff44b3"
   }
  }
 },
 "nbformat": 4,
 "nbformat_minor": 2
}
