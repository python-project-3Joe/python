{
 "cells": [
  {
   "cell_type": "markdown",
   "metadata": {},
   "source": [
    "---\n",
    "# 무관심 가사 20개 Markov Chain 하기"
   ]
  },
  {
   "cell_type": "code",
   "execution_count": 1,
   "metadata": {},
   "outputs": [],
   "source": [
    "import pandas as pd"
   ]
  },
  {
   "cell_type": "code",
   "execution_count": 2,
   "metadata": {},
   "outputs": [],
   "source": [
    "ballad = pd.read_csv(\"../../Data/ballad_train60.csv\")"
   ]
  },
  {
   "cell_type": "code",
   "execution_count": 3,
   "metadata": {},
   "outputs": [
    {
     "data": {
      "text/html": [
       "<div>\n",
       "<style scoped>\n",
       "    .dataframe tbody tr th:only-of-type {\n",
       "        vertical-align: middle;\n",
       "    }\n",
       "\n",
       "    .dataframe tbody tr th {\n",
       "        vertical-align: top;\n",
       "    }\n",
       "\n",
       "    .dataframe thead th {\n",
       "        text-align: right;\n",
       "    }\n",
       "</style>\n",
       "<table border=\"1\" class=\"dataframe\">\n",
       "  <thead>\n",
       "    <tr style=\"text-align: right;\">\n",
       "      <th></th>\n",
       "      <th>Unnamed: 0</th>\n",
       "      <th>가수명</th>\n",
       "      <th>노래제목</th>\n",
       "      <th>발매일</th>\n",
       "      <th>가사</th>\n",
       "      <th>좋아요수</th>\n",
       "      <th>감정</th>\n",
       "    </tr>\n",
       "  </thead>\n",
       "  <tbody>\n",
       "    <tr>\n",
       "      <th>40</th>\n",
       "      <td>40</td>\n",
       "      <td>어반자카파</td>\n",
       "      <td>아직도 나를 사랑한다면</td>\n",
       "      <td>2016-05-27</td>\n",
       "      <td>노래를 불러요 우릴 헤어지게 만든 그 노래를 이 일만 끝나면 더 잘할 수 있다고 그...</td>\n",
       "      <td>7655</td>\n",
       "      <td>regret</td>\n",
       "    </tr>\n",
       "    <tr>\n",
       "      <th>41</th>\n",
       "      <td>41</td>\n",
       "      <td>수지</td>\n",
       "      <td>I Love You Boy</td>\n",
       "      <td>2017-10-11</td>\n",
       "      <td>그댈 보기 위해 먼 길을 건너왔네요 힘든 길인걸 알면서도 그저 걸었죠 I fly f...</td>\n",
       "      <td>33264</td>\n",
       "      <td>regret</td>\n",
       "    </tr>\n",
       "    <tr>\n",
       "      <th>42</th>\n",
       "      <td>42</td>\n",
       "      <td>박새별</td>\n",
       "      <td>사랑이 우릴 다시 만나게 한다면</td>\n",
       "      <td>2013-05-28</td>\n",
       "      <td>사랑이 우릴 다시 만나게 해준다면 나 그대에게 해주고 싶은 말이 너무 많아요 그댈 ...</td>\n",
       "      <td>12564</td>\n",
       "      <td>regret</td>\n",
       "    </tr>\n",
       "    <tr>\n",
       "      <th>43</th>\n",
       "      <td>43</td>\n",
       "      <td>폴킴</td>\n",
       "      <td>사랑 알 수 없나봐</td>\n",
       "      <td>2018-12-16</td>\n",
       "      <td>사랑 알 수 없나 봐 어떤 마음인지 자꾸 의심하게 돼 청개구리처럼 반대로 하게 되는...</td>\n",
       "      <td>41914</td>\n",
       "      <td>regret</td>\n",
       "    </tr>\n",
       "    <tr>\n",
       "      <th>44</th>\n",
       "      <td>44</td>\n",
       "      <td>길구봉구</td>\n",
       "      <td>다시, 우리</td>\n",
       "      <td>2018-05-24</td>\n",
       "      <td>뚜루루 온종일 비가 내렸지 눅눅히 젖은 신발을 보다가 엉겨 붙어버린 기억의 먼지 한...</td>\n",
       "      <td>33582</td>\n",
       "      <td>regret</td>\n",
       "    </tr>\n",
       "    <tr>\n",
       "      <th>45</th>\n",
       "      <td>45</td>\n",
       "      <td>소유 (SOYOU)</td>\n",
       "      <td>길에서 (Feat. 적재)</td>\n",
       "      <td>2019-12-23</td>\n",
       "      <td>하루 종일 비가 와서 니 얼굴이 또 생각 나 눈물이 났어 한 걸음 더 걸어가면 잊혀...</td>\n",
       "      <td>5946</td>\n",
       "      <td>regret</td>\n",
       "    </tr>\n",
       "    <tr>\n",
       "      <th>46</th>\n",
       "      <td>46</td>\n",
       "      <td>T.P RETRO (타디스 프로젝트舊)</td>\n",
       "      <td>오늘도 그대만 (Feat. 정동원)</td>\n",
       "      <td>2017-02-28</td>\n",
       "      <td>봄날처럼 몰래 다가왔던 나의 그대 여름 같이 뜨거웠던 우리의 시간들 어느덧 찾아온 ...</td>\n",
       "      <td>101735</td>\n",
       "      <td>regret</td>\n",
       "    </tr>\n",
       "    <tr>\n",
       "      <th>47</th>\n",
       "      <td>47</td>\n",
       "      <td>박효신</td>\n",
       "      <td>별 시 (別 時)</td>\n",
       "      <td>2018-04-30</td>\n",
       "      <td>You are my star 이 노래는 너야 불빛 하나 없는 길을 걷게 해 줄 기나...</td>\n",
       "      <td>61064</td>\n",
       "      <td>regret</td>\n",
       "    </tr>\n",
       "    <tr>\n",
       "      <th>48</th>\n",
       "      <td>48</td>\n",
       "      <td>장나라</td>\n",
       "      <td>그게 정말이니?</td>\n",
       "      <td>2003-12-03</td>\n",
       "      <td>후회는 없을거라고 그만큼 사랑했다고 지금 흔들리는 목소리로 이별을 얘기하는거니 사랑...</td>\n",
       "      <td>9600</td>\n",
       "      <td>regret</td>\n",
       "    </tr>\n",
       "    <tr>\n",
       "      <th>49</th>\n",
       "      <td>49</td>\n",
       "      <td>이진성 (먼데이 키즈)</td>\n",
       "      <td>Letter</td>\n",
       "      <td>2009-02-12</td>\n",
       "      <td>텅 빈 방안에 앉아 너의 사진을 본다 해맑았던 미소가 날 붙잡아 발이 떨어지질 않아...</td>\n",
       "      <td>9966</td>\n",
       "      <td>regret</td>\n",
       "    </tr>\n",
       "    <tr>\n",
       "      <th>50</th>\n",
       "      <td>50</td>\n",
       "      <td>경서예지</td>\n",
       "      <td>사실 나는 (Feat.전건호)</td>\n",
       "      <td>2020-04-12</td>\n",
       "      <td>그땐 우리 둘 다 철없이 어리기만 했나 봐 태어나 처음 설레는 너를 만나서 세상에 ...</td>\n",
       "      <td>94210</td>\n",
       "      <td>regret</td>\n",
       "    </tr>\n",
       "    <tr>\n",
       "      <th>51</th>\n",
       "      <td>51</td>\n",
       "      <td>임영웅</td>\n",
       "      <td>사랑은 늘 도망가</td>\n",
       "      <td>2021-10-11</td>\n",
       "      <td>눈물이 난다 이 길을 걸으면 그 사람 손길이 자꾸 생각이 난다 붙잡지 못하고 가슴만...</td>\n",
       "      <td>169270</td>\n",
       "      <td>regret</td>\n",
       "    </tr>\n",
       "    <tr>\n",
       "      <th>52</th>\n",
       "      <td>52</td>\n",
       "      <td>노형돈</td>\n",
       "      <td>이별을 통보받은 날</td>\n",
       "      <td>2021-10-11</td>\n",
       "      <td>그냥 똑같이 너를 만나서 그냥 평소와 같은 곳에 가서 이별을 통보받은 그날 나는 어...</td>\n",
       "      <td>444</td>\n",
       "      <td>regret</td>\n",
       "    </tr>\n",
       "    <tr>\n",
       "      <th>53</th>\n",
       "      <td>53</td>\n",
       "      <td>이예준</td>\n",
       "      <td>사랑이 아니었다고 말하지 마요</td>\n",
       "      <td>2022-01-09</td>\n",
       "      <td>소중한 건 금방 달아날 것만 같아 너를 지우면 그게 나이긴 한 걸까 나의 어제이고 ...</td>\n",
       "      <td>27077</td>\n",
       "      <td>regret</td>\n",
       "    </tr>\n",
       "    <tr>\n",
       "      <th>54</th>\n",
       "      <td>54</td>\n",
       "      <td>이예준</td>\n",
       "      <td>그날에 나는 맘이 편했을까</td>\n",
       "      <td>2020-12-03</td>\n",
       "      <td>늘 똑같은 일로 싸우다 지친 우리 끝날 때 됐나 봐 너답지 않던 모습 더는 지켜보기...</td>\n",
       "      <td>82983</td>\n",
       "      <td>regret</td>\n",
       "    </tr>\n",
       "    <tr>\n",
       "      <th>55</th>\n",
       "      <td>55</td>\n",
       "      <td>신예영</td>\n",
       "      <td>우리 왜 헤어져야 해</td>\n",
       "      <td>2019-11-20</td>\n",
       "      <td>이런 말 하기까지가 참 어려워서 그대를 보낼 준비가 되질 않아서 아프고 또 아파서 ...</td>\n",
       "      <td>126750</td>\n",
       "      <td>regret</td>\n",
       "    </tr>\n",
       "    <tr>\n",
       "      <th>56</th>\n",
       "      <td>56</td>\n",
       "      <td>#안녕</td>\n",
       "      <td>해요 (2022)</td>\n",
       "      <td>2022-06-07</td>\n",
       "      <td>그녀와 나는요 그땐 참 어렸어요 많이 사랑했고 때론 많이 다퉜었죠 지금 생각하면 모...</td>\n",
       "      <td>19112</td>\n",
       "      <td>regret</td>\n",
       "    </tr>\n",
       "    <tr>\n",
       "      <th>57</th>\n",
       "      <td>57</td>\n",
       "      <td>유주</td>\n",
       "      <td>날 떠나지마</td>\n",
       "      <td>2018-08-13</td>\n",
       "      <td>날 떠나지마 오늘 네 생각이 나 매일 밤 네 뒤에서 못 본 척하며 지냈어 너를 볼 ...</td>\n",
       "      <td>390</td>\n",
       "      <td>regret</td>\n",
       "    </tr>\n",
       "    <tr>\n",
       "      <th>58</th>\n",
       "      <td>58</td>\n",
       "      <td>선예</td>\n",
       "      <td>대낮에 한 이별</td>\n",
       "      <td>2022-02-04</td>\n",
       "      <td>마지막 인사를 주고받고 엉엉 울면서 서로를 한 번 꽉 안아 보고서 잘해준 게 하나도...</td>\n",
       "      <td>12671</td>\n",
       "      <td>regret</td>\n",
       "    </tr>\n",
       "    <tr>\n",
       "      <th>59</th>\n",
       "      <td>59</td>\n",
       "      <td>자신</td>\n",
       "      <td>보내야 할 때 보내지 못했어</td>\n",
       "      <td>2020-10-21</td>\n",
       "      <td>아직 너의 번호를 외우듯이 시간이 흘러도 여전한 추억 지우지 못한 한 사진 속 웃고...</td>\n",
       "      <td>616</td>\n",
       "      <td>regret</td>\n",
       "    </tr>\n",
       "  </tbody>\n",
       "</table>\n",
       "</div>"
      ],
      "text/plain": [
       "    Unnamed: 0                    가수명                 노래제목         발매일  \\\n",
       "40          40                  어반자카파         아직도 나를 사랑한다면  2016-05-27   \n",
       "41          41                     수지       I Love You Boy  2017-10-11   \n",
       "42          42                    박새별    사랑이 우릴 다시 만나게 한다면  2013-05-28   \n",
       "43          43                     폴킴           사랑 알 수 없나봐  2018-12-16   \n",
       "44          44                   길구봉구               다시, 우리  2018-05-24   \n",
       "45          45             소유 (SOYOU)       길에서 (Feat. 적재)  2019-12-23   \n",
       "46          46  T.P RETRO (타디스 프로젝트舊)  오늘도 그대만 (Feat. 정동원)  2017-02-28   \n",
       "47          47                    박효신            별 시 (別 時)  2018-04-30   \n",
       "48          48                    장나라             그게 정말이니?  2003-12-03   \n",
       "49          49           이진성 (먼데이 키즈)               Letter  2009-02-12   \n",
       "50          50                   경서예지     사실 나는 (Feat.전건호)  2020-04-12   \n",
       "51          51                    임영웅            사랑은 늘 도망가  2021-10-11   \n",
       "52          52                    노형돈           이별을 통보받은 날  2021-10-11   \n",
       "53          53                    이예준     사랑이 아니었다고 말하지 마요  2022-01-09   \n",
       "54          54                    이예준       그날에 나는 맘이 편했을까  2020-12-03   \n",
       "55          55                    신예영          우리 왜 헤어져야 해  2019-11-20   \n",
       "56          56                    #안녕            해요 (2022)  2022-06-07   \n",
       "57          57                     유주               날 떠나지마  2018-08-13   \n",
       "58          58                     선예             대낮에 한 이별  2022-02-04   \n",
       "59          59                     자신      보내야 할 때 보내지 못했어  2020-10-21   \n",
       "\n",
       "                                                   가사    좋아요수      감정  \n",
       "40  노래를 불러요 우릴 헤어지게 만든 그 노래를 이 일만 끝나면 더 잘할 수 있다고 그...    7655  regret  \n",
       "41  그댈 보기 위해 먼 길을 건너왔네요 힘든 길인걸 알면서도 그저 걸었죠 I fly f...   33264  regret  \n",
       "42  사랑이 우릴 다시 만나게 해준다면 나 그대에게 해주고 싶은 말이 너무 많아요 그댈 ...   12564  regret  \n",
       "43  사랑 알 수 없나 봐 어떤 마음인지 자꾸 의심하게 돼 청개구리처럼 반대로 하게 되는...   41914  regret  \n",
       "44  뚜루루 온종일 비가 내렸지 눅눅히 젖은 신발을 보다가 엉겨 붙어버린 기억의 먼지 한...   33582  regret  \n",
       "45  하루 종일 비가 와서 니 얼굴이 또 생각 나 눈물이 났어 한 걸음 더 걸어가면 잊혀...    5946  regret  \n",
       "46  봄날처럼 몰래 다가왔던 나의 그대 여름 같이 뜨거웠던 우리의 시간들 어느덧 찾아온 ...  101735  regret  \n",
       "47  You are my star 이 노래는 너야 불빛 하나 없는 길을 걷게 해 줄 기나...   61064  regret  \n",
       "48  후회는 없을거라고 그만큼 사랑했다고 지금 흔들리는 목소리로 이별을 얘기하는거니 사랑...    9600  regret  \n",
       "49  텅 빈 방안에 앉아 너의 사진을 본다 해맑았던 미소가 날 붙잡아 발이 떨어지질 않아...    9966  regret  \n",
       "50  그땐 우리 둘 다 철없이 어리기만 했나 봐 태어나 처음 설레는 너를 만나서 세상에 ...   94210  regret  \n",
       "51  눈물이 난다 이 길을 걸으면 그 사람 손길이 자꾸 생각이 난다 붙잡지 못하고 가슴만...  169270  regret  \n",
       "52  그냥 똑같이 너를 만나서 그냥 평소와 같은 곳에 가서 이별을 통보받은 그날 나는 어...     444  regret  \n",
       "53  소중한 건 금방 달아날 것만 같아 너를 지우면 그게 나이긴 한 걸까 나의 어제이고 ...   27077  regret  \n",
       "54  늘 똑같은 일로 싸우다 지친 우리 끝날 때 됐나 봐 너답지 않던 모습 더는 지켜보기...   82983  regret  \n",
       "55  이런 말 하기까지가 참 어려워서 그대를 보낼 준비가 되질 않아서 아프고 또 아파서 ...  126750  regret  \n",
       "56  그녀와 나는요 그땐 참 어렸어요 많이 사랑했고 때론 많이 다퉜었죠 지금 생각하면 모...   19112  regret  \n",
       "57  날 떠나지마 오늘 네 생각이 나 매일 밤 네 뒤에서 못 본 척하며 지냈어 너를 볼 ...     390  regret  \n",
       "58  마지막 인사를 주고받고 엉엉 울면서 서로를 한 번 꽉 안아 보고서 잘해준 게 하나도...   12671  regret  \n",
       "59  아직 너의 번호를 외우듯이 시간이 흘러도 여전한 추억 지우지 못한 한 사진 속 웃고...     616  regret  "
      ]
     },
     "execution_count": 3,
     "metadata": {},
     "output_type": "execute_result"
    }
   ],
   "source": [
    "ballad[ballad.감정 == \"regret\"]"
   ]
  },
  {
   "cell_type": "code",
   "execution_count": 4,
   "metadata": {},
   "outputs": [],
   "source": [
    "ballad_60 = ballad.drop(index=range(40,60),inplace=True)"
   ]
  },
  {
   "cell_type": "code",
   "execution_count": 5,
   "metadata": {},
   "outputs": [],
   "source": [
    "ballad_60"
   ]
  },
  {
   "cell_type": "code",
   "execution_count": 6,
   "metadata": {},
   "outputs": [],
   "source": [
    "ballad_lyrics_indifference = ballad[ballad.감정 == 'indifference'].가사"
   ]
  },
  {
   "cell_type": "code",
   "execution_count": 7,
   "metadata": {},
   "outputs": [
    {
     "ename": "NameError",
     "evalue": "name 'ballad_lyrics_indifference' is not defined",
     "output_type": "error",
     "traceback": [
      "\u001b[0;31m---------------------------------------------------------------------------\u001b[0m",
      "\u001b[0;31mNameError\u001b[0m                                 Traceback (most recent call last)",
      "\u001b[0;32m/var/folders/51/xmc_l6t13wv1nc5z6qmyg58r0000gn/T/ipykernel_3628/1363317036.py\u001b[0m in \u001b[0;36m<module>\u001b[0;34m\u001b[0m\n\u001b[0;32m----> 1\u001b[0;31m \u001b[0mballad_lyrics_indifference\u001b[0m\u001b[0;34m=\u001b[0m \u001b[0mpd\u001b[0m\u001b[0;34m.\u001b[0m\u001b[0mDataFrame\u001b[0m\u001b[0;34m(\u001b[0m\u001b[0mballad_lyrics_indifference\u001b[0m\u001b[0;34m)\u001b[0m\u001b[0;34m\u001b[0m\u001b[0;34m\u001b[0m\u001b[0m\n\u001b[0m\u001b[1;32m      2\u001b[0m \u001b[0mballad_lyrics_indifference\u001b[0m\u001b[0;34m.\u001b[0m\u001b[0mto_csv\u001b[0m\u001b[0;34m(\u001b[0m\u001b[0;34m\"../../Data/ballad_lyrics_indifference.csv\"\u001b[0m\u001b[0;34m,\u001b[0m\u001b[0mindex\u001b[0m\u001b[0;34m=\u001b[0m\u001b[0;32mFalse\u001b[0m\u001b[0;34m)\u001b[0m\u001b[0;34m\u001b[0m\u001b[0;34m\u001b[0m\u001b[0m\n",
      "\u001b[0;31mNameError\u001b[0m: name 'ballad_lyrics_indifference' is not defined"
     ]
    }
   ],
   "source": [
    "ballad_lyrics_indifference= pd.DataFrame(ballad_lyrics_indifference)\n",
    "ballad_lyrics_indifference.to_csv(\"../../Data/ballad_lyrics_indifference.csv\",index=False)"
   ]
  },
  {
   "cell_type": "code",
   "execution_count": null,
   "metadata": {},
   "outputs": [],
   "source": [
    "import markov\n",
    "from konlpy.tag import Okt\n",
    "import json"
   ]
  },
  {
   "cell_type": "code",
   "execution_count": null,
   "metadata": {},
   "outputs": [],
   "source": [
    "ballad_file = \"../../Note/Markov/ballad_indifference.txt\"\n",
    "dict_file = \"../../Note/Markov/markov_ballad_indifference.json\""
   ]
  },
  {
   "cell_type": "code",
   "execution_count": null,
   "metadata": {},
   "outputs": [],
   "source": [
    "file = open(\"../../Data/ballad_lyrics_indifference.csv\",encoding='UTF-8')\n",
    "text = str(file.readlines())\n",
    "text"
   ]
  },
  {
   "cell_type": "code",
   "execution_count": null,
   "metadata": {},
   "outputs": [],
   "source": [
    "text = text.split(\",\")[1:]"
   ]
  },
  {
   "cell_type": "code",
   "execution_count": null,
   "metadata": {},
   "outputs": [],
   "source": []
  },
  {
   "cell_type": "code",
   "execution_count": null,
   "metadata": {},
   "outputs": [],
   "source": [
    "total = \"\"\n",
    "for i in range(len(text)):\n",
    "     total += \" \" + text[i] + \".\" "
   ]
  },
  {
   "cell_type": "code",
   "execution_count": null,
   "metadata": {},
   "outputs": [],
   "source": [
    "len(total)"
   ]
  },
  {
   "cell_type": "code",
   "execution_count": null,
   "metadata": {},
   "outputs": [],
   "source": [
    "total= total.rstrip(\"].\")"
   ]
  },
  {
   "cell_type": "code",
   "execution_count": null,
   "metadata": {},
   "outputs": [],
   "source": [
    "total += \".\""
   ]
  },
  {
   "cell_type": "code",
   "execution_count": null,
   "metadata": {},
   "outputs": [],
   "source": [
    "total"
   ]
  },
  {
   "cell_type": "code",
   "execution_count": null,
   "metadata": {},
   "outputs": [],
   "source": [
    "# 텍스트를 한 줄씩 처리하기\n",
    "twitter = Okt()\n",
    "lines = total.split(\"\\n\")\n",
    "for line in lines:\n",
    "    malist = twitter.pos(line,norm=True,stem=False)\n",
    "    words = []\n",
    "    for word in malist:\n",
    "        if not word[1] in ['Punctuation']: # .(마침표)제외한 ? \"\" ! 를 사용하지 않음\n",
    "            words.append(word[0])\n",
    "        if word[0] == \". \":\n",
    "            words.append(word[0])"
   ]
  },
  {
   "cell_type": "code",
   "execution_count": null,
   "metadata": {},
   "outputs": [],
   "source": [
    "# 딕셔너리 생성\n",
    "dic = markov.make_dic(words)\n",
    "json.dump(dic,open(dict_file,\"w\",encoding=\"utf-8\"))"
   ]
  },
  {
   "cell_type": "code",
   "execution_count": null,
   "metadata": {},
   "outputs": [],
   "source": [
    "dic"
   ]
  },
  {
   "cell_type": "code",
   "execution_count": null,
   "metadata": {},
   "outputs": [],
   "source": [
    "# # 문장 만들기\n",
    "# for i in range(2):\n",
    "#     s = markov.make_sentence(dic)\n",
    "#     print(s)\n",
    "#     print(\"-------\")"
   ]
  },
  {
   "cell_type": "code",
   "execution_count": null,
   "metadata": {},
   "outputs": [],
   "source": []
  },
  {
   "cell_type": "code",
   "execution_count": null,
   "metadata": {},
   "outputs": [],
   "source": [
    "dic.keys()"
   ]
  },
  {
   "cell_type": "code",
   "execution_count": null,
   "metadata": {},
   "outputs": [],
   "source": [
    "dic.values()"
   ]
  }
 ],
 "metadata": {
  "kernelspec": {
   "display_name": "Python 3.9.7 ('base')",
   "language": "python",
   "name": "python3"
  },
  "language_info": {
   "codemirror_mode": {
    "name": "ipython",
    "version": 3
   },
   "file_extension": ".py",
   "mimetype": "text/x-python",
   "name": "python",
   "nbconvert_exporter": "python",
   "pygments_lexer": "ipython3",
   "version": "3.9.7"
  },
  "orig_nbformat": 4,
  "vscode": {
   "interpreter": {
    "hash": "c34e8390e776d2ee205b71ed5a6130fee3cef8da5e87e926ce18e14f4a070d72"
   }
  }
 },
 "nbformat": 4,
 "nbformat_minor": 2
}
